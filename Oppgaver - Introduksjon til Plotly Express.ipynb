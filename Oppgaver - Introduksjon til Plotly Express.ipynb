{
 "cells": [
  {
   "cell_type": "markdown",
   "metadata": {},
   "source": [
    "# Oppgaver til Plotly Express\n",
    "### Dag 2 - Databehandling og visualisering\n",
    "\n",
    "Dette er et oppgavesett for å gi deg mulighet til å prøve deg frem med å jobbe med pandas og Plotly Express. Dette er det første av to datasett dere skal få jobbet dere igjennom iløpet av kursøkten. Vi har også et par notebooks med andre datasett dere kan se på i ettertid eller om dere blir tidlig ferdig."
   ]
  },
  {
   "cell_type": "markdown",
   "metadata": {},
   "source": [
    "## Iriser\n",
    "\n",
    "Vi starter med å se nærmere på et dataset laget av Ronald Fisher, som har målt størrelsen på 150 Iriser. Datasettet er blitt et populært eksempeldatasett for databehandling og maskinlæring. I sitt datasett målte Fisher størrelsen på ulike typer Iris-blomster. \n",
    "\n",
    "Du kan lese mer om datasettet her:\n",
    "* https://en.wikipedia.org/wiki/Iris_flower_data_set\n",
    "\n",
    "<img src=https://miro.medium.com/max/1000/1*Hh53mOF4Xy4eORjLilKOwA.png width=640px>\n",
    "<center>Bilde: Ulike arter med Iris-blomster.</center>"
   ]
  },
  {
   "cell_type": "markdown",
   "metadata": {},
   "source": [
    "**Oppgave a)** Import `plotly.express` og last inn Iris-datasettet fra `px.data.iris()`. Bruk `info`, `describe` og `head` til å utforske informasjonen litt. Hvilke informasjoner har vi om de ulike blomstene? "
   ]
  },
  {
   "cell_type": "code",
   "execution_count": null,
   "metadata": {},
   "outputs": [],
   "source": [
    "import plotly.express as px\n",
    "\n",
    "data = px.data.iris()\n",
    "data.info()"
   ]
  },
  {
   "cell_type": "markdown",
   "metadata": {},
   "source": [
    "**Oppgave b)** Bruk `groupby` og `mean` for å finne gjennomsnittlige data for hver Iris-art. Hvor mange arter er det? Hvilken ser ut til å være størst?\n"
   ]
  },
  {
   "cell_type": "code",
   "execution_count": null,
   "metadata": {},
   "outputs": [],
   "source": [
    "# Fyll inn kode\n",
    "data.groupby(\"sepal_length\").mean()"
   ]
  },
  {
   "cell_type": "markdown",
   "metadata": {},
   "source": [
    "**Oppgave c)** Lag et scatter plot av \"petal length\" mot \"petal width\". Klarer du å se tre tydelige grupper? \n",
    "Du kan også legge til en `trendline='ols'` om du ønsker."
   ]
  },
  {
   "cell_type": "code",
   "execution_count": null,
   "metadata": {},
   "outputs": [],
   "source": [
    "meshtool # Fyll inn kode\n",
    "help(px.scatter())"
   ]
  },
  {
   "cell_type": "markdown",
   "metadata": {},
   "source": [
    "**Oppgave d)** Legg på farger på forrige plot, så vi kan skille de tre artene visuellt i figuren. Forklar det du ser.\n"
   ]
  },
  {
   "cell_type": "code",
   "execution_count": null,
   "metadata": {},
   "outputs": [],
   "source": [
    "# Fyll inn kode"
   ]
  },
  {
   "cell_type": "markdown",
   "metadata": {},
   "source": [
    "**Oppgave e)** Gjenta øvelsen for 'sepal width' og 'sepal length'. Forklar forskjellene i petal/sepal.\n"
   ]
  },
  {
   "cell_type": "code",
   "execution_count": null,
   "metadata": {},
   "outputs": [],
   "source": [
    "# Fyll inn kode"
   ]
  },
  {
   "cell_type": "markdown",
   "metadata": {},
   "source": [
    "Vi ønsker nå å se nærmere på sammenhenger mellom størrelsen på \"petal\" og \"sepal\". For å gjøre dette vil vi først legge til to nye kolonner i datsettet vårt.\n",
    "\n",
    "**Oppgave f)** Legg til en `petal_size` og en `sepal_size` i datasettet ved å regne ut lengde ganger bredde.\n",
    "\n"
   ]
  },
  {
   "cell_type": "code",
   "execution_count": null,
   "metadata": {},
   "outputs": [],
   "source": [
    "# Fyll inn kode"
   ]
  },
  {
   "cell_type": "markdown",
   "metadata": {},
   "source": [
    "**Oppgave g)** Lag et scatterplot av `sepal_size` mot `petal_size`. Forklar hvordan dette ser ut for de tre artene og hvordan de skiller seg."
   ]
  },
  {
   "cell_type": "code",
   "execution_count": null,
   "metadata": {},
   "outputs": [],
   "source": [
    "# Fyll inn kode"
   ]
  },
  {
   "cell_type": "markdown",
   "metadata": {},
   "source": [
    "Vi ønsker nå å se nærmere på boksplot og fiolinplott. Om du ikke kjenner til disse fra før er de vanlige måter å vise frem statistiske distribusjoner.\n",
    "\n",
    "**Oppgave 1g)** Kjør kodeboksen under. Se på resultatet og forklar hva det forteller oss (det kan være du må endre navnet på datasettet, avhengig av variabelnavn). Prøv å lage boksplot av noen andre størrelser i datasettet."
   ]
  },
  {
   "cell_type": "code",
   "execution_count": null,
   "metadata": {},
   "outputs": [],
   "source": [
    "fig = px.box(iris, x='species', y='petal_length', color='species')\n",
    "fig.show()"
   ]
  },
  {
   "cell_type": "markdown",
   "metadata": {},
   "source": [
    "**Oppgave h)** Endre fra `box` til `violin`. Forklar hva som endrer seg."
   ]
  },
  {
   "cell_type": "code",
   "execution_count": null,
   "metadata": {
    "scrolled": true
   },
   "outputs": [],
   "source": [
    "# Fyll inn kode"
   ]
  },
  {
   "cell_type": "markdown",
   "metadata": {},
   "source": [
    "**Oppgave i)** Lag på nytt et scatterplott av `petal_size` mot `sepal_size`. Legg nå til argumentene `marginal_x='box', marginal_y='box'`. Hva legger dette til figuren?"
   ]
  },
  {
   "cell_type": "code",
   "execution_count": null,
   "metadata": {
    "scrolled": true
   },
   "outputs": [],
   "source": [
    "# Fyll inn kode"
   ]
  },
  {
   "cell_type": "markdown",
   "metadata": {},
   "source": [
    "Til slutt ønsker vi å lage *hisogram*.\n",
    "\n",
    "**Oppgave j)** Lag en figur med `px.histogram`. Bruk dokumentasjonen eller `help` til å se hvilke ulike parametre du kan stille på og hva de gjør. Prøv deg frem. Se spesielt på argumentene `nbins` og `barmode`, hva gjør disse?\n",
    "\n"
   ]
  },
  {
   "cell_type": "code",
   "execution_count": null,
   "metadata": {},
   "outputs": [],
   "source": [
    "# Fyll inn kode"
   ]
  },
  {
   "cell_type": "markdown",
   "metadata": {},
   "source": [
    "**Hvis du er ferdig med dette oppgavesettet før vi går videre i kurset som gruppe kan du enten begynne å utforske et av de andre eksempeldatasettene fra Plotly Express, f.eks `px.data.tips`, eller du kan se på et av de andre oppgavesettene på github, f.eks Formel 1 eller Astroider - men disse er en kombinasjon av Pandas og Plotting.**"
   ]
  }
 ],
 "metadata": {
  "kernelspec": {
   "display_name": "Python 3",
   "language": "python",
   "name": "python3"
  },
  "language_info": {
   "codemirror_mode": {
    "name": "ipython",
    "version": 3
   },
   "file_extension": ".py",
   "mimetype": "text/x-python",
   "name": "python",
   "nbconvert_exporter": "python",
   "pygments_lexer": "ipython3",
   "version": "3.8.2"
  }
 },
 "nbformat": 4,
 "nbformat_minor": 2
}
