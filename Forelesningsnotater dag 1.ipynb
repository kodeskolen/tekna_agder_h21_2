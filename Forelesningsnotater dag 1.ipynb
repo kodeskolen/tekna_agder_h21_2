{
 "cells": [
  {
   "cell_type": "code",
   "execution_count": 1,
   "metadata": {},
   "outputs": [
    {
     "name": "stdout",
     "output_type": "stream",
     "text": [
      "Hello world!\n"
     ]
    }
   ],
   "source": [
    "print(\"Hello world!\")"
   ]
  },
  {
   "cell_type": "code",
   "execution_count": 2,
   "metadata": {},
   "outputs": [],
   "source": [
    "x = 5"
   ]
  },
  {
   "cell_type": "code",
   "execution_count": 3,
   "metadata": {},
   "outputs": [
    {
     "name": "stdout",
     "output_type": "stream",
     "text": [
      "5\n"
     ]
    }
   ],
   "source": [
    "print(x)"
   ]
  },
  {
   "cell_type": "code",
   "execution_count": 4,
   "metadata": {},
   "outputs": [],
   "source": [
    "x = 6"
   ]
  },
  {
   "cell_type": "markdown",
   "metadata": {},
   "source": [
    "# Overskrift\n",
    "\n",
    "## Underoverskrift\n",
    "\n",
    "Dette er vanlig tekst.\n",
    "\n",
    "Ny linje\n",
    "\n",
    "* Bullet points\n",
    "\n"
   ]
  },
  {
   "cell_type": "markdown",
   "metadata": {},
   "source": [
    "# Oppslagsverk\n",
    "\n",
    "* dictionaries\n",
    "* nøkkel-verdi par"
   ]
  },
  {
   "cell_type": "code",
   "execution_count": 5,
   "metadata": {},
   "outputs": [],
   "source": [
    "oppslagsverk = {\"a\":1, \"b\":2, \"c\":3}"
   ]
  },
  {
   "cell_type": "code",
   "execution_count": 6,
   "metadata": {},
   "outputs": [
    {
     "data": {
      "text/plain": [
       "1"
      ]
     },
     "execution_count": 6,
     "metadata": {},
     "output_type": "execute_result"
    }
   ],
   "source": [
    "oppslagsverk[\"a\"]"
   ]
  },
  {
   "cell_type": "code",
   "execution_count": 7,
   "metadata": {},
   "outputs": [
    {
     "data": {
      "text/plain": [
       "['a', 'b', 'c']"
      ]
     },
     "execution_count": 7,
     "metadata": {},
     "output_type": "execute_result"
    }
   ],
   "source": [
    "list(oppslagsverk)"
   ]
  },
  {
   "cell_type": "code",
   "execution_count": 8,
   "metadata": {},
   "outputs": [
    {
     "data": {
      "text/plain": [
       "3"
      ]
     },
     "execution_count": 8,
     "metadata": {},
     "output_type": "execute_result"
    }
   ],
   "source": [
    "len(oppslagsverk)"
   ]
  },
  {
   "cell_type": "code",
   "execution_count": 9,
   "metadata": {},
   "outputs": [],
   "source": [
    "oppslagsverk[\"d\"] = 4"
   ]
  },
  {
   "cell_type": "code",
   "execution_count": 10,
   "metadata": {},
   "outputs": [
    {
     "data": {
      "text/plain": [
       "['a', 'b', 'c', 'd']"
      ]
     },
     "execution_count": 10,
     "metadata": {},
     "output_type": "execute_result"
    }
   ],
   "source": [
    "list(oppslagsverk)"
   ]
  },
  {
   "cell_type": "code",
   "execution_count": 11,
   "metadata": {},
   "outputs": [],
   "source": [
    "del(oppslagsverk[\"b\"])"
   ]
  },
  {
   "cell_type": "code",
   "execution_count": 12,
   "metadata": {},
   "outputs": [
    {
     "data": {
      "text/plain": [
       "['a', 'c', 'd']"
      ]
     },
     "execution_count": 12,
     "metadata": {},
     "output_type": "execute_result"
    }
   ],
   "source": [
    "list(oppslagsverk)"
   ]
  },
  {
   "cell_type": "code",
   "execution_count": 13,
   "metadata": {},
   "outputs": [
    {
     "data": {
      "text/plain": [
       "True"
      ]
     },
     "execution_count": 13,
     "metadata": {},
     "output_type": "execute_result"
    }
   ],
   "source": [
    "\"a\" in oppslagsverk"
   ]
  },
  {
   "cell_type": "code",
   "execution_count": 14,
   "metadata": {},
   "outputs": [
    {
     "data": {
      "text/plain": [
       "True"
      ]
     },
     "execution_count": 14,
     "metadata": {},
     "output_type": "execute_result"
    }
   ],
   "source": [
    "\"b\" not in oppslagsverk"
   ]
  },
  {
   "cell_type": "code",
   "execution_count": 15,
   "metadata": {},
   "outputs": [],
   "source": [
    "B737 = {\"navn\":\"Boeing 737-800\", \"passasjerer\":189, \"vingespenn\":34.3, \"tow\":79 }\n",
    "A320 = {\"navn\":\"Airbus A320\", \"passasjerer\":150, \"vingespenn\":35.8, \"tow\":78 }\n",
    "B747 = {\"navn\":\"Boeing 747-8\",\"passasjerer\":467, \"vingespenn\":68.4, \"tow\":448 }\n",
    "E190 = {\"navn\":\"Embraer E190\", \"passasjerer\":114, \"vingespenn\":28.7, \"tow\":51}\n",
    "\n",
    "\n",
    "flymodeller = {\n",
    "    \"B737\":B737,\n",
    "    \"A320\":A320,\n",
    "    \"B747\":B747,\n",
    "    \"E190\":E190\n",
    "}"
   ]
  },
  {
   "cell_type": "code",
   "execution_count": 16,
   "metadata": {},
   "outputs": [
    {
     "data": {
      "text/plain": [
       "{'navn': 'Boeing 737-800', 'passasjerer': 189, 'vingespenn': 34.3, 'tow': 79}"
      ]
     },
     "execution_count": 16,
     "metadata": {},
     "output_type": "execute_result"
    }
   ],
   "source": [
    "flymodeller[\"B737\"]"
   ]
  },
  {
   "cell_type": "code",
   "execution_count": 17,
   "metadata": {},
   "outputs": [
    {
     "data": {
      "text/plain": [
       "189"
      ]
     },
     "execution_count": 17,
     "metadata": {},
     "output_type": "execute_result"
    }
   ],
   "source": [
    "flymodeller[\"B737\"][\"passasjerer\"]"
   ]
  },
  {
   "cell_type": "code",
   "execution_count": 20,
   "metadata": {},
   "outputs": [
    {
     "name": "stdout",
     "output_type": "stream",
     "text": [
      "34.3\n",
      "35.8\n",
      "68.4\n",
      "28.7\n",
      "Gjennomsnittlig vingespendd = 41.8 m\n"
     ]
    }
   ],
   "source": [
    "total_vingespenn = 0\n",
    "\n",
    "for fly in flymodeller:\n",
    "    #print(fly)\n",
    "    print(flymodeller[fly][\"vingespenn\"])\n",
    "    #total_vingespenn = total_vingespenn + flymodeller[fly][\"vingespenn\"]\n",
    "    total_vingespenn += flymodeller[fly][\"vingespenn\"]\n",
    "    \n",
    "gjennomsnitt_vingespenn = total_vingespenn/len(flymodeller)\n",
    "\n",
    "print(f\"Gjennomsnittlig vingespenn = {gjennomsnitt_vingespenn} m\")"
   ]
  },
  {
   "cell_type": "markdown",
   "metadata": {},
   "source": [
    "# Funksjon\n",
    "\n",
    "* argument, å kalle på, returverdi\n",
    "* keyword argument"
   ]
  },
  {
   "cell_type": "code",
   "execution_count": 22,
   "metadata": {},
   "outputs": [],
   "source": [
    "x = len(flymodeller)"
   ]
  },
  {
   "cell_type": "code",
   "execution_count": 24,
   "metadata": {},
   "outputs": [
    {
     "name": "stdout",
     "output_type": "stream",
     "text": [
      "4\n"
     ]
    }
   ],
   "source": [
    "y = print(x)"
   ]
  },
  {
   "cell_type": "code",
   "execution_count": 25,
   "metadata": {},
   "outputs": [
    {
     "name": "stdout",
     "output_type": "stream",
     "text": [
      "None\n"
     ]
    }
   ],
   "source": [
    "print(y)"
   ]
  },
  {
   "cell_type": "code",
   "execution_count": 30,
   "metadata": {},
   "outputs": [
    {
     "name": "stdout",
     "output_type": "stream",
     "text": [
      "Dette er en linje\n",
      "\n",
      "Dette er en ny linje\n"
     ]
    }
   ],
   "source": [
    "print(\"Dette er en linje\", end=\"\\n\\n\")\n",
    "print(\"Dette er en ny linje\")"
   ]
  },
  {
   "cell_type": "markdown",
   "metadata": {},
   "source": [
    "```def funksjonsnavn(argumenter):\n",
    "    ...\n",
    "    return returverdi```"
   ]
  },
  {
   "cell_type": "code",
   "execution_count": 34,
   "metadata": {},
   "outputs": [],
   "source": [
    "def fot_til_meter(lengde_i_fot=1):\n",
    "    \n",
    "    lengde_i_meter = lengde_i_fot * 0.3048\n",
    "    \n",
    "    return lengde_i_meter"
   ]
  },
  {
   "cell_type": "code",
   "execution_count": 32,
   "metadata": {},
   "outputs": [
    {
     "name": "stdout",
     "output_type": "stream",
     "text": [
      "3 fot = 0.9144000000000001 m\n"
     ]
    }
   ],
   "source": [
    "lengde_i_m = fot_til_meter(3)\n",
    "\n",
    "print(f\"{3} fot = {lengde_i_m} m\")"
   ]
  },
  {
   "cell_type": "code",
   "execution_count": 35,
   "metadata": {},
   "outputs": [
    {
     "data": {
      "text/plain": [
       "0.3048"
      ]
     },
     "execution_count": 35,
     "metadata": {},
     "output_type": "execute_result"
    }
   ],
   "source": [
    "fot_til_meter()"
   ]
  },
  {
   "cell_type": "code",
   "execution_count": 36,
   "metadata": {},
   "outputs": [
    {
     "data": {
      "text/plain": [
       "0.3048"
      ]
     },
     "execution_count": 36,
     "metadata": {},
     "output_type": "execute_result"
    }
   ],
   "source": [
    "fot_til_meter(1)"
   ]
  },
  {
   "cell_type": "markdown",
   "metadata": {},
   "source": [
    "# Pandas"
   ]
  },
  {
   "cell_type": "code",
   "execution_count": 37,
   "metadata": {},
   "outputs": [
    {
     "data": {
      "text/plain": [
       "{'B737': {'navn': 'Boeing 737-800',\n",
       "  'passasjerer': 189,\n",
       "  'vingespenn': 34.3,\n",
       "  'tow': 79},\n",
       " 'A320': {'navn': 'Airbus A320',\n",
       "  'passasjerer': 150,\n",
       "  'vingespenn': 35.8,\n",
       "  'tow': 78},\n",
       " 'B747': {'navn': 'Boeing 747-8',\n",
       "  'passasjerer': 467,\n",
       "  'vingespenn': 68.4,\n",
       "  'tow': 448},\n",
       " 'E190': {'navn': 'Embraer E190',\n",
       "  'passasjerer': 114,\n",
       "  'vingespenn': 28.7,\n",
       "  'tow': 51}}"
      ]
     },
     "execution_count": 37,
     "metadata": {},
     "output_type": "execute_result"
    }
   ],
   "source": [
    "flymodeller"
   ]
  },
  {
   "cell_type": "code",
   "execution_count": 38,
   "metadata": {},
   "outputs": [],
   "source": [
    "import pandas as pd"
   ]
  },
  {
   "cell_type": "code",
   "execution_count": 41,
   "metadata": {},
   "outputs": [],
   "source": [
    "df = pd.DataFrame.from_dict(flymodeller, orient=\"index\")"
   ]
  },
  {
   "cell_type": "code",
   "execution_count": 42,
   "metadata": {},
   "outputs": [
    {
     "data": {
      "text/html": [
       "<div>\n",
       "<style scoped>\n",
       "    .dataframe tbody tr th:only-of-type {\n",
       "        vertical-align: middle;\n",
       "    }\n",
       "\n",
       "    .dataframe tbody tr th {\n",
       "        vertical-align: top;\n",
       "    }\n",
       "\n",
       "    .dataframe thead th {\n",
       "        text-align: right;\n",
       "    }\n",
       "</style>\n",
       "<table border=\"1\" class=\"dataframe\">\n",
       "  <thead>\n",
       "    <tr style=\"text-align: right;\">\n",
       "      <th></th>\n",
       "      <th>navn</th>\n",
       "      <th>passasjerer</th>\n",
       "      <th>vingespenn</th>\n",
       "      <th>tow</th>\n",
       "    </tr>\n",
       "  </thead>\n",
       "  <tbody>\n",
       "    <tr>\n",
       "      <th>B737</th>\n",
       "      <td>Boeing 737-800</td>\n",
       "      <td>189</td>\n",
       "      <td>34.3</td>\n",
       "      <td>79</td>\n",
       "    </tr>\n",
       "    <tr>\n",
       "      <th>A320</th>\n",
       "      <td>Airbus A320</td>\n",
       "      <td>150</td>\n",
       "      <td>35.8</td>\n",
       "      <td>78</td>\n",
       "    </tr>\n",
       "    <tr>\n",
       "      <th>B747</th>\n",
       "      <td>Boeing 747-8</td>\n",
       "      <td>467</td>\n",
       "      <td>68.4</td>\n",
       "      <td>448</td>\n",
       "    </tr>\n",
       "    <tr>\n",
       "      <th>E190</th>\n",
       "      <td>Embraer E190</td>\n",
       "      <td>114</td>\n",
       "      <td>28.7</td>\n",
       "      <td>51</td>\n",
       "    </tr>\n",
       "  </tbody>\n",
       "</table>\n",
       "</div>"
      ],
      "text/plain": [
       "                navn  passasjerer  vingespenn  tow\n",
       "B737  Boeing 737-800          189        34.3   79\n",
       "A320     Airbus A320          150        35.8   78\n",
       "B747    Boeing 747-8          467        68.4  448\n",
       "E190    Embraer E190          114        28.7   51"
      ]
     },
     "execution_count": 42,
     "metadata": {},
     "output_type": "execute_result"
    }
   ],
   "source": [
    "df"
   ]
  },
  {
   "cell_type": "code",
   "execution_count": 43,
   "metadata": {},
   "outputs": [
    {
     "data": {
      "text/plain": [
       "B737    Boeing 737-800\n",
       "A320       Airbus A320\n",
       "B747      Boeing 747-8\n",
       "E190      Embraer E190\n",
       "Name: navn, dtype: object"
      ]
     },
     "execution_count": 43,
     "metadata": {},
     "output_type": "execute_result"
    }
   ],
   "source": [
    "df[\"navn\"]"
   ]
  },
  {
   "cell_type": "code",
   "execution_count": 44,
   "metadata": {},
   "outputs": [
    {
     "data": {
      "text/plain": [
       "'Airbus A320'"
      ]
     },
     "execution_count": 44,
     "metadata": {},
     "output_type": "execute_result"
    }
   ],
   "source": [
    "df[\"navn\"][\"A320\"]"
   ]
  },
  {
   "cell_type": "code",
   "execution_count": 45,
   "metadata": {},
   "outputs": [
    {
     "data": {
      "text/plain": [
       "navn           Airbus A320\n",
       "passasjerer            150\n",
       "vingespenn            35.8\n",
       "tow                     78\n",
       "Name: A320, dtype: object"
      ]
     },
     "execution_count": 45,
     "metadata": {},
     "output_type": "execute_result"
    }
   ],
   "source": [
    "df.loc[\"A320\"]"
   ]
  },
  {
   "cell_type": "code",
   "execution_count": 46,
   "metadata": {},
   "outputs": [
    {
     "data": {
      "text/plain": [
       "'Airbus A320'"
      ]
     },
     "execution_count": 46,
     "metadata": {},
     "output_type": "execute_result"
    }
   ],
   "source": [
    "df.loc[\"A320\"][\"navn\"]"
   ]
  },
  {
   "cell_type": "code",
   "execution_count": 47,
   "metadata": {},
   "outputs": [
    {
     "data": {
      "text/plain": [
       "navn           Airbus A320\n",
       "passasjerer            150\n",
       "vingespenn            35.8\n",
       "tow                     78\n",
       "Name: A320, dtype: object"
      ]
     },
     "execution_count": 47,
     "metadata": {},
     "output_type": "execute_result"
    }
   ],
   "source": [
    "df.iloc[1]"
   ]
  },
  {
   "cell_type": "code",
   "execution_count": 48,
   "metadata": {},
   "outputs": [
    {
     "data": {
      "text/plain": [
       "Index(['navn', 'passasjerer', 'vingespenn', 'tow'], dtype='object')"
      ]
     },
     "execution_count": 48,
     "metadata": {},
     "output_type": "execute_result"
    }
   ],
   "source": [
    "df.columns"
   ]
  },
  {
   "cell_type": "code",
   "execution_count": 49,
   "metadata": {},
   "outputs": [
    {
     "data": {
      "text/plain": [
       "navn            object\n",
       "passasjerer      int64\n",
       "vingespenn     float64\n",
       "tow              int64\n",
       "dtype: object"
      ]
     },
     "execution_count": 49,
     "metadata": {},
     "output_type": "execute_result"
    }
   ],
   "source": [
    "df.dtypes"
   ]
  },
  {
   "cell_type": "code",
   "execution_count": 50,
   "metadata": {},
   "outputs": [
    {
     "data": {
      "text/plain": [
       "passasjerer    230.0\n",
       "vingespenn      41.8\n",
       "tow            164.0\n",
       "dtype: float64"
      ]
     },
     "execution_count": 50,
     "metadata": {},
     "output_type": "execute_result"
    }
   ],
   "source": [
    "df.mean()"
   ]
  },
  {
   "cell_type": "code",
   "execution_count": 51,
   "metadata": {},
   "outputs": [
    {
     "data": {
      "text/plain": [
       "navn           Embraer E190\n",
       "passasjerer             467\n",
       "vingespenn             68.4\n",
       "tow                     448\n",
       "dtype: object"
      ]
     },
     "execution_count": 51,
     "metadata": {},
     "output_type": "execute_result"
    }
   ],
   "source": [
    "df.max()"
   ]
  },
  {
   "cell_type": "code",
   "execution_count": 52,
   "metadata": {},
   "outputs": [
    {
     "data": {
      "text/plain": [
       "navn           Airbus A320\n",
       "passasjerer            114\n",
       "vingespenn            28.7\n",
       "tow                     51\n",
       "dtype: object"
      ]
     },
     "execution_count": 52,
     "metadata": {},
     "output_type": "execute_result"
    }
   ],
   "source": [
    "df.min()"
   ]
  },
  {
   "cell_type": "code",
   "execution_count": 55,
   "metadata": {},
   "outputs": [],
   "source": [
    "index_max_vingespenn = df[\"vingespenn\"].idxmax()"
   ]
  },
  {
   "cell_type": "code",
   "execution_count": 57,
   "metadata": {},
   "outputs": [
    {
     "data": {
      "text/plain": [
       "'Boeing 747-8'"
      ]
     },
     "execution_count": 57,
     "metadata": {},
     "output_type": "execute_result"
    }
   ],
   "source": [
    "df.loc[index_max_vingespenn][\"navn\"]"
   ]
  },
  {
   "cell_type": "code",
   "execution_count": 58,
   "metadata": {},
   "outputs": [
    {
     "data": {
      "text/html": [
       "<div>\n",
       "<style scoped>\n",
       "    .dataframe tbody tr th:only-of-type {\n",
       "        vertical-align: middle;\n",
       "    }\n",
       "\n",
       "    .dataframe tbody tr th {\n",
       "        vertical-align: top;\n",
       "    }\n",
       "\n",
       "    .dataframe thead th {\n",
       "        text-align: right;\n",
       "    }\n",
       "</style>\n",
       "<table border=\"1\" class=\"dataframe\">\n",
       "  <thead>\n",
       "    <tr style=\"text-align: right;\">\n",
       "      <th></th>\n",
       "      <th>navn</th>\n",
       "      <th>passasjerer</th>\n",
       "      <th>vingespenn</th>\n",
       "      <th>tow</th>\n",
       "    </tr>\n",
       "  </thead>\n",
       "  <tbody>\n",
       "    <tr>\n",
       "      <th>B737</th>\n",
       "      <td>Boeing 737-800</td>\n",
       "      <td>189</td>\n",
       "      <td>34.3</td>\n",
       "      <td>79</td>\n",
       "    </tr>\n",
       "    <tr>\n",
       "      <th>A320</th>\n",
       "      <td>Airbus A320</td>\n",
       "      <td>150</td>\n",
       "      <td>35.8</td>\n",
       "      <td>78</td>\n",
       "    </tr>\n",
       "    <tr>\n",
       "      <th>B747</th>\n",
       "      <td>Boeing 747-8</td>\n",
       "      <td>467</td>\n",
       "      <td>68.4</td>\n",
       "      <td>448</td>\n",
       "    </tr>\n",
       "    <tr>\n",
       "      <th>E190</th>\n",
       "      <td>Embraer E190</td>\n",
       "      <td>114</td>\n",
       "      <td>28.7</td>\n",
       "      <td>51</td>\n",
       "    </tr>\n",
       "  </tbody>\n",
       "</table>\n",
       "</div>"
      ],
      "text/plain": [
       "                navn  passasjerer  vingespenn  tow\n",
       "B737  Boeing 737-800          189        34.3   79\n",
       "A320     Airbus A320          150        35.8   78\n",
       "B747    Boeing 747-8          467        68.4  448\n",
       "E190    Embraer E190          114        28.7   51"
      ]
     },
     "execution_count": 58,
     "metadata": {},
     "output_type": "execute_result"
    }
   ],
   "source": [
    "df"
   ]
  },
  {
   "cell_type": "code",
   "execution_count": 59,
   "metadata": {},
   "outputs": [
    {
     "data": {
      "text/plain": [
       "B737     79000\n",
       "A320     78000\n",
       "B747    448000\n",
       "E190     51000\n",
       "Name: tow, dtype: int64"
      ]
     },
     "execution_count": 59,
     "metadata": {},
     "output_type": "execute_result"
    }
   ],
   "source": [
    "df[\"tow\"]*1000"
   ]
  },
  {
   "cell_type": "code",
   "execution_count": 60,
   "metadata": {},
   "outputs": [],
   "source": [
    "df[\"tow_kg\"] = df[\"tow\"]*1000"
   ]
  },
  {
   "cell_type": "code",
   "execution_count": 61,
   "metadata": {},
   "outputs": [
    {
     "data": {
      "text/html": [
       "<div>\n",
       "<style scoped>\n",
       "    .dataframe tbody tr th:only-of-type {\n",
       "        vertical-align: middle;\n",
       "    }\n",
       "\n",
       "    .dataframe tbody tr th {\n",
       "        vertical-align: top;\n",
       "    }\n",
       "\n",
       "    .dataframe thead th {\n",
       "        text-align: right;\n",
       "    }\n",
       "</style>\n",
       "<table border=\"1\" class=\"dataframe\">\n",
       "  <thead>\n",
       "    <tr style=\"text-align: right;\">\n",
       "      <th></th>\n",
       "      <th>navn</th>\n",
       "      <th>passasjerer</th>\n",
       "      <th>vingespenn</th>\n",
       "      <th>tow</th>\n",
       "      <th>tow_kg</th>\n",
       "    </tr>\n",
       "  </thead>\n",
       "  <tbody>\n",
       "    <tr>\n",
       "      <th>B737</th>\n",
       "      <td>Boeing 737-800</td>\n",
       "      <td>189</td>\n",
       "      <td>34.3</td>\n",
       "      <td>79</td>\n",
       "      <td>79000</td>\n",
       "    </tr>\n",
       "    <tr>\n",
       "      <th>A320</th>\n",
       "      <td>Airbus A320</td>\n",
       "      <td>150</td>\n",
       "      <td>35.8</td>\n",
       "      <td>78</td>\n",
       "      <td>78000</td>\n",
       "    </tr>\n",
       "    <tr>\n",
       "      <th>B747</th>\n",
       "      <td>Boeing 747-8</td>\n",
       "      <td>467</td>\n",
       "      <td>68.4</td>\n",
       "      <td>448</td>\n",
       "      <td>448000</td>\n",
       "    </tr>\n",
       "    <tr>\n",
       "      <th>E190</th>\n",
       "      <td>Embraer E190</td>\n",
       "      <td>114</td>\n",
       "      <td>28.7</td>\n",
       "      <td>51</td>\n",
       "      <td>51000</td>\n",
       "    </tr>\n",
       "  </tbody>\n",
       "</table>\n",
       "</div>"
      ],
      "text/plain": [
       "                navn  passasjerer  vingespenn  tow  tow_kg\n",
       "B737  Boeing 737-800          189        34.3   79   79000\n",
       "A320     Airbus A320          150        35.8   78   78000\n",
       "B747    Boeing 747-8          467        68.4  448  448000\n",
       "E190    Embraer E190          114        28.7   51   51000"
      ]
     },
     "execution_count": 61,
     "metadata": {},
     "output_type": "execute_result"
    }
   ],
   "source": [
    "df"
   ]
  },
  {
   "cell_type": "code",
   "execution_count": 64,
   "metadata": {},
   "outputs": [],
   "source": [
    "df.loc[\"B747\", \"tow\"] = 70"
   ]
  },
  {
   "cell_type": "code",
   "execution_count": 65,
   "metadata": {},
   "outputs": [],
   "source": [
    "A321 = {\"navn\":\"Airbus A321\", \"passasjerer\":194, \"vingespenn\":351, \"tow\":89,\"tow_kg\":89000}"
   ]
  },
  {
   "cell_type": "code",
   "execution_count": 66,
   "metadata": {},
   "outputs": [
    {
     "data": {
      "text/html": [
       "<div>\n",
       "<style scoped>\n",
       "    .dataframe tbody tr th:only-of-type {\n",
       "        vertical-align: middle;\n",
       "    }\n",
       "\n",
       "    .dataframe tbody tr th {\n",
       "        vertical-align: top;\n",
       "    }\n",
       "\n",
       "    .dataframe thead th {\n",
       "        text-align: right;\n",
       "    }\n",
       "</style>\n",
       "<table border=\"1\" class=\"dataframe\">\n",
       "  <thead>\n",
       "    <tr style=\"text-align: right;\">\n",
       "      <th></th>\n",
       "      <th>navn</th>\n",
       "      <th>passasjerer</th>\n",
       "      <th>vingespenn</th>\n",
       "      <th>tow</th>\n",
       "      <th>tow_kg</th>\n",
       "    </tr>\n",
       "  </thead>\n",
       "  <tbody>\n",
       "    <tr>\n",
       "      <th>B737</th>\n",
       "      <td>Boeing 737-800</td>\n",
       "      <td>189</td>\n",
       "      <td>34.3</td>\n",
       "      <td>79</td>\n",
       "      <td>79000</td>\n",
       "    </tr>\n",
       "    <tr>\n",
       "      <th>A320</th>\n",
       "      <td>Airbus A320</td>\n",
       "      <td>150</td>\n",
       "      <td>35.8</td>\n",
       "      <td>78</td>\n",
       "      <td>78000</td>\n",
       "    </tr>\n",
       "    <tr>\n",
       "      <th>B747</th>\n",
       "      <td>Boeing 747-8</td>\n",
       "      <td>467</td>\n",
       "      <td>68.4</td>\n",
       "      <td>70</td>\n",
       "      <td>448000</td>\n",
       "    </tr>\n",
       "    <tr>\n",
       "      <th>E190</th>\n",
       "      <td>Embraer E190</td>\n",
       "      <td>114</td>\n",
       "      <td>28.7</td>\n",
       "      <td>51</td>\n",
       "      <td>51000</td>\n",
       "    </tr>\n",
       "  </tbody>\n",
       "</table>\n",
       "</div>"
      ],
      "text/plain": [
       "                navn  passasjerer  vingespenn  tow  tow_kg\n",
       "B737  Boeing 737-800          189        34.3   79   79000\n",
       "A320     Airbus A320          150        35.8   78   78000\n",
       "B747    Boeing 747-8          467        68.4   70  448000\n",
       "E190    Embraer E190          114        28.7   51   51000"
      ]
     },
     "execution_count": 66,
     "metadata": {},
     "output_type": "execute_result"
    }
   ],
   "source": [
    "df"
   ]
  },
  {
   "cell_type": "code",
   "execution_count": 71,
   "metadata": {},
   "outputs": [
    {
     "data": {
      "text/html": [
       "<div>\n",
       "<style scoped>\n",
       "    .dataframe tbody tr th:only-of-type {\n",
       "        vertical-align: middle;\n",
       "    }\n",
       "\n",
       "    .dataframe tbody tr th {\n",
       "        vertical-align: top;\n",
       "    }\n",
       "\n",
       "    .dataframe thead th {\n",
       "        text-align: right;\n",
       "    }\n",
       "</style>\n",
       "<table border=\"1\" class=\"dataframe\">\n",
       "  <thead>\n",
       "    <tr style=\"text-align: right;\">\n",
       "      <th></th>\n",
       "      <th>navn</th>\n",
       "      <th>passasjerer</th>\n",
       "      <th>vingespenn</th>\n",
       "      <th>tow</th>\n",
       "      <th>tow_kg</th>\n",
       "    </tr>\n",
       "  </thead>\n",
       "  <tbody>\n",
       "    <tr>\n",
       "      <th>B737</th>\n",
       "      <td>Boeing 737-800</td>\n",
       "      <td>189</td>\n",
       "      <td>34.3</td>\n",
       "      <td>79</td>\n",
       "      <td>79000</td>\n",
       "    </tr>\n",
       "    <tr>\n",
       "      <th>A320</th>\n",
       "      <td>Airbus A320</td>\n",
       "      <td>150</td>\n",
       "      <td>35.8</td>\n",
       "      <td>78</td>\n",
       "      <td>78000</td>\n",
       "    </tr>\n",
       "    <tr>\n",
       "      <th>B747</th>\n",
       "      <td>Boeing 747-8</td>\n",
       "      <td>467</td>\n",
       "      <td>68.4</td>\n",
       "      <td>70</td>\n",
       "      <td>448000</td>\n",
       "    </tr>\n",
       "    <tr>\n",
       "      <th>E190</th>\n",
       "      <td>Embraer E190</td>\n",
       "      <td>114</td>\n",
       "      <td>28.7</td>\n",
       "      <td>51</td>\n",
       "      <td>51000</td>\n",
       "    </tr>\n",
       "    <tr>\n",
       "      <th>A321</th>\n",
       "      <td>Airbus A321</td>\n",
       "      <td>194</td>\n",
       "      <td>351.0</td>\n",
       "      <td>89</td>\n",
       "      <td>89000</td>\n",
       "    </tr>\n",
       "  </tbody>\n",
       "</table>\n",
       "</div>"
      ],
      "text/plain": [
       "                navn  passasjerer  vingespenn  tow  tow_kg\n",
       "B737  Boeing 737-800          189        34.3   79   79000\n",
       "A320     Airbus A320          150        35.8   78   78000\n",
       "B747    Boeing 747-8          467        68.4   70  448000\n",
       "E190    Embraer E190          114        28.7   51   51000\n",
       "A321     Airbus A321          194       351.0   89   89000"
      ]
     },
     "execution_count": 71,
     "metadata": {},
     "output_type": "execute_result"
    }
   ],
   "source": [
    "A321 = pd.Series(A321, name=\"A321\")\n",
    "\n",
    "df = df.append(A321)"
   ]
  },
  {
   "cell_type": "code",
   "execution_count": 70,
   "metadata": {},
   "outputs": [
    {
     "data": {
      "text/html": [
       "<div>\n",
       "<style scoped>\n",
       "    .dataframe tbody tr th:only-of-type {\n",
       "        vertical-align: middle;\n",
       "    }\n",
       "\n",
       "    .dataframe tbody tr th {\n",
       "        vertical-align: top;\n",
       "    }\n",
       "\n",
       "    .dataframe thead th {\n",
       "        text-align: right;\n",
       "    }\n",
       "</style>\n",
       "<table border=\"1\" class=\"dataframe\">\n",
       "  <thead>\n",
       "    <tr style=\"text-align: right;\">\n",
       "      <th></th>\n",
       "      <th>navn</th>\n",
       "      <th>passasjerer</th>\n",
       "      <th>vingespenn</th>\n",
       "      <th>tow</th>\n",
       "      <th>tow_kg</th>\n",
       "    </tr>\n",
       "  </thead>\n",
       "  <tbody>\n",
       "    <tr>\n",
       "      <th>B737</th>\n",
       "      <td>Boeing 737-800</td>\n",
       "      <td>189</td>\n",
       "      <td>34.3</td>\n",
       "      <td>79</td>\n",
       "      <td>79000</td>\n",
       "    </tr>\n",
       "    <tr>\n",
       "      <th>A320</th>\n",
       "      <td>Airbus A320</td>\n",
       "      <td>150</td>\n",
       "      <td>35.8</td>\n",
       "      <td>78</td>\n",
       "      <td>78000</td>\n",
       "    </tr>\n",
       "    <tr>\n",
       "      <th>B747</th>\n",
       "      <td>Boeing 747-8</td>\n",
       "      <td>467</td>\n",
       "      <td>68.4</td>\n",
       "      <td>70</td>\n",
       "      <td>448000</td>\n",
       "    </tr>\n",
       "    <tr>\n",
       "      <th>E190</th>\n",
       "      <td>Embraer E190</td>\n",
       "      <td>114</td>\n",
       "      <td>28.7</td>\n",
       "      <td>51</td>\n",
       "      <td>51000</td>\n",
       "    </tr>\n",
       "  </tbody>\n",
       "</table>\n",
       "</div>"
      ],
      "text/plain": [
       "                navn  passasjerer  vingespenn  tow  tow_kg\n",
       "B737  Boeing 737-800          189        34.3   79   79000\n",
       "A320     Airbus A320          150        35.8   78   78000\n",
       "B747    Boeing 747-8          467        68.4   70  448000\n",
       "E190    Embraer E190          114        28.7   51   51000"
      ]
     },
     "execution_count": 70,
     "metadata": {},
     "output_type": "execute_result"
    }
   ],
   "source": [
    "df"
   ]
  },
  {
   "cell_type": "code",
   "execution_count": 72,
   "metadata": {},
   "outputs": [],
   "source": [
    "flights = pd.read_csv(\"M1_final.csv\")"
   ]
  },
  {
   "cell_type": "code",
   "execution_count": 73,
   "metadata": {},
   "outputs": [
    {
     "name": "stdout",
     "output_type": "stream",
     "text": [
      "<class 'pandas.core.frame.DataFrame'>\n",
      "RangeIndex: 28820 entries, 0 to 28819\n",
      "Data columns (total 23 columns):\n",
      " #   Column             Non-Null Count  Dtype  \n",
      "---  ------             --------------  -----  \n",
      " 0   MONTH              28820 non-null  int64  \n",
      " 1   DAY_OF_MONTH       28820 non-null  int64  \n",
      " 2   DAY_OF_WEEK        28820 non-null  int64  \n",
      " 3   OP_UNIQUE_CARRIER  28820 non-null  object \n",
      " 4   TAIL_NUM           28820 non-null  object \n",
      " 5   DEST               28820 non-null  object \n",
      " 6   DEP_DELAY          28820 non-null  int64  \n",
      " 7   CRS_ELAPSED_TIME   28820 non-null  int64  \n",
      " 8   DISTANCE           28820 non-null  int64  \n",
      " 9   CRS_DEP_M          28820 non-null  int64  \n",
      " 10  DEP_TIME_M         28820 non-null  int64  \n",
      " 11  CRS_ARR_M          28820 non-null  int64  \n",
      " 12  Temperature        28820 non-null  int64  \n",
      " 13  Dew Point          28820 non-null  object \n",
      " 14  Humidity           28820 non-null  int64  \n",
      " 15  Wind               28818 non-null  object \n",
      " 16  Wind Speed         28820 non-null  int64  \n",
      " 17  Wind Gust          28820 non-null  int64  \n",
      " 18  Pressure           28820 non-null  float64\n",
      " 19  Condition          28820 non-null  object \n",
      " 20  sch_dep            28820 non-null  int64  \n",
      " 21  sch_arr            28820 non-null  int64  \n",
      " 22  TAXI_OUT           28820 non-null  int64  \n",
      "dtypes: float64(1), int64(16), object(6)\n",
      "memory usage: 5.1+ MB\n"
     ]
    }
   ],
   "source": [
    "flights.info()"
   ]
  },
  {
   "cell_type": "code",
   "execution_count": 75,
   "metadata": {},
   "outputs": [
    {
     "data": {
      "text/html": [
       "<div>\n",
       "<style scoped>\n",
       "    .dataframe tbody tr th:only-of-type {\n",
       "        vertical-align: middle;\n",
       "    }\n",
       "\n",
       "    .dataframe tbody tr th {\n",
       "        vertical-align: top;\n",
       "    }\n",
       "\n",
       "    .dataframe thead th {\n",
       "        text-align: right;\n",
       "    }\n",
       "</style>\n",
       "<table border=\"1\" class=\"dataframe\">\n",
       "  <thead>\n",
       "    <tr style=\"text-align: right;\">\n",
       "      <th></th>\n",
       "      <th>MONTH</th>\n",
       "      <th>DAY_OF_MONTH</th>\n",
       "      <th>DAY_OF_WEEK</th>\n",
       "      <th>OP_UNIQUE_CARRIER</th>\n",
       "      <th>TAIL_NUM</th>\n",
       "      <th>DEST</th>\n",
       "      <th>DEP_DELAY</th>\n",
       "      <th>CRS_ELAPSED_TIME</th>\n",
       "      <th>DISTANCE</th>\n",
       "      <th>CRS_DEP_M</th>\n",
       "      <th>...</th>\n",
       "      <th>Dew Point</th>\n",
       "      <th>Humidity</th>\n",
       "      <th>Wind</th>\n",
       "      <th>Wind Speed</th>\n",
       "      <th>Wind Gust</th>\n",
       "      <th>Pressure</th>\n",
       "      <th>Condition</th>\n",
       "      <th>sch_dep</th>\n",
       "      <th>sch_arr</th>\n",
       "      <th>TAXI_OUT</th>\n",
       "    </tr>\n",
       "  </thead>\n",
       "  <tbody>\n",
       "    <tr>\n",
       "      <th>0</th>\n",
       "      <td>11</td>\n",
       "      <td>1</td>\n",
       "      <td>5</td>\n",
       "      <td>B6</td>\n",
       "      <td>N828JB</td>\n",
       "      <td>CHS</td>\n",
       "      <td>-1</td>\n",
       "      <td>124</td>\n",
       "      <td>636</td>\n",
       "      <td>324</td>\n",
       "      <td>...</td>\n",
       "      <td>34</td>\n",
       "      <td>58</td>\n",
       "      <td>W</td>\n",
       "      <td>25</td>\n",
       "      <td>38</td>\n",
       "      <td>29.86</td>\n",
       "      <td>Fair / Windy</td>\n",
       "      <td>9</td>\n",
       "      <td>17</td>\n",
       "      <td>14</td>\n",
       "    </tr>\n",
       "    <tr>\n",
       "      <th>1</th>\n",
       "      <td>11</td>\n",
       "      <td>1</td>\n",
       "      <td>5</td>\n",
       "      <td>B6</td>\n",
       "      <td>N992JB</td>\n",
       "      <td>LAX</td>\n",
       "      <td>-7</td>\n",
       "      <td>371</td>\n",
       "      <td>2475</td>\n",
       "      <td>340</td>\n",
       "      <td>...</td>\n",
       "      <td>34</td>\n",
       "      <td>58</td>\n",
       "      <td>W</td>\n",
       "      <td>25</td>\n",
       "      <td>38</td>\n",
       "      <td>29.86</td>\n",
       "      <td>Fair / Windy</td>\n",
       "      <td>9</td>\n",
       "      <td>17</td>\n",
       "      <td>15</td>\n",
       "    </tr>\n",
       "    <tr>\n",
       "      <th>2</th>\n",
       "      <td>11</td>\n",
       "      <td>1</td>\n",
       "      <td>5</td>\n",
       "      <td>B6</td>\n",
       "      <td>N959JB</td>\n",
       "      <td>FLL</td>\n",
       "      <td>40</td>\n",
       "      <td>181</td>\n",
       "      <td>1069</td>\n",
       "      <td>301</td>\n",
       "      <td>...</td>\n",
       "      <td>34</td>\n",
       "      <td>58</td>\n",
       "      <td>W</td>\n",
       "      <td>25</td>\n",
       "      <td>38</td>\n",
       "      <td>29.86</td>\n",
       "      <td>Fair / Windy</td>\n",
       "      <td>9</td>\n",
       "      <td>17</td>\n",
       "      <td>22</td>\n",
       "    </tr>\n",
       "  </tbody>\n",
       "</table>\n",
       "<p>3 rows × 23 columns</p>\n",
       "</div>"
      ],
      "text/plain": [
       "   MONTH  DAY_OF_MONTH  DAY_OF_WEEK OP_UNIQUE_CARRIER TAIL_NUM DEST  \\\n",
       "0     11             1            5                B6   N828JB  CHS   \n",
       "1     11             1            5                B6   N992JB  LAX   \n",
       "2     11             1            5                B6   N959JB  FLL   \n",
       "\n",
       "   DEP_DELAY  CRS_ELAPSED_TIME  DISTANCE  CRS_DEP_M  ...  Dew Point  Humidity  \\\n",
       "0         -1               124       636        324  ...         34        58   \n",
       "1         -7               371      2475        340  ...         34        58   \n",
       "2         40               181      1069        301  ...         34        58   \n",
       "\n",
       "   Wind Wind Speed  Wind Gust Pressure     Condition  sch_dep  sch_arr  \\\n",
       "0     W         25         38    29.86  Fair / Windy        9       17   \n",
       "1     W         25         38    29.86  Fair / Windy        9       17   \n",
       "2     W         25         38    29.86  Fair / Windy        9       17   \n",
       "\n",
       "  TAXI_OUT  \n",
       "0       14  \n",
       "1       15  \n",
       "2       22  \n",
       "\n",
       "[3 rows x 23 columns]"
      ]
     },
     "execution_count": 75,
     "metadata": {},
     "output_type": "execute_result"
    }
   ],
   "source": [
    "flights.head(3)"
   ]
  },
  {
   "cell_type": "code",
   "execution_count": 76,
   "metadata": {},
   "outputs": [],
   "source": [
    "df2 = flights[[\"MONTH\", \"DEST\", \"DISTANCE\"]]"
   ]
  },
  {
   "cell_type": "code",
   "execution_count": 77,
   "metadata": {},
   "outputs": [
    {
     "data": {
      "text/html": [
       "<div>\n",
       "<style scoped>\n",
       "    .dataframe tbody tr th:only-of-type {\n",
       "        vertical-align: middle;\n",
       "    }\n",
       "\n",
       "    .dataframe tbody tr th {\n",
       "        vertical-align: top;\n",
       "    }\n",
       "\n",
       "    .dataframe thead th {\n",
       "        text-align: right;\n",
       "    }\n",
       "</style>\n",
       "<table border=\"1\" class=\"dataframe\">\n",
       "  <thead>\n",
       "    <tr style=\"text-align: right;\">\n",
       "      <th></th>\n",
       "      <th>MONTH</th>\n",
       "      <th>DEST</th>\n",
       "      <th>DISTANCE</th>\n",
       "    </tr>\n",
       "  </thead>\n",
       "  <tbody>\n",
       "    <tr>\n",
       "      <th>0</th>\n",
       "      <td>11</td>\n",
       "      <td>CHS</td>\n",
       "      <td>636</td>\n",
       "    </tr>\n",
       "    <tr>\n",
       "      <th>1</th>\n",
       "      <td>11</td>\n",
       "      <td>LAX</td>\n",
       "      <td>2475</td>\n",
       "    </tr>\n",
       "    <tr>\n",
       "      <th>2</th>\n",
       "      <td>11</td>\n",
       "      <td>FLL</td>\n",
       "      <td>1069</td>\n",
       "    </tr>\n",
       "    <tr>\n",
       "      <th>3</th>\n",
       "      <td>11</td>\n",
       "      <td>MCO</td>\n",
       "      <td>944</td>\n",
       "    </tr>\n",
       "    <tr>\n",
       "      <th>4</th>\n",
       "      <td>11</td>\n",
       "      <td>ATL</td>\n",
       "      <td>760</td>\n",
       "    </tr>\n",
       "    <tr>\n",
       "      <th>...</th>\n",
       "      <td>...</td>\n",
       "      <td>...</td>\n",
       "      <td>...</td>\n",
       "    </tr>\n",
       "    <tr>\n",
       "      <th>28815</th>\n",
       "      <td>1</td>\n",
       "      <td>ORH</td>\n",
       "      <td>150</td>\n",
       "    </tr>\n",
       "    <tr>\n",
       "      <th>28816</th>\n",
       "      <td>1</td>\n",
       "      <td>BOS</td>\n",
       "      <td>187</td>\n",
       "    </tr>\n",
       "    <tr>\n",
       "      <th>28817</th>\n",
       "      <td>1</td>\n",
       "      <td>SEA</td>\n",
       "      <td>2422</td>\n",
       "    </tr>\n",
       "    <tr>\n",
       "      <th>28818</th>\n",
       "      <td>1</td>\n",
       "      <td>SJU</td>\n",
       "      <td>1598</td>\n",
       "    </tr>\n",
       "    <tr>\n",
       "      <th>28819</th>\n",
       "      <td>1</td>\n",
       "      <td>BQN</td>\n",
       "      <td>1576</td>\n",
       "    </tr>\n",
       "  </tbody>\n",
       "</table>\n",
       "<p>28820 rows × 3 columns</p>\n",
       "</div>"
      ],
      "text/plain": [
       "       MONTH DEST  DISTANCE\n",
       "0         11  CHS       636\n",
       "1         11  LAX      2475\n",
       "2         11  FLL      1069\n",
       "3         11  MCO       944\n",
       "4         11  ATL       760\n",
       "...      ...  ...       ...\n",
       "28815      1  ORH       150\n",
       "28816      1  BOS       187\n",
       "28817      1  SEA      2422\n",
       "28818      1  SJU      1598\n",
       "28819      1  BQN      1576\n",
       "\n",
       "[28820 rows x 3 columns]"
      ]
     },
     "execution_count": 77,
     "metadata": {},
     "output_type": "execute_result"
    }
   ],
   "source": [
    "df2"
   ]
  },
  {
   "cell_type": "code",
   "execution_count": 78,
   "metadata": {},
   "outputs": [],
   "source": [
    "df2 = df2.set_axis([\"Month\", \"Destination\", \"Distance\"], axis=\"columns\")"
   ]
  },
  {
   "cell_type": "code",
   "execution_count": 79,
   "metadata": {},
   "outputs": [
    {
     "data": {
      "text/html": [
       "<div>\n",
       "<style scoped>\n",
       "    .dataframe tbody tr th:only-of-type {\n",
       "        vertical-align: middle;\n",
       "    }\n",
       "\n",
       "    .dataframe tbody tr th {\n",
       "        vertical-align: top;\n",
       "    }\n",
       "\n",
       "    .dataframe thead th {\n",
       "        text-align: right;\n",
       "    }\n",
       "</style>\n",
       "<table border=\"1\" class=\"dataframe\">\n",
       "  <thead>\n",
       "    <tr style=\"text-align: right;\">\n",
       "      <th></th>\n",
       "      <th>Distance</th>\n",
       "    </tr>\n",
       "    <tr>\n",
       "      <th>Month</th>\n",
       "      <th></th>\n",
       "    </tr>\n",
       "  </thead>\n",
       "  <tbody>\n",
       "    <tr>\n",
       "      <th>1</th>\n",
       "      <td>12516398</td>\n",
       "    </tr>\n",
       "    <tr>\n",
       "      <th>11</th>\n",
       "      <td>12347964</td>\n",
       "    </tr>\n",
       "    <tr>\n",
       "      <th>12</th>\n",
       "      <td>11672080</td>\n",
       "    </tr>\n",
       "  </tbody>\n",
       "</table>\n",
       "</div>"
      ],
      "text/plain": [
       "       Distance\n",
       "Month          \n",
       "1      12516398\n",
       "11     12347964\n",
       "12     11672080"
      ]
     },
     "execution_count": 79,
     "metadata": {},
     "output_type": "execute_result"
    }
   ],
   "source": [
    "df2.groupby(\"Month\").sum()"
   ]
  },
  {
   "cell_type": "code",
   "execution_count": 82,
   "metadata": {},
   "outputs": [
    {
     "data": {
      "text/plain": [
       "1"
      ]
     },
     "execution_count": 82,
     "metadata": {},
     "output_type": "execute_result"
    }
   ],
   "source": [
    "df2.groupby(\"Month\").sum()[\"Distance\"].idxmax()"
   ]
  },
  {
   "cell_type": "code",
   "execution_count": null,
   "metadata": {},
   "outputs": [],
   "source": []
  }
 ],
 "metadata": {
  "kernelspec": {
   "display_name": "Python 3",
   "language": "python",
   "name": "python3"
  },
  "language_info": {
   "codemirror_mode": {
    "name": "ipython",
    "version": 3
   },
   "file_extension": ".py",
   "mimetype": "text/x-python",
   "name": "python",
   "nbconvert_exporter": "python",
   "pygments_lexer": "ipython3",
   "version": "3.8.2"
  }
 },
 "nbformat": 4,
 "nbformat_minor": 4
}
