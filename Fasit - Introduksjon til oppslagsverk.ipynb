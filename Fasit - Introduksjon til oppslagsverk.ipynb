{
 "cells": [
  {
   "cell_type": "markdown",
   "metadata": {
    "id": "0jkmezR18BdG"
   },
   "source": [
    "# Oppslagverk (dictionaries) i Python\n",
    "\n",
    "Disse oppgavene handler om oppgslagverk (eng: dictionaries) i Python, og er for deg som ikke har brukt det tidligere"
   ]
  },
  {
   "cell_type": "markdown",
   "metadata": {
    "id": "CC5TDPjV8BdV"
   },
   "source": [
    "### a)\n",
    "\n",
    "I cellen under har vi definert et enkelt oppslagsverk, med navn på fjelltopper og høyder i meter.\n",
    "\n",
    "Hva har vi brukt som nøkler (keys) i oppslagsverket?\n",
    "\n",
    "Hva er verdiene (values) i oppslagsverket?"
   ]
  },
  {
   "cell_type": "code",
   "execution_count": 7,
   "metadata": {
    "id": "aKuyFd1p8BdX"
   },
   "outputs": [],
   "source": [
    "fjelltopphøyder = {\n",
    "                \"Annapurna I\" : 8091,\n",
    "                \"Cho Oyu\" : 8188, \n",
    "                \"Dhaulagiri I\" : 8167,\n",
    "                \"K2\" : 8611, \n",
    "                \"Kangchenjunga\" : 8586, \n",
    "                \"Lhotse\" : 8516,\n",
    "                \"Makalu\" : 8485,\n",
    "                \"Manaslu\" : 8163,\n",
    "                \"Mount Everest\" : 8848, \n",
    "                \"Nanga Parbat\" : 8126,\n",
    "                \"Mount Serval\": 7681\n",
    "                }"
   ]
  },
  {
   "cell_type": "markdown",
   "metadata": {
    "id": "RxTyFW5x8BdZ"
   },
   "source": [
    "### b)\n",
    "I cellen under print ut hvor høyt Mount Everest er ved hjelp av en flettestreng.\n",
    "Vi har startet litt på koden.\n"
   ]
  },
  {
   "cell_type": "code",
   "execution_count": 8,
   "metadata": {
    "id": "rSYS0VEY8Bda",
    "outputId": "e80f4f5b-5d00-4b6c-fa0a-68e3fa2e329f"
   },
   "outputs": [
    {
     "name": "stdout",
     "output_type": "stream",
     "text": [
      "Mount Everest er 8848 m høyt.\n"
     ]
    }
   ],
   "source": [
    "print(f\"Mount Everest er {fjelltopphøyder['Mount Everest']} m høyt.\")"
   ]
  },
  {
   "cell_type": "markdown",
   "metadata": {
    "id": "p0k3x8NZ8Bdd"
   },
   "source": [
    "### c)\n",
    "Fjellet \"Mount Serval\" finnes ikke, slett det fra oppslagsverket ved hjelp av del()."
   ]
  },
  {
   "cell_type": "code",
   "execution_count": 9,
   "metadata": {
    "id": "PwA_b3Sd8Bde"
   },
   "outputs": [],
   "source": [
    "del(fjelltopphøyder[\"Mount Serval\"])"
   ]
  },
  {
   "cell_type": "markdown",
   "metadata": {
    "id": "McpcdRRz8Bdf"
   },
   "source": [
    "### d) \n",
    "Hvis vi vil ha en oversikt over hvilke fjell vi har i oppslagverket kan vi printe ut alle nøklene. Gjør det, finn også ut hvor mange fjell som er i oppslagsverket."
   ]
  },
  {
   "cell_type": "code",
   "execution_count": 10,
   "metadata": {
    "id": "NppyzRlR8Bdf"
   },
   "outputs": [
    {
     "name": "stdout",
     "output_type": "stream",
     "text": [
      "['Annapurna I', 'Cho Oyu', 'Dhaulagiri I', 'K2', 'Kangchenjunga', 'Lhotse', 'Makalu', 'Manaslu', 'Mount Everest', 'Nanga Parbat']\n"
     ]
    }
   ],
   "source": [
    "print(list(fjelltopphøyder))"
   ]
  },
  {
   "cell_type": "markdown",
   "metadata": {
    "id": "aXihDA818Bdg"
   },
   "source": [
    "### e) \n",
    "Besvar disse spørsmålene ved hjelp av python i neste celle.\n",
    "\n",
    "Er fjellet \"Makalu\" i oppslagsverket? \n",
    "\n",
    "Er fjellet \"Vinga\" i oppslagsverket?"
   ]
  },
  {
   "cell_type": "code",
   "execution_count": 11,
   "metadata": {
    "id": "Y591nP858Bdg"
   },
   "outputs": [
    {
     "name": "stdout",
     "output_type": "stream",
     "text": [
      "True\n",
      "False\n"
     ]
    }
   ],
   "source": [
    "print(\"Makalu\" in fjelltopphøyder)\n",
    "print(\"Vinga\" in fjelltopphøyder)"
   ]
  },
  {
   "cell_type": "markdown",
   "metadata": {
    "id": "6IJi_v4a8Bdh"
   },
   "source": [
    "### f) \n",
    "Bonus: Print ut hvor høyt hvert fjell er ved hjelp av en for-løkke.\n",
    "\n",
    "Bonus: I dokumentasjonen til Python finner vi en beskrivelse av all funksjonaliteten til oppgslagsverk, se linken https://docs.python.org/3/library/stdtypes.html#dict . (Dette er et ganske teknisk dokument så ikke bli forskrekket om det er vanskelig å forstå, det kommer med erfaring!)\n",
    "\n",
    "Kan du gjenkjenne noen funksjonaliteter du allerede har brukt? \n",
    "\n",
    "Prøv å bruk en av funksjonalitetene som er beskrevet på egenhånd?"
   ]
  },
  {
   "cell_type": "code",
   "execution_count": 13,
   "metadata": {},
   "outputs": [
    {
     "name": "stdout",
     "output_type": "stream",
     "text": [
      "Annapurna I er 8091 moh.\n",
      "Cho Oyu er 8188 moh.\n",
      "Dhaulagiri I er 8167 moh.\n",
      "K2 er 8611 moh.\n",
      "Kangchenjunga er 8586 moh.\n",
      "Lhotse er 8516 moh.\n",
      "Makalu er 8485 moh.\n",
      "Manaslu er 8163 moh.\n",
      "Mount Everest er 8848 moh.\n",
      "Nanga Parbat er 8126 moh.\n"
     ]
    }
   ],
   "source": [
    "for fjell in fjelltopphøyder:\n",
    "    print(f\"{fjell} er {fjelltopphøyder[fjell]} moh.\")"
   ]
  },
  {
   "cell_type": "markdown",
   "metadata": {
    "id": "MOBEmu7g8Bdi"
   },
   "source": [
    "# Oppgave 2: Doble Oppgslagsverk : Nested Dictionaries\n",
    "Eller oppslagsverk inne i oppslagsverk. (vanskelig å finne en god oversettelse, \"nestet\" er ikke riktig.)\n",
    "## Et enkelt HR-system\n",
    "### a)\n",
    "Vi skal i denne oppgaven ta for oss et program som skal gjøre noen oppgaver for å holde styr på de ansatte i en bedrift. Formålet med oppgaven er å vise fram bruksområdet til oppslagsverk, oppslagsverk som et dataset og oppslagsverk inne i oppslagsverk.\n",
    "\n",
    "Se på det følgende oppslagsverket, hva er nøklene til oppslagsverket og hva slags verdier har vi?\n",
    "\n"
   ]
  },
  {
   "cell_type": "code",
   "execution_count": 14,
   "metadata": {
    "id": "jcZJp4jn8Bdi"
   },
   "outputs": [],
   "source": [
    "ansatt1 = {\"navn\":\"Per Nordmann\",\"inntekt\":451674, \"alder\":27, \"arbeidssted\":\"Stavanger\"}"
   ]
  },
  {
   "cell_type": "markdown",
   "metadata": {
    "id": "IIH6coCF8Bdj"
   },
   "source": [
    "### b)\n",
    "Opprett et nytt oppslagsverk for deg selv eller en fiktiv person i variabelen \"ansatt2\""
   ]
  },
  {
   "cell_type": "code",
   "execution_count": 15,
   "metadata": {
    "id": "LYKyzgv38Bdj"
   },
   "outputs": [],
   "source": [
    "ansatt2 = {\"navn\":\"Julie Uv\", \"inntekt\": 500000, \"alder\": 26, \"arbeidssted\": \"Oslo\"}"
   ]
  },
  {
   "cell_type": "markdown",
   "metadata": {
    "id": "NBCxTkx_8Bdj"
   },
   "source": [
    "### c) \n",
    "Vi ønsker nå å holde styr på flere hundre ansatte ved en bedrift, men det blir fort umulig å skulle gjøre oppgaver med og håndtere mange variabler av typen \"ansatt1\", \"ansatt2\", \"ansatt3\" osv. Vi oppretter derfor et nytt oppslagsverk, hvis nøkler er den ansatte sitt ansattnummer og verdien er oppslagsverket som vi brukte i sted. Se på eksempelet under som legger \"ansatt1\" inn i et oppslagsverk, og gjør det samme med \"ansatt2\" selv, med ansattnummeret 2."
   ]
  },
  {
   "cell_type": "code",
   "execution_count": 16,
   "metadata": {
    "id": "PhU5xvQo8Bdk"
   },
   "outputs": [],
   "source": [
    "ansatte = {}\n",
    "ansatte[1] = ansatt1\n",
    "\n",
    "#legg inn ansatt2 her\n",
    "ansatte[2] = ansatt2"
   ]
  },
  {
   "cell_type": "markdown",
   "metadata": {
    "id": "OhRmd_fF8Bdk"
   },
   "source": [
    "### c)\n",
    "\n",
    "Print ut hele oppslagsverket og prøv å se om du forstår utskriften. Kan du se nøklene og verdiene i oppslagsverket?"
   ]
  },
  {
   "cell_type": "code",
   "execution_count": 19,
   "metadata": {
    "id": "CfDiuZBY8Bdl"
   },
   "outputs": [
    {
     "name": "stdout",
     "output_type": "stream",
     "text": [
      "{1: {'navn': 'Per Nordmann', 'inntekt': 451674, 'alder': 27, 'arbeidssted': 'Stavanger'}, 2: {'navn': 'Julie Uv', 'inntekt': 500000, 'alder': 26, 'arbeidssted': 'Oslo'}}\n"
     ]
    }
   ],
   "source": [
    "#print ....\n",
    "print(ansatte)\n"
   ]
  },
  {
   "cell_type": "markdown",
   "metadata": {
    "id": "3HF9b74D8Bdl"
   },
   "source": [
    "### d)\n",
    "\n",
    "Koden under genererer svært mange ansatte til bedriften din, kjør den og print ut oppslagsverket i cellen under. Er det enkelt å få informasjon fra denne visningen? Gjerne også se på koden som generer ansatte, den bruker nok noen funksjoner du ikke kjenner til, men det er en god øvelse å se om du forstår hva som skjer!"
   ]
  },
  {
   "cell_type": "code",
   "execution_count": 20,
   "metadata": {
    "id": "AsiTcspH8Bdl"
   },
   "outputs": [],
   "source": [
    "import numpy as np\n",
    "def generer_ansatte(antall_ansatte, ansatte):\n",
    "    #trenger disse pakkene\n",
    "    from random import choice\n",
    "    \n",
    "    #mulige navn å trekke blant, legg gjerne til dine egne alternativer i listene her!!!\n",
    "    mulige_fornavn = [\"Jan\",\"Kåre\",\"Per\",\"Åse\",\"Marie\",\"Helene\",\"Johan\",\"Bente\"]\n",
    "    mulige_etternavn = [\"Nordmann\", \"Sand\", \"Tjelta\", \"Hagen\", \"Smith\", \"Hansen\", \"Persson\", \"Martinsen\"]\n",
    "    mulige_arbeidssteder = [\"Stavanger\",\"Oslo\",\"Bergen\",\"Trondheim\"]\n",
    "    \n",
    "    #løkke gjennom alle ansatte\n",
    "    for ansattnummer in range(3,antall_ansatte+3):\n",
    "        #generer tilfeldige verdier\n",
    "        navn = choice(mulige_fornavn) + \" \" + choice(mulige_etternavn)\n",
    "        inntekt = round(np.random.normal(599765, 100000))\n",
    "        alder = round(np.random.uniform(20,67))\n",
    "        arbeidssted = choice(mulige_arbeidssteder)\n",
    "        #plasser dem inn i oppslagsverk (her er det viktig å se på forskjellen mellom hva det er \"\" rundt og ikke)\n",
    "        ansatte[ansattnummer] = {\"navn\":navn,\"inntekt\":inntekt,\"alder\":alder,\"arbeidssted\":arbeidssted}\n",
    "    return ansatte\n",
    "\n",
    "ansatte = generer_ansatte(round(np.random.uniform(70,130)),ansatte)"
   ]
  },
  {
   "cell_type": "code",
   "execution_count": 21,
   "metadata": {
    "id": "Z0Vhe5Ay8Bdm"
   },
   "outputs": [
    {
     "name": "stdout",
     "output_type": "stream",
     "text": [
      "{1: {'navn': 'Per Nordmann', 'inntekt': 451674, 'alder': 27, 'arbeidssted': 'Stavanger'}, 2: {'navn': 'Julie Uv', 'inntekt': 500000, 'alder': 26, 'arbeidssted': 'Oslo'}, 3: {'navn': 'Marie Martinsen', 'inntekt': 587442, 'alder': 57, 'arbeidssted': 'Oslo'}, 4: {'navn': 'Johan Sand', 'inntekt': 629821, 'alder': 25, 'arbeidssted': 'Bergen'}, 5: {'navn': 'Kåre Nordmann', 'inntekt': 731684, 'alder': 29, 'arbeidssted': 'Trondheim'}, 6: {'navn': 'Bente Hagen', 'inntekt': 637874, 'alder': 36, 'arbeidssted': 'Bergen'}, 7: {'navn': 'Johan Martinsen', 'inntekt': 565535, 'alder': 58, 'arbeidssted': 'Oslo'}, 8: {'navn': 'Jan Smith', 'inntekt': 685567, 'alder': 21, 'arbeidssted': 'Bergen'}, 9: {'navn': 'Åse Sand', 'inntekt': 725417, 'alder': 61, 'arbeidssted': 'Oslo'}, 10: {'navn': 'Johan Persson', 'inntekt': 428032, 'alder': 47, 'arbeidssted': 'Oslo'}, 11: {'navn': 'Jan Martinsen', 'inntekt': 800259, 'alder': 38, 'arbeidssted': 'Oslo'}, 12: {'navn': 'Helene Hagen', 'inntekt': 560295, 'alder': 48, 'arbeidssted': 'Trondheim'}, 13: {'navn': 'Kåre Hansen', 'inntekt': 590209, 'alder': 27, 'arbeidssted': 'Bergen'}, 14: {'navn': 'Åse Persson', 'inntekt': 692991, 'alder': 58, 'arbeidssted': 'Stavanger'}, 15: {'navn': 'Jan Hagen', 'inntekt': 528828, 'alder': 62, 'arbeidssted': 'Trondheim'}, 16: {'navn': 'Bente Persson', 'inntekt': 778735, 'alder': 47, 'arbeidssted': 'Stavanger'}, 17: {'navn': 'Johan Hagen', 'inntekt': 668262, 'alder': 23, 'arbeidssted': 'Stavanger'}, 18: {'navn': 'Johan Nordmann', 'inntekt': 623513, 'alder': 30, 'arbeidssted': 'Oslo'}, 19: {'navn': 'Helene Sand', 'inntekt': 576644, 'alder': 28, 'arbeidssted': 'Bergen'}, 20: {'navn': 'Marie Nordmann', 'inntekt': 467524, 'alder': 25, 'arbeidssted': 'Trondheim'}, 21: {'navn': 'Helene Persson', 'inntekt': 478364, 'alder': 27, 'arbeidssted': 'Trondheim'}, 22: {'navn': 'Johan Smith', 'inntekt': 693928, 'alder': 60, 'arbeidssted': 'Stavanger'}, 23: {'navn': 'Bente Sand', 'inntekt': 541935, 'alder': 65, 'arbeidssted': 'Stavanger'}, 24: {'navn': 'Helene Sand', 'inntekt': 625007, 'alder': 30, 'arbeidssted': 'Oslo'}, 25: {'navn': 'Helene Persson', 'inntekt': 485743, 'alder': 46, 'arbeidssted': 'Oslo'}, 26: {'navn': 'Marie Smith', 'inntekt': 479428, 'alder': 41, 'arbeidssted': 'Oslo'}, 27: {'navn': 'Kåre Hansen', 'inntekt': 800726, 'alder': 21, 'arbeidssted': 'Oslo'}, 28: {'navn': 'Bente Tjelta', 'inntekt': 599825, 'alder': 31, 'arbeidssted': 'Bergen'}, 29: {'navn': 'Marie Tjelta', 'inntekt': 624287, 'alder': 47, 'arbeidssted': 'Stavanger'}, 30: {'navn': 'Per Martinsen', 'inntekt': 536686, 'alder': 28, 'arbeidssted': 'Bergen'}, 31: {'navn': 'Helene Tjelta', 'inntekt': 411188, 'alder': 44, 'arbeidssted': 'Bergen'}, 32: {'navn': 'Helene Sand', 'inntekt': 555209, 'alder': 25, 'arbeidssted': 'Bergen'}, 33: {'navn': 'Jan Tjelta', 'inntekt': 769772, 'alder': 59, 'arbeidssted': 'Stavanger'}, 34: {'navn': 'Åse Tjelta', 'inntekt': 629173, 'alder': 65, 'arbeidssted': 'Oslo'}, 35: {'navn': 'Kåre Smith', 'inntekt': 226535, 'alder': 32, 'arbeidssted': 'Bergen'}, 36: {'navn': 'Åse Hansen', 'inntekt': 556990, 'alder': 46, 'arbeidssted': 'Oslo'}, 37: {'navn': 'Helene Hansen', 'inntekt': 454340, 'alder': 57, 'arbeidssted': 'Oslo'}, 38: {'navn': 'Per Hagen', 'inntekt': 701134, 'alder': 34, 'arbeidssted': 'Bergen'}, 39: {'navn': 'Helene Hagen', 'inntekt': 705110, 'alder': 33, 'arbeidssted': 'Bergen'}, 40: {'navn': 'Per Hansen', 'inntekt': 505187, 'alder': 58, 'arbeidssted': 'Stavanger'}, 41: {'navn': 'Bente Martinsen', 'inntekt': 685694, 'alder': 40, 'arbeidssted': 'Oslo'}, 42: {'navn': 'Per Nordmann', 'inntekt': 651141, 'alder': 30, 'arbeidssted': 'Trondheim'}, 43: {'navn': 'Bente Tjelta', 'inntekt': 472542, 'alder': 61, 'arbeidssted': 'Stavanger'}, 44: {'navn': 'Helene Nordmann', 'inntekt': 702811, 'alder': 28, 'arbeidssted': 'Trondheim'}, 45: {'navn': 'Johan Persson', 'inntekt': 643762, 'alder': 65, 'arbeidssted': 'Bergen'}, 46: {'navn': 'Johan Sand', 'inntekt': 570976, 'alder': 60, 'arbeidssted': 'Trondheim'}, 47: {'navn': 'Åse Martinsen', 'inntekt': 840036, 'alder': 45, 'arbeidssted': 'Oslo'}, 48: {'navn': 'Kåre Sand', 'inntekt': 603351, 'alder': 34, 'arbeidssted': 'Oslo'}, 49: {'navn': 'Åse Persson', 'inntekt': 498060, 'alder': 64, 'arbeidssted': 'Bergen'}, 50: {'navn': 'Kåre Hagen', 'inntekt': 589217, 'alder': 62, 'arbeidssted': 'Bergen'}, 51: {'navn': 'Jan Sand', 'inntekt': 523302, 'alder': 38, 'arbeidssted': 'Oslo'}, 52: {'navn': 'Per Tjelta', 'inntekt': 459920, 'alder': 53, 'arbeidssted': 'Bergen'}, 53: {'navn': 'Johan Smith', 'inntekt': 529393, 'alder': 37, 'arbeidssted': 'Trondheim'}, 54: {'navn': 'Åse Hansen', 'inntekt': 655020, 'alder': 31, 'arbeidssted': 'Oslo'}, 55: {'navn': 'Marie Sand', 'inntekt': 502335, 'alder': 26, 'arbeidssted': 'Oslo'}, 56: {'navn': 'Åse Martinsen', 'inntekt': 694543, 'alder': 63, 'arbeidssted': 'Bergen'}, 57: {'navn': 'Per Sand', 'inntekt': 726723, 'alder': 51, 'arbeidssted': 'Oslo'}, 58: {'navn': 'Kåre Persson', 'inntekt': 351871, 'alder': 47, 'arbeidssted': 'Oslo'}, 59: {'navn': 'Helene Martinsen', 'inntekt': 749719, 'alder': 38, 'arbeidssted': 'Trondheim'}, 60: {'navn': 'Jan Nordmann', 'inntekt': 718854, 'alder': 49, 'arbeidssted': 'Trondheim'}, 61: {'navn': 'Marie Hagen', 'inntekt': 684709, 'alder': 50, 'arbeidssted': 'Trondheim'}, 62: {'navn': 'Bente Tjelta', 'inntekt': 618272, 'alder': 62, 'arbeidssted': 'Trondheim'}, 63: {'navn': 'Marie Hansen', 'inntekt': 468217, 'alder': 56, 'arbeidssted': 'Oslo'}, 64: {'navn': 'Jan Sand', 'inntekt': 455621, 'alder': 32, 'arbeidssted': 'Oslo'}, 65: {'navn': 'Helene Martinsen', 'inntekt': 626077, 'alder': 54, 'arbeidssted': 'Trondheim'}, 66: {'navn': 'Johan Hansen', 'inntekt': 725071, 'alder': 31, 'arbeidssted': 'Oslo'}, 67: {'navn': 'Bente Persson', 'inntekt': 351587, 'alder': 43, 'arbeidssted': 'Bergen'}, 68: {'navn': 'Kåre Nordmann', 'inntekt': 612607, 'alder': 21, 'arbeidssted': 'Bergen'}, 69: {'navn': 'Per Sand', 'inntekt': 487490, 'alder': 50, 'arbeidssted': 'Bergen'}, 70: {'navn': 'Bente Smith', 'inntekt': 368165, 'alder': 60, 'arbeidssted': 'Oslo'}, 71: {'navn': 'Johan Sand', 'inntekt': 472853, 'alder': 30, 'arbeidssted': 'Bergen'}, 72: {'navn': 'Johan Sand', 'inntekt': 602104, 'alder': 42, 'arbeidssted': 'Trondheim'}, 73: {'navn': 'Jan Nordmann', 'inntekt': 649507, 'alder': 20, 'arbeidssted': 'Bergen'}, 74: {'navn': 'Kåre Martinsen', 'inntekt': 686501, 'alder': 51, 'arbeidssted': 'Stavanger'}, 75: {'navn': 'Bente Nordmann', 'inntekt': 583209, 'alder': 36, 'arbeidssted': 'Trondheim'}, 76: {'navn': 'Bente Smith', 'inntekt': 471496, 'alder': 24, 'arbeidssted': 'Stavanger'}, 77: {'navn': 'Jan Persson', 'inntekt': 602838, 'alder': 33, 'arbeidssted': 'Oslo'}, 78: {'navn': 'Per Smith', 'inntekt': 583316, 'alder': 32, 'arbeidssted': 'Stavanger'}, 79: {'navn': 'Per Martinsen', 'inntekt': 709266, 'alder': 59, 'arbeidssted': 'Stavanger'}, 80: {'navn': 'Marie Hansen', 'inntekt': 777809, 'alder': 27, 'arbeidssted': 'Bergen'}, 81: {'navn': 'Helene Hansen', 'inntekt': 424527, 'alder': 30, 'arbeidssted': 'Stavanger'}, 82: {'navn': 'Åse Hagen', 'inntekt': 414741, 'alder': 32, 'arbeidssted': 'Bergen'}}\n"
     ]
    }
   ],
   "source": [
    "#print ... \n",
    "print(ansatte)"
   ]
  },
  {
   "cell_type": "markdown",
   "metadata": {
    "id": "1k-6pzqP8Bdn"
   },
   "source": [
    "### e)\n",
    "\n",
    "Vi har nå ganske mange ansatte og det å håndtere dem en og en vil ta veldig mye tid. \n",
    "Hvor mange ansatte er det i bedriften nå?\n",
    "Hint: hvor mange nøkler har vi?\n"
   ]
  },
  {
   "cell_type": "code",
   "execution_count": 22,
   "metadata": {},
   "outputs": [
    {
     "name": "stdout",
     "output_type": "stream",
     "text": [
      "82\n"
     ]
    }
   ],
   "source": [
    "print(len(ansatte))"
   ]
  },
  {
   "cell_type": "markdown",
   "metadata": {
    "id": "JgJLQQSw8Bdn"
   },
   "source": [
    "### f)\n",
    "\n",
    "Følgende kodesnutt printer ut navnet om hver ansatt, kan du modifisere den til å finne den som tjener mest?"
   ]
  },
  {
   "cell_type": "code",
   "execution_count": 28,
   "metadata": {
    "id": "40SNbc3t8Bdn",
    "outputId": "6b588842-ba6f-4510-f3fa-fdfc3977f56f"
   },
   "outputs": [
    {
     "name": "stdout",
     "output_type": "stream",
     "text": [
      "Ansatt Åse Martinsen har mest inntekt (840036 kr).\n"
     ]
    }
   ],
   "source": [
    "maks_inntekt = 0\n",
    "for ansatt in ansatte:\n",
    "    #print(f\"Ansatt nummer {ansatt}, heter {ansatte[ansatt]['navn']}.\")\n",
    "    if ansatte[ansatt][\"inntekt\"] > maks_inntekt:\n",
    "        ansatt_med_maks_inntekt = ansatte[ansatt][\"navn\"]\n",
    "        maks_inntekt = ansatte[ansatt][\"inntekt\"]\n",
    "print(f\"Ansatt {ansatt_med_maks_inntekt} har mest inntekt ({maks_inntekt} kr).\")"
   ]
  },
  {
   "cell_type": "markdown",
   "metadata": {
    "id": "97hIItV_8Bdo"
   },
   "source": [
    "### g)\n",
    "Velg ett eller flere av punktene og svar på spørsmålet.\n",
    "- Hva er gjennomsnittsalderen på de ansatte?\n",
    "- Hvor mye bruker bedriften på lønninger?  \n",
    "- Hvem tjener mest?\n",
    "- Hvilken ansatt er yngst?\n",
    "- Ved hvilket kontor sitter det flest ansatte? (Hint: Definer et oppslagsverk hvis nøkler er stedet og verdi er antallet som jobber der) \n",
    "- Hva er det mest populære etternavnet i bedriften? (Hint: Forrige oppgave)"
   ]
  },
  {
   "cell_type": "code",
   "execution_count": 31,
   "metadata": {
    "id": "0dmy6C9v8Bdo"
   },
   "outputs": [
    {
     "name": "stdout",
     "output_type": "stream",
     "text": [
      "Gjennomsnittsalder er 41.7\n"
     ]
    }
   ],
   "source": [
    "gj_alder = 0\n",
    "for ansatt in ansatte:\n",
    "    gj_alder += ansatte[ansatt][\"alder\"]/len(ansatte)\n",
    "print(f\"Gjennomsnittsalder er {round(gj_alder,2)}\")"
   ]
  },
  {
   "cell_type": "code",
   "execution_count": 34,
   "metadata": {
    "id": "joJh5hjj8Bdo"
   },
   "outputs": [
    {
     "name": "stdout",
     "output_type": "stream",
     "text": [
      "Totale utgifter ved lønning er 48156126 kr\n"
     ]
    }
   ],
   "source": [
    "total_lønning = 0\n",
    "for ansatt in ansatte:\n",
    "    total_lønning += ansatte[ansatt][\"inntekt\"]\n",
    "    \n",
    "print(f\"Totale utgifter ved lønning er {total_lønning} kr\")"
   ]
  },
  {
   "cell_type": "code",
   "execution_count": 35,
   "metadata": {},
   "outputs": [
    {
     "name": "stdout",
     "output_type": "stream",
     "text": [
      "Ansatt Kåre Smith har mest inntekt (226535 kr).\n"
     ]
    }
   ],
   "source": [
    "minst_lønn = 10000000\n",
    "for ansatt in ansatte:\n",
    "    if ansatte[ansatt][\"inntekt\"] < minst_lønn:\n",
    "        ansatt_med_minst_lønn = ansatte[ansatt][\"navn\"]\n",
    "        minst_lønn = ansatte[ansatt][\"inntekt\"]\n",
    "        \n",
    "print(f\"Ansatt {ansatt_med_minst_lønn} har mest inntekt ({minst_lønn} kr).\")\n",
    "    "
   ]
  },
  {
   "cell_type": "code",
   "execution_count": 37,
   "metadata": {},
   "outputs": [
    {
     "name": "stdout",
     "output_type": "stream",
     "text": [
      "Ansatt Jan Nordmann har lavest alder (20 år).\n"
     ]
    }
   ],
   "source": [
    "lavest_alder = 100\n",
    "for ansatt in ansatte:\n",
    "    if ansatte[ansatt][\"alder\"] < lavest_alder:\n",
    "        ansatt_med_lavest_alder = ansatte[ansatt][\"navn\"]\n",
    "        lavest_alder = ansatte[ansatt][\"alder\"]\n",
    "        \n",
    "print(f\"Ansatt {ansatt_med_lavest_alder} har lavest alder ({lavest_alder} år).\")\n",
    "    "
   ]
  },
  {
   "cell_type": "code",
   "execution_count": 61,
   "metadata": {},
   "outputs": [
    {
     "name": "stdout",
     "output_type": "stream",
     "text": [
      "{'Stavanger': 15, 'Oslo': 27, 'Bergen': 24, 'Trondheim': 16}\n"
     ]
    }
   ],
   "source": [
    "kontorer ={} \n",
    "\n",
    "for ansatt in ansatte:\n",
    "    arbeidssted = ansatte[ansatt][\"arbeidssted\"]\n",
    "    \n",
    "    if arbeidssted not in kontorer:\n",
    "        kontorer[arbeidssted] = 1\n",
    "    else:\n",
    "        kontorer[arbeidssted] += 1\n",
    "    \n",
    "print(kontorer)"
   ]
  },
  {
   "cell_type": "code",
   "execution_count": 60,
   "metadata": {},
   "outputs": [
    {
     "name": "stdout",
     "output_type": "stream",
     "text": [
      "{'Nordmann': 10, 'Uv': 1, 'Martinsen': 11, 'Sand': 15, 'Hagen': 9, 'Smith': 8, 'Persson': 10, 'Hansen': 10, 'Tjelta': 8}\n"
     ]
    }
   ],
   "source": [
    "etternavn_popularitet = {} \n",
    "\n",
    "for ansatt in ansatte:\n",
    "    navn = ansatte[ansatt][\"navn\"]\n",
    "    etternavn = navn.split()[-1]\n",
    "    \n",
    "    if etternavn not in etternavn_popularitet:\n",
    "        etternavn_popularitet[etternavn] = 1\n",
    "    else:\n",
    "        etternavn_popularitet[etternavn] += 1\n",
    "    \n",
    "print(etternavn_popularitet)\n",
    "# mest populære etternavn er Sand"
   ]
  }
 ],
 "metadata": {
  "colab": {
   "collapsed_sections": [],
   "name": "Skisse for Introduksjon til Oppslagsverk.ipynb",
   "provenance": []
  },
  "kernelspec": {
   "display_name": "Python 3",
   "language": "python",
   "name": "python3"
  },
  "language_info": {
   "codemirror_mode": {
    "name": "ipython",
    "version": 3
   },
   "file_extension": ".py",
   "mimetype": "text/x-python",
   "name": "python",
   "nbconvert_exporter": "python",
   "pygments_lexer": "ipython3",
   "version": "3.8.2"
  }
 },
 "nbformat": 4,
 "nbformat_minor": 1
}
