{
 "cells": [
  {
   "cell_type": "code",
   "execution_count": 1,
   "metadata": {},
   "outputs": [
    {
     "name": "stdout",
     "output_type": "stream",
     "text": [
      "Hei\n"
     ]
    }
   ],
   "source": [
    "print(\"Hei\")"
   ]
  },
  {
   "cell_type": "markdown",
   "metadata": {},
   "source": [
    "Vanlig tekst"
   ]
  },
  {
   "cell_type": "code",
   "execution_count": 2,
   "metadata": {},
   "outputs": [
    {
     "data": {
      "text/plain": [
       "1"
      ]
     },
     "execution_count": 2,
     "metadata": {},
     "output_type": "execute_result"
    }
   ],
   "source": [
    "liste = [1, 2, 3]\n",
    "liste[0]"
   ]
  },
  {
   "cell_type": "code",
   "execution_count": 3,
   "metadata": {},
   "outputs": [
    {
     "data": {
      "text/plain": [
       "'Julie'"
      ]
     },
     "execution_count": 3,
     "metadata": {},
     "output_type": "execute_result"
    }
   ],
   "source": [
    "oppslagsverk = {\"navn\": \"Julie\", \"alder\": 26}\n",
    "oppslagsverk[\"navn\"]"
   ]
  },
  {
   "cell_type": "code",
   "execution_count": 4,
   "metadata": {},
   "outputs": [],
   "source": [
    "B737 = {\"navn\":\"Boeing 737-800\", \"passasjerer\":189, \"vingespenn\":34.3, \"tow\":79 }\n",
    "A320 = {\"navn\":\"Airbus A320\", \"passasjerer\":150, \"vingespenn\":35.8, \"tow\":78 }\n",
    "B747 = {\"navn\":\"Boeing 747-8\",\"passasjerer\":467, \"vingespenn\":68.4, \"tow\":448 }\n",
    "E190 = {\"navn\":\"Embraer E190\", \"passasjerer\":114, \"vingespenn\":28.7, \"tow\":51}\n",
    "\n",
    "\n",
    "flymodeller = {\n",
    "    \"B737\":B737,\n",
    "    \"A320\":A320,\n",
    "    \"B747\":B747,\n",
    "    \"E190\":E190\n",
    "}"
   ]
  },
  {
   "cell_type": "code",
   "execution_count": 5,
   "metadata": {},
   "outputs": [
    {
     "data": {
      "text/plain": [
       "467"
      ]
     },
     "execution_count": 5,
     "metadata": {},
     "output_type": "execute_result"
    }
   ],
   "source": [
    "flymodeller[\"B747\"][\"passasjerer\"]"
   ]
  },
  {
   "cell_type": "code",
   "execution_count": 8,
   "metadata": {},
   "outputs": [
    {
     "name": "stdout",
     "output_type": "stream",
     "text": [
      "34.3\n",
      "35.8\n",
      "68.4\n",
      "28.7\n"
     ]
    }
   ],
   "source": [
    "for fly in flymodeller.values():\n",
    "    print(fly[\"vingespenn\"])\n",
    "    #flymodeller[fly][\"vingespenn\"]"
   ]
  },
  {
   "cell_type": "code",
   "execution_count": 11,
   "metadata": {},
   "outputs": [],
   "source": [
    "def dobble(verdi, n=1):\n",
    "    returverdi = verdi * 2**n\n",
    "    return returverdi"
   ]
  },
  {
   "cell_type": "code",
   "execution_count": 12,
   "metadata": {},
   "outputs": [
    {
     "data": {
      "text/plain": [
       "8"
      ]
     },
     "execution_count": 12,
     "metadata": {},
     "output_type": "execute_result"
    }
   ],
   "source": [
    "dobble(4)"
   ]
  },
  {
   "cell_type": "code",
   "execution_count": 13,
   "metadata": {},
   "outputs": [
    {
     "data": {
      "text/plain": [
       "32"
      ]
     },
     "execution_count": 13,
     "metadata": {},
     "output_type": "execute_result"
    }
   ],
   "source": [
    "dobble(4, n=3)"
   ]
  },
  {
   "cell_type": "code",
   "execution_count": 14,
   "metadata": {},
   "outputs": [],
   "source": [
    "import pandas as pd"
   ]
  },
  {
   "cell_type": "code",
   "execution_count": 15,
   "metadata": {},
   "outputs": [],
   "source": [
    "flydata = pd.DataFrame.from_dict(flymodeller, orient=\"index\")"
   ]
  },
  {
   "cell_type": "code",
   "execution_count": 16,
   "metadata": {},
   "outputs": [
    {
     "name": "stdout",
     "output_type": "stream",
     "text": [
      "Help on method from_dict in module pandas.core.frame:\n",
      "\n",
      "from_dict(data, orient='columns', dtype=None, columns=None) -> 'DataFrame' method of builtins.type instance\n",
      "    Construct DataFrame from dict of array-like or dicts.\n",
      "    \n",
      "    Creates DataFrame object from dictionary by columns or by index\n",
      "    allowing dtype specification.\n",
      "    \n",
      "    Parameters\n",
      "    ----------\n",
      "    data : dict\n",
      "        Of the form {field : array-like} or {field : dict}.\n",
      "    orient : {'columns', 'index'}, default 'columns'\n",
      "        The \"orientation\" of the data. If the keys of the passed dict\n",
      "        should be the columns of the resulting DataFrame, pass 'columns'\n",
      "        (default). Otherwise if the keys should be rows, pass 'index'.\n",
      "    dtype : dtype, default None\n",
      "        Data type to force, otherwise infer.\n",
      "    columns : list, default None\n",
      "        Column labels to use when ``orient='index'``. Raises a ValueError\n",
      "        if used with ``orient='columns'``.\n",
      "    \n",
      "        .. versionadded:: 0.23.0\n",
      "    \n",
      "    Returns\n",
      "    -------\n",
      "    DataFrame\n",
      "    \n",
      "    See Also\n",
      "    --------\n",
      "    DataFrame.from_records : DataFrame from ndarray (structured\n",
      "        dtype), list of tuples, dict, or DataFrame.\n",
      "    DataFrame : DataFrame object creation using constructor.\n",
      "    \n",
      "    Examples\n",
      "    --------\n",
      "    By default the keys of the dict become the DataFrame columns:\n",
      "    \n",
      "    >>> data = {'col_1': [3, 2, 1, 0], 'col_2': ['a', 'b', 'c', 'd']}\n",
      "    >>> pd.DataFrame.from_dict(data)\n",
      "       col_1 col_2\n",
      "    0      3     a\n",
      "    1      2     b\n",
      "    2      1     c\n",
      "    3      0     d\n",
      "    \n",
      "    Specify ``orient='index'`` to create the DataFrame using dictionary\n",
      "    keys as rows:\n",
      "    \n",
      "    >>> data = {'row_1': [3, 2, 1, 0], 'row_2': ['a', 'b', 'c', 'd']}\n",
      "    >>> pd.DataFrame.from_dict(data, orient='index')\n",
      "           0  1  2  3\n",
      "    row_1  3  2  1  0\n",
      "    row_2  a  b  c  d\n",
      "    \n",
      "    When using the 'index' orientation, the column names can be\n",
      "    specified manually:\n",
      "    \n",
      "    >>> pd.DataFrame.from_dict(data, orient='index',\n",
      "    ...                        columns=['A', 'B', 'C', 'D'])\n",
      "           A  B  C  D\n",
      "    row_1  3  2  1  0\n",
      "    row_2  a  b  c  d\n",
      "\n"
     ]
    }
   ],
   "source": [
    "help(pd.DataFrame.from_dict)"
   ]
  },
  {
   "cell_type": "markdown",
   "metadata": {},
   "source": [
    "# Plotly Express\n"
   ]
  },
  {
   "cell_type": "code",
   "execution_count": 17,
   "metadata": {},
   "outputs": [],
   "source": [
    "import plotly.express as px"
   ]
  },
  {
   "cell_type": "code",
   "execution_count": 18,
   "metadata": {},
   "outputs": [
    {
     "data": {
      "text/html": [
       "<div>\n",
       "<style scoped>\n",
       "    .dataframe tbody tr th:only-of-type {\n",
       "        vertical-align: middle;\n",
       "    }\n",
       "\n",
       "    .dataframe tbody tr th {\n",
       "        vertical-align: top;\n",
       "    }\n",
       "\n",
       "    .dataframe thead th {\n",
       "        text-align: right;\n",
       "    }\n",
       "</style>\n",
       "<table border=\"1\" class=\"dataframe\">\n",
       "  <thead>\n",
       "    <tr style=\"text-align: right;\">\n",
       "      <th></th>\n",
       "      <th>navn</th>\n",
       "      <th>passasjerer</th>\n",
       "      <th>vingespenn</th>\n",
       "      <th>tow</th>\n",
       "    </tr>\n",
       "  </thead>\n",
       "  <tbody>\n",
       "    <tr>\n",
       "      <th>B737</th>\n",
       "      <td>Boeing 737-800</td>\n",
       "      <td>189</td>\n",
       "      <td>34.3</td>\n",
       "      <td>79</td>\n",
       "    </tr>\n",
       "    <tr>\n",
       "      <th>A320</th>\n",
       "      <td>Airbus A320</td>\n",
       "      <td>150</td>\n",
       "      <td>35.8</td>\n",
       "      <td>78</td>\n",
       "    </tr>\n",
       "    <tr>\n",
       "      <th>B747</th>\n",
       "      <td>Boeing 747-8</td>\n",
       "      <td>467</td>\n",
       "      <td>68.4</td>\n",
       "      <td>448</td>\n",
       "    </tr>\n",
       "    <tr>\n",
       "      <th>E190</th>\n",
       "      <td>Embraer E190</td>\n",
       "      <td>114</td>\n",
       "      <td>28.7</td>\n",
       "      <td>51</td>\n",
       "    </tr>\n",
       "  </tbody>\n",
       "</table>\n",
       "</div>"
      ],
      "text/plain": [
       "                navn  passasjerer  vingespenn  tow\n",
       "B737  Boeing 737-800          189        34.3   79\n",
       "A320     Airbus A320          150        35.8   78\n",
       "B747    Boeing 747-8          467        68.4  448\n",
       "E190    Embraer E190          114        28.7   51"
      ]
     },
     "execution_count": 18,
     "metadata": {},
     "output_type": "execute_result"
    }
   ],
   "source": [
    "flydata.head()"
   ]
  },
  {
   "cell_type": "markdown",
   "metadata": {},
   "source": [
    "```fig = px.plottype(dataframe, parametre)\n",
    "fig.show()```"
   ]
  },
  {
   "cell_type": "code",
   "execution_count": 19,
   "metadata": {},
   "outputs": [
    {
     "name": "stdout",
     "output_type": "stream",
     "text": [
      "Help on function bar in module plotly.express._chart_types:\n",
      "\n",
      "bar(data_frame=None, x=None, y=None, color=None, pattern_shape=None, facet_row=None, facet_col=None, facet_col_wrap=0, facet_row_spacing=None, facet_col_spacing=None, hover_name=None, hover_data=None, custom_data=None, text=None, base=None, error_x=None, error_x_minus=None, error_y=None, error_y_minus=None, animation_frame=None, animation_group=None, category_orders=None, labels=None, color_discrete_sequence=None, color_discrete_map=None, color_continuous_scale=None, pattern_shape_sequence=None, pattern_shape_map=None, range_color=None, color_continuous_midpoint=None, opacity=None, orientation=None, barmode='relative', log_x=False, log_y=False, range_x=None, range_y=None, title=None, template=None, width=None, height=None)\n",
      "        In a bar plot, each row of `data_frame` is represented as a rectangular\n",
      "        mark.\n",
      "        \n",
      "    Parameters\n",
      "    ----------\n",
      "    data_frame: DataFrame or array-like or dict\n",
      "        This argument needs to be passed for column names (and not keyword\n",
      "        names) to be used. Array-like and dict are tranformed internally to a\n",
      "        pandas DataFrame. Optional: if missing, a DataFrame gets constructed\n",
      "        under the hood using the other arguments.\n",
      "    x: str or int or Series or array-like\n",
      "        Either a name of a column in `data_frame`, or a pandas Series or\n",
      "        array_like object. Values from this column or array_like are used to\n",
      "        position marks along the x axis in cartesian coordinates. Either `x` or\n",
      "        `y` can optionally be a list of column references or array_likes,  in\n",
      "        which case the data will be treated as if it were 'wide' rather than\n",
      "        'long'.\n",
      "    y: str or int or Series or array-like\n",
      "        Either a name of a column in `data_frame`, or a pandas Series or\n",
      "        array_like object. Values from this column or array_like are used to\n",
      "        position marks along the y axis in cartesian coordinates. Either `x` or\n",
      "        `y` can optionally be a list of column references or array_likes,  in\n",
      "        which case the data will be treated as if it were 'wide' rather than\n",
      "        'long'.\n",
      "    color: str or int or Series or array-like\n",
      "        Either a name of a column in `data_frame`, or a pandas Series or\n",
      "        array_like object. Values from this column or array_like are used to\n",
      "        assign color to marks.\n",
      "    pattern_shape: str or int or Series or array-like\n",
      "        Either a name of a column in `data_frame`, or a pandas Series or\n",
      "        array_like object. Values from this column or array_like are used to\n",
      "        assign pattern shapes to marks.\n",
      "    facet_row: str or int or Series or array-like\n",
      "        Either a name of a column in `data_frame`, or a pandas Series or\n",
      "        array_like object. Values from this column or array_like are used to\n",
      "        assign marks to facetted subplots in the vertical direction.\n",
      "    facet_col: str or int or Series or array-like\n",
      "        Either a name of a column in `data_frame`, or a pandas Series or\n",
      "        array_like object. Values from this column or array_like are used to\n",
      "        assign marks to facetted subplots in the horizontal direction.\n",
      "    facet_col_wrap: int\n",
      "        Maximum number of facet columns. Wraps the column variable at this\n",
      "        width, so that the column facets span multiple rows. Ignored if 0, and\n",
      "        forced to 0 if `facet_row` or a `marginal` is set.\n",
      "    facet_row_spacing: float between 0 and 1\n",
      "        Spacing between facet rows, in paper units. Default is 0.03 or 0.0.7\n",
      "        when facet_col_wrap is used.\n",
      "    facet_col_spacing: float between 0 and 1\n",
      "        Spacing between facet columns, in paper units Default is 0.02.\n",
      "    hover_name: str or int or Series or array-like\n",
      "        Either a name of a column in `data_frame`, or a pandas Series or\n",
      "        array_like object. Values from this column or array_like appear in bold\n",
      "        in the hover tooltip.\n",
      "    hover_data: list of str or int, or Series or array-like, or dict\n",
      "        Either a list of names of columns in `data_frame`, or pandas Series, or\n",
      "        array_like objects or a dict with column names as keys, with values\n",
      "        True (for default formatting) False (in order to remove this column\n",
      "        from hover information), or a formatting string, for example ':.3f' or\n",
      "        '|%a' or list-like data to appear in the hover tooltip or tuples with a\n",
      "        bool or formatting string as first element, and list-like data to\n",
      "        appear in hover as second element Values from these columns appear as\n",
      "        extra data in the hover tooltip.\n",
      "    custom_data: list of str or int, or Series or array-like\n",
      "        Either names of columns in `data_frame`, or pandas Series, or\n",
      "        array_like objects Values from these columns are extra data, to be used\n",
      "        in widgets or Dash callbacks for example. This data is not user-visible\n",
      "        but is included in events emitted by the figure (lasso selection etc.)\n",
      "    text: str or int or Series or array-like\n",
      "        Either a name of a column in `data_frame`, or a pandas Series or\n",
      "        array_like object. Values from this column or array_like appear in the\n",
      "        figure as text labels.\n",
      "    base: str or int or Series or array-like\n",
      "        Either a name of a column in `data_frame`, or a pandas Series or\n",
      "        array_like object. Values from this column or array_like are used to\n",
      "        position the base of the bar.\n",
      "    error_x: str or int or Series or array-like\n",
      "        Either a name of a column in `data_frame`, or a pandas Series or\n",
      "        array_like object. Values from this column or array_like are used to\n",
      "        size x-axis error bars. If `error_x_minus` is `None`, error bars will\n",
      "        be symmetrical, otherwise `error_x` is used for the positive direction\n",
      "        only.\n",
      "    error_x_minus: str or int or Series or array-like\n",
      "        Either a name of a column in `data_frame`, or a pandas Series or\n",
      "        array_like object. Values from this column or array_like are used to\n",
      "        size x-axis error bars in the negative direction. Ignored if `error_x`\n",
      "        is `None`.\n",
      "    error_y: str or int or Series or array-like\n",
      "        Either a name of a column in `data_frame`, or a pandas Series or\n",
      "        array_like object. Values from this column or array_like are used to\n",
      "        size y-axis error bars. If `error_y_minus` is `None`, error bars will\n",
      "        be symmetrical, otherwise `error_y` is used for the positive direction\n",
      "        only.\n",
      "    error_y_minus: str or int or Series or array-like\n",
      "        Either a name of a column in `data_frame`, or a pandas Series or\n",
      "        array_like object. Values from this column or array_like are used to\n",
      "        size y-axis error bars in the negative direction. Ignored if `error_y`\n",
      "        is `None`.\n",
      "    animation_frame: str or int or Series or array-like\n",
      "        Either a name of a column in `data_frame`, or a pandas Series or\n",
      "        array_like object. Values from this column or array_like are used to\n",
      "        assign marks to animation frames.\n",
      "    animation_group: str or int or Series or array-like\n",
      "        Either a name of a column in `data_frame`, or a pandas Series or\n",
      "        array_like object. Values from this column or array_like are used to\n",
      "        provide object-constancy across animation frames: rows with matching\n",
      "        `animation_group`s will be treated as if they describe the same object\n",
      "        in each frame.\n",
      "    category_orders: dict with str keys and list of str values (default `{}`)\n",
      "        By default, in Python 3.6+, the order of categorical values in axes,\n",
      "        legends and facets depends on the order in which these values are first\n",
      "        encountered in `data_frame` (and no order is guaranteed by default in\n",
      "        Python below 3.6). This parameter is used to force a specific ordering\n",
      "        of values per column. The keys of this dict should correspond to column\n",
      "        names, and the values should be lists of strings corresponding to the\n",
      "        specific display order desired.\n",
      "    labels: dict with str keys and str values (default `{}`)\n",
      "        By default, column names are used in the figure for axis titles, legend\n",
      "        entries and hovers. This parameter allows this to be overridden. The\n",
      "        keys of this dict should correspond to column names, and the values\n",
      "        should correspond to the desired label to be displayed.\n",
      "    color_discrete_sequence: list of str\n",
      "        Strings should define valid CSS-colors. When `color` is set and the\n",
      "        values in the corresponding column are not numeric, values in that\n",
      "        column are assigned colors by cycling through `color_discrete_sequence`\n",
      "        in the order described in `category_orders`, unless the value of\n",
      "        `color` is a key in `color_discrete_map`. Various useful color\n",
      "        sequences are available in the `plotly.express.colors` submodules,\n",
      "        specifically `plotly.express.colors.qualitative`.\n",
      "    color_discrete_map: dict with str keys and str values (default `{}`)\n",
      "        String values should define valid CSS-colors Used to override\n",
      "        `color_discrete_sequence` to assign a specific colors to marks\n",
      "        corresponding with specific values. Keys in `color_discrete_map` should\n",
      "        be values in the column denoted by `color`. Alternatively, if the\n",
      "        values of `color` are valid colors, the string `'identity'` may be\n",
      "        passed to cause them to be used directly.\n",
      "    color_continuous_scale: list of str\n",
      "        Strings should define valid CSS-colors This list is used to build a\n",
      "        continuous color scale when the column denoted by `color` contains\n",
      "        numeric data. Various useful color scales are available in the\n",
      "        `plotly.express.colors` submodules, specifically\n",
      "        `plotly.express.colors.sequential`, `plotly.express.colors.diverging`\n",
      "        and `plotly.express.colors.cyclical`.\n",
      "    pattern_shape_sequence: list of str\n",
      "        Strings should define valid plotly.js patterns-shapes. When\n",
      "        `pattern_shape` is set, values in that column are assigned patterns-\n",
      "        shapes by cycling through `pattern_shape_sequence` in the order\n",
      "        described in `category_orders`, unless the value of `pattern_shape` is\n",
      "        a key in `pattern_shape_map`.\n",
      "    pattern_shape_map: dict with str keys and str values (default `{}`)\n",
      "        Strings values define plotly.js patterns-shapes. Used to override\n",
      "        `pattern_shape_sequences` to assign a specific patterns-shapes to lines\n",
      "        corresponding with specific values. Keys in `pattern_shape_map` should\n",
      "        be values in the column denoted by `pattern_shape`. Alternatively, if\n",
      "        the values of `pattern_shape` are valid patterns-shapes names, the\n",
      "        string `'identity'` may be passed to cause them to be used directly.\n",
      "    range_color: list of two numbers\n",
      "        If provided, overrides auto-scaling on the continuous color scale.\n",
      "    color_continuous_midpoint: number (default `None`)\n",
      "        If set, computes the bounds of the continuous color scale to have the\n",
      "        desired midpoint. Setting this value is recommended when using\n",
      "        `plotly.express.colors.diverging` color scales as the inputs to\n",
      "        `color_continuous_scale`.\n",
      "    opacity: float\n",
      "        Value between 0 and 1. Sets the opacity for markers.\n",
      "    orientation: str, one of `'h'` for horizontal or `'v'` for vertical. \n",
      "        (default `'v'` if `x` and `y` are provided and both continous or both\n",
      "        categorical,  otherwise `'v'`(`'h'`) if `x`(`y`) is categorical and\n",
      "        `y`(`x`) is continuous,  otherwise `'v'`(`'h'`) if only `x`(`y`) is\n",
      "        provided)\n",
      "    barmode: str (default `'relative'`)\n",
      "        One of `'group'`, `'overlay'` or `'relative'` In `'relative'` mode,\n",
      "        bars are stacked above zero for positive values and below zero for\n",
      "        negative values. In `'overlay'` mode, bars are drawn on top of one\n",
      "        another. In `'group'` mode, bars are placed beside each other.\n",
      "    log_x: boolean (default `False`)\n",
      "        If `True`, the x-axis is log-scaled in cartesian coordinates.\n",
      "    log_y: boolean (default `False`)\n",
      "        If `True`, the y-axis is log-scaled in cartesian coordinates.\n",
      "    range_x: list of two numbers\n",
      "        If provided, overrides auto-scaling on the x-axis in cartesian\n",
      "        coordinates.\n",
      "    range_y: list of two numbers\n",
      "        If provided, overrides auto-scaling on the y-axis in cartesian\n",
      "        coordinates.\n",
      "    title: str\n",
      "        The figure title.\n",
      "    template: str or dict or plotly.graph_objects.layout.Template instance\n",
      "        The figure template name (must be a key in plotly.io.templates) or\n",
      "        definition.\n",
      "    width: int (default `None`)\n",
      "        The figure width in pixels.\n",
      "    height: int (default `None`)\n",
      "        The figure height in pixels.\n",
      "    \n",
      "    Returns\n",
      "    -------\n",
      "        plotly.graph_objects.Figure\n",
      "\n"
     ]
    }
   ],
   "source": [
    "help(px.bar)"
   ]
  },
  {
   "cell_type": "code",
   "execution_count": 21,
   "metadata": {},
   "outputs": [
    {
     "data": {
      "application/vnd.plotly.v1+json": {
       "config": {
        "plotlyServerURL": "https://plot.ly"
       },
       "data": [
        {
         "alignmentgroup": "True",
         "hovertemplate": "navn=%{x}<br>vingespenn=%{y}<extra></extra>",
         "legendgroup": "Boeing 737-800",
         "marker": {
          "color": "#636efa",
          "pattern": {
           "shape": ""
          }
         },
         "name": "Boeing 737-800",
         "offsetgroup": "Boeing 737-800",
         "orientation": "v",
         "showlegend": true,
         "textposition": "auto",
         "type": "bar",
         "x": [
          "Boeing 737-800"
         ],
         "xaxis": "x",
         "y": [
          34.3
         ],
         "yaxis": "y"
        },
        {
         "alignmentgroup": "True",
         "hovertemplate": "navn=%{x}<br>vingespenn=%{y}<extra></extra>",
         "legendgroup": "Airbus A320",
         "marker": {
          "color": "#EF553B",
          "pattern": {
           "shape": ""
          }
         },
         "name": "Airbus A320",
         "offsetgroup": "Airbus A320",
         "orientation": "v",
         "showlegend": true,
         "textposition": "auto",
         "type": "bar",
         "x": [
          "Airbus A320"
         ],
         "xaxis": "x",
         "y": [
          35.8
         ],
         "yaxis": "y"
        },
        {
         "alignmentgroup": "True",
         "hovertemplate": "navn=%{x}<br>vingespenn=%{y}<extra></extra>",
         "legendgroup": "Boeing 747-8",
         "marker": {
          "color": "#00cc96",
          "pattern": {
           "shape": ""
          }
         },
         "name": "Boeing 747-8",
         "offsetgroup": "Boeing 747-8",
         "orientation": "v",
         "showlegend": true,
         "textposition": "auto",
         "type": "bar",
         "x": [
          "Boeing 747-8"
         ],
         "xaxis": "x",
         "y": [
          68.4
         ],
         "yaxis": "y"
        },
        {
         "alignmentgroup": "True",
         "hovertemplate": "navn=%{x}<br>vingespenn=%{y}<extra></extra>",
         "legendgroup": "Embraer E190",
         "marker": {
          "color": "#ab63fa",
          "pattern": {
           "shape": ""
          }
         },
         "name": "Embraer E190",
         "offsetgroup": "Embraer E190",
         "orientation": "v",
         "showlegend": true,
         "textposition": "auto",
         "type": "bar",
         "x": [
          "Embraer E190"
         ],
         "xaxis": "x",
         "y": [
          28.7
         ],
         "yaxis": "y"
        }
       ],
       "layout": {
        "barmode": "relative",
        "legend": {
         "title": {
          "text": "navn"
         },
         "tracegroupgap": 0
        },
        "margin": {
         "t": 60
        },
        "template": {
         "data": {
          "bar": [
           {
            "error_x": {
             "color": "#2a3f5f"
            },
            "error_y": {
             "color": "#2a3f5f"
            },
            "marker": {
             "line": {
              "color": "#E5ECF6",
              "width": 0.5
             },
             "pattern": {
              "fillmode": "overlay",
              "size": 10,
              "solidity": 0.2
             }
            },
            "type": "bar"
           }
          ],
          "barpolar": [
           {
            "marker": {
             "line": {
              "color": "#E5ECF6",
              "width": 0.5
             },
             "pattern": {
              "fillmode": "overlay",
              "size": 10,
              "solidity": 0.2
             }
            },
            "type": "barpolar"
           }
          ],
          "carpet": [
           {
            "aaxis": {
             "endlinecolor": "#2a3f5f",
             "gridcolor": "white",
             "linecolor": "white",
             "minorgridcolor": "white",
             "startlinecolor": "#2a3f5f"
            },
            "baxis": {
             "endlinecolor": "#2a3f5f",
             "gridcolor": "white",
             "linecolor": "white",
             "minorgridcolor": "white",
             "startlinecolor": "#2a3f5f"
            },
            "type": "carpet"
           }
          ],
          "choropleth": [
           {
            "colorbar": {
             "outlinewidth": 0,
             "ticks": ""
            },
            "type": "choropleth"
           }
          ],
          "contour": [
           {
            "colorbar": {
             "outlinewidth": 0,
             "ticks": ""
            },
            "colorscale": [
             [
              0,
              "#0d0887"
             ],
             [
              0.1111111111111111,
              "#46039f"
             ],
             [
              0.2222222222222222,
              "#7201a8"
             ],
             [
              0.3333333333333333,
              "#9c179e"
             ],
             [
              0.4444444444444444,
              "#bd3786"
             ],
             [
              0.5555555555555556,
              "#d8576b"
             ],
             [
              0.6666666666666666,
              "#ed7953"
             ],
             [
              0.7777777777777778,
              "#fb9f3a"
             ],
             [
              0.8888888888888888,
              "#fdca26"
             ],
             [
              1,
              "#f0f921"
             ]
            ],
            "type": "contour"
           }
          ],
          "contourcarpet": [
           {
            "colorbar": {
             "outlinewidth": 0,
             "ticks": ""
            },
            "type": "contourcarpet"
           }
          ],
          "heatmap": [
           {
            "colorbar": {
             "outlinewidth": 0,
             "ticks": ""
            },
            "colorscale": [
             [
              0,
              "#0d0887"
             ],
             [
              0.1111111111111111,
              "#46039f"
             ],
             [
              0.2222222222222222,
              "#7201a8"
             ],
             [
              0.3333333333333333,
              "#9c179e"
             ],
             [
              0.4444444444444444,
              "#bd3786"
             ],
             [
              0.5555555555555556,
              "#d8576b"
             ],
             [
              0.6666666666666666,
              "#ed7953"
             ],
             [
              0.7777777777777778,
              "#fb9f3a"
             ],
             [
              0.8888888888888888,
              "#fdca26"
             ],
             [
              1,
              "#f0f921"
             ]
            ],
            "type": "heatmap"
           }
          ],
          "heatmapgl": [
           {
            "colorbar": {
             "outlinewidth": 0,
             "ticks": ""
            },
            "colorscale": [
             [
              0,
              "#0d0887"
             ],
             [
              0.1111111111111111,
              "#46039f"
             ],
             [
              0.2222222222222222,
              "#7201a8"
             ],
             [
              0.3333333333333333,
              "#9c179e"
             ],
             [
              0.4444444444444444,
              "#bd3786"
             ],
             [
              0.5555555555555556,
              "#d8576b"
             ],
             [
              0.6666666666666666,
              "#ed7953"
             ],
             [
              0.7777777777777778,
              "#fb9f3a"
             ],
             [
              0.8888888888888888,
              "#fdca26"
             ],
             [
              1,
              "#f0f921"
             ]
            ],
            "type": "heatmapgl"
           }
          ],
          "histogram": [
           {
            "marker": {
             "pattern": {
              "fillmode": "overlay",
              "size": 10,
              "solidity": 0.2
             }
            },
            "type": "histogram"
           }
          ],
          "histogram2d": [
           {
            "colorbar": {
             "outlinewidth": 0,
             "ticks": ""
            },
            "colorscale": [
             [
              0,
              "#0d0887"
             ],
             [
              0.1111111111111111,
              "#46039f"
             ],
             [
              0.2222222222222222,
              "#7201a8"
             ],
             [
              0.3333333333333333,
              "#9c179e"
             ],
             [
              0.4444444444444444,
              "#bd3786"
             ],
             [
              0.5555555555555556,
              "#d8576b"
             ],
             [
              0.6666666666666666,
              "#ed7953"
             ],
             [
              0.7777777777777778,
              "#fb9f3a"
             ],
             [
              0.8888888888888888,
              "#fdca26"
             ],
             [
              1,
              "#f0f921"
             ]
            ],
            "type": "histogram2d"
           }
          ],
          "histogram2dcontour": [
           {
            "colorbar": {
             "outlinewidth": 0,
             "ticks": ""
            },
            "colorscale": [
             [
              0,
              "#0d0887"
             ],
             [
              0.1111111111111111,
              "#46039f"
             ],
             [
              0.2222222222222222,
              "#7201a8"
             ],
             [
              0.3333333333333333,
              "#9c179e"
             ],
             [
              0.4444444444444444,
              "#bd3786"
             ],
             [
              0.5555555555555556,
              "#d8576b"
             ],
             [
              0.6666666666666666,
              "#ed7953"
             ],
             [
              0.7777777777777778,
              "#fb9f3a"
             ],
             [
              0.8888888888888888,
              "#fdca26"
             ],
             [
              1,
              "#f0f921"
             ]
            ],
            "type": "histogram2dcontour"
           }
          ],
          "mesh3d": [
           {
            "colorbar": {
             "outlinewidth": 0,
             "ticks": ""
            },
            "type": "mesh3d"
           }
          ],
          "parcoords": [
           {
            "line": {
             "colorbar": {
              "outlinewidth": 0,
              "ticks": ""
             }
            },
            "type": "parcoords"
           }
          ],
          "pie": [
           {
            "automargin": true,
            "type": "pie"
           }
          ],
          "scatter": [
           {
            "marker": {
             "colorbar": {
              "outlinewidth": 0,
              "ticks": ""
             }
            },
            "type": "scatter"
           }
          ],
          "scatter3d": [
           {
            "line": {
             "colorbar": {
              "outlinewidth": 0,
              "ticks": ""
             }
            },
            "marker": {
             "colorbar": {
              "outlinewidth": 0,
              "ticks": ""
             }
            },
            "type": "scatter3d"
           }
          ],
          "scattercarpet": [
           {
            "marker": {
             "colorbar": {
              "outlinewidth": 0,
              "ticks": ""
             }
            },
            "type": "scattercarpet"
           }
          ],
          "scattergeo": [
           {
            "marker": {
             "colorbar": {
              "outlinewidth": 0,
              "ticks": ""
             }
            },
            "type": "scattergeo"
           }
          ],
          "scattergl": [
           {
            "marker": {
             "colorbar": {
              "outlinewidth": 0,
              "ticks": ""
             }
            },
            "type": "scattergl"
           }
          ],
          "scattermapbox": [
           {
            "marker": {
             "colorbar": {
              "outlinewidth": 0,
              "ticks": ""
             }
            },
            "type": "scattermapbox"
           }
          ],
          "scatterpolar": [
           {
            "marker": {
             "colorbar": {
              "outlinewidth": 0,
              "ticks": ""
             }
            },
            "type": "scatterpolar"
           }
          ],
          "scatterpolargl": [
           {
            "marker": {
             "colorbar": {
              "outlinewidth": 0,
              "ticks": ""
             }
            },
            "type": "scatterpolargl"
           }
          ],
          "scatterternary": [
           {
            "marker": {
             "colorbar": {
              "outlinewidth": 0,
              "ticks": ""
             }
            },
            "type": "scatterternary"
           }
          ],
          "surface": [
           {
            "colorbar": {
             "outlinewidth": 0,
             "ticks": ""
            },
            "colorscale": [
             [
              0,
              "#0d0887"
             ],
             [
              0.1111111111111111,
              "#46039f"
             ],
             [
              0.2222222222222222,
              "#7201a8"
             ],
             [
              0.3333333333333333,
              "#9c179e"
             ],
             [
              0.4444444444444444,
              "#bd3786"
             ],
             [
              0.5555555555555556,
              "#d8576b"
             ],
             [
              0.6666666666666666,
              "#ed7953"
             ],
             [
              0.7777777777777778,
              "#fb9f3a"
             ],
             [
              0.8888888888888888,
              "#fdca26"
             ],
             [
              1,
              "#f0f921"
             ]
            ],
            "type": "surface"
           }
          ],
          "table": [
           {
            "cells": {
             "fill": {
              "color": "#EBF0F8"
             },
             "line": {
              "color": "white"
             }
            },
            "header": {
             "fill": {
              "color": "#C8D4E3"
             },
             "line": {
              "color": "white"
             }
            },
            "type": "table"
           }
          ]
         },
         "layout": {
          "annotationdefaults": {
           "arrowcolor": "#2a3f5f",
           "arrowhead": 0,
           "arrowwidth": 1
          },
          "autotypenumbers": "strict",
          "coloraxis": {
           "colorbar": {
            "outlinewidth": 0,
            "ticks": ""
           }
          },
          "colorscale": {
           "diverging": [
            [
             0,
             "#8e0152"
            ],
            [
             0.1,
             "#c51b7d"
            ],
            [
             0.2,
             "#de77ae"
            ],
            [
             0.3,
             "#f1b6da"
            ],
            [
             0.4,
             "#fde0ef"
            ],
            [
             0.5,
             "#f7f7f7"
            ],
            [
             0.6,
             "#e6f5d0"
            ],
            [
             0.7,
             "#b8e186"
            ],
            [
             0.8,
             "#7fbc41"
            ],
            [
             0.9,
             "#4d9221"
            ],
            [
             1,
             "#276419"
            ]
           ],
           "sequential": [
            [
             0,
             "#0d0887"
            ],
            [
             0.1111111111111111,
             "#46039f"
            ],
            [
             0.2222222222222222,
             "#7201a8"
            ],
            [
             0.3333333333333333,
             "#9c179e"
            ],
            [
             0.4444444444444444,
             "#bd3786"
            ],
            [
             0.5555555555555556,
             "#d8576b"
            ],
            [
             0.6666666666666666,
             "#ed7953"
            ],
            [
             0.7777777777777778,
             "#fb9f3a"
            ],
            [
             0.8888888888888888,
             "#fdca26"
            ],
            [
             1,
             "#f0f921"
            ]
           ],
           "sequentialminus": [
            [
             0,
             "#0d0887"
            ],
            [
             0.1111111111111111,
             "#46039f"
            ],
            [
             0.2222222222222222,
             "#7201a8"
            ],
            [
             0.3333333333333333,
             "#9c179e"
            ],
            [
             0.4444444444444444,
             "#bd3786"
            ],
            [
             0.5555555555555556,
             "#d8576b"
            ],
            [
             0.6666666666666666,
             "#ed7953"
            ],
            [
             0.7777777777777778,
             "#fb9f3a"
            ],
            [
             0.8888888888888888,
             "#fdca26"
            ],
            [
             1,
             "#f0f921"
            ]
           ]
          },
          "colorway": [
           "#636efa",
           "#EF553B",
           "#00cc96",
           "#ab63fa",
           "#FFA15A",
           "#19d3f3",
           "#FF6692",
           "#B6E880",
           "#FF97FF",
           "#FECB52"
          ],
          "font": {
           "color": "#2a3f5f"
          },
          "geo": {
           "bgcolor": "white",
           "lakecolor": "white",
           "landcolor": "#E5ECF6",
           "showlakes": true,
           "showland": true,
           "subunitcolor": "white"
          },
          "hoverlabel": {
           "align": "left"
          },
          "hovermode": "closest",
          "mapbox": {
           "style": "light"
          },
          "paper_bgcolor": "white",
          "plot_bgcolor": "#E5ECF6",
          "polar": {
           "angularaxis": {
            "gridcolor": "white",
            "linecolor": "white",
            "ticks": ""
           },
           "bgcolor": "#E5ECF6",
           "radialaxis": {
            "gridcolor": "white",
            "linecolor": "white",
            "ticks": ""
           }
          },
          "scene": {
           "xaxis": {
            "backgroundcolor": "#E5ECF6",
            "gridcolor": "white",
            "gridwidth": 2,
            "linecolor": "white",
            "showbackground": true,
            "ticks": "",
            "zerolinecolor": "white"
           },
           "yaxis": {
            "backgroundcolor": "#E5ECF6",
            "gridcolor": "white",
            "gridwidth": 2,
            "linecolor": "white",
            "showbackground": true,
            "ticks": "",
            "zerolinecolor": "white"
           },
           "zaxis": {
            "backgroundcolor": "#E5ECF6",
            "gridcolor": "white",
            "gridwidth": 2,
            "linecolor": "white",
            "showbackground": true,
            "ticks": "",
            "zerolinecolor": "white"
           }
          },
          "shapedefaults": {
           "line": {
            "color": "#2a3f5f"
           }
          },
          "ternary": {
           "aaxis": {
            "gridcolor": "white",
            "linecolor": "white",
            "ticks": ""
           },
           "baxis": {
            "gridcolor": "white",
            "linecolor": "white",
            "ticks": ""
           },
           "bgcolor": "#E5ECF6",
           "caxis": {
            "gridcolor": "white",
            "linecolor": "white",
            "ticks": ""
           }
          },
          "title": {
           "x": 0.05
          },
          "xaxis": {
           "automargin": true,
           "gridcolor": "white",
           "linecolor": "white",
           "ticks": "",
           "title": {
            "standoff": 15
           },
           "zerolinecolor": "white",
           "zerolinewidth": 2
          },
          "yaxis": {
           "automargin": true,
           "gridcolor": "white",
           "linecolor": "white",
           "ticks": "",
           "title": {
            "standoff": 15
           },
           "zerolinecolor": "white",
           "zerolinewidth": 2
          }
         }
        },
        "xaxis": {
         "anchor": "y",
         "categoryarray": [
          "Boeing 737-800",
          "Airbus A320",
          "Boeing 747-8",
          "Embraer E190"
         ],
         "categoryorder": "array",
         "domain": [
          0,
          1
         ],
         "title": {
          "text": "navn"
         }
        },
        "yaxis": {
         "anchor": "x",
         "domain": [
          0,
          1
         ],
         "title": {
          "text": "vingespenn"
         }
        }
       }
      },
      "text/html": [
       "<div>                            <div id=\"966b512f-2a0f-4ab6-ae97-83a40e356c49\" class=\"plotly-graph-div\" style=\"height:525px; width:100%;\"></div>            <script type=\"text/javascript\">                require([\"plotly\"], function(Plotly) {                    window.PLOTLYENV=window.PLOTLYENV || {};                                    if (document.getElementById(\"966b512f-2a0f-4ab6-ae97-83a40e356c49\")) {                    Plotly.newPlot(                        \"966b512f-2a0f-4ab6-ae97-83a40e356c49\",                        [{\"alignmentgroup\":\"True\",\"hovertemplate\":\"navn=%{x}<br>vingespenn=%{y}<extra></extra>\",\"legendgroup\":\"Boeing 737-800\",\"marker\":{\"color\":\"#636efa\",\"pattern\":{\"shape\":\"\"}},\"name\":\"Boeing 737-800\",\"offsetgroup\":\"Boeing 737-800\",\"orientation\":\"v\",\"showlegend\":true,\"textposition\":\"auto\",\"type\":\"bar\",\"x\":[\"Boeing 737-800\"],\"xaxis\":\"x\",\"y\":[34.3],\"yaxis\":\"y\"},{\"alignmentgroup\":\"True\",\"hovertemplate\":\"navn=%{x}<br>vingespenn=%{y}<extra></extra>\",\"legendgroup\":\"Airbus A320\",\"marker\":{\"color\":\"#EF553B\",\"pattern\":{\"shape\":\"\"}},\"name\":\"Airbus A320\",\"offsetgroup\":\"Airbus A320\",\"orientation\":\"v\",\"showlegend\":true,\"textposition\":\"auto\",\"type\":\"bar\",\"x\":[\"Airbus A320\"],\"xaxis\":\"x\",\"y\":[35.8],\"yaxis\":\"y\"},{\"alignmentgroup\":\"True\",\"hovertemplate\":\"navn=%{x}<br>vingespenn=%{y}<extra></extra>\",\"legendgroup\":\"Boeing 747-8\",\"marker\":{\"color\":\"#00cc96\",\"pattern\":{\"shape\":\"\"}},\"name\":\"Boeing 747-8\",\"offsetgroup\":\"Boeing 747-8\",\"orientation\":\"v\",\"showlegend\":true,\"textposition\":\"auto\",\"type\":\"bar\",\"x\":[\"Boeing 747-8\"],\"xaxis\":\"x\",\"y\":[68.4],\"yaxis\":\"y\"},{\"alignmentgroup\":\"True\",\"hovertemplate\":\"navn=%{x}<br>vingespenn=%{y}<extra></extra>\",\"legendgroup\":\"Embraer E190\",\"marker\":{\"color\":\"#ab63fa\",\"pattern\":{\"shape\":\"\"}},\"name\":\"Embraer E190\",\"offsetgroup\":\"Embraer E190\",\"orientation\":\"v\",\"showlegend\":true,\"textposition\":\"auto\",\"type\":\"bar\",\"x\":[\"Embraer E190\"],\"xaxis\":\"x\",\"y\":[28.7],\"yaxis\":\"y\"}],                        {\"barmode\":\"relative\",\"legend\":{\"title\":{\"text\":\"navn\"},\"tracegroupgap\":0},\"margin\":{\"t\":60},\"template\":{\"data\":{\"bar\":[{\"error_x\":{\"color\":\"#2a3f5f\"},\"error_y\":{\"color\":\"#2a3f5f\"},\"marker\":{\"line\":{\"color\":\"#E5ECF6\",\"width\":0.5},\"pattern\":{\"fillmode\":\"overlay\",\"size\":10,\"solidity\":0.2}},\"type\":\"bar\"}],\"barpolar\":[{\"marker\":{\"line\":{\"color\":\"#E5ECF6\",\"width\":0.5},\"pattern\":{\"fillmode\":\"overlay\",\"size\":10,\"solidity\":0.2}},\"type\":\"barpolar\"}],\"carpet\":[{\"aaxis\":{\"endlinecolor\":\"#2a3f5f\",\"gridcolor\":\"white\",\"linecolor\":\"white\",\"minorgridcolor\":\"white\",\"startlinecolor\":\"#2a3f5f\"},\"baxis\":{\"endlinecolor\":\"#2a3f5f\",\"gridcolor\":\"white\",\"linecolor\":\"white\",\"minorgridcolor\":\"white\",\"startlinecolor\":\"#2a3f5f\"},\"type\":\"carpet\"}],\"choropleth\":[{\"colorbar\":{\"outlinewidth\":0,\"ticks\":\"\"},\"type\":\"choropleth\"}],\"contour\":[{\"colorbar\":{\"outlinewidth\":0,\"ticks\":\"\"},\"colorscale\":[[0.0,\"#0d0887\"],[0.1111111111111111,\"#46039f\"],[0.2222222222222222,\"#7201a8\"],[0.3333333333333333,\"#9c179e\"],[0.4444444444444444,\"#bd3786\"],[0.5555555555555556,\"#d8576b\"],[0.6666666666666666,\"#ed7953\"],[0.7777777777777778,\"#fb9f3a\"],[0.8888888888888888,\"#fdca26\"],[1.0,\"#f0f921\"]],\"type\":\"contour\"}],\"contourcarpet\":[{\"colorbar\":{\"outlinewidth\":0,\"ticks\":\"\"},\"type\":\"contourcarpet\"}],\"heatmap\":[{\"colorbar\":{\"outlinewidth\":0,\"ticks\":\"\"},\"colorscale\":[[0.0,\"#0d0887\"],[0.1111111111111111,\"#46039f\"],[0.2222222222222222,\"#7201a8\"],[0.3333333333333333,\"#9c179e\"],[0.4444444444444444,\"#bd3786\"],[0.5555555555555556,\"#d8576b\"],[0.6666666666666666,\"#ed7953\"],[0.7777777777777778,\"#fb9f3a\"],[0.8888888888888888,\"#fdca26\"],[1.0,\"#f0f921\"]],\"type\":\"heatmap\"}],\"heatmapgl\":[{\"colorbar\":{\"outlinewidth\":0,\"ticks\":\"\"},\"colorscale\":[[0.0,\"#0d0887\"],[0.1111111111111111,\"#46039f\"],[0.2222222222222222,\"#7201a8\"],[0.3333333333333333,\"#9c179e\"],[0.4444444444444444,\"#bd3786\"],[0.5555555555555556,\"#d8576b\"],[0.6666666666666666,\"#ed7953\"],[0.7777777777777778,\"#fb9f3a\"],[0.8888888888888888,\"#fdca26\"],[1.0,\"#f0f921\"]],\"type\":\"heatmapgl\"}],\"histogram\":[{\"marker\":{\"pattern\":{\"fillmode\":\"overlay\",\"size\":10,\"solidity\":0.2}},\"type\":\"histogram\"}],\"histogram2d\":[{\"colorbar\":{\"outlinewidth\":0,\"ticks\":\"\"},\"colorscale\":[[0.0,\"#0d0887\"],[0.1111111111111111,\"#46039f\"],[0.2222222222222222,\"#7201a8\"],[0.3333333333333333,\"#9c179e\"],[0.4444444444444444,\"#bd3786\"],[0.5555555555555556,\"#d8576b\"],[0.6666666666666666,\"#ed7953\"],[0.7777777777777778,\"#fb9f3a\"],[0.8888888888888888,\"#fdca26\"],[1.0,\"#f0f921\"]],\"type\":\"histogram2d\"}],\"histogram2dcontour\":[{\"colorbar\":{\"outlinewidth\":0,\"ticks\":\"\"},\"colorscale\":[[0.0,\"#0d0887\"],[0.1111111111111111,\"#46039f\"],[0.2222222222222222,\"#7201a8\"],[0.3333333333333333,\"#9c179e\"],[0.4444444444444444,\"#bd3786\"],[0.5555555555555556,\"#d8576b\"],[0.6666666666666666,\"#ed7953\"],[0.7777777777777778,\"#fb9f3a\"],[0.8888888888888888,\"#fdca26\"],[1.0,\"#f0f921\"]],\"type\":\"histogram2dcontour\"}],\"mesh3d\":[{\"colorbar\":{\"outlinewidth\":0,\"ticks\":\"\"},\"type\":\"mesh3d\"}],\"parcoords\":[{\"line\":{\"colorbar\":{\"outlinewidth\":0,\"ticks\":\"\"}},\"type\":\"parcoords\"}],\"pie\":[{\"automargin\":true,\"type\":\"pie\"}],\"scatter\":[{\"marker\":{\"colorbar\":{\"outlinewidth\":0,\"ticks\":\"\"}},\"type\":\"scatter\"}],\"scatter3d\":[{\"line\":{\"colorbar\":{\"outlinewidth\":0,\"ticks\":\"\"}},\"marker\":{\"colorbar\":{\"outlinewidth\":0,\"ticks\":\"\"}},\"type\":\"scatter3d\"}],\"scattercarpet\":[{\"marker\":{\"colorbar\":{\"outlinewidth\":0,\"ticks\":\"\"}},\"type\":\"scattercarpet\"}],\"scattergeo\":[{\"marker\":{\"colorbar\":{\"outlinewidth\":0,\"ticks\":\"\"}},\"type\":\"scattergeo\"}],\"scattergl\":[{\"marker\":{\"colorbar\":{\"outlinewidth\":0,\"ticks\":\"\"}},\"type\":\"scattergl\"}],\"scattermapbox\":[{\"marker\":{\"colorbar\":{\"outlinewidth\":0,\"ticks\":\"\"}},\"type\":\"scattermapbox\"}],\"scatterpolar\":[{\"marker\":{\"colorbar\":{\"outlinewidth\":0,\"ticks\":\"\"}},\"type\":\"scatterpolar\"}],\"scatterpolargl\":[{\"marker\":{\"colorbar\":{\"outlinewidth\":0,\"ticks\":\"\"}},\"type\":\"scatterpolargl\"}],\"scatterternary\":[{\"marker\":{\"colorbar\":{\"outlinewidth\":0,\"ticks\":\"\"}},\"type\":\"scatterternary\"}],\"surface\":[{\"colorbar\":{\"outlinewidth\":0,\"ticks\":\"\"},\"colorscale\":[[0.0,\"#0d0887\"],[0.1111111111111111,\"#46039f\"],[0.2222222222222222,\"#7201a8\"],[0.3333333333333333,\"#9c179e\"],[0.4444444444444444,\"#bd3786\"],[0.5555555555555556,\"#d8576b\"],[0.6666666666666666,\"#ed7953\"],[0.7777777777777778,\"#fb9f3a\"],[0.8888888888888888,\"#fdca26\"],[1.0,\"#f0f921\"]],\"type\":\"surface\"}],\"table\":[{\"cells\":{\"fill\":{\"color\":\"#EBF0F8\"},\"line\":{\"color\":\"white\"}},\"header\":{\"fill\":{\"color\":\"#C8D4E3\"},\"line\":{\"color\":\"white\"}},\"type\":\"table\"}]},\"layout\":{\"annotationdefaults\":{\"arrowcolor\":\"#2a3f5f\",\"arrowhead\":0,\"arrowwidth\":1},\"autotypenumbers\":\"strict\",\"coloraxis\":{\"colorbar\":{\"outlinewidth\":0,\"ticks\":\"\"}},\"colorscale\":{\"diverging\":[[0,\"#8e0152\"],[0.1,\"#c51b7d\"],[0.2,\"#de77ae\"],[0.3,\"#f1b6da\"],[0.4,\"#fde0ef\"],[0.5,\"#f7f7f7\"],[0.6,\"#e6f5d0\"],[0.7,\"#b8e186\"],[0.8,\"#7fbc41\"],[0.9,\"#4d9221\"],[1,\"#276419\"]],\"sequential\":[[0.0,\"#0d0887\"],[0.1111111111111111,\"#46039f\"],[0.2222222222222222,\"#7201a8\"],[0.3333333333333333,\"#9c179e\"],[0.4444444444444444,\"#bd3786\"],[0.5555555555555556,\"#d8576b\"],[0.6666666666666666,\"#ed7953\"],[0.7777777777777778,\"#fb9f3a\"],[0.8888888888888888,\"#fdca26\"],[1.0,\"#f0f921\"]],\"sequentialminus\":[[0.0,\"#0d0887\"],[0.1111111111111111,\"#46039f\"],[0.2222222222222222,\"#7201a8\"],[0.3333333333333333,\"#9c179e\"],[0.4444444444444444,\"#bd3786\"],[0.5555555555555556,\"#d8576b\"],[0.6666666666666666,\"#ed7953\"],[0.7777777777777778,\"#fb9f3a\"],[0.8888888888888888,\"#fdca26\"],[1.0,\"#f0f921\"]]},\"colorway\":[\"#636efa\",\"#EF553B\",\"#00cc96\",\"#ab63fa\",\"#FFA15A\",\"#19d3f3\",\"#FF6692\",\"#B6E880\",\"#FF97FF\",\"#FECB52\"],\"font\":{\"color\":\"#2a3f5f\"},\"geo\":{\"bgcolor\":\"white\",\"lakecolor\":\"white\",\"landcolor\":\"#E5ECF6\",\"showlakes\":true,\"showland\":true,\"subunitcolor\":\"white\"},\"hoverlabel\":{\"align\":\"left\"},\"hovermode\":\"closest\",\"mapbox\":{\"style\":\"light\"},\"paper_bgcolor\":\"white\",\"plot_bgcolor\":\"#E5ECF6\",\"polar\":{\"angularaxis\":{\"gridcolor\":\"white\",\"linecolor\":\"white\",\"ticks\":\"\"},\"bgcolor\":\"#E5ECF6\",\"radialaxis\":{\"gridcolor\":\"white\",\"linecolor\":\"white\",\"ticks\":\"\"}},\"scene\":{\"xaxis\":{\"backgroundcolor\":\"#E5ECF6\",\"gridcolor\":\"white\",\"gridwidth\":2,\"linecolor\":\"white\",\"showbackground\":true,\"ticks\":\"\",\"zerolinecolor\":\"white\"},\"yaxis\":{\"backgroundcolor\":\"#E5ECF6\",\"gridcolor\":\"white\",\"gridwidth\":2,\"linecolor\":\"white\",\"showbackground\":true,\"ticks\":\"\",\"zerolinecolor\":\"white\"},\"zaxis\":{\"backgroundcolor\":\"#E5ECF6\",\"gridcolor\":\"white\",\"gridwidth\":2,\"linecolor\":\"white\",\"showbackground\":true,\"ticks\":\"\",\"zerolinecolor\":\"white\"}},\"shapedefaults\":{\"line\":{\"color\":\"#2a3f5f\"}},\"ternary\":{\"aaxis\":{\"gridcolor\":\"white\",\"linecolor\":\"white\",\"ticks\":\"\"},\"baxis\":{\"gridcolor\":\"white\",\"linecolor\":\"white\",\"ticks\":\"\"},\"bgcolor\":\"#E5ECF6\",\"caxis\":{\"gridcolor\":\"white\",\"linecolor\":\"white\",\"ticks\":\"\"}},\"title\":{\"x\":0.05},\"xaxis\":{\"automargin\":true,\"gridcolor\":\"white\",\"linecolor\":\"white\",\"ticks\":\"\",\"title\":{\"standoff\":15},\"zerolinecolor\":\"white\",\"zerolinewidth\":2},\"yaxis\":{\"automargin\":true,\"gridcolor\":\"white\",\"linecolor\":\"white\",\"ticks\":\"\",\"title\":{\"standoff\":15},\"zerolinecolor\":\"white\",\"zerolinewidth\":2}}},\"xaxis\":{\"anchor\":\"y\",\"categoryarray\":[\"Boeing 737-800\",\"Airbus A320\",\"Boeing 747-8\",\"Embraer E190\"],\"categoryorder\":\"array\",\"domain\":[0.0,1.0],\"title\":{\"text\":\"navn\"}},\"yaxis\":{\"anchor\":\"x\",\"domain\":[0.0,1.0],\"title\":{\"text\":\"vingespenn\"}}},                        {\"responsive\": true}                    ).then(function(){\n",
       "                            \n",
       "var gd = document.getElementById('966b512f-2a0f-4ab6-ae97-83a40e356c49');\n",
       "var x = new MutationObserver(function (mutations, observer) {{\n",
       "        var display = window.getComputedStyle(gd).display;\n",
       "        if (!display || display === 'none') {{\n",
       "            console.log([gd, 'removed!']);\n",
       "            Plotly.purge(gd);\n",
       "            observer.disconnect();\n",
       "        }}\n",
       "}});\n",
       "\n",
       "// Listen for the removal of the full notebook cells\n",
       "var notebookContainer = gd.closest('#notebook-container');\n",
       "if (notebookContainer) {{\n",
       "    x.observe(notebookContainer, {childList: true});\n",
       "}}\n",
       "\n",
       "// Listen for the clearing of the current output cell\n",
       "var outputEl = gd.closest('.output');\n",
       "if (outputEl) {{\n",
       "    x.observe(outputEl, {childList: true});\n",
       "}}\n",
       "\n",
       "                        })                };                });            </script>        </div>"
      ]
     },
     "metadata": {},
     "output_type": "display_data"
    }
   ],
   "source": [
    "fig = px.bar(flydata, x=\"navn\", y=\"vingespenn\", color=\"navn\")\n",
    "fig.show()"
   ]
  },
  {
   "cell_type": "code",
   "execution_count": 22,
   "metadata": {},
   "outputs": [
    {
     "name": "stdout",
     "output_type": "stream",
     "text": [
      "Help on function scatter in module plotly.express._chart_types:\n",
      "\n",
      "scatter(data_frame=None, x=None, y=None, color=None, symbol=None, size=None, hover_name=None, hover_data=None, custom_data=None, text=None, facet_row=None, facet_col=None, facet_col_wrap=0, facet_row_spacing=None, facet_col_spacing=None, error_x=None, error_x_minus=None, error_y=None, error_y_minus=None, animation_frame=None, animation_group=None, category_orders=None, labels=None, orientation=None, color_discrete_sequence=None, color_discrete_map=None, color_continuous_scale=None, range_color=None, color_continuous_midpoint=None, symbol_sequence=None, symbol_map=None, opacity=None, size_max=None, marginal_x=None, marginal_y=None, trendline=None, trendline_options=None, trendline_color_override=None, trendline_scope='trace', log_x=False, log_y=False, range_x=None, range_y=None, render_mode='auto', title=None, template=None, width=None, height=None)\n",
      "        In a scatter plot, each row of `data_frame` is represented by a symbol\n",
      "        mark in 2D space.\n",
      "        \n",
      "    Parameters\n",
      "    ----------\n",
      "    data_frame: DataFrame or array-like or dict\n",
      "        This argument needs to be passed for column names (and not keyword\n",
      "        names) to be used. Array-like and dict are tranformed internally to a\n",
      "        pandas DataFrame. Optional: if missing, a DataFrame gets constructed\n",
      "        under the hood using the other arguments.\n",
      "    x: str or int or Series or array-like\n",
      "        Either a name of a column in `data_frame`, or a pandas Series or\n",
      "        array_like object. Values from this column or array_like are used to\n",
      "        position marks along the x axis in cartesian coordinates. Either `x` or\n",
      "        `y` can optionally be a list of column references or array_likes,  in\n",
      "        which case the data will be treated as if it were 'wide' rather than\n",
      "        'long'.\n",
      "    y: str or int or Series or array-like\n",
      "        Either a name of a column in `data_frame`, or a pandas Series or\n",
      "        array_like object. Values from this column or array_like are used to\n",
      "        position marks along the y axis in cartesian coordinates. Either `x` or\n",
      "        `y` can optionally be a list of column references or array_likes,  in\n",
      "        which case the data will be treated as if it were 'wide' rather than\n",
      "        'long'.\n",
      "    color: str or int or Series or array-like\n",
      "        Either a name of a column in `data_frame`, or a pandas Series or\n",
      "        array_like object. Values from this column or array_like are used to\n",
      "        assign color to marks.\n",
      "    symbol: str or int or Series or array-like\n",
      "        Either a name of a column in `data_frame`, or a pandas Series or\n",
      "        array_like object. Values from this column or array_like are used to\n",
      "        assign symbols to marks.\n",
      "    size: str or int or Series or array-like\n",
      "        Either a name of a column in `data_frame`, or a pandas Series or\n",
      "        array_like object. Values from this column or array_like are used to\n",
      "        assign mark sizes.\n",
      "    hover_name: str or int or Series or array-like\n",
      "        Either a name of a column in `data_frame`, or a pandas Series or\n",
      "        array_like object. Values from this column or array_like appear in bold\n",
      "        in the hover tooltip.\n",
      "    hover_data: list of str or int, or Series or array-like, or dict\n",
      "        Either a list of names of columns in `data_frame`, or pandas Series, or\n",
      "        array_like objects or a dict with column names as keys, with values\n",
      "        True (for default formatting) False (in order to remove this column\n",
      "        from hover information), or a formatting string, for example ':.3f' or\n",
      "        '|%a' or list-like data to appear in the hover tooltip or tuples with a\n",
      "        bool or formatting string as first element, and list-like data to\n",
      "        appear in hover as second element Values from these columns appear as\n",
      "        extra data in the hover tooltip.\n",
      "    custom_data: list of str or int, or Series or array-like\n",
      "        Either names of columns in `data_frame`, or pandas Series, or\n",
      "        array_like objects Values from these columns are extra data, to be used\n",
      "        in widgets or Dash callbacks for example. This data is not user-visible\n",
      "        but is included in events emitted by the figure (lasso selection etc.)\n",
      "    text: str or int or Series or array-like\n",
      "        Either a name of a column in `data_frame`, or a pandas Series or\n",
      "        array_like object. Values from this column or array_like appear in the\n",
      "        figure as text labels.\n",
      "    facet_row: str or int or Series or array-like\n",
      "        Either a name of a column in `data_frame`, or a pandas Series or\n",
      "        array_like object. Values from this column or array_like are used to\n",
      "        assign marks to facetted subplots in the vertical direction.\n",
      "    facet_col: str or int or Series or array-like\n",
      "        Either a name of a column in `data_frame`, or a pandas Series or\n",
      "        array_like object. Values from this column or array_like are used to\n",
      "        assign marks to facetted subplots in the horizontal direction.\n",
      "    facet_col_wrap: int\n",
      "        Maximum number of facet columns. Wraps the column variable at this\n",
      "        width, so that the column facets span multiple rows. Ignored if 0, and\n",
      "        forced to 0 if `facet_row` or a `marginal` is set.\n",
      "    facet_row_spacing: float between 0 and 1\n",
      "        Spacing between facet rows, in paper units. Default is 0.03 or 0.0.7\n",
      "        when facet_col_wrap is used.\n",
      "    facet_col_spacing: float between 0 and 1\n",
      "        Spacing between facet columns, in paper units Default is 0.02.\n",
      "    error_x: str or int or Series or array-like\n",
      "        Either a name of a column in `data_frame`, or a pandas Series or\n",
      "        array_like object. Values from this column or array_like are used to\n",
      "        size x-axis error bars. If `error_x_minus` is `None`, error bars will\n",
      "        be symmetrical, otherwise `error_x` is used for the positive direction\n",
      "        only.\n",
      "    error_x_minus: str or int or Series or array-like\n",
      "        Either a name of a column in `data_frame`, or a pandas Series or\n",
      "        array_like object. Values from this column or array_like are used to\n",
      "        size x-axis error bars in the negative direction. Ignored if `error_x`\n",
      "        is `None`.\n",
      "    error_y: str or int or Series or array-like\n",
      "        Either a name of a column in `data_frame`, or a pandas Series or\n",
      "        array_like object. Values from this column or array_like are used to\n",
      "        size y-axis error bars. If `error_y_minus` is `None`, error bars will\n",
      "        be symmetrical, otherwise `error_y` is used for the positive direction\n",
      "        only.\n",
      "    error_y_minus: str or int or Series or array-like\n",
      "        Either a name of a column in `data_frame`, or a pandas Series or\n",
      "        array_like object. Values from this column or array_like are used to\n",
      "        size y-axis error bars in the negative direction. Ignored if `error_y`\n",
      "        is `None`.\n",
      "    animation_frame: str or int or Series or array-like\n",
      "        Either a name of a column in `data_frame`, or a pandas Series or\n",
      "        array_like object. Values from this column or array_like are used to\n",
      "        assign marks to animation frames.\n",
      "    animation_group: str or int or Series or array-like\n",
      "        Either a name of a column in `data_frame`, or a pandas Series or\n",
      "        array_like object. Values from this column or array_like are used to\n",
      "        provide object-constancy across animation frames: rows with matching\n",
      "        `animation_group`s will be treated as if they describe the same object\n",
      "        in each frame.\n",
      "    category_orders: dict with str keys and list of str values (default `{}`)\n",
      "        By default, in Python 3.6+, the order of categorical values in axes,\n",
      "        legends and facets depends on the order in which these values are first\n",
      "        encountered in `data_frame` (and no order is guaranteed by default in\n",
      "        Python below 3.6). This parameter is used to force a specific ordering\n",
      "        of values per column. The keys of this dict should correspond to column\n",
      "        names, and the values should be lists of strings corresponding to the\n",
      "        specific display order desired.\n",
      "    labels: dict with str keys and str values (default `{}`)\n",
      "        By default, column names are used in the figure for axis titles, legend\n",
      "        entries and hovers. This parameter allows this to be overridden. The\n",
      "        keys of this dict should correspond to column names, and the values\n",
      "        should correspond to the desired label to be displayed.\n",
      "    orientation: str, one of `'h'` for horizontal or `'v'` for vertical. \n",
      "        (default `'v'` if `x` and `y` are provided and both continous or both\n",
      "        categorical,  otherwise `'v'`(`'h'`) if `x`(`y`) is categorical and\n",
      "        `y`(`x`) is continuous,  otherwise `'v'`(`'h'`) if only `x`(`y`) is\n",
      "        provided)\n",
      "    color_discrete_sequence: list of str\n",
      "        Strings should define valid CSS-colors. When `color` is set and the\n",
      "        values in the corresponding column are not numeric, values in that\n",
      "        column are assigned colors by cycling through `color_discrete_sequence`\n",
      "        in the order described in `category_orders`, unless the value of\n",
      "        `color` is a key in `color_discrete_map`. Various useful color\n",
      "        sequences are available in the `plotly.express.colors` submodules,\n",
      "        specifically `plotly.express.colors.qualitative`.\n",
      "    color_discrete_map: dict with str keys and str values (default `{}`)\n",
      "        String values should define valid CSS-colors Used to override\n",
      "        `color_discrete_sequence` to assign a specific colors to marks\n",
      "        corresponding with specific values. Keys in `color_discrete_map` should\n",
      "        be values in the column denoted by `color`. Alternatively, if the\n",
      "        values of `color` are valid colors, the string `'identity'` may be\n",
      "        passed to cause them to be used directly.\n",
      "    color_continuous_scale: list of str\n",
      "        Strings should define valid CSS-colors This list is used to build a\n",
      "        continuous color scale when the column denoted by `color` contains\n",
      "        numeric data. Various useful color scales are available in the\n",
      "        `plotly.express.colors` submodules, specifically\n",
      "        `plotly.express.colors.sequential`, `plotly.express.colors.diverging`\n",
      "        and `plotly.express.colors.cyclical`.\n",
      "    range_color: list of two numbers\n",
      "        If provided, overrides auto-scaling on the continuous color scale.\n",
      "    color_continuous_midpoint: number (default `None`)\n",
      "        If set, computes the bounds of the continuous color scale to have the\n",
      "        desired midpoint. Setting this value is recommended when using\n",
      "        `plotly.express.colors.diverging` color scales as the inputs to\n",
      "        `color_continuous_scale`.\n",
      "    symbol_sequence: list of str\n",
      "        Strings should define valid plotly.js symbols. When `symbol` is set,\n",
      "        values in that column are assigned symbols by cycling through\n",
      "        `symbol_sequence` in the order described in `category_orders`, unless\n",
      "        the value of `symbol` is a key in `symbol_map`.\n",
      "    symbol_map: dict with str keys and str values (default `{}`)\n",
      "        String values should define plotly.js symbols Used to override\n",
      "        `symbol_sequence` to assign a specific symbols to marks corresponding\n",
      "        with specific values. Keys in `symbol_map` should be values in the\n",
      "        column denoted by `symbol`. Alternatively, if the values of `symbol`\n",
      "        are valid symbol names, the string `'identity'` may be passed to cause\n",
      "        them to be used directly.\n",
      "    opacity: float\n",
      "        Value between 0 and 1. Sets the opacity for markers.\n",
      "    size_max: int (default `20`)\n",
      "        Set the maximum mark size when using `size`.\n",
      "    marginal_x: str\n",
      "        One of `'rug'`, `'box'`, `'violin'`, or `'histogram'`. If set, a\n",
      "        horizontal subplot is drawn above the main plot, visualizing the\n",
      "        x-distribution.\n",
      "    marginal_y: str\n",
      "        One of `'rug'`, `'box'`, `'violin'`, or `'histogram'`. If set, a\n",
      "        vertical subplot is drawn to the right of the main plot, visualizing\n",
      "        the y-distribution.\n",
      "    trendline: str\n",
      "        One of `'ols'`, `'lowess'`, `'rolling'`, `'expanding'` or `'ewm'`. If\n",
      "        `'ols'`, an Ordinary Least Squares regression line will be drawn for\n",
      "        each discrete-color/symbol group. If `'lowess`', a Locally Weighted\n",
      "        Scatterplot Smoothing line will be drawn for each discrete-color/symbol\n",
      "        group. If `'rolling`', a Rolling (e.g. rolling average, rolling median)\n",
      "        line will be drawn for each discrete-color/symbol group. If\n",
      "        `'expanding`', an Expanding (e.g. expanding average, expanding sum)\n",
      "        line will be drawn for each discrete-color/symbol group. If `'ewm`', an\n",
      "        Exponentially Weighted Moment (e.g. exponentially-weighted moving\n",
      "        average) line will be drawn for each discrete-color/symbol group. See\n",
      "        the docstrings for the functions in\n",
      "        `plotly.express.trendline_functions` for more details on these\n",
      "        functions and how to configure them with the `trendline_options`\n",
      "        argument.\n",
      "    trendline_options: dict\n",
      "        Options passed as the first argument to the function from\n",
      "        `plotly.express.trendline_functions`  named in the `trendline`\n",
      "        argument.\n",
      "    trendline_color_override: str\n",
      "        Valid CSS color. If provided, and if `trendline` is set, all trendlines\n",
      "        will be drawn in this color rather than in the same color as the traces\n",
      "        from which they draw their inputs.\n",
      "    trendline_scope: str (one of `'trace'` or `'overall'`, default `'trace'`)\n",
      "        If `'trace'`, then one trendline is drawn per trace (i.e. per color,\n",
      "        symbol, facet, animation frame etc) and if `'overall'` then one\n",
      "        trendline is computed for the entire dataset, and replicated across all\n",
      "        facets.\n",
      "    log_x: boolean (default `False`)\n",
      "        If `True`, the x-axis is log-scaled in cartesian coordinates.\n",
      "    log_y: boolean (default `False`)\n",
      "        If `True`, the y-axis is log-scaled in cartesian coordinates.\n",
      "    range_x: list of two numbers\n",
      "        If provided, overrides auto-scaling on the x-axis in cartesian\n",
      "        coordinates.\n",
      "    range_y: list of two numbers\n",
      "        If provided, overrides auto-scaling on the y-axis in cartesian\n",
      "        coordinates.\n",
      "    render_mode: str\n",
      "        One of `'auto'`, `'svg'` or `'webgl'`, default `'auto'` Controls the\n",
      "        browser API used to draw marks. `'svg`' is appropriate for figures of\n",
      "        less than 1000 data points, and will allow for fully-vectorized output.\n",
      "        `'webgl'` is likely necessary for acceptable performance above 1000\n",
      "        points but rasterizes part of the output.  `'auto'` uses heuristics to\n",
      "        choose the mode.\n",
      "    title: str\n",
      "        The figure title.\n",
      "    template: str or dict or plotly.graph_objects.layout.Template instance\n",
      "        The figure template name (must be a key in plotly.io.templates) or\n",
      "        definition.\n",
      "    width: int (default `None`)\n",
      "        The figure width in pixels.\n",
      "    height: int (default `None`)\n",
      "        The figure height in pixels.\n",
      "    \n",
      "    Returns\n",
      "    -------\n",
      "        plotly.graph_objects.Figure\n",
      "\n"
     ]
    }
   ],
   "source": [
    "help(px.scatter)"
   ]
  },
  {
   "cell_type": "code",
   "execution_count": 25,
   "metadata": {},
   "outputs": [
    {
     "data": {
      "application/vnd.plotly.v1+json": {
       "config": {
        "plotlyServerURL": "https://plot.ly"
       },
       "data": [
        {
         "hovertemplate": "<b>%{hovertext}</b><br><br>vingespenn=%{x}<br>passasjerer=%{y}<extra></extra>",
         "hovertext": [
          "Boeing 737-800",
          "Airbus A320",
          "Boeing 747-8",
          "Embraer E190"
         ],
         "legendgroup": "",
         "marker": {
          "color": "#636efa",
          "symbol": "circle"
         },
         "mode": "markers",
         "name": "",
         "orientation": "v",
         "showlegend": false,
         "type": "scatter",
         "x": [
          34.3,
          35.8,
          68.4,
          28.7
         ],
         "xaxis": "x",
         "y": [
          189,
          150,
          467,
          114
         ],
         "yaxis": "y"
        },
        {
         "hovertemplate": "<b>OLS trendline</b><br>passasjerer = 8.86465 * vingespenn + -140.542<br>R<sup>2</sup>=0.982372<br><br>vingespenn=%{x}<br>passasjerer=%{y} <b>(trend)</b><extra></extra>",
         "legendgroup": "",
         "marker": {
          "color": "#636efa",
          "symbol": "circle"
         },
         "mode": "lines",
         "name": "",
         "showlegend": false,
         "type": "scatter",
         "x": [
          28.7,
          34.3,
          35.8,
          68.4
         ],
         "xaxis": "x",
         "y": [
          113.87306211525384,
          163.51511189804603,
          176.81208951843684,
          465.79973646826295
         ],
         "yaxis": "y"
        }
       ],
       "layout": {
        "legend": {
         "tracegroupgap": 0
        },
        "template": {
         "data": {
          "bar": [
           {
            "error_x": {
             "color": "#2a3f5f"
            },
            "error_y": {
             "color": "#2a3f5f"
            },
            "marker": {
             "line": {
              "color": "#E5ECF6",
              "width": 0.5
             },
             "pattern": {
              "fillmode": "overlay",
              "size": 10,
              "solidity": 0.2
             }
            },
            "type": "bar"
           }
          ],
          "barpolar": [
           {
            "marker": {
             "line": {
              "color": "#E5ECF6",
              "width": 0.5
             },
             "pattern": {
              "fillmode": "overlay",
              "size": 10,
              "solidity": 0.2
             }
            },
            "type": "barpolar"
           }
          ],
          "carpet": [
           {
            "aaxis": {
             "endlinecolor": "#2a3f5f",
             "gridcolor": "white",
             "linecolor": "white",
             "minorgridcolor": "white",
             "startlinecolor": "#2a3f5f"
            },
            "baxis": {
             "endlinecolor": "#2a3f5f",
             "gridcolor": "white",
             "linecolor": "white",
             "minorgridcolor": "white",
             "startlinecolor": "#2a3f5f"
            },
            "type": "carpet"
           }
          ],
          "choropleth": [
           {
            "colorbar": {
             "outlinewidth": 0,
             "ticks": ""
            },
            "type": "choropleth"
           }
          ],
          "contour": [
           {
            "colorbar": {
             "outlinewidth": 0,
             "ticks": ""
            },
            "colorscale": [
             [
              0,
              "#0d0887"
             ],
             [
              0.1111111111111111,
              "#46039f"
             ],
             [
              0.2222222222222222,
              "#7201a8"
             ],
             [
              0.3333333333333333,
              "#9c179e"
             ],
             [
              0.4444444444444444,
              "#bd3786"
             ],
             [
              0.5555555555555556,
              "#d8576b"
             ],
             [
              0.6666666666666666,
              "#ed7953"
             ],
             [
              0.7777777777777778,
              "#fb9f3a"
             ],
             [
              0.8888888888888888,
              "#fdca26"
             ],
             [
              1,
              "#f0f921"
             ]
            ],
            "type": "contour"
           }
          ],
          "contourcarpet": [
           {
            "colorbar": {
             "outlinewidth": 0,
             "ticks": ""
            },
            "type": "contourcarpet"
           }
          ],
          "heatmap": [
           {
            "colorbar": {
             "outlinewidth": 0,
             "ticks": ""
            },
            "colorscale": [
             [
              0,
              "#0d0887"
             ],
             [
              0.1111111111111111,
              "#46039f"
             ],
             [
              0.2222222222222222,
              "#7201a8"
             ],
             [
              0.3333333333333333,
              "#9c179e"
             ],
             [
              0.4444444444444444,
              "#bd3786"
             ],
             [
              0.5555555555555556,
              "#d8576b"
             ],
             [
              0.6666666666666666,
              "#ed7953"
             ],
             [
              0.7777777777777778,
              "#fb9f3a"
             ],
             [
              0.8888888888888888,
              "#fdca26"
             ],
             [
              1,
              "#f0f921"
             ]
            ],
            "type": "heatmap"
           }
          ],
          "heatmapgl": [
           {
            "colorbar": {
             "outlinewidth": 0,
             "ticks": ""
            },
            "colorscale": [
             [
              0,
              "#0d0887"
             ],
             [
              0.1111111111111111,
              "#46039f"
             ],
             [
              0.2222222222222222,
              "#7201a8"
             ],
             [
              0.3333333333333333,
              "#9c179e"
             ],
             [
              0.4444444444444444,
              "#bd3786"
             ],
             [
              0.5555555555555556,
              "#d8576b"
             ],
             [
              0.6666666666666666,
              "#ed7953"
             ],
             [
              0.7777777777777778,
              "#fb9f3a"
             ],
             [
              0.8888888888888888,
              "#fdca26"
             ],
             [
              1,
              "#f0f921"
             ]
            ],
            "type": "heatmapgl"
           }
          ],
          "histogram": [
           {
            "marker": {
             "pattern": {
              "fillmode": "overlay",
              "size": 10,
              "solidity": 0.2
             }
            },
            "type": "histogram"
           }
          ],
          "histogram2d": [
           {
            "colorbar": {
             "outlinewidth": 0,
             "ticks": ""
            },
            "colorscale": [
             [
              0,
              "#0d0887"
             ],
             [
              0.1111111111111111,
              "#46039f"
             ],
             [
              0.2222222222222222,
              "#7201a8"
             ],
             [
              0.3333333333333333,
              "#9c179e"
             ],
             [
              0.4444444444444444,
              "#bd3786"
             ],
             [
              0.5555555555555556,
              "#d8576b"
             ],
             [
              0.6666666666666666,
              "#ed7953"
             ],
             [
              0.7777777777777778,
              "#fb9f3a"
             ],
             [
              0.8888888888888888,
              "#fdca26"
             ],
             [
              1,
              "#f0f921"
             ]
            ],
            "type": "histogram2d"
           }
          ],
          "histogram2dcontour": [
           {
            "colorbar": {
             "outlinewidth": 0,
             "ticks": ""
            },
            "colorscale": [
             [
              0,
              "#0d0887"
             ],
             [
              0.1111111111111111,
              "#46039f"
             ],
             [
              0.2222222222222222,
              "#7201a8"
             ],
             [
              0.3333333333333333,
              "#9c179e"
             ],
             [
              0.4444444444444444,
              "#bd3786"
             ],
             [
              0.5555555555555556,
              "#d8576b"
             ],
             [
              0.6666666666666666,
              "#ed7953"
             ],
             [
              0.7777777777777778,
              "#fb9f3a"
             ],
             [
              0.8888888888888888,
              "#fdca26"
             ],
             [
              1,
              "#f0f921"
             ]
            ],
            "type": "histogram2dcontour"
           }
          ],
          "mesh3d": [
           {
            "colorbar": {
             "outlinewidth": 0,
             "ticks": ""
            },
            "type": "mesh3d"
           }
          ],
          "parcoords": [
           {
            "line": {
             "colorbar": {
              "outlinewidth": 0,
              "ticks": ""
             }
            },
            "type": "parcoords"
           }
          ],
          "pie": [
           {
            "automargin": true,
            "type": "pie"
           }
          ],
          "scatter": [
           {
            "marker": {
             "colorbar": {
              "outlinewidth": 0,
              "ticks": ""
             }
            },
            "type": "scatter"
           }
          ],
          "scatter3d": [
           {
            "line": {
             "colorbar": {
              "outlinewidth": 0,
              "ticks": ""
             }
            },
            "marker": {
             "colorbar": {
              "outlinewidth": 0,
              "ticks": ""
             }
            },
            "type": "scatter3d"
           }
          ],
          "scattercarpet": [
           {
            "marker": {
             "colorbar": {
              "outlinewidth": 0,
              "ticks": ""
             }
            },
            "type": "scattercarpet"
           }
          ],
          "scattergeo": [
           {
            "marker": {
             "colorbar": {
              "outlinewidth": 0,
              "ticks": ""
             }
            },
            "type": "scattergeo"
           }
          ],
          "scattergl": [
           {
            "marker": {
             "colorbar": {
              "outlinewidth": 0,
              "ticks": ""
             }
            },
            "type": "scattergl"
           }
          ],
          "scattermapbox": [
           {
            "marker": {
             "colorbar": {
              "outlinewidth": 0,
              "ticks": ""
             }
            },
            "type": "scattermapbox"
           }
          ],
          "scatterpolar": [
           {
            "marker": {
             "colorbar": {
              "outlinewidth": 0,
              "ticks": ""
             }
            },
            "type": "scatterpolar"
           }
          ],
          "scatterpolargl": [
           {
            "marker": {
             "colorbar": {
              "outlinewidth": 0,
              "ticks": ""
             }
            },
            "type": "scatterpolargl"
           }
          ],
          "scatterternary": [
           {
            "marker": {
             "colorbar": {
              "outlinewidth": 0,
              "ticks": ""
             }
            },
            "type": "scatterternary"
           }
          ],
          "surface": [
           {
            "colorbar": {
             "outlinewidth": 0,
             "ticks": ""
            },
            "colorscale": [
             [
              0,
              "#0d0887"
             ],
             [
              0.1111111111111111,
              "#46039f"
             ],
             [
              0.2222222222222222,
              "#7201a8"
             ],
             [
              0.3333333333333333,
              "#9c179e"
             ],
             [
              0.4444444444444444,
              "#bd3786"
             ],
             [
              0.5555555555555556,
              "#d8576b"
             ],
             [
              0.6666666666666666,
              "#ed7953"
             ],
             [
              0.7777777777777778,
              "#fb9f3a"
             ],
             [
              0.8888888888888888,
              "#fdca26"
             ],
             [
              1,
              "#f0f921"
             ]
            ],
            "type": "surface"
           }
          ],
          "table": [
           {
            "cells": {
             "fill": {
              "color": "#EBF0F8"
             },
             "line": {
              "color": "white"
             }
            },
            "header": {
             "fill": {
              "color": "#C8D4E3"
             },
             "line": {
              "color": "white"
             }
            },
            "type": "table"
           }
          ]
         },
         "layout": {
          "annotationdefaults": {
           "arrowcolor": "#2a3f5f",
           "arrowhead": 0,
           "arrowwidth": 1
          },
          "autotypenumbers": "strict",
          "coloraxis": {
           "colorbar": {
            "outlinewidth": 0,
            "ticks": ""
           }
          },
          "colorscale": {
           "diverging": [
            [
             0,
             "#8e0152"
            ],
            [
             0.1,
             "#c51b7d"
            ],
            [
             0.2,
             "#de77ae"
            ],
            [
             0.3,
             "#f1b6da"
            ],
            [
             0.4,
             "#fde0ef"
            ],
            [
             0.5,
             "#f7f7f7"
            ],
            [
             0.6,
             "#e6f5d0"
            ],
            [
             0.7,
             "#b8e186"
            ],
            [
             0.8,
             "#7fbc41"
            ],
            [
             0.9,
             "#4d9221"
            ],
            [
             1,
             "#276419"
            ]
           ],
           "sequential": [
            [
             0,
             "#0d0887"
            ],
            [
             0.1111111111111111,
             "#46039f"
            ],
            [
             0.2222222222222222,
             "#7201a8"
            ],
            [
             0.3333333333333333,
             "#9c179e"
            ],
            [
             0.4444444444444444,
             "#bd3786"
            ],
            [
             0.5555555555555556,
             "#d8576b"
            ],
            [
             0.6666666666666666,
             "#ed7953"
            ],
            [
             0.7777777777777778,
             "#fb9f3a"
            ],
            [
             0.8888888888888888,
             "#fdca26"
            ],
            [
             1,
             "#f0f921"
            ]
           ],
           "sequentialminus": [
            [
             0,
             "#0d0887"
            ],
            [
             0.1111111111111111,
             "#46039f"
            ],
            [
             0.2222222222222222,
             "#7201a8"
            ],
            [
             0.3333333333333333,
             "#9c179e"
            ],
            [
             0.4444444444444444,
             "#bd3786"
            ],
            [
             0.5555555555555556,
             "#d8576b"
            ],
            [
             0.6666666666666666,
             "#ed7953"
            ],
            [
             0.7777777777777778,
             "#fb9f3a"
            ],
            [
             0.8888888888888888,
             "#fdca26"
            ],
            [
             1,
             "#f0f921"
            ]
           ]
          },
          "colorway": [
           "#636efa",
           "#EF553B",
           "#00cc96",
           "#ab63fa",
           "#FFA15A",
           "#19d3f3",
           "#FF6692",
           "#B6E880",
           "#FF97FF",
           "#FECB52"
          ],
          "font": {
           "color": "#2a3f5f"
          },
          "geo": {
           "bgcolor": "white",
           "lakecolor": "white",
           "landcolor": "#E5ECF6",
           "showlakes": true,
           "showland": true,
           "subunitcolor": "white"
          },
          "hoverlabel": {
           "align": "left"
          },
          "hovermode": "closest",
          "mapbox": {
           "style": "light"
          },
          "paper_bgcolor": "white",
          "plot_bgcolor": "#E5ECF6",
          "polar": {
           "angularaxis": {
            "gridcolor": "white",
            "linecolor": "white",
            "ticks": ""
           },
           "bgcolor": "#E5ECF6",
           "radialaxis": {
            "gridcolor": "white",
            "linecolor": "white",
            "ticks": ""
           }
          },
          "scene": {
           "xaxis": {
            "backgroundcolor": "#E5ECF6",
            "gridcolor": "white",
            "gridwidth": 2,
            "linecolor": "white",
            "showbackground": true,
            "ticks": "",
            "zerolinecolor": "white"
           },
           "yaxis": {
            "backgroundcolor": "#E5ECF6",
            "gridcolor": "white",
            "gridwidth": 2,
            "linecolor": "white",
            "showbackground": true,
            "ticks": "",
            "zerolinecolor": "white"
           },
           "zaxis": {
            "backgroundcolor": "#E5ECF6",
            "gridcolor": "white",
            "gridwidth": 2,
            "linecolor": "white",
            "showbackground": true,
            "ticks": "",
            "zerolinecolor": "white"
           }
          },
          "shapedefaults": {
           "line": {
            "color": "#2a3f5f"
           }
          },
          "ternary": {
           "aaxis": {
            "gridcolor": "white",
            "linecolor": "white",
            "ticks": ""
           },
           "baxis": {
            "gridcolor": "white",
            "linecolor": "white",
            "ticks": ""
           },
           "bgcolor": "#E5ECF6",
           "caxis": {
            "gridcolor": "white",
            "linecolor": "white",
            "ticks": ""
           }
          },
          "title": {
           "x": 0.05
          },
          "xaxis": {
           "automargin": true,
           "gridcolor": "white",
           "linecolor": "white",
           "ticks": "",
           "title": {
            "standoff": 15
           },
           "zerolinecolor": "white",
           "zerolinewidth": 2
          },
          "yaxis": {
           "automargin": true,
           "gridcolor": "white",
           "linecolor": "white",
           "ticks": "",
           "title": {
            "standoff": 15
           },
           "zerolinecolor": "white",
           "zerolinewidth": 2
          }
         }
        },
        "title": {
         "text": "Antall passasjerer mot vingespenn"
        },
        "xaxis": {
         "anchor": "y",
         "domain": [
          0,
          1
         ],
         "title": {
          "text": "Vingespenn (m)"
         }
        },
        "yaxis": {
         "anchor": "x",
         "domain": [
          0,
          1
         ],
         "title": {
          "text": "Antall passasjerer"
         }
        }
       }
      },
      "text/html": [
       "<div>                            <div id=\"6dcd6e45-1214-4d9c-8452-bcf9db5f3572\" class=\"plotly-graph-div\" style=\"height:525px; width:100%;\"></div>            <script type=\"text/javascript\">                require([\"plotly\"], function(Plotly) {                    window.PLOTLYENV=window.PLOTLYENV || {};                                    if (document.getElementById(\"6dcd6e45-1214-4d9c-8452-bcf9db5f3572\")) {                    Plotly.newPlot(                        \"6dcd6e45-1214-4d9c-8452-bcf9db5f3572\",                        [{\"hovertemplate\":\"<b>%{hovertext}</b><br><br>vingespenn=%{x}<br>passasjerer=%{y}<extra></extra>\",\"hovertext\":[\"Boeing 737-800\",\"Airbus A320\",\"Boeing 747-8\",\"Embraer E190\"],\"legendgroup\":\"\",\"marker\":{\"color\":\"#636efa\",\"symbol\":\"circle\"},\"mode\":\"markers\",\"name\":\"\",\"orientation\":\"v\",\"showlegend\":false,\"type\":\"scatter\",\"x\":[34.3,35.8,68.4,28.7],\"xaxis\":\"x\",\"y\":[189,150,467,114],\"yaxis\":\"y\"},{\"hovertemplate\":\"<b>OLS trendline</b><br>passasjerer = 8.86465 * vingespenn + -140.542<br>R<sup>2</sup>=0.982372<br><br>vingespenn=%{x}<br>passasjerer=%{y} <b>(trend)</b><extra></extra>\",\"legendgroup\":\"\",\"marker\":{\"color\":\"#636efa\",\"symbol\":\"circle\"},\"mode\":\"lines\",\"name\":\"\",\"showlegend\":false,\"type\":\"scatter\",\"x\":[28.7,34.3,35.8,68.4],\"xaxis\":\"x\",\"y\":[113.87306211525384,163.51511189804603,176.81208951843684,465.79973646826295],\"yaxis\":\"y\"}],                        {\"legend\":{\"tracegroupgap\":0},\"template\":{\"data\":{\"bar\":[{\"error_x\":{\"color\":\"#2a3f5f\"},\"error_y\":{\"color\":\"#2a3f5f\"},\"marker\":{\"line\":{\"color\":\"#E5ECF6\",\"width\":0.5},\"pattern\":{\"fillmode\":\"overlay\",\"size\":10,\"solidity\":0.2}},\"type\":\"bar\"}],\"barpolar\":[{\"marker\":{\"line\":{\"color\":\"#E5ECF6\",\"width\":0.5},\"pattern\":{\"fillmode\":\"overlay\",\"size\":10,\"solidity\":0.2}},\"type\":\"barpolar\"}],\"carpet\":[{\"aaxis\":{\"endlinecolor\":\"#2a3f5f\",\"gridcolor\":\"white\",\"linecolor\":\"white\",\"minorgridcolor\":\"white\",\"startlinecolor\":\"#2a3f5f\"},\"baxis\":{\"endlinecolor\":\"#2a3f5f\",\"gridcolor\":\"white\",\"linecolor\":\"white\",\"minorgridcolor\":\"white\",\"startlinecolor\":\"#2a3f5f\"},\"type\":\"carpet\"}],\"choropleth\":[{\"colorbar\":{\"outlinewidth\":0,\"ticks\":\"\"},\"type\":\"choropleth\"}],\"contour\":[{\"colorbar\":{\"outlinewidth\":0,\"ticks\":\"\"},\"colorscale\":[[0.0,\"#0d0887\"],[0.1111111111111111,\"#46039f\"],[0.2222222222222222,\"#7201a8\"],[0.3333333333333333,\"#9c179e\"],[0.4444444444444444,\"#bd3786\"],[0.5555555555555556,\"#d8576b\"],[0.6666666666666666,\"#ed7953\"],[0.7777777777777778,\"#fb9f3a\"],[0.8888888888888888,\"#fdca26\"],[1.0,\"#f0f921\"]],\"type\":\"contour\"}],\"contourcarpet\":[{\"colorbar\":{\"outlinewidth\":0,\"ticks\":\"\"},\"type\":\"contourcarpet\"}],\"heatmap\":[{\"colorbar\":{\"outlinewidth\":0,\"ticks\":\"\"},\"colorscale\":[[0.0,\"#0d0887\"],[0.1111111111111111,\"#46039f\"],[0.2222222222222222,\"#7201a8\"],[0.3333333333333333,\"#9c179e\"],[0.4444444444444444,\"#bd3786\"],[0.5555555555555556,\"#d8576b\"],[0.6666666666666666,\"#ed7953\"],[0.7777777777777778,\"#fb9f3a\"],[0.8888888888888888,\"#fdca26\"],[1.0,\"#f0f921\"]],\"type\":\"heatmap\"}],\"heatmapgl\":[{\"colorbar\":{\"outlinewidth\":0,\"ticks\":\"\"},\"colorscale\":[[0.0,\"#0d0887\"],[0.1111111111111111,\"#46039f\"],[0.2222222222222222,\"#7201a8\"],[0.3333333333333333,\"#9c179e\"],[0.4444444444444444,\"#bd3786\"],[0.5555555555555556,\"#d8576b\"],[0.6666666666666666,\"#ed7953\"],[0.7777777777777778,\"#fb9f3a\"],[0.8888888888888888,\"#fdca26\"],[1.0,\"#f0f921\"]],\"type\":\"heatmapgl\"}],\"histogram\":[{\"marker\":{\"pattern\":{\"fillmode\":\"overlay\",\"size\":10,\"solidity\":0.2}},\"type\":\"histogram\"}],\"histogram2d\":[{\"colorbar\":{\"outlinewidth\":0,\"ticks\":\"\"},\"colorscale\":[[0.0,\"#0d0887\"],[0.1111111111111111,\"#46039f\"],[0.2222222222222222,\"#7201a8\"],[0.3333333333333333,\"#9c179e\"],[0.4444444444444444,\"#bd3786\"],[0.5555555555555556,\"#d8576b\"],[0.6666666666666666,\"#ed7953\"],[0.7777777777777778,\"#fb9f3a\"],[0.8888888888888888,\"#fdca26\"],[1.0,\"#f0f921\"]],\"type\":\"histogram2d\"}],\"histogram2dcontour\":[{\"colorbar\":{\"outlinewidth\":0,\"ticks\":\"\"},\"colorscale\":[[0.0,\"#0d0887\"],[0.1111111111111111,\"#46039f\"],[0.2222222222222222,\"#7201a8\"],[0.3333333333333333,\"#9c179e\"],[0.4444444444444444,\"#bd3786\"],[0.5555555555555556,\"#d8576b\"],[0.6666666666666666,\"#ed7953\"],[0.7777777777777778,\"#fb9f3a\"],[0.8888888888888888,\"#fdca26\"],[1.0,\"#f0f921\"]],\"type\":\"histogram2dcontour\"}],\"mesh3d\":[{\"colorbar\":{\"outlinewidth\":0,\"ticks\":\"\"},\"type\":\"mesh3d\"}],\"parcoords\":[{\"line\":{\"colorbar\":{\"outlinewidth\":0,\"ticks\":\"\"}},\"type\":\"parcoords\"}],\"pie\":[{\"automargin\":true,\"type\":\"pie\"}],\"scatter\":[{\"marker\":{\"colorbar\":{\"outlinewidth\":0,\"ticks\":\"\"}},\"type\":\"scatter\"}],\"scatter3d\":[{\"line\":{\"colorbar\":{\"outlinewidth\":0,\"ticks\":\"\"}},\"marker\":{\"colorbar\":{\"outlinewidth\":0,\"ticks\":\"\"}},\"type\":\"scatter3d\"}],\"scattercarpet\":[{\"marker\":{\"colorbar\":{\"outlinewidth\":0,\"ticks\":\"\"}},\"type\":\"scattercarpet\"}],\"scattergeo\":[{\"marker\":{\"colorbar\":{\"outlinewidth\":0,\"ticks\":\"\"}},\"type\":\"scattergeo\"}],\"scattergl\":[{\"marker\":{\"colorbar\":{\"outlinewidth\":0,\"ticks\":\"\"}},\"type\":\"scattergl\"}],\"scattermapbox\":[{\"marker\":{\"colorbar\":{\"outlinewidth\":0,\"ticks\":\"\"}},\"type\":\"scattermapbox\"}],\"scatterpolar\":[{\"marker\":{\"colorbar\":{\"outlinewidth\":0,\"ticks\":\"\"}},\"type\":\"scatterpolar\"}],\"scatterpolargl\":[{\"marker\":{\"colorbar\":{\"outlinewidth\":0,\"ticks\":\"\"}},\"type\":\"scatterpolargl\"}],\"scatterternary\":[{\"marker\":{\"colorbar\":{\"outlinewidth\":0,\"ticks\":\"\"}},\"type\":\"scatterternary\"}],\"surface\":[{\"colorbar\":{\"outlinewidth\":0,\"ticks\":\"\"},\"colorscale\":[[0.0,\"#0d0887\"],[0.1111111111111111,\"#46039f\"],[0.2222222222222222,\"#7201a8\"],[0.3333333333333333,\"#9c179e\"],[0.4444444444444444,\"#bd3786\"],[0.5555555555555556,\"#d8576b\"],[0.6666666666666666,\"#ed7953\"],[0.7777777777777778,\"#fb9f3a\"],[0.8888888888888888,\"#fdca26\"],[1.0,\"#f0f921\"]],\"type\":\"surface\"}],\"table\":[{\"cells\":{\"fill\":{\"color\":\"#EBF0F8\"},\"line\":{\"color\":\"white\"}},\"header\":{\"fill\":{\"color\":\"#C8D4E3\"},\"line\":{\"color\":\"white\"}},\"type\":\"table\"}]},\"layout\":{\"annotationdefaults\":{\"arrowcolor\":\"#2a3f5f\",\"arrowhead\":0,\"arrowwidth\":1},\"autotypenumbers\":\"strict\",\"coloraxis\":{\"colorbar\":{\"outlinewidth\":0,\"ticks\":\"\"}},\"colorscale\":{\"diverging\":[[0,\"#8e0152\"],[0.1,\"#c51b7d\"],[0.2,\"#de77ae\"],[0.3,\"#f1b6da\"],[0.4,\"#fde0ef\"],[0.5,\"#f7f7f7\"],[0.6,\"#e6f5d0\"],[0.7,\"#b8e186\"],[0.8,\"#7fbc41\"],[0.9,\"#4d9221\"],[1,\"#276419\"]],\"sequential\":[[0.0,\"#0d0887\"],[0.1111111111111111,\"#46039f\"],[0.2222222222222222,\"#7201a8\"],[0.3333333333333333,\"#9c179e\"],[0.4444444444444444,\"#bd3786\"],[0.5555555555555556,\"#d8576b\"],[0.6666666666666666,\"#ed7953\"],[0.7777777777777778,\"#fb9f3a\"],[0.8888888888888888,\"#fdca26\"],[1.0,\"#f0f921\"]],\"sequentialminus\":[[0.0,\"#0d0887\"],[0.1111111111111111,\"#46039f\"],[0.2222222222222222,\"#7201a8\"],[0.3333333333333333,\"#9c179e\"],[0.4444444444444444,\"#bd3786\"],[0.5555555555555556,\"#d8576b\"],[0.6666666666666666,\"#ed7953\"],[0.7777777777777778,\"#fb9f3a\"],[0.8888888888888888,\"#fdca26\"],[1.0,\"#f0f921\"]]},\"colorway\":[\"#636efa\",\"#EF553B\",\"#00cc96\",\"#ab63fa\",\"#FFA15A\",\"#19d3f3\",\"#FF6692\",\"#B6E880\",\"#FF97FF\",\"#FECB52\"],\"font\":{\"color\":\"#2a3f5f\"},\"geo\":{\"bgcolor\":\"white\",\"lakecolor\":\"white\",\"landcolor\":\"#E5ECF6\",\"showlakes\":true,\"showland\":true,\"subunitcolor\":\"white\"},\"hoverlabel\":{\"align\":\"left\"},\"hovermode\":\"closest\",\"mapbox\":{\"style\":\"light\"},\"paper_bgcolor\":\"white\",\"plot_bgcolor\":\"#E5ECF6\",\"polar\":{\"angularaxis\":{\"gridcolor\":\"white\",\"linecolor\":\"white\",\"ticks\":\"\"},\"bgcolor\":\"#E5ECF6\",\"radialaxis\":{\"gridcolor\":\"white\",\"linecolor\":\"white\",\"ticks\":\"\"}},\"scene\":{\"xaxis\":{\"backgroundcolor\":\"#E5ECF6\",\"gridcolor\":\"white\",\"gridwidth\":2,\"linecolor\":\"white\",\"showbackground\":true,\"ticks\":\"\",\"zerolinecolor\":\"white\"},\"yaxis\":{\"backgroundcolor\":\"#E5ECF6\",\"gridcolor\":\"white\",\"gridwidth\":2,\"linecolor\":\"white\",\"showbackground\":true,\"ticks\":\"\",\"zerolinecolor\":\"white\"},\"zaxis\":{\"backgroundcolor\":\"#E5ECF6\",\"gridcolor\":\"white\",\"gridwidth\":2,\"linecolor\":\"white\",\"showbackground\":true,\"ticks\":\"\",\"zerolinecolor\":\"white\"}},\"shapedefaults\":{\"line\":{\"color\":\"#2a3f5f\"}},\"ternary\":{\"aaxis\":{\"gridcolor\":\"white\",\"linecolor\":\"white\",\"ticks\":\"\"},\"baxis\":{\"gridcolor\":\"white\",\"linecolor\":\"white\",\"ticks\":\"\"},\"bgcolor\":\"#E5ECF6\",\"caxis\":{\"gridcolor\":\"white\",\"linecolor\":\"white\",\"ticks\":\"\"}},\"title\":{\"x\":0.05},\"xaxis\":{\"automargin\":true,\"gridcolor\":\"white\",\"linecolor\":\"white\",\"ticks\":\"\",\"title\":{\"standoff\":15},\"zerolinecolor\":\"white\",\"zerolinewidth\":2},\"yaxis\":{\"automargin\":true,\"gridcolor\":\"white\",\"linecolor\":\"white\",\"ticks\":\"\",\"title\":{\"standoff\":15},\"zerolinecolor\":\"white\",\"zerolinewidth\":2}}},\"title\":{\"text\":\"Antall passasjerer mot vingespenn\"},\"xaxis\":{\"anchor\":\"y\",\"domain\":[0.0,1.0],\"title\":{\"text\":\"Vingespenn (m)\"}},\"yaxis\":{\"anchor\":\"x\",\"domain\":[0.0,1.0],\"title\":{\"text\":\"Antall passasjerer\"}}},                        {\"responsive\": true}                    ).then(function(){\n",
       "                            \n",
       "var gd = document.getElementById('6dcd6e45-1214-4d9c-8452-bcf9db5f3572');\n",
       "var x = new MutationObserver(function (mutations, observer) {{\n",
       "        var display = window.getComputedStyle(gd).display;\n",
       "        if (!display || display === 'none') {{\n",
       "            console.log([gd, 'removed!']);\n",
       "            Plotly.purge(gd);\n",
       "            observer.disconnect();\n",
       "        }}\n",
       "}});\n",
       "\n",
       "// Listen for the removal of the full notebook cells\n",
       "var notebookContainer = gd.closest('#notebook-container');\n",
       "if (notebookContainer) {{\n",
       "    x.observe(notebookContainer, {childList: true});\n",
       "}}\n",
       "\n",
       "// Listen for the clearing of the current output cell\n",
       "var outputEl = gd.closest('.output');\n",
       "if (outputEl) {{\n",
       "    x.observe(outputEl, {childList: true});\n",
       "}}\n",
       "\n",
       "                        })                };                });            </script>        </div>"
      ]
     },
     "metadata": {},
     "output_type": "display_data"
    }
   ],
   "source": [
    "fig = px.scatter(flydata, x=\"vingespenn\", y=\"passasjerer\", hover_name=\"navn\",\n",
    "                trendline=\"ols\", title=\"Antall passasjerer mot vingespenn\")\n",
    "\n",
    "fig.update_xaxes(title=\"Vingespenn (m)\")\n",
    "fig.update_yaxes(title=\"Antall passasjerer\")\n",
    "fig.show()"
   ]
  },
  {
   "cell_type": "code",
   "execution_count": 26,
   "metadata": {},
   "outputs": [],
   "source": [
    "gapminder = px.data.gapminder()"
   ]
  },
  {
   "cell_type": "code",
   "execution_count": 27,
   "metadata": {},
   "outputs": [
    {
     "data": {
      "text/html": [
       "<div>\n",
       "<style scoped>\n",
       "    .dataframe tbody tr th:only-of-type {\n",
       "        vertical-align: middle;\n",
       "    }\n",
       "\n",
       "    .dataframe tbody tr th {\n",
       "        vertical-align: top;\n",
       "    }\n",
       "\n",
       "    .dataframe thead th {\n",
       "        text-align: right;\n",
       "    }\n",
       "</style>\n",
       "<table border=\"1\" class=\"dataframe\">\n",
       "  <thead>\n",
       "    <tr style=\"text-align: right;\">\n",
       "      <th></th>\n",
       "      <th>country</th>\n",
       "      <th>continent</th>\n",
       "      <th>year</th>\n",
       "      <th>lifeExp</th>\n",
       "      <th>pop</th>\n",
       "      <th>gdpPercap</th>\n",
       "      <th>iso_alpha</th>\n",
       "      <th>iso_num</th>\n",
       "    </tr>\n",
       "  </thead>\n",
       "  <tbody>\n",
       "    <tr>\n",
       "      <th>0</th>\n",
       "      <td>Afghanistan</td>\n",
       "      <td>Asia</td>\n",
       "      <td>1952</td>\n",
       "      <td>28.801</td>\n",
       "      <td>8425333</td>\n",
       "      <td>779.445314</td>\n",
       "      <td>AFG</td>\n",
       "      <td>4</td>\n",
       "    </tr>\n",
       "    <tr>\n",
       "      <th>1</th>\n",
       "      <td>Afghanistan</td>\n",
       "      <td>Asia</td>\n",
       "      <td>1957</td>\n",
       "      <td>30.332</td>\n",
       "      <td>9240934</td>\n",
       "      <td>820.853030</td>\n",
       "      <td>AFG</td>\n",
       "      <td>4</td>\n",
       "    </tr>\n",
       "    <tr>\n",
       "      <th>2</th>\n",
       "      <td>Afghanistan</td>\n",
       "      <td>Asia</td>\n",
       "      <td>1962</td>\n",
       "      <td>31.997</td>\n",
       "      <td>10267083</td>\n",
       "      <td>853.100710</td>\n",
       "      <td>AFG</td>\n",
       "      <td>4</td>\n",
       "    </tr>\n",
       "    <tr>\n",
       "      <th>3</th>\n",
       "      <td>Afghanistan</td>\n",
       "      <td>Asia</td>\n",
       "      <td>1967</td>\n",
       "      <td>34.020</td>\n",
       "      <td>11537966</td>\n",
       "      <td>836.197138</td>\n",
       "      <td>AFG</td>\n",
       "      <td>4</td>\n",
       "    </tr>\n",
       "    <tr>\n",
       "      <th>4</th>\n",
       "      <td>Afghanistan</td>\n",
       "      <td>Asia</td>\n",
       "      <td>1972</td>\n",
       "      <td>36.088</td>\n",
       "      <td>13079460</td>\n",
       "      <td>739.981106</td>\n",
       "      <td>AFG</td>\n",
       "      <td>4</td>\n",
       "    </tr>\n",
       "  </tbody>\n",
       "</table>\n",
       "</div>"
      ],
      "text/plain": [
       "       country continent  year  lifeExp       pop   gdpPercap iso_alpha  \\\n",
       "0  Afghanistan      Asia  1952   28.801   8425333  779.445314       AFG   \n",
       "1  Afghanistan      Asia  1957   30.332   9240934  820.853030       AFG   \n",
       "2  Afghanistan      Asia  1962   31.997  10267083  853.100710       AFG   \n",
       "3  Afghanistan      Asia  1967   34.020  11537966  836.197138       AFG   \n",
       "4  Afghanistan      Asia  1972   36.088  13079460  739.981106       AFG   \n",
       "\n",
       "   iso_num  \n",
       "0        4  \n",
       "1        4  \n",
       "2        4  \n",
       "3        4  \n",
       "4        4  "
      ]
     },
     "execution_count": 27,
     "metadata": {},
     "output_type": "execute_result"
    }
   ],
   "source": [
    "gapminder.head()"
   ]
  },
  {
   "cell_type": "code",
   "execution_count": 29,
   "metadata": {},
   "outputs": [
    {
     "data": {
      "application/vnd.plotly.v1+json": {
       "config": {
        "plotlyServerURL": "https://plot.ly"
       },
       "data": [
        {
         "customdata": [
          [
           "Afghanistan",
           1952
          ],
          [
           "Afghanistan",
           1957
          ],
          [
           "Afghanistan",
           1962
          ],
          [
           "Afghanistan",
           1967
          ],
          [
           "Afghanistan",
           1972
          ],
          [
           "Afghanistan",
           1977
          ],
          [
           "Afghanistan",
           1982
          ],
          [
           "Afghanistan",
           1987
          ],
          [
           "Afghanistan",
           1992
          ],
          [
           "Afghanistan",
           1997
          ],
          [
           "Afghanistan",
           2002
          ],
          [
           "Afghanistan",
           2007
          ],
          [
           "Albania",
           1952
          ],
          [
           "Albania",
           1957
          ],
          [
           "Albania",
           1962
          ],
          [
           "Albania",
           1967
          ],
          [
           "Albania",
           1972
          ],
          [
           "Albania",
           1977
          ],
          [
           "Albania",
           1982
          ],
          [
           "Albania",
           1987
          ],
          [
           "Albania",
           1992
          ],
          [
           "Albania",
           1997
          ],
          [
           "Albania",
           2002
          ],
          [
           "Albania",
           2007
          ],
          [
           "Algeria",
           1952
          ],
          [
           "Algeria",
           1957
          ],
          [
           "Algeria",
           1962
          ],
          [
           "Algeria",
           1967
          ],
          [
           "Algeria",
           1972
          ],
          [
           "Algeria",
           1977
          ],
          [
           "Algeria",
           1982
          ],
          [
           "Algeria",
           1987
          ],
          [
           "Algeria",
           1992
          ],
          [
           "Algeria",
           1997
          ],
          [
           "Algeria",
           2002
          ],
          [
           "Algeria",
           2007
          ],
          [
           "Angola",
           1952
          ],
          [
           "Angola",
           1957
          ],
          [
           "Angola",
           1962
          ],
          [
           "Angola",
           1967
          ],
          [
           "Angola",
           1972
          ],
          [
           "Angola",
           1977
          ],
          [
           "Angola",
           1982
          ],
          [
           "Angola",
           1987
          ],
          [
           "Angola",
           1992
          ],
          [
           "Angola",
           1997
          ],
          [
           "Angola",
           2002
          ],
          [
           "Angola",
           2007
          ],
          [
           "Argentina",
           1952
          ],
          [
           "Argentina",
           1957
          ],
          [
           "Argentina",
           1962
          ],
          [
           "Argentina",
           1967
          ],
          [
           "Argentina",
           1972
          ],
          [
           "Argentina",
           1977
          ],
          [
           "Argentina",
           1982
          ],
          [
           "Argentina",
           1987
          ],
          [
           "Argentina",
           1992
          ],
          [
           "Argentina",
           1997
          ],
          [
           "Argentina",
           2002
          ],
          [
           "Argentina",
           2007
          ],
          [
           "Australia",
           1952
          ],
          [
           "Australia",
           1957
          ],
          [
           "Australia",
           1962
          ],
          [
           "Australia",
           1967
          ],
          [
           "Australia",
           1972
          ],
          [
           "Australia",
           1977
          ],
          [
           "Australia",
           1982
          ],
          [
           "Australia",
           1987
          ],
          [
           "Australia",
           1992
          ],
          [
           "Australia",
           1997
          ],
          [
           "Australia",
           2002
          ],
          [
           "Australia",
           2007
          ],
          [
           "Austria",
           1952
          ],
          [
           "Austria",
           1957
          ],
          [
           "Austria",
           1962
          ],
          [
           "Austria",
           1967
          ],
          [
           "Austria",
           1972
          ],
          [
           "Austria",
           1977
          ],
          [
           "Austria",
           1982
          ],
          [
           "Austria",
           1987
          ],
          [
           "Austria",
           1992
          ],
          [
           "Austria",
           1997
          ],
          [
           "Austria",
           2002
          ],
          [
           "Austria",
           2007
          ],
          [
           "Bahrain",
           1952
          ],
          [
           "Bahrain",
           1957
          ],
          [
           "Bahrain",
           1962
          ],
          [
           "Bahrain",
           1967
          ],
          [
           "Bahrain",
           1972
          ],
          [
           "Bahrain",
           1977
          ],
          [
           "Bahrain",
           1982
          ],
          [
           "Bahrain",
           1987
          ],
          [
           "Bahrain",
           1992
          ],
          [
           "Bahrain",
           1997
          ],
          [
           "Bahrain",
           2002
          ],
          [
           "Bahrain",
           2007
          ],
          [
           "Bangladesh",
           1952
          ],
          [
           "Bangladesh",
           1957
          ],
          [
           "Bangladesh",
           1962
          ],
          [
           "Bangladesh",
           1967
          ],
          [
           "Bangladesh",
           1972
          ],
          [
           "Bangladesh",
           1977
          ],
          [
           "Bangladesh",
           1982
          ],
          [
           "Bangladesh",
           1987
          ],
          [
           "Bangladesh",
           1992
          ],
          [
           "Bangladesh",
           1997
          ],
          [
           "Bangladesh",
           2002
          ],
          [
           "Bangladesh",
           2007
          ],
          [
           "Belgium",
           1952
          ],
          [
           "Belgium",
           1957
          ],
          [
           "Belgium",
           1962
          ],
          [
           "Belgium",
           1967
          ],
          [
           "Belgium",
           1972
          ],
          [
           "Belgium",
           1977
          ],
          [
           "Belgium",
           1982
          ],
          [
           "Belgium",
           1987
          ],
          [
           "Belgium",
           1992
          ],
          [
           "Belgium",
           1997
          ],
          [
           "Belgium",
           2002
          ],
          [
           "Belgium",
           2007
          ],
          [
           "Benin",
           1952
          ],
          [
           "Benin",
           1957
          ],
          [
           "Benin",
           1962
          ],
          [
           "Benin",
           1967
          ],
          [
           "Benin",
           1972
          ],
          [
           "Benin",
           1977
          ],
          [
           "Benin",
           1982
          ],
          [
           "Benin",
           1987
          ],
          [
           "Benin",
           1992
          ],
          [
           "Benin",
           1997
          ],
          [
           "Benin",
           2002
          ],
          [
           "Benin",
           2007
          ],
          [
           "Bolivia",
           1952
          ],
          [
           "Bolivia",
           1957
          ],
          [
           "Bolivia",
           1962
          ],
          [
           "Bolivia",
           1967
          ],
          [
           "Bolivia",
           1972
          ],
          [
           "Bolivia",
           1977
          ],
          [
           "Bolivia",
           1982
          ],
          [
           "Bolivia",
           1987
          ],
          [
           "Bolivia",
           1992
          ],
          [
           "Bolivia",
           1997
          ],
          [
           "Bolivia",
           2002
          ],
          [
           "Bolivia",
           2007
          ],
          [
           "Bosnia and Herzegovina",
           1952
          ],
          [
           "Bosnia and Herzegovina",
           1957
          ],
          [
           "Bosnia and Herzegovina",
           1962
          ],
          [
           "Bosnia and Herzegovina",
           1967
          ],
          [
           "Bosnia and Herzegovina",
           1972
          ],
          [
           "Bosnia and Herzegovina",
           1977
          ],
          [
           "Bosnia and Herzegovina",
           1982
          ],
          [
           "Bosnia and Herzegovina",
           1987
          ],
          [
           "Bosnia and Herzegovina",
           1992
          ],
          [
           "Bosnia and Herzegovina",
           1997
          ],
          [
           "Bosnia and Herzegovina",
           2002
          ],
          [
           "Bosnia and Herzegovina",
           2007
          ],
          [
           "Botswana",
           1952
          ],
          [
           "Botswana",
           1957
          ],
          [
           "Botswana",
           1962
          ],
          [
           "Botswana",
           1967
          ],
          [
           "Botswana",
           1972
          ],
          [
           "Botswana",
           1977
          ],
          [
           "Botswana",
           1982
          ],
          [
           "Botswana",
           1987
          ],
          [
           "Botswana",
           1992
          ],
          [
           "Botswana",
           1997
          ],
          [
           "Botswana",
           2002
          ],
          [
           "Botswana",
           2007
          ],
          [
           "Brazil",
           1952
          ],
          [
           "Brazil",
           1957
          ],
          [
           "Brazil",
           1962
          ],
          [
           "Brazil",
           1967
          ],
          [
           "Brazil",
           1972
          ],
          [
           "Brazil",
           1977
          ],
          [
           "Brazil",
           1982
          ],
          [
           "Brazil",
           1987
          ],
          [
           "Brazil",
           1992
          ],
          [
           "Brazil",
           1997
          ],
          [
           "Brazil",
           2002
          ],
          [
           "Brazil",
           2007
          ],
          [
           "Bulgaria",
           1952
          ],
          [
           "Bulgaria",
           1957
          ],
          [
           "Bulgaria",
           1962
          ],
          [
           "Bulgaria",
           1967
          ],
          [
           "Bulgaria",
           1972
          ],
          [
           "Bulgaria",
           1977
          ],
          [
           "Bulgaria",
           1982
          ],
          [
           "Bulgaria",
           1987
          ],
          [
           "Bulgaria",
           1992
          ],
          [
           "Bulgaria",
           1997
          ],
          [
           "Bulgaria",
           2002
          ],
          [
           "Bulgaria",
           2007
          ],
          [
           "Burkina Faso",
           1952
          ],
          [
           "Burkina Faso",
           1957
          ],
          [
           "Burkina Faso",
           1962
          ],
          [
           "Burkina Faso",
           1967
          ],
          [
           "Burkina Faso",
           1972
          ],
          [
           "Burkina Faso",
           1977
          ],
          [
           "Burkina Faso",
           1982
          ],
          [
           "Burkina Faso",
           1987
          ],
          [
           "Burkina Faso",
           1992
          ],
          [
           "Burkina Faso",
           1997
          ],
          [
           "Burkina Faso",
           2002
          ],
          [
           "Burkina Faso",
           2007
          ],
          [
           "Burundi",
           1952
          ],
          [
           "Burundi",
           1957
          ],
          [
           "Burundi",
           1962
          ],
          [
           "Burundi",
           1967
          ],
          [
           "Burundi",
           1972
          ],
          [
           "Burundi",
           1977
          ],
          [
           "Burundi",
           1982
          ],
          [
           "Burundi",
           1987
          ],
          [
           "Burundi",
           1992
          ],
          [
           "Burundi",
           1997
          ],
          [
           "Burundi",
           2002
          ],
          [
           "Burundi",
           2007
          ],
          [
           "Cambodia",
           1952
          ],
          [
           "Cambodia",
           1957
          ],
          [
           "Cambodia",
           1962
          ],
          [
           "Cambodia",
           1967
          ],
          [
           "Cambodia",
           1972
          ],
          [
           "Cambodia",
           1977
          ],
          [
           "Cambodia",
           1982
          ],
          [
           "Cambodia",
           1987
          ],
          [
           "Cambodia",
           1992
          ],
          [
           "Cambodia",
           1997
          ],
          [
           "Cambodia",
           2002
          ],
          [
           "Cambodia",
           2007
          ],
          [
           "Cameroon",
           1952
          ],
          [
           "Cameroon",
           1957
          ],
          [
           "Cameroon",
           1962
          ],
          [
           "Cameroon",
           1967
          ],
          [
           "Cameroon",
           1972
          ],
          [
           "Cameroon",
           1977
          ],
          [
           "Cameroon",
           1982
          ],
          [
           "Cameroon",
           1987
          ],
          [
           "Cameroon",
           1992
          ],
          [
           "Cameroon",
           1997
          ],
          [
           "Cameroon",
           2002
          ],
          [
           "Cameroon",
           2007
          ],
          [
           "Canada",
           1952
          ],
          [
           "Canada",
           1957
          ],
          [
           "Canada",
           1962
          ],
          [
           "Canada",
           1967
          ],
          [
           "Canada",
           1972
          ],
          [
           "Canada",
           1977
          ],
          [
           "Canada",
           1982
          ],
          [
           "Canada",
           1987
          ],
          [
           "Canada",
           1992
          ],
          [
           "Canada",
           1997
          ],
          [
           "Canada",
           2002
          ],
          [
           "Canada",
           2007
          ],
          [
           "Central African Republic",
           1952
          ],
          [
           "Central African Republic",
           1957
          ],
          [
           "Central African Republic",
           1962
          ],
          [
           "Central African Republic",
           1967
          ],
          [
           "Central African Republic",
           1972
          ],
          [
           "Central African Republic",
           1977
          ],
          [
           "Central African Republic",
           1982
          ],
          [
           "Central African Republic",
           1987
          ],
          [
           "Central African Republic",
           1992
          ],
          [
           "Central African Republic",
           1997
          ],
          [
           "Central African Republic",
           2002
          ],
          [
           "Central African Republic",
           2007
          ],
          [
           "Chad",
           1952
          ],
          [
           "Chad",
           1957
          ],
          [
           "Chad",
           1962
          ],
          [
           "Chad",
           1967
          ],
          [
           "Chad",
           1972
          ],
          [
           "Chad",
           1977
          ],
          [
           "Chad",
           1982
          ],
          [
           "Chad",
           1987
          ],
          [
           "Chad",
           1992
          ],
          [
           "Chad",
           1997
          ],
          [
           "Chad",
           2002
          ],
          [
           "Chad",
           2007
          ],
          [
           "Chile",
           1952
          ],
          [
           "Chile",
           1957
          ],
          [
           "Chile",
           1962
          ],
          [
           "Chile",
           1967
          ],
          [
           "Chile",
           1972
          ],
          [
           "Chile",
           1977
          ],
          [
           "Chile",
           1982
          ],
          [
           "Chile",
           1987
          ],
          [
           "Chile",
           1992
          ],
          [
           "Chile",
           1997
          ],
          [
           "Chile",
           2002
          ],
          [
           "Chile",
           2007
          ],
          [
           "China",
           1952
          ],
          [
           "China",
           1957
          ],
          [
           "China",
           1962
          ],
          [
           "China",
           1967
          ],
          [
           "China",
           1972
          ],
          [
           "China",
           1977
          ],
          [
           "China",
           1982
          ],
          [
           "China",
           1987
          ],
          [
           "China",
           1992
          ],
          [
           "China",
           1997
          ],
          [
           "China",
           2002
          ],
          [
           "China",
           2007
          ],
          [
           "Colombia",
           1952
          ],
          [
           "Colombia",
           1957
          ],
          [
           "Colombia",
           1962
          ],
          [
           "Colombia",
           1967
          ],
          [
           "Colombia",
           1972
          ],
          [
           "Colombia",
           1977
          ],
          [
           "Colombia",
           1982
          ],
          [
           "Colombia",
           1987
          ],
          [
           "Colombia",
           1992
          ],
          [
           "Colombia",
           1997
          ],
          [
           "Colombia",
           2002
          ],
          [
           "Colombia",
           2007
          ],
          [
           "Comoros",
           1952
          ],
          [
           "Comoros",
           1957
          ],
          [
           "Comoros",
           1962
          ],
          [
           "Comoros",
           1967
          ],
          [
           "Comoros",
           1972
          ],
          [
           "Comoros",
           1977
          ],
          [
           "Comoros",
           1982
          ],
          [
           "Comoros",
           1987
          ],
          [
           "Comoros",
           1992
          ],
          [
           "Comoros",
           1997
          ],
          [
           "Comoros",
           2002
          ],
          [
           "Comoros",
           2007
          ],
          [
           "Congo, Dem. Rep.",
           1952
          ],
          [
           "Congo, Dem. Rep.",
           1957
          ],
          [
           "Congo, Dem. Rep.",
           1962
          ],
          [
           "Congo, Dem. Rep.",
           1967
          ],
          [
           "Congo, Dem. Rep.",
           1972
          ],
          [
           "Congo, Dem. Rep.",
           1977
          ],
          [
           "Congo, Dem. Rep.",
           1982
          ],
          [
           "Congo, Dem. Rep.",
           1987
          ],
          [
           "Congo, Dem. Rep.",
           1992
          ],
          [
           "Congo, Dem. Rep.",
           1997
          ],
          [
           "Congo, Dem. Rep.",
           2002
          ],
          [
           "Congo, Dem. Rep.",
           2007
          ],
          [
           "Congo, Rep.",
           1952
          ],
          [
           "Congo, Rep.",
           1957
          ],
          [
           "Congo, Rep.",
           1962
          ],
          [
           "Congo, Rep.",
           1967
          ],
          [
           "Congo, Rep.",
           1972
          ],
          [
           "Congo, Rep.",
           1977
          ],
          [
           "Congo, Rep.",
           1982
          ],
          [
           "Congo, Rep.",
           1987
          ],
          [
           "Congo, Rep.",
           1992
          ],
          [
           "Congo, Rep.",
           1997
          ],
          [
           "Congo, Rep.",
           2002
          ],
          [
           "Congo, Rep.",
           2007
          ],
          [
           "Costa Rica",
           1952
          ],
          [
           "Costa Rica",
           1957
          ],
          [
           "Costa Rica",
           1962
          ],
          [
           "Costa Rica",
           1967
          ],
          [
           "Costa Rica",
           1972
          ],
          [
           "Costa Rica",
           1977
          ],
          [
           "Costa Rica",
           1982
          ],
          [
           "Costa Rica",
           1987
          ],
          [
           "Costa Rica",
           1992
          ],
          [
           "Costa Rica",
           1997
          ],
          [
           "Costa Rica",
           2002
          ],
          [
           "Costa Rica",
           2007
          ],
          [
           "Cote d'Ivoire",
           1952
          ],
          [
           "Cote d'Ivoire",
           1957
          ],
          [
           "Cote d'Ivoire",
           1962
          ],
          [
           "Cote d'Ivoire",
           1967
          ],
          [
           "Cote d'Ivoire",
           1972
          ],
          [
           "Cote d'Ivoire",
           1977
          ],
          [
           "Cote d'Ivoire",
           1982
          ],
          [
           "Cote d'Ivoire",
           1987
          ],
          [
           "Cote d'Ivoire",
           1992
          ],
          [
           "Cote d'Ivoire",
           1997
          ],
          [
           "Cote d'Ivoire",
           2002
          ],
          [
           "Cote d'Ivoire",
           2007
          ],
          [
           "Croatia",
           1952
          ],
          [
           "Croatia",
           1957
          ],
          [
           "Croatia",
           1962
          ],
          [
           "Croatia",
           1967
          ],
          [
           "Croatia",
           1972
          ],
          [
           "Croatia",
           1977
          ],
          [
           "Croatia",
           1982
          ],
          [
           "Croatia",
           1987
          ],
          [
           "Croatia",
           1992
          ],
          [
           "Croatia",
           1997
          ],
          [
           "Croatia",
           2002
          ],
          [
           "Croatia",
           2007
          ],
          [
           "Cuba",
           1952
          ],
          [
           "Cuba",
           1957
          ],
          [
           "Cuba",
           1962
          ],
          [
           "Cuba",
           1967
          ],
          [
           "Cuba",
           1972
          ],
          [
           "Cuba",
           1977
          ],
          [
           "Cuba",
           1982
          ],
          [
           "Cuba",
           1987
          ],
          [
           "Cuba",
           1992
          ],
          [
           "Cuba",
           1997
          ],
          [
           "Cuba",
           2002
          ],
          [
           "Cuba",
           2007
          ],
          [
           "Czech Republic",
           1952
          ],
          [
           "Czech Republic",
           1957
          ],
          [
           "Czech Republic",
           1962
          ],
          [
           "Czech Republic",
           1967
          ],
          [
           "Czech Republic",
           1972
          ],
          [
           "Czech Republic",
           1977
          ],
          [
           "Czech Republic",
           1982
          ],
          [
           "Czech Republic",
           1987
          ],
          [
           "Czech Republic",
           1992
          ],
          [
           "Czech Republic",
           1997
          ],
          [
           "Czech Republic",
           2002
          ],
          [
           "Czech Republic",
           2007
          ],
          [
           "Denmark",
           1952
          ],
          [
           "Denmark",
           1957
          ],
          [
           "Denmark",
           1962
          ],
          [
           "Denmark",
           1967
          ],
          [
           "Denmark",
           1972
          ],
          [
           "Denmark",
           1977
          ],
          [
           "Denmark",
           1982
          ],
          [
           "Denmark",
           1987
          ],
          [
           "Denmark",
           1992
          ],
          [
           "Denmark",
           1997
          ],
          [
           "Denmark",
           2002
          ],
          [
           "Denmark",
           2007
          ],
          [
           "Djibouti",
           1952
          ],
          [
           "Djibouti",
           1957
          ],
          [
           "Djibouti",
           1962
          ],
          [
           "Djibouti",
           1967
          ],
          [
           "Djibouti",
           1972
          ],
          [
           "Djibouti",
           1977
          ],
          [
           "Djibouti",
           1982
          ],
          [
           "Djibouti",
           1987
          ],
          [
           "Djibouti",
           1992
          ],
          [
           "Djibouti",
           1997
          ],
          [
           "Djibouti",
           2002
          ],
          [
           "Djibouti",
           2007
          ],
          [
           "Dominican Republic",
           1952
          ],
          [
           "Dominican Republic",
           1957
          ],
          [
           "Dominican Republic",
           1962
          ],
          [
           "Dominican Republic",
           1967
          ],
          [
           "Dominican Republic",
           1972
          ],
          [
           "Dominican Republic",
           1977
          ],
          [
           "Dominican Republic",
           1982
          ],
          [
           "Dominican Republic",
           1987
          ],
          [
           "Dominican Republic",
           1992
          ],
          [
           "Dominican Republic",
           1997
          ],
          [
           "Dominican Republic",
           2002
          ],
          [
           "Dominican Republic",
           2007
          ],
          [
           "Ecuador",
           1952
          ],
          [
           "Ecuador",
           1957
          ],
          [
           "Ecuador",
           1962
          ],
          [
           "Ecuador",
           1967
          ],
          [
           "Ecuador",
           1972
          ],
          [
           "Ecuador",
           1977
          ],
          [
           "Ecuador",
           1982
          ],
          [
           "Ecuador",
           1987
          ],
          [
           "Ecuador",
           1992
          ],
          [
           "Ecuador",
           1997
          ],
          [
           "Ecuador",
           2002
          ],
          [
           "Ecuador",
           2007
          ],
          [
           "Egypt",
           1952
          ],
          [
           "Egypt",
           1957
          ],
          [
           "Egypt",
           1962
          ],
          [
           "Egypt",
           1967
          ],
          [
           "Egypt",
           1972
          ],
          [
           "Egypt",
           1977
          ],
          [
           "Egypt",
           1982
          ],
          [
           "Egypt",
           1987
          ],
          [
           "Egypt",
           1992
          ],
          [
           "Egypt",
           1997
          ],
          [
           "Egypt",
           2002
          ],
          [
           "Egypt",
           2007
          ],
          [
           "El Salvador",
           1952
          ],
          [
           "El Salvador",
           1957
          ],
          [
           "El Salvador",
           1962
          ],
          [
           "El Salvador",
           1967
          ],
          [
           "El Salvador",
           1972
          ],
          [
           "El Salvador",
           1977
          ],
          [
           "El Salvador",
           1982
          ],
          [
           "El Salvador",
           1987
          ],
          [
           "El Salvador",
           1992
          ],
          [
           "El Salvador",
           1997
          ],
          [
           "El Salvador",
           2002
          ],
          [
           "El Salvador",
           2007
          ],
          [
           "Equatorial Guinea",
           1952
          ],
          [
           "Equatorial Guinea",
           1957
          ],
          [
           "Equatorial Guinea",
           1962
          ],
          [
           "Equatorial Guinea",
           1967
          ],
          [
           "Equatorial Guinea",
           1972
          ],
          [
           "Equatorial Guinea",
           1977
          ],
          [
           "Equatorial Guinea",
           1982
          ],
          [
           "Equatorial Guinea",
           1987
          ],
          [
           "Equatorial Guinea",
           1992
          ],
          [
           "Equatorial Guinea",
           1997
          ],
          [
           "Equatorial Guinea",
           2002
          ],
          [
           "Equatorial Guinea",
           2007
          ],
          [
           "Eritrea",
           1952
          ],
          [
           "Eritrea",
           1957
          ],
          [
           "Eritrea",
           1962
          ],
          [
           "Eritrea",
           1967
          ],
          [
           "Eritrea",
           1972
          ],
          [
           "Eritrea",
           1977
          ],
          [
           "Eritrea",
           1982
          ],
          [
           "Eritrea",
           1987
          ],
          [
           "Eritrea",
           1992
          ],
          [
           "Eritrea",
           1997
          ],
          [
           "Eritrea",
           2002
          ],
          [
           "Eritrea",
           2007
          ],
          [
           "Ethiopia",
           1952
          ],
          [
           "Ethiopia",
           1957
          ],
          [
           "Ethiopia",
           1962
          ],
          [
           "Ethiopia",
           1967
          ],
          [
           "Ethiopia",
           1972
          ],
          [
           "Ethiopia",
           1977
          ],
          [
           "Ethiopia",
           1982
          ],
          [
           "Ethiopia",
           1987
          ],
          [
           "Ethiopia",
           1992
          ],
          [
           "Ethiopia",
           1997
          ],
          [
           "Ethiopia",
           2002
          ],
          [
           "Ethiopia",
           2007
          ],
          [
           "Finland",
           1952
          ],
          [
           "Finland",
           1957
          ],
          [
           "Finland",
           1962
          ],
          [
           "Finland",
           1967
          ],
          [
           "Finland",
           1972
          ],
          [
           "Finland",
           1977
          ],
          [
           "Finland",
           1982
          ],
          [
           "Finland",
           1987
          ],
          [
           "Finland",
           1992
          ],
          [
           "Finland",
           1997
          ],
          [
           "Finland",
           2002
          ],
          [
           "Finland",
           2007
          ],
          [
           "France",
           1952
          ],
          [
           "France",
           1957
          ],
          [
           "France",
           1962
          ],
          [
           "France",
           1967
          ],
          [
           "France",
           1972
          ],
          [
           "France",
           1977
          ],
          [
           "France",
           1982
          ],
          [
           "France",
           1987
          ],
          [
           "France",
           1992
          ],
          [
           "France",
           1997
          ],
          [
           "France",
           2002
          ],
          [
           "France",
           2007
          ],
          [
           "Gabon",
           1952
          ],
          [
           "Gabon",
           1957
          ],
          [
           "Gabon",
           1962
          ],
          [
           "Gabon",
           1967
          ],
          [
           "Gabon",
           1972
          ],
          [
           "Gabon",
           1977
          ],
          [
           "Gabon",
           1982
          ],
          [
           "Gabon",
           1987
          ],
          [
           "Gabon",
           1992
          ],
          [
           "Gabon",
           1997
          ],
          [
           "Gabon",
           2002
          ],
          [
           "Gabon",
           2007
          ],
          [
           "Gambia",
           1952
          ],
          [
           "Gambia",
           1957
          ],
          [
           "Gambia",
           1962
          ],
          [
           "Gambia",
           1967
          ],
          [
           "Gambia",
           1972
          ],
          [
           "Gambia",
           1977
          ],
          [
           "Gambia",
           1982
          ],
          [
           "Gambia",
           1987
          ],
          [
           "Gambia",
           1992
          ],
          [
           "Gambia",
           1997
          ],
          [
           "Gambia",
           2002
          ],
          [
           "Gambia",
           2007
          ],
          [
           "Germany",
           1952
          ],
          [
           "Germany",
           1957
          ],
          [
           "Germany",
           1962
          ],
          [
           "Germany",
           1967
          ],
          [
           "Germany",
           1972
          ],
          [
           "Germany",
           1977
          ],
          [
           "Germany",
           1982
          ],
          [
           "Germany",
           1987
          ],
          [
           "Germany",
           1992
          ],
          [
           "Germany",
           1997
          ],
          [
           "Germany",
           2002
          ],
          [
           "Germany",
           2007
          ],
          [
           "Ghana",
           1952
          ],
          [
           "Ghana",
           1957
          ],
          [
           "Ghana",
           1962
          ],
          [
           "Ghana",
           1967
          ],
          [
           "Ghana",
           1972
          ],
          [
           "Ghana",
           1977
          ],
          [
           "Ghana",
           1982
          ],
          [
           "Ghana",
           1987
          ],
          [
           "Ghana",
           1992
          ],
          [
           "Ghana",
           1997
          ],
          [
           "Ghana",
           2002
          ],
          [
           "Ghana",
           2007
          ],
          [
           "Greece",
           1952
          ],
          [
           "Greece",
           1957
          ],
          [
           "Greece",
           1962
          ],
          [
           "Greece",
           1967
          ],
          [
           "Greece",
           1972
          ],
          [
           "Greece",
           1977
          ],
          [
           "Greece",
           1982
          ],
          [
           "Greece",
           1987
          ],
          [
           "Greece",
           1992
          ],
          [
           "Greece",
           1997
          ],
          [
           "Greece",
           2002
          ],
          [
           "Greece",
           2007
          ],
          [
           "Guatemala",
           1952
          ],
          [
           "Guatemala",
           1957
          ],
          [
           "Guatemala",
           1962
          ],
          [
           "Guatemala",
           1967
          ],
          [
           "Guatemala",
           1972
          ],
          [
           "Guatemala",
           1977
          ],
          [
           "Guatemala",
           1982
          ],
          [
           "Guatemala",
           1987
          ],
          [
           "Guatemala",
           1992
          ],
          [
           "Guatemala",
           1997
          ],
          [
           "Guatemala",
           2002
          ],
          [
           "Guatemala",
           2007
          ],
          [
           "Guinea",
           1952
          ],
          [
           "Guinea",
           1957
          ],
          [
           "Guinea",
           1962
          ],
          [
           "Guinea",
           1967
          ],
          [
           "Guinea",
           1972
          ],
          [
           "Guinea",
           1977
          ],
          [
           "Guinea",
           1982
          ],
          [
           "Guinea",
           1987
          ],
          [
           "Guinea",
           1992
          ],
          [
           "Guinea",
           1997
          ],
          [
           "Guinea",
           2002
          ],
          [
           "Guinea",
           2007
          ],
          [
           "Guinea-Bissau",
           1952
          ],
          [
           "Guinea-Bissau",
           1957
          ],
          [
           "Guinea-Bissau",
           1962
          ],
          [
           "Guinea-Bissau",
           1967
          ],
          [
           "Guinea-Bissau",
           1972
          ],
          [
           "Guinea-Bissau",
           1977
          ],
          [
           "Guinea-Bissau",
           1982
          ],
          [
           "Guinea-Bissau",
           1987
          ],
          [
           "Guinea-Bissau",
           1992
          ],
          [
           "Guinea-Bissau",
           1997
          ],
          [
           "Guinea-Bissau",
           2002
          ],
          [
           "Guinea-Bissau",
           2007
          ],
          [
           "Haiti",
           1952
          ],
          [
           "Haiti",
           1957
          ],
          [
           "Haiti",
           1962
          ],
          [
           "Haiti",
           1967
          ],
          [
           "Haiti",
           1972
          ],
          [
           "Haiti",
           1977
          ],
          [
           "Haiti",
           1982
          ],
          [
           "Haiti",
           1987
          ],
          [
           "Haiti",
           1992
          ],
          [
           "Haiti",
           1997
          ],
          [
           "Haiti",
           2002
          ],
          [
           "Haiti",
           2007
          ],
          [
           "Honduras",
           1952
          ],
          [
           "Honduras",
           1957
          ],
          [
           "Honduras",
           1962
          ],
          [
           "Honduras",
           1967
          ],
          [
           "Honduras",
           1972
          ],
          [
           "Honduras",
           1977
          ],
          [
           "Honduras",
           1982
          ],
          [
           "Honduras",
           1987
          ],
          [
           "Honduras",
           1992
          ],
          [
           "Honduras",
           1997
          ],
          [
           "Honduras",
           2002
          ],
          [
           "Honduras",
           2007
          ],
          [
           "Hong Kong, China",
           1952
          ],
          [
           "Hong Kong, China",
           1957
          ],
          [
           "Hong Kong, China",
           1962
          ],
          [
           "Hong Kong, China",
           1967
          ],
          [
           "Hong Kong, China",
           1972
          ],
          [
           "Hong Kong, China",
           1977
          ],
          [
           "Hong Kong, China",
           1982
          ],
          [
           "Hong Kong, China",
           1987
          ],
          [
           "Hong Kong, China",
           1992
          ],
          [
           "Hong Kong, China",
           1997
          ],
          [
           "Hong Kong, China",
           2002
          ],
          [
           "Hong Kong, China",
           2007
          ],
          [
           "Hungary",
           1952
          ],
          [
           "Hungary",
           1957
          ],
          [
           "Hungary",
           1962
          ],
          [
           "Hungary",
           1967
          ],
          [
           "Hungary",
           1972
          ],
          [
           "Hungary",
           1977
          ],
          [
           "Hungary",
           1982
          ],
          [
           "Hungary",
           1987
          ],
          [
           "Hungary",
           1992
          ],
          [
           "Hungary",
           1997
          ],
          [
           "Hungary",
           2002
          ],
          [
           "Hungary",
           2007
          ],
          [
           "Iceland",
           1952
          ],
          [
           "Iceland",
           1957
          ],
          [
           "Iceland",
           1962
          ],
          [
           "Iceland",
           1967
          ],
          [
           "Iceland",
           1972
          ],
          [
           "Iceland",
           1977
          ],
          [
           "Iceland",
           1982
          ],
          [
           "Iceland",
           1987
          ],
          [
           "Iceland",
           1992
          ],
          [
           "Iceland",
           1997
          ],
          [
           "Iceland",
           2002
          ],
          [
           "Iceland",
           2007
          ],
          [
           "India",
           1952
          ],
          [
           "India",
           1957
          ],
          [
           "India",
           1962
          ],
          [
           "India",
           1967
          ],
          [
           "India",
           1972
          ],
          [
           "India",
           1977
          ],
          [
           "India",
           1982
          ],
          [
           "India",
           1987
          ],
          [
           "India",
           1992
          ],
          [
           "India",
           1997
          ],
          [
           "India",
           2002
          ],
          [
           "India",
           2007
          ],
          [
           "Indonesia",
           1952
          ],
          [
           "Indonesia",
           1957
          ],
          [
           "Indonesia",
           1962
          ],
          [
           "Indonesia",
           1967
          ],
          [
           "Indonesia",
           1972
          ],
          [
           "Indonesia",
           1977
          ],
          [
           "Indonesia",
           1982
          ],
          [
           "Indonesia",
           1987
          ],
          [
           "Indonesia",
           1992
          ],
          [
           "Indonesia",
           1997
          ],
          [
           "Indonesia",
           2002
          ],
          [
           "Indonesia",
           2007
          ],
          [
           "Iran",
           1952
          ],
          [
           "Iran",
           1957
          ],
          [
           "Iran",
           1962
          ],
          [
           "Iran",
           1967
          ],
          [
           "Iran",
           1972
          ],
          [
           "Iran",
           1977
          ],
          [
           "Iran",
           1982
          ],
          [
           "Iran",
           1987
          ],
          [
           "Iran",
           1992
          ],
          [
           "Iran",
           1997
          ],
          [
           "Iran",
           2002
          ],
          [
           "Iran",
           2007
          ],
          [
           "Iraq",
           1952
          ],
          [
           "Iraq",
           1957
          ],
          [
           "Iraq",
           1962
          ],
          [
           "Iraq",
           1967
          ],
          [
           "Iraq",
           1972
          ],
          [
           "Iraq",
           1977
          ],
          [
           "Iraq",
           1982
          ],
          [
           "Iraq",
           1987
          ],
          [
           "Iraq",
           1992
          ],
          [
           "Iraq",
           1997
          ],
          [
           "Iraq",
           2002
          ],
          [
           "Iraq",
           2007
          ],
          [
           "Ireland",
           1952
          ],
          [
           "Ireland",
           1957
          ],
          [
           "Ireland",
           1962
          ],
          [
           "Ireland",
           1967
          ],
          [
           "Ireland",
           1972
          ],
          [
           "Ireland",
           1977
          ],
          [
           "Ireland",
           1982
          ],
          [
           "Ireland",
           1987
          ],
          [
           "Ireland",
           1992
          ],
          [
           "Ireland",
           1997
          ],
          [
           "Ireland",
           2002
          ],
          [
           "Ireland",
           2007
          ],
          [
           "Israel",
           1952
          ],
          [
           "Israel",
           1957
          ],
          [
           "Israel",
           1962
          ],
          [
           "Israel",
           1967
          ],
          [
           "Israel",
           1972
          ],
          [
           "Israel",
           1977
          ],
          [
           "Israel",
           1982
          ],
          [
           "Israel",
           1987
          ],
          [
           "Israel",
           1992
          ],
          [
           "Israel",
           1997
          ],
          [
           "Israel",
           2002
          ],
          [
           "Israel",
           2007
          ],
          [
           "Italy",
           1952
          ],
          [
           "Italy",
           1957
          ],
          [
           "Italy",
           1962
          ],
          [
           "Italy",
           1967
          ],
          [
           "Italy",
           1972
          ],
          [
           "Italy",
           1977
          ],
          [
           "Italy",
           1982
          ],
          [
           "Italy",
           1987
          ],
          [
           "Italy",
           1992
          ],
          [
           "Italy",
           1997
          ],
          [
           "Italy",
           2002
          ],
          [
           "Italy",
           2007
          ],
          [
           "Jamaica",
           1952
          ],
          [
           "Jamaica",
           1957
          ],
          [
           "Jamaica",
           1962
          ],
          [
           "Jamaica",
           1967
          ],
          [
           "Jamaica",
           1972
          ],
          [
           "Jamaica",
           1977
          ],
          [
           "Jamaica",
           1982
          ],
          [
           "Jamaica",
           1987
          ],
          [
           "Jamaica",
           1992
          ],
          [
           "Jamaica",
           1997
          ],
          [
           "Jamaica",
           2002
          ],
          [
           "Jamaica",
           2007
          ],
          [
           "Japan",
           1952
          ],
          [
           "Japan",
           1957
          ],
          [
           "Japan",
           1962
          ],
          [
           "Japan",
           1967
          ],
          [
           "Japan",
           1972
          ],
          [
           "Japan",
           1977
          ],
          [
           "Japan",
           1982
          ],
          [
           "Japan",
           1987
          ],
          [
           "Japan",
           1992
          ],
          [
           "Japan",
           1997
          ],
          [
           "Japan",
           2002
          ],
          [
           "Japan",
           2007
          ],
          [
           "Jordan",
           1952
          ],
          [
           "Jordan",
           1957
          ],
          [
           "Jordan",
           1962
          ],
          [
           "Jordan",
           1967
          ],
          [
           "Jordan",
           1972
          ],
          [
           "Jordan",
           1977
          ],
          [
           "Jordan",
           1982
          ],
          [
           "Jordan",
           1987
          ],
          [
           "Jordan",
           1992
          ],
          [
           "Jordan",
           1997
          ],
          [
           "Jordan",
           2002
          ],
          [
           "Jordan",
           2007
          ],
          [
           "Kenya",
           1952
          ],
          [
           "Kenya",
           1957
          ],
          [
           "Kenya",
           1962
          ],
          [
           "Kenya",
           1967
          ],
          [
           "Kenya",
           1972
          ],
          [
           "Kenya",
           1977
          ],
          [
           "Kenya",
           1982
          ],
          [
           "Kenya",
           1987
          ],
          [
           "Kenya",
           1992
          ],
          [
           "Kenya",
           1997
          ],
          [
           "Kenya",
           2002
          ],
          [
           "Kenya",
           2007
          ],
          [
           "Korea, Dem. Rep.",
           1952
          ],
          [
           "Korea, Dem. Rep.",
           1957
          ],
          [
           "Korea, Dem. Rep.",
           1962
          ],
          [
           "Korea, Dem. Rep.",
           1967
          ],
          [
           "Korea, Dem. Rep.",
           1972
          ],
          [
           "Korea, Dem. Rep.",
           1977
          ],
          [
           "Korea, Dem. Rep.",
           1982
          ],
          [
           "Korea, Dem. Rep.",
           1987
          ],
          [
           "Korea, Dem. Rep.",
           1992
          ],
          [
           "Korea, Dem. Rep.",
           1997
          ],
          [
           "Korea, Dem. Rep.",
           2002
          ],
          [
           "Korea, Dem. Rep.",
           2007
          ],
          [
           "Korea, Rep.",
           1952
          ],
          [
           "Korea, Rep.",
           1957
          ],
          [
           "Korea, Rep.",
           1962
          ],
          [
           "Korea, Rep.",
           1967
          ],
          [
           "Korea, Rep.",
           1972
          ],
          [
           "Korea, Rep.",
           1977
          ],
          [
           "Korea, Rep.",
           1982
          ],
          [
           "Korea, Rep.",
           1987
          ],
          [
           "Korea, Rep.",
           1992
          ],
          [
           "Korea, Rep.",
           1997
          ],
          [
           "Korea, Rep.",
           2002
          ],
          [
           "Korea, Rep.",
           2007
          ],
          [
           "Kuwait",
           1952
          ],
          [
           "Kuwait",
           1957
          ],
          [
           "Kuwait",
           1962
          ],
          [
           "Kuwait",
           1967
          ],
          [
           "Kuwait",
           1972
          ],
          [
           "Kuwait",
           1977
          ],
          [
           "Kuwait",
           1982
          ],
          [
           "Kuwait",
           1987
          ],
          [
           "Kuwait",
           1992
          ],
          [
           "Kuwait",
           1997
          ],
          [
           "Kuwait",
           2002
          ],
          [
           "Kuwait",
           2007
          ],
          [
           "Lebanon",
           1952
          ],
          [
           "Lebanon",
           1957
          ],
          [
           "Lebanon",
           1962
          ],
          [
           "Lebanon",
           1967
          ],
          [
           "Lebanon",
           1972
          ],
          [
           "Lebanon",
           1977
          ],
          [
           "Lebanon",
           1982
          ],
          [
           "Lebanon",
           1987
          ],
          [
           "Lebanon",
           1992
          ],
          [
           "Lebanon",
           1997
          ],
          [
           "Lebanon",
           2002
          ],
          [
           "Lebanon",
           2007
          ],
          [
           "Lesotho",
           1952
          ],
          [
           "Lesotho",
           1957
          ],
          [
           "Lesotho",
           1962
          ],
          [
           "Lesotho",
           1967
          ],
          [
           "Lesotho",
           1972
          ],
          [
           "Lesotho",
           1977
          ],
          [
           "Lesotho",
           1982
          ],
          [
           "Lesotho",
           1987
          ],
          [
           "Lesotho",
           1992
          ],
          [
           "Lesotho",
           1997
          ],
          [
           "Lesotho",
           2002
          ],
          [
           "Lesotho",
           2007
          ],
          [
           "Liberia",
           1952
          ],
          [
           "Liberia",
           1957
          ],
          [
           "Liberia",
           1962
          ],
          [
           "Liberia",
           1967
          ],
          [
           "Liberia",
           1972
          ],
          [
           "Liberia",
           1977
          ],
          [
           "Liberia",
           1982
          ],
          [
           "Liberia",
           1987
          ],
          [
           "Liberia",
           1992
          ],
          [
           "Liberia",
           1997
          ],
          [
           "Liberia",
           2002
          ],
          [
           "Liberia",
           2007
          ],
          [
           "Libya",
           1952
          ],
          [
           "Libya",
           1957
          ],
          [
           "Libya",
           1962
          ],
          [
           "Libya",
           1967
          ],
          [
           "Libya",
           1972
          ],
          [
           "Libya",
           1977
          ],
          [
           "Libya",
           1982
          ],
          [
           "Libya",
           1987
          ],
          [
           "Libya",
           1992
          ],
          [
           "Libya",
           1997
          ],
          [
           "Libya",
           2002
          ],
          [
           "Libya",
           2007
          ],
          [
           "Madagascar",
           1952
          ],
          [
           "Madagascar",
           1957
          ],
          [
           "Madagascar",
           1962
          ],
          [
           "Madagascar",
           1967
          ],
          [
           "Madagascar",
           1972
          ],
          [
           "Madagascar",
           1977
          ],
          [
           "Madagascar",
           1982
          ],
          [
           "Madagascar",
           1987
          ],
          [
           "Madagascar",
           1992
          ],
          [
           "Madagascar",
           1997
          ],
          [
           "Madagascar",
           2002
          ],
          [
           "Madagascar",
           2007
          ],
          [
           "Malawi",
           1952
          ],
          [
           "Malawi",
           1957
          ],
          [
           "Malawi",
           1962
          ],
          [
           "Malawi",
           1967
          ],
          [
           "Malawi",
           1972
          ],
          [
           "Malawi",
           1977
          ],
          [
           "Malawi",
           1982
          ],
          [
           "Malawi",
           1987
          ],
          [
           "Malawi",
           1992
          ],
          [
           "Malawi",
           1997
          ],
          [
           "Malawi",
           2002
          ],
          [
           "Malawi",
           2007
          ],
          [
           "Malaysia",
           1952
          ],
          [
           "Malaysia",
           1957
          ],
          [
           "Malaysia",
           1962
          ],
          [
           "Malaysia",
           1967
          ],
          [
           "Malaysia",
           1972
          ],
          [
           "Malaysia",
           1977
          ],
          [
           "Malaysia",
           1982
          ],
          [
           "Malaysia",
           1987
          ],
          [
           "Malaysia",
           1992
          ],
          [
           "Malaysia",
           1997
          ],
          [
           "Malaysia",
           2002
          ],
          [
           "Malaysia",
           2007
          ],
          [
           "Mali",
           1952
          ],
          [
           "Mali",
           1957
          ],
          [
           "Mali",
           1962
          ],
          [
           "Mali",
           1967
          ],
          [
           "Mali",
           1972
          ],
          [
           "Mali",
           1977
          ],
          [
           "Mali",
           1982
          ],
          [
           "Mali",
           1987
          ],
          [
           "Mali",
           1992
          ],
          [
           "Mali",
           1997
          ],
          [
           "Mali",
           2002
          ],
          [
           "Mali",
           2007
          ],
          [
           "Mauritania",
           1952
          ],
          [
           "Mauritania",
           1957
          ],
          [
           "Mauritania",
           1962
          ],
          [
           "Mauritania",
           1967
          ],
          [
           "Mauritania",
           1972
          ],
          [
           "Mauritania",
           1977
          ],
          [
           "Mauritania",
           1982
          ],
          [
           "Mauritania",
           1987
          ],
          [
           "Mauritania",
           1992
          ],
          [
           "Mauritania",
           1997
          ],
          [
           "Mauritania",
           2002
          ],
          [
           "Mauritania",
           2007
          ],
          [
           "Mauritius",
           1952
          ],
          [
           "Mauritius",
           1957
          ],
          [
           "Mauritius",
           1962
          ],
          [
           "Mauritius",
           1967
          ],
          [
           "Mauritius",
           1972
          ],
          [
           "Mauritius",
           1977
          ],
          [
           "Mauritius",
           1982
          ],
          [
           "Mauritius",
           1987
          ],
          [
           "Mauritius",
           1992
          ],
          [
           "Mauritius",
           1997
          ],
          [
           "Mauritius",
           2002
          ],
          [
           "Mauritius",
           2007
          ],
          [
           "Mexico",
           1952
          ],
          [
           "Mexico",
           1957
          ],
          [
           "Mexico",
           1962
          ],
          [
           "Mexico",
           1967
          ],
          [
           "Mexico",
           1972
          ],
          [
           "Mexico",
           1977
          ],
          [
           "Mexico",
           1982
          ],
          [
           "Mexico",
           1987
          ],
          [
           "Mexico",
           1992
          ],
          [
           "Mexico",
           1997
          ],
          [
           "Mexico",
           2002
          ],
          [
           "Mexico",
           2007
          ],
          [
           "Mongolia",
           1952
          ],
          [
           "Mongolia",
           1957
          ],
          [
           "Mongolia",
           1962
          ],
          [
           "Mongolia",
           1967
          ],
          [
           "Mongolia",
           1972
          ],
          [
           "Mongolia",
           1977
          ],
          [
           "Mongolia",
           1982
          ],
          [
           "Mongolia",
           1987
          ],
          [
           "Mongolia",
           1992
          ],
          [
           "Mongolia",
           1997
          ],
          [
           "Mongolia",
           2002
          ],
          [
           "Mongolia",
           2007
          ],
          [
           "Montenegro",
           1952
          ],
          [
           "Montenegro",
           1957
          ],
          [
           "Montenegro",
           1962
          ],
          [
           "Montenegro",
           1967
          ],
          [
           "Montenegro",
           1972
          ],
          [
           "Montenegro",
           1977
          ],
          [
           "Montenegro",
           1982
          ],
          [
           "Montenegro",
           1987
          ],
          [
           "Montenegro",
           1992
          ],
          [
           "Montenegro",
           1997
          ],
          [
           "Montenegro",
           2002
          ],
          [
           "Montenegro",
           2007
          ],
          [
           "Morocco",
           1952
          ],
          [
           "Morocco",
           1957
          ],
          [
           "Morocco",
           1962
          ],
          [
           "Morocco",
           1967
          ],
          [
           "Morocco",
           1972
          ],
          [
           "Morocco",
           1977
          ],
          [
           "Morocco",
           1982
          ],
          [
           "Morocco",
           1987
          ],
          [
           "Morocco",
           1992
          ],
          [
           "Morocco",
           1997
          ],
          [
           "Morocco",
           2002
          ],
          [
           "Morocco",
           2007
          ],
          [
           "Mozambique",
           1952
          ],
          [
           "Mozambique",
           1957
          ],
          [
           "Mozambique",
           1962
          ],
          [
           "Mozambique",
           1967
          ],
          [
           "Mozambique",
           1972
          ],
          [
           "Mozambique",
           1977
          ],
          [
           "Mozambique",
           1982
          ],
          [
           "Mozambique",
           1987
          ],
          [
           "Mozambique",
           1992
          ],
          [
           "Mozambique",
           1997
          ],
          [
           "Mozambique",
           2002
          ],
          [
           "Mozambique",
           2007
          ],
          [
           "Myanmar",
           1952
          ],
          [
           "Myanmar",
           1957
          ],
          [
           "Myanmar",
           1962
          ],
          [
           "Myanmar",
           1967
          ],
          [
           "Myanmar",
           1972
          ],
          [
           "Myanmar",
           1977
          ],
          [
           "Myanmar",
           1982
          ],
          [
           "Myanmar",
           1987
          ],
          [
           "Myanmar",
           1992
          ],
          [
           "Myanmar",
           1997
          ],
          [
           "Myanmar",
           2002
          ],
          [
           "Myanmar",
           2007
          ],
          [
           "Namibia",
           1952
          ],
          [
           "Namibia",
           1957
          ],
          [
           "Namibia",
           1962
          ],
          [
           "Namibia",
           1967
          ],
          [
           "Namibia",
           1972
          ],
          [
           "Namibia",
           1977
          ],
          [
           "Namibia",
           1982
          ],
          [
           "Namibia",
           1987
          ],
          [
           "Namibia",
           1992
          ],
          [
           "Namibia",
           1997
          ],
          [
           "Namibia",
           2002
          ],
          [
           "Namibia",
           2007
          ],
          [
           "Nepal",
           1952
          ],
          [
           "Nepal",
           1957
          ],
          [
           "Nepal",
           1962
          ],
          [
           "Nepal",
           1967
          ],
          [
           "Nepal",
           1972
          ],
          [
           "Nepal",
           1977
          ],
          [
           "Nepal",
           1982
          ],
          [
           "Nepal",
           1987
          ],
          [
           "Nepal",
           1992
          ],
          [
           "Nepal",
           1997
          ],
          [
           "Nepal",
           2002
          ],
          [
           "Nepal",
           2007
          ],
          [
           "Netherlands",
           1952
          ],
          [
           "Netherlands",
           1957
          ],
          [
           "Netherlands",
           1962
          ],
          [
           "Netherlands",
           1967
          ],
          [
           "Netherlands",
           1972
          ],
          [
           "Netherlands",
           1977
          ],
          [
           "Netherlands",
           1982
          ],
          [
           "Netherlands",
           1987
          ],
          [
           "Netherlands",
           1992
          ],
          [
           "Netherlands",
           1997
          ],
          [
           "Netherlands",
           2002
          ],
          [
           "Netherlands",
           2007
          ],
          [
           "New Zealand",
           1952
          ],
          [
           "New Zealand",
           1957
          ],
          [
           "New Zealand",
           1962
          ],
          [
           "New Zealand",
           1967
          ],
          [
           "New Zealand",
           1972
          ],
          [
           "New Zealand",
           1977
          ],
          [
           "New Zealand",
           1982
          ],
          [
           "New Zealand",
           1987
          ],
          [
           "New Zealand",
           1992
          ],
          [
           "New Zealand",
           1997
          ],
          [
           "New Zealand",
           2002
          ],
          [
           "New Zealand",
           2007
          ],
          [
           "Nicaragua",
           1952
          ],
          [
           "Nicaragua",
           1957
          ],
          [
           "Nicaragua",
           1962
          ],
          [
           "Nicaragua",
           1967
          ],
          [
           "Nicaragua",
           1972
          ],
          [
           "Nicaragua",
           1977
          ],
          [
           "Nicaragua",
           1982
          ],
          [
           "Nicaragua",
           1987
          ],
          [
           "Nicaragua",
           1992
          ],
          [
           "Nicaragua",
           1997
          ],
          [
           "Nicaragua",
           2002
          ],
          [
           "Nicaragua",
           2007
          ],
          [
           "Niger",
           1952
          ],
          [
           "Niger",
           1957
          ],
          [
           "Niger",
           1962
          ],
          [
           "Niger",
           1967
          ],
          [
           "Niger",
           1972
          ],
          [
           "Niger",
           1977
          ],
          [
           "Niger",
           1982
          ],
          [
           "Niger",
           1987
          ],
          [
           "Niger",
           1992
          ],
          [
           "Niger",
           1997
          ],
          [
           "Niger",
           2002
          ],
          [
           "Niger",
           2007
          ],
          [
           "Nigeria",
           1952
          ],
          [
           "Nigeria",
           1957
          ],
          [
           "Nigeria",
           1962
          ],
          [
           "Nigeria",
           1967
          ],
          [
           "Nigeria",
           1972
          ],
          [
           "Nigeria",
           1977
          ],
          [
           "Nigeria",
           1982
          ],
          [
           "Nigeria",
           1987
          ],
          [
           "Nigeria",
           1992
          ],
          [
           "Nigeria",
           1997
          ],
          [
           "Nigeria",
           2002
          ],
          [
           "Nigeria",
           2007
          ],
          [
           "Norway",
           1952
          ],
          [
           "Norway",
           1957
          ],
          [
           "Norway",
           1962
          ],
          [
           "Norway",
           1967
          ],
          [
           "Norway",
           1972
          ],
          [
           "Norway",
           1977
          ],
          [
           "Norway",
           1982
          ],
          [
           "Norway",
           1987
          ],
          [
           "Norway",
           1992
          ],
          [
           "Norway",
           1997
          ],
          [
           "Norway",
           2002
          ],
          [
           "Norway",
           2007
          ],
          [
           "Oman",
           1952
          ],
          [
           "Oman",
           1957
          ],
          [
           "Oman",
           1962
          ],
          [
           "Oman",
           1967
          ],
          [
           "Oman",
           1972
          ],
          [
           "Oman",
           1977
          ],
          [
           "Oman",
           1982
          ],
          [
           "Oman",
           1987
          ],
          [
           "Oman",
           1992
          ],
          [
           "Oman",
           1997
          ],
          [
           "Oman",
           2002
          ],
          [
           "Oman",
           2007
          ],
          [
           "Pakistan",
           1952
          ],
          [
           "Pakistan",
           1957
          ],
          [
           "Pakistan",
           1962
          ],
          [
           "Pakistan",
           1967
          ],
          [
           "Pakistan",
           1972
          ],
          [
           "Pakistan",
           1977
          ],
          [
           "Pakistan",
           1982
          ],
          [
           "Pakistan",
           1987
          ],
          [
           "Pakistan",
           1992
          ],
          [
           "Pakistan",
           1997
          ],
          [
           "Pakistan",
           2002
          ],
          [
           "Pakistan",
           2007
          ],
          [
           "Panama",
           1952
          ],
          [
           "Panama",
           1957
          ],
          [
           "Panama",
           1962
          ],
          [
           "Panama",
           1967
          ],
          [
           "Panama",
           1972
          ],
          [
           "Panama",
           1977
          ],
          [
           "Panama",
           1982
          ],
          [
           "Panama",
           1987
          ],
          [
           "Panama",
           1992
          ],
          [
           "Panama",
           1997
          ],
          [
           "Panama",
           2002
          ],
          [
           "Panama",
           2007
          ],
          [
           "Paraguay",
           1952
          ],
          [
           "Paraguay",
           1957
          ],
          [
           "Paraguay",
           1962
          ],
          [
           "Paraguay",
           1967
          ],
          [
           "Paraguay",
           1972
          ],
          [
           "Paraguay",
           1977
          ],
          [
           "Paraguay",
           1982
          ],
          [
           "Paraguay",
           1987
          ],
          [
           "Paraguay",
           1992
          ],
          [
           "Paraguay",
           1997
          ],
          [
           "Paraguay",
           2002
          ],
          [
           "Paraguay",
           2007
          ],
          [
           "Peru",
           1952
          ],
          [
           "Peru",
           1957
          ],
          [
           "Peru",
           1962
          ],
          [
           "Peru",
           1967
          ],
          [
           "Peru",
           1972
          ],
          [
           "Peru",
           1977
          ],
          [
           "Peru",
           1982
          ],
          [
           "Peru",
           1987
          ],
          [
           "Peru",
           1992
          ],
          [
           "Peru",
           1997
          ],
          [
           "Peru",
           2002
          ],
          [
           "Peru",
           2007
          ],
          [
           "Philippines",
           1952
          ],
          [
           "Philippines",
           1957
          ],
          [
           "Philippines",
           1962
          ],
          [
           "Philippines",
           1967
          ],
          [
           "Philippines",
           1972
          ],
          [
           "Philippines",
           1977
          ],
          [
           "Philippines",
           1982
          ],
          [
           "Philippines",
           1987
          ],
          [
           "Philippines",
           1992
          ],
          [
           "Philippines",
           1997
          ],
          [
           "Philippines",
           2002
          ],
          [
           "Philippines",
           2007
          ],
          [
           "Poland",
           1952
          ],
          [
           "Poland",
           1957
          ],
          [
           "Poland",
           1962
          ],
          [
           "Poland",
           1967
          ],
          [
           "Poland",
           1972
          ],
          [
           "Poland",
           1977
          ],
          [
           "Poland",
           1982
          ],
          [
           "Poland",
           1987
          ],
          [
           "Poland",
           1992
          ],
          [
           "Poland",
           1997
          ],
          [
           "Poland",
           2002
          ],
          [
           "Poland",
           2007
          ],
          [
           "Portugal",
           1952
          ],
          [
           "Portugal",
           1957
          ],
          [
           "Portugal",
           1962
          ],
          [
           "Portugal",
           1967
          ],
          [
           "Portugal",
           1972
          ],
          [
           "Portugal",
           1977
          ],
          [
           "Portugal",
           1982
          ],
          [
           "Portugal",
           1987
          ],
          [
           "Portugal",
           1992
          ],
          [
           "Portugal",
           1997
          ],
          [
           "Portugal",
           2002
          ],
          [
           "Portugal",
           2007
          ],
          [
           "Puerto Rico",
           1952
          ],
          [
           "Puerto Rico",
           1957
          ],
          [
           "Puerto Rico",
           1962
          ],
          [
           "Puerto Rico",
           1967
          ],
          [
           "Puerto Rico",
           1972
          ],
          [
           "Puerto Rico",
           1977
          ],
          [
           "Puerto Rico",
           1982
          ],
          [
           "Puerto Rico",
           1987
          ],
          [
           "Puerto Rico",
           1992
          ],
          [
           "Puerto Rico",
           1997
          ],
          [
           "Puerto Rico",
           2002
          ],
          [
           "Puerto Rico",
           2007
          ],
          [
           "Reunion",
           1952
          ],
          [
           "Reunion",
           1957
          ],
          [
           "Reunion",
           1962
          ],
          [
           "Reunion",
           1967
          ],
          [
           "Reunion",
           1972
          ],
          [
           "Reunion",
           1977
          ],
          [
           "Reunion",
           1982
          ],
          [
           "Reunion",
           1987
          ],
          [
           "Reunion",
           1992
          ],
          [
           "Reunion",
           1997
          ],
          [
           "Reunion",
           2002
          ],
          [
           "Reunion",
           2007
          ],
          [
           "Romania",
           1952
          ],
          [
           "Romania",
           1957
          ],
          [
           "Romania",
           1962
          ],
          [
           "Romania",
           1967
          ],
          [
           "Romania",
           1972
          ],
          [
           "Romania",
           1977
          ],
          [
           "Romania",
           1982
          ],
          [
           "Romania",
           1987
          ],
          [
           "Romania",
           1992
          ],
          [
           "Romania",
           1997
          ],
          [
           "Romania",
           2002
          ],
          [
           "Romania",
           2007
          ],
          [
           "Rwanda",
           1952
          ],
          [
           "Rwanda",
           1957
          ],
          [
           "Rwanda",
           1962
          ],
          [
           "Rwanda",
           1967
          ],
          [
           "Rwanda",
           1972
          ],
          [
           "Rwanda",
           1977
          ],
          [
           "Rwanda",
           1982
          ],
          [
           "Rwanda",
           1987
          ],
          [
           "Rwanda",
           1992
          ],
          [
           "Rwanda",
           1997
          ],
          [
           "Rwanda",
           2002
          ],
          [
           "Rwanda",
           2007
          ],
          [
           "Sao Tome and Principe",
           1952
          ],
          [
           "Sao Tome and Principe",
           1957
          ],
          [
           "Sao Tome and Principe",
           1962
          ],
          [
           "Sao Tome and Principe",
           1967
          ],
          [
           "Sao Tome and Principe",
           1972
          ],
          [
           "Sao Tome and Principe",
           1977
          ],
          [
           "Sao Tome and Principe",
           1982
          ],
          [
           "Sao Tome and Principe",
           1987
          ],
          [
           "Sao Tome and Principe",
           1992
          ],
          [
           "Sao Tome and Principe",
           1997
          ],
          [
           "Sao Tome and Principe",
           2002
          ],
          [
           "Sao Tome and Principe",
           2007
          ],
          [
           "Saudi Arabia",
           1952
          ],
          [
           "Saudi Arabia",
           1957
          ],
          [
           "Saudi Arabia",
           1962
          ],
          [
           "Saudi Arabia",
           1967
          ],
          [
           "Saudi Arabia",
           1972
          ],
          [
           "Saudi Arabia",
           1977
          ],
          [
           "Saudi Arabia",
           1982
          ],
          [
           "Saudi Arabia",
           1987
          ],
          [
           "Saudi Arabia",
           1992
          ],
          [
           "Saudi Arabia",
           1997
          ],
          [
           "Saudi Arabia",
           2002
          ],
          [
           "Saudi Arabia",
           2007
          ],
          [
           "Senegal",
           1952
          ],
          [
           "Senegal",
           1957
          ],
          [
           "Senegal",
           1962
          ],
          [
           "Senegal",
           1967
          ],
          [
           "Senegal",
           1972
          ],
          [
           "Senegal",
           1977
          ],
          [
           "Senegal",
           1982
          ],
          [
           "Senegal",
           1987
          ],
          [
           "Senegal",
           1992
          ],
          [
           "Senegal",
           1997
          ],
          [
           "Senegal",
           2002
          ],
          [
           "Senegal",
           2007
          ],
          [
           "Serbia",
           1952
          ],
          [
           "Serbia",
           1957
          ],
          [
           "Serbia",
           1962
          ],
          [
           "Serbia",
           1967
          ],
          [
           "Serbia",
           1972
          ],
          [
           "Serbia",
           1977
          ],
          [
           "Serbia",
           1982
          ],
          [
           "Serbia",
           1987
          ],
          [
           "Serbia",
           1992
          ],
          [
           "Serbia",
           1997
          ],
          [
           "Serbia",
           2002
          ],
          [
           "Serbia",
           2007
          ],
          [
           "Sierra Leone",
           1952
          ],
          [
           "Sierra Leone",
           1957
          ],
          [
           "Sierra Leone",
           1962
          ],
          [
           "Sierra Leone",
           1967
          ],
          [
           "Sierra Leone",
           1972
          ],
          [
           "Sierra Leone",
           1977
          ],
          [
           "Sierra Leone",
           1982
          ],
          [
           "Sierra Leone",
           1987
          ],
          [
           "Sierra Leone",
           1992
          ],
          [
           "Sierra Leone",
           1997
          ],
          [
           "Sierra Leone",
           2002
          ],
          [
           "Sierra Leone",
           2007
          ],
          [
           "Singapore",
           1952
          ],
          [
           "Singapore",
           1957
          ],
          [
           "Singapore",
           1962
          ],
          [
           "Singapore",
           1967
          ],
          [
           "Singapore",
           1972
          ],
          [
           "Singapore",
           1977
          ],
          [
           "Singapore",
           1982
          ],
          [
           "Singapore",
           1987
          ],
          [
           "Singapore",
           1992
          ],
          [
           "Singapore",
           1997
          ],
          [
           "Singapore",
           2002
          ],
          [
           "Singapore",
           2007
          ],
          [
           "Slovak Republic",
           1952
          ],
          [
           "Slovak Republic",
           1957
          ],
          [
           "Slovak Republic",
           1962
          ],
          [
           "Slovak Republic",
           1967
          ],
          [
           "Slovak Republic",
           1972
          ],
          [
           "Slovak Republic",
           1977
          ],
          [
           "Slovak Republic",
           1982
          ],
          [
           "Slovak Republic",
           1987
          ],
          [
           "Slovak Republic",
           1992
          ],
          [
           "Slovak Republic",
           1997
          ],
          [
           "Slovak Republic",
           2002
          ],
          [
           "Slovak Republic",
           2007
          ],
          [
           "Slovenia",
           1952
          ],
          [
           "Slovenia",
           1957
          ],
          [
           "Slovenia",
           1962
          ],
          [
           "Slovenia",
           1967
          ],
          [
           "Slovenia",
           1972
          ],
          [
           "Slovenia",
           1977
          ],
          [
           "Slovenia",
           1982
          ],
          [
           "Slovenia",
           1987
          ],
          [
           "Slovenia",
           1992
          ],
          [
           "Slovenia",
           1997
          ],
          [
           "Slovenia",
           2002
          ],
          [
           "Slovenia",
           2007
          ],
          [
           "Somalia",
           1952
          ],
          [
           "Somalia",
           1957
          ],
          [
           "Somalia",
           1962
          ],
          [
           "Somalia",
           1967
          ],
          [
           "Somalia",
           1972
          ],
          [
           "Somalia",
           1977
          ],
          [
           "Somalia",
           1982
          ],
          [
           "Somalia",
           1987
          ],
          [
           "Somalia",
           1992
          ],
          [
           "Somalia",
           1997
          ],
          [
           "Somalia",
           2002
          ],
          [
           "Somalia",
           2007
          ],
          [
           "South Africa",
           1952
          ],
          [
           "South Africa",
           1957
          ],
          [
           "South Africa",
           1962
          ],
          [
           "South Africa",
           1967
          ],
          [
           "South Africa",
           1972
          ],
          [
           "South Africa",
           1977
          ],
          [
           "South Africa",
           1982
          ],
          [
           "South Africa",
           1987
          ],
          [
           "South Africa",
           1992
          ],
          [
           "South Africa",
           1997
          ],
          [
           "South Africa",
           2002
          ],
          [
           "South Africa",
           2007
          ],
          [
           "Spain",
           1952
          ],
          [
           "Spain",
           1957
          ],
          [
           "Spain",
           1962
          ],
          [
           "Spain",
           1967
          ],
          [
           "Spain",
           1972
          ],
          [
           "Spain",
           1977
          ],
          [
           "Spain",
           1982
          ],
          [
           "Spain",
           1987
          ],
          [
           "Spain",
           1992
          ],
          [
           "Spain",
           1997
          ],
          [
           "Spain",
           2002
          ],
          [
           "Spain",
           2007
          ],
          [
           "Sri Lanka",
           1952
          ],
          [
           "Sri Lanka",
           1957
          ],
          [
           "Sri Lanka",
           1962
          ],
          [
           "Sri Lanka",
           1967
          ],
          [
           "Sri Lanka",
           1972
          ],
          [
           "Sri Lanka",
           1977
          ],
          [
           "Sri Lanka",
           1982
          ],
          [
           "Sri Lanka",
           1987
          ],
          [
           "Sri Lanka",
           1992
          ],
          [
           "Sri Lanka",
           1997
          ],
          [
           "Sri Lanka",
           2002
          ],
          [
           "Sri Lanka",
           2007
          ],
          [
           "Sudan",
           1952
          ],
          [
           "Sudan",
           1957
          ],
          [
           "Sudan",
           1962
          ],
          [
           "Sudan",
           1967
          ],
          [
           "Sudan",
           1972
          ],
          [
           "Sudan",
           1977
          ],
          [
           "Sudan",
           1982
          ],
          [
           "Sudan",
           1987
          ],
          [
           "Sudan",
           1992
          ],
          [
           "Sudan",
           1997
          ],
          [
           "Sudan",
           2002
          ],
          [
           "Sudan",
           2007
          ],
          [
           "Swaziland",
           1952
          ],
          [
           "Swaziland",
           1957
          ],
          [
           "Swaziland",
           1962
          ],
          [
           "Swaziland",
           1967
          ],
          [
           "Swaziland",
           1972
          ],
          [
           "Swaziland",
           1977
          ],
          [
           "Swaziland",
           1982
          ],
          [
           "Swaziland",
           1987
          ],
          [
           "Swaziland",
           1992
          ],
          [
           "Swaziland",
           1997
          ],
          [
           "Swaziland",
           2002
          ],
          [
           "Swaziland",
           2007
          ],
          [
           "Sweden",
           1952
          ],
          [
           "Sweden",
           1957
          ],
          [
           "Sweden",
           1962
          ],
          [
           "Sweden",
           1967
          ],
          [
           "Sweden",
           1972
          ],
          [
           "Sweden",
           1977
          ],
          [
           "Sweden",
           1982
          ],
          [
           "Sweden",
           1987
          ],
          [
           "Sweden",
           1992
          ],
          [
           "Sweden",
           1997
          ],
          [
           "Sweden",
           2002
          ],
          [
           "Sweden",
           2007
          ],
          [
           "Switzerland",
           1952
          ],
          [
           "Switzerland",
           1957
          ],
          [
           "Switzerland",
           1962
          ],
          [
           "Switzerland",
           1967
          ],
          [
           "Switzerland",
           1972
          ],
          [
           "Switzerland",
           1977
          ],
          [
           "Switzerland",
           1982
          ],
          [
           "Switzerland",
           1987
          ],
          [
           "Switzerland",
           1992
          ],
          [
           "Switzerland",
           1997
          ],
          [
           "Switzerland",
           2002
          ],
          [
           "Switzerland",
           2007
          ],
          [
           "Syria",
           1952
          ],
          [
           "Syria",
           1957
          ],
          [
           "Syria",
           1962
          ],
          [
           "Syria",
           1967
          ],
          [
           "Syria",
           1972
          ],
          [
           "Syria",
           1977
          ],
          [
           "Syria",
           1982
          ],
          [
           "Syria",
           1987
          ],
          [
           "Syria",
           1992
          ],
          [
           "Syria",
           1997
          ],
          [
           "Syria",
           2002
          ],
          [
           "Syria",
           2007
          ],
          [
           "Taiwan",
           1952
          ],
          [
           "Taiwan",
           1957
          ],
          [
           "Taiwan",
           1962
          ],
          [
           "Taiwan",
           1967
          ],
          [
           "Taiwan",
           1972
          ],
          [
           "Taiwan",
           1977
          ],
          [
           "Taiwan",
           1982
          ],
          [
           "Taiwan",
           1987
          ],
          [
           "Taiwan",
           1992
          ],
          [
           "Taiwan",
           1997
          ],
          [
           "Taiwan",
           2002
          ],
          [
           "Taiwan",
           2007
          ],
          [
           "Tanzania",
           1952
          ],
          [
           "Tanzania",
           1957
          ],
          [
           "Tanzania",
           1962
          ],
          [
           "Tanzania",
           1967
          ],
          [
           "Tanzania",
           1972
          ],
          [
           "Tanzania",
           1977
          ],
          [
           "Tanzania",
           1982
          ],
          [
           "Tanzania",
           1987
          ],
          [
           "Tanzania",
           1992
          ],
          [
           "Tanzania",
           1997
          ],
          [
           "Tanzania",
           2002
          ],
          [
           "Tanzania",
           2007
          ],
          [
           "Thailand",
           1952
          ],
          [
           "Thailand",
           1957
          ],
          [
           "Thailand",
           1962
          ],
          [
           "Thailand",
           1967
          ],
          [
           "Thailand",
           1972
          ],
          [
           "Thailand",
           1977
          ],
          [
           "Thailand",
           1982
          ],
          [
           "Thailand",
           1987
          ],
          [
           "Thailand",
           1992
          ],
          [
           "Thailand",
           1997
          ],
          [
           "Thailand",
           2002
          ],
          [
           "Thailand",
           2007
          ],
          [
           "Togo",
           1952
          ],
          [
           "Togo",
           1957
          ],
          [
           "Togo",
           1962
          ],
          [
           "Togo",
           1967
          ],
          [
           "Togo",
           1972
          ],
          [
           "Togo",
           1977
          ],
          [
           "Togo",
           1982
          ],
          [
           "Togo",
           1987
          ],
          [
           "Togo",
           1992
          ],
          [
           "Togo",
           1997
          ],
          [
           "Togo",
           2002
          ],
          [
           "Togo",
           2007
          ],
          [
           "Trinidad and Tobago",
           1952
          ],
          [
           "Trinidad and Tobago",
           1957
          ],
          [
           "Trinidad and Tobago",
           1962
          ],
          [
           "Trinidad and Tobago",
           1967
          ],
          [
           "Trinidad and Tobago",
           1972
          ],
          [
           "Trinidad and Tobago",
           1977
          ],
          [
           "Trinidad and Tobago",
           1982
          ],
          [
           "Trinidad and Tobago",
           1987
          ],
          [
           "Trinidad and Tobago",
           1992
          ],
          [
           "Trinidad and Tobago",
           1997
          ],
          [
           "Trinidad and Tobago",
           2002
          ],
          [
           "Trinidad and Tobago",
           2007
          ],
          [
           "Tunisia",
           1952
          ],
          [
           "Tunisia",
           1957
          ],
          [
           "Tunisia",
           1962
          ],
          [
           "Tunisia",
           1967
          ],
          [
           "Tunisia",
           1972
          ],
          [
           "Tunisia",
           1977
          ],
          [
           "Tunisia",
           1982
          ],
          [
           "Tunisia",
           1987
          ],
          [
           "Tunisia",
           1992
          ],
          [
           "Tunisia",
           1997
          ],
          [
           "Tunisia",
           2002
          ],
          [
           "Tunisia",
           2007
          ],
          [
           "Turkey",
           1952
          ],
          [
           "Turkey",
           1957
          ],
          [
           "Turkey",
           1962
          ],
          [
           "Turkey",
           1967
          ],
          [
           "Turkey",
           1972
          ],
          [
           "Turkey",
           1977
          ],
          [
           "Turkey",
           1982
          ],
          [
           "Turkey",
           1987
          ],
          [
           "Turkey",
           1992
          ],
          [
           "Turkey",
           1997
          ],
          [
           "Turkey",
           2002
          ],
          [
           "Turkey",
           2007
          ],
          [
           "Uganda",
           1952
          ],
          [
           "Uganda",
           1957
          ],
          [
           "Uganda",
           1962
          ],
          [
           "Uganda",
           1967
          ],
          [
           "Uganda",
           1972
          ],
          [
           "Uganda",
           1977
          ],
          [
           "Uganda",
           1982
          ],
          [
           "Uganda",
           1987
          ],
          [
           "Uganda",
           1992
          ],
          [
           "Uganda",
           1997
          ],
          [
           "Uganda",
           2002
          ],
          [
           "Uganda",
           2007
          ],
          [
           "United Kingdom",
           1952
          ],
          [
           "United Kingdom",
           1957
          ],
          [
           "United Kingdom",
           1962
          ],
          [
           "United Kingdom",
           1967
          ],
          [
           "United Kingdom",
           1972
          ],
          [
           "United Kingdom",
           1977
          ],
          [
           "United Kingdom",
           1982
          ],
          [
           "United Kingdom",
           1987
          ],
          [
           "United Kingdom",
           1992
          ],
          [
           "United Kingdom",
           1997
          ],
          [
           "United Kingdom",
           2002
          ],
          [
           "United Kingdom",
           2007
          ],
          [
           "United States",
           1952
          ],
          [
           "United States",
           1957
          ],
          [
           "United States",
           1962
          ],
          [
           "United States",
           1967
          ],
          [
           "United States",
           1972
          ],
          [
           "United States",
           1977
          ],
          [
           "United States",
           1982
          ],
          [
           "United States",
           1987
          ],
          [
           "United States",
           1992
          ],
          [
           "United States",
           1997
          ],
          [
           "United States",
           2002
          ],
          [
           "United States",
           2007
          ],
          [
           "Uruguay",
           1952
          ],
          [
           "Uruguay",
           1957
          ],
          [
           "Uruguay",
           1962
          ],
          [
           "Uruguay",
           1967
          ],
          [
           "Uruguay",
           1972
          ],
          [
           "Uruguay",
           1977
          ],
          [
           "Uruguay",
           1982
          ],
          [
           "Uruguay",
           1987
          ],
          [
           "Uruguay",
           1992
          ],
          [
           "Uruguay",
           1997
          ],
          [
           "Uruguay",
           2002
          ],
          [
           "Uruguay",
           2007
          ],
          [
           "Venezuela",
           1952
          ],
          [
           "Venezuela",
           1957
          ],
          [
           "Venezuela",
           1962
          ],
          [
           "Venezuela",
           1967
          ],
          [
           "Venezuela",
           1972
          ],
          [
           "Venezuela",
           1977
          ],
          [
           "Venezuela",
           1982
          ],
          [
           "Venezuela",
           1987
          ],
          [
           "Venezuela",
           1992
          ],
          [
           "Venezuela",
           1997
          ],
          [
           "Venezuela",
           2002
          ],
          [
           "Venezuela",
           2007
          ],
          [
           "Vietnam",
           1952
          ],
          [
           "Vietnam",
           1957
          ],
          [
           "Vietnam",
           1962
          ],
          [
           "Vietnam",
           1967
          ],
          [
           "Vietnam",
           1972
          ],
          [
           "Vietnam",
           1977
          ],
          [
           "Vietnam",
           1982
          ],
          [
           "Vietnam",
           1987
          ],
          [
           "Vietnam",
           1992
          ],
          [
           "Vietnam",
           1997
          ],
          [
           "Vietnam",
           2002
          ],
          [
           "Vietnam",
           2007
          ],
          [
           "West Bank and Gaza",
           1952
          ],
          [
           "West Bank and Gaza",
           1957
          ],
          [
           "West Bank and Gaza",
           1962
          ],
          [
           "West Bank and Gaza",
           1967
          ],
          [
           "West Bank and Gaza",
           1972
          ],
          [
           "West Bank and Gaza",
           1977
          ],
          [
           "West Bank and Gaza",
           1982
          ],
          [
           "West Bank and Gaza",
           1987
          ],
          [
           "West Bank and Gaza",
           1992
          ],
          [
           "West Bank and Gaza",
           1997
          ],
          [
           "West Bank and Gaza",
           2002
          ],
          [
           "West Bank and Gaza",
           2007
          ],
          [
           "Yemen, Rep.",
           1952
          ],
          [
           "Yemen, Rep.",
           1957
          ],
          [
           "Yemen, Rep.",
           1962
          ],
          [
           "Yemen, Rep.",
           1967
          ],
          [
           "Yemen, Rep.",
           1972
          ],
          [
           "Yemen, Rep.",
           1977
          ],
          [
           "Yemen, Rep.",
           1982
          ],
          [
           "Yemen, Rep.",
           1987
          ],
          [
           "Yemen, Rep.",
           1992
          ],
          [
           "Yemen, Rep.",
           1997
          ],
          [
           "Yemen, Rep.",
           2002
          ],
          [
           "Yemen, Rep.",
           2007
          ],
          [
           "Zambia",
           1952
          ],
          [
           "Zambia",
           1957
          ],
          [
           "Zambia",
           1962
          ],
          [
           "Zambia",
           1967
          ],
          [
           "Zambia",
           1972
          ],
          [
           "Zambia",
           1977
          ],
          [
           "Zambia",
           1982
          ],
          [
           "Zambia",
           1987
          ],
          [
           "Zambia",
           1992
          ],
          [
           "Zambia",
           1997
          ],
          [
           "Zambia",
           2002
          ],
          [
           "Zambia",
           2007
          ],
          [
           "Zimbabwe",
           1952
          ],
          [
           "Zimbabwe",
           1957
          ],
          [
           "Zimbabwe",
           1962
          ],
          [
           "Zimbabwe",
           1967
          ],
          [
           "Zimbabwe",
           1972
          ],
          [
           "Zimbabwe",
           1977
          ],
          [
           "Zimbabwe",
           1982
          ],
          [
           "Zimbabwe",
           1987
          ],
          [
           "Zimbabwe",
           1992
          ],
          [
           "Zimbabwe",
           1997
          ],
          [
           "Zimbabwe",
           2002
          ],
          [
           "Zimbabwe",
           2007
          ]
         ],
         "hovertemplate": "gdpPercap=%{x}<br>lifeExp=%{y}<br>country=%{customdata[0]}<br>year=%{marker.color}<extra></extra>",
         "legendgroup": "",
         "marker": {
          "color": [
           1952,
           1957,
           1962,
           1967,
           1972,
           1977,
           1982,
           1987,
           1992,
           1997,
           2002,
           2007,
           1952,
           1957,
           1962,
           1967,
           1972,
           1977,
           1982,
           1987,
           1992,
           1997,
           2002,
           2007,
           1952,
           1957,
           1962,
           1967,
           1972,
           1977,
           1982,
           1987,
           1992,
           1997,
           2002,
           2007,
           1952,
           1957,
           1962,
           1967,
           1972,
           1977,
           1982,
           1987,
           1992,
           1997,
           2002,
           2007,
           1952,
           1957,
           1962,
           1967,
           1972,
           1977,
           1982,
           1987,
           1992,
           1997,
           2002,
           2007,
           1952,
           1957,
           1962,
           1967,
           1972,
           1977,
           1982,
           1987,
           1992,
           1997,
           2002,
           2007,
           1952,
           1957,
           1962,
           1967,
           1972,
           1977,
           1982,
           1987,
           1992,
           1997,
           2002,
           2007,
           1952,
           1957,
           1962,
           1967,
           1972,
           1977,
           1982,
           1987,
           1992,
           1997,
           2002,
           2007,
           1952,
           1957,
           1962,
           1967,
           1972,
           1977,
           1982,
           1987,
           1992,
           1997,
           2002,
           2007,
           1952,
           1957,
           1962,
           1967,
           1972,
           1977,
           1982,
           1987,
           1992,
           1997,
           2002,
           2007,
           1952,
           1957,
           1962,
           1967,
           1972,
           1977,
           1982,
           1987,
           1992,
           1997,
           2002,
           2007,
           1952,
           1957,
           1962,
           1967,
           1972,
           1977,
           1982,
           1987,
           1992,
           1997,
           2002,
           2007,
           1952,
           1957,
           1962,
           1967,
           1972,
           1977,
           1982,
           1987,
           1992,
           1997,
           2002,
           2007,
           1952,
           1957,
           1962,
           1967,
           1972,
           1977,
           1982,
           1987,
           1992,
           1997,
           2002,
           2007,
           1952,
           1957,
           1962,
           1967,
           1972,
           1977,
           1982,
           1987,
           1992,
           1997,
           2002,
           2007,
           1952,
           1957,
           1962,
           1967,
           1972,
           1977,
           1982,
           1987,
           1992,
           1997,
           2002,
           2007,
           1952,
           1957,
           1962,
           1967,
           1972,
           1977,
           1982,
           1987,
           1992,
           1997,
           2002,
           2007,
           1952,
           1957,
           1962,
           1967,
           1972,
           1977,
           1982,
           1987,
           1992,
           1997,
           2002,
           2007,
           1952,
           1957,
           1962,
           1967,
           1972,
           1977,
           1982,
           1987,
           1992,
           1997,
           2002,
           2007,
           1952,
           1957,
           1962,
           1967,
           1972,
           1977,
           1982,
           1987,
           1992,
           1997,
           2002,
           2007,
           1952,
           1957,
           1962,
           1967,
           1972,
           1977,
           1982,
           1987,
           1992,
           1997,
           2002,
           2007,
           1952,
           1957,
           1962,
           1967,
           1972,
           1977,
           1982,
           1987,
           1992,
           1997,
           2002,
           2007,
           1952,
           1957,
           1962,
           1967,
           1972,
           1977,
           1982,
           1987,
           1992,
           1997,
           2002,
           2007,
           1952,
           1957,
           1962,
           1967,
           1972,
           1977,
           1982,
           1987,
           1992,
           1997,
           2002,
           2007,
           1952,
           1957,
           1962,
           1967,
           1972,
           1977,
           1982,
           1987,
           1992,
           1997,
           2002,
           2007,
           1952,
           1957,
           1962,
           1967,
           1972,
           1977,
           1982,
           1987,
           1992,
           1997,
           2002,
           2007,
           1952,
           1957,
           1962,
           1967,
           1972,
           1977,
           1982,
           1987,
           1992,
           1997,
           2002,
           2007,
           1952,
           1957,
           1962,
           1967,
           1972,
           1977,
           1982,
           1987,
           1992,
           1997,
           2002,
           2007,
           1952,
           1957,
           1962,
           1967,
           1972,
           1977,
           1982,
           1987,
           1992,
           1997,
           2002,
           2007,
           1952,
           1957,
           1962,
           1967,
           1972,
           1977,
           1982,
           1987,
           1992,
           1997,
           2002,
           2007,
           1952,
           1957,
           1962,
           1967,
           1972,
           1977,
           1982,
           1987,
           1992,
           1997,
           2002,
           2007,
           1952,
           1957,
           1962,
           1967,
           1972,
           1977,
           1982,
           1987,
           1992,
           1997,
           2002,
           2007,
           1952,
           1957,
           1962,
           1967,
           1972,
           1977,
           1982,
           1987,
           1992,
           1997,
           2002,
           2007,
           1952,
           1957,
           1962,
           1967,
           1972,
           1977,
           1982,
           1987,
           1992,
           1997,
           2002,
           2007,
           1952,
           1957,
           1962,
           1967,
           1972,
           1977,
           1982,
           1987,
           1992,
           1997,
           2002,
           2007,
           1952,
           1957,
           1962,
           1967,
           1972,
           1977,
           1982,
           1987,
           1992,
           1997,
           2002,
           2007,
           1952,
           1957,
           1962,
           1967,
           1972,
           1977,
           1982,
           1987,
           1992,
           1997,
           2002,
           2007,
           1952,
           1957,
           1962,
           1967,
           1972,
           1977,
           1982,
           1987,
           1992,
           1997,
           2002,
           2007,
           1952,
           1957,
           1962,
           1967,
           1972,
           1977,
           1982,
           1987,
           1992,
           1997,
           2002,
           2007,
           1952,
           1957,
           1962,
           1967,
           1972,
           1977,
           1982,
           1987,
           1992,
           1997,
           2002,
           2007,
           1952,
           1957,
           1962,
           1967,
           1972,
           1977,
           1982,
           1987,
           1992,
           1997,
           2002,
           2007,
           1952,
           1957,
           1962,
           1967,
           1972,
           1977,
           1982,
           1987,
           1992,
           1997,
           2002,
           2007,
           1952,
           1957,
           1962,
           1967,
           1972,
           1977,
           1982,
           1987,
           1992,
           1997,
           2002,
           2007,
           1952,
           1957,
           1962,
           1967,
           1972,
           1977,
           1982,
           1987,
           1992,
           1997,
           2002,
           2007,
           1952,
           1957,
           1962,
           1967,
           1972,
           1977,
           1982,
           1987,
           1992,
           1997,
           2002,
           2007,
           1952,
           1957,
           1962,
           1967,
           1972,
           1977,
           1982,
           1987,
           1992,
           1997,
           2002,
           2007,
           1952,
           1957,
           1962,
           1967,
           1972,
           1977,
           1982,
           1987,
           1992,
           1997,
           2002,
           2007,
           1952,
           1957,
           1962,
           1967,
           1972,
           1977,
           1982,
           1987,
           1992,
           1997,
           2002,
           2007,
           1952,
           1957,
           1962,
           1967,
           1972,
           1977,
           1982,
           1987,
           1992,
           1997,
           2002,
           2007,
           1952,
           1957,
           1962,
           1967,
           1972,
           1977,
           1982,
           1987,
           1992,
           1997,
           2002,
           2007,
           1952,
           1957,
           1962,
           1967,
           1972,
           1977,
           1982,
           1987,
           1992,
           1997,
           2002,
           2007,
           1952,
           1957,
           1962,
           1967,
           1972,
           1977,
           1982,
           1987,
           1992,
           1997,
           2002,
           2007,
           1952,
           1957,
           1962,
           1967,
           1972,
           1977,
           1982,
           1987,
           1992,
           1997,
           2002,
           2007,
           1952,
           1957,
           1962,
           1967,
           1972,
           1977,
           1982,
           1987,
           1992,
           1997,
           2002,
           2007,
           1952,
           1957,
           1962,
           1967,
           1972,
           1977,
           1982,
           1987,
           1992,
           1997,
           2002,
           2007,
           1952,
           1957,
           1962,
           1967,
           1972,
           1977,
           1982,
           1987,
           1992,
           1997,
           2002,
           2007,
           1952,
           1957,
           1962,
           1967,
           1972,
           1977,
           1982,
           1987,
           1992,
           1997,
           2002,
           2007,
           1952,
           1957,
           1962,
           1967,
           1972,
           1977,
           1982,
           1987,
           1992,
           1997,
           2002,
           2007,
           1952,
           1957,
           1962,
           1967,
           1972,
           1977,
           1982,
           1987,
           1992,
           1997,
           2002,
           2007,
           1952,
           1957,
           1962,
           1967,
           1972,
           1977,
           1982,
           1987,
           1992,
           1997,
           2002,
           2007,
           1952,
           1957,
           1962,
           1967,
           1972,
           1977,
           1982,
           1987,
           1992,
           1997,
           2002,
           2007,
           1952,
           1957,
           1962,
           1967,
           1972,
           1977,
           1982,
           1987,
           1992,
           1997,
           2002,
           2007,
           1952,
           1957,
           1962,
           1967,
           1972,
           1977,
           1982,
           1987,
           1992,
           1997,
           2002,
           2007,
           1952,
           1957,
           1962,
           1967,
           1972,
           1977,
           1982,
           1987,
           1992,
           1997,
           2002,
           2007,
           1952,
           1957,
           1962,
           1967,
           1972,
           1977,
           1982,
           1987,
           1992,
           1997,
           2002,
           2007,
           1952,
           1957,
           1962,
           1967,
           1972,
           1977,
           1982,
           1987,
           1992,
           1997,
           2002,
           2007,
           1952,
           1957,
           1962,
           1967,
           1972,
           1977,
           1982,
           1987,
           1992,
           1997,
           2002,
           2007,
           1952,
           1957,
           1962,
           1967,
           1972,
           1977,
           1982,
           1987,
           1992,
           1997,
           2002,
           2007,
           1952,
           1957,
           1962,
           1967,
           1972,
           1977,
           1982,
           1987,
           1992,
           1997,
           2002,
           2007,
           1952,
           1957,
           1962,
           1967,
           1972,
           1977,
           1982,
           1987,
           1992,
           1997,
           2002,
           2007,
           1952,
           1957,
           1962,
           1967,
           1972,
           1977,
           1982,
           1987,
           1992,
           1997,
           2002,
           2007,
           1952,
           1957,
           1962,
           1967,
           1972,
           1977,
           1982,
           1987,
           1992,
           1997,
           2002,
           2007,
           1952,
           1957,
           1962,
           1967,
           1972,
           1977,
           1982,
           1987,
           1992,
           1997,
           2002,
           2007,
           1952,
           1957,
           1962,
           1967,
           1972,
           1977,
           1982,
           1987,
           1992,
           1997,
           2002,
           2007,
           1952,
           1957,
           1962,
           1967,
           1972,
           1977,
           1982,
           1987,
           1992,
           1997,
           2002,
           2007,
           1952,
           1957,
           1962,
           1967,
           1972,
           1977,
           1982,
           1987,
           1992,
           1997,
           2002,
           2007,
           1952,
           1957,
           1962,
           1967,
           1972,
           1977,
           1982,
           1987,
           1992,
           1997,
           2002,
           2007,
           1952,
           1957,
           1962,
           1967,
           1972,
           1977,
           1982,
           1987,
           1992,
           1997,
           2002,
           2007,
           1952,
           1957,
           1962,
           1967,
           1972,
           1977,
           1982,
           1987,
           1992,
           1997,
           2002,
           2007,
           1952,
           1957,
           1962,
           1967,
           1972,
           1977,
           1982,
           1987,
           1992,
           1997,
           2002,
           2007,
           1952,
           1957,
           1962,
           1967,
           1972,
           1977,
           1982,
           1987,
           1992,
           1997,
           2002,
           2007,
           1952,
           1957,
           1962,
           1967,
           1972,
           1977,
           1982,
           1987,
           1992,
           1997,
           2002,
           2007,
           1952,
           1957,
           1962,
           1967,
           1972,
           1977,
           1982,
           1987,
           1992,
           1997,
           2002,
           2007,
           1952,
           1957,
           1962,
           1967,
           1972,
           1977,
           1982,
           1987,
           1992,
           1997,
           2002,
           2007,
           1952,
           1957,
           1962,
           1967,
           1972,
           1977,
           1982,
           1987,
           1992,
           1997,
           2002,
           2007,
           1952,
           1957,
           1962,
           1967,
           1972,
           1977,
           1982,
           1987,
           1992,
           1997,
           2002,
           2007,
           1952,
           1957,
           1962,
           1967,
           1972,
           1977,
           1982,
           1987,
           1992,
           1997,
           2002,
           2007,
           1952,
           1957,
           1962,
           1967,
           1972,
           1977,
           1982,
           1987,
           1992,
           1997,
           2002,
           2007,
           1952,
           1957,
           1962,
           1967,
           1972,
           1977,
           1982,
           1987,
           1992,
           1997,
           2002,
           2007,
           1952,
           1957,
           1962,
           1967,
           1972,
           1977,
           1982,
           1987,
           1992,
           1997,
           2002,
           2007,
           1952,
           1957,
           1962,
           1967,
           1972,
           1977,
           1982,
           1987,
           1992,
           1997,
           2002,
           2007,
           1952,
           1957,
           1962,
           1967,
           1972,
           1977,
           1982,
           1987,
           1992,
           1997,
           2002,
           2007,
           1952,
           1957,
           1962,
           1967,
           1972,
           1977,
           1982,
           1987,
           1992,
           1997,
           2002,
           2007,
           1952,
           1957,
           1962,
           1967,
           1972,
           1977,
           1982,
           1987,
           1992,
           1997,
           2002,
           2007,
           1952,
           1957,
           1962,
           1967,
           1972,
           1977,
           1982,
           1987,
           1992,
           1997,
           2002,
           2007,
           1952,
           1957,
           1962,
           1967,
           1972,
           1977,
           1982,
           1987,
           1992,
           1997,
           2002,
           2007,
           1952,
           1957,
           1962,
           1967,
           1972,
           1977,
           1982,
           1987,
           1992,
           1997,
           2002,
           2007,
           1952,
           1957,
           1962,
           1967,
           1972,
           1977,
           1982,
           1987,
           1992,
           1997,
           2002,
           2007,
           1952,
           1957,
           1962,
           1967,
           1972,
           1977,
           1982,
           1987,
           1992,
           1997,
           2002,
           2007,
           1952,
           1957,
           1962,
           1967,
           1972,
           1977,
           1982,
           1987,
           1992,
           1997,
           2002,
           2007,
           1952,
           1957,
           1962,
           1967,
           1972,
           1977,
           1982,
           1987,
           1992,
           1997,
           2002,
           2007,
           1952,
           1957,
           1962,
           1967,
           1972,
           1977,
           1982,
           1987,
           1992,
           1997,
           2002,
           2007,
           1952,
           1957,
           1962,
           1967,
           1972,
           1977,
           1982,
           1987,
           1992,
           1997,
           2002,
           2007,
           1952,
           1957,
           1962,
           1967,
           1972,
           1977,
           1982,
           1987,
           1992,
           1997,
           2002,
           2007,
           1952,
           1957,
           1962,
           1967,
           1972,
           1977,
           1982,
           1987,
           1992,
           1997,
           2002,
           2007,
           1952,
           1957,
           1962,
           1967,
           1972,
           1977,
           1982,
           1987,
           1992,
           1997,
           2002,
           2007,
           1952,
           1957,
           1962,
           1967,
           1972,
           1977,
           1982,
           1987,
           1992,
           1997,
           2002,
           2007,
           1952,
           1957,
           1962,
           1967,
           1972,
           1977,
           1982,
           1987,
           1992,
           1997,
           2002,
           2007,
           1952,
           1957,
           1962,
           1967,
           1972,
           1977,
           1982,
           1987,
           1992,
           1997,
           2002,
           2007,
           1952,
           1957,
           1962,
           1967,
           1972,
           1977,
           1982,
           1987,
           1992,
           1997,
           2002,
           2007,
           1952,
           1957,
           1962,
           1967,
           1972,
           1977,
           1982,
           1987,
           1992,
           1997,
           2002,
           2007,
           1952,
           1957,
           1962,
           1967,
           1972,
           1977,
           1982,
           1987,
           1992,
           1997,
           2002,
           2007,
           1952,
           1957,
           1962,
           1967,
           1972,
           1977,
           1982,
           1987,
           1992,
           1997,
           2002,
           2007,
           1952,
           1957,
           1962,
           1967,
           1972,
           1977,
           1982,
           1987,
           1992,
           1997,
           2002,
           2007,
           1952,
           1957,
           1962,
           1967,
           1972,
           1977,
           1982,
           1987,
           1992,
           1997,
           2002,
           2007,
           1952,
           1957,
           1962,
           1967,
           1972,
           1977,
           1982,
           1987,
           1992,
           1997,
           2002,
           2007,
           1952,
           1957,
           1962,
           1967,
           1972,
           1977,
           1982,
           1987,
           1992,
           1997,
           2002,
           2007,
           1952,
           1957,
           1962,
           1967,
           1972,
           1977,
           1982,
           1987,
           1992,
           1997,
           2002,
           2007,
           1952,
           1957,
           1962,
           1967,
           1972,
           1977,
           1982,
           1987,
           1992,
           1997,
           2002,
           2007,
           1952,
           1957,
           1962,
           1967,
           1972,
           1977,
           1982,
           1987,
           1992,
           1997,
           2002,
           2007,
           1952,
           1957,
           1962,
           1967,
           1972,
           1977,
           1982,
           1987,
           1992,
           1997,
           2002,
           2007,
           1952,
           1957,
           1962,
           1967,
           1972,
           1977,
           1982,
           1987,
           1992,
           1997,
           2002,
           2007,
           1952,
           1957,
           1962,
           1967,
           1972,
           1977,
           1982,
           1987,
           1992,
           1997,
           2002,
           2007,
           1952,
           1957,
           1962,
           1967,
           1972,
           1977,
           1982,
           1987,
           1992,
           1997,
           2002,
           2007,
           1952,
           1957,
           1962,
           1967,
           1972,
           1977,
           1982,
           1987,
           1992,
           1997,
           2002,
           2007,
           1952,
           1957,
           1962,
           1967,
           1972,
           1977,
           1982,
           1987,
           1992,
           1997,
           2002,
           2007,
           1952,
           1957,
           1962,
           1967,
           1972,
           1977,
           1982,
           1987,
           1992,
           1997,
           2002,
           2007,
           1952,
           1957,
           1962,
           1967,
           1972,
           1977,
           1982,
           1987,
           1992,
           1997,
           2002,
           2007,
           1952,
           1957,
           1962,
           1967,
           1972,
           1977,
           1982,
           1987,
           1992,
           1997,
           2002,
           2007,
           1952,
           1957,
           1962,
           1967,
           1972,
           1977,
           1982,
           1987,
           1992,
           1997,
           2002,
           2007,
           1952,
           1957,
           1962,
           1967,
           1972,
           1977,
           1982,
           1987,
           1992,
           1997,
           2002,
           2007,
           1952,
           1957,
           1962,
           1967,
           1972,
           1977,
           1982,
           1987,
           1992,
           1997,
           2002,
           2007,
           1952,
           1957,
           1962,
           1967,
           1972,
           1977,
           1982,
           1987,
           1992,
           1997,
           2002,
           2007,
           1952,
           1957,
           1962,
           1967,
           1972,
           1977,
           1982,
           1987,
           1992,
           1997,
           2002,
           2007,
           1952,
           1957,
           1962,
           1967,
           1972,
           1977,
           1982,
           1987,
           1992,
           1997,
           2002,
           2007,
           1952,
           1957,
           1962,
           1967,
           1972,
           1977,
           1982,
           1987,
           1992,
           1997,
           2002,
           2007,
           1952,
           1957,
           1962,
           1967,
           1972,
           1977,
           1982,
           1987,
           1992,
           1997,
           2002,
           2007,
           1952,
           1957,
           1962,
           1967,
           1972,
           1977,
           1982,
           1987,
           1992,
           1997,
           2002,
           2007,
           1952,
           1957,
           1962,
           1967,
           1972,
           1977,
           1982,
           1987,
           1992,
           1997,
           2002,
           2007,
           1952,
           1957,
           1962,
           1967,
           1972,
           1977,
           1982,
           1987,
           1992,
           1997,
           2002,
           2007,
           1952,
           1957,
           1962,
           1967,
           1972,
           1977,
           1982,
           1987,
           1992,
           1997,
           2002,
           2007,
           1952,
           1957,
           1962,
           1967,
           1972,
           1977,
           1982,
           1987,
           1992,
           1997,
           2002,
           2007
          ],
          "coloraxis": "coloraxis",
          "symbol": "circle"
         },
         "mode": "markers",
         "name": "",
         "showlegend": false,
         "type": "scattergl",
         "x": [
          779.4453145,
          820.8530296,
          853.1007099999997,
          836.1971382,
          739.9811057999997,
          786.11336,
          978.0114388000001,
          852.3959447999997,
          649.3413952000002,
          635.341351,
          726.7340548,
          974.5803384,
          1601.056136,
          1942.2842440000002,
          2312.888958,
          2760.196931,
          3313.422188,
          3533.0039100000013,
          3630.880722,
          3738.9327350000003,
          2497.4379010000002,
          3193.054604,
          4604.211737,
          5937.0295259999975,
          2449.008185,
          3013.976023,
          2550.81688,
          3246.991771,
          4182.663766,
          4910.416756000001,
          5745.160213,
          5681.358539,
          5023.216647,
          4797.295051,
          5288.040382,
          6223.367465,
          3520.610273,
          3827.9404649999997,
          4269.276742,
          5522.776375,
          5473.2880049999985,
          3008.647355,
          2756.953672,
          2430.208311,
          2627.8456850000002,
          2277.140884,
          2773.287312,
          4797.231267,
          5911.315053,
          6856.856212000002,
          7133.1660230000025,
          8052.9530209999975,
          9443.038526,
          10079.026740000001,
          8997.897412,
          9139.671389,
          9308.41871,
          10967.28195,
          8797.640716,
          12779.379640000001,
          10039.595640000001,
          10949.64959,
          12217.226859999999,
          14526.12465,
          16788.62948,
          18334.197509999998,
          19477.009280000002,
          21888.889030000002,
          23424.76683,
          26997.936569999998,
          30687.75473,
          34435.367439999995,
          6137.076492,
          8842.59803,
          10750.721109999999,
          12834.6024,
          16661.6256,
          19749.4223,
          21597.083619999998,
          23687.82607,
          27042.01868,
          29095.920660000003,
          32417.607689999997,
          36126.4927,
          9867.084765000001,
          11635.79945,
          12753.27514,
          14804.6727,
          18268.65839,
          19340.10196,
          19211.14731,
          18524.02406,
          19035.579169999997,
          20292.01679,
          23403.559269999998,
          29796.048339999998,
          684.2441716,
          661.6374577,
          686.3415537999998,
          721.1860862000003,
          630.2336265,
          659.8772322000002,
          676.9818656,
          751.9794035,
          837.8101642999999,
          972.7700352,
          1136.3904300000004,
          1391.253792,
          8343.105126999999,
          9714.960623,
          10991.20676,
          13149.04119,
          16672.14356,
          19117.97448,
          20979.84589,
          22525.56308,
          25575.57069,
          27561.196630000002,
          30485.88375,
          33692.60508,
          1062.7522,
          959.6010805,
          949.4990641,
          1035.831411,
          1085.796879,
          1029.161251,
          1277.897616,
          1225.85601,
          1191.207681,
          1232.975292,
          1372.877931,
          1441.284873,
          2677.3263469999997,
          2127.686326,
          2180.972546,
          2586.886053,
          2980.331339,
          3548.097832,
          3156.510452,
          2753.6914899999997,
          2961.699694,
          3326.143191,
          3413.26269,
          3822.1370840000004,
          973.5331947999999,
          1353.989176,
          1709.683679,
          2172.3524230000007,
          2860.16975,
          3528.481305,
          4126.613157,
          4314.114757,
          2546.781445,
          4766.355904,
          6018.975239,
          7446.298803,
          851.2411407,
          918.2325348999999,
          983.6539764,
          1214.709294,
          2263.6111140000007,
          3214.857818,
          4551.14215,
          6205.88385,
          7954.111645,
          8647.142313,
          11003.60508,
          12569.851770000001,
          2108.944355,
          2487.365989,
          3336.585802,
          3429.864357,
          4985.711467,
          6660.118654,
          7030.835878,
          7807.0958180000025,
          6950.2830209999975,
          7957.9808239999975,
          8131.212843000001,
          9065.800825,
          2444.2866480000002,
          3008.670727,
          4254.337839,
          5577.0028,
          6597.494398,
          7612.240438,
          8224.191647,
          8239.854824,
          6302.623438000001,
          5970.38876,
          7696.777725,
          10680.79282,
          543.2552413,
          617.1834647999998,
          722.5120206,
          794.8265597,
          854.7359763000003,
          743.3870368,
          807.1985855,
          912.0631417000001,
          931.7527731,
          946.2949617999999,
          1037.645221,
          1217.032994,
          339.29645869999996,
          379.56462810000005,
          355.2032273,
          412.97751360000007,
          464.0995039,
          556.1032651,
          559.6032309999998,
          621.8188188999999,
          631.6998778,
          463.1151478,
          446.4035126,
          430.07069160000003,
          368.46928560000003,
          434.0383364,
          496.9136476,
          523.4323142,
          421.6240257,
          524.9721831999999,
          624.4754784,
          683.8955732000003,
          682.3031755,
          734.28517,
          896.2260152999999,
          1713.7786859999999,
          1172.667655,
          1313.048099,
          1399.607441,
          1508.453148,
          1684.1465280000002,
          1783.432873,
          2367.983282,
          2602.664206,
          1793.1632780000002,
          1694.337469,
          1934.0114489999999,
          2042.0952399999999,
          11367.16112,
          12489.95006,
          13462.48555,
          16076.58803,
          18970.57086,
          22090.88306,
          22898.79214,
          26626.515030000002,
          26342.88426,
          28954.92589,
          33328.96507,
          36319.235010000004,
          1071.310713,
          1190.844328,
          1193.068753,
          1136.056615,
          1070.013275,
          1109.374338,
          956.7529906999999,
          844.8763504000003,
          747.9055252,
          740.5063317,
          738.6906068,
          706.016537,
          1178.665927,
          1308.495577,
          1389.817618,
          1196.810565,
          1104.103987,
          1133.98495,
          797.9081006,
          952.3861289999999,
          1058.0643,
          1004.9613529999999,
          1156.18186,
          1704.0637239999999,
          3939.9787890000002,
          4315.6227229999995,
          4519.094331,
          5106.654313,
          5494.024437,
          4756.763836,
          5095.6657380000015,
          5547.063754,
          7596.125964,
          10118.053179999999,
          10778.78385,
          13171.63885,
          400.44861099999997,
          575.9870009,
          487.6740183,
          612.7056934,
          676.9000921,
          741.2374699,
          962.4213804999999,
          1378.904018,
          1655.784158,
          2289.234136,
          3119.280896,
          4959.1148539999995,
          2144.115096,
          2323.805581,
          2492.351109,
          2678.729839,
          3264.660041,
          3815.80787,
          4397.575659,
          4903.2191,
          5444.648617,
          6117.361746000001,
          5755.259962,
          7006.580419,
          1102.990936,
          1211.1485480000001,
          1406.648278,
          1876.029643,
          1937.577675,
          1172.603047,
          1267.100083,
          1315.980812,
          1246.90737,
          1173.618235,
          1075.811558,
          986.1478792000001,
          780.5423257,
          905.8602302999999,
          896.3146335000001,
          861.5932424,
          904.8960685000001,
          795.757282,
          673.7478181,
          672.774812,
          457.7191807,
          312.188423,
          241.16587650000002,
          277.55185869999997,
          2125.621418,
          2315.056572,
          2464.783157,
          2677.9396420000007,
          3213.152683,
          3259.178978,
          4879.507522,
          4201.194936999998,
          4016.239529,
          3484.1643759999997,
          3484.06197,
          3632.557798,
          2627.0094710000008,
          2990.010802,
          3460.937025,
          4161.727834,
          5118.146939,
          5926.876967,
          5262.734751,
          5629.915318,
          6160.416317,
          6677.045314,
          7723.4471950000025,
          9645.06142,
          1388.594732,
          1500.895925,
          1728.8694280000002,
          2052.0504730000002,
          2378.201111,
          2517.736547,
          2602.710169,
          2156.9560690000008,
          1648.073791,
          1786.265407,
          1648.800823,
          1544.750112,
          3119.23652,
          4338.231617,
          5477.890018,
          6960.297861,
          9164.090127,
          11305.38517,
          13221.82184,
          13822.58394,
          8447.794873,
          9875.604515,
          11628.38895,
          14619.222719999998,
          5586.53878,
          6092.174359000002,
          5180.75591,
          5690.268015,
          5305.445256,
          6380.4949659999975,
          7316.918106999998,
          7532.924762999999,
          5592.843963,
          5431.990415,
          6340.646683,
          8948.102923,
          6876.14025,
          8256.343918,
          10136.86713,
          11399.44489,
          13108.4536,
          14800.160619999999,
          15377.22855,
          16310.4434,
          14297.021219999999,
          16048.51424,
          17596.210219999994,
          22833.30851,
          9692.385245,
          11099.65935,
          13583.31351,
          15937.21123,
          18866.20721,
          20422.9015,
          21688.04048,
          25116.17581,
          26406.73985,
          29804.34567,
          32166.500060000002,
          35278.41874,
          2669.529475,
          2864.969076000001,
          3020.989263,
          3020.0505129999997,
          3694.2123520000014,
          3081.7610219999997,
          2879.4680670000002,
          2880.102568,
          2377.156192000001,
          1895.016984,
          1908.2608670000002,
          2082.4815670000007,
          1397.7171369999999,
          1544.402995,
          1662.137359,
          1653.7230029999994,
          2189.874499,
          2681.9889,
          2861.092386,
          2899.842175,
          3044.214214,
          3614.101285,
          4563.808154,
          6025.374752000002,
          3522.110717,
          3780.5466509999997,
          4086.114078,
          4579.074215,
          5280.99471,
          6679.62326,
          7213.7912670000005,
          6481.776993,
          7103.7025950000025,
          7429.455876999998,
          5773.0445119999995,
          6873.262326000001,
          1418.822445,
          1458.915272,
          1693.335853,
          1814.880728,
          2024.0081469999998,
          2785.493582,
          3503.729636,
          3885.4607100000003,
          3794.755195,
          4173.181797,
          4754.604414,
          5581.180998,
          3048.3029,
          3421.523218,
          3776.8036270000002,
          4358.595393,
          4520.246008,
          5138.922374,
          4098.344175,
          4140.442097,
          4444.2317,
          5154.825496,
          5351.568665999999,
          5728.353514,
          375.6431231,
          426.0964081,
          582.8419713999998,
          915.5960025,
          672.4122571,
          958.5668124,
          927.8253427000001,
          966.8968149,
          1132.055034,
          2814.480755,
          7703.4959,
          12154.08975,
          328.9405571000001,
          344.16188589999996,
          380.99584330000016,
          468.7949699,
          514.3242081999998,
          505.7538077,
          524.8758493,
          521.1341333,
          582.8585102000002,
          913.4707900000001,
          765.3500015,
          641.3695236000002,
          362.1462796,
          378.90416319999997,
          419.4564161,
          516.1186438,
          566.2439442000001,
          556.8083834,
          577.8607471,
          573.7413142000001,
          421.3534653,
          515.8894013,
          530.0535319,
          690.8055759,
          6424.519071,
          7545.415386,
          9371.842561,
          10921.63626,
          14358.8759,
          15605.422830000001,
          18533.15761,
          21141.01223,
          20647.16499,
          23723.9502,
          28204.59057,
          33207.0844,
          7029.809327,
          8662.834898000001,
          10560.48553,
          12999.91766,
          16107.19171,
          18292.635140000002,
          20293.89746,
          22066.44214,
          24703.79615,
          25889.78487,
          28926.032339999998,
          30470.0167,
          4293.476475,
          4976.198099,
          6631.4592219999995,
          8358.761987,
          11401.948409999999,
          21745.57328,
          15113.36194,
          11864.408440000001,
          13522.157519999999,
          14722.841880000002,
          12521.71392,
          13206.48452,
          485.2306591,
          520.9267111,
          599.650276,
          734.7829124,
          756.0868363,
          884.7552507000001,
          835.8096107999999,
          611.6588611000002,
          665.6244126,
          653.7301704,
          660.5855997,
          752.7497265,
          7144.114393000003,
          10187.82665,
          12902.46291,
          14745.62561,
          18016.180269999997,
          20512.92123,
          22031.532740000002,
          24639.18566,
          26505.30317,
          27788.88416,
          30035.80198,
          32170.37442,
          911.2989371,
          1043.5615369999996,
          1190.0411179999999,
          1125.69716,
          1178.223708,
          993.2239571,
          876.032569,
          847.0061135,
          925.0601539999999,
          1005.2458119999999,
          1111.9845779999996,
          1327.60891,
          3530.690067,
          4916.299889,
          6017.1907329999985,
          8513.097016,
          12724.82957,
          14195.524280000001,
          15268.420890000001,
          16120.528390000001,
          17541.49634,
          18747.69814,
          22514.2548,
          27538.41188,
          2428.2377690000008,
          2617.155967,
          2750.364446,
          3242.5311469999997,
          4031.4082710000002,
          4879.992748,
          4820.49479,
          4246.485974,
          4439.4508399999995,
          4684.313807,
          4858.347495,
          5186.050003,
          510.19649230000016,
          576.2670245,
          686.3736739,
          708.7595409,
          741.6662307,
          874.6858642999997,
          857.2503577,
          805.5724717999999,
          794.3484384,
          869.4497667999997,
          945.5835837000001,
          942.6542111,
          299.850319,
          431.79045660000014,
          522.0343725,
          715.5806402000003,
          820.2245876000003,
          764.7259627999997,
          838.1239671,
          736.4153921,
          745.5398706,
          796.6644681,
          575.7047176,
          579.2317429999998,
          1840.366939,
          1726.887882,
          1796.589032,
          1452.057666,
          1654.456946,
          1874.2989309999998,
          2011.1595489999997,
          1823.015995,
          1456.309517,
          1341.7269310000001,
          1270.364932,
          1201.637154,
          2194.926204,
          2220.487682,
          2291.1568350000002,
          2538.269358,
          2529.842345,
          3203.208066,
          3121.760794000001,
          3023.0966989999997,
          3081.694603,
          3160.454906,
          3099.72866,
          3548.330846000001,
          3054.421209,
          3629.076457,
          4692.6482719999985,
          6197.962814,
          8315.928145,
          11186.14125,
          14560.530509999999,
          20038.472690000002,
          24757.60301,
          28377.632189999997,
          30209.01516000001,
          39724.97867,
          5263.6738159999995,
          6040.180011,
          7550.359877,
          9326.64467,
          10168.65611,
          11674.837370000001,
          12545.99066,
          12986.47998,
          10535.62855,
          11712.7768,
          14843.93556,
          18008.94444,
          7267.688428,
          9244.001412,
          10350.15906,
          13319.89568,
          15798.063619999999,
          19654.96247,
          23269.6075,
          26923.206280000002,
          25144.39201,
          28061.099660000003,
          31163.201960000002,
          36180.789189999996,
          546.5657493,
          590.061996,
          658.3471509,
          700.7706107000001,
          724.032527,
          813.3373230000003,
          855.7235377000003,
          976.5126756000001,
          1164.406809,
          1458.817442,
          1746.769454,
          2452.210407,
          749.6816546,
          858.9002707000003,
          849.2897700999997,
          762.4317721,
          1111.107907,
          1382.702056,
          1516.872988,
          1748.356961,
          2383.140898,
          3119.335603,
          2873.91287,
          3540.6515640000002,
          3035.326002,
          3290.257643,
          4187.329802,
          5906.7318049999985,
          9613.818607,
          11888.59508,
          7608.334602,
          6642.881371,
          7235.6531879999975,
          8263.590301,
          9240.761975,
          11605.71449,
          4129.766056,
          6229.333562,
          8341.737815,
          8931.459811,
          9576.037596,
          14688.235069999999,
          14517.90711,
          11643.57268,
          3745.6406869999996,
          3076.239795,
          4390.717312,
          4471.061906,
          5210.280328,
          5599.077872,
          6631.597314,
          7655.568963,
          9530.772895999999,
          11150.98113,
          12618.321409999999,
          13872.86652,
          17558.81555,
          24521.94713,
          34077.04939,
          40675.99635,
          4086.522128,
          5385.278451,
          7105.630706,
          8393.741404,
          12786.93223,
          13306.619209999999,
          15367.0292,
          17122.47986,
          18051.52254,
          20896.60924,
          21905.59514,
          25523.2771,
          4931.404154999998,
          6248.656232,
          8243.58234,
          10022.40131,
          12269.27378,
          14255.98475,
          16537.4835,
          19207.234819999998,
          22013.64486,
          24675.02446,
          27968.098169999997,
          28569.7197,
          2898.5308809999997,
          4756.525781,
          5246.107524,
          6124.7034509999985,
          7433.889293000001,
          6650.195573,
          6068.05135,
          6351.237495,
          7404.923685,
          7121.924704000001,
          6994.774861,
          7320.880262000002,
          3216.956347,
          4317.694365,
          6576.649461,
          9847.788606999999,
          14778.78636,
          16610.37701,
          19384.10571,
          22375.941890000002,
          26824.895109999998,
          28816.58499,
          28604.5919,
          31656.06806,
          1546.907807,
          1886.080591,
          2348.009158,
          2741.796252,
          2110.856309,
          2852.351568,
          4161.415959,
          4448.679912,
          3431.5936469999997,
          3645.379572,
          3844.9171939999997,
          4519.461171,
          853.5409189999997,
          944.4383152,
          896.9663732,
          1056.736457,
          1222.359968,
          1267.613204,
          1348.225791,
          1361.936856,
          1341.9217210000004,
          1360.4850210000004,
          1287.514732,
          1463.249282,
          1088.277758,
          1571.134655,
          1621.693598,
          2143.540609,
          3701.6215030000003,
          4106.301249,
          4106.525293,
          4106.4923149999995,
          3726.063507,
          1690.756814,
          1646.758151,
          1593.06548,
          1030.592226,
          1487.593537,
          1536.3443869999999,
          2029.2281420000002,
          3030.87665,
          4657.22102,
          5622.942464,
          8533.088805,
          12104.27872,
          15993.52796,
          19233.98818,
          23348.13973000001,
          108382.3529,
          113523.1329,
          95458.11176,
          80894.88326,
          109347.867,
          59265.477139999995,
          31354.03573,
          28118.42998,
          34932.91959,
          40300.61996,
          35110.10566,
          47306.98978,
          4834.804067,
          6089.7869340000025,
          5714.560611,
          6006.983042,
          7486.384341,
          8659.696836,
          7640.519520999997,
          5377.091329,
          6890.806854,
          8754.96385,
          9313.93883,
          10461.05868,
          298.8462121,
          335.9971151000001,
          411.80062660000004,
          498.63902649999994,
          496.58159220000016,
          745.3695408,
          797.2631074,
          773.9932140999997,
          977.4862724999999,
          1186.147994,
          1275.184575,
          1569.331442,
          575.5729961000002,
          620.9699901,
          634.1951625,
          713.6036482999997,
          803.0054535,
          640.3224382999998,
          572.1995694,
          506.1138573,
          636.6229191000001,
          609.1739508,
          531.4823679,
          414.5073415,
          2387.54806,
          3448.284395,
          6757.0308159999995,
          18772.75169,
          21011.497209999998,
          21951.21176,
          17364.275380000006,
          11770.5898,
          9640.138501000001,
          9467.446056,
          9534.677467,
          12057.49928,
          1443.011715,
          1589.20275,
          1643.38711,
          1634.047282,
          1748.562982,
          1544.228586,
          1302.878658,
          1155.4419480000001,
          1040.6761900000001,
          986.2958956,
          894.6370822,
          1044.770126,
          369.1650802,
          416.36980639999996,
          427.90108560000004,
          495.5147806,
          584.6219709,
          663.2236766,
          632.8039209,
          635.5173633999998,
          563.2000145,
          692.2758102999999,
          665.4231186000002,
          759.3499101,
          1831.132894,
          1810.0669920000007,
          2036.8849440000001,
          2277.742396,
          2849.09478,
          3827.9215710000003,
          4920.355951,
          5249.802653,
          7277.912802,
          10132.90964,
          10206.97794,
          12451.6558,
          452.3369807,
          490.3821867,
          496.17434280000003,
          545.0098873,
          581.3688761,
          686.3952693,
          618.0140640999998,
          684.1715576,
          739.014375,
          790.2579846,
          951.4097517999999,
          1042.581557,
          743.1159097,
          846.1202613,
          1055.8960359999999,
          1421.145193,
          1586.851781,
          1497.492223,
          1481.150189,
          1421.603576,
          1361.369784,
          1483.1361359999999,
          1579.0195429999999,
          1803.1514960000002,
          1967.955707,
          2034.037981,
          2529.0674870000007,
          2475.387562,
          2575.4841579999998,
          3710.9829630000004,
          3688.037739,
          4783.586903,
          6058.253846000001,
          7425.7052950000025,
          9021.815894,
          10956.99112,
          3478.125529,
          4131.546641,
          4581.609385,
          5754.733883,
          6809.4066900000025,
          7674.929108,
          9611.147541,
          8688.156003,
          9472.384295,
          9767.29753,
          10742.44053,
          11977.57496,
          786.5668575,
          912.6626085,
          1056.353958,
          1226.04113,
          1421.741975,
          1647.511665,
          2000.603139,
          2338.008304,
          1785.402016,
          1902.2521,
          2140.7393230000002,
          3095.772271000001,
          2647.585601,
          3682.259903,
          4649.593785,
          5907.850937,
          7778.414017,
          9595.929904999999,
          11222.58762,
          11732.51017,
          7003.3390370000025,
          6465.613349,
          6557.194282,
          9253.896111,
          1688.20357,
          1642.002314,
          1566.353493,
          1711.04477,
          1930.194975,
          2370.619976,
          2702.620356,
          2755.046991,
          2948.047252,
          2982.101858,
          3258.495584,
          3820.17523,
          468.5260381,
          495.58683330000014,
          556.6863539,
          566.6691539,
          724.9178037,
          502.31973339999996,
          462.2114149,
          389.87618460000004,
          410.89682389999996,
          472.34607710000006,
          633.6179466,
          823.6856205,
          331,
          350,
          388,
          349,
          357,
          371,
          424,
          385,
          347,
          415,
          611,
          944,
          2423.780443,
          2621.448058,
          3173.215595,
          3793.694753,
          3746.080948,
          3876.4859579999998,
          4191.100511,
          3693.7313369999997,
          3804.537999,
          3899.52426,
          4072.3247509999997,
          4811.060429,
          545.8657228999998,
          597.9363557999999,
          652.3968593,
          676.4422254,
          674.7881296,
          694.1124398,
          718.3730947,
          775.6324501,
          897.7403604,
          1010.892138,
          1057.206311,
          1091.359778,
          8941.571858,
          11276.193440000001,
          12790.849559999999,
          15363.25136,
          18794.74567,
          21209.0592,
          21399.46046,
          23651.32361,
          26790.94961,
          30246.13063,
          33724.75778,
          36797.93332,
          10556.575659999999,
          12247.39532,
          13175.678,
          14463.918930000002,
          16046.03728,
          16233.7177,
          17632.4104,
          19007.19129,
          18363.324940000002,
          21050.41377,
          23189.80135,
          25185.00911,
          3112.363948,
          3457.415947,
          3634.364406,
          4643.393534000002,
          4688.593267,
          5486.371089,
          3470.338156000001,
          2955.984375,
          2170.151724,
          2253.023004,
          2474.548819,
          2749.320965,
          761.879376,
          835.5234025000003,
          997.7661127,
          1054.384891,
          954.2092363,
          808.8970727999997,
          909.7221354000001,
          668.3000228,
          581.182725,
          580.3052092,
          601.0745012,
          619.6768923999998,
          1077.281856,
          1100.5925630000004,
          1150.9274779999996,
          1014.5141039999999,
          1698.3888379999999,
          1981.9518059999998,
          1576.97375,
          1385.029563,
          1619.848217,
          1624.941275,
          1615.2863949999999,
          2013.9773050000001,
          10095.42172,
          11653.97304,
          13450.40151,
          16361.87647,
          18965.05551,
          23311.34939,
          26298.635309999998,
          31540.9748,
          33965.66115,
          41283.16433,
          44683.97525,
          49357.19017,
          1828.230307,
          2242.746551,
          2924.638113,
          4720.942687,
          10618.03855,
          11848.343920000001,
          12954.791009999999,
          18115.223130000002,
          18616.70691,
          19702.055809999998,
          19774.83687,
          22316.19287,
          684.5971437999998,
          747.0835292,
          803.3427418,
          942.4082588,
          1049.938981,
          1175.921193,
          1443.429832,
          1704.686583,
          1971.8294640000001,
          2049.3505210000008,
          2092.712441,
          2605.94758,
          2480.380334,
          2961.800905,
          3536.540301,
          4421.009084,
          5364.249663000001,
          5351.912144,
          7009.601598,
          7034.779161,
          6618.74305,
          7113.692252,
          7356.031934000002,
          9809.185636,
          1952.3087010000002,
          2046.1547059999998,
          2148.027146,
          2299.376311,
          2523.337977,
          3248.373311,
          4258.5036039999995,
          3998.875695,
          4196.411078,
          4247.400261,
          3783.674243,
          4172.838464,
          3758.523437,
          4245.256697999999,
          4957.037982,
          5788.09333,
          5937.827283,
          6281.2908549999975,
          6434.501797,
          6360.9434439999995,
          4446.380924,
          5838.347657,
          5909.020073,
          7408.905561,
          1272.880995,
          1547.9448439999999,
          1649.5521529999999,
          1814.12743,
          1989.3740699999998,
          2373.204287,
          2603.273765,
          2189.634995,
          2279.324017000001,
          2536.534925,
          2650.921068,
          3190.481016,
          4029.3296990000003,
          4734.253019,
          5338.752143,
          6557.152776,
          8006.506993000001,
          9508.141454,
          8451.531004,
          9082.351172,
          7738.881247,
          10159.58368,
          12002.23908,
          15389.924680000002,
          3068.319867,
          3774.571743,
          4727.954889,
          6361.517993,
          9022.247417,
          10172.48572,
          11753.84291,
          13039.30876,
          16207.266630000002,
          17641.03156,
          19970.90787,
          20509.64777,
          3081.959785,
          3907.1561890000003,
          5108.34463,
          6929.277714,
          9123.041742,
          9770.524921,
          10330.98915,
          12281.34191,
          14641.587109999999,
          16999.4333,
          18855.606180000002,
          19328.70901,
          2718.885295,
          2769.451844,
          3173.72334,
          4021.1757390000002,
          5047.658563,
          4319.804067,
          5267.219353,
          5303.377488,
          6101.2558229999995,
          6071.941411,
          6316.1652,
          7670.122558,
          3144.613186,
          3943.370225,
          4734.9975859999995,
          6470.866545,
          8011.414401999998,
          9356.39724,
          9605.314053,
          9696.273295,
          6598.409903,
          7346.547556999999,
          7885.360081,
          10808.47561,
          493.32387520000003,
          540.2893982999999,
          597.4730727000001,
          510.9637142,
          590.5806637999998,
          670.0806011,
          881.5706467,
          847.991217,
          737.0685949,
          589.9445051,
          785.6537647999999,
          863.0884639000003,
          879.5835855,
          860.7369026,
          1071.551119,
          1384.840593,
          1532.985254,
          1737.561657,
          1890.2181170000001,
          1516.525457,
          1428.777814,
          1339.076036,
          1353.09239,
          1598.435089,
          6459.5548229999995,
          8157.591248000002,
          11626.41975,
          16903.04886,
          24837.42865,
          34167.7626,
          33693.17525,
          21198.26136,
          24841.617769999997,
          20586.69019,
          19014.54118,
          21654.83194,
          1450.356983,
          1567.653006,
          1654.988723,
          1612.404632,
          1597.712056,
          1561.769116,
          1518.479984,
          1441.72072,
          1367.899369,
          1392.368347,
          1519.635262,
          1712.4721359999999,
          3581.4594479999996,
          4981.090891,
          6289.629157,
          7991.707066,
          10522.067490000001,
          12980.66956,
          15181.0927,
          15870.878509999999,
          9325.068238,
          7914.320304000003,
          7236.075251,
          9786.534714,
          879.7877358,
          1004.484437,
          1116.6398769999996,
          1206.043465,
          1353.759762,
          1348.285159,
          1465.010784,
          1294.4477880000004,
          1068.696278,
          574.6481576,
          699.4897129999997,
          862.5407561000003,
          2315.138227,
          2843.104409,
          3674.735572,
          4977.41854,
          8597.756202,
          11210.08948,
          15169.161119999999,
          18861.53081,
          24769.8912,
          33519.4766,
          36023.1054,
          47143.179639999995,
          5074.659104,
          6093.2629799999995,
          7481.1075980000005,
          8412.902397,
          9674.167626,
          10922.664040000001,
          11348.54585,
          12037.26758,
          9498.467723,
          12126.23065,
          13638.778369999998,
          18678.31435,
          4215.041741,
          5862.276629,
          7402.303395,
          9405.489397,
          12383.4862,
          15277.030169999998,
          17866.72175,
          18678.53492,
          14214.71681,
          17161.10735,
          20660.01936,
          25768.25759,
          1135.749842,
          1258.1474130000001,
          1369.488336,
          1284.7331800000004,
          1254.576127,
          1450.9925130000001,
          1176.807031,
          1093.244963,
          926.9602964,
          930.5964284,
          882.0818218000003,
          926.1410683,
          4725.295531000002,
          5487.104219,
          5768.729717,
          7114.4779709999975,
          7765.962636,
          8028.651439,
          8568.266228,
          7825.823398,
          7225.069257999998,
          7479.188244,
          7710.946444,
          9269.657808,
          3834.0347420000003,
          4564.80241,
          5693.843879,
          7993.512294,
          10638.75131,
          13236.92117,
          13926.169969999999,
          15764.98313,
          18603.06452,
          20445.29896,
          24835.47166,
          28821.0637,
          1083.53203,
          1072.546602,
          1074.4719599999999,
          1135.514326,
          1213.39553,
          1348.775651,
          1648.0797890000001,
          1876.766827,
          2153.7392219999997,
          2664.477257,
          3015.3788329999998,
          3970.0954070000003,
          1615.991129,
          1770.3370739999998,
          1959.593767,
          1687.997641,
          1659.652775,
          2202.9884230000002,
          1895.544073,
          1507.819159,
          1492.197043,
          1632.2107640000006,
          1993.398314,
          2602.394995,
          1148.376626,
          1244.708364,
          1856.182125,
          2613.1016649999997,
          3364.836625,
          3781.410618,
          3895.384018,
          3984.8398119999997,
          3553.0224,
          3876.7684600000002,
          4128.116943,
          4513.480643,
          8527.844662000001,
          9911.878226,
          12329.441920000001,
          15258.29697,
          17832.02464,
          18855.72521,
          20667.38125,
          23586.92927,
          23880.01683,
          25266.59499,
          29341.63093000001,
          33859.74835,
          14734.23275,
          17909.48973,
          20431.0927,
          22966.14432,
          27195.113039999997,
          26982.29052,
          28397.715119999997,
          30281.704589999998,
          31871.5303,
          32135.323010000004,
          34480.95771,
          37506.419069999996,
          1643.485354,
          2117.234893,
          2193.037133,
          1881.923632,
          2571.423014,
          3195.484582,
          3761.8377149999997,
          3116.774285,
          3340.542768,
          4014.238972,
          4090.9253310000004,
          4184.548089,
          1206.947913,
          1507.86129,
          1822.879028,
          2643.8586809999997,
          4062.523897,
          5596.519826,
          7426.354773999998,
          11054.56175,
          15215.6579,
          20206.82098,
          23235.42329,
          28718.27684,
          716.6500721,
          698.5356073,
          722.0038073,
          848.2186575,
          915.9850592,
          962.4922932,
          874.2426069,
          831.8220794,
          825.682454,
          789.1862231,
          899.0742111,
          1107.482182,
          757.7974177,
          793.5774147999997,
          1002.1991720000001,
          1295.46066,
          1524.3589359999999,
          1961.2246350000007,
          2393.219781,
          2982.653773,
          4616.896545000001,
          5852.625497,
          5913.187529,
          7458.396326999998,
          859.8086567,
          925.9083201999999,
          1067.5348099999999,
          1477.59676,
          1649.660188,
          1532.776998,
          1344.577953,
          1202.201361,
          1034.298904,
          982.2869242999999,
          886.2205765000001,
          882.9699437999999,
          3023.271928,
          4100.3934,
          4997.523971000001,
          5621.368472,
          6619.5514189999985,
          7899.554209000001,
          9119.528607,
          7388.597823,
          7370.990932,
          8792.573126000001,
          11460.60023,
          18008.50924,
          1468.475631,
          1395.232468,
          1660.30321,
          1932.3601670000005,
          2753.285994000001,
          3120.876811,
          3560.2331740000004,
          3810.419296,
          4332.720164,
          4876.798614,
          5722.8956549999975,
          7092.923025,
          1969.1009800000002,
          2218.754257,
          2322.8699079999997,
          2826.356387000001,
          3450.69638,
          4269.122326,
          4241.356344,
          5089.043686,
          5678.348271,
          6601.429915,
          6508.085718,
          8458.276384,
          734.753484,
          774.3710692000003,
          767.2717397999999,
          908.9185217,
          950.735869,
          843.7331372000001,
          682.2662267999998,
          617.7244065,
          644.1707968999998,
          816.559081,
          927.7210018,
          1056.3801210000001,
          9979.508487000001,
          11283.17795,
          12477.17707,
          14142.85089,
          15895.116409999999,
          17428.74846,
          18232.42452,
          21664.787669999998,
          22705.09254,
          26074.53136,
          29478.99919,
          33203.26128,
          13990.482080000002,
          14847.12712,
          16173.145859999999,
          19530.365569999998,
          21806.03594,
          24072.63213,
          25009.55914,
          29884.35041000001,
          32003.93224,
          35767.43303,
          39097.09955,
          42951.65309,
          5716.766744,
          6150.772969,
          5603.357717,
          5444.61962,
          5703.408898,
          6504.3396630000025,
          6920.223051000001,
          7452.398969,
          8137.004775,
          9230.240708,
          7727.002004000001,
          10611.46299,
          7689.799761,
          9802.466526,
          8422.974165000001,
          9541.474188,
          10505.25966,
          13143.95095,
          11152.410109999999,
          9883.584648,
          10733.926309999999,
          10165.49518,
          8605.047831,
          11415.805690000001,
          605.0664917,
          676.2854477999998,
          772.0491602000003,
          637.1232887,
          699.5016441,
          713.5371196000001,
          707.2357863,
          820.7994449,
          989.0231487,
          1385.896769,
          1764.456677,
          2441.576404,
          1515.5923289999994,
          1827.0677420000002,
          2198.9563120000007,
          2649.7150070000002,
          3133.4092769999997,
          3682.8314939999996,
          4336.032082,
          5107.197384,
          6017.654756,
          7110.667619,
          4515.487575,
          3025.349798,
          781.7175761,
          804.8304547,
          825.6232006,
          862.4421463,
          1265.047031,
          1829.765177,
          1977.5570100000002,
          1971.741538,
          1879.496673,
          2117.484526,
          2234.820827,
          2280.769906,
          1147.388831,
          1311.956766,
          1452.725766,
          1777.0773179999999,
          1773.498265,
          1588.688299,
          1408.678565,
          1213.315116,
          1210.884633,
          1071.353818,
          1071.6139380000004,
          1271.211593,
          406.8841148,
          518.7642681,
          527.2721818,
          569.7950712,
          799.3621757999997,
          685.5876821,
          788.8550411,
          706.1573059,
          693.4207856,
          792.4499602999997,
          672.0386227000001,
          469.70929810000007
         ],
         "xaxis": "x",
         "y": [
          28.801,
          30.331999999999997,
          31.997,
          34.02,
          36.088,
          38.438,
          39.854,
          40.821999999999996,
          41.674,
          41.76300000000001,
          42.129,
          43.828,
          55.23,
          59.28,
          64.82,
          66.22,
          67.69,
          68.93,
          70.42,
          72,
          71.581,
          72.95,
          75.65100000000002,
          76.423,
          43.077,
          45.685,
          48.303000000000004,
          51.407,
          54.518,
          58.013999999999996,
          61.368,
          65.79899999999999,
          67.744,
          69.152,
          70.994,
          72.301,
          30.015,
          31.999000000000002,
          34,
          35.985,
          37.928000000000004,
          39.483000000000004,
          39.942,
          39.906,
          40.647,
          40.963,
          41.003,
          42.731,
          62.485,
          64.399,
          65.142,
          65.634,
          67.065,
          68.48100000000001,
          69.942,
          70.774,
          71.868,
          73.275,
          74.34,
          75.32,
          69.12,
          70.33,
          70.93,
          71.1,
          71.93,
          73.49,
          74.74,
          76.32,
          77.56,
          78.83,
          80.37,
          81.235,
          66.8,
          67.48,
          69.54,
          70.14,
          70.63,
          72.17,
          73.18,
          74.94,
          76.04,
          77.51,
          78.98,
          79.829,
          50.93899999999999,
          53.832,
          56.923,
          59.923,
          63.3,
          65.593,
          69.05199999999999,
          70.75,
          72.601,
          73.925,
          74.795,
          75.635,
          37.484,
          39.348,
          41.216,
          43.453,
          45.251999999999995,
          46.923,
          50.00899999999999,
          52.818999999999996,
          56.018,
          59.412,
          62.01300000000001,
          64.062,
          68,
          69.24,
          70.25,
          70.94,
          71.44,
          72.8,
          73.93,
          75.35,
          76.46,
          77.53,
          78.32,
          79.441,
          38.223,
          40.358000000000004,
          42.618,
          44.885,
          47.013999999999996,
          49.19,
          50.903999999999996,
          52.336999999999996,
          53.919,
          54.777,
          54.40600000000001,
          56.728,
          40.414,
          41.89,
          43.428000000000004,
          45.032,
          46.714,
          50.023,
          53.858999999999995,
          57.25100000000001,
          59.957,
          62.05,
          63.883,
          65.554,
          53.82,
          58.45,
          61.93,
          64.79,
          67.45,
          69.86,
          70.69,
          71.14,
          72.178,
          73.244,
          74.09,
          74.852,
          47.622,
          49.618,
          51.52,
          53.298,
          56.023999999999994,
          59.318999999999996,
          61.483999999999995,
          63.622,
          62.745,
          52.556000000000004,
          46.63399999999999,
          50.728,
          50.917,
          53.285,
          55.665,
          57.632,
          59.504,
          61.489,
          63.33600000000001,
          65.205,
          67.057,
          69.388,
          71.006,
          72.39,
          59.6,
          66.61,
          69.51,
          70.42,
          70.9,
          70.81,
          71.08,
          71.34,
          71.19,
          70.32,
          72.14,
          73.005,
          31.975,
          34.906,
          37.814,
          40.696999999999996,
          43.591,
          46.137,
          48.122,
          49.556999999999995,
          50.26,
          50.324,
          50.65,
          52.295,
          39.031,
          40.533,
          42.045,
          43.548,
          44.056999999999995,
          45.91,
          47.471000000000004,
          48.21100000000001,
          44.736000000000004,
          45.326,
          47.36,
          49.58,
          39.417,
          41.36600000000001,
          43.415,
          45.415,
          40.317,
          31.22,
          50.957,
          53.913999999999994,
          55.803000000000004,
          56.534,
          56.751999999999995,
          59.723,
          38.523,
          40.428000000000004,
          42.643,
          44.799,
          47.049,
          49.355,
          52.96100000000001,
          54.985,
          54.31399999999999,
          52.199,
          49.856,
          50.43,
          68.75,
          69.96,
          71.3,
          72.13,
          72.88,
          74.21,
          75.76,
          76.86,
          77.95,
          78.61,
          79.77,
          80.653,
          35.463,
          37.464,
          39.475,
          41.478,
          43.457,
          46.775,
          48.295,
          50.485,
          49.396,
          46.066,
          43.308,
          44.74100000000001,
          38.092,
          39.881,
          41.716,
          43.601000000000006,
          45.568999999999996,
          47.383,
          49.516999999999996,
          51.051,
          51.724,
          51.573,
          50.525,
          50.651,
          54.745,
          56.074,
          57.924,
          60.523,
          63.441,
          67.05199999999999,
          70.565,
          72.492,
          74.126,
          75.816,
          77.86,
          78.553,
          44,
          50.54896,
          44.50136,
          58.381119999999996,
          63.118880000000004,
          63.96736,
          65.525,
          67.274,
          68.69,
          70.426,
          72.028,
          72.961,
          50.643,
          55.118,
          57.863,
          59.963,
          61.62300000000001,
          63.836999999999996,
          66.653,
          67.768,
          68.421,
          70.313,
          71.682,
          72.889,
          40.715,
          42.46,
          44.467,
          46.472,
          48.943999999999996,
          50.93899999999999,
          52.933,
          54.926,
          57.93899999999999,
          60.66,
          62.974,
          65.152,
          39.143,
          40.652,
          42.122,
          44.056000000000004,
          45.989,
          47.803999999999995,
          47.784,
          47.412,
          45.548,
          42.586999999999996,
          44.966,
          46.461999999999996,
          42.111000000000004,
          45.053000000000004,
          48.435,
          52.04,
          54.907,
          55.625,
          56.695,
          57.47,
          56.433,
          52.961999999999996,
          52.97,
          55.321999999999996,
          57.206,
          60.026,
          62.842,
          65.42399999999999,
          67.84899999999999,
          70.75,
          73.45,
          74.752,
          75.71300000000002,
          77.26,
          78.123,
          78.782,
          40.477,
          42.468999999999994,
          44.93,
          47.35,
          49.801,
          52.373999999999995,
          53.983000000000004,
          54.655,
          52.044,
          47.99100000000001,
          46.832,
          48.328,
          61.21,
          64.77,
          67.13,
          68.5,
          69.61,
          70.64,
          70.46,
          71.52,
          72.527,
          73.68,
          74.876,
          75.748,
          59.42100000000001,
          62.325,
          65.24600000000001,
          68.29,
          70.723,
          72.649,
          73.717,
          74.17399999999998,
          74.414,
          76.15100000000002,
          77.158,
          78.273,
          66.87,
          69.03,
          69.9,
          70.38,
          70.29,
          70.71,
          70.96,
          71.58,
          72.4,
          74.01,
          75.51,
          76.486,
          70.78,
          71.81,
          72.35,
          72.96,
          73.47,
          74.69,
          74.63,
          74.8,
          75.33,
          76.11,
          77.18,
          78.332,
          34.812,
          37.328,
          39.69300000000001,
          42.074,
          44.36600000000001,
          46.519,
          48.812,
          50.04,
          51.604,
          53.157,
          53.37300000000001,
          54.791000000000004,
          45.928000000000004,
          49.828,
          53.458999999999996,
          56.75100000000001,
          59.631,
          61.788000000000004,
          63.727,
          66.046,
          68.457,
          69.957,
          70.847,
          72.235,
          48.357,
          51.356,
          54.64,
          56.678000000000004,
          58.79600000000001,
          61.31,
          64.342,
          67.23100000000001,
          69.613,
          72.312,
          74.173,
          74.994,
          41.893,
          44.443999999999996,
          46.992,
          49.293,
          51.137,
          53.318999999999996,
          56.006,
          59.797,
          63.674,
          67.217,
          69.806,
          71.33800000000002,
          45.262,
          48.57,
          52.306999999999995,
          55.855,
          58.207,
          56.69600000000001,
          56.604,
          63.153999999999996,
          66.798,
          69.535,
          70.734,
          71.878,
          34.482,
          35.98300000000001,
          37.485,
          38.986999999999995,
          40.516,
          42.023999999999994,
          43.662,
          45.663999999999994,
          47.545,
          48.245,
          49.348,
          51.57899999999999,
          35.92800000000001,
          38.047,
          40.158,
          42.18899999999999,
          44.141999999999996,
          44.535,
          43.89,
          46.453,
          49.99100000000001,
          53.378,
          55.24,
          58.04,
          34.078,
          36.667,
          40.059,
          42.115,
          43.515,
          44.51,
          44.916000000000004,
          46.684,
          48.091,
          49.402,
          50.725,
          52.946999999999996,
          66.55,
          67.49,
          68.75,
          69.83,
          70.87,
          72.52,
          74.55,
          74.83,
          75.7,
          77.13,
          78.37,
          79.313,
          67.41,
          68.93,
          70.51,
          71.55,
          72.38,
          73.83,
          74.89,
          76.34,
          77.46,
          78.64,
          79.59,
          80.657,
          37.003,
          38.999,
          40.489000000000004,
          44.598,
          48.69,
          52.79,
          56.56399999999999,
          60.19,
          61.36600000000001,
          60.46100000000001,
          56.761,
          56.735,
          30,
          32.065,
          33.896,
          35.857,
          38.308,
          41.842,
          45.58,
          49.265,
          52.644,
          55.861000000000004,
          58.041000000000004,
          59.448,
          67.5,
          69.1,
          70.3,
          70.8,
          71,
          72.5,
          73.8,
          74.847,
          76.07,
          77.34,
          78.67,
          79.406,
          43.148999999999994,
          44.778999999999996,
          46.452,
          48.071999999999996,
          49.875,
          51.756,
          53.744,
          55.729,
          57.50100000000001,
          58.556000000000004,
          58.453,
          60.022,
          65.86,
          67.86,
          69.51,
          71,
          72.34,
          73.68,
          75.24,
          76.67,
          77.03,
          77.869,
          78.256,
          79.483,
          42.023,
          44.141999999999996,
          46.95399999999999,
          50.01600000000001,
          53.738,
          56.028999999999996,
          58.137,
          60.782,
          63.37300000000001,
          66.322,
          68.97800000000001,
          70.259,
          33.609,
          34.558,
          35.753,
          37.196999999999996,
          38.842,
          40.762,
          42.89100000000001,
          45.552,
          48.576,
          51.455,
          53.676,
          56.007,
          32.5,
          33.489000000000004,
          34.488,
          35.492,
          36.486,
          37.465,
          39.327,
          41.245,
          43.26600000000001,
          44.87300000000001,
          45.504,
          46.38800000000001,
          37.579,
          40.696,
          43.59,
          46.243,
          48.042,
          49.923,
          51.46100000000001,
          53.636,
          55.089,
          56.67100000000001,
          58.137,
          60.916000000000004,
          41.912,
          44.665,
          48.041000000000004,
          50.924,
          53.88399999999999,
          57.402,
          60.909,
          64.492,
          66.399,
          67.65899999999999,
          68.565,
          70.19800000000001,
          60.96,
          64.75,
          67.65,
          70,
          72,
          73.6,
          75.45,
          76.2,
          77.601,
          80,
          81.495,
          82.208,
          64.03,
          66.41,
          67.96,
          69.5,
          69.76,
          69.95,
          69.39,
          69.58,
          69.17,
          71.04,
          72.59,
          73.33800000000002,
          72.49,
          73.47,
          73.68,
          73.73,
          74.46,
          76.11,
          76.99,
          77.23,
          78.77,
          78.95,
          80.5,
          81.757,
          37.37300000000001,
          40.249,
          43.605,
          47.19300000000001,
          50.651,
          54.208,
          56.596000000000004,
          58.553000000000004,
          60.223,
          61.765,
          62.879,
          64.69800000000001,
          37.468,
          39.918,
          42.518,
          45.964,
          49.203,
          52.702,
          56.159,
          60.137,
          62.681000000000004,
          66.041,
          68.58800000000001,
          70.65,
          44.869,
          47.181000000000004,
          49.325,
          52.468999999999994,
          55.233999999999995,
          57.702,
          59.62,
          63.04,
          65.742,
          68.042,
          69.45100000000001,
          70.964,
          45.32,
          48.437,
          51.457,
          54.458999999999996,
          56.95,
          60.413000000000004,
          62.038000000000004,
          65.044,
          59.46100000000001,
          58.81100000000001,
          57.04600000000001,
          59.545,
          66.91,
          68.9,
          70.29,
          71.08,
          71.28,
          72.03,
          73.1,
          74.36,
          75.467,
          76.122,
          77.783,
          78.885,
          65.39,
          67.84,
          69.39,
          70.75,
          71.63,
          73.06,
          74.45,
          75.6,
          76.93,
          78.26899999999998,
          79.696,
          80.745,
          65.94,
          67.81,
          69.24,
          71.06,
          72.19,
          73.48,
          74.98,
          76.42,
          77.44,
          78.82,
          80.24,
          80.546,
          58.53,
          62.61,
          65.61,
          67.51,
          69,
          70.11,
          71.21,
          71.77,
          71.766,
          72.262,
          72.047,
          72.567,
          63.03,
          65.5,
          68.73,
          71.43,
          73.42,
          75.38,
          77.11,
          78.67,
          79.36,
          80.69,
          82,
          82.603,
          43.158,
          45.669,
          48.12600000000001,
          51.629,
          56.528,
          61.13399999999999,
          63.739,
          65.869,
          68.015,
          69.77199999999999,
          71.263,
          72.535,
          42.27,
          44.68600000000001,
          47.949,
          50.653999999999996,
          53.559,
          56.155,
          58.76600000000001,
          59.339,
          59.285,
          54.407,
          50.992,
          54.11,
          50.056000000000004,
          54.081,
          56.65600000000001,
          59.942,
          63.983000000000004,
          67.15899999999999,
          69.1,
          70.64699999999998,
          69.97800000000001,
          67.727,
          66.66199999999999,
          67.297,
          47.453,
          52.681000000000004,
          55.292,
          57.716,
          62.611999999999995,
          64.766,
          67.123,
          69.81,
          72.244,
          74.64699999999998,
          77.045,
          78.623,
          55.565,
          58.033,
          60.47,
          64.624,
          67.712,
          69.343,
          71.309,
          74.17399999999998,
          75.19,
          76.156,
          76.904,
          77.58800000000002,
          55.928000000000004,
          59.489,
          62.093999999999994,
          63.87,
          65.421,
          66.09899999999999,
          66.983,
          67.926,
          69.292,
          70.265,
          71.028,
          71.993,
          42.13800000000001,
          45.047,
          47.747,
          48.492,
          49.766999999999996,
          52.208,
          55.078,
          57.18,
          59.685,
          55.558,
          44.593,
          42.592,
          38.48,
          39.486,
          40.501999999999995,
          41.536,
          42.614,
          43.763999999999996,
          44.852,
          46.027,
          40.802,
          42.221000000000004,
          43.753,
          45.678000000000004,
          42.723,
          45.288999999999994,
          47.808,
          50.227,
          52.773,
          57.442,
          62.155,
          66.234,
          68.755,
          71.555,
          72.737,
          73.952,
          36.681,
          38.865,
          40.848,
          42.881,
          44.851000000000006,
          46.881,
          48.968999999999994,
          49.35,
          52.214,
          54.978,
          57.286,
          59.44300000000001,
          36.256,
          37.207,
          38.41,
          39.486999999999995,
          41.76600000000001,
          43.766999999999996,
          45.641999999999996,
          47.457,
          49.42,
          47.495,
          45.00899999999999,
          48.303000000000004,
          48.463,
          52.102,
          55.736999999999995,
          59.371,
          63.01,
          65.256,
          68,
          69.5,
          70.693,
          71.938,
          73.044,
          74.241,
          33.685,
          35.30699999999999,
          36.936,
          38.486999999999995,
          39.977,
          41.714,
          43.916000000000004,
          46.364,
          48.38800000000001,
          49.903,
          51.81800000000001,
          54.467,
          40.543,
          42.338,
          44.24800000000001,
          46.288999999999994,
          48.437,
          50.852,
          53.599,
          56.145,
          58.333,
          60.43,
          62.247,
          64.164,
          50.986000000000004,
          58.089,
          60.246,
          61.556999999999995,
          62.943999999999996,
          64.93,
          66.711,
          68.74,
          69.745,
          70.736,
          71.954,
          72.801,
          50.788999999999994,
          55.19,
          58.299,
          60.11,
          62.361000000000004,
          65.032,
          67.405,
          69.498,
          71.455,
          73.67,
          74.902,
          76.195,
          42.244,
          45.24800000000001,
          48.25100000000001,
          51.253,
          53.754,
          55.49100000000001,
          57.489,
          60.222,
          61.271,
          63.625,
          65.033,
          66.803,
          59.163999999999994,
          61.448,
          63.728,
          67.178,
          70.63600000000002,
          73.066,
          74.101,
          74.865,
          75.435,
          75.445,
          73.98100000000002,
          74.543,
          42.87300000000001,
          45.423,
          47.924,
          50.335,
          52.861999999999995,
          55.73,
          59.65,
          62.677,
          65.393,
          67.66,
          69.615,
          71.164,
          31.285999999999998,
          33.779,
          36.161,
          38.113,
          40.328,
          42.495,
          42.795,
          42.861000000000004,
          44.284,
          46.343999999999994,
          44.026,
          42.082,
          36.319,
          41.905,
          45.108000000000004,
          49.379,
          53.07,
          56.059,
          58.056000000000004,
          58.339,
          59.32,
          60.328,
          59.908,
          62.068999999999996,
          41.725,
          45.226000000000006,
          48.386,
          51.159,
          53.867,
          56.437,
          58.968,
          60.835,
          61.998999999999995,
          58.909,
          51.479,
          52.90600000000001,
          36.157,
          37.686,
          39.393,
          41.472,
          43.971000000000004,
          46.74800000000001,
          49.593999999999994,
          52.537,
          55.727,
          59.426,
          61.34,
          63.785,
          72.13,
          72.99,
          73.23,
          73.82,
          73.75,
          75.24,
          76.05,
          76.83,
          77.42,
          78.03,
          78.53,
          79.762,
          69.39,
          70.26,
          71.24,
          71.52,
          71.89,
          72.22,
          73.84,
          74.32,
          76.33,
          77.55,
          79.11,
          80.204,
          42.31399999999999,
          45.431999999999995,
          48.632,
          51.88399999999999,
          55.151,
          57.47,
          59.298,
          62.008,
          65.843,
          68.426,
          70.836,
          72.899,
          37.444,
          38.598,
          39.486999999999995,
          40.118,
          40.546,
          41.291000000000004,
          42.598,
          44.555,
          47.39100000000001,
          51.313,
          54.496,
          56.867,
          36.324,
          37.802,
          39.36,
          41.04,
          42.82100000000001,
          44.513999999999996,
          45.826,
          46.886,
          47.472,
          47.464,
          46.608000000000004,
          46.858999999999995,
          72.67,
          73.44,
          73.47,
          74.08,
          74.34,
          75.37,
          75.97,
          75.89,
          77.32,
          78.32,
          79.05,
          80.196,
          37.578,
          40.08,
          43.165,
          46.988,
          52.143,
          57.367,
          62.728,
          67.734,
          71.197,
          72.499,
          74.193,
          75.64,
          43.43600000000001,
          45.556999999999995,
          47.67,
          49.8,
          51.928999999999995,
          54.043,
          56.158,
          58.245,
          60.838,
          61.81800000000001,
          63.61,
          65.483,
          55.191,
          59.201,
          61.817,
          64.071,
          66.21600000000001,
          68.681,
          70.472,
          71.523,
          72.462,
          73.738,
          74.712,
          75.53699999999998,
          62.648999999999994,
          63.19600000000001,
          64.361,
          64.95100000000001,
          65.815,
          66.35300000000001,
          66.874,
          67.378,
          68.225,
          69.4,
          70.755,
          71.752,
          43.902,
          46.26300000000001,
          49.096000000000004,
          51.445,
          55.448,
          58.446999999999996,
          61.40600000000001,
          64.134,
          66.458,
          68.38600000000001,
          69.906,
          71.421,
          47.751999999999995,
          51.333999999999996,
          54.757,
          56.393,
          58.065,
          60.06,
          62.082,
          64.15100000000001,
          66.458,
          68.564,
          70.303,
          71.688,
          61.31,
          65.77,
          67.64,
          69.61,
          70.85,
          70.67,
          71.32,
          70.98,
          70.99,
          72.75,
          74.67,
          75.563,
          59.82,
          61.51,
          64.39,
          66.6,
          69.26,
          70.41,
          72.77,
          74.06,
          74.86,
          75.97,
          77.29,
          78.098,
          64.28,
          68.54,
          69.62,
          71.1,
          72.16,
          73.44,
          73.75,
          74.63,
          73.911,
          74.917,
          77.778,
          78.74600000000002,
          52.724,
          55.09,
          57.666000000000004,
          60.542,
          64.274,
          67.064,
          69.885,
          71.913,
          73.615,
          74.77199999999998,
          75.744,
          76.442,
          61.05,
          64.1,
          66.8,
          66.8,
          69.21,
          69.46,
          69.66,
          69.53,
          69.36,
          69.72,
          71.322,
          72.476,
          40,
          41.5,
          43,
          44.1,
          44.6,
          45,
          46.218,
          44.02,
          23.599,
          36.086999999999996,
          43.413000000000004,
          46.242,
          46.471000000000004,
          48.945,
          51.893,
          54.425,
          56.48,
          58.55,
          60.351000000000006,
          61.728,
          62.742,
          63.306000000000004,
          64.337,
          65.528,
          39.875,
          42.868,
          45.913999999999994,
          49.901,
          53.886,
          58.69,
          63.012,
          66.295,
          68.768,
          70.533,
          71.626,
          72.777,
          37.278,
          39.329,
          41.45399999999999,
          43.563,
          45.815,
          48.879,
          52.379,
          55.769,
          58.19600000000001,
          60.187,
          61.6,
          63.062,
          57.996,
          61.685,
          64.531,
          66.914,
          68.7,
          70.3,
          70.16199999999999,
          71.218,
          71.65899999999998,
          72.232,
          73.21300000000002,
          74.002,
          30.331,
          31.57,
          32.766999999999996,
          34.113,
          35.4,
          36.788000000000004,
          38.445,
          40.006,
          38.333,
          39.897,
          41.012,
          42.56800000000001,
          60.396,
          63.178999999999995,
          65.798,
          67.946,
          69.521,
          70.795,
          71.76,
          73.56,
          75.788,
          77.158,
          78.77,
          79.972,
          64.36,
          67.45,
          70.33,
          70.98,
          70.35,
          70.45,
          70.8,
          71.08,
          71.38,
          72.71,
          73.8,
          74.663,
          65.57,
          67.85,
          69.15,
          69.18,
          69.82,
          70.97,
          71.063,
          72.25,
          73.64,
          75.13,
          76.66,
          77.926,
          32.978,
          34.977,
          36.981,
          38.977,
          40.973,
          41.974,
          42.955,
          44.50100000000001,
          39.658,
          43.795,
          45.93600000000001,
          48.159,
          45.00899999999999,
          47.985,
          49.951,
          51.927,
          53.69600000000001,
          55.527,
          58.161,
          60.833999999999996,
          61.88800000000001,
          60.236000000000004,
          53.365,
          49.339,
          64.94,
          66.66,
          69.69,
          71.44,
          73.06,
          74.39,
          76.3,
          76.9,
          77.57,
          78.77,
          79.78,
          80.941,
          57.593,
          61.456,
          62.192,
          64.266,
          65.042,
          65.949,
          68.757,
          69.01100000000001,
          70.37899999999998,
          70.457,
          70.815,
          72.396,
          38.635,
          39.624,
          40.87,
          42.858000000000004,
          45.083,
          47.8,
          50.338,
          51.744,
          53.556000000000004,
          55.37300000000001,
          56.369,
          58.556000000000004,
          41.407,
          43.424,
          44.992,
          46.633,
          49.552,
          52.537,
          55.56100000000001,
          57.678000000000004,
          58.474,
          54.288999999999994,
          43.869,
          39.613,
          71.86,
          72.49,
          73.37,
          74.16,
          74.72,
          75.44,
          76.42,
          77.19,
          78.16,
          79.39,
          80.04,
          80.884,
          69.62,
          70.56,
          71.32,
          72.77,
          73.78,
          75.39,
          76.21,
          77.41,
          78.03,
          79.37,
          80.62,
          81.70100000000002,
          45.883,
          48.284,
          50.305,
          53.655,
          57.29600000000001,
          61.195,
          64.59,
          66.97399999999999,
          69.249,
          71.527,
          73.053,
          74.143,
          58.5,
          62.4,
          65.2,
          67.5,
          69.39,
          70.59,
          72.16,
          73.4,
          74.26,
          75.25,
          76.99,
          78.4,
          41.215,
          42.974,
          44.246,
          45.757,
          47.62,
          49.919,
          50.608000000000004,
          51.535,
          50.44,
          48.466,
          49.651,
          52.516999999999996,
          50.848,
          53.63,
          56.06100000000001,
          58.285,
          60.405,
          62.494,
          64.597,
          66.084,
          67.298,
          67.521,
          68.564,
          70.616,
          38.596,
          41.208,
          43.922,
          46.769,
          49.75899999999999,
          52.887,
          55.471000000000004,
          56.941,
          58.06100000000001,
          58.39,
          57.56100000000001,
          58.42,
          59.1,
          61.8,
          64.9,
          65.4,
          65.9,
          68.3,
          68.832,
          69.582,
          69.862,
          69.465,
          68.976,
          69.819,
          44.6,
          47.1,
          49.57899999999999,
          52.053000000000004,
          55.602,
          59.836999999999996,
          64.048,
          66.89399999999999,
          70.001,
          71.973,
          73.042,
          73.923,
          43.585,
          48.07899999999999,
          52.098,
          54.33600000000001,
          57.005,
          59.507,
          61.036,
          63.108000000000004,
          66.146,
          68.835,
          70.845,
          71.777,
          39.978,
          42.57100000000001,
          45.343999999999994,
          48.051,
          51.01600000000001,
          50.35,
          49.849,
          51.50899999999999,
          48.825,
          44.578,
          47.813,
          51.542,
          69.18,
          70.42,
          70.76,
          71.36,
          72.01,
          72.76,
          74.04,
          75.007,
          76.42,
          77.218,
          78.471,
          79.425,
          68.44,
          69.49,
          70.21,
          70.76,
          71.34,
          73.38,
          74.65,
          75.02,
          76.09,
          76.81,
          77.31,
          78.242,
          66.071,
          67.044,
          68.253,
          68.468,
          68.673,
          69.48100000000001,
          70.805,
          71.918,
          72.752,
          74.223,
          75.307,
          76.384,
          55.088,
          57.907,
          60.77,
          63.479,
          65.712,
          67.456,
          68.557,
          70.19,
          71.15,
          72.146,
          72.766,
          73.747,
          40.412,
          42.887,
          45.363,
          47.838,
          50.254,
          55.763999999999996,
          58.816,
          62.82,
          67.66199999999999,
          70.672,
          73.017,
          74.249,
          43.16,
          45.67100000000001,
          48.126999999999995,
          51.631,
          56.532,
          60.765,
          64.406,
          67.046,
          69.718,
          71.096,
          72.37,
          73.422,
          32.548,
          33.97,
          35.18,
          36.984,
          39.848,
          44.175,
          49.113,
          52.922,
          55.599,
          58.02,
          60.308,
          62.698,
          42.038000000000004,
          44.077,
          46.023,
          47.768,
          50.107,
          51.386,
          51.82100000000001,
          50.82100000000001,
          46.1,
          40.238,
          39.19300000000001,
          42.38399999999999,
          48.451,
          50.468999999999994,
          52.358000000000004,
          53.995,
          55.635,
          57.674,
          60.363,
          62.351000000000006,
          60.376999999999995,
          46.809,
          39.989000000000004,
          43.486999999999995
         ],
         "yaxis": "y"
        }
       ],
       "layout": {
        "coloraxis": {
         "colorbar": {
          "title": {
           "text": "year"
          }
         },
         "colorscale": [
          [
           0,
           "#0d0887"
          ],
          [
           0.1111111111111111,
           "#46039f"
          ],
          [
           0.2222222222222222,
           "#7201a8"
          ],
          [
           0.3333333333333333,
           "#9c179e"
          ],
          [
           0.4444444444444444,
           "#bd3786"
          ],
          [
           0.5555555555555556,
           "#d8576b"
          ],
          [
           0.6666666666666666,
           "#ed7953"
          ],
          [
           0.7777777777777778,
           "#fb9f3a"
          ],
          [
           0.8888888888888888,
           "#fdca26"
          ],
          [
           1,
           "#f0f921"
          ]
         ]
        },
        "legend": {
         "tracegroupgap": 0
        },
        "margin": {
         "t": 60
        },
        "template": {
         "data": {
          "bar": [
           {
            "error_x": {
             "color": "#2a3f5f"
            },
            "error_y": {
             "color": "#2a3f5f"
            },
            "marker": {
             "line": {
              "color": "#E5ECF6",
              "width": 0.5
             },
             "pattern": {
              "fillmode": "overlay",
              "size": 10,
              "solidity": 0.2
             }
            },
            "type": "bar"
           }
          ],
          "barpolar": [
           {
            "marker": {
             "line": {
              "color": "#E5ECF6",
              "width": 0.5
             },
             "pattern": {
              "fillmode": "overlay",
              "size": 10,
              "solidity": 0.2
             }
            },
            "type": "barpolar"
           }
          ],
          "carpet": [
           {
            "aaxis": {
             "endlinecolor": "#2a3f5f",
             "gridcolor": "white",
             "linecolor": "white",
             "minorgridcolor": "white",
             "startlinecolor": "#2a3f5f"
            },
            "baxis": {
             "endlinecolor": "#2a3f5f",
             "gridcolor": "white",
             "linecolor": "white",
             "minorgridcolor": "white",
             "startlinecolor": "#2a3f5f"
            },
            "type": "carpet"
           }
          ],
          "choropleth": [
           {
            "colorbar": {
             "outlinewidth": 0,
             "ticks": ""
            },
            "type": "choropleth"
           }
          ],
          "contour": [
           {
            "colorbar": {
             "outlinewidth": 0,
             "ticks": ""
            },
            "colorscale": [
             [
              0,
              "#0d0887"
             ],
             [
              0.1111111111111111,
              "#46039f"
             ],
             [
              0.2222222222222222,
              "#7201a8"
             ],
             [
              0.3333333333333333,
              "#9c179e"
             ],
             [
              0.4444444444444444,
              "#bd3786"
             ],
             [
              0.5555555555555556,
              "#d8576b"
             ],
             [
              0.6666666666666666,
              "#ed7953"
             ],
             [
              0.7777777777777778,
              "#fb9f3a"
             ],
             [
              0.8888888888888888,
              "#fdca26"
             ],
             [
              1,
              "#f0f921"
             ]
            ],
            "type": "contour"
           }
          ],
          "contourcarpet": [
           {
            "colorbar": {
             "outlinewidth": 0,
             "ticks": ""
            },
            "type": "contourcarpet"
           }
          ],
          "heatmap": [
           {
            "colorbar": {
             "outlinewidth": 0,
             "ticks": ""
            },
            "colorscale": [
             [
              0,
              "#0d0887"
             ],
             [
              0.1111111111111111,
              "#46039f"
             ],
             [
              0.2222222222222222,
              "#7201a8"
             ],
             [
              0.3333333333333333,
              "#9c179e"
             ],
             [
              0.4444444444444444,
              "#bd3786"
             ],
             [
              0.5555555555555556,
              "#d8576b"
             ],
             [
              0.6666666666666666,
              "#ed7953"
             ],
             [
              0.7777777777777778,
              "#fb9f3a"
             ],
             [
              0.8888888888888888,
              "#fdca26"
             ],
             [
              1,
              "#f0f921"
             ]
            ],
            "type": "heatmap"
           }
          ],
          "heatmapgl": [
           {
            "colorbar": {
             "outlinewidth": 0,
             "ticks": ""
            },
            "colorscale": [
             [
              0,
              "#0d0887"
             ],
             [
              0.1111111111111111,
              "#46039f"
             ],
             [
              0.2222222222222222,
              "#7201a8"
             ],
             [
              0.3333333333333333,
              "#9c179e"
             ],
             [
              0.4444444444444444,
              "#bd3786"
             ],
             [
              0.5555555555555556,
              "#d8576b"
             ],
             [
              0.6666666666666666,
              "#ed7953"
             ],
             [
              0.7777777777777778,
              "#fb9f3a"
             ],
             [
              0.8888888888888888,
              "#fdca26"
             ],
             [
              1,
              "#f0f921"
             ]
            ],
            "type": "heatmapgl"
           }
          ],
          "histogram": [
           {
            "marker": {
             "pattern": {
              "fillmode": "overlay",
              "size": 10,
              "solidity": 0.2
             }
            },
            "type": "histogram"
           }
          ],
          "histogram2d": [
           {
            "colorbar": {
             "outlinewidth": 0,
             "ticks": ""
            },
            "colorscale": [
             [
              0,
              "#0d0887"
             ],
             [
              0.1111111111111111,
              "#46039f"
             ],
             [
              0.2222222222222222,
              "#7201a8"
             ],
             [
              0.3333333333333333,
              "#9c179e"
             ],
             [
              0.4444444444444444,
              "#bd3786"
             ],
             [
              0.5555555555555556,
              "#d8576b"
             ],
             [
              0.6666666666666666,
              "#ed7953"
             ],
             [
              0.7777777777777778,
              "#fb9f3a"
             ],
             [
              0.8888888888888888,
              "#fdca26"
             ],
             [
              1,
              "#f0f921"
             ]
            ],
            "type": "histogram2d"
           }
          ],
          "histogram2dcontour": [
           {
            "colorbar": {
             "outlinewidth": 0,
             "ticks": ""
            },
            "colorscale": [
             [
              0,
              "#0d0887"
             ],
             [
              0.1111111111111111,
              "#46039f"
             ],
             [
              0.2222222222222222,
              "#7201a8"
             ],
             [
              0.3333333333333333,
              "#9c179e"
             ],
             [
              0.4444444444444444,
              "#bd3786"
             ],
             [
              0.5555555555555556,
              "#d8576b"
             ],
             [
              0.6666666666666666,
              "#ed7953"
             ],
             [
              0.7777777777777778,
              "#fb9f3a"
             ],
             [
              0.8888888888888888,
              "#fdca26"
             ],
             [
              1,
              "#f0f921"
             ]
            ],
            "type": "histogram2dcontour"
           }
          ],
          "mesh3d": [
           {
            "colorbar": {
             "outlinewidth": 0,
             "ticks": ""
            },
            "type": "mesh3d"
           }
          ],
          "parcoords": [
           {
            "line": {
             "colorbar": {
              "outlinewidth": 0,
              "ticks": ""
             }
            },
            "type": "parcoords"
           }
          ],
          "pie": [
           {
            "automargin": true,
            "type": "pie"
           }
          ],
          "scatter": [
           {
            "marker": {
             "colorbar": {
              "outlinewidth": 0,
              "ticks": ""
             }
            },
            "type": "scatter"
           }
          ],
          "scatter3d": [
           {
            "line": {
             "colorbar": {
              "outlinewidth": 0,
              "ticks": ""
             }
            },
            "marker": {
             "colorbar": {
              "outlinewidth": 0,
              "ticks": ""
             }
            },
            "type": "scatter3d"
           }
          ],
          "scattercarpet": [
           {
            "marker": {
             "colorbar": {
              "outlinewidth": 0,
              "ticks": ""
             }
            },
            "type": "scattercarpet"
           }
          ],
          "scattergeo": [
           {
            "marker": {
             "colorbar": {
              "outlinewidth": 0,
              "ticks": ""
             }
            },
            "type": "scattergeo"
           }
          ],
          "scattergl": [
           {
            "marker": {
             "colorbar": {
              "outlinewidth": 0,
              "ticks": ""
             }
            },
            "type": "scattergl"
           }
          ],
          "scattermapbox": [
           {
            "marker": {
             "colorbar": {
              "outlinewidth": 0,
              "ticks": ""
             }
            },
            "type": "scattermapbox"
           }
          ],
          "scatterpolar": [
           {
            "marker": {
             "colorbar": {
              "outlinewidth": 0,
              "ticks": ""
             }
            },
            "type": "scatterpolar"
           }
          ],
          "scatterpolargl": [
           {
            "marker": {
             "colorbar": {
              "outlinewidth": 0,
              "ticks": ""
             }
            },
            "type": "scatterpolargl"
           }
          ],
          "scatterternary": [
           {
            "marker": {
             "colorbar": {
              "outlinewidth": 0,
              "ticks": ""
             }
            },
            "type": "scatterternary"
           }
          ],
          "surface": [
           {
            "colorbar": {
             "outlinewidth": 0,
             "ticks": ""
            },
            "colorscale": [
             [
              0,
              "#0d0887"
             ],
             [
              0.1111111111111111,
              "#46039f"
             ],
             [
              0.2222222222222222,
              "#7201a8"
             ],
             [
              0.3333333333333333,
              "#9c179e"
             ],
             [
              0.4444444444444444,
              "#bd3786"
             ],
             [
              0.5555555555555556,
              "#d8576b"
             ],
             [
              0.6666666666666666,
              "#ed7953"
             ],
             [
              0.7777777777777778,
              "#fb9f3a"
             ],
             [
              0.8888888888888888,
              "#fdca26"
             ],
             [
              1,
              "#f0f921"
             ]
            ],
            "type": "surface"
           }
          ],
          "table": [
           {
            "cells": {
             "fill": {
              "color": "#EBF0F8"
             },
             "line": {
              "color": "white"
             }
            },
            "header": {
             "fill": {
              "color": "#C8D4E3"
             },
             "line": {
              "color": "white"
             }
            },
            "type": "table"
           }
          ]
         },
         "layout": {
          "annotationdefaults": {
           "arrowcolor": "#2a3f5f",
           "arrowhead": 0,
           "arrowwidth": 1
          },
          "autotypenumbers": "strict",
          "coloraxis": {
           "colorbar": {
            "outlinewidth": 0,
            "ticks": ""
           }
          },
          "colorscale": {
           "diverging": [
            [
             0,
             "#8e0152"
            ],
            [
             0.1,
             "#c51b7d"
            ],
            [
             0.2,
             "#de77ae"
            ],
            [
             0.3,
             "#f1b6da"
            ],
            [
             0.4,
             "#fde0ef"
            ],
            [
             0.5,
             "#f7f7f7"
            ],
            [
             0.6,
             "#e6f5d0"
            ],
            [
             0.7,
             "#b8e186"
            ],
            [
             0.8,
             "#7fbc41"
            ],
            [
             0.9,
             "#4d9221"
            ],
            [
             1,
             "#276419"
            ]
           ],
           "sequential": [
            [
             0,
             "#0d0887"
            ],
            [
             0.1111111111111111,
             "#46039f"
            ],
            [
             0.2222222222222222,
             "#7201a8"
            ],
            [
             0.3333333333333333,
             "#9c179e"
            ],
            [
             0.4444444444444444,
             "#bd3786"
            ],
            [
             0.5555555555555556,
             "#d8576b"
            ],
            [
             0.6666666666666666,
             "#ed7953"
            ],
            [
             0.7777777777777778,
             "#fb9f3a"
            ],
            [
             0.8888888888888888,
             "#fdca26"
            ],
            [
             1,
             "#f0f921"
            ]
           ],
           "sequentialminus": [
            [
             0,
             "#0d0887"
            ],
            [
             0.1111111111111111,
             "#46039f"
            ],
            [
             0.2222222222222222,
             "#7201a8"
            ],
            [
             0.3333333333333333,
             "#9c179e"
            ],
            [
             0.4444444444444444,
             "#bd3786"
            ],
            [
             0.5555555555555556,
             "#d8576b"
            ],
            [
             0.6666666666666666,
             "#ed7953"
            ],
            [
             0.7777777777777778,
             "#fb9f3a"
            ],
            [
             0.8888888888888888,
             "#fdca26"
            ],
            [
             1,
             "#f0f921"
            ]
           ]
          },
          "colorway": [
           "#636efa",
           "#EF553B",
           "#00cc96",
           "#ab63fa",
           "#FFA15A",
           "#19d3f3",
           "#FF6692",
           "#B6E880",
           "#FF97FF",
           "#FECB52"
          ],
          "font": {
           "color": "#2a3f5f"
          },
          "geo": {
           "bgcolor": "white",
           "lakecolor": "white",
           "landcolor": "#E5ECF6",
           "showlakes": true,
           "showland": true,
           "subunitcolor": "white"
          },
          "hoverlabel": {
           "align": "left"
          },
          "hovermode": "closest",
          "mapbox": {
           "style": "light"
          },
          "paper_bgcolor": "white",
          "plot_bgcolor": "#E5ECF6",
          "polar": {
           "angularaxis": {
            "gridcolor": "white",
            "linecolor": "white",
            "ticks": ""
           },
           "bgcolor": "#E5ECF6",
           "radialaxis": {
            "gridcolor": "white",
            "linecolor": "white",
            "ticks": ""
           }
          },
          "scene": {
           "xaxis": {
            "backgroundcolor": "#E5ECF6",
            "gridcolor": "white",
            "gridwidth": 2,
            "linecolor": "white",
            "showbackground": true,
            "ticks": "",
            "zerolinecolor": "white"
           },
           "yaxis": {
            "backgroundcolor": "#E5ECF6",
            "gridcolor": "white",
            "gridwidth": 2,
            "linecolor": "white",
            "showbackground": true,
            "ticks": "",
            "zerolinecolor": "white"
           },
           "zaxis": {
            "backgroundcolor": "#E5ECF6",
            "gridcolor": "white",
            "gridwidth": 2,
            "linecolor": "white",
            "showbackground": true,
            "ticks": "",
            "zerolinecolor": "white"
           }
          },
          "shapedefaults": {
           "line": {
            "color": "#2a3f5f"
           }
          },
          "ternary": {
           "aaxis": {
            "gridcolor": "white",
            "linecolor": "white",
            "ticks": ""
           },
           "baxis": {
            "gridcolor": "white",
            "linecolor": "white",
            "ticks": ""
           },
           "bgcolor": "#E5ECF6",
           "caxis": {
            "gridcolor": "white",
            "linecolor": "white",
            "ticks": ""
           }
          },
          "title": {
           "x": 0.05
          },
          "xaxis": {
           "automargin": true,
           "gridcolor": "white",
           "linecolor": "white",
           "ticks": "",
           "title": {
            "standoff": 15
           },
           "zerolinecolor": "white",
           "zerolinewidth": 2
          },
          "yaxis": {
           "automargin": true,
           "gridcolor": "white",
           "linecolor": "white",
           "ticks": "",
           "title": {
            "standoff": 15
           },
           "zerolinecolor": "white",
           "zerolinewidth": 2
          }
         }
        },
        "xaxis": {
         "anchor": "y",
         "domain": [
          0,
          1
         ],
         "title": {
          "text": "gdpPercap"
         }
        },
        "yaxis": {
         "anchor": "x",
         "domain": [
          0,
          1
         ],
         "title": {
          "text": "lifeExp"
         }
        }
       }
      },
      "text/html": [
       "<div>                            <div id=\"99b39161-5376-47a5-8f2f-129d567c1799\" class=\"plotly-graph-div\" style=\"height:525px; width:100%;\"></div>            <script type=\"text/javascript\">                require([\"plotly\"], function(Plotly) {                    window.PLOTLYENV=window.PLOTLYENV || {};                                    if (document.getElementById(\"99b39161-5376-47a5-8f2f-129d567c1799\")) {                    Plotly.newPlot(                        \"99b39161-5376-47a5-8f2f-129d567c1799\",                        [{\"customdata\":[[\"Afghanistan\",1952],[\"Afghanistan\",1957],[\"Afghanistan\",1962],[\"Afghanistan\",1967],[\"Afghanistan\",1972],[\"Afghanistan\",1977],[\"Afghanistan\",1982],[\"Afghanistan\",1987],[\"Afghanistan\",1992],[\"Afghanistan\",1997],[\"Afghanistan\",2002],[\"Afghanistan\",2007],[\"Albania\",1952],[\"Albania\",1957],[\"Albania\",1962],[\"Albania\",1967],[\"Albania\",1972],[\"Albania\",1977],[\"Albania\",1982],[\"Albania\",1987],[\"Albania\",1992],[\"Albania\",1997],[\"Albania\",2002],[\"Albania\",2007],[\"Algeria\",1952],[\"Algeria\",1957],[\"Algeria\",1962],[\"Algeria\",1967],[\"Algeria\",1972],[\"Algeria\",1977],[\"Algeria\",1982],[\"Algeria\",1987],[\"Algeria\",1992],[\"Algeria\",1997],[\"Algeria\",2002],[\"Algeria\",2007],[\"Angola\",1952],[\"Angola\",1957],[\"Angola\",1962],[\"Angola\",1967],[\"Angola\",1972],[\"Angola\",1977],[\"Angola\",1982],[\"Angola\",1987],[\"Angola\",1992],[\"Angola\",1997],[\"Angola\",2002],[\"Angola\",2007],[\"Argentina\",1952],[\"Argentina\",1957],[\"Argentina\",1962],[\"Argentina\",1967],[\"Argentina\",1972],[\"Argentina\",1977],[\"Argentina\",1982],[\"Argentina\",1987],[\"Argentina\",1992],[\"Argentina\",1997],[\"Argentina\",2002],[\"Argentina\",2007],[\"Australia\",1952],[\"Australia\",1957],[\"Australia\",1962],[\"Australia\",1967],[\"Australia\",1972],[\"Australia\",1977],[\"Australia\",1982],[\"Australia\",1987],[\"Australia\",1992],[\"Australia\",1997],[\"Australia\",2002],[\"Australia\",2007],[\"Austria\",1952],[\"Austria\",1957],[\"Austria\",1962],[\"Austria\",1967],[\"Austria\",1972],[\"Austria\",1977],[\"Austria\",1982],[\"Austria\",1987],[\"Austria\",1992],[\"Austria\",1997],[\"Austria\",2002],[\"Austria\",2007],[\"Bahrain\",1952],[\"Bahrain\",1957],[\"Bahrain\",1962],[\"Bahrain\",1967],[\"Bahrain\",1972],[\"Bahrain\",1977],[\"Bahrain\",1982],[\"Bahrain\",1987],[\"Bahrain\",1992],[\"Bahrain\",1997],[\"Bahrain\",2002],[\"Bahrain\",2007],[\"Bangladesh\",1952],[\"Bangladesh\",1957],[\"Bangladesh\",1962],[\"Bangladesh\",1967],[\"Bangladesh\",1972],[\"Bangladesh\",1977],[\"Bangladesh\",1982],[\"Bangladesh\",1987],[\"Bangladesh\",1992],[\"Bangladesh\",1997],[\"Bangladesh\",2002],[\"Bangladesh\",2007],[\"Belgium\",1952],[\"Belgium\",1957],[\"Belgium\",1962],[\"Belgium\",1967],[\"Belgium\",1972],[\"Belgium\",1977],[\"Belgium\",1982],[\"Belgium\",1987],[\"Belgium\",1992],[\"Belgium\",1997],[\"Belgium\",2002],[\"Belgium\",2007],[\"Benin\",1952],[\"Benin\",1957],[\"Benin\",1962],[\"Benin\",1967],[\"Benin\",1972],[\"Benin\",1977],[\"Benin\",1982],[\"Benin\",1987],[\"Benin\",1992],[\"Benin\",1997],[\"Benin\",2002],[\"Benin\",2007],[\"Bolivia\",1952],[\"Bolivia\",1957],[\"Bolivia\",1962],[\"Bolivia\",1967],[\"Bolivia\",1972],[\"Bolivia\",1977],[\"Bolivia\",1982],[\"Bolivia\",1987],[\"Bolivia\",1992],[\"Bolivia\",1997],[\"Bolivia\",2002],[\"Bolivia\",2007],[\"Bosnia and Herzegovina\",1952],[\"Bosnia and Herzegovina\",1957],[\"Bosnia and Herzegovina\",1962],[\"Bosnia and Herzegovina\",1967],[\"Bosnia and Herzegovina\",1972],[\"Bosnia and Herzegovina\",1977],[\"Bosnia and Herzegovina\",1982],[\"Bosnia and Herzegovina\",1987],[\"Bosnia and Herzegovina\",1992],[\"Bosnia and Herzegovina\",1997],[\"Bosnia and Herzegovina\",2002],[\"Bosnia and Herzegovina\",2007],[\"Botswana\",1952],[\"Botswana\",1957],[\"Botswana\",1962],[\"Botswana\",1967],[\"Botswana\",1972],[\"Botswana\",1977],[\"Botswana\",1982],[\"Botswana\",1987],[\"Botswana\",1992],[\"Botswana\",1997],[\"Botswana\",2002],[\"Botswana\",2007],[\"Brazil\",1952],[\"Brazil\",1957],[\"Brazil\",1962],[\"Brazil\",1967],[\"Brazil\",1972],[\"Brazil\",1977],[\"Brazil\",1982],[\"Brazil\",1987],[\"Brazil\",1992],[\"Brazil\",1997],[\"Brazil\",2002],[\"Brazil\",2007],[\"Bulgaria\",1952],[\"Bulgaria\",1957],[\"Bulgaria\",1962],[\"Bulgaria\",1967],[\"Bulgaria\",1972],[\"Bulgaria\",1977],[\"Bulgaria\",1982],[\"Bulgaria\",1987],[\"Bulgaria\",1992],[\"Bulgaria\",1997],[\"Bulgaria\",2002],[\"Bulgaria\",2007],[\"Burkina Faso\",1952],[\"Burkina Faso\",1957],[\"Burkina Faso\",1962],[\"Burkina Faso\",1967],[\"Burkina Faso\",1972],[\"Burkina Faso\",1977],[\"Burkina Faso\",1982],[\"Burkina Faso\",1987],[\"Burkina Faso\",1992],[\"Burkina Faso\",1997],[\"Burkina Faso\",2002],[\"Burkina Faso\",2007],[\"Burundi\",1952],[\"Burundi\",1957],[\"Burundi\",1962],[\"Burundi\",1967],[\"Burundi\",1972],[\"Burundi\",1977],[\"Burundi\",1982],[\"Burundi\",1987],[\"Burundi\",1992],[\"Burundi\",1997],[\"Burundi\",2002],[\"Burundi\",2007],[\"Cambodia\",1952],[\"Cambodia\",1957],[\"Cambodia\",1962],[\"Cambodia\",1967],[\"Cambodia\",1972],[\"Cambodia\",1977],[\"Cambodia\",1982],[\"Cambodia\",1987],[\"Cambodia\",1992],[\"Cambodia\",1997],[\"Cambodia\",2002],[\"Cambodia\",2007],[\"Cameroon\",1952],[\"Cameroon\",1957],[\"Cameroon\",1962],[\"Cameroon\",1967],[\"Cameroon\",1972],[\"Cameroon\",1977],[\"Cameroon\",1982],[\"Cameroon\",1987],[\"Cameroon\",1992],[\"Cameroon\",1997],[\"Cameroon\",2002],[\"Cameroon\",2007],[\"Canada\",1952],[\"Canada\",1957],[\"Canada\",1962],[\"Canada\",1967],[\"Canada\",1972],[\"Canada\",1977],[\"Canada\",1982],[\"Canada\",1987],[\"Canada\",1992],[\"Canada\",1997],[\"Canada\",2002],[\"Canada\",2007],[\"Central African Republic\",1952],[\"Central African Republic\",1957],[\"Central African Republic\",1962],[\"Central African Republic\",1967],[\"Central African Republic\",1972],[\"Central African Republic\",1977],[\"Central African Republic\",1982],[\"Central African Republic\",1987],[\"Central African Republic\",1992],[\"Central African Republic\",1997],[\"Central African Republic\",2002],[\"Central African Republic\",2007],[\"Chad\",1952],[\"Chad\",1957],[\"Chad\",1962],[\"Chad\",1967],[\"Chad\",1972],[\"Chad\",1977],[\"Chad\",1982],[\"Chad\",1987],[\"Chad\",1992],[\"Chad\",1997],[\"Chad\",2002],[\"Chad\",2007],[\"Chile\",1952],[\"Chile\",1957],[\"Chile\",1962],[\"Chile\",1967],[\"Chile\",1972],[\"Chile\",1977],[\"Chile\",1982],[\"Chile\",1987],[\"Chile\",1992],[\"Chile\",1997],[\"Chile\",2002],[\"Chile\",2007],[\"China\",1952],[\"China\",1957],[\"China\",1962],[\"China\",1967],[\"China\",1972],[\"China\",1977],[\"China\",1982],[\"China\",1987],[\"China\",1992],[\"China\",1997],[\"China\",2002],[\"China\",2007],[\"Colombia\",1952],[\"Colombia\",1957],[\"Colombia\",1962],[\"Colombia\",1967],[\"Colombia\",1972],[\"Colombia\",1977],[\"Colombia\",1982],[\"Colombia\",1987],[\"Colombia\",1992],[\"Colombia\",1997],[\"Colombia\",2002],[\"Colombia\",2007],[\"Comoros\",1952],[\"Comoros\",1957],[\"Comoros\",1962],[\"Comoros\",1967],[\"Comoros\",1972],[\"Comoros\",1977],[\"Comoros\",1982],[\"Comoros\",1987],[\"Comoros\",1992],[\"Comoros\",1997],[\"Comoros\",2002],[\"Comoros\",2007],[\"Congo, Dem. Rep.\",1952],[\"Congo, Dem. Rep.\",1957],[\"Congo, Dem. Rep.\",1962],[\"Congo, Dem. Rep.\",1967],[\"Congo, Dem. Rep.\",1972],[\"Congo, Dem. Rep.\",1977],[\"Congo, Dem. Rep.\",1982],[\"Congo, Dem. Rep.\",1987],[\"Congo, Dem. Rep.\",1992],[\"Congo, Dem. Rep.\",1997],[\"Congo, Dem. Rep.\",2002],[\"Congo, Dem. Rep.\",2007],[\"Congo, Rep.\",1952],[\"Congo, Rep.\",1957],[\"Congo, Rep.\",1962],[\"Congo, Rep.\",1967],[\"Congo, Rep.\",1972],[\"Congo, Rep.\",1977],[\"Congo, Rep.\",1982],[\"Congo, Rep.\",1987],[\"Congo, Rep.\",1992],[\"Congo, Rep.\",1997],[\"Congo, Rep.\",2002],[\"Congo, Rep.\",2007],[\"Costa Rica\",1952],[\"Costa Rica\",1957],[\"Costa Rica\",1962],[\"Costa Rica\",1967],[\"Costa Rica\",1972],[\"Costa Rica\",1977],[\"Costa Rica\",1982],[\"Costa Rica\",1987],[\"Costa Rica\",1992],[\"Costa Rica\",1997],[\"Costa Rica\",2002],[\"Costa Rica\",2007],[\"Cote d'Ivoire\",1952],[\"Cote d'Ivoire\",1957],[\"Cote d'Ivoire\",1962],[\"Cote d'Ivoire\",1967],[\"Cote d'Ivoire\",1972],[\"Cote d'Ivoire\",1977],[\"Cote d'Ivoire\",1982],[\"Cote d'Ivoire\",1987],[\"Cote d'Ivoire\",1992],[\"Cote d'Ivoire\",1997],[\"Cote d'Ivoire\",2002],[\"Cote d'Ivoire\",2007],[\"Croatia\",1952],[\"Croatia\",1957],[\"Croatia\",1962],[\"Croatia\",1967],[\"Croatia\",1972],[\"Croatia\",1977],[\"Croatia\",1982],[\"Croatia\",1987],[\"Croatia\",1992],[\"Croatia\",1997],[\"Croatia\",2002],[\"Croatia\",2007],[\"Cuba\",1952],[\"Cuba\",1957],[\"Cuba\",1962],[\"Cuba\",1967],[\"Cuba\",1972],[\"Cuba\",1977],[\"Cuba\",1982],[\"Cuba\",1987],[\"Cuba\",1992],[\"Cuba\",1997],[\"Cuba\",2002],[\"Cuba\",2007],[\"Czech Republic\",1952],[\"Czech Republic\",1957],[\"Czech Republic\",1962],[\"Czech Republic\",1967],[\"Czech Republic\",1972],[\"Czech Republic\",1977],[\"Czech Republic\",1982],[\"Czech Republic\",1987],[\"Czech Republic\",1992],[\"Czech Republic\",1997],[\"Czech Republic\",2002],[\"Czech Republic\",2007],[\"Denmark\",1952],[\"Denmark\",1957],[\"Denmark\",1962],[\"Denmark\",1967],[\"Denmark\",1972],[\"Denmark\",1977],[\"Denmark\",1982],[\"Denmark\",1987],[\"Denmark\",1992],[\"Denmark\",1997],[\"Denmark\",2002],[\"Denmark\",2007],[\"Djibouti\",1952],[\"Djibouti\",1957],[\"Djibouti\",1962],[\"Djibouti\",1967],[\"Djibouti\",1972],[\"Djibouti\",1977],[\"Djibouti\",1982],[\"Djibouti\",1987],[\"Djibouti\",1992],[\"Djibouti\",1997],[\"Djibouti\",2002],[\"Djibouti\",2007],[\"Dominican Republic\",1952],[\"Dominican Republic\",1957],[\"Dominican Republic\",1962],[\"Dominican Republic\",1967],[\"Dominican Republic\",1972],[\"Dominican Republic\",1977],[\"Dominican Republic\",1982],[\"Dominican Republic\",1987],[\"Dominican Republic\",1992],[\"Dominican Republic\",1997],[\"Dominican Republic\",2002],[\"Dominican Republic\",2007],[\"Ecuador\",1952],[\"Ecuador\",1957],[\"Ecuador\",1962],[\"Ecuador\",1967],[\"Ecuador\",1972],[\"Ecuador\",1977],[\"Ecuador\",1982],[\"Ecuador\",1987],[\"Ecuador\",1992],[\"Ecuador\",1997],[\"Ecuador\",2002],[\"Ecuador\",2007],[\"Egypt\",1952],[\"Egypt\",1957],[\"Egypt\",1962],[\"Egypt\",1967],[\"Egypt\",1972],[\"Egypt\",1977],[\"Egypt\",1982],[\"Egypt\",1987],[\"Egypt\",1992],[\"Egypt\",1997],[\"Egypt\",2002],[\"Egypt\",2007],[\"El Salvador\",1952],[\"El Salvador\",1957],[\"El Salvador\",1962],[\"El Salvador\",1967],[\"El Salvador\",1972],[\"El Salvador\",1977],[\"El Salvador\",1982],[\"El Salvador\",1987],[\"El Salvador\",1992],[\"El Salvador\",1997],[\"El Salvador\",2002],[\"El Salvador\",2007],[\"Equatorial Guinea\",1952],[\"Equatorial Guinea\",1957],[\"Equatorial Guinea\",1962],[\"Equatorial Guinea\",1967],[\"Equatorial Guinea\",1972],[\"Equatorial Guinea\",1977],[\"Equatorial Guinea\",1982],[\"Equatorial Guinea\",1987],[\"Equatorial Guinea\",1992],[\"Equatorial Guinea\",1997],[\"Equatorial Guinea\",2002],[\"Equatorial Guinea\",2007],[\"Eritrea\",1952],[\"Eritrea\",1957],[\"Eritrea\",1962],[\"Eritrea\",1967],[\"Eritrea\",1972],[\"Eritrea\",1977],[\"Eritrea\",1982],[\"Eritrea\",1987],[\"Eritrea\",1992],[\"Eritrea\",1997],[\"Eritrea\",2002],[\"Eritrea\",2007],[\"Ethiopia\",1952],[\"Ethiopia\",1957],[\"Ethiopia\",1962],[\"Ethiopia\",1967],[\"Ethiopia\",1972],[\"Ethiopia\",1977],[\"Ethiopia\",1982],[\"Ethiopia\",1987],[\"Ethiopia\",1992],[\"Ethiopia\",1997],[\"Ethiopia\",2002],[\"Ethiopia\",2007],[\"Finland\",1952],[\"Finland\",1957],[\"Finland\",1962],[\"Finland\",1967],[\"Finland\",1972],[\"Finland\",1977],[\"Finland\",1982],[\"Finland\",1987],[\"Finland\",1992],[\"Finland\",1997],[\"Finland\",2002],[\"Finland\",2007],[\"France\",1952],[\"France\",1957],[\"France\",1962],[\"France\",1967],[\"France\",1972],[\"France\",1977],[\"France\",1982],[\"France\",1987],[\"France\",1992],[\"France\",1997],[\"France\",2002],[\"France\",2007],[\"Gabon\",1952],[\"Gabon\",1957],[\"Gabon\",1962],[\"Gabon\",1967],[\"Gabon\",1972],[\"Gabon\",1977],[\"Gabon\",1982],[\"Gabon\",1987],[\"Gabon\",1992],[\"Gabon\",1997],[\"Gabon\",2002],[\"Gabon\",2007],[\"Gambia\",1952],[\"Gambia\",1957],[\"Gambia\",1962],[\"Gambia\",1967],[\"Gambia\",1972],[\"Gambia\",1977],[\"Gambia\",1982],[\"Gambia\",1987],[\"Gambia\",1992],[\"Gambia\",1997],[\"Gambia\",2002],[\"Gambia\",2007],[\"Germany\",1952],[\"Germany\",1957],[\"Germany\",1962],[\"Germany\",1967],[\"Germany\",1972],[\"Germany\",1977],[\"Germany\",1982],[\"Germany\",1987],[\"Germany\",1992],[\"Germany\",1997],[\"Germany\",2002],[\"Germany\",2007],[\"Ghana\",1952],[\"Ghana\",1957],[\"Ghana\",1962],[\"Ghana\",1967],[\"Ghana\",1972],[\"Ghana\",1977],[\"Ghana\",1982],[\"Ghana\",1987],[\"Ghana\",1992],[\"Ghana\",1997],[\"Ghana\",2002],[\"Ghana\",2007],[\"Greece\",1952],[\"Greece\",1957],[\"Greece\",1962],[\"Greece\",1967],[\"Greece\",1972],[\"Greece\",1977],[\"Greece\",1982],[\"Greece\",1987],[\"Greece\",1992],[\"Greece\",1997],[\"Greece\",2002],[\"Greece\",2007],[\"Guatemala\",1952],[\"Guatemala\",1957],[\"Guatemala\",1962],[\"Guatemala\",1967],[\"Guatemala\",1972],[\"Guatemala\",1977],[\"Guatemala\",1982],[\"Guatemala\",1987],[\"Guatemala\",1992],[\"Guatemala\",1997],[\"Guatemala\",2002],[\"Guatemala\",2007],[\"Guinea\",1952],[\"Guinea\",1957],[\"Guinea\",1962],[\"Guinea\",1967],[\"Guinea\",1972],[\"Guinea\",1977],[\"Guinea\",1982],[\"Guinea\",1987],[\"Guinea\",1992],[\"Guinea\",1997],[\"Guinea\",2002],[\"Guinea\",2007],[\"Guinea-Bissau\",1952],[\"Guinea-Bissau\",1957],[\"Guinea-Bissau\",1962],[\"Guinea-Bissau\",1967],[\"Guinea-Bissau\",1972],[\"Guinea-Bissau\",1977],[\"Guinea-Bissau\",1982],[\"Guinea-Bissau\",1987],[\"Guinea-Bissau\",1992],[\"Guinea-Bissau\",1997],[\"Guinea-Bissau\",2002],[\"Guinea-Bissau\",2007],[\"Haiti\",1952],[\"Haiti\",1957],[\"Haiti\",1962],[\"Haiti\",1967],[\"Haiti\",1972],[\"Haiti\",1977],[\"Haiti\",1982],[\"Haiti\",1987],[\"Haiti\",1992],[\"Haiti\",1997],[\"Haiti\",2002],[\"Haiti\",2007],[\"Honduras\",1952],[\"Honduras\",1957],[\"Honduras\",1962],[\"Honduras\",1967],[\"Honduras\",1972],[\"Honduras\",1977],[\"Honduras\",1982],[\"Honduras\",1987],[\"Honduras\",1992],[\"Honduras\",1997],[\"Honduras\",2002],[\"Honduras\",2007],[\"Hong Kong, China\",1952],[\"Hong Kong, China\",1957],[\"Hong Kong, China\",1962],[\"Hong Kong, China\",1967],[\"Hong Kong, China\",1972],[\"Hong Kong, China\",1977],[\"Hong Kong, China\",1982],[\"Hong Kong, China\",1987],[\"Hong Kong, China\",1992],[\"Hong Kong, China\",1997],[\"Hong Kong, China\",2002],[\"Hong Kong, China\",2007],[\"Hungary\",1952],[\"Hungary\",1957],[\"Hungary\",1962],[\"Hungary\",1967],[\"Hungary\",1972],[\"Hungary\",1977],[\"Hungary\",1982],[\"Hungary\",1987],[\"Hungary\",1992],[\"Hungary\",1997],[\"Hungary\",2002],[\"Hungary\",2007],[\"Iceland\",1952],[\"Iceland\",1957],[\"Iceland\",1962],[\"Iceland\",1967],[\"Iceland\",1972],[\"Iceland\",1977],[\"Iceland\",1982],[\"Iceland\",1987],[\"Iceland\",1992],[\"Iceland\",1997],[\"Iceland\",2002],[\"Iceland\",2007],[\"India\",1952],[\"India\",1957],[\"India\",1962],[\"India\",1967],[\"India\",1972],[\"India\",1977],[\"India\",1982],[\"India\",1987],[\"India\",1992],[\"India\",1997],[\"India\",2002],[\"India\",2007],[\"Indonesia\",1952],[\"Indonesia\",1957],[\"Indonesia\",1962],[\"Indonesia\",1967],[\"Indonesia\",1972],[\"Indonesia\",1977],[\"Indonesia\",1982],[\"Indonesia\",1987],[\"Indonesia\",1992],[\"Indonesia\",1997],[\"Indonesia\",2002],[\"Indonesia\",2007],[\"Iran\",1952],[\"Iran\",1957],[\"Iran\",1962],[\"Iran\",1967],[\"Iran\",1972],[\"Iran\",1977],[\"Iran\",1982],[\"Iran\",1987],[\"Iran\",1992],[\"Iran\",1997],[\"Iran\",2002],[\"Iran\",2007],[\"Iraq\",1952],[\"Iraq\",1957],[\"Iraq\",1962],[\"Iraq\",1967],[\"Iraq\",1972],[\"Iraq\",1977],[\"Iraq\",1982],[\"Iraq\",1987],[\"Iraq\",1992],[\"Iraq\",1997],[\"Iraq\",2002],[\"Iraq\",2007],[\"Ireland\",1952],[\"Ireland\",1957],[\"Ireland\",1962],[\"Ireland\",1967],[\"Ireland\",1972],[\"Ireland\",1977],[\"Ireland\",1982],[\"Ireland\",1987],[\"Ireland\",1992],[\"Ireland\",1997],[\"Ireland\",2002],[\"Ireland\",2007],[\"Israel\",1952],[\"Israel\",1957],[\"Israel\",1962],[\"Israel\",1967],[\"Israel\",1972],[\"Israel\",1977],[\"Israel\",1982],[\"Israel\",1987],[\"Israel\",1992],[\"Israel\",1997],[\"Israel\",2002],[\"Israel\",2007],[\"Italy\",1952],[\"Italy\",1957],[\"Italy\",1962],[\"Italy\",1967],[\"Italy\",1972],[\"Italy\",1977],[\"Italy\",1982],[\"Italy\",1987],[\"Italy\",1992],[\"Italy\",1997],[\"Italy\",2002],[\"Italy\",2007],[\"Jamaica\",1952],[\"Jamaica\",1957],[\"Jamaica\",1962],[\"Jamaica\",1967],[\"Jamaica\",1972],[\"Jamaica\",1977],[\"Jamaica\",1982],[\"Jamaica\",1987],[\"Jamaica\",1992],[\"Jamaica\",1997],[\"Jamaica\",2002],[\"Jamaica\",2007],[\"Japan\",1952],[\"Japan\",1957],[\"Japan\",1962],[\"Japan\",1967],[\"Japan\",1972],[\"Japan\",1977],[\"Japan\",1982],[\"Japan\",1987],[\"Japan\",1992],[\"Japan\",1997],[\"Japan\",2002],[\"Japan\",2007],[\"Jordan\",1952],[\"Jordan\",1957],[\"Jordan\",1962],[\"Jordan\",1967],[\"Jordan\",1972],[\"Jordan\",1977],[\"Jordan\",1982],[\"Jordan\",1987],[\"Jordan\",1992],[\"Jordan\",1997],[\"Jordan\",2002],[\"Jordan\",2007],[\"Kenya\",1952],[\"Kenya\",1957],[\"Kenya\",1962],[\"Kenya\",1967],[\"Kenya\",1972],[\"Kenya\",1977],[\"Kenya\",1982],[\"Kenya\",1987],[\"Kenya\",1992],[\"Kenya\",1997],[\"Kenya\",2002],[\"Kenya\",2007],[\"Korea, Dem. Rep.\",1952],[\"Korea, Dem. Rep.\",1957],[\"Korea, Dem. Rep.\",1962],[\"Korea, Dem. Rep.\",1967],[\"Korea, Dem. Rep.\",1972],[\"Korea, Dem. Rep.\",1977],[\"Korea, Dem. Rep.\",1982],[\"Korea, Dem. Rep.\",1987],[\"Korea, Dem. Rep.\",1992],[\"Korea, Dem. Rep.\",1997],[\"Korea, Dem. Rep.\",2002],[\"Korea, Dem. Rep.\",2007],[\"Korea, Rep.\",1952],[\"Korea, Rep.\",1957],[\"Korea, Rep.\",1962],[\"Korea, Rep.\",1967],[\"Korea, Rep.\",1972],[\"Korea, Rep.\",1977],[\"Korea, Rep.\",1982],[\"Korea, Rep.\",1987],[\"Korea, Rep.\",1992],[\"Korea, Rep.\",1997],[\"Korea, Rep.\",2002],[\"Korea, Rep.\",2007],[\"Kuwait\",1952],[\"Kuwait\",1957],[\"Kuwait\",1962],[\"Kuwait\",1967],[\"Kuwait\",1972],[\"Kuwait\",1977],[\"Kuwait\",1982],[\"Kuwait\",1987],[\"Kuwait\",1992],[\"Kuwait\",1997],[\"Kuwait\",2002],[\"Kuwait\",2007],[\"Lebanon\",1952],[\"Lebanon\",1957],[\"Lebanon\",1962],[\"Lebanon\",1967],[\"Lebanon\",1972],[\"Lebanon\",1977],[\"Lebanon\",1982],[\"Lebanon\",1987],[\"Lebanon\",1992],[\"Lebanon\",1997],[\"Lebanon\",2002],[\"Lebanon\",2007],[\"Lesotho\",1952],[\"Lesotho\",1957],[\"Lesotho\",1962],[\"Lesotho\",1967],[\"Lesotho\",1972],[\"Lesotho\",1977],[\"Lesotho\",1982],[\"Lesotho\",1987],[\"Lesotho\",1992],[\"Lesotho\",1997],[\"Lesotho\",2002],[\"Lesotho\",2007],[\"Liberia\",1952],[\"Liberia\",1957],[\"Liberia\",1962],[\"Liberia\",1967],[\"Liberia\",1972],[\"Liberia\",1977],[\"Liberia\",1982],[\"Liberia\",1987],[\"Liberia\",1992],[\"Liberia\",1997],[\"Liberia\",2002],[\"Liberia\",2007],[\"Libya\",1952],[\"Libya\",1957],[\"Libya\",1962],[\"Libya\",1967],[\"Libya\",1972],[\"Libya\",1977],[\"Libya\",1982],[\"Libya\",1987],[\"Libya\",1992],[\"Libya\",1997],[\"Libya\",2002],[\"Libya\",2007],[\"Madagascar\",1952],[\"Madagascar\",1957],[\"Madagascar\",1962],[\"Madagascar\",1967],[\"Madagascar\",1972],[\"Madagascar\",1977],[\"Madagascar\",1982],[\"Madagascar\",1987],[\"Madagascar\",1992],[\"Madagascar\",1997],[\"Madagascar\",2002],[\"Madagascar\",2007],[\"Malawi\",1952],[\"Malawi\",1957],[\"Malawi\",1962],[\"Malawi\",1967],[\"Malawi\",1972],[\"Malawi\",1977],[\"Malawi\",1982],[\"Malawi\",1987],[\"Malawi\",1992],[\"Malawi\",1997],[\"Malawi\",2002],[\"Malawi\",2007],[\"Malaysia\",1952],[\"Malaysia\",1957],[\"Malaysia\",1962],[\"Malaysia\",1967],[\"Malaysia\",1972],[\"Malaysia\",1977],[\"Malaysia\",1982],[\"Malaysia\",1987],[\"Malaysia\",1992],[\"Malaysia\",1997],[\"Malaysia\",2002],[\"Malaysia\",2007],[\"Mali\",1952],[\"Mali\",1957],[\"Mali\",1962],[\"Mali\",1967],[\"Mali\",1972],[\"Mali\",1977],[\"Mali\",1982],[\"Mali\",1987],[\"Mali\",1992],[\"Mali\",1997],[\"Mali\",2002],[\"Mali\",2007],[\"Mauritania\",1952],[\"Mauritania\",1957],[\"Mauritania\",1962],[\"Mauritania\",1967],[\"Mauritania\",1972],[\"Mauritania\",1977],[\"Mauritania\",1982],[\"Mauritania\",1987],[\"Mauritania\",1992],[\"Mauritania\",1997],[\"Mauritania\",2002],[\"Mauritania\",2007],[\"Mauritius\",1952],[\"Mauritius\",1957],[\"Mauritius\",1962],[\"Mauritius\",1967],[\"Mauritius\",1972],[\"Mauritius\",1977],[\"Mauritius\",1982],[\"Mauritius\",1987],[\"Mauritius\",1992],[\"Mauritius\",1997],[\"Mauritius\",2002],[\"Mauritius\",2007],[\"Mexico\",1952],[\"Mexico\",1957],[\"Mexico\",1962],[\"Mexico\",1967],[\"Mexico\",1972],[\"Mexico\",1977],[\"Mexico\",1982],[\"Mexico\",1987],[\"Mexico\",1992],[\"Mexico\",1997],[\"Mexico\",2002],[\"Mexico\",2007],[\"Mongolia\",1952],[\"Mongolia\",1957],[\"Mongolia\",1962],[\"Mongolia\",1967],[\"Mongolia\",1972],[\"Mongolia\",1977],[\"Mongolia\",1982],[\"Mongolia\",1987],[\"Mongolia\",1992],[\"Mongolia\",1997],[\"Mongolia\",2002],[\"Mongolia\",2007],[\"Montenegro\",1952],[\"Montenegro\",1957],[\"Montenegro\",1962],[\"Montenegro\",1967],[\"Montenegro\",1972],[\"Montenegro\",1977],[\"Montenegro\",1982],[\"Montenegro\",1987],[\"Montenegro\",1992],[\"Montenegro\",1997],[\"Montenegro\",2002],[\"Montenegro\",2007],[\"Morocco\",1952],[\"Morocco\",1957],[\"Morocco\",1962],[\"Morocco\",1967],[\"Morocco\",1972],[\"Morocco\",1977],[\"Morocco\",1982],[\"Morocco\",1987],[\"Morocco\",1992],[\"Morocco\",1997],[\"Morocco\",2002],[\"Morocco\",2007],[\"Mozambique\",1952],[\"Mozambique\",1957],[\"Mozambique\",1962],[\"Mozambique\",1967],[\"Mozambique\",1972],[\"Mozambique\",1977],[\"Mozambique\",1982],[\"Mozambique\",1987],[\"Mozambique\",1992],[\"Mozambique\",1997],[\"Mozambique\",2002],[\"Mozambique\",2007],[\"Myanmar\",1952],[\"Myanmar\",1957],[\"Myanmar\",1962],[\"Myanmar\",1967],[\"Myanmar\",1972],[\"Myanmar\",1977],[\"Myanmar\",1982],[\"Myanmar\",1987],[\"Myanmar\",1992],[\"Myanmar\",1997],[\"Myanmar\",2002],[\"Myanmar\",2007],[\"Namibia\",1952],[\"Namibia\",1957],[\"Namibia\",1962],[\"Namibia\",1967],[\"Namibia\",1972],[\"Namibia\",1977],[\"Namibia\",1982],[\"Namibia\",1987],[\"Namibia\",1992],[\"Namibia\",1997],[\"Namibia\",2002],[\"Namibia\",2007],[\"Nepal\",1952],[\"Nepal\",1957],[\"Nepal\",1962],[\"Nepal\",1967],[\"Nepal\",1972],[\"Nepal\",1977],[\"Nepal\",1982],[\"Nepal\",1987],[\"Nepal\",1992],[\"Nepal\",1997],[\"Nepal\",2002],[\"Nepal\",2007],[\"Netherlands\",1952],[\"Netherlands\",1957],[\"Netherlands\",1962],[\"Netherlands\",1967],[\"Netherlands\",1972],[\"Netherlands\",1977],[\"Netherlands\",1982],[\"Netherlands\",1987],[\"Netherlands\",1992],[\"Netherlands\",1997],[\"Netherlands\",2002],[\"Netherlands\",2007],[\"New Zealand\",1952],[\"New Zealand\",1957],[\"New Zealand\",1962],[\"New Zealand\",1967],[\"New Zealand\",1972],[\"New Zealand\",1977],[\"New Zealand\",1982],[\"New Zealand\",1987],[\"New Zealand\",1992],[\"New Zealand\",1997],[\"New Zealand\",2002],[\"New Zealand\",2007],[\"Nicaragua\",1952],[\"Nicaragua\",1957],[\"Nicaragua\",1962],[\"Nicaragua\",1967],[\"Nicaragua\",1972],[\"Nicaragua\",1977],[\"Nicaragua\",1982],[\"Nicaragua\",1987],[\"Nicaragua\",1992],[\"Nicaragua\",1997],[\"Nicaragua\",2002],[\"Nicaragua\",2007],[\"Niger\",1952],[\"Niger\",1957],[\"Niger\",1962],[\"Niger\",1967],[\"Niger\",1972],[\"Niger\",1977],[\"Niger\",1982],[\"Niger\",1987],[\"Niger\",1992],[\"Niger\",1997],[\"Niger\",2002],[\"Niger\",2007],[\"Nigeria\",1952],[\"Nigeria\",1957],[\"Nigeria\",1962],[\"Nigeria\",1967],[\"Nigeria\",1972],[\"Nigeria\",1977],[\"Nigeria\",1982],[\"Nigeria\",1987],[\"Nigeria\",1992],[\"Nigeria\",1997],[\"Nigeria\",2002],[\"Nigeria\",2007],[\"Norway\",1952],[\"Norway\",1957],[\"Norway\",1962],[\"Norway\",1967],[\"Norway\",1972],[\"Norway\",1977],[\"Norway\",1982],[\"Norway\",1987],[\"Norway\",1992],[\"Norway\",1997],[\"Norway\",2002],[\"Norway\",2007],[\"Oman\",1952],[\"Oman\",1957],[\"Oman\",1962],[\"Oman\",1967],[\"Oman\",1972],[\"Oman\",1977],[\"Oman\",1982],[\"Oman\",1987],[\"Oman\",1992],[\"Oman\",1997],[\"Oman\",2002],[\"Oman\",2007],[\"Pakistan\",1952],[\"Pakistan\",1957],[\"Pakistan\",1962],[\"Pakistan\",1967],[\"Pakistan\",1972],[\"Pakistan\",1977],[\"Pakistan\",1982],[\"Pakistan\",1987],[\"Pakistan\",1992],[\"Pakistan\",1997],[\"Pakistan\",2002],[\"Pakistan\",2007],[\"Panama\",1952],[\"Panama\",1957],[\"Panama\",1962],[\"Panama\",1967],[\"Panama\",1972],[\"Panama\",1977],[\"Panama\",1982],[\"Panama\",1987],[\"Panama\",1992],[\"Panama\",1997],[\"Panama\",2002],[\"Panama\",2007],[\"Paraguay\",1952],[\"Paraguay\",1957],[\"Paraguay\",1962],[\"Paraguay\",1967],[\"Paraguay\",1972],[\"Paraguay\",1977],[\"Paraguay\",1982],[\"Paraguay\",1987],[\"Paraguay\",1992],[\"Paraguay\",1997],[\"Paraguay\",2002],[\"Paraguay\",2007],[\"Peru\",1952],[\"Peru\",1957],[\"Peru\",1962],[\"Peru\",1967],[\"Peru\",1972],[\"Peru\",1977],[\"Peru\",1982],[\"Peru\",1987],[\"Peru\",1992],[\"Peru\",1997],[\"Peru\",2002],[\"Peru\",2007],[\"Philippines\",1952],[\"Philippines\",1957],[\"Philippines\",1962],[\"Philippines\",1967],[\"Philippines\",1972],[\"Philippines\",1977],[\"Philippines\",1982],[\"Philippines\",1987],[\"Philippines\",1992],[\"Philippines\",1997],[\"Philippines\",2002],[\"Philippines\",2007],[\"Poland\",1952],[\"Poland\",1957],[\"Poland\",1962],[\"Poland\",1967],[\"Poland\",1972],[\"Poland\",1977],[\"Poland\",1982],[\"Poland\",1987],[\"Poland\",1992],[\"Poland\",1997],[\"Poland\",2002],[\"Poland\",2007],[\"Portugal\",1952],[\"Portugal\",1957],[\"Portugal\",1962],[\"Portugal\",1967],[\"Portugal\",1972],[\"Portugal\",1977],[\"Portugal\",1982],[\"Portugal\",1987],[\"Portugal\",1992],[\"Portugal\",1997],[\"Portugal\",2002],[\"Portugal\",2007],[\"Puerto Rico\",1952],[\"Puerto Rico\",1957],[\"Puerto Rico\",1962],[\"Puerto Rico\",1967],[\"Puerto Rico\",1972],[\"Puerto Rico\",1977],[\"Puerto Rico\",1982],[\"Puerto Rico\",1987],[\"Puerto Rico\",1992],[\"Puerto Rico\",1997],[\"Puerto Rico\",2002],[\"Puerto Rico\",2007],[\"Reunion\",1952],[\"Reunion\",1957],[\"Reunion\",1962],[\"Reunion\",1967],[\"Reunion\",1972],[\"Reunion\",1977],[\"Reunion\",1982],[\"Reunion\",1987],[\"Reunion\",1992],[\"Reunion\",1997],[\"Reunion\",2002],[\"Reunion\",2007],[\"Romania\",1952],[\"Romania\",1957],[\"Romania\",1962],[\"Romania\",1967],[\"Romania\",1972],[\"Romania\",1977],[\"Romania\",1982],[\"Romania\",1987],[\"Romania\",1992],[\"Romania\",1997],[\"Romania\",2002],[\"Romania\",2007],[\"Rwanda\",1952],[\"Rwanda\",1957],[\"Rwanda\",1962],[\"Rwanda\",1967],[\"Rwanda\",1972],[\"Rwanda\",1977],[\"Rwanda\",1982],[\"Rwanda\",1987],[\"Rwanda\",1992],[\"Rwanda\",1997],[\"Rwanda\",2002],[\"Rwanda\",2007],[\"Sao Tome and Principe\",1952],[\"Sao Tome and Principe\",1957],[\"Sao Tome and Principe\",1962],[\"Sao Tome and Principe\",1967],[\"Sao Tome and Principe\",1972],[\"Sao Tome and Principe\",1977],[\"Sao Tome and Principe\",1982],[\"Sao Tome and Principe\",1987],[\"Sao Tome and Principe\",1992],[\"Sao Tome and Principe\",1997],[\"Sao Tome and Principe\",2002],[\"Sao Tome and Principe\",2007],[\"Saudi Arabia\",1952],[\"Saudi Arabia\",1957],[\"Saudi Arabia\",1962],[\"Saudi Arabia\",1967],[\"Saudi Arabia\",1972],[\"Saudi Arabia\",1977],[\"Saudi Arabia\",1982],[\"Saudi Arabia\",1987],[\"Saudi Arabia\",1992],[\"Saudi Arabia\",1997],[\"Saudi Arabia\",2002],[\"Saudi Arabia\",2007],[\"Senegal\",1952],[\"Senegal\",1957],[\"Senegal\",1962],[\"Senegal\",1967],[\"Senegal\",1972],[\"Senegal\",1977],[\"Senegal\",1982],[\"Senegal\",1987],[\"Senegal\",1992],[\"Senegal\",1997],[\"Senegal\",2002],[\"Senegal\",2007],[\"Serbia\",1952],[\"Serbia\",1957],[\"Serbia\",1962],[\"Serbia\",1967],[\"Serbia\",1972],[\"Serbia\",1977],[\"Serbia\",1982],[\"Serbia\",1987],[\"Serbia\",1992],[\"Serbia\",1997],[\"Serbia\",2002],[\"Serbia\",2007],[\"Sierra Leone\",1952],[\"Sierra Leone\",1957],[\"Sierra Leone\",1962],[\"Sierra Leone\",1967],[\"Sierra Leone\",1972],[\"Sierra Leone\",1977],[\"Sierra Leone\",1982],[\"Sierra Leone\",1987],[\"Sierra Leone\",1992],[\"Sierra Leone\",1997],[\"Sierra Leone\",2002],[\"Sierra Leone\",2007],[\"Singapore\",1952],[\"Singapore\",1957],[\"Singapore\",1962],[\"Singapore\",1967],[\"Singapore\",1972],[\"Singapore\",1977],[\"Singapore\",1982],[\"Singapore\",1987],[\"Singapore\",1992],[\"Singapore\",1997],[\"Singapore\",2002],[\"Singapore\",2007],[\"Slovak Republic\",1952],[\"Slovak Republic\",1957],[\"Slovak Republic\",1962],[\"Slovak Republic\",1967],[\"Slovak Republic\",1972],[\"Slovak Republic\",1977],[\"Slovak Republic\",1982],[\"Slovak Republic\",1987],[\"Slovak Republic\",1992],[\"Slovak Republic\",1997],[\"Slovak Republic\",2002],[\"Slovak Republic\",2007],[\"Slovenia\",1952],[\"Slovenia\",1957],[\"Slovenia\",1962],[\"Slovenia\",1967],[\"Slovenia\",1972],[\"Slovenia\",1977],[\"Slovenia\",1982],[\"Slovenia\",1987],[\"Slovenia\",1992],[\"Slovenia\",1997],[\"Slovenia\",2002],[\"Slovenia\",2007],[\"Somalia\",1952],[\"Somalia\",1957],[\"Somalia\",1962],[\"Somalia\",1967],[\"Somalia\",1972],[\"Somalia\",1977],[\"Somalia\",1982],[\"Somalia\",1987],[\"Somalia\",1992],[\"Somalia\",1997],[\"Somalia\",2002],[\"Somalia\",2007],[\"South Africa\",1952],[\"South Africa\",1957],[\"South Africa\",1962],[\"South Africa\",1967],[\"South Africa\",1972],[\"South Africa\",1977],[\"South Africa\",1982],[\"South Africa\",1987],[\"South Africa\",1992],[\"South Africa\",1997],[\"South Africa\",2002],[\"South Africa\",2007],[\"Spain\",1952],[\"Spain\",1957],[\"Spain\",1962],[\"Spain\",1967],[\"Spain\",1972],[\"Spain\",1977],[\"Spain\",1982],[\"Spain\",1987],[\"Spain\",1992],[\"Spain\",1997],[\"Spain\",2002],[\"Spain\",2007],[\"Sri Lanka\",1952],[\"Sri Lanka\",1957],[\"Sri Lanka\",1962],[\"Sri Lanka\",1967],[\"Sri Lanka\",1972],[\"Sri Lanka\",1977],[\"Sri Lanka\",1982],[\"Sri Lanka\",1987],[\"Sri Lanka\",1992],[\"Sri Lanka\",1997],[\"Sri Lanka\",2002],[\"Sri Lanka\",2007],[\"Sudan\",1952],[\"Sudan\",1957],[\"Sudan\",1962],[\"Sudan\",1967],[\"Sudan\",1972],[\"Sudan\",1977],[\"Sudan\",1982],[\"Sudan\",1987],[\"Sudan\",1992],[\"Sudan\",1997],[\"Sudan\",2002],[\"Sudan\",2007],[\"Swaziland\",1952],[\"Swaziland\",1957],[\"Swaziland\",1962],[\"Swaziland\",1967],[\"Swaziland\",1972],[\"Swaziland\",1977],[\"Swaziland\",1982],[\"Swaziland\",1987],[\"Swaziland\",1992],[\"Swaziland\",1997],[\"Swaziland\",2002],[\"Swaziland\",2007],[\"Sweden\",1952],[\"Sweden\",1957],[\"Sweden\",1962],[\"Sweden\",1967],[\"Sweden\",1972],[\"Sweden\",1977],[\"Sweden\",1982],[\"Sweden\",1987],[\"Sweden\",1992],[\"Sweden\",1997],[\"Sweden\",2002],[\"Sweden\",2007],[\"Switzerland\",1952],[\"Switzerland\",1957],[\"Switzerland\",1962],[\"Switzerland\",1967],[\"Switzerland\",1972],[\"Switzerland\",1977],[\"Switzerland\",1982],[\"Switzerland\",1987],[\"Switzerland\",1992],[\"Switzerland\",1997],[\"Switzerland\",2002],[\"Switzerland\",2007],[\"Syria\",1952],[\"Syria\",1957],[\"Syria\",1962],[\"Syria\",1967],[\"Syria\",1972],[\"Syria\",1977],[\"Syria\",1982],[\"Syria\",1987],[\"Syria\",1992],[\"Syria\",1997],[\"Syria\",2002],[\"Syria\",2007],[\"Taiwan\",1952],[\"Taiwan\",1957],[\"Taiwan\",1962],[\"Taiwan\",1967],[\"Taiwan\",1972],[\"Taiwan\",1977],[\"Taiwan\",1982],[\"Taiwan\",1987],[\"Taiwan\",1992],[\"Taiwan\",1997],[\"Taiwan\",2002],[\"Taiwan\",2007],[\"Tanzania\",1952],[\"Tanzania\",1957],[\"Tanzania\",1962],[\"Tanzania\",1967],[\"Tanzania\",1972],[\"Tanzania\",1977],[\"Tanzania\",1982],[\"Tanzania\",1987],[\"Tanzania\",1992],[\"Tanzania\",1997],[\"Tanzania\",2002],[\"Tanzania\",2007],[\"Thailand\",1952],[\"Thailand\",1957],[\"Thailand\",1962],[\"Thailand\",1967],[\"Thailand\",1972],[\"Thailand\",1977],[\"Thailand\",1982],[\"Thailand\",1987],[\"Thailand\",1992],[\"Thailand\",1997],[\"Thailand\",2002],[\"Thailand\",2007],[\"Togo\",1952],[\"Togo\",1957],[\"Togo\",1962],[\"Togo\",1967],[\"Togo\",1972],[\"Togo\",1977],[\"Togo\",1982],[\"Togo\",1987],[\"Togo\",1992],[\"Togo\",1997],[\"Togo\",2002],[\"Togo\",2007],[\"Trinidad and Tobago\",1952],[\"Trinidad and Tobago\",1957],[\"Trinidad and Tobago\",1962],[\"Trinidad and Tobago\",1967],[\"Trinidad and Tobago\",1972],[\"Trinidad and Tobago\",1977],[\"Trinidad and Tobago\",1982],[\"Trinidad and Tobago\",1987],[\"Trinidad and Tobago\",1992],[\"Trinidad and Tobago\",1997],[\"Trinidad and Tobago\",2002],[\"Trinidad and Tobago\",2007],[\"Tunisia\",1952],[\"Tunisia\",1957],[\"Tunisia\",1962],[\"Tunisia\",1967],[\"Tunisia\",1972],[\"Tunisia\",1977],[\"Tunisia\",1982],[\"Tunisia\",1987],[\"Tunisia\",1992],[\"Tunisia\",1997],[\"Tunisia\",2002],[\"Tunisia\",2007],[\"Turkey\",1952],[\"Turkey\",1957],[\"Turkey\",1962],[\"Turkey\",1967],[\"Turkey\",1972],[\"Turkey\",1977],[\"Turkey\",1982],[\"Turkey\",1987],[\"Turkey\",1992],[\"Turkey\",1997],[\"Turkey\",2002],[\"Turkey\",2007],[\"Uganda\",1952],[\"Uganda\",1957],[\"Uganda\",1962],[\"Uganda\",1967],[\"Uganda\",1972],[\"Uganda\",1977],[\"Uganda\",1982],[\"Uganda\",1987],[\"Uganda\",1992],[\"Uganda\",1997],[\"Uganda\",2002],[\"Uganda\",2007],[\"United Kingdom\",1952],[\"United Kingdom\",1957],[\"United Kingdom\",1962],[\"United Kingdom\",1967],[\"United Kingdom\",1972],[\"United Kingdom\",1977],[\"United Kingdom\",1982],[\"United Kingdom\",1987],[\"United Kingdom\",1992],[\"United Kingdom\",1997],[\"United Kingdom\",2002],[\"United Kingdom\",2007],[\"United States\",1952],[\"United States\",1957],[\"United States\",1962],[\"United States\",1967],[\"United States\",1972],[\"United States\",1977],[\"United States\",1982],[\"United States\",1987],[\"United States\",1992],[\"United States\",1997],[\"United States\",2002],[\"United States\",2007],[\"Uruguay\",1952],[\"Uruguay\",1957],[\"Uruguay\",1962],[\"Uruguay\",1967],[\"Uruguay\",1972],[\"Uruguay\",1977],[\"Uruguay\",1982],[\"Uruguay\",1987],[\"Uruguay\",1992],[\"Uruguay\",1997],[\"Uruguay\",2002],[\"Uruguay\",2007],[\"Venezuela\",1952],[\"Venezuela\",1957],[\"Venezuela\",1962],[\"Venezuela\",1967],[\"Venezuela\",1972],[\"Venezuela\",1977],[\"Venezuela\",1982],[\"Venezuela\",1987],[\"Venezuela\",1992],[\"Venezuela\",1997],[\"Venezuela\",2002],[\"Venezuela\",2007],[\"Vietnam\",1952],[\"Vietnam\",1957],[\"Vietnam\",1962],[\"Vietnam\",1967],[\"Vietnam\",1972],[\"Vietnam\",1977],[\"Vietnam\",1982],[\"Vietnam\",1987],[\"Vietnam\",1992],[\"Vietnam\",1997],[\"Vietnam\",2002],[\"Vietnam\",2007],[\"West Bank and Gaza\",1952],[\"West Bank and Gaza\",1957],[\"West Bank and Gaza\",1962],[\"West Bank and Gaza\",1967],[\"West Bank and Gaza\",1972],[\"West Bank and Gaza\",1977],[\"West Bank and Gaza\",1982],[\"West Bank and Gaza\",1987],[\"West Bank and Gaza\",1992],[\"West Bank and Gaza\",1997],[\"West Bank and Gaza\",2002],[\"West Bank and Gaza\",2007],[\"Yemen, Rep.\",1952],[\"Yemen, Rep.\",1957],[\"Yemen, Rep.\",1962],[\"Yemen, Rep.\",1967],[\"Yemen, Rep.\",1972],[\"Yemen, Rep.\",1977],[\"Yemen, Rep.\",1982],[\"Yemen, Rep.\",1987],[\"Yemen, Rep.\",1992],[\"Yemen, Rep.\",1997],[\"Yemen, Rep.\",2002],[\"Yemen, Rep.\",2007],[\"Zambia\",1952],[\"Zambia\",1957],[\"Zambia\",1962],[\"Zambia\",1967],[\"Zambia\",1972],[\"Zambia\",1977],[\"Zambia\",1982],[\"Zambia\",1987],[\"Zambia\",1992],[\"Zambia\",1997],[\"Zambia\",2002],[\"Zambia\",2007],[\"Zimbabwe\",1952],[\"Zimbabwe\",1957],[\"Zimbabwe\",1962],[\"Zimbabwe\",1967],[\"Zimbabwe\",1972],[\"Zimbabwe\",1977],[\"Zimbabwe\",1982],[\"Zimbabwe\",1987],[\"Zimbabwe\",1992],[\"Zimbabwe\",1997],[\"Zimbabwe\",2002],[\"Zimbabwe\",2007]],\"hovertemplate\":\"gdpPercap=%{x}<br>lifeExp=%{y}<br>country=%{customdata[0]}<br>year=%{marker.color}<extra></extra>\",\"legendgroup\":\"\",\"marker\":{\"color\":[1952,1957,1962,1967,1972,1977,1982,1987,1992,1997,2002,2007,1952,1957,1962,1967,1972,1977,1982,1987,1992,1997,2002,2007,1952,1957,1962,1967,1972,1977,1982,1987,1992,1997,2002,2007,1952,1957,1962,1967,1972,1977,1982,1987,1992,1997,2002,2007,1952,1957,1962,1967,1972,1977,1982,1987,1992,1997,2002,2007,1952,1957,1962,1967,1972,1977,1982,1987,1992,1997,2002,2007,1952,1957,1962,1967,1972,1977,1982,1987,1992,1997,2002,2007,1952,1957,1962,1967,1972,1977,1982,1987,1992,1997,2002,2007,1952,1957,1962,1967,1972,1977,1982,1987,1992,1997,2002,2007,1952,1957,1962,1967,1972,1977,1982,1987,1992,1997,2002,2007,1952,1957,1962,1967,1972,1977,1982,1987,1992,1997,2002,2007,1952,1957,1962,1967,1972,1977,1982,1987,1992,1997,2002,2007,1952,1957,1962,1967,1972,1977,1982,1987,1992,1997,2002,2007,1952,1957,1962,1967,1972,1977,1982,1987,1992,1997,2002,2007,1952,1957,1962,1967,1972,1977,1982,1987,1992,1997,2002,2007,1952,1957,1962,1967,1972,1977,1982,1987,1992,1997,2002,2007,1952,1957,1962,1967,1972,1977,1982,1987,1992,1997,2002,2007,1952,1957,1962,1967,1972,1977,1982,1987,1992,1997,2002,2007,1952,1957,1962,1967,1972,1977,1982,1987,1992,1997,2002,2007,1952,1957,1962,1967,1972,1977,1982,1987,1992,1997,2002,2007,1952,1957,1962,1967,1972,1977,1982,1987,1992,1997,2002,2007,1952,1957,1962,1967,1972,1977,1982,1987,1992,1997,2002,2007,1952,1957,1962,1967,1972,1977,1982,1987,1992,1997,2002,2007,1952,1957,1962,1967,1972,1977,1982,1987,1992,1997,2002,2007,1952,1957,1962,1967,1972,1977,1982,1987,1992,1997,2002,2007,1952,1957,1962,1967,1972,1977,1982,1987,1992,1997,2002,2007,1952,1957,1962,1967,1972,1977,1982,1987,1992,1997,2002,2007,1952,1957,1962,1967,1972,1977,1982,1987,1992,1997,2002,2007,1952,1957,1962,1967,1972,1977,1982,1987,1992,1997,2002,2007,1952,1957,1962,1967,1972,1977,1982,1987,1992,1997,2002,2007,1952,1957,1962,1967,1972,1977,1982,1987,1992,1997,2002,2007,1952,1957,1962,1967,1972,1977,1982,1987,1992,1997,2002,2007,1952,1957,1962,1967,1972,1977,1982,1987,1992,1997,2002,2007,1952,1957,1962,1967,1972,1977,1982,1987,1992,1997,2002,2007,1952,1957,1962,1967,1972,1977,1982,1987,1992,1997,2002,2007,1952,1957,1962,1967,1972,1977,1982,1987,1992,1997,2002,2007,1952,1957,1962,1967,1972,1977,1982,1987,1992,1997,2002,2007,1952,1957,1962,1967,1972,1977,1982,1987,1992,1997,2002,2007,1952,1957,1962,1967,1972,1977,1982,1987,1992,1997,2002,2007,1952,1957,1962,1967,1972,1977,1982,1987,1992,1997,2002,2007,1952,1957,1962,1967,1972,1977,1982,1987,1992,1997,2002,2007,1952,1957,1962,1967,1972,1977,1982,1987,1992,1997,2002,2007,1952,1957,1962,1967,1972,1977,1982,1987,1992,1997,2002,2007,1952,1957,1962,1967,1972,1977,1982,1987,1992,1997,2002,2007,1952,1957,1962,1967,1972,1977,1982,1987,1992,1997,2002,2007,1952,1957,1962,1967,1972,1977,1982,1987,1992,1997,2002,2007,1952,1957,1962,1967,1972,1977,1982,1987,1992,1997,2002,2007,1952,1957,1962,1967,1972,1977,1982,1987,1992,1997,2002,2007,1952,1957,1962,1967,1972,1977,1982,1987,1992,1997,2002,2007,1952,1957,1962,1967,1972,1977,1982,1987,1992,1997,2002,2007,1952,1957,1962,1967,1972,1977,1982,1987,1992,1997,2002,2007,1952,1957,1962,1967,1972,1977,1982,1987,1992,1997,2002,2007,1952,1957,1962,1967,1972,1977,1982,1987,1992,1997,2002,2007,1952,1957,1962,1967,1972,1977,1982,1987,1992,1997,2002,2007,1952,1957,1962,1967,1972,1977,1982,1987,1992,1997,2002,2007,1952,1957,1962,1967,1972,1977,1982,1987,1992,1997,2002,2007,1952,1957,1962,1967,1972,1977,1982,1987,1992,1997,2002,2007,1952,1957,1962,1967,1972,1977,1982,1987,1992,1997,2002,2007,1952,1957,1962,1967,1972,1977,1982,1987,1992,1997,2002,2007,1952,1957,1962,1967,1972,1977,1982,1987,1992,1997,2002,2007,1952,1957,1962,1967,1972,1977,1982,1987,1992,1997,2002,2007,1952,1957,1962,1967,1972,1977,1982,1987,1992,1997,2002,2007,1952,1957,1962,1967,1972,1977,1982,1987,1992,1997,2002,2007,1952,1957,1962,1967,1972,1977,1982,1987,1992,1997,2002,2007,1952,1957,1962,1967,1972,1977,1982,1987,1992,1997,2002,2007,1952,1957,1962,1967,1972,1977,1982,1987,1992,1997,2002,2007,1952,1957,1962,1967,1972,1977,1982,1987,1992,1997,2002,2007,1952,1957,1962,1967,1972,1977,1982,1987,1992,1997,2002,2007,1952,1957,1962,1967,1972,1977,1982,1987,1992,1997,2002,2007,1952,1957,1962,1967,1972,1977,1982,1987,1992,1997,2002,2007,1952,1957,1962,1967,1972,1977,1982,1987,1992,1997,2002,2007,1952,1957,1962,1967,1972,1977,1982,1987,1992,1997,2002,2007,1952,1957,1962,1967,1972,1977,1982,1987,1992,1997,2002,2007,1952,1957,1962,1967,1972,1977,1982,1987,1992,1997,2002,2007,1952,1957,1962,1967,1972,1977,1982,1987,1992,1997,2002,2007,1952,1957,1962,1967,1972,1977,1982,1987,1992,1997,2002,2007,1952,1957,1962,1967,1972,1977,1982,1987,1992,1997,2002,2007,1952,1957,1962,1967,1972,1977,1982,1987,1992,1997,2002,2007,1952,1957,1962,1967,1972,1977,1982,1987,1992,1997,2002,2007,1952,1957,1962,1967,1972,1977,1982,1987,1992,1997,2002,2007,1952,1957,1962,1967,1972,1977,1982,1987,1992,1997,2002,2007,1952,1957,1962,1967,1972,1977,1982,1987,1992,1997,2002,2007,1952,1957,1962,1967,1972,1977,1982,1987,1992,1997,2002,2007,1952,1957,1962,1967,1972,1977,1982,1987,1992,1997,2002,2007,1952,1957,1962,1967,1972,1977,1982,1987,1992,1997,2002,2007,1952,1957,1962,1967,1972,1977,1982,1987,1992,1997,2002,2007,1952,1957,1962,1967,1972,1977,1982,1987,1992,1997,2002,2007,1952,1957,1962,1967,1972,1977,1982,1987,1992,1997,2002,2007,1952,1957,1962,1967,1972,1977,1982,1987,1992,1997,2002,2007,1952,1957,1962,1967,1972,1977,1982,1987,1992,1997,2002,2007,1952,1957,1962,1967,1972,1977,1982,1987,1992,1997,2002,2007,1952,1957,1962,1967,1972,1977,1982,1987,1992,1997,2002,2007,1952,1957,1962,1967,1972,1977,1982,1987,1992,1997,2002,2007,1952,1957,1962,1967,1972,1977,1982,1987,1992,1997,2002,2007,1952,1957,1962,1967,1972,1977,1982,1987,1992,1997,2002,2007,1952,1957,1962,1967,1972,1977,1982,1987,1992,1997,2002,2007,1952,1957,1962,1967,1972,1977,1982,1987,1992,1997,2002,2007,1952,1957,1962,1967,1972,1977,1982,1987,1992,1997,2002,2007,1952,1957,1962,1967,1972,1977,1982,1987,1992,1997,2002,2007,1952,1957,1962,1967,1972,1977,1982,1987,1992,1997,2002,2007,1952,1957,1962,1967,1972,1977,1982,1987,1992,1997,2002,2007,1952,1957,1962,1967,1972,1977,1982,1987,1992,1997,2002,2007,1952,1957,1962,1967,1972,1977,1982,1987,1992,1997,2002,2007,1952,1957,1962,1967,1972,1977,1982,1987,1992,1997,2002,2007,1952,1957,1962,1967,1972,1977,1982,1987,1992,1997,2002,2007,1952,1957,1962,1967,1972,1977,1982,1987,1992,1997,2002,2007,1952,1957,1962,1967,1972,1977,1982,1987,1992,1997,2002,2007,1952,1957,1962,1967,1972,1977,1982,1987,1992,1997,2002,2007,1952,1957,1962,1967,1972,1977,1982,1987,1992,1997,2002,2007,1952,1957,1962,1967,1972,1977,1982,1987,1992,1997,2002,2007,1952,1957,1962,1967,1972,1977,1982,1987,1992,1997,2002,2007,1952,1957,1962,1967,1972,1977,1982,1987,1992,1997,2002,2007,1952,1957,1962,1967,1972,1977,1982,1987,1992,1997,2002,2007,1952,1957,1962,1967,1972,1977,1982,1987,1992,1997,2002,2007,1952,1957,1962,1967,1972,1977,1982,1987,1992,1997,2002,2007,1952,1957,1962,1967,1972,1977,1982,1987,1992,1997,2002,2007,1952,1957,1962,1967,1972,1977,1982,1987,1992,1997,2002,2007,1952,1957,1962,1967,1972,1977,1982,1987,1992,1997,2002,2007,1952,1957,1962,1967,1972,1977,1982,1987,1992,1997,2002,2007,1952,1957,1962,1967,1972,1977,1982,1987,1992,1997,2002,2007,1952,1957,1962,1967,1972,1977,1982,1987,1992,1997,2002,2007,1952,1957,1962,1967,1972,1977,1982,1987,1992,1997,2002,2007,1952,1957,1962,1967,1972,1977,1982,1987,1992,1997,2002,2007,1952,1957,1962,1967,1972,1977,1982,1987,1992,1997,2002,2007,1952,1957,1962,1967,1972,1977,1982,1987,1992,1997,2002,2007,1952,1957,1962,1967,1972,1977,1982,1987,1992,1997,2002,2007,1952,1957,1962,1967,1972,1977,1982,1987,1992,1997,2002,2007,1952,1957,1962,1967,1972,1977,1982,1987,1992,1997,2002,2007,1952,1957,1962,1967,1972,1977,1982,1987,1992,1997,2002,2007,1952,1957,1962,1967,1972,1977,1982,1987,1992,1997,2002,2007,1952,1957,1962,1967,1972,1977,1982,1987,1992,1997,2002,2007,1952,1957,1962,1967,1972,1977,1982,1987,1992,1997,2002,2007,1952,1957,1962,1967,1972,1977,1982,1987,1992,1997,2002,2007,1952,1957,1962,1967,1972,1977,1982,1987,1992,1997,2002,2007,1952,1957,1962,1967,1972,1977,1982,1987,1992,1997,2002,2007,1952,1957,1962,1967,1972,1977,1982,1987,1992,1997,2002,2007,1952,1957,1962,1967,1972,1977,1982,1987,1992,1997,2002,2007,1952,1957,1962,1967,1972,1977,1982,1987,1992,1997,2002,2007,1952,1957,1962,1967,1972,1977,1982,1987,1992,1997,2002,2007,1952,1957,1962,1967,1972,1977,1982,1987,1992,1997,2002,2007,1952,1957,1962,1967,1972,1977,1982,1987,1992,1997,2002,2007,1952,1957,1962,1967,1972,1977,1982,1987,1992,1997,2002,2007],\"coloraxis\":\"coloraxis\",\"symbol\":\"circle\"},\"mode\":\"markers\",\"name\":\"\",\"showlegend\":false,\"type\":\"scattergl\",\"x\":[779.4453145,820.8530296,853.1007099999997,836.1971382,739.9811057999997,786.11336,978.0114388000001,852.3959447999997,649.3413952000002,635.341351,726.7340548,974.5803384,1601.056136,1942.2842440000002,2312.888958,2760.196931,3313.422188,3533.0039100000013,3630.880722,3738.9327350000003,2497.4379010000002,3193.054604,4604.211737,5937.0295259999975,2449.008185,3013.976023,2550.81688,3246.991771,4182.663766,4910.416756000001,5745.160213,5681.358539,5023.216647,4797.295051,5288.040382,6223.367465,3520.610273,3827.9404649999997,4269.276742,5522.776375,5473.2880049999985,3008.647355,2756.953672,2430.208311,2627.8456850000002,2277.140884,2773.287312,4797.231267,5911.315053,6856.856212000002,7133.1660230000025,8052.9530209999975,9443.038526,10079.026740000001,8997.897412,9139.671389,9308.41871,10967.28195,8797.640716,12779.379640000001,10039.595640000001,10949.64959,12217.226859999999,14526.12465,16788.62948,18334.197509999998,19477.009280000002,21888.889030000002,23424.76683,26997.936569999998,30687.75473,34435.367439999995,6137.076492,8842.59803,10750.721109999999,12834.6024,16661.6256,19749.4223,21597.083619999998,23687.82607,27042.01868,29095.920660000003,32417.607689999997,36126.4927,9867.084765000001,11635.79945,12753.27514,14804.6727,18268.65839,19340.10196,19211.14731,18524.02406,19035.579169999997,20292.01679,23403.559269999998,29796.048339999998,684.2441716,661.6374577,686.3415537999998,721.1860862000003,630.2336265,659.8772322000002,676.9818656,751.9794035,837.8101642999999,972.7700352,1136.3904300000004,1391.253792,8343.105126999999,9714.960623,10991.20676,13149.04119,16672.14356,19117.97448,20979.84589,22525.56308,25575.57069,27561.196630000002,30485.88375,33692.60508,1062.7522,959.6010805,949.4990641,1035.831411,1085.796879,1029.161251,1277.897616,1225.85601,1191.207681,1232.975292,1372.877931,1441.284873,2677.3263469999997,2127.686326,2180.972546,2586.886053,2980.331339,3548.097832,3156.510452,2753.6914899999997,2961.699694,3326.143191,3413.26269,3822.1370840000004,973.5331947999999,1353.989176,1709.683679,2172.3524230000007,2860.16975,3528.481305,4126.613157,4314.114757,2546.781445,4766.355904,6018.975239,7446.298803,851.2411407,918.2325348999999,983.6539764,1214.709294,2263.6111140000007,3214.857818,4551.14215,6205.88385,7954.111645,8647.142313,11003.60508,12569.851770000001,2108.944355,2487.365989,3336.585802,3429.864357,4985.711467,6660.118654,7030.835878,7807.0958180000025,6950.2830209999975,7957.9808239999975,8131.212843000001,9065.800825,2444.2866480000002,3008.670727,4254.337839,5577.0028,6597.494398,7612.240438,8224.191647,8239.854824,6302.623438000001,5970.38876,7696.777725,10680.79282,543.2552413,617.1834647999998,722.5120206,794.8265597,854.7359763000003,743.3870368,807.1985855,912.0631417000001,931.7527731,946.2949617999999,1037.645221,1217.032994,339.29645869999996,379.56462810000005,355.2032273,412.97751360000007,464.0995039,556.1032651,559.6032309999998,621.8188188999999,631.6998778,463.1151478,446.4035126,430.07069160000003,368.46928560000003,434.0383364,496.9136476,523.4323142,421.6240257,524.9721831999999,624.4754784,683.8955732000003,682.3031755,734.28517,896.2260152999999,1713.7786859999999,1172.667655,1313.048099,1399.607441,1508.453148,1684.1465280000002,1783.432873,2367.983282,2602.664206,1793.1632780000002,1694.337469,1934.0114489999999,2042.0952399999999,11367.16112,12489.95006,13462.48555,16076.58803,18970.57086,22090.88306,22898.79214,26626.515030000002,26342.88426,28954.92589,33328.96507,36319.235010000004,1071.310713,1190.844328,1193.068753,1136.056615,1070.013275,1109.374338,956.7529906999999,844.8763504000003,747.9055252,740.5063317,738.6906068,706.016537,1178.665927,1308.495577,1389.817618,1196.810565,1104.103987,1133.98495,797.9081006,952.3861289999999,1058.0643,1004.9613529999999,1156.18186,1704.0637239999999,3939.9787890000002,4315.6227229999995,4519.094331,5106.654313,5494.024437,4756.763836,5095.6657380000015,5547.063754,7596.125964,10118.053179999999,10778.78385,13171.63885,400.44861099999997,575.9870009,487.6740183,612.7056934,676.9000921,741.2374699,962.4213804999999,1378.904018,1655.784158,2289.234136,3119.280896,4959.1148539999995,2144.115096,2323.805581,2492.351109,2678.729839,3264.660041,3815.80787,4397.575659,4903.2191,5444.648617,6117.361746000001,5755.259962,7006.580419,1102.990936,1211.1485480000001,1406.648278,1876.029643,1937.577675,1172.603047,1267.100083,1315.980812,1246.90737,1173.618235,1075.811558,986.1478792000001,780.5423257,905.8602302999999,896.3146335000001,861.5932424,904.8960685000001,795.757282,673.7478181,672.774812,457.7191807,312.188423,241.16587650000002,277.55185869999997,2125.621418,2315.056572,2464.783157,2677.9396420000007,3213.152683,3259.178978,4879.507522,4201.194936999998,4016.239529,3484.1643759999997,3484.06197,3632.557798,2627.0094710000008,2990.010802,3460.937025,4161.727834,5118.146939,5926.876967,5262.734751,5629.915318,6160.416317,6677.045314,7723.4471950000025,9645.06142,1388.594732,1500.895925,1728.8694280000002,2052.0504730000002,2378.201111,2517.736547,2602.710169,2156.9560690000008,1648.073791,1786.265407,1648.800823,1544.750112,3119.23652,4338.231617,5477.890018,6960.297861,9164.090127,11305.38517,13221.82184,13822.58394,8447.794873,9875.604515,11628.38895,14619.222719999998,5586.53878,6092.174359000002,5180.75591,5690.268015,5305.445256,6380.4949659999975,7316.918106999998,7532.924762999999,5592.843963,5431.990415,6340.646683,8948.102923,6876.14025,8256.343918,10136.86713,11399.44489,13108.4536,14800.160619999999,15377.22855,16310.4434,14297.021219999999,16048.51424,17596.210219999994,22833.30851,9692.385245,11099.65935,13583.31351,15937.21123,18866.20721,20422.9015,21688.04048,25116.17581,26406.73985,29804.34567,32166.500060000002,35278.41874,2669.529475,2864.969076000001,3020.989263,3020.0505129999997,3694.2123520000014,3081.7610219999997,2879.4680670000002,2880.102568,2377.156192000001,1895.016984,1908.2608670000002,2082.4815670000007,1397.7171369999999,1544.402995,1662.137359,1653.7230029999994,2189.874499,2681.9889,2861.092386,2899.842175,3044.214214,3614.101285,4563.808154,6025.374752000002,3522.110717,3780.5466509999997,4086.114078,4579.074215,5280.99471,6679.62326,7213.7912670000005,6481.776993,7103.7025950000025,7429.455876999998,5773.0445119999995,6873.262326000001,1418.822445,1458.915272,1693.335853,1814.880728,2024.0081469999998,2785.493582,3503.729636,3885.4607100000003,3794.755195,4173.181797,4754.604414,5581.180998,3048.3029,3421.523218,3776.8036270000002,4358.595393,4520.246008,5138.922374,4098.344175,4140.442097,4444.2317,5154.825496,5351.568665999999,5728.353514,375.6431231,426.0964081,582.8419713999998,915.5960025,672.4122571,958.5668124,927.8253427000001,966.8968149,1132.055034,2814.480755,7703.4959,12154.08975,328.9405571000001,344.16188589999996,380.99584330000016,468.7949699,514.3242081999998,505.7538077,524.8758493,521.1341333,582.8585102000002,913.4707900000001,765.3500015,641.3695236000002,362.1462796,378.90416319999997,419.4564161,516.1186438,566.2439442000001,556.8083834,577.8607471,573.7413142000001,421.3534653,515.8894013,530.0535319,690.8055759,6424.519071,7545.415386,9371.842561,10921.63626,14358.8759,15605.422830000001,18533.15761,21141.01223,20647.16499,23723.9502,28204.59057,33207.0844,7029.809327,8662.834898000001,10560.48553,12999.91766,16107.19171,18292.635140000002,20293.89746,22066.44214,24703.79615,25889.78487,28926.032339999998,30470.0167,4293.476475,4976.198099,6631.4592219999995,8358.761987,11401.948409999999,21745.57328,15113.36194,11864.408440000001,13522.157519999999,14722.841880000002,12521.71392,13206.48452,485.2306591,520.9267111,599.650276,734.7829124,756.0868363,884.7552507000001,835.8096107999999,611.6588611000002,665.6244126,653.7301704,660.5855997,752.7497265,7144.114393000003,10187.82665,12902.46291,14745.62561,18016.180269999997,20512.92123,22031.532740000002,24639.18566,26505.30317,27788.88416,30035.80198,32170.37442,911.2989371,1043.5615369999996,1190.0411179999999,1125.69716,1178.223708,993.2239571,876.032569,847.0061135,925.0601539999999,1005.2458119999999,1111.9845779999996,1327.60891,3530.690067,4916.299889,6017.1907329999985,8513.097016,12724.82957,14195.524280000001,15268.420890000001,16120.528390000001,17541.49634,18747.69814,22514.2548,27538.41188,2428.2377690000008,2617.155967,2750.364446,3242.5311469999997,4031.4082710000002,4879.992748,4820.49479,4246.485974,4439.4508399999995,4684.313807,4858.347495,5186.050003,510.19649230000016,576.2670245,686.3736739,708.7595409,741.6662307,874.6858642999997,857.2503577,805.5724717999999,794.3484384,869.4497667999997,945.5835837000001,942.6542111,299.850319,431.79045660000014,522.0343725,715.5806402000003,820.2245876000003,764.7259627999997,838.1239671,736.4153921,745.5398706,796.6644681,575.7047176,579.2317429999998,1840.366939,1726.887882,1796.589032,1452.057666,1654.456946,1874.2989309999998,2011.1595489999997,1823.015995,1456.309517,1341.7269310000001,1270.364932,1201.637154,2194.926204,2220.487682,2291.1568350000002,2538.269358,2529.842345,3203.208066,3121.760794000001,3023.0966989999997,3081.694603,3160.454906,3099.72866,3548.330846000001,3054.421209,3629.076457,4692.6482719999985,6197.962814,8315.928145,11186.14125,14560.530509999999,20038.472690000002,24757.60301,28377.632189999997,30209.01516000001,39724.97867,5263.6738159999995,6040.180011,7550.359877,9326.64467,10168.65611,11674.837370000001,12545.99066,12986.47998,10535.62855,11712.7768,14843.93556,18008.94444,7267.688428,9244.001412,10350.15906,13319.89568,15798.063619999999,19654.96247,23269.6075,26923.206280000002,25144.39201,28061.099660000003,31163.201960000002,36180.789189999996,546.5657493,590.061996,658.3471509,700.7706107000001,724.032527,813.3373230000003,855.7235377000003,976.5126756000001,1164.406809,1458.817442,1746.769454,2452.210407,749.6816546,858.9002707000003,849.2897700999997,762.4317721,1111.107907,1382.702056,1516.872988,1748.356961,2383.140898,3119.335603,2873.91287,3540.6515640000002,3035.326002,3290.257643,4187.329802,5906.7318049999985,9613.818607,11888.59508,7608.334602,6642.881371,7235.6531879999975,8263.590301,9240.761975,11605.71449,4129.766056,6229.333562,8341.737815,8931.459811,9576.037596,14688.235069999999,14517.90711,11643.57268,3745.6406869999996,3076.239795,4390.717312,4471.061906,5210.280328,5599.077872,6631.597314,7655.568963,9530.772895999999,11150.98113,12618.321409999999,13872.86652,17558.81555,24521.94713,34077.04939,40675.99635,4086.522128,5385.278451,7105.630706,8393.741404,12786.93223,13306.619209999999,15367.0292,17122.47986,18051.52254,20896.60924,21905.59514,25523.2771,4931.404154999998,6248.656232,8243.58234,10022.40131,12269.27378,14255.98475,16537.4835,19207.234819999998,22013.64486,24675.02446,27968.098169999997,28569.7197,2898.5308809999997,4756.525781,5246.107524,6124.7034509999985,7433.889293000001,6650.195573,6068.05135,6351.237495,7404.923685,7121.924704000001,6994.774861,7320.880262000002,3216.956347,4317.694365,6576.649461,9847.788606999999,14778.78636,16610.37701,19384.10571,22375.941890000002,26824.895109999998,28816.58499,28604.5919,31656.06806,1546.907807,1886.080591,2348.009158,2741.796252,2110.856309,2852.351568,4161.415959,4448.679912,3431.5936469999997,3645.379572,3844.9171939999997,4519.461171,853.5409189999997,944.4383152,896.9663732,1056.736457,1222.359968,1267.613204,1348.225791,1361.936856,1341.9217210000004,1360.4850210000004,1287.514732,1463.249282,1088.277758,1571.134655,1621.693598,2143.540609,3701.6215030000003,4106.301249,4106.525293,4106.4923149999995,3726.063507,1690.756814,1646.758151,1593.06548,1030.592226,1487.593537,1536.3443869999999,2029.2281420000002,3030.87665,4657.22102,5622.942464,8533.088805,12104.27872,15993.52796,19233.98818,23348.13973000001,108382.3529,113523.1329,95458.11176,80894.88326,109347.867,59265.477139999995,31354.03573,28118.42998,34932.91959,40300.61996,35110.10566,47306.98978,4834.804067,6089.7869340000025,5714.560611,6006.983042,7486.384341,8659.696836,7640.519520999997,5377.091329,6890.806854,8754.96385,9313.93883,10461.05868,298.8462121,335.9971151000001,411.80062660000004,498.63902649999994,496.58159220000016,745.3695408,797.2631074,773.9932140999997,977.4862724999999,1186.147994,1275.184575,1569.331442,575.5729961000002,620.9699901,634.1951625,713.6036482999997,803.0054535,640.3224382999998,572.1995694,506.1138573,636.6229191000001,609.1739508,531.4823679,414.5073415,2387.54806,3448.284395,6757.0308159999995,18772.75169,21011.497209999998,21951.21176,17364.275380000006,11770.5898,9640.138501000001,9467.446056,9534.677467,12057.49928,1443.011715,1589.20275,1643.38711,1634.047282,1748.562982,1544.228586,1302.878658,1155.4419480000001,1040.6761900000001,986.2958956,894.6370822,1044.770126,369.1650802,416.36980639999996,427.90108560000004,495.5147806,584.6219709,663.2236766,632.8039209,635.5173633999998,563.2000145,692.2758102999999,665.4231186000002,759.3499101,1831.132894,1810.0669920000007,2036.8849440000001,2277.742396,2849.09478,3827.9215710000003,4920.355951,5249.802653,7277.912802,10132.90964,10206.97794,12451.6558,452.3369807,490.3821867,496.17434280000003,545.0098873,581.3688761,686.3952693,618.0140640999998,684.1715576,739.014375,790.2579846,951.4097517999999,1042.581557,743.1159097,846.1202613,1055.8960359999999,1421.145193,1586.851781,1497.492223,1481.150189,1421.603576,1361.369784,1483.1361359999999,1579.0195429999999,1803.1514960000002,1967.955707,2034.037981,2529.0674870000007,2475.387562,2575.4841579999998,3710.9829630000004,3688.037739,4783.586903,6058.253846000001,7425.7052950000025,9021.815894,10956.99112,3478.125529,4131.546641,4581.609385,5754.733883,6809.4066900000025,7674.929108,9611.147541,8688.156003,9472.384295,9767.29753,10742.44053,11977.57496,786.5668575,912.6626085,1056.353958,1226.04113,1421.741975,1647.511665,2000.603139,2338.008304,1785.402016,1902.2521,2140.7393230000002,3095.772271000001,2647.585601,3682.259903,4649.593785,5907.850937,7778.414017,9595.929904999999,11222.58762,11732.51017,7003.3390370000025,6465.613349,6557.194282,9253.896111,1688.20357,1642.002314,1566.353493,1711.04477,1930.194975,2370.619976,2702.620356,2755.046991,2948.047252,2982.101858,3258.495584,3820.17523,468.5260381,495.58683330000014,556.6863539,566.6691539,724.9178037,502.31973339999996,462.2114149,389.87618460000004,410.89682389999996,472.34607710000006,633.6179466,823.6856205,331.0,350.0,388.0,349.0,357.0,371.0,424.0,385.0,347.0,415.0,611.0,944.0,2423.780443,2621.448058,3173.215595,3793.694753,3746.080948,3876.4859579999998,4191.100511,3693.7313369999997,3804.537999,3899.52426,4072.3247509999997,4811.060429,545.8657228999998,597.9363557999999,652.3968593,676.4422254,674.7881296,694.1124398,718.3730947,775.6324501,897.7403604,1010.892138,1057.206311,1091.359778,8941.571858,11276.193440000001,12790.849559999999,15363.25136,18794.74567,21209.0592,21399.46046,23651.32361,26790.94961,30246.13063,33724.75778,36797.93332,10556.575659999999,12247.39532,13175.678,14463.918930000002,16046.03728,16233.7177,17632.4104,19007.19129,18363.324940000002,21050.41377,23189.80135,25185.00911,3112.363948,3457.415947,3634.364406,4643.393534000002,4688.593267,5486.371089,3470.338156000001,2955.984375,2170.151724,2253.023004,2474.548819,2749.320965,761.879376,835.5234025000003,997.7661127,1054.384891,954.2092363,808.8970727999997,909.7221354000001,668.3000228,581.182725,580.3052092,601.0745012,619.6768923999998,1077.281856,1100.5925630000004,1150.9274779999996,1014.5141039999999,1698.3888379999999,1981.9518059999998,1576.97375,1385.029563,1619.848217,1624.941275,1615.2863949999999,2013.9773050000001,10095.42172,11653.97304,13450.40151,16361.87647,18965.05551,23311.34939,26298.635309999998,31540.9748,33965.66115,41283.16433,44683.97525,49357.19017,1828.230307,2242.746551,2924.638113,4720.942687,10618.03855,11848.343920000001,12954.791009999999,18115.223130000002,18616.70691,19702.055809999998,19774.83687,22316.19287,684.5971437999998,747.0835292,803.3427418,942.4082588,1049.938981,1175.921193,1443.429832,1704.686583,1971.8294640000001,2049.3505210000008,2092.712441,2605.94758,2480.380334,2961.800905,3536.540301,4421.009084,5364.249663000001,5351.912144,7009.601598,7034.779161,6618.74305,7113.692252,7356.031934000002,9809.185636,1952.3087010000002,2046.1547059999998,2148.027146,2299.376311,2523.337977,3248.373311,4258.5036039999995,3998.875695,4196.411078,4247.400261,3783.674243,4172.838464,3758.523437,4245.256697999999,4957.037982,5788.09333,5937.827283,6281.2908549999975,6434.501797,6360.9434439999995,4446.380924,5838.347657,5909.020073,7408.905561,1272.880995,1547.9448439999999,1649.5521529999999,1814.12743,1989.3740699999998,2373.204287,2603.273765,2189.634995,2279.324017000001,2536.534925,2650.921068,3190.481016,4029.3296990000003,4734.253019,5338.752143,6557.152776,8006.506993000001,9508.141454,8451.531004,9082.351172,7738.881247,10159.58368,12002.23908,15389.924680000002,3068.319867,3774.571743,4727.954889,6361.517993,9022.247417,10172.48572,11753.84291,13039.30876,16207.266630000002,17641.03156,19970.90787,20509.64777,3081.959785,3907.1561890000003,5108.34463,6929.277714,9123.041742,9770.524921,10330.98915,12281.34191,14641.587109999999,16999.4333,18855.606180000002,19328.70901,2718.885295,2769.451844,3173.72334,4021.1757390000002,5047.658563,4319.804067,5267.219353,5303.377488,6101.2558229999995,6071.941411,6316.1652,7670.122558,3144.613186,3943.370225,4734.9975859999995,6470.866545,8011.414401999998,9356.39724,9605.314053,9696.273295,6598.409903,7346.547556999999,7885.360081,10808.47561,493.32387520000003,540.2893982999999,597.4730727000001,510.9637142,590.5806637999998,670.0806011,881.5706467,847.991217,737.0685949,589.9445051,785.6537647999999,863.0884639000003,879.5835855,860.7369026,1071.551119,1384.840593,1532.985254,1737.561657,1890.2181170000001,1516.525457,1428.777814,1339.076036,1353.09239,1598.435089,6459.5548229999995,8157.591248000002,11626.41975,16903.04886,24837.42865,34167.7626,33693.17525,21198.26136,24841.617769999997,20586.69019,19014.54118,21654.83194,1450.356983,1567.653006,1654.988723,1612.404632,1597.712056,1561.769116,1518.479984,1441.72072,1367.899369,1392.368347,1519.635262,1712.4721359999999,3581.4594479999996,4981.090891,6289.629157,7991.707066,10522.067490000001,12980.66956,15181.0927,15870.878509999999,9325.068238,7914.320304000003,7236.075251,9786.534714,879.7877358,1004.484437,1116.6398769999996,1206.043465,1353.759762,1348.285159,1465.010784,1294.4477880000004,1068.696278,574.6481576,699.4897129999997,862.5407561000003,2315.138227,2843.104409,3674.735572,4977.41854,8597.756202,11210.08948,15169.161119999999,18861.53081,24769.8912,33519.4766,36023.1054,47143.179639999995,5074.659104,6093.2629799999995,7481.1075980000005,8412.902397,9674.167626,10922.664040000001,11348.54585,12037.26758,9498.467723,12126.23065,13638.778369999998,18678.31435,4215.041741,5862.276629,7402.303395,9405.489397,12383.4862,15277.030169999998,17866.72175,18678.53492,14214.71681,17161.10735,20660.01936,25768.25759,1135.749842,1258.1474130000001,1369.488336,1284.7331800000004,1254.576127,1450.9925130000001,1176.807031,1093.244963,926.9602964,930.5964284,882.0818218000003,926.1410683,4725.295531000002,5487.104219,5768.729717,7114.4779709999975,7765.962636,8028.651439,8568.266228,7825.823398,7225.069257999998,7479.188244,7710.946444,9269.657808,3834.0347420000003,4564.80241,5693.843879,7993.512294,10638.75131,13236.92117,13926.169969999999,15764.98313,18603.06452,20445.29896,24835.47166,28821.0637,1083.53203,1072.546602,1074.4719599999999,1135.514326,1213.39553,1348.775651,1648.0797890000001,1876.766827,2153.7392219999997,2664.477257,3015.3788329999998,3970.0954070000003,1615.991129,1770.3370739999998,1959.593767,1687.997641,1659.652775,2202.9884230000002,1895.544073,1507.819159,1492.197043,1632.2107640000006,1993.398314,2602.394995,1148.376626,1244.708364,1856.182125,2613.1016649999997,3364.836625,3781.410618,3895.384018,3984.8398119999997,3553.0224,3876.7684600000002,4128.116943,4513.480643,8527.844662000001,9911.878226,12329.441920000001,15258.29697,17832.02464,18855.72521,20667.38125,23586.92927,23880.01683,25266.59499,29341.63093000001,33859.74835,14734.23275,17909.48973,20431.0927,22966.14432,27195.113039999997,26982.29052,28397.715119999997,30281.704589999998,31871.5303,32135.323010000004,34480.95771,37506.419069999996,1643.485354,2117.234893,2193.037133,1881.923632,2571.423014,3195.484582,3761.8377149999997,3116.774285,3340.542768,4014.238972,4090.9253310000004,4184.548089,1206.947913,1507.86129,1822.879028,2643.8586809999997,4062.523897,5596.519826,7426.354773999998,11054.56175,15215.6579,20206.82098,23235.42329,28718.27684,716.6500721,698.5356073,722.0038073,848.2186575,915.9850592,962.4922932,874.2426069,831.8220794,825.682454,789.1862231,899.0742111,1107.482182,757.7974177,793.5774147999997,1002.1991720000001,1295.46066,1524.3589359999999,1961.2246350000007,2393.219781,2982.653773,4616.896545000001,5852.625497,5913.187529,7458.396326999998,859.8086567,925.9083201999999,1067.5348099999999,1477.59676,1649.660188,1532.776998,1344.577953,1202.201361,1034.298904,982.2869242999999,886.2205765000001,882.9699437999999,3023.271928,4100.3934,4997.523971000001,5621.368472,6619.5514189999985,7899.554209000001,9119.528607,7388.597823,7370.990932,8792.573126000001,11460.60023,18008.50924,1468.475631,1395.232468,1660.30321,1932.3601670000005,2753.285994000001,3120.876811,3560.2331740000004,3810.419296,4332.720164,4876.798614,5722.8956549999975,7092.923025,1969.1009800000002,2218.754257,2322.8699079999997,2826.356387000001,3450.69638,4269.122326,4241.356344,5089.043686,5678.348271,6601.429915,6508.085718,8458.276384,734.753484,774.3710692000003,767.2717397999999,908.9185217,950.735869,843.7331372000001,682.2662267999998,617.7244065,644.1707968999998,816.559081,927.7210018,1056.3801210000001,9979.508487000001,11283.17795,12477.17707,14142.85089,15895.116409999999,17428.74846,18232.42452,21664.787669999998,22705.09254,26074.53136,29478.99919,33203.26128,13990.482080000002,14847.12712,16173.145859999999,19530.365569999998,21806.03594,24072.63213,25009.55914,29884.35041000001,32003.93224,35767.43303,39097.09955,42951.65309,5716.766744,6150.772969,5603.357717,5444.61962,5703.408898,6504.3396630000025,6920.223051000001,7452.398969,8137.004775,9230.240708,7727.002004000001,10611.46299,7689.799761,9802.466526,8422.974165000001,9541.474188,10505.25966,13143.95095,11152.410109999999,9883.584648,10733.926309999999,10165.49518,8605.047831,11415.805690000001,605.0664917,676.2854477999998,772.0491602000003,637.1232887,699.5016441,713.5371196000001,707.2357863,820.7994449,989.0231487,1385.896769,1764.456677,2441.576404,1515.5923289999994,1827.0677420000002,2198.9563120000007,2649.7150070000002,3133.4092769999997,3682.8314939999996,4336.032082,5107.197384,6017.654756,7110.667619,4515.487575,3025.349798,781.7175761,804.8304547,825.6232006,862.4421463,1265.047031,1829.765177,1977.5570100000002,1971.741538,1879.496673,2117.484526,2234.820827,2280.769906,1147.388831,1311.956766,1452.725766,1777.0773179999999,1773.498265,1588.688299,1408.678565,1213.315116,1210.884633,1071.353818,1071.6139380000004,1271.211593,406.8841148,518.7642681,527.2721818,569.7950712,799.3621757999997,685.5876821,788.8550411,706.1573059,693.4207856,792.4499602999997,672.0386227000001,469.70929810000007],\"xaxis\":\"x\",\"y\":[28.801,30.331999999999997,31.997,34.02,36.088,38.438,39.854,40.821999999999996,41.674,41.76300000000001,42.129,43.828,55.23,59.28,64.82,66.22,67.69,68.93,70.42,72.0,71.581,72.95,75.65100000000002,76.423,43.077,45.685,48.303000000000004,51.407,54.518,58.013999999999996,61.368,65.79899999999999,67.744,69.152,70.994,72.301,30.015,31.999000000000002,34.0,35.985,37.928000000000004,39.483000000000004,39.942,39.906,40.647,40.963,41.003,42.731,62.485,64.399,65.142,65.634,67.065,68.48100000000001,69.942,70.774,71.868,73.275,74.34,75.32,69.12,70.33,70.93,71.1,71.93,73.49,74.74,76.32,77.56,78.83,80.37,81.235,66.8,67.48,69.54,70.14,70.63,72.17,73.18,74.94,76.04,77.51,78.98,79.829,50.93899999999999,53.832,56.923,59.923,63.3,65.593,69.05199999999999,70.75,72.601,73.925,74.795,75.635,37.484,39.348,41.216,43.453,45.251999999999995,46.923,50.00899999999999,52.818999999999996,56.018,59.412,62.01300000000001,64.062,68.0,69.24,70.25,70.94,71.44,72.8,73.93,75.35,76.46,77.53,78.32,79.441,38.223,40.358000000000004,42.618,44.885,47.013999999999996,49.19,50.903999999999996,52.336999999999996,53.919,54.777,54.40600000000001,56.728,40.414,41.89,43.428000000000004,45.032,46.714,50.023,53.858999999999995,57.25100000000001,59.957,62.05,63.883,65.554,53.82,58.45,61.93,64.79,67.45,69.86,70.69,71.14,72.178,73.244,74.09,74.852,47.622,49.618,51.52,53.298,56.023999999999994,59.318999999999996,61.483999999999995,63.622,62.745,52.556000000000004,46.63399999999999,50.728,50.917,53.285,55.665,57.632,59.504,61.489,63.33600000000001,65.205,67.057,69.388,71.006,72.39,59.6,66.61,69.51,70.42,70.9,70.81,71.08,71.34,71.19,70.32,72.14,73.005,31.975,34.906,37.814,40.696999999999996,43.591,46.137,48.122,49.556999999999995,50.26,50.324,50.65,52.295,39.031,40.533,42.045,43.548,44.056999999999995,45.91,47.471000000000004,48.21100000000001,44.736000000000004,45.326,47.36,49.58,39.417,41.36600000000001,43.415,45.415,40.317,31.22,50.957,53.913999999999994,55.803000000000004,56.534,56.751999999999995,59.723,38.523,40.428000000000004,42.643,44.799,47.049,49.355,52.96100000000001,54.985,54.31399999999999,52.199,49.856,50.43,68.75,69.96,71.3,72.13,72.88,74.21,75.76,76.86,77.95,78.61,79.77,80.653,35.463,37.464,39.475,41.478,43.457,46.775,48.295,50.485,49.396,46.066,43.308,44.74100000000001,38.092,39.881,41.716,43.601000000000006,45.568999999999996,47.383,49.516999999999996,51.051,51.724,51.573,50.525,50.651,54.745,56.074,57.924,60.523,63.441,67.05199999999999,70.565,72.492,74.126,75.816,77.86,78.553,44.0,50.54896,44.50136,58.381119999999996,63.118880000000004,63.96736,65.525,67.274,68.69,70.426,72.028,72.961,50.643,55.118,57.863,59.963,61.62300000000001,63.836999999999996,66.653,67.768,68.421,70.313,71.682,72.889,40.715,42.46,44.467,46.472,48.943999999999996,50.93899999999999,52.933,54.926,57.93899999999999,60.66,62.974,65.152,39.143,40.652,42.122,44.056000000000004,45.989,47.803999999999995,47.784,47.412,45.548,42.586999999999996,44.966,46.461999999999996,42.111000000000004,45.053000000000004,48.435,52.04,54.907,55.625,56.695,57.47,56.433,52.961999999999996,52.97,55.321999999999996,57.206,60.026,62.842,65.42399999999999,67.84899999999999,70.75,73.45,74.752,75.71300000000002,77.26,78.123,78.782,40.477,42.468999999999994,44.93,47.35,49.801,52.373999999999995,53.983000000000004,54.655,52.044,47.99100000000001,46.832,48.328,61.21,64.77,67.13,68.5,69.61,70.64,70.46,71.52,72.527,73.68,74.876,75.748,59.42100000000001,62.325,65.24600000000001,68.29,70.723,72.649,73.717,74.17399999999998,74.414,76.15100000000002,77.158,78.273,66.87,69.03,69.9,70.38,70.29,70.71,70.96,71.58,72.4,74.01,75.51,76.486,70.78,71.81,72.35,72.96,73.47,74.69,74.63,74.8,75.33,76.11,77.18,78.332,34.812,37.328,39.69300000000001,42.074,44.36600000000001,46.519,48.812,50.04,51.604,53.157,53.37300000000001,54.791000000000004,45.928000000000004,49.828,53.458999999999996,56.75100000000001,59.631,61.788000000000004,63.727,66.046,68.457,69.957,70.847,72.235,48.357,51.356,54.64,56.678000000000004,58.79600000000001,61.31,64.342,67.23100000000001,69.613,72.312,74.173,74.994,41.893,44.443999999999996,46.992,49.293,51.137,53.318999999999996,56.006,59.797,63.674,67.217,69.806,71.33800000000002,45.262,48.57,52.306999999999995,55.855,58.207,56.69600000000001,56.604,63.153999999999996,66.798,69.535,70.734,71.878,34.482,35.98300000000001,37.485,38.986999999999995,40.516,42.023999999999994,43.662,45.663999999999994,47.545,48.245,49.348,51.57899999999999,35.92800000000001,38.047,40.158,42.18899999999999,44.141999999999996,44.535,43.89,46.453,49.99100000000001,53.378,55.24,58.04,34.078,36.667,40.059,42.115,43.515,44.51,44.916000000000004,46.684,48.091,49.402,50.725,52.946999999999996,66.55,67.49,68.75,69.83,70.87,72.52,74.55,74.83,75.7,77.13,78.37,79.313,67.41,68.93,70.51,71.55,72.38,73.83,74.89,76.34,77.46,78.64,79.59,80.657,37.003,38.999,40.489000000000004,44.598,48.69,52.79,56.56399999999999,60.19,61.36600000000001,60.46100000000001,56.761,56.735,30.0,32.065,33.896,35.857,38.308,41.842,45.58,49.265,52.644,55.861000000000004,58.041000000000004,59.448,67.5,69.1,70.3,70.8,71.0,72.5,73.8,74.847,76.07,77.34,78.67,79.406,43.148999999999994,44.778999999999996,46.452,48.071999999999996,49.875,51.756,53.744,55.729,57.50100000000001,58.556000000000004,58.453,60.022,65.86,67.86,69.51,71.0,72.34,73.68,75.24,76.67,77.03,77.869,78.256,79.483,42.023,44.141999999999996,46.95399999999999,50.01600000000001,53.738,56.028999999999996,58.137,60.782,63.37300000000001,66.322,68.97800000000001,70.259,33.609,34.558,35.753,37.196999999999996,38.842,40.762,42.89100000000001,45.552,48.576,51.455,53.676,56.007,32.5,33.489000000000004,34.488,35.492,36.486,37.465,39.327,41.245,43.26600000000001,44.87300000000001,45.504,46.38800000000001,37.579,40.696,43.59,46.243,48.042,49.923,51.46100000000001,53.636,55.089,56.67100000000001,58.137,60.916000000000004,41.912,44.665,48.041000000000004,50.924,53.88399999999999,57.402,60.909,64.492,66.399,67.65899999999999,68.565,70.19800000000001,60.96,64.75,67.65,70.0,72.0,73.6,75.45,76.2,77.601,80.0,81.495,82.208,64.03,66.41,67.96,69.5,69.76,69.95,69.39,69.58,69.17,71.04,72.59,73.33800000000002,72.49,73.47,73.68,73.73,74.46,76.11,76.99,77.23,78.77,78.95,80.5,81.757,37.37300000000001,40.249,43.605,47.19300000000001,50.651,54.208,56.596000000000004,58.553000000000004,60.223,61.765,62.879,64.69800000000001,37.468,39.918,42.518,45.964,49.203,52.702,56.159,60.137,62.681000000000004,66.041,68.58800000000001,70.65,44.869,47.181000000000004,49.325,52.468999999999994,55.233999999999995,57.702,59.62,63.04,65.742,68.042,69.45100000000001,70.964,45.32,48.437,51.457,54.458999999999996,56.95,60.413000000000004,62.038000000000004,65.044,59.46100000000001,58.81100000000001,57.04600000000001,59.545,66.91,68.9,70.29,71.08,71.28,72.03,73.1,74.36,75.467,76.122,77.783,78.885,65.39,67.84,69.39,70.75,71.63,73.06,74.45,75.6,76.93,78.26899999999998,79.696,80.745,65.94,67.81,69.24,71.06,72.19,73.48,74.98,76.42,77.44,78.82,80.24,80.546,58.53,62.61,65.61,67.51,69.0,70.11,71.21,71.77,71.766,72.262,72.047,72.567,63.03,65.5,68.73,71.43,73.42,75.38,77.11,78.67,79.36,80.69,82.0,82.603,43.158,45.669,48.12600000000001,51.629,56.528,61.13399999999999,63.739,65.869,68.015,69.77199999999999,71.263,72.535,42.27,44.68600000000001,47.949,50.653999999999996,53.559,56.155,58.76600000000001,59.339,59.285,54.407,50.992,54.11,50.056000000000004,54.081,56.65600000000001,59.942,63.983000000000004,67.15899999999999,69.1,70.64699999999998,69.97800000000001,67.727,66.66199999999999,67.297,47.453,52.681000000000004,55.292,57.716,62.611999999999995,64.766,67.123,69.81,72.244,74.64699999999998,77.045,78.623,55.565,58.033,60.47,64.624,67.712,69.343,71.309,74.17399999999998,75.19,76.156,76.904,77.58800000000002,55.928000000000004,59.489,62.093999999999994,63.87,65.421,66.09899999999999,66.983,67.926,69.292,70.265,71.028,71.993,42.13800000000001,45.047,47.747,48.492,49.766999999999996,52.208,55.078,57.18,59.685,55.558,44.593,42.592,38.48,39.486,40.501999999999995,41.536,42.614,43.763999999999996,44.852,46.027,40.802,42.221000000000004,43.753,45.678000000000004,42.723,45.288999999999994,47.808,50.227,52.773,57.442,62.155,66.234,68.755,71.555,72.737,73.952,36.681,38.865,40.848,42.881,44.851000000000006,46.881,48.968999999999994,49.35,52.214,54.978,57.286,59.44300000000001,36.256,37.207,38.41,39.486999999999995,41.76600000000001,43.766999999999996,45.641999999999996,47.457,49.42,47.495,45.00899999999999,48.303000000000004,48.463,52.102,55.736999999999995,59.371,63.01,65.256,68.0,69.5,70.693,71.938,73.044,74.241,33.685,35.30699999999999,36.936,38.486999999999995,39.977,41.714,43.916000000000004,46.364,48.38800000000001,49.903,51.81800000000001,54.467,40.543,42.338,44.24800000000001,46.288999999999994,48.437,50.852,53.599,56.145,58.333,60.43,62.247,64.164,50.986000000000004,58.089,60.246,61.556999999999995,62.943999999999996,64.93,66.711,68.74,69.745,70.736,71.954,72.801,50.788999999999994,55.19,58.299,60.11,62.361000000000004,65.032,67.405,69.498,71.455,73.67,74.902,76.195,42.244,45.24800000000001,48.25100000000001,51.253,53.754,55.49100000000001,57.489,60.222,61.271,63.625,65.033,66.803,59.163999999999994,61.448,63.728,67.178,70.63600000000002,73.066,74.101,74.865,75.435,75.445,73.98100000000002,74.543,42.87300000000001,45.423,47.924,50.335,52.861999999999995,55.73,59.65,62.677,65.393,67.66,69.615,71.164,31.285999999999998,33.779,36.161,38.113,40.328,42.495,42.795,42.861000000000004,44.284,46.343999999999994,44.026,42.082,36.319,41.905,45.108000000000004,49.379,53.07,56.059,58.056000000000004,58.339,59.32,60.328,59.908,62.068999999999996,41.725,45.226000000000006,48.386,51.159,53.867,56.437,58.968,60.835,61.998999999999995,58.909,51.479,52.90600000000001,36.157,37.686,39.393,41.472,43.971000000000004,46.74800000000001,49.593999999999994,52.537,55.727,59.426,61.34,63.785,72.13,72.99,73.23,73.82,73.75,75.24,76.05,76.83,77.42,78.03,78.53,79.762,69.39,70.26,71.24,71.52,71.89,72.22,73.84,74.32,76.33,77.55,79.11,80.204,42.31399999999999,45.431999999999995,48.632,51.88399999999999,55.151,57.47,59.298,62.008,65.843,68.426,70.836,72.899,37.444,38.598,39.486999999999995,40.118,40.546,41.291000000000004,42.598,44.555,47.39100000000001,51.313,54.496,56.867,36.324,37.802,39.36,41.04,42.82100000000001,44.513999999999996,45.826,46.886,47.472,47.464,46.608000000000004,46.858999999999995,72.67,73.44,73.47,74.08,74.34,75.37,75.97,75.89,77.32,78.32,79.05,80.196,37.578,40.08,43.165,46.988,52.143,57.367,62.728,67.734,71.197,72.499,74.193,75.64,43.43600000000001,45.556999999999995,47.67,49.8,51.928999999999995,54.043,56.158,58.245,60.838,61.81800000000001,63.61,65.483,55.191,59.201,61.817,64.071,66.21600000000001,68.681,70.472,71.523,72.462,73.738,74.712,75.53699999999998,62.648999999999994,63.19600000000001,64.361,64.95100000000001,65.815,66.35300000000001,66.874,67.378,68.225,69.4,70.755,71.752,43.902,46.26300000000001,49.096000000000004,51.445,55.448,58.446999999999996,61.40600000000001,64.134,66.458,68.38600000000001,69.906,71.421,47.751999999999995,51.333999999999996,54.757,56.393,58.065,60.06,62.082,64.15100000000001,66.458,68.564,70.303,71.688,61.31,65.77,67.64,69.61,70.85,70.67,71.32,70.98,70.99,72.75,74.67,75.563,59.82,61.51,64.39,66.6,69.26,70.41,72.77,74.06,74.86,75.97,77.29,78.098,64.28,68.54,69.62,71.1,72.16,73.44,73.75,74.63,73.911,74.917,77.778,78.74600000000002,52.724,55.09,57.666000000000004,60.542,64.274,67.064,69.885,71.913,73.615,74.77199999999998,75.744,76.442,61.05,64.1,66.8,66.8,69.21,69.46,69.66,69.53,69.36,69.72,71.322,72.476,40.0,41.5,43.0,44.1,44.6,45.0,46.218,44.02,23.599,36.086999999999996,43.413000000000004,46.242,46.471000000000004,48.945,51.893,54.425,56.48,58.55,60.351000000000006,61.728,62.742,63.306000000000004,64.337,65.528,39.875,42.868,45.913999999999994,49.901,53.886,58.69,63.012,66.295,68.768,70.533,71.626,72.777,37.278,39.329,41.45399999999999,43.563,45.815,48.879,52.379,55.769,58.19600000000001,60.187,61.6,63.062,57.996,61.685,64.531,66.914,68.7,70.3,70.16199999999999,71.218,71.65899999999998,72.232,73.21300000000002,74.002,30.331,31.57,32.766999999999996,34.113,35.4,36.788000000000004,38.445,40.006,38.333,39.897,41.012,42.56800000000001,60.396,63.178999999999995,65.798,67.946,69.521,70.795,71.76,73.56,75.788,77.158,78.77,79.972,64.36,67.45,70.33,70.98,70.35,70.45,70.8,71.08,71.38,72.71,73.8,74.663,65.57,67.85,69.15,69.18,69.82,70.97,71.063,72.25,73.64,75.13,76.66,77.926,32.978,34.977,36.981,38.977,40.973,41.974,42.955,44.50100000000001,39.658,43.795,45.93600000000001,48.159,45.00899999999999,47.985,49.951,51.927,53.69600000000001,55.527,58.161,60.833999999999996,61.88800000000001,60.236000000000004,53.365,49.339,64.94,66.66,69.69,71.44,73.06,74.39,76.3,76.9,77.57,78.77,79.78,80.941,57.593,61.456,62.192,64.266,65.042,65.949,68.757,69.01100000000001,70.37899999999998,70.457,70.815,72.396,38.635,39.624,40.87,42.858000000000004,45.083,47.8,50.338,51.744,53.556000000000004,55.37300000000001,56.369,58.556000000000004,41.407,43.424,44.992,46.633,49.552,52.537,55.56100000000001,57.678000000000004,58.474,54.288999999999994,43.869,39.613,71.86,72.49,73.37,74.16,74.72,75.44,76.42,77.19,78.16,79.39,80.04,80.884,69.62,70.56,71.32,72.77,73.78,75.39,76.21,77.41,78.03,79.37,80.62,81.70100000000002,45.883,48.284,50.305,53.655,57.29600000000001,61.195,64.59,66.97399999999999,69.249,71.527,73.053,74.143,58.5,62.4,65.2,67.5,69.39,70.59,72.16,73.4,74.26,75.25,76.99,78.4,41.215,42.974,44.246,45.757,47.62,49.919,50.608000000000004,51.535,50.44,48.466,49.651,52.516999999999996,50.848,53.63,56.06100000000001,58.285,60.405,62.494,64.597,66.084,67.298,67.521,68.564,70.616,38.596,41.208,43.922,46.769,49.75899999999999,52.887,55.471000000000004,56.941,58.06100000000001,58.39,57.56100000000001,58.42,59.1,61.8,64.9,65.4,65.9,68.3,68.832,69.582,69.862,69.465,68.976,69.819,44.6,47.1,49.57899999999999,52.053000000000004,55.602,59.836999999999996,64.048,66.89399999999999,70.001,71.973,73.042,73.923,43.585,48.07899999999999,52.098,54.33600000000001,57.005,59.507,61.036,63.108000000000004,66.146,68.835,70.845,71.777,39.978,42.57100000000001,45.343999999999994,48.051,51.01600000000001,50.35,49.849,51.50899999999999,48.825,44.578,47.813,51.542,69.18,70.42,70.76,71.36,72.01,72.76,74.04,75.007,76.42,77.218,78.471,79.425,68.44,69.49,70.21,70.76,71.34,73.38,74.65,75.02,76.09,76.81,77.31,78.242,66.071,67.044,68.253,68.468,68.673,69.48100000000001,70.805,71.918,72.752,74.223,75.307,76.384,55.088,57.907,60.77,63.479,65.712,67.456,68.557,70.19,71.15,72.146,72.766,73.747,40.412,42.887,45.363,47.838,50.254,55.763999999999996,58.816,62.82,67.66199999999999,70.672,73.017,74.249,43.16,45.67100000000001,48.126999999999995,51.631,56.532,60.765,64.406,67.046,69.718,71.096,72.37,73.422,32.548,33.97,35.18,36.984,39.848,44.175,49.113,52.922,55.599,58.02,60.308,62.698,42.038000000000004,44.077,46.023,47.768,50.107,51.386,51.82100000000001,50.82100000000001,46.1,40.238,39.19300000000001,42.38399999999999,48.451,50.468999999999994,52.358000000000004,53.995,55.635,57.674,60.363,62.351000000000006,60.376999999999995,46.809,39.989000000000004,43.486999999999995],\"yaxis\":\"y\"}],                        {\"coloraxis\":{\"colorbar\":{\"title\":{\"text\":\"year\"}},\"colorscale\":[[0.0,\"#0d0887\"],[0.1111111111111111,\"#46039f\"],[0.2222222222222222,\"#7201a8\"],[0.3333333333333333,\"#9c179e\"],[0.4444444444444444,\"#bd3786\"],[0.5555555555555556,\"#d8576b\"],[0.6666666666666666,\"#ed7953\"],[0.7777777777777778,\"#fb9f3a\"],[0.8888888888888888,\"#fdca26\"],[1.0,\"#f0f921\"]]},\"legend\":{\"tracegroupgap\":0},\"margin\":{\"t\":60},\"template\":{\"data\":{\"bar\":[{\"error_x\":{\"color\":\"#2a3f5f\"},\"error_y\":{\"color\":\"#2a3f5f\"},\"marker\":{\"line\":{\"color\":\"#E5ECF6\",\"width\":0.5},\"pattern\":{\"fillmode\":\"overlay\",\"size\":10,\"solidity\":0.2}},\"type\":\"bar\"}],\"barpolar\":[{\"marker\":{\"line\":{\"color\":\"#E5ECF6\",\"width\":0.5},\"pattern\":{\"fillmode\":\"overlay\",\"size\":10,\"solidity\":0.2}},\"type\":\"barpolar\"}],\"carpet\":[{\"aaxis\":{\"endlinecolor\":\"#2a3f5f\",\"gridcolor\":\"white\",\"linecolor\":\"white\",\"minorgridcolor\":\"white\",\"startlinecolor\":\"#2a3f5f\"},\"baxis\":{\"endlinecolor\":\"#2a3f5f\",\"gridcolor\":\"white\",\"linecolor\":\"white\",\"minorgridcolor\":\"white\",\"startlinecolor\":\"#2a3f5f\"},\"type\":\"carpet\"}],\"choropleth\":[{\"colorbar\":{\"outlinewidth\":0,\"ticks\":\"\"},\"type\":\"choropleth\"}],\"contour\":[{\"colorbar\":{\"outlinewidth\":0,\"ticks\":\"\"},\"colorscale\":[[0.0,\"#0d0887\"],[0.1111111111111111,\"#46039f\"],[0.2222222222222222,\"#7201a8\"],[0.3333333333333333,\"#9c179e\"],[0.4444444444444444,\"#bd3786\"],[0.5555555555555556,\"#d8576b\"],[0.6666666666666666,\"#ed7953\"],[0.7777777777777778,\"#fb9f3a\"],[0.8888888888888888,\"#fdca26\"],[1.0,\"#f0f921\"]],\"type\":\"contour\"}],\"contourcarpet\":[{\"colorbar\":{\"outlinewidth\":0,\"ticks\":\"\"},\"type\":\"contourcarpet\"}],\"heatmap\":[{\"colorbar\":{\"outlinewidth\":0,\"ticks\":\"\"},\"colorscale\":[[0.0,\"#0d0887\"],[0.1111111111111111,\"#46039f\"],[0.2222222222222222,\"#7201a8\"],[0.3333333333333333,\"#9c179e\"],[0.4444444444444444,\"#bd3786\"],[0.5555555555555556,\"#d8576b\"],[0.6666666666666666,\"#ed7953\"],[0.7777777777777778,\"#fb9f3a\"],[0.8888888888888888,\"#fdca26\"],[1.0,\"#f0f921\"]],\"type\":\"heatmap\"}],\"heatmapgl\":[{\"colorbar\":{\"outlinewidth\":0,\"ticks\":\"\"},\"colorscale\":[[0.0,\"#0d0887\"],[0.1111111111111111,\"#46039f\"],[0.2222222222222222,\"#7201a8\"],[0.3333333333333333,\"#9c179e\"],[0.4444444444444444,\"#bd3786\"],[0.5555555555555556,\"#d8576b\"],[0.6666666666666666,\"#ed7953\"],[0.7777777777777778,\"#fb9f3a\"],[0.8888888888888888,\"#fdca26\"],[1.0,\"#f0f921\"]],\"type\":\"heatmapgl\"}],\"histogram\":[{\"marker\":{\"pattern\":{\"fillmode\":\"overlay\",\"size\":10,\"solidity\":0.2}},\"type\":\"histogram\"}],\"histogram2d\":[{\"colorbar\":{\"outlinewidth\":0,\"ticks\":\"\"},\"colorscale\":[[0.0,\"#0d0887\"],[0.1111111111111111,\"#46039f\"],[0.2222222222222222,\"#7201a8\"],[0.3333333333333333,\"#9c179e\"],[0.4444444444444444,\"#bd3786\"],[0.5555555555555556,\"#d8576b\"],[0.6666666666666666,\"#ed7953\"],[0.7777777777777778,\"#fb9f3a\"],[0.8888888888888888,\"#fdca26\"],[1.0,\"#f0f921\"]],\"type\":\"histogram2d\"}],\"histogram2dcontour\":[{\"colorbar\":{\"outlinewidth\":0,\"ticks\":\"\"},\"colorscale\":[[0.0,\"#0d0887\"],[0.1111111111111111,\"#46039f\"],[0.2222222222222222,\"#7201a8\"],[0.3333333333333333,\"#9c179e\"],[0.4444444444444444,\"#bd3786\"],[0.5555555555555556,\"#d8576b\"],[0.6666666666666666,\"#ed7953\"],[0.7777777777777778,\"#fb9f3a\"],[0.8888888888888888,\"#fdca26\"],[1.0,\"#f0f921\"]],\"type\":\"histogram2dcontour\"}],\"mesh3d\":[{\"colorbar\":{\"outlinewidth\":0,\"ticks\":\"\"},\"type\":\"mesh3d\"}],\"parcoords\":[{\"line\":{\"colorbar\":{\"outlinewidth\":0,\"ticks\":\"\"}},\"type\":\"parcoords\"}],\"pie\":[{\"automargin\":true,\"type\":\"pie\"}],\"scatter\":[{\"marker\":{\"colorbar\":{\"outlinewidth\":0,\"ticks\":\"\"}},\"type\":\"scatter\"}],\"scatter3d\":[{\"line\":{\"colorbar\":{\"outlinewidth\":0,\"ticks\":\"\"}},\"marker\":{\"colorbar\":{\"outlinewidth\":0,\"ticks\":\"\"}},\"type\":\"scatter3d\"}],\"scattercarpet\":[{\"marker\":{\"colorbar\":{\"outlinewidth\":0,\"ticks\":\"\"}},\"type\":\"scattercarpet\"}],\"scattergeo\":[{\"marker\":{\"colorbar\":{\"outlinewidth\":0,\"ticks\":\"\"}},\"type\":\"scattergeo\"}],\"scattergl\":[{\"marker\":{\"colorbar\":{\"outlinewidth\":0,\"ticks\":\"\"}},\"type\":\"scattergl\"}],\"scattermapbox\":[{\"marker\":{\"colorbar\":{\"outlinewidth\":0,\"ticks\":\"\"}},\"type\":\"scattermapbox\"}],\"scatterpolar\":[{\"marker\":{\"colorbar\":{\"outlinewidth\":0,\"ticks\":\"\"}},\"type\":\"scatterpolar\"}],\"scatterpolargl\":[{\"marker\":{\"colorbar\":{\"outlinewidth\":0,\"ticks\":\"\"}},\"type\":\"scatterpolargl\"}],\"scatterternary\":[{\"marker\":{\"colorbar\":{\"outlinewidth\":0,\"ticks\":\"\"}},\"type\":\"scatterternary\"}],\"surface\":[{\"colorbar\":{\"outlinewidth\":0,\"ticks\":\"\"},\"colorscale\":[[0.0,\"#0d0887\"],[0.1111111111111111,\"#46039f\"],[0.2222222222222222,\"#7201a8\"],[0.3333333333333333,\"#9c179e\"],[0.4444444444444444,\"#bd3786\"],[0.5555555555555556,\"#d8576b\"],[0.6666666666666666,\"#ed7953\"],[0.7777777777777778,\"#fb9f3a\"],[0.8888888888888888,\"#fdca26\"],[1.0,\"#f0f921\"]],\"type\":\"surface\"}],\"table\":[{\"cells\":{\"fill\":{\"color\":\"#EBF0F8\"},\"line\":{\"color\":\"white\"}},\"header\":{\"fill\":{\"color\":\"#C8D4E3\"},\"line\":{\"color\":\"white\"}},\"type\":\"table\"}]},\"layout\":{\"annotationdefaults\":{\"arrowcolor\":\"#2a3f5f\",\"arrowhead\":0,\"arrowwidth\":1},\"autotypenumbers\":\"strict\",\"coloraxis\":{\"colorbar\":{\"outlinewidth\":0,\"ticks\":\"\"}},\"colorscale\":{\"diverging\":[[0,\"#8e0152\"],[0.1,\"#c51b7d\"],[0.2,\"#de77ae\"],[0.3,\"#f1b6da\"],[0.4,\"#fde0ef\"],[0.5,\"#f7f7f7\"],[0.6,\"#e6f5d0\"],[0.7,\"#b8e186\"],[0.8,\"#7fbc41\"],[0.9,\"#4d9221\"],[1,\"#276419\"]],\"sequential\":[[0.0,\"#0d0887\"],[0.1111111111111111,\"#46039f\"],[0.2222222222222222,\"#7201a8\"],[0.3333333333333333,\"#9c179e\"],[0.4444444444444444,\"#bd3786\"],[0.5555555555555556,\"#d8576b\"],[0.6666666666666666,\"#ed7953\"],[0.7777777777777778,\"#fb9f3a\"],[0.8888888888888888,\"#fdca26\"],[1.0,\"#f0f921\"]],\"sequentialminus\":[[0.0,\"#0d0887\"],[0.1111111111111111,\"#46039f\"],[0.2222222222222222,\"#7201a8\"],[0.3333333333333333,\"#9c179e\"],[0.4444444444444444,\"#bd3786\"],[0.5555555555555556,\"#d8576b\"],[0.6666666666666666,\"#ed7953\"],[0.7777777777777778,\"#fb9f3a\"],[0.8888888888888888,\"#fdca26\"],[1.0,\"#f0f921\"]]},\"colorway\":[\"#636efa\",\"#EF553B\",\"#00cc96\",\"#ab63fa\",\"#FFA15A\",\"#19d3f3\",\"#FF6692\",\"#B6E880\",\"#FF97FF\",\"#FECB52\"],\"font\":{\"color\":\"#2a3f5f\"},\"geo\":{\"bgcolor\":\"white\",\"lakecolor\":\"white\",\"landcolor\":\"#E5ECF6\",\"showlakes\":true,\"showland\":true,\"subunitcolor\":\"white\"},\"hoverlabel\":{\"align\":\"left\"},\"hovermode\":\"closest\",\"mapbox\":{\"style\":\"light\"},\"paper_bgcolor\":\"white\",\"plot_bgcolor\":\"#E5ECF6\",\"polar\":{\"angularaxis\":{\"gridcolor\":\"white\",\"linecolor\":\"white\",\"ticks\":\"\"},\"bgcolor\":\"#E5ECF6\",\"radialaxis\":{\"gridcolor\":\"white\",\"linecolor\":\"white\",\"ticks\":\"\"}},\"scene\":{\"xaxis\":{\"backgroundcolor\":\"#E5ECF6\",\"gridcolor\":\"white\",\"gridwidth\":2,\"linecolor\":\"white\",\"showbackground\":true,\"ticks\":\"\",\"zerolinecolor\":\"white\"},\"yaxis\":{\"backgroundcolor\":\"#E5ECF6\",\"gridcolor\":\"white\",\"gridwidth\":2,\"linecolor\":\"white\",\"showbackground\":true,\"ticks\":\"\",\"zerolinecolor\":\"white\"},\"zaxis\":{\"backgroundcolor\":\"#E5ECF6\",\"gridcolor\":\"white\",\"gridwidth\":2,\"linecolor\":\"white\",\"showbackground\":true,\"ticks\":\"\",\"zerolinecolor\":\"white\"}},\"shapedefaults\":{\"line\":{\"color\":\"#2a3f5f\"}},\"ternary\":{\"aaxis\":{\"gridcolor\":\"white\",\"linecolor\":\"white\",\"ticks\":\"\"},\"baxis\":{\"gridcolor\":\"white\",\"linecolor\":\"white\",\"ticks\":\"\"},\"bgcolor\":\"#E5ECF6\",\"caxis\":{\"gridcolor\":\"white\",\"linecolor\":\"white\",\"ticks\":\"\"}},\"title\":{\"x\":0.05},\"xaxis\":{\"automargin\":true,\"gridcolor\":\"white\",\"linecolor\":\"white\",\"ticks\":\"\",\"title\":{\"standoff\":15},\"zerolinecolor\":\"white\",\"zerolinewidth\":2},\"yaxis\":{\"automargin\":true,\"gridcolor\":\"white\",\"linecolor\":\"white\",\"ticks\":\"\",\"title\":{\"standoff\":15},\"zerolinecolor\":\"white\",\"zerolinewidth\":2}}},\"xaxis\":{\"anchor\":\"y\",\"domain\":[0.0,1.0],\"title\":{\"text\":\"gdpPercap\"}},\"yaxis\":{\"anchor\":\"x\",\"domain\":[0.0,1.0],\"title\":{\"text\":\"lifeExp\"}}},                        {\"responsive\": true}                    ).then(function(){\n",
       "                            \n",
       "var gd = document.getElementById('99b39161-5376-47a5-8f2f-129d567c1799');\n",
       "var x = new MutationObserver(function (mutations, observer) {{\n",
       "        var display = window.getComputedStyle(gd).display;\n",
       "        if (!display || display === 'none') {{\n",
       "            console.log([gd, 'removed!']);\n",
       "            Plotly.purge(gd);\n",
       "            observer.disconnect();\n",
       "        }}\n",
       "}});\n",
       "\n",
       "// Listen for the removal of the full notebook cells\n",
       "var notebookContainer = gd.closest('#notebook-container');\n",
       "if (notebookContainer) {{\n",
       "    x.observe(notebookContainer, {childList: true});\n",
       "}}\n",
       "\n",
       "// Listen for the clearing of the current output cell\n",
       "var outputEl = gd.closest('.output');\n",
       "if (outputEl) {{\n",
       "    x.observe(outputEl, {childList: true});\n",
       "}}\n",
       "\n",
       "                        })                };                });            </script>        </div>"
      ]
     },
     "metadata": {},
     "output_type": "display_data"
    }
   ],
   "source": [
    "fig = px.scatter(gapminder, x=\"gdpPercap\", y=\"lifeExp\",\n",
    "                hover_data=[\"country\", \"year\"],\n",
    "                color=\"year\", size=\"pop\")\n",
    "fig.show()"
   ]
  },
  {
   "cell_type": "code",
   "execution_count": 30,
   "metadata": {},
   "outputs": [],
   "source": [
    "gapminder_2002 = gapminder.query(\"year == 2002\")"
   ]
  },
  {
   "cell_type": "code",
   "execution_count": 31,
   "metadata": {},
   "outputs": [
    {
     "data": {
      "text/html": [
       "<div>\n",
       "<style scoped>\n",
       "    .dataframe tbody tr th:only-of-type {\n",
       "        vertical-align: middle;\n",
       "    }\n",
       "\n",
       "    .dataframe tbody tr th {\n",
       "        vertical-align: top;\n",
       "    }\n",
       "\n",
       "    .dataframe thead th {\n",
       "        text-align: right;\n",
       "    }\n",
       "</style>\n",
       "<table border=\"1\" class=\"dataframe\">\n",
       "  <thead>\n",
       "    <tr style=\"text-align: right;\">\n",
       "      <th></th>\n",
       "      <th>country</th>\n",
       "      <th>continent</th>\n",
       "      <th>year</th>\n",
       "      <th>lifeExp</th>\n",
       "      <th>pop</th>\n",
       "      <th>gdpPercap</th>\n",
       "      <th>iso_alpha</th>\n",
       "      <th>iso_num</th>\n",
       "    </tr>\n",
       "  </thead>\n",
       "  <tbody>\n",
       "    <tr>\n",
       "      <th>10</th>\n",
       "      <td>Afghanistan</td>\n",
       "      <td>Asia</td>\n",
       "      <td>2002</td>\n",
       "      <td>42.129</td>\n",
       "      <td>25268405</td>\n",
       "      <td>726.734055</td>\n",
       "      <td>AFG</td>\n",
       "      <td>4</td>\n",
       "    </tr>\n",
       "    <tr>\n",
       "      <th>22</th>\n",
       "      <td>Albania</td>\n",
       "      <td>Europe</td>\n",
       "      <td>2002</td>\n",
       "      <td>75.651</td>\n",
       "      <td>3508512</td>\n",
       "      <td>4604.211737</td>\n",
       "      <td>ALB</td>\n",
       "      <td>8</td>\n",
       "    </tr>\n",
       "    <tr>\n",
       "      <th>34</th>\n",
       "      <td>Algeria</td>\n",
       "      <td>Africa</td>\n",
       "      <td>2002</td>\n",
       "      <td>70.994</td>\n",
       "      <td>31287142</td>\n",
       "      <td>5288.040382</td>\n",
       "      <td>DZA</td>\n",
       "      <td>12</td>\n",
       "    </tr>\n",
       "    <tr>\n",
       "      <th>46</th>\n",
       "      <td>Angola</td>\n",
       "      <td>Africa</td>\n",
       "      <td>2002</td>\n",
       "      <td>41.003</td>\n",
       "      <td>10866106</td>\n",
       "      <td>2773.287312</td>\n",
       "      <td>AGO</td>\n",
       "      <td>24</td>\n",
       "    </tr>\n",
       "    <tr>\n",
       "      <th>58</th>\n",
       "      <td>Argentina</td>\n",
       "      <td>Americas</td>\n",
       "      <td>2002</td>\n",
       "      <td>74.340</td>\n",
       "      <td>38331121</td>\n",
       "      <td>8797.640716</td>\n",
       "      <td>ARG</td>\n",
       "      <td>32</td>\n",
       "    </tr>\n",
       "  </tbody>\n",
       "</table>\n",
       "</div>"
      ],
      "text/plain": [
       "        country continent  year  lifeExp       pop    gdpPercap iso_alpha  \\\n",
       "10  Afghanistan      Asia  2002   42.129  25268405   726.734055       AFG   \n",
       "22      Albania    Europe  2002   75.651   3508512  4604.211737       ALB   \n",
       "34      Algeria    Africa  2002   70.994  31287142  5288.040382       DZA   \n",
       "46       Angola    Africa  2002   41.003  10866106  2773.287312       AGO   \n",
       "58    Argentina  Americas  2002   74.340  38331121  8797.640716       ARG   \n",
       "\n",
       "    iso_num  \n",
       "10        4  \n",
       "22        8  \n",
       "34       12  \n",
       "46       24  \n",
       "58       32  "
      ]
     },
     "execution_count": 31,
     "metadata": {},
     "output_type": "execute_result"
    }
   ],
   "source": [
    "gapminder_2002.head()"
   ]
  },
  {
   "cell_type": "code",
   "execution_count": 33,
   "metadata": {
    "scrolled": true
   },
   "outputs": [
    {
     "data": {
      "application/vnd.plotly.v1+json": {
       "config": {
        "plotlyServerURL": "https://plot.ly"
       },
       "data": [
        {
         "hovertemplate": "continent=Asia<br>gdpPercap=%{x}<br>lifeExp=%{y}<br>pop=%{marker.size}<extra></extra>",
         "legendgroup": "Asia",
         "marker": {
          "color": "#636efa",
          "size": [
           25268405,
           656397,
           135656790,
           12926707,
           1280400000,
           6762476,
           1034172547,
           211060000,
           66907826,
           24001816,
           6029529,
           127065841,
           5307470,
           22215365,
           47969150,
           2111561,
           3677780,
           22662365,
           2674234,
           45598081,
           25873917,
           2713462,
           153403524,
           82995088,
           24501530,
           4197776,
           19576783,
           17155814,
           22454239,
           62806748,
           80908147,
           3389578,
           18701257
          ],
          "sizemode": "area",
          "sizeref": 355666.6666666667,
          "symbol": "circle"
         },
         "mode": "markers",
         "name": "Asia",
         "orientation": "v",
         "showlegend": true,
         "type": "scatter",
         "x": [
          726.7340548,
          23403.559269999998,
          1136.3904300000004,
          896.2260152999999,
          3119.280896,
          30209.01516000001,
          1746.769454,
          2873.91287,
          9240.761975,
          4390.717312,
          21905.59514,
          28604.5919,
          3844.9171939999997,
          1646.758151,
          19233.98818,
          35110.10566,
          9313.93883,
          10206.97794,
          2140.7393230000002,
          611,
          1057.206311,
          19774.83687,
          2092.712441,
          2650.921068,
          19014.54118,
          36023.1054,
          3015.3788329999998,
          4090.9253310000004,
          23235.42329,
          5913.187529,
          1764.456677,
          4515.487575,
          2234.820827
         ],
         "xaxis": "x",
         "y": [
          42.129,
          74.795,
          62.01300000000001,
          56.751999999999995,
          72.028,
          81.495,
          62.879,
          68.58800000000001,
          69.45100000000001,
          57.04600000000001,
          79.696,
          82,
          71.263,
          66.66199999999999,
          77.045,
          76.904,
          71.028,
          73.044,
          65.033,
          59.908,
          61.34,
          74.193,
          63.61,
          70.303,
          71.626,
          78.77,
          70.815,
          73.053,
          76.99,
          68.564,
          73.017,
          72.37,
          60.308
         ],
         "yaxis": "y"
        },
        {
         "hovertemplate": "continent=Europe<br>gdpPercap=%{x}<br>lifeExp=%{y}<br>pop=%{marker.size}<extra></extra>",
         "legendgroup": "Europe",
         "marker": {
          "color": "#EF553B",
          "size": [
           3508512,
           8148312,
           10311970,
           4165416,
           7661799,
           4481020,
           10256295,
           5374693,
           5193039,
           59925035,
           82350671,
           10603863,
           10083313,
           288030,
           3879155,
           57926999,
           720230,
           16122830,
           4535591,
           38625976,
           10433867,
           22404337,
           10111559,
           5410052,
           2011497,
           40152517,
           8954175,
           7361757,
           67308928,
           59912431
          ],
          "sizemode": "area",
          "sizeref": 355666.6666666667,
          "symbol": "circle"
         },
         "mode": "markers",
         "name": "Europe",
         "orientation": "v",
         "showlegend": true,
         "type": "scatter",
         "x": [
          4604.211737,
          32417.607689999997,
          30485.88375,
          6018.975239,
          7696.777725,
          11628.38895,
          17596.210219999994,
          32166.500060000002,
          28204.59057,
          28926.032339999998,
          30035.80198,
          22514.2548,
          14843.93556,
          31163.201960000002,
          34077.04939,
          27968.098169999997,
          6557.194282,
          33724.75778,
          44683.97525,
          12002.23908,
          19970.90787,
          7885.360081,
          7236.075251,
          13638.778369999998,
          20660.01936,
          24835.47166,
          29341.63093000001,
          34480.95771,
          6508.085718,
          29478.99919
         ],
         "xaxis": "x",
         "y": [
          75.65100000000002,
          78.98,
          78.32,
          74.09,
          72.14,
          74.876,
          75.51,
          77.18,
          78.37,
          79.59,
          78.67,
          78.256,
          72.59,
          80.5,
          77.783,
          80.24,
          73.98100000000002,
          78.53,
          79.05,
          74.67,
          77.29,
          71.322,
          73.21300000000002,
          73.8,
          76.66,
          79.78,
          80.04,
          80.62,
          70.845,
          78.471
         ],
         "yaxis": "y"
        },
        {
         "hovertemplate": "continent=Africa<br>gdpPercap=%{x}<br>lifeExp=%{y}<br>pop=%{marker.size}<extra></extra>",
         "legendgroup": "Africa",
         "marker": {
          "color": "#00cc96",
          "size": [
           31287142,
           10866106,
           7026113,
           1630347,
           12251209,
           7021078,
           15929988,
           4048013,
           8835739,
           614382,
           55379852,
           3328795,
           16252726,
           447416,
           73312559,
           495627,
           4414865,
           67946797,
           1299304,
           1457766,
           20550751,
           8807818,
           1332459,
           31386842,
           2046772,
           2814651,
           5368585,
           16473477,
           11824495,
           10580176,
           2828858,
           1200206,
           31167783,
           18473780,
           1972153,
           11140655,
           119901274,
           743981,
           7852401,
           170372,
           10870037,
           5359092,
           7753310,
           44433622,
           37090298,
           1130269,
           34593779,
           4977378,
           9770575,
           24739869,
           10595811,
           11926563
          ],
          "sizemode": "area",
          "sizeref": 355666.6666666667,
          "symbol": "circle"
         },
         "mode": "markers",
         "name": "Africa",
         "orientation": "v",
         "showlegend": true,
         "type": "scatter",
         "x": [
          5288.040382,
          2773.287312,
          1372.877931,
          11003.60508,
          1037.645221,
          446.4035126,
          1934.0114489999999,
          738.6906068,
          1156.18186,
          1075.811558,
          241.16587650000002,
          3484.06197,
          1648.800823,
          1908.2608670000002,
          4754.604414,
          7703.4959,
          765.3500015,
          530.0535319,
          12521.71392,
          660.5855997,
          1111.9845779999996,
          945.5835837000001,
          575.7047176,
          1287.514732,
          1275.184575,
          531.4823679,
          9534.677467,
          894.6370822,
          665.4231186000002,
          951.4097517999999,
          1579.0195429999999,
          9021.815894,
          3258.495584,
          633.6179466,
          4072.3247509999997,
          601.0745012,
          1615.2863949999999,
          6316.1652,
          785.6537647999999,
          1353.09239,
          1519.635262,
          699.4897129999997,
          882.0818218000003,
          7710.946444,
          1993.398314,
          4128.116943,
          899.0742111,
          886.2205765000001,
          5722.8956549999975,
          927.7210018,
          1071.6139380000004,
          672.0386227000001
         ],
         "xaxis": "x",
         "y": [
          70.994,
          41.003,
          54.40600000000001,
          46.63399999999999,
          50.65,
          47.36,
          49.856,
          43.308,
          50.525,
          62.974,
          44.966,
          52.97,
          46.832,
          53.37300000000001,
          69.806,
          49.348,
          55.24,
          50.725,
          56.761,
          58.041000000000004,
          58.453,
          53.676,
          45.504,
          50.992,
          44.593,
          43.753,
          72.737,
          57.286,
          45.00899999999999,
          51.81800000000001,
          62.247,
          71.954,
          69.615,
          44.026,
          51.479,
          54.496,
          46.608000000000004,
          75.744,
          43.413000000000004,
          64.337,
          61.6,
          41.012,
          45.93600000000001,
          53.365,
          56.369,
          43.869,
          49.651,
          57.56100000000001,
          73.042,
          47.813,
          39.19300000000001,
          39.989000000000004
         ],
         "yaxis": "y"
        },
        {
         "hovertemplate": "continent=Americas<br>gdpPercap=%{x}<br>lifeExp=%{y}<br>pop=%{marker.size}<extra></extra>",
         "legendgroup": "Americas",
         "marker": {
          "color": "#ab63fa",
          "size": [
           38331121,
           8445134,
           179914212,
           31902268,
           15497046,
           41008227,
           3834934,
           11226999,
           8650322,
           12921234,
           6353681,
           11178650,
           7607651,
           6677328,
           2664659,
           102479927,
           5146848,
           2990875,
           5884491,
           26769436,
           3859606,
           1101832,
           287675526,
           3363085,
           24287670
          ],
          "sizemode": "area",
          "sizeref": 355666.6666666667,
          "symbol": "circle"
         },
         "mode": "markers",
         "name": "Americas",
         "orientation": "v",
         "showlegend": true,
         "type": "scatter",
         "x": [
          8797.640716,
          3413.26269,
          8131.212843000001,
          33328.96507,
          10778.78385,
          5755.259962,
          7723.4471950000025,
          6340.646683,
          4563.808154,
          5773.0445119999995,
          5351.568665999999,
          4858.347495,
          1270.364932,
          3099.72866,
          6994.774861,
          10742.44053,
          2474.548819,
          7356.031934000002,
          3783.674243,
          5909.020073,
          18855.606180000002,
          11460.60023,
          39097.09955,
          7727.002004000001,
          8605.047831
         ],
         "xaxis": "x",
         "y": [
          74.34,
          63.883,
          71.006,
          79.77,
          77.86,
          71.682,
          78.123,
          77.158,
          70.847,
          74.173,
          70.734,
          68.97800000000001,
          58.137,
          68.565,
          72.047,
          74.902,
          70.836,
          74.712,
          70.755,
          69.906,
          77.778,
          68.976,
          77.31,
          75.307,
          72.766
         ],
         "yaxis": "y"
        },
        {
         "hovertemplate": "continent=Oceania<br>gdpPercap=%{x}<br>lifeExp=%{y}<br>pop=%{marker.size}<extra></extra>",
         "legendgroup": "Oceania",
         "marker": {
          "color": "#FFA15A",
          "size": [
           19546792,
           3908037
          ],
          "sizemode": "area",
          "sizeref": 355666.6666666667,
          "symbol": "circle"
         },
         "mode": "markers",
         "name": "Oceania",
         "orientation": "v",
         "showlegend": true,
         "type": "scatter",
         "x": [
          30687.75473,
          23189.80135
         ],
         "xaxis": "x",
         "y": [
          80.37,
          79.11
         ],
         "yaxis": "y"
        }
       ],
       "layout": {
        "legend": {
         "itemsizing": "constant",
         "title": {
          "text": "continent"
         },
         "tracegroupgap": 0
        },
        "margin": {
         "t": 60
        },
        "template": {
         "data": {
          "bar": [
           {
            "error_x": {
             "color": "#2a3f5f"
            },
            "error_y": {
             "color": "#2a3f5f"
            },
            "marker": {
             "line": {
              "color": "#E5ECF6",
              "width": 0.5
             },
             "pattern": {
              "fillmode": "overlay",
              "size": 10,
              "solidity": 0.2
             }
            },
            "type": "bar"
           }
          ],
          "barpolar": [
           {
            "marker": {
             "line": {
              "color": "#E5ECF6",
              "width": 0.5
             },
             "pattern": {
              "fillmode": "overlay",
              "size": 10,
              "solidity": 0.2
             }
            },
            "type": "barpolar"
           }
          ],
          "carpet": [
           {
            "aaxis": {
             "endlinecolor": "#2a3f5f",
             "gridcolor": "white",
             "linecolor": "white",
             "minorgridcolor": "white",
             "startlinecolor": "#2a3f5f"
            },
            "baxis": {
             "endlinecolor": "#2a3f5f",
             "gridcolor": "white",
             "linecolor": "white",
             "minorgridcolor": "white",
             "startlinecolor": "#2a3f5f"
            },
            "type": "carpet"
           }
          ],
          "choropleth": [
           {
            "colorbar": {
             "outlinewidth": 0,
             "ticks": ""
            },
            "type": "choropleth"
           }
          ],
          "contour": [
           {
            "colorbar": {
             "outlinewidth": 0,
             "ticks": ""
            },
            "colorscale": [
             [
              0,
              "#0d0887"
             ],
             [
              0.1111111111111111,
              "#46039f"
             ],
             [
              0.2222222222222222,
              "#7201a8"
             ],
             [
              0.3333333333333333,
              "#9c179e"
             ],
             [
              0.4444444444444444,
              "#bd3786"
             ],
             [
              0.5555555555555556,
              "#d8576b"
             ],
             [
              0.6666666666666666,
              "#ed7953"
             ],
             [
              0.7777777777777778,
              "#fb9f3a"
             ],
             [
              0.8888888888888888,
              "#fdca26"
             ],
             [
              1,
              "#f0f921"
             ]
            ],
            "type": "contour"
           }
          ],
          "contourcarpet": [
           {
            "colorbar": {
             "outlinewidth": 0,
             "ticks": ""
            },
            "type": "contourcarpet"
           }
          ],
          "heatmap": [
           {
            "colorbar": {
             "outlinewidth": 0,
             "ticks": ""
            },
            "colorscale": [
             [
              0,
              "#0d0887"
             ],
             [
              0.1111111111111111,
              "#46039f"
             ],
             [
              0.2222222222222222,
              "#7201a8"
             ],
             [
              0.3333333333333333,
              "#9c179e"
             ],
             [
              0.4444444444444444,
              "#bd3786"
             ],
             [
              0.5555555555555556,
              "#d8576b"
             ],
             [
              0.6666666666666666,
              "#ed7953"
             ],
             [
              0.7777777777777778,
              "#fb9f3a"
             ],
             [
              0.8888888888888888,
              "#fdca26"
             ],
             [
              1,
              "#f0f921"
             ]
            ],
            "type": "heatmap"
           }
          ],
          "heatmapgl": [
           {
            "colorbar": {
             "outlinewidth": 0,
             "ticks": ""
            },
            "colorscale": [
             [
              0,
              "#0d0887"
             ],
             [
              0.1111111111111111,
              "#46039f"
             ],
             [
              0.2222222222222222,
              "#7201a8"
             ],
             [
              0.3333333333333333,
              "#9c179e"
             ],
             [
              0.4444444444444444,
              "#bd3786"
             ],
             [
              0.5555555555555556,
              "#d8576b"
             ],
             [
              0.6666666666666666,
              "#ed7953"
             ],
             [
              0.7777777777777778,
              "#fb9f3a"
             ],
             [
              0.8888888888888888,
              "#fdca26"
             ],
             [
              1,
              "#f0f921"
             ]
            ],
            "type": "heatmapgl"
           }
          ],
          "histogram": [
           {
            "marker": {
             "pattern": {
              "fillmode": "overlay",
              "size": 10,
              "solidity": 0.2
             }
            },
            "type": "histogram"
           }
          ],
          "histogram2d": [
           {
            "colorbar": {
             "outlinewidth": 0,
             "ticks": ""
            },
            "colorscale": [
             [
              0,
              "#0d0887"
             ],
             [
              0.1111111111111111,
              "#46039f"
             ],
             [
              0.2222222222222222,
              "#7201a8"
             ],
             [
              0.3333333333333333,
              "#9c179e"
             ],
             [
              0.4444444444444444,
              "#bd3786"
             ],
             [
              0.5555555555555556,
              "#d8576b"
             ],
             [
              0.6666666666666666,
              "#ed7953"
             ],
             [
              0.7777777777777778,
              "#fb9f3a"
             ],
             [
              0.8888888888888888,
              "#fdca26"
             ],
             [
              1,
              "#f0f921"
             ]
            ],
            "type": "histogram2d"
           }
          ],
          "histogram2dcontour": [
           {
            "colorbar": {
             "outlinewidth": 0,
             "ticks": ""
            },
            "colorscale": [
             [
              0,
              "#0d0887"
             ],
             [
              0.1111111111111111,
              "#46039f"
             ],
             [
              0.2222222222222222,
              "#7201a8"
             ],
             [
              0.3333333333333333,
              "#9c179e"
             ],
             [
              0.4444444444444444,
              "#bd3786"
             ],
             [
              0.5555555555555556,
              "#d8576b"
             ],
             [
              0.6666666666666666,
              "#ed7953"
             ],
             [
              0.7777777777777778,
              "#fb9f3a"
             ],
             [
              0.8888888888888888,
              "#fdca26"
             ],
             [
              1,
              "#f0f921"
             ]
            ],
            "type": "histogram2dcontour"
           }
          ],
          "mesh3d": [
           {
            "colorbar": {
             "outlinewidth": 0,
             "ticks": ""
            },
            "type": "mesh3d"
           }
          ],
          "parcoords": [
           {
            "line": {
             "colorbar": {
              "outlinewidth": 0,
              "ticks": ""
             }
            },
            "type": "parcoords"
           }
          ],
          "pie": [
           {
            "automargin": true,
            "type": "pie"
           }
          ],
          "scatter": [
           {
            "marker": {
             "colorbar": {
              "outlinewidth": 0,
              "ticks": ""
             }
            },
            "type": "scatter"
           }
          ],
          "scatter3d": [
           {
            "line": {
             "colorbar": {
              "outlinewidth": 0,
              "ticks": ""
             }
            },
            "marker": {
             "colorbar": {
              "outlinewidth": 0,
              "ticks": ""
             }
            },
            "type": "scatter3d"
           }
          ],
          "scattercarpet": [
           {
            "marker": {
             "colorbar": {
              "outlinewidth": 0,
              "ticks": ""
             }
            },
            "type": "scattercarpet"
           }
          ],
          "scattergeo": [
           {
            "marker": {
             "colorbar": {
              "outlinewidth": 0,
              "ticks": ""
             }
            },
            "type": "scattergeo"
           }
          ],
          "scattergl": [
           {
            "marker": {
             "colorbar": {
              "outlinewidth": 0,
              "ticks": ""
             }
            },
            "type": "scattergl"
           }
          ],
          "scattermapbox": [
           {
            "marker": {
             "colorbar": {
              "outlinewidth": 0,
              "ticks": ""
             }
            },
            "type": "scattermapbox"
           }
          ],
          "scatterpolar": [
           {
            "marker": {
             "colorbar": {
              "outlinewidth": 0,
              "ticks": ""
             }
            },
            "type": "scatterpolar"
           }
          ],
          "scatterpolargl": [
           {
            "marker": {
             "colorbar": {
              "outlinewidth": 0,
              "ticks": ""
             }
            },
            "type": "scatterpolargl"
           }
          ],
          "scatterternary": [
           {
            "marker": {
             "colorbar": {
              "outlinewidth": 0,
              "ticks": ""
             }
            },
            "type": "scatterternary"
           }
          ],
          "surface": [
           {
            "colorbar": {
             "outlinewidth": 0,
             "ticks": ""
            },
            "colorscale": [
             [
              0,
              "#0d0887"
             ],
             [
              0.1111111111111111,
              "#46039f"
             ],
             [
              0.2222222222222222,
              "#7201a8"
             ],
             [
              0.3333333333333333,
              "#9c179e"
             ],
             [
              0.4444444444444444,
              "#bd3786"
             ],
             [
              0.5555555555555556,
              "#d8576b"
             ],
             [
              0.6666666666666666,
              "#ed7953"
             ],
             [
              0.7777777777777778,
              "#fb9f3a"
             ],
             [
              0.8888888888888888,
              "#fdca26"
             ],
             [
              1,
              "#f0f921"
             ]
            ],
            "type": "surface"
           }
          ],
          "table": [
           {
            "cells": {
             "fill": {
              "color": "#EBF0F8"
             },
             "line": {
              "color": "white"
             }
            },
            "header": {
             "fill": {
              "color": "#C8D4E3"
             },
             "line": {
              "color": "white"
             }
            },
            "type": "table"
           }
          ]
         },
         "layout": {
          "annotationdefaults": {
           "arrowcolor": "#2a3f5f",
           "arrowhead": 0,
           "arrowwidth": 1
          },
          "autotypenumbers": "strict",
          "coloraxis": {
           "colorbar": {
            "outlinewidth": 0,
            "ticks": ""
           }
          },
          "colorscale": {
           "diverging": [
            [
             0,
             "#8e0152"
            ],
            [
             0.1,
             "#c51b7d"
            ],
            [
             0.2,
             "#de77ae"
            ],
            [
             0.3,
             "#f1b6da"
            ],
            [
             0.4,
             "#fde0ef"
            ],
            [
             0.5,
             "#f7f7f7"
            ],
            [
             0.6,
             "#e6f5d0"
            ],
            [
             0.7,
             "#b8e186"
            ],
            [
             0.8,
             "#7fbc41"
            ],
            [
             0.9,
             "#4d9221"
            ],
            [
             1,
             "#276419"
            ]
           ],
           "sequential": [
            [
             0,
             "#0d0887"
            ],
            [
             0.1111111111111111,
             "#46039f"
            ],
            [
             0.2222222222222222,
             "#7201a8"
            ],
            [
             0.3333333333333333,
             "#9c179e"
            ],
            [
             0.4444444444444444,
             "#bd3786"
            ],
            [
             0.5555555555555556,
             "#d8576b"
            ],
            [
             0.6666666666666666,
             "#ed7953"
            ],
            [
             0.7777777777777778,
             "#fb9f3a"
            ],
            [
             0.8888888888888888,
             "#fdca26"
            ],
            [
             1,
             "#f0f921"
            ]
           ],
           "sequentialminus": [
            [
             0,
             "#0d0887"
            ],
            [
             0.1111111111111111,
             "#46039f"
            ],
            [
             0.2222222222222222,
             "#7201a8"
            ],
            [
             0.3333333333333333,
             "#9c179e"
            ],
            [
             0.4444444444444444,
             "#bd3786"
            ],
            [
             0.5555555555555556,
             "#d8576b"
            ],
            [
             0.6666666666666666,
             "#ed7953"
            ],
            [
             0.7777777777777778,
             "#fb9f3a"
            ],
            [
             0.8888888888888888,
             "#fdca26"
            ],
            [
             1,
             "#f0f921"
            ]
           ]
          },
          "colorway": [
           "#636efa",
           "#EF553B",
           "#00cc96",
           "#ab63fa",
           "#FFA15A",
           "#19d3f3",
           "#FF6692",
           "#B6E880",
           "#FF97FF",
           "#FECB52"
          ],
          "font": {
           "color": "#2a3f5f"
          },
          "geo": {
           "bgcolor": "white",
           "lakecolor": "white",
           "landcolor": "#E5ECF6",
           "showlakes": true,
           "showland": true,
           "subunitcolor": "white"
          },
          "hoverlabel": {
           "align": "left"
          },
          "hovermode": "closest",
          "mapbox": {
           "style": "light"
          },
          "paper_bgcolor": "white",
          "plot_bgcolor": "#E5ECF6",
          "polar": {
           "angularaxis": {
            "gridcolor": "white",
            "linecolor": "white",
            "ticks": ""
           },
           "bgcolor": "#E5ECF6",
           "radialaxis": {
            "gridcolor": "white",
            "linecolor": "white",
            "ticks": ""
           }
          },
          "scene": {
           "xaxis": {
            "backgroundcolor": "#E5ECF6",
            "gridcolor": "white",
            "gridwidth": 2,
            "linecolor": "white",
            "showbackground": true,
            "ticks": "",
            "zerolinecolor": "white"
           },
           "yaxis": {
            "backgroundcolor": "#E5ECF6",
            "gridcolor": "white",
            "gridwidth": 2,
            "linecolor": "white",
            "showbackground": true,
            "ticks": "",
            "zerolinecolor": "white"
           },
           "zaxis": {
            "backgroundcolor": "#E5ECF6",
            "gridcolor": "white",
            "gridwidth": 2,
            "linecolor": "white",
            "showbackground": true,
            "ticks": "",
            "zerolinecolor": "white"
           }
          },
          "shapedefaults": {
           "line": {
            "color": "#2a3f5f"
           }
          },
          "ternary": {
           "aaxis": {
            "gridcolor": "white",
            "linecolor": "white",
            "ticks": ""
           },
           "baxis": {
            "gridcolor": "white",
            "linecolor": "white",
            "ticks": ""
           },
           "bgcolor": "#E5ECF6",
           "caxis": {
            "gridcolor": "white",
            "linecolor": "white",
            "ticks": ""
           }
          },
          "title": {
           "x": 0.05
          },
          "xaxis": {
           "automargin": true,
           "gridcolor": "white",
           "linecolor": "white",
           "ticks": "",
           "title": {
            "standoff": 15
           },
           "zerolinecolor": "white",
           "zerolinewidth": 2
          },
          "yaxis": {
           "automargin": true,
           "gridcolor": "white",
           "linecolor": "white",
           "ticks": "",
           "title": {
            "standoff": 15
           },
           "zerolinecolor": "white",
           "zerolinewidth": 2
          }
         }
        },
        "xaxis": {
         "anchor": "y",
         "domain": [
          0,
          1
         ],
         "title": {
          "text": "gdpPercap"
         }
        },
        "yaxis": {
         "anchor": "x",
         "domain": [
          0,
          1
         ],
         "title": {
          "text": "lifeExp"
         }
        }
       }
      },
      "text/html": [
       "<div>                            <div id=\"e356f286-4d8a-4586-a492-2ee64d145569\" class=\"plotly-graph-div\" style=\"height:525px; width:100%;\"></div>            <script type=\"text/javascript\">                require([\"plotly\"], function(Plotly) {                    window.PLOTLYENV=window.PLOTLYENV || {};                                    if (document.getElementById(\"e356f286-4d8a-4586-a492-2ee64d145569\")) {                    Plotly.newPlot(                        \"e356f286-4d8a-4586-a492-2ee64d145569\",                        [{\"hovertemplate\":\"continent=Asia<br>gdpPercap=%{x}<br>lifeExp=%{y}<br>pop=%{marker.size}<extra></extra>\",\"legendgroup\":\"Asia\",\"marker\":{\"color\":\"#636efa\",\"size\":[25268405,656397,135656790,12926707,1280400000,6762476,1034172547,211060000,66907826,24001816,6029529,127065841,5307470,22215365,47969150,2111561,3677780,22662365,2674234,45598081,25873917,2713462,153403524,82995088,24501530,4197776,19576783,17155814,22454239,62806748,80908147,3389578,18701257],\"sizemode\":\"area\",\"sizeref\":355666.6666666667,\"symbol\":\"circle\"},\"mode\":\"markers\",\"name\":\"Asia\",\"orientation\":\"v\",\"showlegend\":true,\"type\":\"scatter\",\"x\":[726.7340548,23403.559269999998,1136.3904300000004,896.2260152999999,3119.280896,30209.01516000001,1746.769454,2873.91287,9240.761975,4390.717312,21905.59514,28604.5919,3844.9171939999997,1646.758151,19233.98818,35110.10566,9313.93883,10206.97794,2140.7393230000002,611.0,1057.206311,19774.83687,2092.712441,2650.921068,19014.54118,36023.1054,3015.3788329999998,4090.9253310000004,23235.42329,5913.187529,1764.456677,4515.487575,2234.820827],\"xaxis\":\"x\",\"y\":[42.129,74.795,62.01300000000001,56.751999999999995,72.028,81.495,62.879,68.58800000000001,69.45100000000001,57.04600000000001,79.696,82.0,71.263,66.66199999999999,77.045,76.904,71.028,73.044,65.033,59.908,61.34,74.193,63.61,70.303,71.626,78.77,70.815,73.053,76.99,68.564,73.017,72.37,60.308],\"yaxis\":\"y\"},{\"hovertemplate\":\"continent=Europe<br>gdpPercap=%{x}<br>lifeExp=%{y}<br>pop=%{marker.size}<extra></extra>\",\"legendgroup\":\"Europe\",\"marker\":{\"color\":\"#EF553B\",\"size\":[3508512,8148312,10311970,4165416,7661799,4481020,10256295,5374693,5193039,59925035,82350671,10603863,10083313,288030,3879155,57926999,720230,16122830,4535591,38625976,10433867,22404337,10111559,5410052,2011497,40152517,8954175,7361757,67308928,59912431],\"sizemode\":\"area\",\"sizeref\":355666.6666666667,\"symbol\":\"circle\"},\"mode\":\"markers\",\"name\":\"Europe\",\"orientation\":\"v\",\"showlegend\":true,\"type\":\"scatter\",\"x\":[4604.211737,32417.607689999997,30485.88375,6018.975239,7696.777725,11628.38895,17596.210219999994,32166.500060000002,28204.59057,28926.032339999998,30035.80198,22514.2548,14843.93556,31163.201960000002,34077.04939,27968.098169999997,6557.194282,33724.75778,44683.97525,12002.23908,19970.90787,7885.360081,7236.075251,13638.778369999998,20660.01936,24835.47166,29341.63093000001,34480.95771,6508.085718,29478.99919],\"xaxis\":\"x\",\"y\":[75.65100000000002,78.98,78.32,74.09,72.14,74.876,75.51,77.18,78.37,79.59,78.67,78.256,72.59,80.5,77.783,80.24,73.98100000000002,78.53,79.05,74.67,77.29,71.322,73.21300000000002,73.8,76.66,79.78,80.04,80.62,70.845,78.471],\"yaxis\":\"y\"},{\"hovertemplate\":\"continent=Africa<br>gdpPercap=%{x}<br>lifeExp=%{y}<br>pop=%{marker.size}<extra></extra>\",\"legendgroup\":\"Africa\",\"marker\":{\"color\":\"#00cc96\",\"size\":[31287142,10866106,7026113,1630347,12251209,7021078,15929988,4048013,8835739,614382,55379852,3328795,16252726,447416,73312559,495627,4414865,67946797,1299304,1457766,20550751,8807818,1332459,31386842,2046772,2814651,5368585,16473477,11824495,10580176,2828858,1200206,31167783,18473780,1972153,11140655,119901274,743981,7852401,170372,10870037,5359092,7753310,44433622,37090298,1130269,34593779,4977378,9770575,24739869,10595811,11926563],\"sizemode\":\"area\",\"sizeref\":355666.6666666667,\"symbol\":\"circle\"},\"mode\":\"markers\",\"name\":\"Africa\",\"orientation\":\"v\",\"showlegend\":true,\"type\":\"scatter\",\"x\":[5288.040382,2773.287312,1372.877931,11003.60508,1037.645221,446.4035126,1934.0114489999999,738.6906068,1156.18186,1075.811558,241.16587650000002,3484.06197,1648.800823,1908.2608670000002,4754.604414,7703.4959,765.3500015,530.0535319,12521.71392,660.5855997,1111.9845779999996,945.5835837000001,575.7047176,1287.514732,1275.184575,531.4823679,9534.677467,894.6370822,665.4231186000002,951.4097517999999,1579.0195429999999,9021.815894,3258.495584,633.6179466,4072.3247509999997,601.0745012,1615.2863949999999,6316.1652,785.6537647999999,1353.09239,1519.635262,699.4897129999997,882.0818218000003,7710.946444,1993.398314,4128.116943,899.0742111,886.2205765000001,5722.8956549999975,927.7210018,1071.6139380000004,672.0386227000001],\"xaxis\":\"x\",\"y\":[70.994,41.003,54.40600000000001,46.63399999999999,50.65,47.36,49.856,43.308,50.525,62.974,44.966,52.97,46.832,53.37300000000001,69.806,49.348,55.24,50.725,56.761,58.041000000000004,58.453,53.676,45.504,50.992,44.593,43.753,72.737,57.286,45.00899999999999,51.81800000000001,62.247,71.954,69.615,44.026,51.479,54.496,46.608000000000004,75.744,43.413000000000004,64.337,61.6,41.012,45.93600000000001,53.365,56.369,43.869,49.651,57.56100000000001,73.042,47.813,39.19300000000001,39.989000000000004],\"yaxis\":\"y\"},{\"hovertemplate\":\"continent=Americas<br>gdpPercap=%{x}<br>lifeExp=%{y}<br>pop=%{marker.size}<extra></extra>\",\"legendgroup\":\"Americas\",\"marker\":{\"color\":\"#ab63fa\",\"size\":[38331121,8445134,179914212,31902268,15497046,41008227,3834934,11226999,8650322,12921234,6353681,11178650,7607651,6677328,2664659,102479927,5146848,2990875,5884491,26769436,3859606,1101832,287675526,3363085,24287670],\"sizemode\":\"area\",\"sizeref\":355666.6666666667,\"symbol\":\"circle\"},\"mode\":\"markers\",\"name\":\"Americas\",\"orientation\":\"v\",\"showlegend\":true,\"type\":\"scatter\",\"x\":[8797.640716,3413.26269,8131.212843000001,33328.96507,10778.78385,5755.259962,7723.4471950000025,6340.646683,4563.808154,5773.0445119999995,5351.568665999999,4858.347495,1270.364932,3099.72866,6994.774861,10742.44053,2474.548819,7356.031934000002,3783.674243,5909.020073,18855.606180000002,11460.60023,39097.09955,7727.002004000001,8605.047831],\"xaxis\":\"x\",\"y\":[74.34,63.883,71.006,79.77,77.86,71.682,78.123,77.158,70.847,74.173,70.734,68.97800000000001,58.137,68.565,72.047,74.902,70.836,74.712,70.755,69.906,77.778,68.976,77.31,75.307,72.766],\"yaxis\":\"y\"},{\"hovertemplate\":\"continent=Oceania<br>gdpPercap=%{x}<br>lifeExp=%{y}<br>pop=%{marker.size}<extra></extra>\",\"legendgroup\":\"Oceania\",\"marker\":{\"color\":\"#FFA15A\",\"size\":[19546792,3908037],\"sizemode\":\"area\",\"sizeref\":355666.6666666667,\"symbol\":\"circle\"},\"mode\":\"markers\",\"name\":\"Oceania\",\"orientation\":\"v\",\"showlegend\":true,\"type\":\"scatter\",\"x\":[30687.75473,23189.80135],\"xaxis\":\"x\",\"y\":[80.37,79.11],\"yaxis\":\"y\"}],                        {\"legend\":{\"itemsizing\":\"constant\",\"title\":{\"text\":\"continent\"},\"tracegroupgap\":0},\"margin\":{\"t\":60},\"template\":{\"data\":{\"bar\":[{\"error_x\":{\"color\":\"#2a3f5f\"},\"error_y\":{\"color\":\"#2a3f5f\"},\"marker\":{\"line\":{\"color\":\"#E5ECF6\",\"width\":0.5},\"pattern\":{\"fillmode\":\"overlay\",\"size\":10,\"solidity\":0.2}},\"type\":\"bar\"}],\"barpolar\":[{\"marker\":{\"line\":{\"color\":\"#E5ECF6\",\"width\":0.5},\"pattern\":{\"fillmode\":\"overlay\",\"size\":10,\"solidity\":0.2}},\"type\":\"barpolar\"}],\"carpet\":[{\"aaxis\":{\"endlinecolor\":\"#2a3f5f\",\"gridcolor\":\"white\",\"linecolor\":\"white\",\"minorgridcolor\":\"white\",\"startlinecolor\":\"#2a3f5f\"},\"baxis\":{\"endlinecolor\":\"#2a3f5f\",\"gridcolor\":\"white\",\"linecolor\":\"white\",\"minorgridcolor\":\"white\",\"startlinecolor\":\"#2a3f5f\"},\"type\":\"carpet\"}],\"choropleth\":[{\"colorbar\":{\"outlinewidth\":0,\"ticks\":\"\"},\"type\":\"choropleth\"}],\"contour\":[{\"colorbar\":{\"outlinewidth\":0,\"ticks\":\"\"},\"colorscale\":[[0.0,\"#0d0887\"],[0.1111111111111111,\"#46039f\"],[0.2222222222222222,\"#7201a8\"],[0.3333333333333333,\"#9c179e\"],[0.4444444444444444,\"#bd3786\"],[0.5555555555555556,\"#d8576b\"],[0.6666666666666666,\"#ed7953\"],[0.7777777777777778,\"#fb9f3a\"],[0.8888888888888888,\"#fdca26\"],[1.0,\"#f0f921\"]],\"type\":\"contour\"}],\"contourcarpet\":[{\"colorbar\":{\"outlinewidth\":0,\"ticks\":\"\"},\"type\":\"contourcarpet\"}],\"heatmap\":[{\"colorbar\":{\"outlinewidth\":0,\"ticks\":\"\"},\"colorscale\":[[0.0,\"#0d0887\"],[0.1111111111111111,\"#46039f\"],[0.2222222222222222,\"#7201a8\"],[0.3333333333333333,\"#9c179e\"],[0.4444444444444444,\"#bd3786\"],[0.5555555555555556,\"#d8576b\"],[0.6666666666666666,\"#ed7953\"],[0.7777777777777778,\"#fb9f3a\"],[0.8888888888888888,\"#fdca26\"],[1.0,\"#f0f921\"]],\"type\":\"heatmap\"}],\"heatmapgl\":[{\"colorbar\":{\"outlinewidth\":0,\"ticks\":\"\"},\"colorscale\":[[0.0,\"#0d0887\"],[0.1111111111111111,\"#46039f\"],[0.2222222222222222,\"#7201a8\"],[0.3333333333333333,\"#9c179e\"],[0.4444444444444444,\"#bd3786\"],[0.5555555555555556,\"#d8576b\"],[0.6666666666666666,\"#ed7953\"],[0.7777777777777778,\"#fb9f3a\"],[0.8888888888888888,\"#fdca26\"],[1.0,\"#f0f921\"]],\"type\":\"heatmapgl\"}],\"histogram\":[{\"marker\":{\"pattern\":{\"fillmode\":\"overlay\",\"size\":10,\"solidity\":0.2}},\"type\":\"histogram\"}],\"histogram2d\":[{\"colorbar\":{\"outlinewidth\":0,\"ticks\":\"\"},\"colorscale\":[[0.0,\"#0d0887\"],[0.1111111111111111,\"#46039f\"],[0.2222222222222222,\"#7201a8\"],[0.3333333333333333,\"#9c179e\"],[0.4444444444444444,\"#bd3786\"],[0.5555555555555556,\"#d8576b\"],[0.6666666666666666,\"#ed7953\"],[0.7777777777777778,\"#fb9f3a\"],[0.8888888888888888,\"#fdca26\"],[1.0,\"#f0f921\"]],\"type\":\"histogram2d\"}],\"histogram2dcontour\":[{\"colorbar\":{\"outlinewidth\":0,\"ticks\":\"\"},\"colorscale\":[[0.0,\"#0d0887\"],[0.1111111111111111,\"#46039f\"],[0.2222222222222222,\"#7201a8\"],[0.3333333333333333,\"#9c179e\"],[0.4444444444444444,\"#bd3786\"],[0.5555555555555556,\"#d8576b\"],[0.6666666666666666,\"#ed7953\"],[0.7777777777777778,\"#fb9f3a\"],[0.8888888888888888,\"#fdca26\"],[1.0,\"#f0f921\"]],\"type\":\"histogram2dcontour\"}],\"mesh3d\":[{\"colorbar\":{\"outlinewidth\":0,\"ticks\":\"\"},\"type\":\"mesh3d\"}],\"parcoords\":[{\"line\":{\"colorbar\":{\"outlinewidth\":0,\"ticks\":\"\"}},\"type\":\"parcoords\"}],\"pie\":[{\"automargin\":true,\"type\":\"pie\"}],\"scatter\":[{\"marker\":{\"colorbar\":{\"outlinewidth\":0,\"ticks\":\"\"}},\"type\":\"scatter\"}],\"scatter3d\":[{\"line\":{\"colorbar\":{\"outlinewidth\":0,\"ticks\":\"\"}},\"marker\":{\"colorbar\":{\"outlinewidth\":0,\"ticks\":\"\"}},\"type\":\"scatter3d\"}],\"scattercarpet\":[{\"marker\":{\"colorbar\":{\"outlinewidth\":0,\"ticks\":\"\"}},\"type\":\"scattercarpet\"}],\"scattergeo\":[{\"marker\":{\"colorbar\":{\"outlinewidth\":0,\"ticks\":\"\"}},\"type\":\"scattergeo\"}],\"scattergl\":[{\"marker\":{\"colorbar\":{\"outlinewidth\":0,\"ticks\":\"\"}},\"type\":\"scattergl\"}],\"scattermapbox\":[{\"marker\":{\"colorbar\":{\"outlinewidth\":0,\"ticks\":\"\"}},\"type\":\"scattermapbox\"}],\"scatterpolar\":[{\"marker\":{\"colorbar\":{\"outlinewidth\":0,\"ticks\":\"\"}},\"type\":\"scatterpolar\"}],\"scatterpolargl\":[{\"marker\":{\"colorbar\":{\"outlinewidth\":0,\"ticks\":\"\"}},\"type\":\"scatterpolargl\"}],\"scatterternary\":[{\"marker\":{\"colorbar\":{\"outlinewidth\":0,\"ticks\":\"\"}},\"type\":\"scatterternary\"}],\"surface\":[{\"colorbar\":{\"outlinewidth\":0,\"ticks\":\"\"},\"colorscale\":[[0.0,\"#0d0887\"],[0.1111111111111111,\"#46039f\"],[0.2222222222222222,\"#7201a8\"],[0.3333333333333333,\"#9c179e\"],[0.4444444444444444,\"#bd3786\"],[0.5555555555555556,\"#d8576b\"],[0.6666666666666666,\"#ed7953\"],[0.7777777777777778,\"#fb9f3a\"],[0.8888888888888888,\"#fdca26\"],[1.0,\"#f0f921\"]],\"type\":\"surface\"}],\"table\":[{\"cells\":{\"fill\":{\"color\":\"#EBF0F8\"},\"line\":{\"color\":\"white\"}},\"header\":{\"fill\":{\"color\":\"#C8D4E3\"},\"line\":{\"color\":\"white\"}},\"type\":\"table\"}]},\"layout\":{\"annotationdefaults\":{\"arrowcolor\":\"#2a3f5f\",\"arrowhead\":0,\"arrowwidth\":1},\"autotypenumbers\":\"strict\",\"coloraxis\":{\"colorbar\":{\"outlinewidth\":0,\"ticks\":\"\"}},\"colorscale\":{\"diverging\":[[0,\"#8e0152\"],[0.1,\"#c51b7d\"],[0.2,\"#de77ae\"],[0.3,\"#f1b6da\"],[0.4,\"#fde0ef\"],[0.5,\"#f7f7f7\"],[0.6,\"#e6f5d0\"],[0.7,\"#b8e186\"],[0.8,\"#7fbc41\"],[0.9,\"#4d9221\"],[1,\"#276419\"]],\"sequential\":[[0.0,\"#0d0887\"],[0.1111111111111111,\"#46039f\"],[0.2222222222222222,\"#7201a8\"],[0.3333333333333333,\"#9c179e\"],[0.4444444444444444,\"#bd3786\"],[0.5555555555555556,\"#d8576b\"],[0.6666666666666666,\"#ed7953\"],[0.7777777777777778,\"#fb9f3a\"],[0.8888888888888888,\"#fdca26\"],[1.0,\"#f0f921\"]],\"sequentialminus\":[[0.0,\"#0d0887\"],[0.1111111111111111,\"#46039f\"],[0.2222222222222222,\"#7201a8\"],[0.3333333333333333,\"#9c179e\"],[0.4444444444444444,\"#bd3786\"],[0.5555555555555556,\"#d8576b\"],[0.6666666666666666,\"#ed7953\"],[0.7777777777777778,\"#fb9f3a\"],[0.8888888888888888,\"#fdca26\"],[1.0,\"#f0f921\"]]},\"colorway\":[\"#636efa\",\"#EF553B\",\"#00cc96\",\"#ab63fa\",\"#FFA15A\",\"#19d3f3\",\"#FF6692\",\"#B6E880\",\"#FF97FF\",\"#FECB52\"],\"font\":{\"color\":\"#2a3f5f\"},\"geo\":{\"bgcolor\":\"white\",\"lakecolor\":\"white\",\"landcolor\":\"#E5ECF6\",\"showlakes\":true,\"showland\":true,\"subunitcolor\":\"white\"},\"hoverlabel\":{\"align\":\"left\"},\"hovermode\":\"closest\",\"mapbox\":{\"style\":\"light\"},\"paper_bgcolor\":\"white\",\"plot_bgcolor\":\"#E5ECF6\",\"polar\":{\"angularaxis\":{\"gridcolor\":\"white\",\"linecolor\":\"white\",\"ticks\":\"\"},\"bgcolor\":\"#E5ECF6\",\"radialaxis\":{\"gridcolor\":\"white\",\"linecolor\":\"white\",\"ticks\":\"\"}},\"scene\":{\"xaxis\":{\"backgroundcolor\":\"#E5ECF6\",\"gridcolor\":\"white\",\"gridwidth\":2,\"linecolor\":\"white\",\"showbackground\":true,\"ticks\":\"\",\"zerolinecolor\":\"white\"},\"yaxis\":{\"backgroundcolor\":\"#E5ECF6\",\"gridcolor\":\"white\",\"gridwidth\":2,\"linecolor\":\"white\",\"showbackground\":true,\"ticks\":\"\",\"zerolinecolor\":\"white\"},\"zaxis\":{\"backgroundcolor\":\"#E5ECF6\",\"gridcolor\":\"white\",\"gridwidth\":2,\"linecolor\":\"white\",\"showbackground\":true,\"ticks\":\"\",\"zerolinecolor\":\"white\"}},\"shapedefaults\":{\"line\":{\"color\":\"#2a3f5f\"}},\"ternary\":{\"aaxis\":{\"gridcolor\":\"white\",\"linecolor\":\"white\",\"ticks\":\"\"},\"baxis\":{\"gridcolor\":\"white\",\"linecolor\":\"white\",\"ticks\":\"\"},\"bgcolor\":\"#E5ECF6\",\"caxis\":{\"gridcolor\":\"white\",\"linecolor\":\"white\",\"ticks\":\"\"}},\"title\":{\"x\":0.05},\"xaxis\":{\"automargin\":true,\"gridcolor\":\"white\",\"linecolor\":\"white\",\"ticks\":\"\",\"title\":{\"standoff\":15},\"zerolinecolor\":\"white\",\"zerolinewidth\":2},\"yaxis\":{\"automargin\":true,\"gridcolor\":\"white\",\"linecolor\":\"white\",\"ticks\":\"\",\"title\":{\"standoff\":15},\"zerolinecolor\":\"white\",\"zerolinewidth\":2}}},\"xaxis\":{\"anchor\":\"y\",\"domain\":[0.0,1.0],\"title\":{\"text\":\"gdpPercap\"}},\"yaxis\":{\"anchor\":\"x\",\"domain\":[0.0,1.0],\"title\":{\"text\":\"lifeExp\"}}},                        {\"responsive\": true}                    ).then(function(){\n",
       "                            \n",
       "var gd = document.getElementById('e356f286-4d8a-4586-a492-2ee64d145569');\n",
       "var x = new MutationObserver(function (mutations, observer) {{\n",
       "        var display = window.getComputedStyle(gd).display;\n",
       "        if (!display || display === 'none') {{\n",
       "            console.log([gd, 'removed!']);\n",
       "            Plotly.purge(gd);\n",
       "            observer.disconnect();\n",
       "        }}\n",
       "}});\n",
       "\n",
       "// Listen for the removal of the full notebook cells\n",
       "var notebookContainer = gd.closest('#notebook-container');\n",
       "if (notebookContainer) {{\n",
       "    x.observe(notebookContainer, {childList: true});\n",
       "}}\n",
       "\n",
       "// Listen for the clearing of the current output cell\n",
       "var outputEl = gd.closest('.output');\n",
       "if (outputEl) {{\n",
       "    x.observe(outputEl, {childList: true});\n",
       "}}\n",
       "\n",
       "                        })                };                });            </script>        </div>"
      ]
     },
     "metadata": {},
     "output_type": "display_data"
    }
   ],
   "source": [
    "fig = px.scatter(gapminder_2002, x=\"gdpPercap\", y=\"lifeExp\", \n",
    "                 color=\"continent\", size=\"pop\", size_max=60)\n",
    "fig.show()"
   ]
  },
  {
   "cell_type": "code",
   "execution_count": 92,
   "metadata": {},
   "outputs": [],
   "source": [
    "norway = gapminder.query(\"country == 'Norway'\")"
   ]
  },
  {
   "cell_type": "code",
   "execution_count": 93,
   "metadata": {},
   "outputs": [
    {
     "data": {
      "text/html": [
       "<div>\n",
       "<style scoped>\n",
       "    .dataframe tbody tr th:only-of-type {\n",
       "        vertical-align: middle;\n",
       "    }\n",
       "\n",
       "    .dataframe tbody tr th {\n",
       "        vertical-align: top;\n",
       "    }\n",
       "\n",
       "    .dataframe thead th {\n",
       "        text-align: right;\n",
       "    }\n",
       "</style>\n",
       "<table border=\"1\" class=\"dataframe\">\n",
       "  <thead>\n",
       "    <tr style=\"text-align: right;\">\n",
       "      <th></th>\n",
       "      <th>country</th>\n",
       "      <th>continent</th>\n",
       "      <th>year</th>\n",
       "      <th>lifeExp</th>\n",
       "      <th>pop</th>\n",
       "      <th>gdpPercap</th>\n",
       "      <th>iso_alpha</th>\n",
       "      <th>iso_num</th>\n",
       "    </tr>\n",
       "  </thead>\n",
       "  <tbody>\n",
       "    <tr>\n",
       "      <th>1140</th>\n",
       "      <td>Norway</td>\n",
       "      <td>Europe</td>\n",
       "      <td>1952</td>\n",
       "      <td>72.67</td>\n",
       "      <td>3327728</td>\n",
       "      <td>10095.42172</td>\n",
       "      <td>NOR</td>\n",
       "      <td>578</td>\n",
       "    </tr>\n",
       "    <tr>\n",
       "      <th>1141</th>\n",
       "      <td>Norway</td>\n",
       "      <td>Europe</td>\n",
       "      <td>1957</td>\n",
       "      <td>73.44</td>\n",
       "      <td>3491938</td>\n",
       "      <td>11653.97304</td>\n",
       "      <td>NOR</td>\n",
       "      <td>578</td>\n",
       "    </tr>\n",
       "    <tr>\n",
       "      <th>1142</th>\n",
       "      <td>Norway</td>\n",
       "      <td>Europe</td>\n",
       "      <td>1962</td>\n",
       "      <td>73.47</td>\n",
       "      <td>3638919</td>\n",
       "      <td>13450.40151</td>\n",
       "      <td>NOR</td>\n",
       "      <td>578</td>\n",
       "    </tr>\n",
       "    <tr>\n",
       "      <th>1143</th>\n",
       "      <td>Norway</td>\n",
       "      <td>Europe</td>\n",
       "      <td>1967</td>\n",
       "      <td>74.08</td>\n",
       "      <td>3786019</td>\n",
       "      <td>16361.87647</td>\n",
       "      <td>NOR</td>\n",
       "      <td>578</td>\n",
       "    </tr>\n",
       "    <tr>\n",
       "      <th>1144</th>\n",
       "      <td>Norway</td>\n",
       "      <td>Europe</td>\n",
       "      <td>1972</td>\n",
       "      <td>74.34</td>\n",
       "      <td>3933004</td>\n",
       "      <td>18965.05551</td>\n",
       "      <td>NOR</td>\n",
       "      <td>578</td>\n",
       "    </tr>\n",
       "  </tbody>\n",
       "</table>\n",
       "</div>"
      ],
      "text/plain": [
       "     country continent  year  lifeExp      pop    gdpPercap iso_alpha  iso_num\n",
       "1140  Norway    Europe  1952    72.67  3327728  10095.42172       NOR      578\n",
       "1141  Norway    Europe  1957    73.44  3491938  11653.97304       NOR      578\n",
       "1142  Norway    Europe  1962    73.47  3638919  13450.40151       NOR      578\n",
       "1143  Norway    Europe  1967    74.08  3786019  16361.87647       NOR      578\n",
       "1144  Norway    Europe  1972    74.34  3933004  18965.05551       NOR      578"
      ]
     },
     "execution_count": 93,
     "metadata": {},
     "output_type": "execute_result"
    }
   ],
   "source": [
    "norway.head()"
   ]
  },
  {
   "cell_type": "code",
   "execution_count": 88,
   "metadata": {},
   "outputs": [
    {
     "data": {
      "application/vnd.plotly.v1+json": {
       "config": {
        "plotlyServerURL": "https://plot.ly"
       },
       "data": [
        {
         "hovertemplate": "year=%{x}<br>lifeExp=%{y}<extra></extra>",
         "legendgroup": "",
         "line": {
          "color": "#636efa",
          "dash": "solid"
         },
         "marker": {
          "symbol": "circle"
         },
         "mode": "lines",
         "name": "",
         "orientation": "v",
         "showlegend": false,
         "type": "scatter",
         "x": [
          1952,
          1957,
          1962,
          1967,
          1972,
          1977,
          1982,
          1987,
          1992,
          1997,
          2002,
          2007
         ],
         "xaxis": "x",
         "y": [
          72.67,
          73.44,
          73.47,
          74.08,
          74.34,
          75.37,
          75.97,
          75.89,
          77.32,
          78.32,
          79.05,
          80.196
         ],
         "yaxis": "y"
        }
       ],
       "layout": {
        "legend": {
         "tracegroupgap": 0
        },
        "margin": {
         "t": 60
        },
        "template": {
         "data": {
          "bar": [
           {
            "error_x": {
             "color": "#2a3f5f"
            },
            "error_y": {
             "color": "#2a3f5f"
            },
            "marker": {
             "line": {
              "color": "#E5ECF6",
              "width": 0.5
             },
             "pattern": {
              "fillmode": "overlay",
              "size": 10,
              "solidity": 0.2
             }
            },
            "type": "bar"
           }
          ],
          "barpolar": [
           {
            "marker": {
             "line": {
              "color": "#E5ECF6",
              "width": 0.5
             },
             "pattern": {
              "fillmode": "overlay",
              "size": 10,
              "solidity": 0.2
             }
            },
            "type": "barpolar"
           }
          ],
          "carpet": [
           {
            "aaxis": {
             "endlinecolor": "#2a3f5f",
             "gridcolor": "white",
             "linecolor": "white",
             "minorgridcolor": "white",
             "startlinecolor": "#2a3f5f"
            },
            "baxis": {
             "endlinecolor": "#2a3f5f",
             "gridcolor": "white",
             "linecolor": "white",
             "minorgridcolor": "white",
             "startlinecolor": "#2a3f5f"
            },
            "type": "carpet"
           }
          ],
          "choropleth": [
           {
            "colorbar": {
             "outlinewidth": 0,
             "ticks": ""
            },
            "type": "choropleth"
           }
          ],
          "contour": [
           {
            "colorbar": {
             "outlinewidth": 0,
             "ticks": ""
            },
            "colorscale": [
             [
              0,
              "#0d0887"
             ],
             [
              0.1111111111111111,
              "#46039f"
             ],
             [
              0.2222222222222222,
              "#7201a8"
             ],
             [
              0.3333333333333333,
              "#9c179e"
             ],
             [
              0.4444444444444444,
              "#bd3786"
             ],
             [
              0.5555555555555556,
              "#d8576b"
             ],
             [
              0.6666666666666666,
              "#ed7953"
             ],
             [
              0.7777777777777778,
              "#fb9f3a"
             ],
             [
              0.8888888888888888,
              "#fdca26"
             ],
             [
              1,
              "#f0f921"
             ]
            ],
            "type": "contour"
           }
          ],
          "contourcarpet": [
           {
            "colorbar": {
             "outlinewidth": 0,
             "ticks": ""
            },
            "type": "contourcarpet"
           }
          ],
          "heatmap": [
           {
            "colorbar": {
             "outlinewidth": 0,
             "ticks": ""
            },
            "colorscale": [
             [
              0,
              "#0d0887"
             ],
             [
              0.1111111111111111,
              "#46039f"
             ],
             [
              0.2222222222222222,
              "#7201a8"
             ],
             [
              0.3333333333333333,
              "#9c179e"
             ],
             [
              0.4444444444444444,
              "#bd3786"
             ],
             [
              0.5555555555555556,
              "#d8576b"
             ],
             [
              0.6666666666666666,
              "#ed7953"
             ],
             [
              0.7777777777777778,
              "#fb9f3a"
             ],
             [
              0.8888888888888888,
              "#fdca26"
             ],
             [
              1,
              "#f0f921"
             ]
            ],
            "type": "heatmap"
           }
          ],
          "heatmapgl": [
           {
            "colorbar": {
             "outlinewidth": 0,
             "ticks": ""
            },
            "colorscale": [
             [
              0,
              "#0d0887"
             ],
             [
              0.1111111111111111,
              "#46039f"
             ],
             [
              0.2222222222222222,
              "#7201a8"
             ],
             [
              0.3333333333333333,
              "#9c179e"
             ],
             [
              0.4444444444444444,
              "#bd3786"
             ],
             [
              0.5555555555555556,
              "#d8576b"
             ],
             [
              0.6666666666666666,
              "#ed7953"
             ],
             [
              0.7777777777777778,
              "#fb9f3a"
             ],
             [
              0.8888888888888888,
              "#fdca26"
             ],
             [
              1,
              "#f0f921"
             ]
            ],
            "type": "heatmapgl"
           }
          ],
          "histogram": [
           {
            "marker": {
             "pattern": {
              "fillmode": "overlay",
              "size": 10,
              "solidity": 0.2
             }
            },
            "type": "histogram"
           }
          ],
          "histogram2d": [
           {
            "colorbar": {
             "outlinewidth": 0,
             "ticks": ""
            },
            "colorscale": [
             [
              0,
              "#0d0887"
             ],
             [
              0.1111111111111111,
              "#46039f"
             ],
             [
              0.2222222222222222,
              "#7201a8"
             ],
             [
              0.3333333333333333,
              "#9c179e"
             ],
             [
              0.4444444444444444,
              "#bd3786"
             ],
             [
              0.5555555555555556,
              "#d8576b"
             ],
             [
              0.6666666666666666,
              "#ed7953"
             ],
             [
              0.7777777777777778,
              "#fb9f3a"
             ],
             [
              0.8888888888888888,
              "#fdca26"
             ],
             [
              1,
              "#f0f921"
             ]
            ],
            "type": "histogram2d"
           }
          ],
          "histogram2dcontour": [
           {
            "colorbar": {
             "outlinewidth": 0,
             "ticks": ""
            },
            "colorscale": [
             [
              0,
              "#0d0887"
             ],
             [
              0.1111111111111111,
              "#46039f"
             ],
             [
              0.2222222222222222,
              "#7201a8"
             ],
             [
              0.3333333333333333,
              "#9c179e"
             ],
             [
              0.4444444444444444,
              "#bd3786"
             ],
             [
              0.5555555555555556,
              "#d8576b"
             ],
             [
              0.6666666666666666,
              "#ed7953"
             ],
             [
              0.7777777777777778,
              "#fb9f3a"
             ],
             [
              0.8888888888888888,
              "#fdca26"
             ],
             [
              1,
              "#f0f921"
             ]
            ],
            "type": "histogram2dcontour"
           }
          ],
          "mesh3d": [
           {
            "colorbar": {
             "outlinewidth": 0,
             "ticks": ""
            },
            "type": "mesh3d"
           }
          ],
          "parcoords": [
           {
            "line": {
             "colorbar": {
              "outlinewidth": 0,
              "ticks": ""
             }
            },
            "type": "parcoords"
           }
          ],
          "pie": [
           {
            "automargin": true,
            "type": "pie"
           }
          ],
          "scatter": [
           {
            "marker": {
             "colorbar": {
              "outlinewidth": 0,
              "ticks": ""
             }
            },
            "type": "scatter"
           }
          ],
          "scatter3d": [
           {
            "line": {
             "colorbar": {
              "outlinewidth": 0,
              "ticks": ""
             }
            },
            "marker": {
             "colorbar": {
              "outlinewidth": 0,
              "ticks": ""
             }
            },
            "type": "scatter3d"
           }
          ],
          "scattercarpet": [
           {
            "marker": {
             "colorbar": {
              "outlinewidth": 0,
              "ticks": ""
             }
            },
            "type": "scattercarpet"
           }
          ],
          "scattergeo": [
           {
            "marker": {
             "colorbar": {
              "outlinewidth": 0,
              "ticks": ""
             }
            },
            "type": "scattergeo"
           }
          ],
          "scattergl": [
           {
            "marker": {
             "colorbar": {
              "outlinewidth": 0,
              "ticks": ""
             }
            },
            "type": "scattergl"
           }
          ],
          "scattermapbox": [
           {
            "marker": {
             "colorbar": {
              "outlinewidth": 0,
              "ticks": ""
             }
            },
            "type": "scattermapbox"
           }
          ],
          "scatterpolar": [
           {
            "marker": {
             "colorbar": {
              "outlinewidth": 0,
              "ticks": ""
             }
            },
            "type": "scatterpolar"
           }
          ],
          "scatterpolargl": [
           {
            "marker": {
             "colorbar": {
              "outlinewidth": 0,
              "ticks": ""
             }
            },
            "type": "scatterpolargl"
           }
          ],
          "scatterternary": [
           {
            "marker": {
             "colorbar": {
              "outlinewidth": 0,
              "ticks": ""
             }
            },
            "type": "scatterternary"
           }
          ],
          "surface": [
           {
            "colorbar": {
             "outlinewidth": 0,
             "ticks": ""
            },
            "colorscale": [
             [
              0,
              "#0d0887"
             ],
             [
              0.1111111111111111,
              "#46039f"
             ],
             [
              0.2222222222222222,
              "#7201a8"
             ],
             [
              0.3333333333333333,
              "#9c179e"
             ],
             [
              0.4444444444444444,
              "#bd3786"
             ],
             [
              0.5555555555555556,
              "#d8576b"
             ],
             [
              0.6666666666666666,
              "#ed7953"
             ],
             [
              0.7777777777777778,
              "#fb9f3a"
             ],
             [
              0.8888888888888888,
              "#fdca26"
             ],
             [
              1,
              "#f0f921"
             ]
            ],
            "type": "surface"
           }
          ],
          "table": [
           {
            "cells": {
             "fill": {
              "color": "#EBF0F8"
             },
             "line": {
              "color": "white"
             }
            },
            "header": {
             "fill": {
              "color": "#C8D4E3"
             },
             "line": {
              "color": "white"
             }
            },
            "type": "table"
           }
          ]
         },
         "layout": {
          "annotationdefaults": {
           "arrowcolor": "#2a3f5f",
           "arrowhead": 0,
           "arrowwidth": 1
          },
          "autotypenumbers": "strict",
          "coloraxis": {
           "colorbar": {
            "outlinewidth": 0,
            "ticks": ""
           }
          },
          "colorscale": {
           "diverging": [
            [
             0,
             "#8e0152"
            ],
            [
             0.1,
             "#c51b7d"
            ],
            [
             0.2,
             "#de77ae"
            ],
            [
             0.3,
             "#f1b6da"
            ],
            [
             0.4,
             "#fde0ef"
            ],
            [
             0.5,
             "#f7f7f7"
            ],
            [
             0.6,
             "#e6f5d0"
            ],
            [
             0.7,
             "#b8e186"
            ],
            [
             0.8,
             "#7fbc41"
            ],
            [
             0.9,
             "#4d9221"
            ],
            [
             1,
             "#276419"
            ]
           ],
           "sequential": [
            [
             0,
             "#0d0887"
            ],
            [
             0.1111111111111111,
             "#46039f"
            ],
            [
             0.2222222222222222,
             "#7201a8"
            ],
            [
             0.3333333333333333,
             "#9c179e"
            ],
            [
             0.4444444444444444,
             "#bd3786"
            ],
            [
             0.5555555555555556,
             "#d8576b"
            ],
            [
             0.6666666666666666,
             "#ed7953"
            ],
            [
             0.7777777777777778,
             "#fb9f3a"
            ],
            [
             0.8888888888888888,
             "#fdca26"
            ],
            [
             1,
             "#f0f921"
            ]
           ],
           "sequentialminus": [
            [
             0,
             "#0d0887"
            ],
            [
             0.1111111111111111,
             "#46039f"
            ],
            [
             0.2222222222222222,
             "#7201a8"
            ],
            [
             0.3333333333333333,
             "#9c179e"
            ],
            [
             0.4444444444444444,
             "#bd3786"
            ],
            [
             0.5555555555555556,
             "#d8576b"
            ],
            [
             0.6666666666666666,
             "#ed7953"
            ],
            [
             0.7777777777777778,
             "#fb9f3a"
            ],
            [
             0.8888888888888888,
             "#fdca26"
            ],
            [
             1,
             "#f0f921"
            ]
           ]
          },
          "colorway": [
           "#636efa",
           "#EF553B",
           "#00cc96",
           "#ab63fa",
           "#FFA15A",
           "#19d3f3",
           "#FF6692",
           "#B6E880",
           "#FF97FF",
           "#FECB52"
          ],
          "font": {
           "color": "#2a3f5f"
          },
          "geo": {
           "bgcolor": "white",
           "lakecolor": "white",
           "landcolor": "#E5ECF6",
           "showlakes": true,
           "showland": true,
           "subunitcolor": "white"
          },
          "hoverlabel": {
           "align": "left"
          },
          "hovermode": "closest",
          "mapbox": {
           "style": "light"
          },
          "paper_bgcolor": "white",
          "plot_bgcolor": "#E5ECF6",
          "polar": {
           "angularaxis": {
            "gridcolor": "white",
            "linecolor": "white",
            "ticks": ""
           },
           "bgcolor": "#E5ECF6",
           "radialaxis": {
            "gridcolor": "white",
            "linecolor": "white",
            "ticks": ""
           }
          },
          "scene": {
           "xaxis": {
            "backgroundcolor": "#E5ECF6",
            "gridcolor": "white",
            "gridwidth": 2,
            "linecolor": "white",
            "showbackground": true,
            "ticks": "",
            "zerolinecolor": "white"
           },
           "yaxis": {
            "backgroundcolor": "#E5ECF6",
            "gridcolor": "white",
            "gridwidth": 2,
            "linecolor": "white",
            "showbackground": true,
            "ticks": "",
            "zerolinecolor": "white"
           },
           "zaxis": {
            "backgroundcolor": "#E5ECF6",
            "gridcolor": "white",
            "gridwidth": 2,
            "linecolor": "white",
            "showbackground": true,
            "ticks": "",
            "zerolinecolor": "white"
           }
          },
          "shapedefaults": {
           "line": {
            "color": "#2a3f5f"
           }
          },
          "ternary": {
           "aaxis": {
            "gridcolor": "white",
            "linecolor": "white",
            "ticks": ""
           },
           "baxis": {
            "gridcolor": "white",
            "linecolor": "white",
            "ticks": ""
           },
           "bgcolor": "#E5ECF6",
           "caxis": {
            "gridcolor": "white",
            "linecolor": "white",
            "ticks": ""
           }
          },
          "title": {
           "x": 0.05
          },
          "xaxis": {
           "automargin": true,
           "gridcolor": "white",
           "linecolor": "white",
           "ticks": "",
           "title": {
            "standoff": 15
           },
           "zerolinecolor": "white",
           "zerolinewidth": 2
          },
          "yaxis": {
           "automargin": true,
           "gridcolor": "white",
           "linecolor": "white",
           "ticks": "",
           "title": {
            "standoff": 15
           },
           "zerolinecolor": "white",
           "zerolinewidth": 2
          }
         }
        },
        "xaxis": {
         "anchor": "y",
         "domain": [
          0,
          1
         ],
         "title": {
          "text": "year"
         }
        },
        "yaxis": {
         "anchor": "x",
         "domain": [
          0,
          1
         ],
         "title": {
          "text": "lifeExp"
         }
        }
       }
      },
      "text/html": [
       "<div>                            <div id=\"faca306b-9d6a-4a9b-8d39-f8d1a1e791a5\" class=\"plotly-graph-div\" style=\"height:525px; width:100%;\"></div>            <script type=\"text/javascript\">                require([\"plotly\"], function(Plotly) {                    window.PLOTLYENV=window.PLOTLYENV || {};                                    if (document.getElementById(\"faca306b-9d6a-4a9b-8d39-f8d1a1e791a5\")) {                    Plotly.newPlot(                        \"faca306b-9d6a-4a9b-8d39-f8d1a1e791a5\",                        [{\"hovertemplate\":\"year=%{x}<br>lifeExp=%{y}<extra></extra>\",\"legendgroup\":\"\",\"line\":{\"color\":\"#636efa\",\"dash\":\"solid\"},\"marker\":{\"symbol\":\"circle\"},\"mode\":\"lines\",\"name\":\"\",\"orientation\":\"v\",\"showlegend\":false,\"type\":\"scatter\",\"x\":[1952,1957,1962,1967,1972,1977,1982,1987,1992,1997,2002,2007],\"xaxis\":\"x\",\"y\":[72.67,73.44,73.47,74.08,74.34,75.37,75.97,75.89,77.32,78.32,79.05,80.196],\"yaxis\":\"y\"}],                        {\"legend\":{\"tracegroupgap\":0},\"margin\":{\"t\":60},\"template\":{\"data\":{\"bar\":[{\"error_x\":{\"color\":\"#2a3f5f\"},\"error_y\":{\"color\":\"#2a3f5f\"},\"marker\":{\"line\":{\"color\":\"#E5ECF6\",\"width\":0.5},\"pattern\":{\"fillmode\":\"overlay\",\"size\":10,\"solidity\":0.2}},\"type\":\"bar\"}],\"barpolar\":[{\"marker\":{\"line\":{\"color\":\"#E5ECF6\",\"width\":0.5},\"pattern\":{\"fillmode\":\"overlay\",\"size\":10,\"solidity\":0.2}},\"type\":\"barpolar\"}],\"carpet\":[{\"aaxis\":{\"endlinecolor\":\"#2a3f5f\",\"gridcolor\":\"white\",\"linecolor\":\"white\",\"minorgridcolor\":\"white\",\"startlinecolor\":\"#2a3f5f\"},\"baxis\":{\"endlinecolor\":\"#2a3f5f\",\"gridcolor\":\"white\",\"linecolor\":\"white\",\"minorgridcolor\":\"white\",\"startlinecolor\":\"#2a3f5f\"},\"type\":\"carpet\"}],\"choropleth\":[{\"colorbar\":{\"outlinewidth\":0,\"ticks\":\"\"},\"type\":\"choropleth\"}],\"contour\":[{\"colorbar\":{\"outlinewidth\":0,\"ticks\":\"\"},\"colorscale\":[[0.0,\"#0d0887\"],[0.1111111111111111,\"#46039f\"],[0.2222222222222222,\"#7201a8\"],[0.3333333333333333,\"#9c179e\"],[0.4444444444444444,\"#bd3786\"],[0.5555555555555556,\"#d8576b\"],[0.6666666666666666,\"#ed7953\"],[0.7777777777777778,\"#fb9f3a\"],[0.8888888888888888,\"#fdca26\"],[1.0,\"#f0f921\"]],\"type\":\"contour\"}],\"contourcarpet\":[{\"colorbar\":{\"outlinewidth\":0,\"ticks\":\"\"},\"type\":\"contourcarpet\"}],\"heatmap\":[{\"colorbar\":{\"outlinewidth\":0,\"ticks\":\"\"},\"colorscale\":[[0.0,\"#0d0887\"],[0.1111111111111111,\"#46039f\"],[0.2222222222222222,\"#7201a8\"],[0.3333333333333333,\"#9c179e\"],[0.4444444444444444,\"#bd3786\"],[0.5555555555555556,\"#d8576b\"],[0.6666666666666666,\"#ed7953\"],[0.7777777777777778,\"#fb9f3a\"],[0.8888888888888888,\"#fdca26\"],[1.0,\"#f0f921\"]],\"type\":\"heatmap\"}],\"heatmapgl\":[{\"colorbar\":{\"outlinewidth\":0,\"ticks\":\"\"},\"colorscale\":[[0.0,\"#0d0887\"],[0.1111111111111111,\"#46039f\"],[0.2222222222222222,\"#7201a8\"],[0.3333333333333333,\"#9c179e\"],[0.4444444444444444,\"#bd3786\"],[0.5555555555555556,\"#d8576b\"],[0.6666666666666666,\"#ed7953\"],[0.7777777777777778,\"#fb9f3a\"],[0.8888888888888888,\"#fdca26\"],[1.0,\"#f0f921\"]],\"type\":\"heatmapgl\"}],\"histogram\":[{\"marker\":{\"pattern\":{\"fillmode\":\"overlay\",\"size\":10,\"solidity\":0.2}},\"type\":\"histogram\"}],\"histogram2d\":[{\"colorbar\":{\"outlinewidth\":0,\"ticks\":\"\"},\"colorscale\":[[0.0,\"#0d0887\"],[0.1111111111111111,\"#46039f\"],[0.2222222222222222,\"#7201a8\"],[0.3333333333333333,\"#9c179e\"],[0.4444444444444444,\"#bd3786\"],[0.5555555555555556,\"#d8576b\"],[0.6666666666666666,\"#ed7953\"],[0.7777777777777778,\"#fb9f3a\"],[0.8888888888888888,\"#fdca26\"],[1.0,\"#f0f921\"]],\"type\":\"histogram2d\"}],\"histogram2dcontour\":[{\"colorbar\":{\"outlinewidth\":0,\"ticks\":\"\"},\"colorscale\":[[0.0,\"#0d0887\"],[0.1111111111111111,\"#46039f\"],[0.2222222222222222,\"#7201a8\"],[0.3333333333333333,\"#9c179e\"],[0.4444444444444444,\"#bd3786\"],[0.5555555555555556,\"#d8576b\"],[0.6666666666666666,\"#ed7953\"],[0.7777777777777778,\"#fb9f3a\"],[0.8888888888888888,\"#fdca26\"],[1.0,\"#f0f921\"]],\"type\":\"histogram2dcontour\"}],\"mesh3d\":[{\"colorbar\":{\"outlinewidth\":0,\"ticks\":\"\"},\"type\":\"mesh3d\"}],\"parcoords\":[{\"line\":{\"colorbar\":{\"outlinewidth\":0,\"ticks\":\"\"}},\"type\":\"parcoords\"}],\"pie\":[{\"automargin\":true,\"type\":\"pie\"}],\"scatter\":[{\"marker\":{\"colorbar\":{\"outlinewidth\":0,\"ticks\":\"\"}},\"type\":\"scatter\"}],\"scatter3d\":[{\"line\":{\"colorbar\":{\"outlinewidth\":0,\"ticks\":\"\"}},\"marker\":{\"colorbar\":{\"outlinewidth\":0,\"ticks\":\"\"}},\"type\":\"scatter3d\"}],\"scattercarpet\":[{\"marker\":{\"colorbar\":{\"outlinewidth\":0,\"ticks\":\"\"}},\"type\":\"scattercarpet\"}],\"scattergeo\":[{\"marker\":{\"colorbar\":{\"outlinewidth\":0,\"ticks\":\"\"}},\"type\":\"scattergeo\"}],\"scattergl\":[{\"marker\":{\"colorbar\":{\"outlinewidth\":0,\"ticks\":\"\"}},\"type\":\"scattergl\"}],\"scattermapbox\":[{\"marker\":{\"colorbar\":{\"outlinewidth\":0,\"ticks\":\"\"}},\"type\":\"scattermapbox\"}],\"scatterpolar\":[{\"marker\":{\"colorbar\":{\"outlinewidth\":0,\"ticks\":\"\"}},\"type\":\"scatterpolar\"}],\"scatterpolargl\":[{\"marker\":{\"colorbar\":{\"outlinewidth\":0,\"ticks\":\"\"}},\"type\":\"scatterpolargl\"}],\"scatterternary\":[{\"marker\":{\"colorbar\":{\"outlinewidth\":0,\"ticks\":\"\"}},\"type\":\"scatterternary\"}],\"surface\":[{\"colorbar\":{\"outlinewidth\":0,\"ticks\":\"\"},\"colorscale\":[[0.0,\"#0d0887\"],[0.1111111111111111,\"#46039f\"],[0.2222222222222222,\"#7201a8\"],[0.3333333333333333,\"#9c179e\"],[0.4444444444444444,\"#bd3786\"],[0.5555555555555556,\"#d8576b\"],[0.6666666666666666,\"#ed7953\"],[0.7777777777777778,\"#fb9f3a\"],[0.8888888888888888,\"#fdca26\"],[1.0,\"#f0f921\"]],\"type\":\"surface\"}],\"table\":[{\"cells\":{\"fill\":{\"color\":\"#EBF0F8\"},\"line\":{\"color\":\"white\"}},\"header\":{\"fill\":{\"color\":\"#C8D4E3\"},\"line\":{\"color\":\"white\"}},\"type\":\"table\"}]},\"layout\":{\"annotationdefaults\":{\"arrowcolor\":\"#2a3f5f\",\"arrowhead\":0,\"arrowwidth\":1},\"autotypenumbers\":\"strict\",\"coloraxis\":{\"colorbar\":{\"outlinewidth\":0,\"ticks\":\"\"}},\"colorscale\":{\"diverging\":[[0,\"#8e0152\"],[0.1,\"#c51b7d\"],[0.2,\"#de77ae\"],[0.3,\"#f1b6da\"],[0.4,\"#fde0ef\"],[0.5,\"#f7f7f7\"],[0.6,\"#e6f5d0\"],[0.7,\"#b8e186\"],[0.8,\"#7fbc41\"],[0.9,\"#4d9221\"],[1,\"#276419\"]],\"sequential\":[[0.0,\"#0d0887\"],[0.1111111111111111,\"#46039f\"],[0.2222222222222222,\"#7201a8\"],[0.3333333333333333,\"#9c179e\"],[0.4444444444444444,\"#bd3786\"],[0.5555555555555556,\"#d8576b\"],[0.6666666666666666,\"#ed7953\"],[0.7777777777777778,\"#fb9f3a\"],[0.8888888888888888,\"#fdca26\"],[1.0,\"#f0f921\"]],\"sequentialminus\":[[0.0,\"#0d0887\"],[0.1111111111111111,\"#46039f\"],[0.2222222222222222,\"#7201a8\"],[0.3333333333333333,\"#9c179e\"],[0.4444444444444444,\"#bd3786\"],[0.5555555555555556,\"#d8576b\"],[0.6666666666666666,\"#ed7953\"],[0.7777777777777778,\"#fb9f3a\"],[0.8888888888888888,\"#fdca26\"],[1.0,\"#f0f921\"]]},\"colorway\":[\"#636efa\",\"#EF553B\",\"#00cc96\",\"#ab63fa\",\"#FFA15A\",\"#19d3f3\",\"#FF6692\",\"#B6E880\",\"#FF97FF\",\"#FECB52\"],\"font\":{\"color\":\"#2a3f5f\"},\"geo\":{\"bgcolor\":\"white\",\"lakecolor\":\"white\",\"landcolor\":\"#E5ECF6\",\"showlakes\":true,\"showland\":true,\"subunitcolor\":\"white\"},\"hoverlabel\":{\"align\":\"left\"},\"hovermode\":\"closest\",\"mapbox\":{\"style\":\"light\"},\"paper_bgcolor\":\"white\",\"plot_bgcolor\":\"#E5ECF6\",\"polar\":{\"angularaxis\":{\"gridcolor\":\"white\",\"linecolor\":\"white\",\"ticks\":\"\"},\"bgcolor\":\"#E5ECF6\",\"radialaxis\":{\"gridcolor\":\"white\",\"linecolor\":\"white\",\"ticks\":\"\"}},\"scene\":{\"xaxis\":{\"backgroundcolor\":\"#E5ECF6\",\"gridcolor\":\"white\",\"gridwidth\":2,\"linecolor\":\"white\",\"showbackground\":true,\"ticks\":\"\",\"zerolinecolor\":\"white\"},\"yaxis\":{\"backgroundcolor\":\"#E5ECF6\",\"gridcolor\":\"white\",\"gridwidth\":2,\"linecolor\":\"white\",\"showbackground\":true,\"ticks\":\"\",\"zerolinecolor\":\"white\"},\"zaxis\":{\"backgroundcolor\":\"#E5ECF6\",\"gridcolor\":\"white\",\"gridwidth\":2,\"linecolor\":\"white\",\"showbackground\":true,\"ticks\":\"\",\"zerolinecolor\":\"white\"}},\"shapedefaults\":{\"line\":{\"color\":\"#2a3f5f\"}},\"ternary\":{\"aaxis\":{\"gridcolor\":\"white\",\"linecolor\":\"white\",\"ticks\":\"\"},\"baxis\":{\"gridcolor\":\"white\",\"linecolor\":\"white\",\"ticks\":\"\"},\"bgcolor\":\"#E5ECF6\",\"caxis\":{\"gridcolor\":\"white\",\"linecolor\":\"white\",\"ticks\":\"\"}},\"title\":{\"x\":0.05},\"xaxis\":{\"automargin\":true,\"gridcolor\":\"white\",\"linecolor\":\"white\",\"ticks\":\"\",\"title\":{\"standoff\":15},\"zerolinecolor\":\"white\",\"zerolinewidth\":2},\"yaxis\":{\"automargin\":true,\"gridcolor\":\"white\",\"linecolor\":\"white\",\"ticks\":\"\",\"title\":{\"standoff\":15},\"zerolinecolor\":\"white\",\"zerolinewidth\":2}}},\"xaxis\":{\"anchor\":\"y\",\"domain\":[0.0,1.0],\"title\":{\"text\":\"year\"}},\"yaxis\":{\"anchor\":\"x\",\"domain\":[0.0,1.0],\"title\":{\"text\":\"lifeExp\"}}},                        {\"responsive\": true}                    ).then(function(){\n",
       "                            \n",
       "var gd = document.getElementById('faca306b-9d6a-4a9b-8d39-f8d1a1e791a5');\n",
       "var x = new MutationObserver(function (mutations, observer) {{\n",
       "        var display = window.getComputedStyle(gd).display;\n",
       "        if (!display || display === 'none') {{\n",
       "            console.log([gd, 'removed!']);\n",
       "            Plotly.purge(gd);\n",
       "            observer.disconnect();\n",
       "        }}\n",
       "}});\n",
       "\n",
       "// Listen for the removal of the full notebook cells\n",
       "var notebookContainer = gd.closest('#notebook-container');\n",
       "if (notebookContainer) {{\n",
       "    x.observe(notebookContainer, {childList: true});\n",
       "}}\n",
       "\n",
       "// Listen for the clearing of the current output cell\n",
       "var outputEl = gd.closest('.output');\n",
       "if (outputEl) {{\n",
       "    x.observe(outputEl, {childList: true});\n",
       "}}\n",
       "\n",
       "                        })                };                });            </script>        </div>"
      ]
     },
     "metadata": {},
     "output_type": "display_data"
    }
   ],
   "source": [
    "fig = px.line(norway, x= \"year\", y = \"lifeExp\")\n",
    "fig.show()"
   ]
  },
  {
   "cell_type": "code",
   "execution_count": 37,
   "metadata": {},
   "outputs": [
    {
     "name": "stdout",
     "output_type": "stream",
     "text": [
      "Help on function scatter in module plotly.express._chart_types:\n",
      "\n",
      "scatter(data_frame=None, x=None, y=None, color=None, symbol=None, size=None, hover_name=None, hover_data=None, custom_data=None, text=None, facet_row=None, facet_col=None, facet_col_wrap=0, facet_row_spacing=None, facet_col_spacing=None, error_x=None, error_x_minus=None, error_y=None, error_y_minus=None, animation_frame=None, animation_group=None, category_orders=None, labels=None, orientation=None, color_discrete_sequence=None, color_discrete_map=None, color_continuous_scale=None, range_color=None, color_continuous_midpoint=None, symbol_sequence=None, symbol_map=None, opacity=None, size_max=None, marginal_x=None, marginal_y=None, trendline=None, trendline_options=None, trendline_color_override=None, trendline_scope='trace', log_x=False, log_y=False, range_x=None, range_y=None, render_mode='auto', title=None, template=None, width=None, height=None)\n",
      "        In a scatter plot, each row of `data_frame` is represented by a symbol\n",
      "        mark in 2D space.\n",
      "        \n",
      "    Parameters\n",
      "    ----------\n",
      "    data_frame: DataFrame or array-like or dict\n",
      "        This argument needs to be passed for column names (and not keyword\n",
      "        names) to be used. Array-like and dict are tranformed internally to a\n",
      "        pandas DataFrame. Optional: if missing, a DataFrame gets constructed\n",
      "        under the hood using the other arguments.\n",
      "    x: str or int or Series or array-like\n",
      "        Either a name of a column in `data_frame`, or a pandas Series or\n",
      "        array_like object. Values from this column or array_like are used to\n",
      "        position marks along the x axis in cartesian coordinates. Either `x` or\n",
      "        `y` can optionally be a list of column references or array_likes,  in\n",
      "        which case the data will be treated as if it were 'wide' rather than\n",
      "        'long'.\n",
      "    y: str or int or Series or array-like\n",
      "        Either a name of a column in `data_frame`, or a pandas Series or\n",
      "        array_like object. Values from this column or array_like are used to\n",
      "        position marks along the y axis in cartesian coordinates. Either `x` or\n",
      "        `y` can optionally be a list of column references or array_likes,  in\n",
      "        which case the data will be treated as if it were 'wide' rather than\n",
      "        'long'.\n",
      "    color: str or int or Series or array-like\n",
      "        Either a name of a column in `data_frame`, or a pandas Series or\n",
      "        array_like object. Values from this column or array_like are used to\n",
      "        assign color to marks.\n",
      "    symbol: str or int or Series or array-like\n",
      "        Either a name of a column in `data_frame`, or a pandas Series or\n",
      "        array_like object. Values from this column or array_like are used to\n",
      "        assign symbols to marks.\n",
      "    size: str or int or Series or array-like\n",
      "        Either a name of a column in `data_frame`, or a pandas Series or\n",
      "        array_like object. Values from this column or array_like are used to\n",
      "        assign mark sizes.\n",
      "    hover_name: str or int or Series or array-like\n",
      "        Either a name of a column in `data_frame`, or a pandas Series or\n",
      "        array_like object. Values from this column or array_like appear in bold\n",
      "        in the hover tooltip.\n",
      "    hover_data: list of str or int, or Series or array-like, or dict\n",
      "        Either a list of names of columns in `data_frame`, or pandas Series, or\n",
      "        array_like objects or a dict with column names as keys, with values\n",
      "        True (for default formatting) False (in order to remove this column\n",
      "        from hover information), or a formatting string, for example ':.3f' or\n",
      "        '|%a' or list-like data to appear in the hover tooltip or tuples with a\n",
      "        bool or formatting string as first element, and list-like data to\n",
      "        appear in hover as second element Values from these columns appear as\n",
      "        extra data in the hover tooltip.\n",
      "    custom_data: list of str or int, or Series or array-like\n",
      "        Either names of columns in `data_frame`, or pandas Series, or\n",
      "        array_like objects Values from these columns are extra data, to be used\n",
      "        in widgets or Dash callbacks for example. This data is not user-visible\n",
      "        but is included in events emitted by the figure (lasso selection etc.)\n",
      "    text: str or int or Series or array-like\n",
      "        Either a name of a column in `data_frame`, or a pandas Series or\n",
      "        array_like object. Values from this column or array_like appear in the\n",
      "        figure as text labels.\n",
      "    facet_row: str or int or Series or array-like\n",
      "        Either a name of a column in `data_frame`, or a pandas Series or\n",
      "        array_like object. Values from this column or array_like are used to\n",
      "        assign marks to facetted subplots in the vertical direction.\n",
      "    facet_col: str or int or Series or array-like\n",
      "        Either a name of a column in `data_frame`, or a pandas Series or\n",
      "        array_like object. Values from this column or array_like are used to\n",
      "        assign marks to facetted subplots in the horizontal direction.\n",
      "    facet_col_wrap: int\n",
      "        Maximum number of facet columns. Wraps the column variable at this\n",
      "        width, so that the column facets span multiple rows. Ignored if 0, and\n",
      "        forced to 0 if `facet_row` or a `marginal` is set.\n",
      "    facet_row_spacing: float between 0 and 1\n",
      "        Spacing between facet rows, in paper units. Default is 0.03 or 0.0.7\n",
      "        when facet_col_wrap is used.\n",
      "    facet_col_spacing: float between 0 and 1\n",
      "        Spacing between facet columns, in paper units Default is 0.02.\n",
      "    error_x: str or int or Series or array-like\n",
      "        Either a name of a column in `data_frame`, or a pandas Series or\n",
      "        array_like object. Values from this column or array_like are used to\n",
      "        size x-axis error bars. If `error_x_minus` is `None`, error bars will\n",
      "        be symmetrical, otherwise `error_x` is used for the positive direction\n",
      "        only.\n",
      "    error_x_minus: str or int or Series or array-like\n",
      "        Either a name of a column in `data_frame`, or a pandas Series or\n",
      "        array_like object. Values from this column or array_like are used to\n",
      "        size x-axis error bars in the negative direction. Ignored if `error_x`\n",
      "        is `None`.\n",
      "    error_y: str or int or Series or array-like\n",
      "        Either a name of a column in `data_frame`, or a pandas Series or\n",
      "        array_like object. Values from this column or array_like are used to\n",
      "        size y-axis error bars. If `error_y_minus` is `None`, error bars will\n",
      "        be symmetrical, otherwise `error_y` is used for the positive direction\n",
      "        only.\n",
      "    error_y_minus: str or int or Series or array-like\n",
      "        Either a name of a column in `data_frame`, or a pandas Series or\n",
      "        array_like object. Values from this column or array_like are used to\n",
      "        size y-axis error bars in the negative direction. Ignored if `error_y`\n",
      "        is `None`.\n",
      "    animation_frame: str or int or Series or array-like\n",
      "        Either a name of a column in `data_frame`, or a pandas Series or\n",
      "        array_like object. Values from this column or array_like are used to\n",
      "        assign marks to animation frames.\n",
      "    animation_group: str or int or Series or array-like\n",
      "        Either a name of a column in `data_frame`, or a pandas Series or\n",
      "        array_like object. Values from this column or array_like are used to\n",
      "        provide object-constancy across animation frames: rows with matching\n",
      "        `animation_group`s will be treated as if they describe the same object\n",
      "        in each frame.\n",
      "    category_orders: dict with str keys and list of str values (default `{}`)\n",
      "        By default, in Python 3.6+, the order of categorical values in axes,\n",
      "        legends and facets depends on the order in which these values are first\n",
      "        encountered in `data_frame` (and no order is guaranteed by default in\n",
      "        Python below 3.6). This parameter is used to force a specific ordering\n",
      "        of values per column. The keys of this dict should correspond to column\n",
      "        names, and the values should be lists of strings corresponding to the\n",
      "        specific display order desired.\n",
      "    labels: dict with str keys and str values (default `{}`)\n",
      "        By default, column names are used in the figure for axis titles, legend\n",
      "        entries and hovers. This parameter allows this to be overridden. The\n",
      "        keys of this dict should correspond to column names, and the values\n",
      "        should correspond to the desired label to be displayed.\n",
      "    orientation: str, one of `'h'` for horizontal or `'v'` for vertical. \n",
      "        (default `'v'` if `x` and `y` are provided and both continous or both\n",
      "        categorical,  otherwise `'v'`(`'h'`) if `x`(`y`) is categorical and\n",
      "        `y`(`x`) is continuous,  otherwise `'v'`(`'h'`) if only `x`(`y`) is\n",
      "        provided)\n",
      "    color_discrete_sequence: list of str\n",
      "        Strings should define valid CSS-colors. When `color` is set and the\n",
      "        values in the corresponding column are not numeric, values in that\n",
      "        column are assigned colors by cycling through `color_discrete_sequence`\n",
      "        in the order described in `category_orders`, unless the value of\n",
      "        `color` is a key in `color_discrete_map`. Various useful color\n",
      "        sequences are available in the `plotly.express.colors` submodules,\n",
      "        specifically `plotly.express.colors.qualitative`.\n",
      "    color_discrete_map: dict with str keys and str values (default `{}`)\n",
      "        String values should define valid CSS-colors Used to override\n",
      "        `color_discrete_sequence` to assign a specific colors to marks\n",
      "        corresponding with specific values. Keys in `color_discrete_map` should\n",
      "        be values in the column denoted by `color`. Alternatively, if the\n",
      "        values of `color` are valid colors, the string `'identity'` may be\n",
      "        passed to cause them to be used directly.\n",
      "    color_continuous_scale: list of str\n",
      "        Strings should define valid CSS-colors This list is used to build a\n",
      "        continuous color scale when the column denoted by `color` contains\n",
      "        numeric data. Various useful color scales are available in the\n",
      "        `plotly.express.colors` submodules, specifically\n",
      "        `plotly.express.colors.sequential`, `plotly.express.colors.diverging`\n",
      "        and `plotly.express.colors.cyclical`.\n",
      "    range_color: list of two numbers\n",
      "        If provided, overrides auto-scaling on the continuous color scale.\n",
      "    color_continuous_midpoint: number (default `None`)\n",
      "        If set, computes the bounds of the continuous color scale to have the\n",
      "        desired midpoint. Setting this value is recommended when using\n",
      "        `plotly.express.colors.diverging` color scales as the inputs to\n",
      "        `color_continuous_scale`.\n",
      "    symbol_sequence: list of str\n",
      "        Strings should define valid plotly.js symbols. When `symbol` is set,\n",
      "        values in that column are assigned symbols by cycling through\n",
      "        `symbol_sequence` in the order described in `category_orders`, unless\n",
      "        the value of `symbol` is a key in `symbol_map`.\n",
      "    symbol_map: dict with str keys and str values (default `{}`)\n",
      "        String values should define plotly.js symbols Used to override\n",
      "        `symbol_sequence` to assign a specific symbols to marks corresponding\n",
      "        with specific values. Keys in `symbol_map` should be values in the\n",
      "        column denoted by `symbol`. Alternatively, if the values of `symbol`\n",
      "        are valid symbol names, the string `'identity'` may be passed to cause\n",
      "        them to be used directly.\n",
      "    opacity: float\n",
      "        Value between 0 and 1. Sets the opacity for markers.\n",
      "    size_max: int (default `20`)\n",
      "        Set the maximum mark size when using `size`.\n",
      "    marginal_x: str\n",
      "        One of `'rug'`, `'box'`, `'violin'`, or `'histogram'`. If set, a\n",
      "        horizontal subplot is drawn above the main plot, visualizing the\n",
      "        x-distribution.\n",
      "    marginal_y: str\n",
      "        One of `'rug'`, `'box'`, `'violin'`, or `'histogram'`. If set, a\n",
      "        vertical subplot is drawn to the right of the main plot, visualizing\n",
      "        the y-distribution.\n",
      "    trendline: str\n",
      "        One of `'ols'`, `'lowess'`, `'rolling'`, `'expanding'` or `'ewm'`. If\n",
      "        `'ols'`, an Ordinary Least Squares regression line will be drawn for\n",
      "        each discrete-color/symbol group. If `'lowess`', a Locally Weighted\n",
      "        Scatterplot Smoothing line will be drawn for each discrete-color/symbol\n",
      "        group. If `'rolling`', a Rolling (e.g. rolling average, rolling median)\n",
      "        line will be drawn for each discrete-color/symbol group. If\n",
      "        `'expanding`', an Expanding (e.g. expanding average, expanding sum)\n",
      "        line will be drawn for each discrete-color/symbol group. If `'ewm`', an\n",
      "        Exponentially Weighted Moment (e.g. exponentially-weighted moving\n",
      "        average) line will be drawn for each discrete-color/symbol group. See\n",
      "        the docstrings for the functions in\n",
      "        `plotly.express.trendline_functions` for more details on these\n",
      "        functions and how to configure them with the `trendline_options`\n",
      "        argument.\n",
      "    trendline_options: dict\n",
      "        Options passed as the first argument to the function from\n",
      "        `plotly.express.trendline_functions`  named in the `trendline`\n",
      "        argument.\n",
      "    trendline_color_override: str\n",
      "        Valid CSS color. If provided, and if `trendline` is set, all trendlines\n",
      "        will be drawn in this color rather than in the same color as the traces\n",
      "        from which they draw their inputs.\n",
      "    trendline_scope: str (one of `'trace'` or `'overall'`, default `'trace'`)\n",
      "        If `'trace'`, then one trendline is drawn per trace (i.e. per color,\n",
      "        symbol, facet, animation frame etc) and if `'overall'` then one\n",
      "        trendline is computed for the entire dataset, and replicated across all\n",
      "        facets.\n",
      "    log_x: boolean (default `False`)\n",
      "        If `True`, the x-axis is log-scaled in cartesian coordinates.\n",
      "    log_y: boolean (default `False`)\n",
      "        If `True`, the y-axis is log-scaled in cartesian coordinates.\n",
      "    range_x: list of two numbers\n",
      "        If provided, overrides auto-scaling on the x-axis in cartesian\n",
      "        coordinates.\n",
      "    range_y: list of two numbers\n",
      "        If provided, overrides auto-scaling on the y-axis in cartesian\n",
      "        coordinates.\n",
      "    render_mode: str\n",
      "        One of `'auto'`, `'svg'` or `'webgl'`, default `'auto'` Controls the\n",
      "        browser API used to draw marks. `'svg`' is appropriate for figures of\n",
      "        less than 1000 data points, and will allow for fully-vectorized output.\n",
      "        `'webgl'` is likely necessary for acceptable performance above 1000\n",
      "        points but rasterizes part of the output.  `'auto'` uses heuristics to\n",
      "        choose the mode.\n",
      "    title: str\n",
      "        The figure title.\n",
      "    template: str or dict or plotly.graph_objects.layout.Template instance\n",
      "        The figure template name (must be a key in plotly.io.templates) or\n",
      "        definition.\n",
      "    width: int (default `None`)\n",
      "        The figure width in pixels.\n",
      "    height: int (default `None`)\n",
      "        The figure height in pixels.\n",
      "    \n",
      "    Returns\n",
      "    -------\n",
      "        plotly.graph_objects.Figure\n",
      "\n"
     ]
    }
   ],
   "source": [
    "help(px.scatter)"
   ]
  },
  {
   "cell_type": "code",
   "execution_count": 39,
   "metadata": {},
   "outputs": [
    {
     "data": {
      "application/vnd.plotly.v1+json": {
       "config": {
        "plotlyServerURL": "https://plot.ly"
       },
       "data": [
        {
         "hovertemplate": "<b>%{hovertext}</b><br><br>continent=Asia<br>year=1952<br>gdpPercap=%{x}<br>lifeExp=%{y}<br>pop=%{marker.size}<extra></extra>",
         "hovertext": [
          "Afghanistan",
          "Bahrain",
          "Bangladesh",
          "Cambodia",
          "China",
          "Hong Kong, China",
          "India",
          "Indonesia",
          "Iran",
          "Iraq",
          "Israel",
          "Japan",
          "Jordan",
          "Korea, Dem. Rep.",
          "Korea, Rep.",
          "Kuwait",
          "Lebanon",
          "Malaysia",
          "Mongolia",
          "Myanmar",
          "Nepal",
          "Oman",
          "Pakistan",
          "Philippines",
          "Saudi Arabia",
          "Singapore",
          "Sri Lanka",
          "Syria",
          "Taiwan",
          "Thailand",
          "Vietnam",
          "West Bank and Gaza",
          "Yemen, Rep."
         ],
         "legendgroup": "Asia",
         "marker": {
          "color": "#636efa",
          "size": [
           8425333,
           120447,
           46886859,
           4693836,
           556263527,
           2125900,
           372000000,
           82052000,
           17272000,
           5441766,
           1620914,
           86459025,
           607914,
           8865488,
           20947571,
           160000,
           1439529,
           6748378,
           800663,
           20092996,
           9182536,
           507833,
           41346560,
           22438691,
           4005677,
           1127000,
           7982342,
           3661549,
           8550362,
           21289402,
           26246839,
           1030585,
           4963829
          ],
          "sizemode": "area",
          "sizeref": 366300.86,
          "symbol": "circle"
         },
         "mode": "markers",
         "name": "Asia",
         "orientation": "v",
         "showlegend": true,
         "type": "scatter",
         "x": [
          779.4453145,
          9867.084765000001,
          684.2441716,
          368.46928560000003,
          400.44861099999997,
          3054.421209,
          546.5657493,
          749.6816546,
          3035.326002,
          4129.766056,
          4086.522128,
          3216.956347,
          1546.907807,
          1088.277758,
          1030.592226,
          108382.3529,
          4834.804067,
          1831.132894,
          786.5668575,
          331,
          545.8657228999998,
          1828.230307,
          684.5971437999998,
          1272.880995,
          6459.5548229999995,
          2315.138227,
          1083.53203,
          1643.485354,
          1206.947913,
          757.7974177,
          605.0664917,
          1515.5923289999994,
          781.7175761
         ],
         "xaxis": "x",
         "y": [
          28.801,
          50.93899999999999,
          37.484,
          39.417,
          44,
          60.96,
          37.37300000000001,
          37.468,
          44.869,
          45.32,
          65.39,
          63.03,
          43.158,
          50.056000000000004,
          47.453,
          55.565,
          55.928000000000004,
          48.463,
          42.244,
          36.319,
          36.157,
          37.578,
          43.43600000000001,
          47.751999999999995,
          39.875,
          60.396,
          57.593,
          45.883,
          58.5,
          50.848,
          40.412,
          43.16,
          32.548
         ],
         "yaxis": "y"
        },
        {
         "hovertemplate": "<b>%{hovertext}</b><br><br>continent=Europe<br>year=1952<br>gdpPercap=%{x}<br>lifeExp=%{y}<br>pop=%{marker.size}<extra></extra>",
         "hovertext": [
          "Albania",
          "Austria",
          "Belgium",
          "Bosnia and Herzegovina",
          "Bulgaria",
          "Croatia",
          "Czech Republic",
          "Denmark",
          "Finland",
          "France",
          "Germany",
          "Greece",
          "Hungary",
          "Iceland",
          "Ireland",
          "Italy",
          "Montenegro",
          "Netherlands",
          "Norway",
          "Poland",
          "Portugal",
          "Romania",
          "Serbia",
          "Slovak Republic",
          "Slovenia",
          "Spain",
          "Sweden",
          "Switzerland",
          "Turkey",
          "United Kingdom"
         ],
         "legendgroup": "Europe",
         "marker": {
          "color": "#EF553B",
          "size": [
           1282697,
           6927772,
           8730405,
           2791000,
           7274900,
           3882229,
           9125183,
           4334000,
           4090500,
           42459667,
           69145952,
           7733250,
           9504000,
           147962,
           2952156,
           47666000,
           413834,
           10381988,
           3327728,
           25730551,
           8526050,
           16630000,
           6860147,
           3558137,
           1489518,
           28549870,
           7124673,
           4815000,
           22235677,
           50430000
          ],
          "sizemode": "area",
          "sizeref": 366300.86,
          "symbol": "circle"
         },
         "mode": "markers",
         "name": "Europe",
         "orientation": "v",
         "showlegend": true,
         "type": "scatter",
         "x": [
          1601.056136,
          6137.076492,
          8343.105126999999,
          973.5331947999999,
          2444.2866480000002,
          3119.23652,
          6876.14025,
          9692.385245,
          6424.519071,
          7029.809327,
          7144.114393000003,
          3530.690067,
          5263.6738159999995,
          7267.688428,
          5210.280328,
          4931.404154999998,
          2647.585601,
          8941.571858,
          10095.42172,
          4029.3296990000003,
          3068.319867,
          3144.613186,
          3581.4594479999996,
          5074.659104,
          4215.041741,
          3834.0347420000003,
          8527.844662000001,
          14734.23275,
          1969.1009800000002,
          9979.508487000001
         ],
         "xaxis": "x",
         "y": [
          55.23,
          66.8,
          68,
          53.82,
          59.6,
          61.21,
          66.87,
          70.78,
          66.55,
          67.41,
          67.5,
          65.86,
          64.03,
          72.49,
          66.91,
          65.94,
          59.163999999999994,
          72.13,
          72.67,
          61.31,
          59.82,
          61.05,
          57.996,
          64.36,
          65.57,
          64.94,
          71.86,
          69.62,
          43.585,
          69.18
         ],
         "yaxis": "y"
        },
        {
         "hovertemplate": "<b>%{hovertext}</b><br><br>continent=Africa<br>year=1952<br>gdpPercap=%{x}<br>lifeExp=%{y}<br>pop=%{marker.size}<extra></extra>",
         "hovertext": [
          "Algeria",
          "Angola",
          "Benin",
          "Botswana",
          "Burkina Faso",
          "Burundi",
          "Cameroon",
          "Central African Republic",
          "Chad",
          "Comoros",
          "Congo, Dem. Rep.",
          "Congo, Rep.",
          "Cote d'Ivoire",
          "Djibouti",
          "Egypt",
          "Equatorial Guinea",
          "Eritrea",
          "Ethiopia",
          "Gabon",
          "Gambia",
          "Ghana",
          "Guinea",
          "Guinea-Bissau",
          "Kenya",
          "Lesotho",
          "Liberia",
          "Libya",
          "Madagascar",
          "Malawi",
          "Mali",
          "Mauritania",
          "Mauritius",
          "Morocco",
          "Mozambique",
          "Namibia",
          "Niger",
          "Nigeria",
          "Reunion",
          "Rwanda",
          "Sao Tome and Principe",
          "Senegal",
          "Sierra Leone",
          "Somalia",
          "South Africa",
          "Sudan",
          "Swaziland",
          "Tanzania",
          "Togo",
          "Tunisia",
          "Uganda",
          "Zambia",
          "Zimbabwe"
         ],
         "legendgroup": "Africa",
         "marker": {
          "color": "#00cc96",
          "size": [
           9279525,
           4232095,
           1738315,
           442308,
           4469979,
           2445618,
           5009067,
           1291695,
           2682462,
           153936,
           14100005,
           854885,
           2977019,
           63149,
           22223309,
           216964,
           1438760,
           20860941,
           420702,
           284320,
           5581001,
           2664249,
           580653,
           6464046,
           748747,
           863308,
           1019729,
           4762912,
           2917802,
           3838168,
           1022556,
           516556,
           9939217,
           6446316,
           485831,
           3379468,
           33119096,
           257700,
           2534927,
           60011,
           2755589,
           2143249,
           2526994,
           14264935,
           8504667,
           290243,
           8322925,
           1219113,
           3647735,
           5824797,
           2672000,
           3080907
          ],
          "sizemode": "area",
          "sizeref": 366300.86,
          "symbol": "circle"
         },
         "mode": "markers",
         "name": "Africa",
         "orientation": "v",
         "showlegend": true,
         "type": "scatter",
         "x": [
          2449.008185,
          3520.610273,
          1062.7522,
          851.2411407,
          543.2552413,
          339.29645869999996,
          1172.667655,
          1071.310713,
          1178.665927,
          1102.990936,
          780.5423257,
          2125.621418,
          1388.594732,
          2669.529475,
          1418.822445,
          375.6431231,
          328.9405571000001,
          362.1462796,
          4293.476475,
          485.2306591,
          911.2989371,
          510.19649230000016,
          299.850319,
          853.5409189999997,
          298.8462121,
          575.5729961000002,
          2387.54806,
          1443.011715,
          369.1650802,
          452.3369807,
          743.1159097,
          1967.955707,
          1688.20357,
          468.5260381,
          2423.780443,
          761.879376,
          1077.281856,
          2718.885295,
          493.32387520000003,
          879.5835855,
          1450.356983,
          879.7877358,
          1135.749842,
          4725.295531000002,
          1615.991129,
          1148.376626,
          716.6500721,
          859.8086567,
          1468.475631,
          734.753484,
          1147.388831,
          406.8841148
         ],
         "xaxis": "x",
         "y": [
          43.077,
          30.015,
          38.223,
          47.622,
          31.975,
          39.031,
          38.523,
          35.463,
          38.092,
          40.715,
          39.143,
          42.111000000000004,
          40.477,
          34.812,
          41.893,
          34.482,
          35.92800000000001,
          34.078,
          37.003,
          30,
          43.148999999999994,
          33.609,
          32.5,
          42.27,
          42.13800000000001,
          38.48,
          42.723,
          36.681,
          36.256,
          33.685,
          40.543,
          50.986000000000004,
          42.87300000000001,
          31.285999999999998,
          41.725,
          37.444,
          36.324,
          52.724,
          40,
          46.471000000000004,
          37.278,
          30.331,
          32.978,
          45.00899999999999,
          38.635,
          41.407,
          41.215,
          38.596,
          44.6,
          39.978,
          42.038000000000004,
          48.451
         ],
         "yaxis": "y"
        },
        {
         "hovertemplate": "<b>%{hovertext}</b><br><br>continent=Americas<br>year=1952<br>gdpPercap=%{x}<br>lifeExp=%{y}<br>pop=%{marker.size}<extra></extra>",
         "hovertext": [
          "Argentina",
          "Bolivia",
          "Brazil",
          "Canada",
          "Chile",
          "Colombia",
          "Costa Rica",
          "Cuba",
          "Dominican Republic",
          "Ecuador",
          "El Salvador",
          "Guatemala",
          "Haiti",
          "Honduras",
          "Jamaica",
          "Mexico",
          "Nicaragua",
          "Panama",
          "Paraguay",
          "Peru",
          "Puerto Rico",
          "Trinidad and Tobago",
          "United States",
          "Uruguay",
          "Venezuela"
         ],
         "legendgroup": "Americas",
         "marker": {
          "color": "#ab63fa",
          "size": [
           17876956,
           2883315,
           56602560,
           14785584,
           6377619,
           12350771,
           926317,
           6007797,
           2491346,
           3548753,
           2042865,
           3146381,
           3201488,
           1517453,
           1426095,
           30144317,
           1165790,
           940080,
           1555876,
           8025700,
           2227000,
           662850,
           157553000,
           2252965,
           5439568
          ],
          "sizemode": "area",
          "sizeref": 366300.86,
          "symbol": "circle"
         },
         "mode": "markers",
         "name": "Americas",
         "orientation": "v",
         "showlegend": true,
         "type": "scatter",
         "x": [
          5911.315053,
          2677.3263469999997,
          2108.944355,
          11367.16112,
          3939.9787890000002,
          2144.115096,
          2627.0094710000008,
          5586.53878,
          1397.7171369999999,
          3522.110717,
          3048.3029,
          2428.2377690000008,
          1840.366939,
          2194.926204,
          2898.5308809999997,
          3478.125529,
          3112.363948,
          2480.380334,
          1952.3087010000002,
          3758.523437,
          3081.959785,
          3023.271928,
          13990.482080000002,
          5716.766744,
          7689.799761
         ],
         "xaxis": "x",
         "y": [
          62.485,
          40.414,
          50.917,
          68.75,
          54.745,
          50.643,
          57.206,
          59.42100000000001,
          45.928000000000004,
          48.357,
          45.262,
          42.023,
          37.579,
          41.912,
          58.53,
          50.788999999999994,
          42.31399999999999,
          55.191,
          62.648999999999994,
          43.902,
          64.28,
          59.1,
          68.44,
          66.071,
          55.088
         ],
         "yaxis": "y"
        },
        {
         "hovertemplate": "<b>%{hovertext}</b><br><br>continent=Oceania<br>year=1952<br>gdpPercap=%{x}<br>lifeExp=%{y}<br>pop=%{marker.size}<extra></extra>",
         "hovertext": [
          "Australia",
          "New Zealand"
         ],
         "legendgroup": "Oceania",
         "marker": {
          "color": "#FFA15A",
          "size": [
           8691212,
           1994794
          ],
          "sizemode": "area",
          "sizeref": 366300.86,
          "symbol": "circle"
         },
         "mode": "markers",
         "name": "Oceania",
         "orientation": "v",
         "showlegend": true,
         "type": "scatter",
         "x": [
          10039.595640000001,
          10556.575659999999
         ],
         "xaxis": "x",
         "y": [
          69.12,
          69.39
         ],
         "yaxis": "y"
        }
       ],
       "frames": [
        {
         "data": [
          {
           "hovertemplate": "<b>%{hovertext}</b><br><br>continent=Asia<br>year=1952<br>gdpPercap=%{x}<br>lifeExp=%{y}<br>pop=%{marker.size}<extra></extra>",
           "hovertext": [
            "Afghanistan",
            "Bahrain",
            "Bangladesh",
            "Cambodia",
            "China",
            "Hong Kong, China",
            "India",
            "Indonesia",
            "Iran",
            "Iraq",
            "Israel",
            "Japan",
            "Jordan",
            "Korea, Dem. Rep.",
            "Korea, Rep.",
            "Kuwait",
            "Lebanon",
            "Malaysia",
            "Mongolia",
            "Myanmar",
            "Nepal",
            "Oman",
            "Pakistan",
            "Philippines",
            "Saudi Arabia",
            "Singapore",
            "Sri Lanka",
            "Syria",
            "Taiwan",
            "Thailand",
            "Vietnam",
            "West Bank and Gaza",
            "Yemen, Rep."
           ],
           "legendgroup": "Asia",
           "marker": {
            "color": "#636efa",
            "size": [
             8425333,
             120447,
             46886859,
             4693836,
             556263527,
             2125900,
             372000000,
             82052000,
             17272000,
             5441766,
             1620914,
             86459025,
             607914,
             8865488,
             20947571,
             160000,
             1439529,
             6748378,
             800663,
             20092996,
             9182536,
             507833,
             41346560,
             22438691,
             4005677,
             1127000,
             7982342,
             3661549,
             8550362,
             21289402,
             26246839,
             1030585,
             4963829
            ],
            "sizemode": "area",
            "sizeref": 366300.86,
            "symbol": "circle"
           },
           "mode": "markers",
           "name": "Asia",
           "orientation": "v",
           "showlegend": true,
           "type": "scatter",
           "x": [
            779.4453145,
            9867.084765000001,
            684.2441716,
            368.46928560000003,
            400.44861099999997,
            3054.421209,
            546.5657493,
            749.6816546,
            3035.326002,
            4129.766056,
            4086.522128,
            3216.956347,
            1546.907807,
            1088.277758,
            1030.592226,
            108382.3529,
            4834.804067,
            1831.132894,
            786.5668575,
            331,
            545.8657228999998,
            1828.230307,
            684.5971437999998,
            1272.880995,
            6459.5548229999995,
            2315.138227,
            1083.53203,
            1643.485354,
            1206.947913,
            757.7974177,
            605.0664917,
            1515.5923289999994,
            781.7175761
           ],
           "xaxis": "x",
           "y": [
            28.801,
            50.93899999999999,
            37.484,
            39.417,
            44,
            60.96,
            37.37300000000001,
            37.468,
            44.869,
            45.32,
            65.39,
            63.03,
            43.158,
            50.056000000000004,
            47.453,
            55.565,
            55.928000000000004,
            48.463,
            42.244,
            36.319,
            36.157,
            37.578,
            43.43600000000001,
            47.751999999999995,
            39.875,
            60.396,
            57.593,
            45.883,
            58.5,
            50.848,
            40.412,
            43.16,
            32.548
           ],
           "yaxis": "y"
          },
          {
           "hovertemplate": "<b>%{hovertext}</b><br><br>continent=Europe<br>year=1952<br>gdpPercap=%{x}<br>lifeExp=%{y}<br>pop=%{marker.size}<extra></extra>",
           "hovertext": [
            "Albania",
            "Austria",
            "Belgium",
            "Bosnia and Herzegovina",
            "Bulgaria",
            "Croatia",
            "Czech Republic",
            "Denmark",
            "Finland",
            "France",
            "Germany",
            "Greece",
            "Hungary",
            "Iceland",
            "Ireland",
            "Italy",
            "Montenegro",
            "Netherlands",
            "Norway",
            "Poland",
            "Portugal",
            "Romania",
            "Serbia",
            "Slovak Republic",
            "Slovenia",
            "Spain",
            "Sweden",
            "Switzerland",
            "Turkey",
            "United Kingdom"
           ],
           "legendgroup": "Europe",
           "marker": {
            "color": "#EF553B",
            "size": [
             1282697,
             6927772,
             8730405,
             2791000,
             7274900,
             3882229,
             9125183,
             4334000,
             4090500,
             42459667,
             69145952,
             7733250,
             9504000,
             147962,
             2952156,
             47666000,
             413834,
             10381988,
             3327728,
             25730551,
             8526050,
             16630000,
             6860147,
             3558137,
             1489518,
             28549870,
             7124673,
             4815000,
             22235677,
             50430000
            ],
            "sizemode": "area",
            "sizeref": 366300.86,
            "symbol": "circle"
           },
           "mode": "markers",
           "name": "Europe",
           "orientation": "v",
           "showlegend": true,
           "type": "scatter",
           "x": [
            1601.056136,
            6137.076492,
            8343.105126999999,
            973.5331947999999,
            2444.2866480000002,
            3119.23652,
            6876.14025,
            9692.385245,
            6424.519071,
            7029.809327,
            7144.114393000003,
            3530.690067,
            5263.6738159999995,
            7267.688428,
            5210.280328,
            4931.404154999998,
            2647.585601,
            8941.571858,
            10095.42172,
            4029.3296990000003,
            3068.319867,
            3144.613186,
            3581.4594479999996,
            5074.659104,
            4215.041741,
            3834.0347420000003,
            8527.844662000001,
            14734.23275,
            1969.1009800000002,
            9979.508487000001
           ],
           "xaxis": "x",
           "y": [
            55.23,
            66.8,
            68,
            53.82,
            59.6,
            61.21,
            66.87,
            70.78,
            66.55,
            67.41,
            67.5,
            65.86,
            64.03,
            72.49,
            66.91,
            65.94,
            59.163999999999994,
            72.13,
            72.67,
            61.31,
            59.82,
            61.05,
            57.996,
            64.36,
            65.57,
            64.94,
            71.86,
            69.62,
            43.585,
            69.18
           ],
           "yaxis": "y"
          },
          {
           "hovertemplate": "<b>%{hovertext}</b><br><br>continent=Africa<br>year=1952<br>gdpPercap=%{x}<br>lifeExp=%{y}<br>pop=%{marker.size}<extra></extra>",
           "hovertext": [
            "Algeria",
            "Angola",
            "Benin",
            "Botswana",
            "Burkina Faso",
            "Burundi",
            "Cameroon",
            "Central African Republic",
            "Chad",
            "Comoros",
            "Congo, Dem. Rep.",
            "Congo, Rep.",
            "Cote d'Ivoire",
            "Djibouti",
            "Egypt",
            "Equatorial Guinea",
            "Eritrea",
            "Ethiopia",
            "Gabon",
            "Gambia",
            "Ghana",
            "Guinea",
            "Guinea-Bissau",
            "Kenya",
            "Lesotho",
            "Liberia",
            "Libya",
            "Madagascar",
            "Malawi",
            "Mali",
            "Mauritania",
            "Mauritius",
            "Morocco",
            "Mozambique",
            "Namibia",
            "Niger",
            "Nigeria",
            "Reunion",
            "Rwanda",
            "Sao Tome and Principe",
            "Senegal",
            "Sierra Leone",
            "Somalia",
            "South Africa",
            "Sudan",
            "Swaziland",
            "Tanzania",
            "Togo",
            "Tunisia",
            "Uganda",
            "Zambia",
            "Zimbabwe"
           ],
           "legendgroup": "Africa",
           "marker": {
            "color": "#00cc96",
            "size": [
             9279525,
             4232095,
             1738315,
             442308,
             4469979,
             2445618,
             5009067,
             1291695,
             2682462,
             153936,
             14100005,
             854885,
             2977019,
             63149,
             22223309,
             216964,
             1438760,
             20860941,
             420702,
             284320,
             5581001,
             2664249,
             580653,
             6464046,
             748747,
             863308,
             1019729,
             4762912,
             2917802,
             3838168,
             1022556,
             516556,
             9939217,
             6446316,
             485831,
             3379468,
             33119096,
             257700,
             2534927,
             60011,
             2755589,
             2143249,
             2526994,
             14264935,
             8504667,
             290243,
             8322925,
             1219113,
             3647735,
             5824797,
             2672000,
             3080907
            ],
            "sizemode": "area",
            "sizeref": 366300.86,
            "symbol": "circle"
           },
           "mode": "markers",
           "name": "Africa",
           "orientation": "v",
           "showlegend": true,
           "type": "scatter",
           "x": [
            2449.008185,
            3520.610273,
            1062.7522,
            851.2411407,
            543.2552413,
            339.29645869999996,
            1172.667655,
            1071.310713,
            1178.665927,
            1102.990936,
            780.5423257,
            2125.621418,
            1388.594732,
            2669.529475,
            1418.822445,
            375.6431231,
            328.9405571000001,
            362.1462796,
            4293.476475,
            485.2306591,
            911.2989371,
            510.19649230000016,
            299.850319,
            853.5409189999997,
            298.8462121,
            575.5729961000002,
            2387.54806,
            1443.011715,
            369.1650802,
            452.3369807,
            743.1159097,
            1967.955707,
            1688.20357,
            468.5260381,
            2423.780443,
            761.879376,
            1077.281856,
            2718.885295,
            493.32387520000003,
            879.5835855,
            1450.356983,
            879.7877358,
            1135.749842,
            4725.295531000002,
            1615.991129,
            1148.376626,
            716.6500721,
            859.8086567,
            1468.475631,
            734.753484,
            1147.388831,
            406.8841148
           ],
           "xaxis": "x",
           "y": [
            43.077,
            30.015,
            38.223,
            47.622,
            31.975,
            39.031,
            38.523,
            35.463,
            38.092,
            40.715,
            39.143,
            42.111000000000004,
            40.477,
            34.812,
            41.893,
            34.482,
            35.92800000000001,
            34.078,
            37.003,
            30,
            43.148999999999994,
            33.609,
            32.5,
            42.27,
            42.13800000000001,
            38.48,
            42.723,
            36.681,
            36.256,
            33.685,
            40.543,
            50.986000000000004,
            42.87300000000001,
            31.285999999999998,
            41.725,
            37.444,
            36.324,
            52.724,
            40,
            46.471000000000004,
            37.278,
            30.331,
            32.978,
            45.00899999999999,
            38.635,
            41.407,
            41.215,
            38.596,
            44.6,
            39.978,
            42.038000000000004,
            48.451
           ],
           "yaxis": "y"
          },
          {
           "hovertemplate": "<b>%{hovertext}</b><br><br>continent=Americas<br>year=1952<br>gdpPercap=%{x}<br>lifeExp=%{y}<br>pop=%{marker.size}<extra></extra>",
           "hovertext": [
            "Argentina",
            "Bolivia",
            "Brazil",
            "Canada",
            "Chile",
            "Colombia",
            "Costa Rica",
            "Cuba",
            "Dominican Republic",
            "Ecuador",
            "El Salvador",
            "Guatemala",
            "Haiti",
            "Honduras",
            "Jamaica",
            "Mexico",
            "Nicaragua",
            "Panama",
            "Paraguay",
            "Peru",
            "Puerto Rico",
            "Trinidad and Tobago",
            "United States",
            "Uruguay",
            "Venezuela"
           ],
           "legendgroup": "Americas",
           "marker": {
            "color": "#ab63fa",
            "size": [
             17876956,
             2883315,
             56602560,
             14785584,
             6377619,
             12350771,
             926317,
             6007797,
             2491346,
             3548753,
             2042865,
             3146381,
             3201488,
             1517453,
             1426095,
             30144317,
             1165790,
             940080,
             1555876,
             8025700,
             2227000,
             662850,
             157553000,
             2252965,
             5439568
            ],
            "sizemode": "area",
            "sizeref": 366300.86,
            "symbol": "circle"
           },
           "mode": "markers",
           "name": "Americas",
           "orientation": "v",
           "showlegend": true,
           "type": "scatter",
           "x": [
            5911.315053,
            2677.3263469999997,
            2108.944355,
            11367.16112,
            3939.9787890000002,
            2144.115096,
            2627.0094710000008,
            5586.53878,
            1397.7171369999999,
            3522.110717,
            3048.3029,
            2428.2377690000008,
            1840.366939,
            2194.926204,
            2898.5308809999997,
            3478.125529,
            3112.363948,
            2480.380334,
            1952.3087010000002,
            3758.523437,
            3081.959785,
            3023.271928,
            13990.482080000002,
            5716.766744,
            7689.799761
           ],
           "xaxis": "x",
           "y": [
            62.485,
            40.414,
            50.917,
            68.75,
            54.745,
            50.643,
            57.206,
            59.42100000000001,
            45.928000000000004,
            48.357,
            45.262,
            42.023,
            37.579,
            41.912,
            58.53,
            50.788999999999994,
            42.31399999999999,
            55.191,
            62.648999999999994,
            43.902,
            64.28,
            59.1,
            68.44,
            66.071,
            55.088
           ],
           "yaxis": "y"
          },
          {
           "hovertemplate": "<b>%{hovertext}</b><br><br>continent=Oceania<br>year=1952<br>gdpPercap=%{x}<br>lifeExp=%{y}<br>pop=%{marker.size}<extra></extra>",
           "hovertext": [
            "Australia",
            "New Zealand"
           ],
           "legendgroup": "Oceania",
           "marker": {
            "color": "#FFA15A",
            "size": [
             8691212,
             1994794
            ],
            "sizemode": "area",
            "sizeref": 366300.86,
            "symbol": "circle"
           },
           "mode": "markers",
           "name": "Oceania",
           "orientation": "v",
           "showlegend": true,
           "type": "scatter",
           "x": [
            10039.595640000001,
            10556.575659999999
           ],
           "xaxis": "x",
           "y": [
            69.12,
            69.39
           ],
           "yaxis": "y"
          }
         ],
         "name": "1952"
        },
        {
         "data": [
          {
           "hovertemplate": "<b>%{hovertext}</b><br><br>continent=Asia<br>year=1957<br>gdpPercap=%{x}<br>lifeExp=%{y}<br>pop=%{marker.size}<extra></extra>",
           "hovertext": [
            "Afghanistan",
            "Bahrain",
            "Bangladesh",
            "Cambodia",
            "China",
            "Hong Kong, China",
            "India",
            "Indonesia",
            "Iran",
            "Iraq",
            "Israel",
            "Japan",
            "Jordan",
            "Korea, Dem. Rep.",
            "Korea, Rep.",
            "Kuwait",
            "Lebanon",
            "Malaysia",
            "Mongolia",
            "Myanmar",
            "Nepal",
            "Oman",
            "Pakistan",
            "Philippines",
            "Saudi Arabia",
            "Singapore",
            "Sri Lanka",
            "Syria",
            "Taiwan",
            "Thailand",
            "Vietnam",
            "West Bank and Gaza",
            "Yemen, Rep."
           ],
           "legendgroup": "Asia",
           "marker": {
            "color": "#636efa",
            "size": [
             9240934,
             138655,
             51365468,
             5322536,
             637408000,
             2736300,
             409000000,
             90124000,
             19792000,
             6248643,
             1944401,
             91563009,
             746559,
             9411381,
             22611552,
             212846,
             1647412,
             7739235,
             882134,
             21731844,
             9682338,
             561977,
             46679944,
             26072194,
             4419650,
             1445929,
             9128546,
             4149908,
             10164215,
             25041917,
             28998543,
             1070439,
             5498090
            ],
            "sizemode": "area",
            "sizeref": 366300.86,
            "symbol": "circle"
           },
           "mode": "markers",
           "name": "Asia",
           "orientation": "v",
           "showlegend": true,
           "type": "scatter",
           "x": [
            820.8530296,
            11635.79945,
            661.6374577,
            434.0383364,
            575.9870009,
            3629.076457,
            590.061996,
            858.9002707000003,
            3290.257643,
            6229.333562,
            5385.278451,
            4317.694365,
            1886.080591,
            1571.134655,
            1487.593537,
            113523.1329,
            6089.7869340000025,
            1810.0669920000007,
            912.6626085,
            350,
            597.9363557999999,
            2242.746551,
            747.0835292,
            1547.9448439999999,
            8157.591248000002,
            2843.104409,
            1072.546602,
            2117.234893,
            1507.86129,
            793.5774147999997,
            676.2854477999998,
            1827.0677420000002,
            804.8304547
           ],
           "xaxis": "x",
           "y": [
            30.331999999999997,
            53.832,
            39.348,
            41.36600000000001,
            50.54896,
            64.75,
            40.249,
            39.918,
            47.181000000000004,
            48.437,
            67.84,
            65.5,
            45.669,
            54.081,
            52.681000000000004,
            58.033,
            59.489,
            52.102,
            45.24800000000001,
            41.905,
            37.686,
            40.08,
            45.556999999999995,
            51.333999999999996,
            42.868,
            63.178999999999995,
            61.456,
            48.284,
            62.4,
            53.63,
            42.887,
            45.67100000000001,
            33.97
           ],
           "yaxis": "y"
          },
          {
           "hovertemplate": "<b>%{hovertext}</b><br><br>continent=Europe<br>year=1957<br>gdpPercap=%{x}<br>lifeExp=%{y}<br>pop=%{marker.size}<extra></extra>",
           "hovertext": [
            "Albania",
            "Austria",
            "Belgium",
            "Bosnia and Herzegovina",
            "Bulgaria",
            "Croatia",
            "Czech Republic",
            "Denmark",
            "Finland",
            "France",
            "Germany",
            "Greece",
            "Hungary",
            "Iceland",
            "Ireland",
            "Italy",
            "Montenegro",
            "Netherlands",
            "Norway",
            "Poland",
            "Portugal",
            "Romania",
            "Serbia",
            "Slovak Republic",
            "Slovenia",
            "Spain",
            "Sweden",
            "Switzerland",
            "Turkey",
            "United Kingdom"
           ],
           "legendgroup": "Europe",
           "marker": {
            "color": "#EF553B",
            "size": [
             1476505,
             6965860,
             8989111,
             3076000,
             7651254,
             3991242,
             9513758,
             4487831,
             4324000,
             44310863,
             71019069,
             8096218,
             9839000,
             165110,
             2878220,
             49182000,
             442829,
             11026383,
             3491938,
             28235346,
             8817650,
             17829327,
             7271135,
             3844277,
             1533070,
             29841614,
             7363802,
             5126000,
             25670939,
             51430000
            ],
            "sizemode": "area",
            "sizeref": 366300.86,
            "symbol": "circle"
           },
           "mode": "markers",
           "name": "Europe",
           "orientation": "v",
           "showlegend": true,
           "type": "scatter",
           "x": [
            1942.2842440000002,
            8842.59803,
            9714.960623,
            1353.989176,
            3008.670727,
            4338.231617,
            8256.343918,
            11099.65935,
            7545.415386,
            8662.834898000001,
            10187.82665,
            4916.299889,
            6040.180011,
            9244.001412,
            5599.077872,
            6248.656232,
            3682.259903,
            11276.193440000001,
            11653.97304,
            4734.253019,
            3774.571743,
            3943.370225,
            4981.090891,
            6093.2629799999995,
            5862.276629,
            4564.80241,
            9911.878226,
            17909.48973,
            2218.754257,
            11283.17795
           ],
           "xaxis": "x",
           "y": [
            59.28,
            67.48,
            69.24,
            58.45,
            66.61,
            64.77,
            69.03,
            71.81,
            67.49,
            68.93,
            69.1,
            67.86,
            66.41,
            73.47,
            68.9,
            67.81,
            61.448,
            72.99,
            73.44,
            65.77,
            61.51,
            64.1,
            61.685,
            67.45,
            67.85,
            66.66,
            72.49,
            70.56,
            48.07899999999999,
            70.42
           ],
           "yaxis": "y"
          },
          {
           "hovertemplate": "<b>%{hovertext}</b><br><br>continent=Africa<br>year=1957<br>gdpPercap=%{x}<br>lifeExp=%{y}<br>pop=%{marker.size}<extra></extra>",
           "hovertext": [
            "Algeria",
            "Angola",
            "Benin",
            "Botswana",
            "Burkina Faso",
            "Burundi",
            "Cameroon",
            "Central African Republic",
            "Chad",
            "Comoros",
            "Congo, Dem. Rep.",
            "Congo, Rep.",
            "Cote d'Ivoire",
            "Djibouti",
            "Egypt",
            "Equatorial Guinea",
            "Eritrea",
            "Ethiopia",
            "Gabon",
            "Gambia",
            "Ghana",
            "Guinea",
            "Guinea-Bissau",
            "Kenya",
            "Lesotho",
            "Liberia",
            "Libya",
            "Madagascar",
            "Malawi",
            "Mali",
            "Mauritania",
            "Mauritius",
            "Morocco",
            "Mozambique",
            "Namibia",
            "Niger",
            "Nigeria",
            "Reunion",
            "Rwanda",
            "Sao Tome and Principe",
            "Senegal",
            "Sierra Leone",
            "Somalia",
            "South Africa",
            "Sudan",
            "Swaziland",
            "Tanzania",
            "Togo",
            "Tunisia",
            "Uganda",
            "Zambia",
            "Zimbabwe"
           ],
           "legendgroup": "Africa",
           "marker": {
            "color": "#00cc96",
            "size": [
             10270856,
             4561361,
             1925173,
             474639,
             4713416,
             2667518,
             5359923,
             1392284,
             2894855,
             170928,
             15577932,
             940458,
             3300000,
             71851,
             25009741,
             232922,
             1542611,
             22815614,
             434904,
             323150,
             6391288,
             2876726,
             601095,
             7454779,
             813338,
             975950,
             1201578,
             5181679,
             3221238,
             4241884,
             1076852,
             609816,
             11406350,
             7038035,
             548080,
             3692184,
             37173340,
             308700,
             2822082,
             61325,
             3054547,
             2295678,
             2780415,
             16151549,
             9753392,
             326741,
             9452826,
             1357445,
             3950849,
             6675501,
             3016000,
             3646340
            ],
            "sizemode": "area",
            "sizeref": 366300.86,
            "symbol": "circle"
           },
           "mode": "markers",
           "name": "Africa",
           "orientation": "v",
           "showlegend": true,
           "type": "scatter",
           "x": [
            3013.976023,
            3827.9404649999997,
            959.6010805,
            918.2325348999999,
            617.1834647999998,
            379.56462810000005,
            1313.048099,
            1190.844328,
            1308.495577,
            1211.1485480000001,
            905.8602302999999,
            2315.056572,
            1500.895925,
            2864.969076000001,
            1458.915272,
            426.0964081,
            344.16188589999996,
            378.90416319999997,
            4976.198099,
            520.9267111,
            1043.5615369999996,
            576.2670245,
            431.79045660000014,
            944.4383152,
            335.9971151000001,
            620.9699901,
            3448.284395,
            1589.20275,
            416.36980639999996,
            490.3821867,
            846.1202613,
            2034.037981,
            1642.002314,
            495.58683330000014,
            2621.448058,
            835.5234025000003,
            1100.5925630000004,
            2769.451844,
            540.2893982999999,
            860.7369026,
            1567.653006,
            1004.484437,
            1258.1474130000001,
            5487.104219,
            1770.3370739999998,
            1244.708364,
            698.5356073,
            925.9083201999999,
            1395.232468,
            774.3710692000003,
            1311.956766,
            518.7642681
           ],
           "xaxis": "x",
           "y": [
            45.685,
            31.999000000000002,
            40.358000000000004,
            49.618,
            34.906,
            40.533,
            40.428000000000004,
            37.464,
            39.881,
            42.46,
            40.652,
            45.053000000000004,
            42.468999999999994,
            37.328,
            44.443999999999996,
            35.98300000000001,
            38.047,
            36.667,
            38.999,
            32.065,
            44.778999999999996,
            34.558,
            33.489000000000004,
            44.68600000000001,
            45.047,
            39.486,
            45.288999999999994,
            38.865,
            37.207,
            35.30699999999999,
            42.338,
            58.089,
            45.423,
            33.779,
            45.226000000000006,
            38.598,
            37.802,
            55.09,
            41.5,
            48.945,
            39.329,
            31.57,
            34.977,
            47.985,
            39.624,
            43.424,
            42.974,
            41.208,
            47.1,
            42.57100000000001,
            44.077,
            50.468999999999994
           ],
           "yaxis": "y"
          },
          {
           "hovertemplate": "<b>%{hovertext}</b><br><br>continent=Americas<br>year=1957<br>gdpPercap=%{x}<br>lifeExp=%{y}<br>pop=%{marker.size}<extra></extra>",
           "hovertext": [
            "Argentina",
            "Bolivia",
            "Brazil",
            "Canada",
            "Chile",
            "Colombia",
            "Costa Rica",
            "Cuba",
            "Dominican Republic",
            "Ecuador",
            "El Salvador",
            "Guatemala",
            "Haiti",
            "Honduras",
            "Jamaica",
            "Mexico",
            "Nicaragua",
            "Panama",
            "Paraguay",
            "Peru",
            "Puerto Rico",
            "Trinidad and Tobago",
            "United States",
            "Uruguay",
            "Venezuela"
           ],
           "legendgroup": "Americas",
           "marker": {
            "color": "#ab63fa",
            "size": [
             19610538,
             3211738,
             65551171,
             17010154,
             7048426,
             14485993,
             1112300,
             6640752,
             2923186,
             4058385,
             2355805,
             3640876,
             3507701,
             1770390,
             1535090,
             35015548,
             1358828,
             1063506,
             1770902,
             9146100,
             2260000,
             764900,
             171984000,
             2424959,
             6702668
            ],
            "sizemode": "area",
            "sizeref": 366300.86,
            "symbol": "circle"
           },
           "mode": "markers",
           "name": "Americas",
           "orientation": "v",
           "showlegend": true,
           "type": "scatter",
           "x": [
            6856.856212000002,
            2127.686326,
            2487.365989,
            12489.95006,
            4315.6227229999995,
            2323.805581,
            2990.010802,
            6092.174359000002,
            1544.402995,
            3780.5466509999997,
            3421.523218,
            2617.155967,
            1726.887882,
            2220.487682,
            4756.525781,
            4131.546641,
            3457.415947,
            2961.800905,
            2046.1547059999998,
            4245.256697999999,
            3907.1561890000003,
            4100.3934,
            14847.12712,
            6150.772969,
            9802.466526
           ],
           "xaxis": "x",
           "y": [
            64.399,
            41.89,
            53.285,
            69.96,
            56.074,
            55.118,
            60.026,
            62.325,
            49.828,
            51.356,
            48.57,
            44.141999999999996,
            40.696,
            44.665,
            62.61,
            55.19,
            45.431999999999995,
            59.201,
            63.19600000000001,
            46.26300000000001,
            68.54,
            61.8,
            69.49,
            67.044,
            57.907
           ],
           "yaxis": "y"
          },
          {
           "hovertemplate": "<b>%{hovertext}</b><br><br>continent=Oceania<br>year=1957<br>gdpPercap=%{x}<br>lifeExp=%{y}<br>pop=%{marker.size}<extra></extra>",
           "hovertext": [
            "Australia",
            "New Zealand"
           ],
           "legendgroup": "Oceania",
           "marker": {
            "color": "#FFA15A",
            "size": [
             9712569,
             2229407
            ],
            "sizemode": "area",
            "sizeref": 366300.86,
            "symbol": "circle"
           },
           "mode": "markers",
           "name": "Oceania",
           "orientation": "v",
           "showlegend": true,
           "type": "scatter",
           "x": [
            10949.64959,
            12247.39532
           ],
           "xaxis": "x",
           "y": [
            70.33,
            70.26
           ],
           "yaxis": "y"
          }
         ],
         "name": "1957"
        },
        {
         "data": [
          {
           "hovertemplate": "<b>%{hovertext}</b><br><br>continent=Asia<br>year=1962<br>gdpPercap=%{x}<br>lifeExp=%{y}<br>pop=%{marker.size}<extra></extra>",
           "hovertext": [
            "Afghanistan",
            "Bahrain",
            "Bangladesh",
            "Cambodia",
            "China",
            "Hong Kong, China",
            "India",
            "Indonesia",
            "Iran",
            "Iraq",
            "Israel",
            "Japan",
            "Jordan",
            "Korea, Dem. Rep.",
            "Korea, Rep.",
            "Kuwait",
            "Lebanon",
            "Malaysia",
            "Mongolia",
            "Myanmar",
            "Nepal",
            "Oman",
            "Pakistan",
            "Philippines",
            "Saudi Arabia",
            "Singapore",
            "Sri Lanka",
            "Syria",
            "Taiwan",
            "Thailand",
            "Vietnam",
            "West Bank and Gaza",
            "Yemen, Rep."
           ],
           "legendgroup": "Asia",
           "marker": {
            "color": "#636efa",
            "size": [
             10267083,
             171863,
             56839289,
             6083619,
             665770000,
             3305200,
             454000000,
             99028000,
             22874000,
             7240260,
             2310904,
             95831757,
             933559,
             10917494,
             26420307,
             358266,
             1886848,
             8906385,
             1010280,
             23634436,
             10332057,
             628164,
             53100671,
             30325264,
             4943029,
             1750200,
             10421936,
             4834621,
             11918938,
             29263397,
             33796140,
             1133134,
             6120081
            ],
            "sizemode": "area",
            "sizeref": 366300.86,
            "symbol": "circle"
           },
           "mode": "markers",
           "name": "Asia",
           "orientation": "v",
           "showlegend": true,
           "type": "scatter",
           "x": [
            853.1007099999997,
            12753.27514,
            686.3415537999998,
            496.9136476,
            487.6740183,
            4692.6482719999985,
            658.3471509,
            849.2897700999997,
            4187.329802,
            8341.737815,
            7105.630706,
            6576.649461,
            2348.009158,
            1621.693598,
            1536.3443869999999,
            95458.11176,
            5714.560611,
            2036.8849440000001,
            1056.353958,
            388,
            652.3968593,
            2924.638113,
            803.3427418,
            1649.5521529999999,
            11626.41975,
            3674.735572,
            1074.4719599999999,
            2193.037133,
            1822.879028,
            1002.1991720000001,
            772.0491602000003,
            2198.9563120000007,
            825.6232006
           ],
           "xaxis": "x",
           "y": [
            31.997,
            56.923,
            41.216,
            43.415,
            44.50136,
            67.65,
            43.605,
            42.518,
            49.325,
            51.457,
            69.39,
            68.73,
            48.12600000000001,
            56.65600000000001,
            55.292,
            60.47,
            62.093999999999994,
            55.736999999999995,
            48.25100000000001,
            45.108000000000004,
            39.393,
            43.165,
            47.67,
            54.757,
            45.913999999999994,
            65.798,
            62.192,
            50.305,
            65.2,
            56.06100000000001,
            45.363,
            48.126999999999995,
            35.18
           ],
           "yaxis": "y"
          },
          {
           "hovertemplate": "<b>%{hovertext}</b><br><br>continent=Europe<br>year=1962<br>gdpPercap=%{x}<br>lifeExp=%{y}<br>pop=%{marker.size}<extra></extra>",
           "hovertext": [
            "Albania",
            "Austria",
            "Belgium",
            "Bosnia and Herzegovina",
            "Bulgaria",
            "Croatia",
            "Czech Republic",
            "Denmark",
            "Finland",
            "France",
            "Germany",
            "Greece",
            "Hungary",
            "Iceland",
            "Ireland",
            "Italy",
            "Montenegro",
            "Netherlands",
            "Norway",
            "Poland",
            "Portugal",
            "Romania",
            "Serbia",
            "Slovak Republic",
            "Slovenia",
            "Spain",
            "Sweden",
            "Switzerland",
            "Turkey",
            "United Kingdom"
           ],
           "legendgroup": "Europe",
           "marker": {
            "color": "#EF553B",
            "size": [
             1728137,
             7129864,
             9218400,
             3349000,
             8012946,
             4076557,
             9620282,
             4646899,
             4491443,
             47124000,
             73739117,
             8448233,
             10063000,
             182053,
             2830000,
             50843200,
             474528,
             11805689,
             3638919,
             30329617,
             9019800,
             18680721,
             7616060,
             4237384,
             1582962,
             31158061,
             7561588,
             5666000,
             29788695,
             53292000
            ],
            "sizemode": "area",
            "sizeref": 366300.86,
            "symbol": "circle"
           },
           "mode": "markers",
           "name": "Europe",
           "orientation": "v",
           "showlegend": true,
           "type": "scatter",
           "x": [
            2312.888958,
            10750.721109999999,
            10991.20676,
            1709.683679,
            4254.337839,
            5477.890018,
            10136.86713,
            13583.31351,
            9371.842561,
            10560.48553,
            12902.46291,
            6017.1907329999985,
            7550.359877,
            10350.15906,
            6631.597314,
            8243.58234,
            4649.593785,
            12790.849559999999,
            13450.40151,
            5338.752143,
            4727.954889,
            4734.9975859999995,
            6289.629157,
            7481.1075980000005,
            7402.303395,
            5693.843879,
            12329.441920000001,
            20431.0927,
            2322.8699079999997,
            12477.17707
           ],
           "xaxis": "x",
           "y": [
            64.82,
            69.54,
            70.25,
            61.93,
            69.51,
            67.13,
            69.9,
            72.35,
            68.75,
            70.51,
            70.3,
            69.51,
            67.96,
            73.68,
            70.29,
            69.24,
            63.728,
            73.23,
            73.47,
            67.64,
            64.39,
            66.8,
            64.531,
            70.33,
            69.15,
            69.69,
            73.37,
            71.32,
            52.098,
            70.76
           ],
           "yaxis": "y"
          },
          {
           "hovertemplate": "<b>%{hovertext}</b><br><br>continent=Africa<br>year=1962<br>gdpPercap=%{x}<br>lifeExp=%{y}<br>pop=%{marker.size}<extra></extra>",
           "hovertext": [
            "Algeria",
            "Angola",
            "Benin",
            "Botswana",
            "Burkina Faso",
            "Burundi",
            "Cameroon",
            "Central African Republic",
            "Chad",
            "Comoros",
            "Congo, Dem. Rep.",
            "Congo, Rep.",
            "Cote d'Ivoire",
            "Djibouti",
            "Egypt",
            "Equatorial Guinea",
            "Eritrea",
            "Ethiopia",
            "Gabon",
            "Gambia",
            "Ghana",
            "Guinea",
            "Guinea-Bissau",
            "Kenya",
            "Lesotho",
            "Liberia",
            "Libya",
            "Madagascar",
            "Malawi",
            "Mali",
            "Mauritania",
            "Mauritius",
            "Morocco",
            "Mozambique",
            "Namibia",
            "Niger",
            "Nigeria",
            "Reunion",
            "Rwanda",
            "Sao Tome and Principe",
            "Senegal",
            "Sierra Leone",
            "Somalia",
            "South Africa",
            "Sudan",
            "Swaziland",
            "Tanzania",
            "Togo",
            "Tunisia",
            "Uganda",
            "Zambia",
            "Zimbabwe"
           ],
           "legendgroup": "Africa",
           "marker": {
            "color": "#00cc96",
            "size": [
             11000948,
             4826015,
             2151895,
             512764,
             4919632,
             2961915,
             5793633,
             1523478,
             3150417,
             191689,
             17486434,
             1047924,
             3832408,
             89898,
             28173309,
             249220,
             1666618,
             25145372,
             455661,
             374020,
             7355248,
             3140003,
             627820,
             8678557,
             893143,
             1112796,
             1441863,
             5703324,
             3628608,
             4690372,
             1146757,
             701016,
             13056604,
             7788944,
             621392,
             4076008,
             41871351,
             358900,
             3051242,
             65345,
             3430243,
             2467895,
             3080153,
             18356657,
             11183227,
             370006,
             10863958,
             1528098,
             4286552,
             7688797,
             3421000,
             4277736
            ],
            "sizemode": "area",
            "sizeref": 366300.86,
            "symbol": "circle"
           },
           "mode": "markers",
           "name": "Africa",
           "orientation": "v",
           "showlegend": true,
           "type": "scatter",
           "x": [
            2550.81688,
            4269.276742,
            949.4990641,
            983.6539764,
            722.5120206,
            355.2032273,
            1399.607441,
            1193.068753,
            1389.817618,
            1406.648278,
            896.3146335000001,
            2464.783157,
            1728.8694280000002,
            3020.989263,
            1693.335853,
            582.8419713999998,
            380.99584330000016,
            419.4564161,
            6631.4592219999995,
            599.650276,
            1190.0411179999999,
            686.3736739,
            522.0343725,
            896.9663732,
            411.80062660000004,
            634.1951625,
            6757.0308159999995,
            1643.38711,
            427.90108560000004,
            496.17434280000003,
            1055.8960359999999,
            2529.0674870000007,
            1566.353493,
            556.6863539,
            3173.215595,
            997.7661127,
            1150.9274779999996,
            3173.72334,
            597.4730727000001,
            1071.551119,
            1654.988723,
            1116.6398769999996,
            1369.488336,
            5768.729717,
            1959.593767,
            1856.182125,
            722.0038073,
            1067.5348099999999,
            1660.30321,
            767.2717397999999,
            1452.725766,
            527.2721818
           ],
           "xaxis": "x",
           "y": [
            48.303000000000004,
            34,
            42.618,
            51.52,
            37.814,
            42.045,
            42.643,
            39.475,
            41.716,
            44.467,
            42.122,
            48.435,
            44.93,
            39.69300000000001,
            46.992,
            37.485,
            40.158,
            40.059,
            40.489000000000004,
            33.896,
            46.452,
            35.753,
            34.488,
            47.949,
            47.747,
            40.501999999999995,
            47.808,
            40.848,
            38.41,
            36.936,
            44.24800000000001,
            60.246,
            47.924,
            36.161,
            48.386,
            39.486999999999995,
            39.36,
            57.666000000000004,
            43,
            51.893,
            41.45399999999999,
            32.766999999999996,
            36.981,
            49.951,
            40.87,
            44.992,
            44.246,
            43.922,
            49.57899999999999,
            45.343999999999994,
            46.023,
            52.358000000000004
           ],
           "yaxis": "y"
          },
          {
           "hovertemplate": "<b>%{hovertext}</b><br><br>continent=Americas<br>year=1962<br>gdpPercap=%{x}<br>lifeExp=%{y}<br>pop=%{marker.size}<extra></extra>",
           "hovertext": [
            "Argentina",
            "Bolivia",
            "Brazil",
            "Canada",
            "Chile",
            "Colombia",
            "Costa Rica",
            "Cuba",
            "Dominican Republic",
            "Ecuador",
            "El Salvador",
            "Guatemala",
            "Haiti",
            "Honduras",
            "Jamaica",
            "Mexico",
            "Nicaragua",
            "Panama",
            "Paraguay",
            "Peru",
            "Puerto Rico",
            "Trinidad and Tobago",
            "United States",
            "Uruguay",
            "Venezuela"
           ],
           "legendgroup": "Americas",
           "marker": {
            "color": "#ab63fa",
            "size": [
             21283783,
             3593918,
             76039390,
             18985849,
             7961258,
             17009885,
             1345187,
             7254373,
             3453434,
             4681707,
             2747687,
             4208858,
             3880130,
             2090162,
             1665128,
             41121485,
             1590597,
             1215725,
             2009813,
             10516500,
             2448046,
             887498,
             186538000,
             2598466,
             8143375
            ],
            "sizemode": "area",
            "sizeref": 366300.86,
            "symbol": "circle"
           },
           "mode": "markers",
           "name": "Americas",
           "orientation": "v",
           "showlegend": true,
           "type": "scatter",
           "x": [
            7133.1660230000025,
            2180.972546,
            3336.585802,
            13462.48555,
            4519.094331,
            2492.351109,
            3460.937025,
            5180.75591,
            1662.137359,
            4086.114078,
            3776.8036270000002,
            2750.364446,
            1796.589032,
            2291.1568350000002,
            5246.107524,
            4581.609385,
            3634.364406,
            3536.540301,
            2148.027146,
            4957.037982,
            5108.34463,
            4997.523971000001,
            16173.145859999999,
            5603.357717,
            8422.974165000001
           ],
           "xaxis": "x",
           "y": [
            65.142,
            43.428000000000004,
            55.665,
            71.3,
            57.924,
            57.863,
            62.842,
            65.24600000000001,
            53.458999999999996,
            54.64,
            52.306999999999995,
            46.95399999999999,
            43.59,
            48.041000000000004,
            65.61,
            58.299,
            48.632,
            61.817,
            64.361,
            49.096000000000004,
            69.62,
            64.9,
            70.21,
            68.253,
            60.77
           ],
           "yaxis": "y"
          },
          {
           "hovertemplate": "<b>%{hovertext}</b><br><br>continent=Oceania<br>year=1962<br>gdpPercap=%{x}<br>lifeExp=%{y}<br>pop=%{marker.size}<extra></extra>",
           "hovertext": [
            "Australia",
            "New Zealand"
           ],
           "legendgroup": "Oceania",
           "marker": {
            "color": "#FFA15A",
            "size": [
             10794968,
             2488550
            ],
            "sizemode": "area",
            "sizeref": 366300.86,
            "symbol": "circle"
           },
           "mode": "markers",
           "name": "Oceania",
           "orientation": "v",
           "showlegend": true,
           "type": "scatter",
           "x": [
            12217.226859999999,
            13175.678
           ],
           "xaxis": "x",
           "y": [
            70.93,
            71.24
           ],
           "yaxis": "y"
          }
         ],
         "name": "1962"
        },
        {
         "data": [
          {
           "hovertemplate": "<b>%{hovertext}</b><br><br>continent=Asia<br>year=1967<br>gdpPercap=%{x}<br>lifeExp=%{y}<br>pop=%{marker.size}<extra></extra>",
           "hovertext": [
            "Afghanistan",
            "Bahrain",
            "Bangladesh",
            "Cambodia",
            "China",
            "Hong Kong, China",
            "India",
            "Indonesia",
            "Iran",
            "Iraq",
            "Israel",
            "Japan",
            "Jordan",
            "Korea, Dem. Rep.",
            "Korea, Rep.",
            "Kuwait",
            "Lebanon",
            "Malaysia",
            "Mongolia",
            "Myanmar",
            "Nepal",
            "Oman",
            "Pakistan",
            "Philippines",
            "Saudi Arabia",
            "Singapore",
            "Sri Lanka",
            "Syria",
            "Taiwan",
            "Thailand",
            "Vietnam",
            "West Bank and Gaza",
            "Yemen, Rep."
           ],
           "legendgroup": "Asia",
           "marker": {
            "color": "#636efa",
            "size": [
             11537966,
             202182,
             62821884,
             6960067,
             754550000,
             3722800,
             506000000,
             109343000,
             26538000,
             8519282,
             2693585,
             100825279,
             1255058,
             12617009,
             30131000,
             575003,
             2186894,
             10154878,
             1149500,
             25870271,
             11261690,
             714775,
             60641899,
             35356600,
             5618198,
             1977600,
             11737396,
             5680812,
             13648692,
             34024249,
             39463910,
             1142636,
             6740785
            ],
            "sizemode": "area",
            "sizeref": 366300.86,
            "symbol": "circle"
           },
           "mode": "markers",
           "name": "Asia",
           "orientation": "v",
           "showlegend": true,
           "type": "scatter",
           "x": [
            836.1971382,
            14804.6727,
            721.1860862000003,
            523.4323142,
            612.7056934,
            6197.962814,
            700.7706107000001,
            762.4317721,
            5906.7318049999985,
            8931.459811,
            8393.741404,
            9847.788606999999,
            2741.796252,
            2143.540609,
            2029.2281420000002,
            80894.88326,
            6006.983042,
            2277.742396,
            1226.04113,
            349,
            676.4422254,
            4720.942687,
            942.4082588,
            1814.12743,
            16903.04886,
            4977.41854,
            1135.514326,
            1881.923632,
            2643.8586809999997,
            1295.46066,
            637.1232887,
            2649.7150070000002,
            862.4421463
           ],
           "xaxis": "x",
           "y": [
            34.02,
            59.923,
            43.453,
            45.415,
            58.381119999999996,
            70,
            47.19300000000001,
            45.964,
            52.468999999999994,
            54.458999999999996,
            70.75,
            71.43,
            51.629,
            59.942,
            57.716,
            64.624,
            63.87,
            59.371,
            51.253,
            49.379,
            41.472,
            46.988,
            49.8,
            56.393,
            49.901,
            67.946,
            64.266,
            53.655,
            67.5,
            58.285,
            47.838,
            51.631,
            36.984
           ],
           "yaxis": "y"
          },
          {
           "hovertemplate": "<b>%{hovertext}</b><br><br>continent=Europe<br>year=1967<br>gdpPercap=%{x}<br>lifeExp=%{y}<br>pop=%{marker.size}<extra></extra>",
           "hovertext": [
            "Albania",
            "Austria",
            "Belgium",
            "Bosnia and Herzegovina",
            "Bulgaria",
            "Croatia",
            "Czech Republic",
            "Denmark",
            "Finland",
            "France",
            "Germany",
            "Greece",
            "Hungary",
            "Iceland",
            "Ireland",
            "Italy",
            "Montenegro",
            "Netherlands",
            "Norway",
            "Poland",
            "Portugal",
            "Romania",
            "Serbia",
            "Slovak Republic",
            "Slovenia",
            "Spain",
            "Sweden",
            "Switzerland",
            "Turkey",
            "United Kingdom"
           ],
           "legendgroup": "Europe",
           "marker": {
            "color": "#EF553B",
            "size": [
             1984060,
             7376998,
             9556500,
             3585000,
             8310226,
             4174366,
             9835109,
             4838800,
             4605744,
             49569000,
             76368453,
             8716441,
             10223422,
             198676,
             2900100,
             52667100,
             501035,
             12596822,
             3786019,
             31785378,
             9103000,
             19284814,
             7971222,
             4442238,
             1646912,
             32850275,
             7867931,
             6063000,
             33411317,
             54959000
            ],
            "sizemode": "area",
            "sizeref": 366300.86,
            "symbol": "circle"
           },
           "mode": "markers",
           "name": "Europe",
           "orientation": "v",
           "showlegend": true,
           "type": "scatter",
           "x": [
            2760.196931,
            12834.6024,
            13149.04119,
            2172.3524230000007,
            5577.0028,
            6960.297861,
            11399.44489,
            15937.21123,
            10921.63626,
            12999.91766,
            14745.62561,
            8513.097016,
            9326.64467,
            13319.89568,
            7655.568963,
            10022.40131,
            5907.850937,
            15363.25136,
            16361.87647,
            6557.152776,
            6361.517993,
            6470.866545,
            7991.707066,
            8412.902397,
            9405.489397,
            7993.512294,
            15258.29697,
            22966.14432,
            2826.356387000001,
            14142.85089
           ],
           "xaxis": "x",
           "y": [
            66.22,
            70.14,
            70.94,
            64.79,
            70.42,
            68.5,
            70.38,
            72.96,
            69.83,
            71.55,
            70.8,
            71,
            69.5,
            73.73,
            71.08,
            71.06,
            67.178,
            73.82,
            74.08,
            69.61,
            66.6,
            66.8,
            66.914,
            70.98,
            69.18,
            71.44,
            74.16,
            72.77,
            54.33600000000001,
            71.36
           ],
           "yaxis": "y"
          },
          {
           "hovertemplate": "<b>%{hovertext}</b><br><br>continent=Africa<br>year=1967<br>gdpPercap=%{x}<br>lifeExp=%{y}<br>pop=%{marker.size}<extra></extra>",
           "hovertext": [
            "Algeria",
            "Angola",
            "Benin",
            "Botswana",
            "Burkina Faso",
            "Burundi",
            "Cameroon",
            "Central African Republic",
            "Chad",
            "Comoros",
            "Congo, Dem. Rep.",
            "Congo, Rep.",
            "Cote d'Ivoire",
            "Djibouti",
            "Egypt",
            "Equatorial Guinea",
            "Eritrea",
            "Ethiopia",
            "Gabon",
            "Gambia",
            "Ghana",
            "Guinea",
            "Guinea-Bissau",
            "Kenya",
            "Lesotho",
            "Liberia",
            "Libya",
            "Madagascar",
            "Malawi",
            "Mali",
            "Mauritania",
            "Mauritius",
            "Morocco",
            "Mozambique",
            "Namibia",
            "Niger",
            "Nigeria",
            "Reunion",
            "Rwanda",
            "Sao Tome and Principe",
            "Senegal",
            "Sierra Leone",
            "Somalia",
            "South Africa",
            "Sudan",
            "Swaziland",
            "Tanzania",
            "Togo",
            "Tunisia",
            "Uganda",
            "Zambia",
            "Zimbabwe"
           ],
           "legendgroup": "Africa",
           "marker": {
            "color": "#00cc96",
            "size": [
             12760499,
             5247469,
             2427334,
             553541,
             5127935,
             3330989,
             6335506,
             1733638,
             3495967,
             217378,
             19941073,
             1179760,
             4744870,
             127617,
             31681188,
             259864,
             1820319,
             27860297,
             489004,
             439593,
             8490213,
             3451418,
             601287,
             10191512,
             996380,
             1279406,
             1759224,
             6334556,
             4147252,
             5212416,
             1230542,
             789309,
             14770296,
             8680909,
             706640,
             4534062,
             47287752,
             414024,
             3451079,
             70787,
             3965841,
             2662190,
             3428839,
             20997321,
             12716129,
             420690,
             12607312,
             1735550,
             4786986,
             8900294,
             3900000,
             4995432
            ],
            "sizemode": "area",
            "sizeref": 366300.86,
            "symbol": "circle"
           },
           "mode": "markers",
           "name": "Africa",
           "orientation": "v",
           "showlegend": true,
           "type": "scatter",
           "x": [
            3246.991771,
            5522.776375,
            1035.831411,
            1214.709294,
            794.8265597,
            412.97751360000007,
            1508.453148,
            1136.056615,
            1196.810565,
            1876.029643,
            861.5932424,
            2677.9396420000007,
            2052.0504730000002,
            3020.0505129999997,
            1814.880728,
            915.5960025,
            468.7949699,
            516.1186438,
            8358.761987,
            734.7829124,
            1125.69716,
            708.7595409,
            715.5806402000003,
            1056.736457,
            498.63902649999994,
            713.6036482999997,
            18772.75169,
            1634.047282,
            495.5147806,
            545.0098873,
            1421.145193,
            2475.387562,
            1711.04477,
            566.6691539,
            3793.694753,
            1054.384891,
            1014.5141039999999,
            4021.1757390000002,
            510.9637142,
            1384.840593,
            1612.404632,
            1206.043465,
            1284.7331800000004,
            7114.4779709999975,
            1687.997641,
            2613.1016649999997,
            848.2186575,
            1477.59676,
            1932.3601670000005,
            908.9185217,
            1777.0773179999999,
            569.7950712
           ],
           "xaxis": "x",
           "y": [
            51.407,
            35.985,
            44.885,
            53.298,
            40.696999999999996,
            43.548,
            44.799,
            41.478,
            43.601000000000006,
            46.472,
            44.056000000000004,
            52.04,
            47.35,
            42.074,
            49.293,
            38.986999999999995,
            42.18899999999999,
            42.115,
            44.598,
            35.857,
            48.071999999999996,
            37.196999999999996,
            35.492,
            50.653999999999996,
            48.492,
            41.536,
            50.227,
            42.881,
            39.486999999999995,
            38.486999999999995,
            46.288999999999994,
            61.556999999999995,
            50.335,
            38.113,
            51.159,
            40.118,
            41.04,
            60.542,
            44.1,
            54.425,
            43.563,
            34.113,
            38.977,
            51.927,
            42.858000000000004,
            46.633,
            45.757,
            46.769,
            52.053000000000004,
            48.051,
            47.768,
            53.995
           ],
           "yaxis": "y"
          },
          {
           "hovertemplate": "<b>%{hovertext}</b><br><br>continent=Americas<br>year=1967<br>gdpPercap=%{x}<br>lifeExp=%{y}<br>pop=%{marker.size}<extra></extra>",
           "hovertext": [
            "Argentina",
            "Bolivia",
            "Brazil",
            "Canada",
            "Chile",
            "Colombia",
            "Costa Rica",
            "Cuba",
            "Dominican Republic",
            "Ecuador",
            "El Salvador",
            "Guatemala",
            "Haiti",
            "Honduras",
            "Jamaica",
            "Mexico",
            "Nicaragua",
            "Panama",
            "Paraguay",
            "Peru",
            "Puerto Rico",
            "Trinidad and Tobago",
            "United States",
            "Uruguay",
            "Venezuela"
           ],
           "legendgroup": "Americas",
           "marker": {
            "color": "#ab63fa",
            "size": [
             22934225,
             4040665,
             88049823,
             20819767,
             8858908,
             19764027,
             1588717,
             8139332,
             4049146,
             5432424,
             3232927,
             4690773,
             4318137,
             2500689,
             1861096,
             47995559,
             1865490,
             1405486,
             2287985,
             12132200,
             2648961,
             960155,
             198712000,
             2748579,
             9709552
            ],
            "sizemode": "area",
            "sizeref": 366300.86,
            "symbol": "circle"
           },
           "mode": "markers",
           "name": "Americas",
           "orientation": "v",
           "showlegend": true,
           "type": "scatter",
           "x": [
            8052.9530209999975,
            2586.886053,
            3429.864357,
            16076.58803,
            5106.654313,
            2678.729839,
            4161.727834,
            5690.268015,
            1653.7230029999994,
            4579.074215,
            4358.595393,
            3242.5311469999997,
            1452.057666,
            2538.269358,
            6124.7034509999985,
            5754.733883,
            4643.393534000002,
            4421.009084,
            2299.376311,
            5788.09333,
            6929.277714,
            5621.368472,
            19530.365569999998,
            5444.61962,
            9541.474188
           ],
           "xaxis": "x",
           "y": [
            65.634,
            45.032,
            57.632,
            72.13,
            60.523,
            59.963,
            65.42399999999999,
            68.29,
            56.75100000000001,
            56.678000000000004,
            55.855,
            50.01600000000001,
            46.243,
            50.924,
            67.51,
            60.11,
            51.88399999999999,
            64.071,
            64.95100000000001,
            51.445,
            71.1,
            65.4,
            70.76,
            68.468,
            63.479
           ],
           "yaxis": "y"
          },
          {
           "hovertemplate": "<b>%{hovertext}</b><br><br>continent=Oceania<br>year=1967<br>gdpPercap=%{x}<br>lifeExp=%{y}<br>pop=%{marker.size}<extra></extra>",
           "hovertext": [
            "Australia",
            "New Zealand"
           ],
           "legendgroup": "Oceania",
           "marker": {
            "color": "#FFA15A",
            "size": [
             11872264,
             2728150
            ],
            "sizemode": "area",
            "sizeref": 366300.86,
            "symbol": "circle"
           },
           "mode": "markers",
           "name": "Oceania",
           "orientation": "v",
           "showlegend": true,
           "type": "scatter",
           "x": [
            14526.12465,
            14463.918930000002
           ],
           "xaxis": "x",
           "y": [
            71.1,
            71.52
           ],
           "yaxis": "y"
          }
         ],
         "name": "1967"
        },
        {
         "data": [
          {
           "hovertemplate": "<b>%{hovertext}</b><br><br>continent=Asia<br>year=1972<br>gdpPercap=%{x}<br>lifeExp=%{y}<br>pop=%{marker.size}<extra></extra>",
           "hovertext": [
            "Afghanistan",
            "Bahrain",
            "Bangladesh",
            "Cambodia",
            "China",
            "Hong Kong, China",
            "India",
            "Indonesia",
            "Iran",
            "Iraq",
            "Israel",
            "Japan",
            "Jordan",
            "Korea, Dem. Rep.",
            "Korea, Rep.",
            "Kuwait",
            "Lebanon",
            "Malaysia",
            "Mongolia",
            "Myanmar",
            "Nepal",
            "Oman",
            "Pakistan",
            "Philippines",
            "Saudi Arabia",
            "Singapore",
            "Sri Lanka",
            "Syria",
            "Taiwan",
            "Thailand",
            "Vietnam",
            "West Bank and Gaza",
            "Yemen, Rep."
           ],
           "legendgroup": "Asia",
           "marker": {
            "color": "#636efa",
            "size": [
             13079460,
             230800,
             70759295,
             7450606,
             862030000,
             4115700,
             567000000,
             121282000,
             30614000,
             10061506,
             3095893,
             107188273,
             1613551,
             14781241,
             33505000,
             841934,
             2680018,
             11441462,
             1320500,
             28466390,
             12412593,
             829050,
             69325921,
             40850141,
             6472756,
             2152400,
             13016733,
             6701172,
             15226039,
             39276153,
             44655014,
             1089572,
             7407075
            ],
            "sizemode": "area",
            "sizeref": 366300.86,
            "symbol": "circle"
           },
           "mode": "markers",
           "name": "Asia",
           "orientation": "v",
           "showlegend": true,
           "type": "scatter",
           "x": [
            739.9811057999997,
            18268.65839,
            630.2336265,
            421.6240257,
            676.9000921,
            8315.928145,
            724.032527,
            1111.107907,
            9613.818607,
            9576.037596,
            12786.93223,
            14778.78636,
            2110.856309,
            3701.6215030000003,
            3030.87665,
            109347.867,
            7486.384341,
            2849.09478,
            1421.741975,
            357,
            674.7881296,
            10618.03855,
            1049.938981,
            1989.3740699999998,
            24837.42865,
            8597.756202,
            1213.39553,
            2571.423014,
            4062.523897,
            1524.3589359999999,
            699.5016441,
            3133.4092769999997,
            1265.047031
           ],
           "xaxis": "x",
           "y": [
            36.088,
            63.3,
            45.251999999999995,
            40.317,
            63.118880000000004,
            72,
            50.651,
            49.203,
            55.233999999999995,
            56.95,
            71.63,
            73.42,
            56.528,
            63.983000000000004,
            62.611999999999995,
            67.712,
            65.421,
            63.01,
            53.754,
            53.07,
            43.971000000000004,
            52.143,
            51.928999999999995,
            58.065,
            53.886,
            69.521,
            65.042,
            57.29600000000001,
            69.39,
            60.405,
            50.254,
            56.532,
            39.848
           ],
           "yaxis": "y"
          },
          {
           "hovertemplate": "<b>%{hovertext}</b><br><br>continent=Europe<br>year=1972<br>gdpPercap=%{x}<br>lifeExp=%{y}<br>pop=%{marker.size}<extra></extra>",
           "hovertext": [
            "Albania",
            "Austria",
            "Belgium",
            "Bosnia and Herzegovina",
            "Bulgaria",
            "Croatia",
            "Czech Republic",
            "Denmark",
            "Finland",
            "France",
            "Germany",
            "Greece",
            "Hungary",
            "Iceland",
            "Ireland",
            "Italy",
            "Montenegro",
            "Netherlands",
            "Norway",
            "Poland",
            "Portugal",
            "Romania",
            "Serbia",
            "Slovak Republic",
            "Slovenia",
            "Spain",
            "Sweden",
            "Switzerland",
            "Turkey",
            "United Kingdom"
           ],
           "legendgroup": "Europe",
           "marker": {
            "color": "#EF553B",
            "size": [
             2263554,
             7544201,
             9709100,
             3819000,
             8576200,
             4225310,
             9862158,
             4991596,
             4639657,
             51732000,
             78717088,
             8888628,
             10394091,
             209275,
             3024400,
             54365564,
             527678,
             13329874,
             3933004,
             33039545,
             8970450,
             20662648,
             8313288,
             4593433,
             1694510,
             34513161,
             8122293,
             6401400,
             37492953,
             56079000
            ],
            "sizemode": "area",
            "sizeref": 366300.86,
            "symbol": "circle"
           },
           "mode": "markers",
           "name": "Europe",
           "orientation": "v",
           "showlegend": true,
           "type": "scatter",
           "x": [
            3313.422188,
            16661.6256,
            16672.14356,
            2860.16975,
            6597.494398,
            9164.090127,
            13108.4536,
            18866.20721,
            14358.8759,
            16107.19171,
            18016.180269999997,
            12724.82957,
            10168.65611,
            15798.063619999999,
            9530.772895999999,
            12269.27378,
            7778.414017,
            18794.74567,
            18965.05551,
            8006.506993000001,
            9022.247417,
            8011.414401999998,
            10522.067490000001,
            9674.167626,
            12383.4862,
            10638.75131,
            17832.02464,
            27195.113039999997,
            3450.69638,
            15895.116409999999
           ],
           "xaxis": "x",
           "y": [
            67.69,
            70.63,
            71.44,
            67.45,
            70.9,
            69.61,
            70.29,
            73.47,
            70.87,
            72.38,
            71,
            72.34,
            69.76,
            74.46,
            71.28,
            72.19,
            70.63600000000002,
            73.75,
            74.34,
            70.85,
            69.26,
            69.21,
            68.7,
            70.35,
            69.82,
            73.06,
            74.72,
            73.78,
            57.005,
            72.01
           ],
           "yaxis": "y"
          },
          {
           "hovertemplate": "<b>%{hovertext}</b><br><br>continent=Africa<br>year=1972<br>gdpPercap=%{x}<br>lifeExp=%{y}<br>pop=%{marker.size}<extra></extra>",
           "hovertext": [
            "Algeria",
            "Angola",
            "Benin",
            "Botswana",
            "Burkina Faso",
            "Burundi",
            "Cameroon",
            "Central African Republic",
            "Chad",
            "Comoros",
            "Congo, Dem. Rep.",
            "Congo, Rep.",
            "Cote d'Ivoire",
            "Djibouti",
            "Egypt",
            "Equatorial Guinea",
            "Eritrea",
            "Ethiopia",
            "Gabon",
            "Gambia",
            "Ghana",
            "Guinea",
            "Guinea-Bissau",
            "Kenya",
            "Lesotho",
            "Liberia",
            "Libya",
            "Madagascar",
            "Malawi",
            "Mali",
            "Mauritania",
            "Mauritius",
            "Morocco",
            "Mozambique",
            "Namibia",
            "Niger",
            "Nigeria",
            "Reunion",
            "Rwanda",
            "Sao Tome and Principe",
            "Senegal",
            "Sierra Leone",
            "Somalia",
            "South Africa",
            "Sudan",
            "Swaziland",
            "Tanzania",
            "Togo",
            "Tunisia",
            "Uganda",
            "Zambia",
            "Zimbabwe"
           ],
           "legendgroup": "Africa",
           "marker": {
            "color": "#00cc96",
            "size": [
             14760787,
             5894858,
             2761407,
             619351,
             5433886,
             3529983,
             7021028,
             1927260,
             3899068,
             250027,
             23007669,
             1340458,
             6071696,
             178848,
             34807417,
             277603,
             2260187,
             30770372,
             537977,
             517101,
             9354120,
             3811387,
             625361,
             12044785,
             1116779,
             1482628,
             2183877,
             7082430,
             4730997,
             5828158,
             1332786,
             851334,
             16660670,
             9809596,
             821782,
             5060262,
             53740085,
             461633,
             3992121,
             76595,
             4588696,
             2879013,
             3840161,
             23935810,
             14597019,
             480105,
             14706593,
             2056351,
             5303507,
             10190285,
             4506497,
             5861135
            ],
            "sizemode": "area",
            "sizeref": 366300.86,
            "symbol": "circle"
           },
           "mode": "markers",
           "name": "Africa",
           "orientation": "v",
           "showlegend": true,
           "type": "scatter",
           "x": [
            4182.663766,
            5473.2880049999985,
            1085.796879,
            2263.6111140000007,
            854.7359763000003,
            464.0995039,
            1684.1465280000002,
            1070.013275,
            1104.103987,
            1937.577675,
            904.8960685000001,
            3213.152683,
            2378.201111,
            3694.2123520000014,
            2024.0081469999998,
            672.4122571,
            514.3242081999998,
            566.2439442000001,
            11401.948409999999,
            756.0868363,
            1178.223708,
            741.6662307,
            820.2245876000003,
            1222.359968,
            496.58159220000016,
            803.0054535,
            21011.497209999998,
            1748.562982,
            584.6219709,
            581.3688761,
            1586.851781,
            2575.4841579999998,
            1930.194975,
            724.9178037,
            3746.080948,
            954.2092363,
            1698.3888379999999,
            5047.658563,
            590.5806637999998,
            1532.985254,
            1597.712056,
            1353.759762,
            1254.576127,
            7765.962636,
            1659.652775,
            3364.836625,
            915.9850592,
            1649.660188,
            2753.285994000001,
            950.735869,
            1773.498265,
            799.3621757999997
           ],
           "xaxis": "x",
           "y": [
            54.518,
            37.928000000000004,
            47.013999999999996,
            56.023999999999994,
            43.591,
            44.056999999999995,
            47.049,
            43.457,
            45.568999999999996,
            48.943999999999996,
            45.989,
            54.907,
            49.801,
            44.36600000000001,
            51.137,
            40.516,
            44.141999999999996,
            43.515,
            48.69,
            38.308,
            49.875,
            38.842,
            36.486,
            53.559,
            49.766999999999996,
            42.614,
            52.773,
            44.851000000000006,
            41.76600000000001,
            39.977,
            48.437,
            62.943999999999996,
            52.861999999999995,
            40.328,
            53.867,
            40.546,
            42.82100000000001,
            64.274,
            44.6,
            56.48,
            45.815,
            35.4,
            40.973,
            53.69600000000001,
            45.083,
            49.552,
            47.62,
            49.75899999999999,
            55.602,
            51.01600000000001,
            50.107,
            55.635
           ],
           "yaxis": "y"
          },
          {
           "hovertemplate": "<b>%{hovertext}</b><br><br>continent=Americas<br>year=1972<br>gdpPercap=%{x}<br>lifeExp=%{y}<br>pop=%{marker.size}<extra></extra>",
           "hovertext": [
            "Argentina",
            "Bolivia",
            "Brazil",
            "Canada",
            "Chile",
            "Colombia",
            "Costa Rica",
            "Cuba",
            "Dominican Republic",
            "Ecuador",
            "El Salvador",
            "Guatemala",
            "Haiti",
            "Honduras",
            "Jamaica",
            "Mexico",
            "Nicaragua",
            "Panama",
            "Paraguay",
            "Peru",
            "Puerto Rico",
            "Trinidad and Tobago",
            "United States",
            "Uruguay",
            "Venezuela"
           ],
           "legendgroup": "Americas",
           "marker": {
            "color": "#ab63fa",
            "size": [
             24779799,
             4565872,
             100840058,
             22284500,
             9717524,
             22542890,
             1834796,
             8831348,
             4671329,
             6298651,
             3790903,
             5149581,
             4698301,
             2965146,
             1997616,
             55984294,
             2182908,
             1616384,
             2614104,
             13954700,
             2847132,
             975199,
             209896000,
             2829526,
             11515649
            ],
            "sizemode": "area",
            "sizeref": 366300.86,
            "symbol": "circle"
           },
           "mode": "markers",
           "name": "Americas",
           "orientation": "v",
           "showlegend": true,
           "type": "scatter",
           "x": [
            9443.038526,
            2980.331339,
            4985.711467,
            18970.57086,
            5494.024437,
            3264.660041,
            5118.146939,
            5305.445256,
            2189.874499,
            5280.99471,
            4520.246008,
            4031.4082710000002,
            1654.456946,
            2529.842345,
            7433.889293000001,
            6809.4066900000025,
            4688.593267,
            5364.249663000001,
            2523.337977,
            5937.827283,
            9123.041742,
            6619.5514189999985,
            21806.03594,
            5703.408898,
            10505.25966
           ],
           "xaxis": "x",
           "y": [
            67.065,
            46.714,
            59.504,
            72.88,
            63.441,
            61.62300000000001,
            67.84899999999999,
            70.723,
            59.631,
            58.79600000000001,
            58.207,
            53.738,
            48.042,
            53.88399999999999,
            69,
            62.361000000000004,
            55.151,
            66.21600000000001,
            65.815,
            55.448,
            72.16,
            65.9,
            71.34,
            68.673,
            65.712
           ],
           "yaxis": "y"
          },
          {
           "hovertemplate": "<b>%{hovertext}</b><br><br>continent=Oceania<br>year=1972<br>gdpPercap=%{x}<br>lifeExp=%{y}<br>pop=%{marker.size}<extra></extra>",
           "hovertext": [
            "Australia",
            "New Zealand"
           ],
           "legendgroup": "Oceania",
           "marker": {
            "color": "#FFA15A",
            "size": [
             13177000,
             2929100
            ],
            "sizemode": "area",
            "sizeref": 366300.86,
            "symbol": "circle"
           },
           "mode": "markers",
           "name": "Oceania",
           "orientation": "v",
           "showlegend": true,
           "type": "scatter",
           "x": [
            16788.62948,
            16046.03728
           ],
           "xaxis": "x",
           "y": [
            71.93,
            71.89
           ],
           "yaxis": "y"
          }
         ],
         "name": "1972"
        },
        {
         "data": [
          {
           "hovertemplate": "<b>%{hovertext}</b><br><br>continent=Asia<br>year=1977<br>gdpPercap=%{x}<br>lifeExp=%{y}<br>pop=%{marker.size}<extra></extra>",
           "hovertext": [
            "Afghanistan",
            "Bahrain",
            "Bangladesh",
            "Cambodia",
            "China",
            "Hong Kong, China",
            "India",
            "Indonesia",
            "Iran",
            "Iraq",
            "Israel",
            "Japan",
            "Jordan",
            "Korea, Dem. Rep.",
            "Korea, Rep.",
            "Kuwait",
            "Lebanon",
            "Malaysia",
            "Mongolia",
            "Myanmar",
            "Nepal",
            "Oman",
            "Pakistan",
            "Philippines",
            "Saudi Arabia",
            "Singapore",
            "Sri Lanka",
            "Syria",
            "Taiwan",
            "Thailand",
            "Vietnam",
            "West Bank and Gaza",
            "Yemen, Rep."
           ],
           "legendgroup": "Asia",
           "marker": {
            "color": "#636efa",
            "size": [
             14880372,
             297410,
             80428306,
             6978607,
             943455000,
             4583700,
             634000000,
             136725000,
             35480679,
             11882916,
             3495918,
             113872473,
             1937652,
             16325320,
             36436000,
             1140357,
             3115787,
             12845381,
             1528000,
             31528087,
             13933198,
             1004533,
             78152686,
             46850962,
             8128505,
             2325300,
             14116836,
             7932503,
             16785196,
             44148285,
             50533506,
             1261091,
             8403990
            ],
            "sizemode": "area",
            "sizeref": 366300.86,
            "symbol": "circle"
           },
           "mode": "markers",
           "name": "Asia",
           "orientation": "v",
           "showlegend": true,
           "type": "scatter",
           "x": [
            786.11336,
            19340.10196,
            659.8772322000002,
            524.9721831999999,
            741.2374699,
            11186.14125,
            813.3373230000003,
            1382.702056,
            11888.59508,
            14688.235069999999,
            13306.619209999999,
            16610.37701,
            2852.351568,
            4106.301249,
            4657.22102,
            59265.477139999995,
            8659.696836,
            3827.9215710000003,
            1647.511665,
            371,
            694.1124398,
            11848.343920000001,
            1175.921193,
            2373.204287,
            34167.7626,
            11210.08948,
            1348.775651,
            3195.484582,
            5596.519826,
            1961.2246350000007,
            713.5371196000001,
            3682.8314939999996,
            1829.765177
           ],
           "xaxis": "x",
           "y": [
            38.438,
            65.593,
            46.923,
            31.22,
            63.96736,
            73.6,
            54.208,
            52.702,
            57.702,
            60.413000000000004,
            73.06,
            75.38,
            61.13399999999999,
            67.15899999999999,
            64.766,
            69.343,
            66.09899999999999,
            65.256,
            55.49100000000001,
            56.059,
            46.74800000000001,
            57.367,
            54.043,
            60.06,
            58.69,
            70.795,
            65.949,
            61.195,
            70.59,
            62.494,
            55.763999999999996,
            60.765,
            44.175
           ],
           "yaxis": "y"
          },
          {
           "hovertemplate": "<b>%{hovertext}</b><br><br>continent=Europe<br>year=1977<br>gdpPercap=%{x}<br>lifeExp=%{y}<br>pop=%{marker.size}<extra></extra>",
           "hovertext": [
            "Albania",
            "Austria",
            "Belgium",
            "Bosnia and Herzegovina",
            "Bulgaria",
            "Croatia",
            "Czech Republic",
            "Denmark",
            "Finland",
            "France",
            "Germany",
            "Greece",
            "Hungary",
            "Iceland",
            "Ireland",
            "Italy",
            "Montenegro",
            "Netherlands",
            "Norway",
            "Poland",
            "Portugal",
            "Romania",
            "Serbia",
            "Slovak Republic",
            "Slovenia",
            "Spain",
            "Sweden",
            "Switzerland",
            "Turkey",
            "United Kingdom"
           ],
           "legendgroup": "Europe",
           "marker": {
            "color": "#EF553B",
            "size": [
             2509048,
             7568430,
             9821800,
             4086000,
             8797022,
             4318673,
             10161915,
             5088419,
             4738902,
             53165019,
             78160773,
             9308479,
             10637171,
             221823,
             3271900,
             56059245,
             560073,
             13852989,
             4043205,
             34621254,
             9662600,
             21658597,
             8686367,
             4827803,
             1746919,
             36439000,
             8251648,
             6316424,
             42404033,
             56179000
            ],
            "sizemode": "area",
            "sizeref": 366300.86,
            "symbol": "circle"
           },
           "mode": "markers",
           "name": "Europe",
           "orientation": "v",
           "showlegend": true,
           "type": "scatter",
           "x": [
            3533.0039100000013,
            19749.4223,
            19117.97448,
            3528.481305,
            7612.240438,
            11305.38517,
            14800.160619999999,
            20422.9015,
            15605.422830000001,
            18292.635140000002,
            20512.92123,
            14195.524280000001,
            11674.837370000001,
            19654.96247,
            11150.98113,
            14255.98475,
            9595.929904999999,
            21209.0592,
            23311.34939,
            9508.141454,
            10172.48572,
            9356.39724,
            12980.66956,
            10922.664040000001,
            15277.030169999998,
            13236.92117,
            18855.72521,
            26982.29052,
            4269.122326,
            17428.74846
           ],
           "xaxis": "x",
           "y": [
            68.93,
            72.17,
            72.8,
            69.86,
            70.81,
            70.64,
            70.71,
            74.69,
            72.52,
            73.83,
            72.5,
            73.68,
            69.95,
            76.11,
            72.03,
            73.48,
            73.066,
            75.24,
            75.37,
            70.67,
            70.41,
            69.46,
            70.3,
            70.45,
            70.97,
            74.39,
            75.44,
            75.39,
            59.507,
            72.76
           ],
           "yaxis": "y"
          },
          {
           "hovertemplate": "<b>%{hovertext}</b><br><br>continent=Africa<br>year=1977<br>gdpPercap=%{x}<br>lifeExp=%{y}<br>pop=%{marker.size}<extra></extra>",
           "hovertext": [
            "Algeria",
            "Angola",
            "Benin",
            "Botswana",
            "Burkina Faso",
            "Burundi",
            "Cameroon",
            "Central African Republic",
            "Chad",
            "Comoros",
            "Congo, Dem. Rep.",
            "Congo, Rep.",
            "Cote d'Ivoire",
            "Djibouti",
            "Egypt",
            "Equatorial Guinea",
            "Eritrea",
            "Ethiopia",
            "Gabon",
            "Gambia",
            "Ghana",
            "Guinea",
            "Guinea-Bissau",
            "Kenya",
            "Lesotho",
            "Liberia",
            "Libya",
            "Madagascar",
            "Malawi",
            "Mali",
            "Mauritania",
            "Mauritius",
            "Morocco",
            "Mozambique",
            "Namibia",
            "Niger",
            "Nigeria",
            "Reunion",
            "Rwanda",
            "Sao Tome and Principe",
            "Senegal",
            "Sierra Leone",
            "Somalia",
            "South Africa",
            "Sudan",
            "Swaziland",
            "Tanzania",
            "Togo",
            "Tunisia",
            "Uganda",
            "Zambia",
            "Zimbabwe"
           ],
           "legendgroup": "Africa",
           "marker": {
            "color": "#00cc96",
            "size": [
             17152804,
             6162675,
             3168267,
             781472,
             5889574,
             3834415,
             7959865,
             2167533,
             4388260,
             304739,
             26480870,
             1536769,
             7459574,
             228694,
             38783863,
             192675,
             2512642,
             34617799,
             706367,
             608274,
             10538093,
             4227026,
             745228,
             14500404,
             1251524,
             1703617,
             2721783,
             8007166,
             5637246,
             6491649,
             1456688,
             913025,
             18396941,
             11127868,
             977026,
             5682086,
             62209173,
             492095,
             4657072,
             86796,
             5260855,
             3140897,
             4353666,
             27129932,
             17104986,
             551425,
             17129565,
             2308582,
             6005061,
             11457758,
             5216550,
             6642107
            ],
            "sizemode": "area",
            "sizeref": 366300.86,
            "symbol": "circle"
           },
           "mode": "markers",
           "name": "Africa",
           "orientation": "v",
           "showlegend": true,
           "type": "scatter",
           "x": [
            4910.416756000001,
            3008.647355,
            1029.161251,
            3214.857818,
            743.3870368,
            556.1032651,
            1783.432873,
            1109.374338,
            1133.98495,
            1172.603047,
            795.757282,
            3259.178978,
            2517.736547,
            3081.7610219999997,
            2785.493582,
            958.5668124,
            505.7538077,
            556.8083834,
            21745.57328,
            884.7552507000001,
            993.2239571,
            874.6858642999997,
            764.7259627999997,
            1267.613204,
            745.3695408,
            640.3224382999998,
            21951.21176,
            1544.228586,
            663.2236766,
            686.3952693,
            1497.492223,
            3710.9829630000004,
            2370.619976,
            502.31973339999996,
            3876.4859579999998,
            808.8970727999997,
            1981.9518059999998,
            4319.804067,
            670.0806011,
            1737.561657,
            1561.769116,
            1348.285159,
            1450.9925130000001,
            8028.651439,
            2202.9884230000002,
            3781.410618,
            962.4922932,
            1532.776998,
            3120.876811,
            843.7331372000001,
            1588.688299,
            685.5876821
           ],
           "xaxis": "x",
           "y": [
            58.013999999999996,
            39.483000000000004,
            49.19,
            59.318999999999996,
            46.137,
            45.91,
            49.355,
            46.775,
            47.383,
            50.93899999999999,
            47.803999999999995,
            55.625,
            52.373999999999995,
            46.519,
            53.318999999999996,
            42.023999999999994,
            44.535,
            44.51,
            52.79,
            41.842,
            51.756,
            40.762,
            37.465,
            56.155,
            52.208,
            43.763999999999996,
            57.442,
            46.881,
            43.766999999999996,
            41.714,
            50.852,
            64.93,
            55.73,
            42.495,
            56.437,
            41.291000000000004,
            44.513999999999996,
            67.064,
            45,
            58.55,
            48.879,
            36.788000000000004,
            41.974,
            55.527,
            47.8,
            52.537,
            49.919,
            52.887,
            59.836999999999996,
            50.35,
            51.386,
            57.674
           ],
           "yaxis": "y"
          },
          {
           "hovertemplate": "<b>%{hovertext}</b><br><br>continent=Americas<br>year=1977<br>gdpPercap=%{x}<br>lifeExp=%{y}<br>pop=%{marker.size}<extra></extra>",
           "hovertext": [
            "Argentina",
            "Bolivia",
            "Brazil",
            "Canada",
            "Chile",
            "Colombia",
            "Costa Rica",
            "Cuba",
            "Dominican Republic",
            "Ecuador",
            "El Salvador",
            "Guatemala",
            "Haiti",
            "Honduras",
            "Jamaica",
            "Mexico",
            "Nicaragua",
            "Panama",
            "Paraguay",
            "Peru",
            "Puerto Rico",
            "Trinidad and Tobago",
            "United States",
            "Uruguay",
            "Venezuela"
           ],
           "legendgroup": "Americas",
           "marker": {
            "color": "#ab63fa",
            "size": [
             26983828,
             5079716,
             114313951,
             23796400,
             10599793,
             25094412,
             2108457,
             9537988,
             5302800,
             7278866,
             4282586,
             5703430,
             4908554,
             3055235,
             2156814,
             63759976,
             2554598,
             1839782,
             2984494,
             15990099,
             3080828,
             1039009,
             220239000,
             2873520,
             13503563
            ],
            "sizemode": "area",
            "sizeref": 366300.86,
            "symbol": "circle"
           },
           "mode": "markers",
           "name": "Americas",
           "orientation": "v",
           "showlegend": true,
           "type": "scatter",
           "x": [
            10079.026740000001,
            3548.097832,
            6660.118654,
            22090.88306,
            4756.763836,
            3815.80787,
            5926.876967,
            6380.4949659999975,
            2681.9889,
            6679.62326,
            5138.922374,
            4879.992748,
            1874.2989309999998,
            3203.208066,
            6650.195573,
            7674.929108,
            5486.371089,
            5351.912144,
            3248.373311,
            6281.2908549999975,
            9770.524921,
            7899.554209000001,
            24072.63213,
            6504.3396630000025,
            13143.95095
           ],
           "xaxis": "x",
           "y": [
            68.48100000000001,
            50.023,
            61.489,
            74.21,
            67.05199999999999,
            63.836999999999996,
            70.75,
            72.649,
            61.788000000000004,
            61.31,
            56.69600000000001,
            56.028999999999996,
            49.923,
            57.402,
            70.11,
            65.032,
            57.47,
            68.681,
            66.35300000000001,
            58.446999999999996,
            73.44,
            68.3,
            73.38,
            69.48100000000001,
            67.456
           ],
           "yaxis": "y"
          },
          {
           "hovertemplate": "<b>%{hovertext}</b><br><br>continent=Oceania<br>year=1977<br>gdpPercap=%{x}<br>lifeExp=%{y}<br>pop=%{marker.size}<extra></extra>",
           "hovertext": [
            "Australia",
            "New Zealand"
           ],
           "legendgroup": "Oceania",
           "marker": {
            "color": "#FFA15A",
            "size": [
             14074100,
             3164900
            ],
            "sizemode": "area",
            "sizeref": 366300.86,
            "symbol": "circle"
           },
           "mode": "markers",
           "name": "Oceania",
           "orientation": "v",
           "showlegend": true,
           "type": "scatter",
           "x": [
            18334.197509999998,
            16233.7177
           ],
           "xaxis": "x",
           "y": [
            73.49,
            72.22
           ],
           "yaxis": "y"
          }
         ],
         "name": "1977"
        },
        {
         "data": [
          {
           "hovertemplate": "<b>%{hovertext}</b><br><br>continent=Asia<br>year=1982<br>gdpPercap=%{x}<br>lifeExp=%{y}<br>pop=%{marker.size}<extra></extra>",
           "hovertext": [
            "Afghanistan",
            "Bahrain",
            "Bangladesh",
            "Cambodia",
            "China",
            "Hong Kong, China",
            "India",
            "Indonesia",
            "Iran",
            "Iraq",
            "Israel",
            "Japan",
            "Jordan",
            "Korea, Dem. Rep.",
            "Korea, Rep.",
            "Kuwait",
            "Lebanon",
            "Malaysia",
            "Mongolia",
            "Myanmar",
            "Nepal",
            "Oman",
            "Pakistan",
            "Philippines",
            "Saudi Arabia",
            "Singapore",
            "Sri Lanka",
            "Syria",
            "Taiwan",
            "Thailand",
            "Vietnam",
            "West Bank and Gaza",
            "Yemen, Rep."
           ],
           "legendgroup": "Asia",
           "marker": {
            "color": "#636efa",
            "size": [
             12881816,
             377967,
             93074406,
             7272485,
             1000281000,
             5264500,
             708000000,
             153343000,
             43072751,
             14173318,
             3858421,
             118454974,
             2347031,
             17647518,
             39326000,
             1497494,
             3086876,
             14441916,
             1756032,
             34680442,
             15796314,
             1301048,
             91462088,
             53456774,
             11254672,
             2651869,
             15410151,
             9410494,
             18501390,
             48827160,
             56142181,
             1425876,
             9657618
            ],
            "sizemode": "area",
            "sizeref": 366300.86,
            "symbol": "circle"
           },
           "mode": "markers",
           "name": "Asia",
           "orientation": "v",
           "showlegend": true,
           "type": "scatter",
           "x": [
            978.0114388000001,
            19211.14731,
            676.9818656,
            624.4754784,
            962.4213804999999,
            14560.530509999999,
            855.7235377000003,
            1516.872988,
            7608.334602,
            14517.90711,
            15367.0292,
            19384.10571,
            4161.415959,
            4106.525293,
            5622.942464,
            31354.03573,
            7640.519520999997,
            4920.355951,
            2000.603139,
            424,
            718.3730947,
            12954.791009999999,
            1443.429832,
            2603.273765,
            33693.17525,
            15169.161119999999,
            1648.0797890000001,
            3761.8377149999997,
            7426.354773999998,
            2393.219781,
            707.2357863,
            4336.032082,
            1977.5570100000002
           ],
           "xaxis": "x",
           "y": [
            39.854,
            69.05199999999999,
            50.00899999999999,
            50.957,
            65.525,
            75.45,
            56.596000000000004,
            56.159,
            59.62,
            62.038000000000004,
            74.45,
            77.11,
            63.739,
            69.1,
            67.123,
            71.309,
            66.983,
            68,
            57.489,
            58.056000000000004,
            49.593999999999994,
            62.728,
            56.158,
            62.082,
            63.012,
            71.76,
            68.757,
            64.59,
            72.16,
            64.597,
            58.816,
            64.406,
            49.113
           ],
           "yaxis": "y"
          },
          {
           "hovertemplate": "<b>%{hovertext}</b><br><br>continent=Europe<br>year=1982<br>gdpPercap=%{x}<br>lifeExp=%{y}<br>pop=%{marker.size}<extra></extra>",
           "hovertext": [
            "Albania",
            "Austria",
            "Belgium",
            "Bosnia and Herzegovina",
            "Bulgaria",
            "Croatia",
            "Czech Republic",
            "Denmark",
            "Finland",
            "France",
            "Germany",
            "Greece",
            "Hungary",
            "Iceland",
            "Ireland",
            "Italy",
            "Montenegro",
            "Netherlands",
            "Norway",
            "Poland",
            "Portugal",
            "Romania",
            "Serbia",
            "Slovak Republic",
            "Slovenia",
            "Spain",
            "Sweden",
            "Switzerland",
            "Turkey",
            "United Kingdom"
           ],
           "legendgroup": "Europe",
           "marker": {
            "color": "#EF553B",
            "size": [
             2780097,
             7574613,
             9856303,
             4172693,
             8892098,
             4413368,
             10303704,
             5117810,
             4826933,
             54433565,
             78335266,
             9786480,
             10705535,
             233997,
             3480000,
             56535636,
             562548,
             14310401,
             4114787,
             36227381,
             9859650,
             22356726,
             9032824,
             5048043,
             1861252,
             37983310,
             8325260,
             6468126,
             47328791,
             56339704
            ],
            "sizemode": "area",
            "sizeref": 366300.86,
            "symbol": "circle"
           },
           "mode": "markers",
           "name": "Europe",
           "orientation": "v",
           "showlegend": true,
           "type": "scatter",
           "x": [
            3630.880722,
            21597.083619999998,
            20979.84589,
            4126.613157,
            8224.191647,
            13221.82184,
            15377.22855,
            21688.04048,
            18533.15761,
            20293.89746,
            22031.532740000002,
            15268.420890000001,
            12545.99066,
            23269.6075,
            12618.321409999999,
            16537.4835,
            11222.58762,
            21399.46046,
            26298.635309999998,
            8451.531004,
            11753.84291,
            9605.314053,
            15181.0927,
            11348.54585,
            17866.72175,
            13926.169969999999,
            20667.38125,
            28397.715119999997,
            4241.356344,
            18232.42452
           ],
           "xaxis": "x",
           "y": [
            70.42,
            73.18,
            73.93,
            70.69,
            71.08,
            70.46,
            70.96,
            74.63,
            74.55,
            74.89,
            73.8,
            75.24,
            69.39,
            76.99,
            73.1,
            74.98,
            74.101,
            76.05,
            75.97,
            71.32,
            72.77,
            69.66,
            70.16199999999999,
            70.8,
            71.063,
            76.3,
            76.42,
            76.21,
            61.036,
            74.04
           ],
           "yaxis": "y"
          },
          {
           "hovertemplate": "<b>%{hovertext}</b><br><br>continent=Africa<br>year=1982<br>gdpPercap=%{x}<br>lifeExp=%{y}<br>pop=%{marker.size}<extra></extra>",
           "hovertext": [
            "Algeria",
            "Angola",
            "Benin",
            "Botswana",
            "Burkina Faso",
            "Burundi",
            "Cameroon",
            "Central African Republic",
            "Chad",
            "Comoros",
            "Congo, Dem. Rep.",
            "Congo, Rep.",
            "Cote d'Ivoire",
            "Djibouti",
            "Egypt",
            "Equatorial Guinea",
            "Eritrea",
            "Ethiopia",
            "Gabon",
            "Gambia",
            "Ghana",
            "Guinea",
            "Guinea-Bissau",
            "Kenya",
            "Lesotho",
            "Liberia",
            "Libya",
            "Madagascar",
            "Malawi",
            "Mali",
            "Mauritania",
            "Mauritius",
            "Morocco",
            "Mozambique",
            "Namibia",
            "Niger",
            "Nigeria",
            "Reunion",
            "Rwanda",
            "Sao Tome and Principe",
            "Senegal",
            "Sierra Leone",
            "Somalia",
            "South Africa",
            "Sudan",
            "Swaziland",
            "Tanzania",
            "Togo",
            "Tunisia",
            "Uganda",
            "Zambia",
            "Zimbabwe"
           ],
           "legendgroup": "Africa",
           "marker": {
            "color": "#00cc96",
            "size": [
             20033753,
             7016384,
             3641603,
             970347,
             6634596,
             4580410,
             9250831,
             2476971,
             4875118,
             348643,
             30646495,
             1774735,
             9025951,
             305991,
             45681811,
             285483,
             2637297,
             38111756,
             753874,
             715523,
             11400338,
             4710497,
             825987,
             17661452,
             1411807,
             1956875,
             3344074,
             9171477,
             6502825,
             6998256,
             1622136,
             992040,
             20198730,
             12587223,
             1099010,
             6437188,
             73039376,
             517810,
             5507565,
             98593,
             6147783,
             3464522,
             5828892,
             31140029,
             20367053,
             649901,
             19844382,
             2644765,
             6734098,
             12939400,
             6100407,
             7636524
            ],
            "sizemode": "area",
            "sizeref": 366300.86,
            "symbol": "circle"
           },
           "mode": "markers",
           "name": "Africa",
           "orientation": "v",
           "showlegend": true,
           "type": "scatter",
           "x": [
            5745.160213,
            2756.953672,
            1277.897616,
            4551.14215,
            807.1985855,
            559.6032309999998,
            2367.983282,
            956.7529906999999,
            797.9081006,
            1267.100083,
            673.7478181,
            4879.507522,
            2602.710169,
            2879.4680670000002,
            3503.729636,
            927.8253427000001,
            524.8758493,
            577.8607471,
            15113.36194,
            835.8096107999999,
            876.032569,
            857.2503577,
            838.1239671,
            1348.225791,
            797.2631074,
            572.1995694,
            17364.275380000006,
            1302.878658,
            632.8039209,
            618.0140640999998,
            1481.150189,
            3688.037739,
            2702.620356,
            462.2114149,
            4191.100511,
            909.7221354000001,
            1576.97375,
            5267.219353,
            881.5706467,
            1890.2181170000001,
            1518.479984,
            1465.010784,
            1176.807031,
            8568.266228,
            1895.544073,
            3895.384018,
            874.2426069,
            1344.577953,
            3560.2331740000004,
            682.2662267999998,
            1408.678565,
            788.8550411
           ],
           "xaxis": "x",
           "y": [
            61.368,
            39.942,
            50.903999999999996,
            61.483999999999995,
            48.122,
            47.471000000000004,
            52.96100000000001,
            48.295,
            49.516999999999996,
            52.933,
            47.784,
            56.695,
            53.983000000000004,
            48.812,
            56.006,
            43.662,
            43.89,
            44.916000000000004,
            56.56399999999999,
            45.58,
            53.744,
            42.89100000000001,
            39.327,
            58.76600000000001,
            55.078,
            44.852,
            62.155,
            48.968999999999994,
            45.641999999999996,
            43.916000000000004,
            53.599,
            66.711,
            59.65,
            42.795,
            58.968,
            42.598,
            45.826,
            69.885,
            46.218,
            60.351000000000006,
            52.379,
            38.445,
            42.955,
            58.161,
            50.338,
            55.56100000000001,
            50.608000000000004,
            55.471000000000004,
            64.048,
            49.849,
            51.82100000000001,
            60.363
           ],
           "yaxis": "y"
          },
          {
           "hovertemplate": "<b>%{hovertext}</b><br><br>continent=Americas<br>year=1982<br>gdpPercap=%{x}<br>lifeExp=%{y}<br>pop=%{marker.size}<extra></extra>",
           "hovertext": [
            "Argentina",
            "Bolivia",
            "Brazil",
            "Canada",
            "Chile",
            "Colombia",
            "Costa Rica",
            "Cuba",
            "Dominican Republic",
            "Ecuador",
            "El Salvador",
            "Guatemala",
            "Haiti",
            "Honduras",
            "Jamaica",
            "Mexico",
            "Nicaragua",
            "Panama",
            "Paraguay",
            "Peru",
            "Puerto Rico",
            "Trinidad and Tobago",
            "United States",
            "Uruguay",
            "Venezuela"
           ],
           "legendgroup": "Americas",
           "marker": {
            "color": "#ab63fa",
            "size": [
             29341374,
             5642224,
             128962939,
             25201900,
             11487112,
             27764644,
             2424367,
             9789224,
             5968349,
             8365850,
             4474873,
             6395630,
             5198399,
             3669448,
             2298309,
             71640904,
             2979423,
             2036305,
             3366439,
             18125129,
             3279001,
             1116479,
             232187835,
             2953997,
             15620766
            ],
            "sizemode": "area",
            "sizeref": 366300.86,
            "symbol": "circle"
           },
           "mode": "markers",
           "name": "Americas",
           "orientation": "v",
           "showlegend": true,
           "type": "scatter",
           "x": [
            8997.897412,
            3156.510452,
            7030.835878,
            22898.79214,
            5095.6657380000015,
            4397.575659,
            5262.734751,
            7316.918106999998,
            2861.092386,
            7213.7912670000005,
            4098.344175,
            4820.49479,
            2011.1595489999997,
            3121.760794000001,
            6068.05135,
            9611.147541,
            3470.338156000001,
            7009.601598,
            4258.5036039999995,
            6434.501797,
            10330.98915,
            9119.528607,
            25009.55914,
            6920.223051000001,
            11152.410109999999
           ],
           "xaxis": "x",
           "y": [
            69.942,
            53.858999999999995,
            63.33600000000001,
            75.76,
            70.565,
            66.653,
            73.45,
            73.717,
            63.727,
            64.342,
            56.604,
            58.137,
            51.46100000000001,
            60.909,
            71.21,
            67.405,
            59.298,
            70.472,
            66.874,
            61.40600000000001,
            73.75,
            68.832,
            74.65,
            70.805,
            68.557
           ],
           "yaxis": "y"
          },
          {
           "hovertemplate": "<b>%{hovertext}</b><br><br>continent=Oceania<br>year=1982<br>gdpPercap=%{x}<br>lifeExp=%{y}<br>pop=%{marker.size}<extra></extra>",
           "hovertext": [
            "Australia",
            "New Zealand"
           ],
           "legendgroup": "Oceania",
           "marker": {
            "color": "#FFA15A",
            "size": [
             15184200,
             3210650
            ],
            "sizemode": "area",
            "sizeref": 366300.86,
            "symbol": "circle"
           },
           "mode": "markers",
           "name": "Oceania",
           "orientation": "v",
           "showlegend": true,
           "type": "scatter",
           "x": [
            19477.009280000002,
            17632.4104
           ],
           "xaxis": "x",
           "y": [
            74.74,
            73.84
           ],
           "yaxis": "y"
          }
         ],
         "name": "1982"
        },
        {
         "data": [
          {
           "hovertemplate": "<b>%{hovertext}</b><br><br>continent=Asia<br>year=1987<br>gdpPercap=%{x}<br>lifeExp=%{y}<br>pop=%{marker.size}<extra></extra>",
           "hovertext": [
            "Afghanistan",
            "Bahrain",
            "Bangladesh",
            "Cambodia",
            "China",
            "Hong Kong, China",
            "India",
            "Indonesia",
            "Iran",
            "Iraq",
            "Israel",
            "Japan",
            "Jordan",
            "Korea, Dem. Rep.",
            "Korea, Rep.",
            "Kuwait",
            "Lebanon",
            "Malaysia",
            "Mongolia",
            "Myanmar",
            "Nepal",
            "Oman",
            "Pakistan",
            "Philippines",
            "Saudi Arabia",
            "Singapore",
            "Sri Lanka",
            "Syria",
            "Taiwan",
            "Thailand",
            "Vietnam",
            "West Bank and Gaza",
            "Yemen, Rep."
           ],
           "legendgroup": "Asia",
           "marker": {
            "color": "#636efa",
            "size": [
             13867957,
             454612,
             103764241,
             8371791,
             1084035000,
             5584510,
             788000000,
             169276000,
             51889696,
             16543189,
             4203148,
             122091325,
             2820042,
             19067554,
             41622000,
             1891487,
             3089353,
             16331785,
             2015133,
             38028578,
             17917180,
             1593882,
             105186881,
             60017788,
             14619745,
             2794552,
             16495304,
             11242847,
             19757799,
             52910342,
             62826491,
             1691210,
             11219340
            ],
            "sizemode": "area",
            "sizeref": 366300.86,
            "symbol": "circle"
           },
           "mode": "markers",
           "name": "Asia",
           "orientation": "v",
           "showlegend": true,
           "type": "scatter",
           "x": [
            852.3959447999997,
            18524.02406,
            751.9794035,
            683.8955732000003,
            1378.904018,
            20038.472690000002,
            976.5126756000001,
            1748.356961,
            6642.881371,
            11643.57268,
            17122.47986,
            22375.941890000002,
            4448.679912,
            4106.4923149999995,
            8533.088805,
            28118.42998,
            5377.091329,
            5249.802653,
            2338.008304,
            385,
            775.6324501,
            18115.223130000002,
            1704.686583,
            2189.634995,
            21198.26136,
            18861.53081,
            1876.766827,
            3116.774285,
            11054.56175,
            2982.653773,
            820.7994449,
            5107.197384,
            1971.741538
           ],
           "xaxis": "x",
           "y": [
            40.821999999999996,
            70.75,
            52.818999999999996,
            53.913999999999994,
            67.274,
            76.2,
            58.553000000000004,
            60.137,
            63.04,
            65.044,
            75.6,
            78.67,
            65.869,
            70.64699999999998,
            69.81,
            74.17399999999998,
            67.926,
            69.5,
            60.222,
            58.339,
            52.537,
            67.734,
            58.245,
            64.15100000000001,
            66.295,
            73.56,
            69.01100000000001,
            66.97399999999999,
            73.4,
            66.084,
            62.82,
            67.046,
            52.922
           ],
           "yaxis": "y"
          },
          {
           "hovertemplate": "<b>%{hovertext}</b><br><br>continent=Europe<br>year=1987<br>gdpPercap=%{x}<br>lifeExp=%{y}<br>pop=%{marker.size}<extra></extra>",
           "hovertext": [
            "Albania",
            "Austria",
            "Belgium",
            "Bosnia and Herzegovina",
            "Bulgaria",
            "Croatia",
            "Czech Republic",
            "Denmark",
            "Finland",
            "France",
            "Germany",
            "Greece",
            "Hungary",
            "Iceland",
            "Ireland",
            "Italy",
            "Montenegro",
            "Netherlands",
            "Norway",
            "Poland",
            "Portugal",
            "Romania",
            "Serbia",
            "Slovak Republic",
            "Slovenia",
            "Spain",
            "Sweden",
            "Switzerland",
            "Turkey",
            "United Kingdom"
           ],
           "legendgroup": "Europe",
           "marker": {
            "color": "#EF553B",
            "size": [
             3075321,
             7578903,
             9870200,
             4338977,
             8971958,
             4484310,
             10311597,
             5127024,
             4931729,
             55630100,
             77718298,
             9974490,
             10612740,
             244676,
             3539900,
             56729703,
             569473,
             14665278,
             4186147,
             37740710,
             9915289,
             22686371,
             9230783,
             5199318,
             1945870,
             38880702,
             8421403,
             6649942,
             52881328,
             56981620
            ],
            "sizemode": "area",
            "sizeref": 366300.86,
            "symbol": "circle"
           },
           "mode": "markers",
           "name": "Europe",
           "orientation": "v",
           "showlegend": true,
           "type": "scatter",
           "x": [
            3738.9327350000003,
            23687.82607,
            22525.56308,
            4314.114757,
            8239.854824,
            13822.58394,
            16310.4434,
            25116.17581,
            21141.01223,
            22066.44214,
            24639.18566,
            16120.528390000001,
            12986.47998,
            26923.206280000002,
            13872.86652,
            19207.234819999998,
            11732.51017,
            23651.32361,
            31540.9748,
            9082.351172,
            13039.30876,
            9696.273295,
            15870.878509999999,
            12037.26758,
            18678.53492,
            15764.98313,
            23586.92927,
            30281.704589999998,
            5089.043686,
            21664.787669999998
           ],
           "xaxis": "x",
           "y": [
            72,
            74.94,
            75.35,
            71.14,
            71.34,
            71.52,
            71.58,
            74.8,
            74.83,
            76.34,
            74.847,
            76.67,
            69.58,
            77.23,
            74.36,
            76.42,
            74.865,
            76.83,
            75.89,
            70.98,
            74.06,
            69.53,
            71.218,
            71.08,
            72.25,
            76.9,
            77.19,
            77.41,
            63.108000000000004,
            75.007
           ],
           "yaxis": "y"
          },
          {
           "hovertemplate": "<b>%{hovertext}</b><br><br>continent=Africa<br>year=1987<br>gdpPercap=%{x}<br>lifeExp=%{y}<br>pop=%{marker.size}<extra></extra>",
           "hovertext": [
            "Algeria",
            "Angola",
            "Benin",
            "Botswana",
            "Burkina Faso",
            "Burundi",
            "Cameroon",
            "Central African Republic",
            "Chad",
            "Comoros",
            "Congo, Dem. Rep.",
            "Congo, Rep.",
            "Cote d'Ivoire",
            "Djibouti",
            "Egypt",
            "Equatorial Guinea",
            "Eritrea",
            "Ethiopia",
            "Gabon",
            "Gambia",
            "Ghana",
            "Guinea",
            "Guinea-Bissau",
            "Kenya",
            "Lesotho",
            "Liberia",
            "Libya",
            "Madagascar",
            "Malawi",
            "Mali",
            "Mauritania",
            "Mauritius",
            "Morocco",
            "Mozambique",
            "Namibia",
            "Niger",
            "Nigeria",
            "Reunion",
            "Rwanda",
            "Sao Tome and Principe",
            "Senegal",
            "Sierra Leone",
            "Somalia",
            "South Africa",
            "Sudan",
            "Swaziland",
            "Tanzania",
            "Togo",
            "Tunisia",
            "Uganda",
            "Zambia",
            "Zimbabwe"
           ],
           "legendgroup": "Africa",
           "marker": {
            "color": "#00cc96",
            "size": [
             23254956,
             7874230,
             4243788,
             1151184,
             7586551,
             5126023,
             10780667,
             2840009,
             5498955,
             395114,
             35481645,
             2064095,
             10761098,
             311025,
             52799062,
             341244,
             2915959,
             42999530,
             880397,
             848406,
             14168101,
             5650262,
             927524,
             21198082,
             1599200,
             2269414,
             3799845,
             10568642,
             7824747,
             7634008,
             1841240,
             1042663,
             22987397,
             12891952,
             1278184,
             7332638,
             81551520,
             562035,
             6349365,
             110812,
             7171347,
             3868905,
             6921858,
             35933379,
             24725960,
             779348,
             23040630,
             3154264,
             7724976,
             15283050,
             7272406,
             9216418
            ],
            "sizemode": "area",
            "sizeref": 366300.86,
            "symbol": "circle"
           },
           "mode": "markers",
           "name": "Africa",
           "orientation": "v",
           "showlegend": true,
           "type": "scatter",
           "x": [
            5681.358539,
            2430.208311,
            1225.85601,
            6205.88385,
            912.0631417000001,
            621.8188188999999,
            2602.664206,
            844.8763504000003,
            952.3861289999999,
            1315.980812,
            672.774812,
            4201.194936999998,
            2156.9560690000008,
            2880.102568,
            3885.4607100000003,
            966.8968149,
            521.1341333,
            573.7413142000001,
            11864.408440000001,
            611.6588611000002,
            847.0061135,
            805.5724717999999,
            736.4153921,
            1361.936856,
            773.9932140999997,
            506.1138573,
            11770.5898,
            1155.4419480000001,
            635.5173633999998,
            684.1715576,
            1421.603576,
            4783.586903,
            2755.046991,
            389.87618460000004,
            3693.7313369999997,
            668.3000228,
            1385.029563,
            5303.377488,
            847.991217,
            1516.525457,
            1441.72072,
            1294.4477880000004,
            1093.244963,
            7825.823398,
            1507.819159,
            3984.8398119999997,
            831.8220794,
            1202.201361,
            3810.419296,
            617.7244065,
            1213.315116,
            706.1573059
           ],
           "xaxis": "x",
           "y": [
            65.79899999999999,
            39.906,
            52.336999999999996,
            63.622,
            49.556999999999995,
            48.21100000000001,
            54.985,
            50.485,
            51.051,
            54.926,
            47.412,
            57.47,
            54.655,
            50.04,
            59.797,
            45.663999999999994,
            46.453,
            46.684,
            60.19,
            49.265,
            55.729,
            45.552,
            41.245,
            59.339,
            57.18,
            46.027,
            66.234,
            49.35,
            47.457,
            46.364,
            56.145,
            68.74,
            62.677,
            42.861000000000004,
            60.835,
            44.555,
            46.886,
            71.913,
            44.02,
            61.728,
            55.769,
            40.006,
            44.50100000000001,
            60.833999999999996,
            51.744,
            57.678000000000004,
            51.535,
            56.941,
            66.89399999999999,
            51.50899999999999,
            50.82100000000001,
            62.351000000000006
           ],
           "yaxis": "y"
          },
          {
           "hovertemplate": "<b>%{hovertext}</b><br><br>continent=Americas<br>year=1987<br>gdpPercap=%{x}<br>lifeExp=%{y}<br>pop=%{marker.size}<extra></extra>",
           "hovertext": [
            "Argentina",
            "Bolivia",
            "Brazil",
            "Canada",
            "Chile",
            "Colombia",
            "Costa Rica",
            "Cuba",
            "Dominican Republic",
            "Ecuador",
            "El Salvador",
            "Guatemala",
            "Haiti",
            "Honduras",
            "Jamaica",
            "Mexico",
            "Nicaragua",
            "Panama",
            "Paraguay",
            "Peru",
            "Puerto Rico",
            "Trinidad and Tobago",
            "United States",
            "Uruguay",
            "Venezuela"
           ],
           "legendgroup": "Americas",
           "marker": {
            "color": "#ab63fa",
            "size": [
             31620918,
             6156369,
             142938076,
             26549700,
             12463354,
             30964245,
             2799811,
             10239839,
             6655297,
             9545158,
             4842194,
             7326406,
             5756203,
             4372203,
             2326606,
             80122492,
             3344353,
             2253639,
             3886512,
             20195924,
             3444468,
             1191336,
             242803533,
             3045153,
             17910182
            ],
            "sizemode": "area",
            "sizeref": 366300.86,
            "symbol": "circle"
           },
           "mode": "markers",
           "name": "Americas",
           "orientation": "v",
           "showlegend": true,
           "type": "scatter",
           "x": [
            9139.671389,
            2753.6914899999997,
            7807.0958180000025,
            26626.515030000002,
            5547.063754,
            4903.2191,
            5629.915318,
            7532.924762999999,
            2899.842175,
            6481.776993,
            4140.442097,
            4246.485974,
            1823.015995,
            3023.0966989999997,
            6351.237495,
            8688.156003,
            2955.984375,
            7034.779161,
            3998.875695,
            6360.9434439999995,
            12281.34191,
            7388.597823,
            29884.35041000001,
            7452.398969,
            9883.584648
           ],
           "xaxis": "x",
           "y": [
            70.774,
            57.25100000000001,
            65.205,
            76.86,
            72.492,
            67.768,
            74.752,
            74.17399999999998,
            66.046,
            67.23100000000001,
            63.153999999999996,
            60.782,
            53.636,
            64.492,
            71.77,
            69.498,
            62.008,
            71.523,
            67.378,
            64.134,
            74.63,
            69.582,
            75.02,
            71.918,
            70.19
           ],
           "yaxis": "y"
          },
          {
           "hovertemplate": "<b>%{hovertext}</b><br><br>continent=Oceania<br>year=1987<br>gdpPercap=%{x}<br>lifeExp=%{y}<br>pop=%{marker.size}<extra></extra>",
           "hovertext": [
            "Australia",
            "New Zealand"
           ],
           "legendgroup": "Oceania",
           "marker": {
            "color": "#FFA15A",
            "size": [
             16257249,
             3317166
            ],
            "sizemode": "area",
            "sizeref": 366300.86,
            "symbol": "circle"
           },
           "mode": "markers",
           "name": "Oceania",
           "orientation": "v",
           "showlegend": true,
           "type": "scatter",
           "x": [
            21888.889030000002,
            19007.19129
           ],
           "xaxis": "x",
           "y": [
            76.32,
            74.32
           ],
           "yaxis": "y"
          }
         ],
         "name": "1987"
        },
        {
         "data": [
          {
           "hovertemplate": "<b>%{hovertext}</b><br><br>continent=Asia<br>year=1992<br>gdpPercap=%{x}<br>lifeExp=%{y}<br>pop=%{marker.size}<extra></extra>",
           "hovertext": [
            "Afghanistan",
            "Bahrain",
            "Bangladesh",
            "Cambodia",
            "China",
            "Hong Kong, China",
            "India",
            "Indonesia",
            "Iran",
            "Iraq",
            "Israel",
            "Japan",
            "Jordan",
            "Korea, Dem. Rep.",
            "Korea, Rep.",
            "Kuwait",
            "Lebanon",
            "Malaysia",
            "Mongolia",
            "Myanmar",
            "Nepal",
            "Oman",
            "Pakistan",
            "Philippines",
            "Saudi Arabia",
            "Singapore",
            "Sri Lanka",
            "Syria",
            "Taiwan",
            "Thailand",
            "Vietnam",
            "West Bank and Gaza",
            "Yemen, Rep."
           ],
           "legendgroup": "Asia",
           "marker": {
            "color": "#636efa",
            "size": [
             16317921,
             529491,
             113704579,
             10150094,
             1164970000,
             5829696,
             872000000,
             184816000,
             60397973,
             17861905,
             4936550,
             124329269,
             3867409,
             20711375,
             43805450,
             1418095,
             3219994,
             18319502,
             2312802,
             40546538,
             20326209,
             1915208,
             120065004,
             67185766,
             16945857,
             3235865,
             17587060,
             13219062,
             20686918,
             56667095,
             69940728,
             2104779,
             13367997
            ],
            "sizemode": "area",
            "sizeref": 366300.86,
            "symbol": "circle"
           },
           "mode": "markers",
           "name": "Asia",
           "orientation": "v",
           "showlegend": true,
           "type": "scatter",
           "x": [
            649.3413952000002,
            19035.579169999997,
            837.8101642999999,
            682.3031755,
            1655.784158,
            24757.60301,
            1164.406809,
            2383.140898,
            7235.6531879999975,
            3745.6406869999996,
            18051.52254,
            26824.895109999998,
            3431.5936469999997,
            3726.063507,
            12104.27872,
            34932.91959,
            6890.806854,
            7277.912802,
            1785.402016,
            347,
            897.7403604,
            18616.70691,
            1971.8294640000001,
            2279.324017000001,
            24841.617769999997,
            24769.8912,
            2153.7392219999997,
            3340.542768,
            15215.6579,
            4616.896545000001,
            989.0231487,
            6017.654756,
            1879.496673
           ],
           "xaxis": "x",
           "y": [
            41.674,
            72.601,
            56.018,
            55.803000000000004,
            68.69,
            77.601,
            60.223,
            62.681000000000004,
            65.742,
            59.46100000000001,
            76.93,
            79.36,
            68.015,
            69.97800000000001,
            72.244,
            75.19,
            69.292,
            70.693,
            61.271,
            59.32,
            55.727,
            71.197,
            60.838,
            66.458,
            68.768,
            75.788,
            70.37899999999998,
            69.249,
            74.26,
            67.298,
            67.66199999999999,
            69.718,
            55.599
           ],
           "yaxis": "y"
          },
          {
           "hovertemplate": "<b>%{hovertext}</b><br><br>continent=Europe<br>year=1992<br>gdpPercap=%{x}<br>lifeExp=%{y}<br>pop=%{marker.size}<extra></extra>",
           "hovertext": [
            "Albania",
            "Austria",
            "Belgium",
            "Bosnia and Herzegovina",
            "Bulgaria",
            "Croatia",
            "Czech Republic",
            "Denmark",
            "Finland",
            "France",
            "Germany",
            "Greece",
            "Hungary",
            "Iceland",
            "Ireland",
            "Italy",
            "Montenegro",
            "Netherlands",
            "Norway",
            "Poland",
            "Portugal",
            "Romania",
            "Serbia",
            "Slovak Republic",
            "Slovenia",
            "Spain",
            "Sweden",
            "Switzerland",
            "Turkey",
            "United Kingdom"
           ],
           "legendgroup": "Europe",
           "marker": {
            "color": "#EF553B",
            "size": [
             3326498,
             7914969,
             10045622,
             4256013,
             8658506,
             4494013,
             10315702,
             5171393,
             5041039,
             57374179,
             80597764,
             10325429,
             10348684,
             259012,
             3557761,
             56840847,
             621621,
             15174244,
             4286357,
             38370697,
             9927680,
             22797027,
             9826397,
             5302888,
             1999210,
             39549438,
             8718867,
             6995447,
             58179144,
             57866349
            ],
            "sizemode": "area",
            "sizeref": 366300.86,
            "symbol": "circle"
           },
           "mode": "markers",
           "name": "Europe",
           "orientation": "v",
           "showlegend": true,
           "type": "scatter",
           "x": [
            2497.4379010000002,
            27042.01868,
            25575.57069,
            2546.781445,
            6302.623438000001,
            8447.794873,
            14297.021219999999,
            26406.73985,
            20647.16499,
            24703.79615,
            26505.30317,
            17541.49634,
            10535.62855,
            25144.39201,
            17558.81555,
            22013.64486,
            7003.3390370000025,
            26790.94961,
            33965.66115,
            7738.881247,
            16207.266630000002,
            6598.409903,
            9325.068238,
            9498.467723,
            14214.71681,
            18603.06452,
            23880.01683,
            31871.5303,
            5678.348271,
            22705.09254
           ],
           "xaxis": "x",
           "y": [
            71.581,
            76.04,
            76.46,
            72.178,
            71.19,
            72.527,
            72.4,
            75.33,
            75.7,
            77.46,
            76.07,
            77.03,
            69.17,
            78.77,
            75.467,
            77.44,
            75.435,
            77.42,
            77.32,
            70.99,
            74.86,
            69.36,
            71.65899999999998,
            71.38,
            73.64,
            77.57,
            78.16,
            78.03,
            66.146,
            76.42
           ],
           "yaxis": "y"
          },
          {
           "hovertemplate": "<b>%{hovertext}</b><br><br>continent=Africa<br>year=1992<br>gdpPercap=%{x}<br>lifeExp=%{y}<br>pop=%{marker.size}<extra></extra>",
           "hovertext": [
            "Algeria",
            "Angola",
            "Benin",
            "Botswana",
            "Burkina Faso",
            "Burundi",
            "Cameroon",
            "Central African Republic",
            "Chad",
            "Comoros",
            "Congo, Dem. Rep.",
            "Congo, Rep.",
            "Cote d'Ivoire",
            "Djibouti",
            "Egypt",
            "Equatorial Guinea",
            "Eritrea",
            "Ethiopia",
            "Gabon",
            "Gambia",
            "Ghana",
            "Guinea",
            "Guinea-Bissau",
            "Kenya",
            "Lesotho",
            "Liberia",
            "Libya",
            "Madagascar",
            "Malawi",
            "Mali",
            "Mauritania",
            "Mauritius",
            "Morocco",
            "Mozambique",
            "Namibia",
            "Niger",
            "Nigeria",
            "Reunion",
            "Rwanda",
            "Sao Tome and Principe",
            "Senegal",
            "Sierra Leone",
            "Somalia",
            "South Africa",
            "Sudan",
            "Swaziland",
            "Tanzania",
            "Togo",
            "Tunisia",
            "Uganda",
            "Zambia",
            "Zimbabwe"
           ],
           "legendgroup": "Africa",
           "marker": {
            "color": "#00cc96",
            "size": [
             26298373,
             8735988,
             4981671,
             1342614,
             8878303,
             5809236,
             12467171,
             3265124,
             6429417,
             454429,
             41672143,
             2409073,
             12772596,
             384156,
             59402198,
             387838,
             3668440,
             52088559,
             985739,
             1025384,
             16278738,
             6990574,
             1050938,
             25020539,
             1803195,
             1912974,
             4364501,
             12210395,
             10014249,
             8416215,
             2119465,
             1096202,
             25798239,
             13160731,
             1554253,
             8392818,
             93364244,
             622191,
             7290203,
             125911,
             8307920,
             4260884,
             6099799,
             39964159,
             28227588,
             962344,
             26605473,
             3747553,
             8523077,
             18252190,
             8381163,
             10704340
            ],
            "sizemode": "area",
            "sizeref": 366300.86,
            "symbol": "circle"
           },
           "mode": "markers",
           "name": "Africa",
           "orientation": "v",
           "showlegend": true,
           "type": "scatter",
           "x": [
            5023.216647,
            2627.8456850000002,
            1191.207681,
            7954.111645,
            931.7527731,
            631.6998778,
            1793.1632780000002,
            747.9055252,
            1058.0643,
            1246.90737,
            457.7191807,
            4016.239529,
            1648.073791,
            2377.156192000001,
            3794.755195,
            1132.055034,
            582.8585102000002,
            421.3534653,
            13522.157519999999,
            665.6244126,
            925.0601539999999,
            794.3484384,
            745.5398706,
            1341.9217210000004,
            977.4862724999999,
            636.6229191000001,
            9640.138501000001,
            1040.6761900000001,
            563.2000145,
            739.014375,
            1361.369784,
            6058.253846000001,
            2948.047252,
            410.89682389999996,
            3804.537999,
            581.182725,
            1619.848217,
            6101.2558229999995,
            737.0685949,
            1428.777814,
            1367.899369,
            1068.696278,
            926.9602964,
            7225.069257999998,
            1492.197043,
            3553.0224,
            825.682454,
            1034.298904,
            4332.720164,
            644.1707968999998,
            1210.884633,
            693.4207856
           ],
           "xaxis": "x",
           "y": [
            67.744,
            40.647,
            53.919,
            62.745,
            50.26,
            44.736000000000004,
            54.31399999999999,
            49.396,
            51.724,
            57.93899999999999,
            45.548,
            56.433,
            52.044,
            51.604,
            63.674,
            47.545,
            49.99100000000001,
            48.091,
            61.36600000000001,
            52.644,
            57.50100000000001,
            48.576,
            43.26600000000001,
            59.285,
            59.685,
            40.802,
            68.755,
            52.214,
            49.42,
            48.38800000000001,
            58.333,
            69.745,
            65.393,
            44.284,
            61.998999999999995,
            47.39100000000001,
            47.472,
            73.615,
            23.599,
            62.742,
            58.19600000000001,
            38.333,
            39.658,
            61.88800000000001,
            53.556000000000004,
            58.474,
            50.44,
            58.06100000000001,
            70.001,
            48.825,
            46.1,
            60.376999999999995
           ],
           "yaxis": "y"
          },
          {
           "hovertemplate": "<b>%{hovertext}</b><br><br>continent=Americas<br>year=1992<br>gdpPercap=%{x}<br>lifeExp=%{y}<br>pop=%{marker.size}<extra></extra>",
           "hovertext": [
            "Argentina",
            "Bolivia",
            "Brazil",
            "Canada",
            "Chile",
            "Colombia",
            "Costa Rica",
            "Cuba",
            "Dominican Republic",
            "Ecuador",
            "El Salvador",
            "Guatemala",
            "Haiti",
            "Honduras",
            "Jamaica",
            "Mexico",
            "Nicaragua",
            "Panama",
            "Paraguay",
            "Peru",
            "Puerto Rico",
            "Trinidad and Tobago",
            "United States",
            "Uruguay",
            "Venezuela"
           ],
           "legendgroup": "Americas",
           "marker": {
            "color": "#ab63fa",
            "size": [
             33958947,
             6893451,
             155975974,
             28523502,
             13572994,
             34202721,
             3173216,
             10723260,
             7351181,
             10748394,
             5274649,
             8486949,
             6326682,
             5077347,
             2378618,
             88111030,
             4017939,
             2484997,
             4483945,
             22430449,
             3585176,
             1183669,
             256894189,
             3149262,
             20265563
            ],
            "sizemode": "area",
            "sizeref": 366300.86,
            "symbol": "circle"
           },
           "mode": "markers",
           "name": "Americas",
           "orientation": "v",
           "showlegend": true,
           "type": "scatter",
           "x": [
            9308.41871,
            2961.699694,
            6950.2830209999975,
            26342.88426,
            7596.125964,
            5444.648617,
            6160.416317,
            5592.843963,
            3044.214214,
            7103.7025950000025,
            4444.2317,
            4439.4508399999995,
            1456.309517,
            3081.694603,
            7404.923685,
            9472.384295,
            2170.151724,
            6618.74305,
            4196.411078,
            4446.380924,
            14641.587109999999,
            7370.990932,
            32003.93224,
            8137.004775,
            10733.926309999999
           ],
           "xaxis": "x",
           "y": [
            71.868,
            59.957,
            67.057,
            77.95,
            74.126,
            68.421,
            75.71300000000002,
            74.414,
            68.457,
            69.613,
            66.798,
            63.37300000000001,
            55.089,
            66.399,
            71.766,
            71.455,
            65.843,
            72.462,
            68.225,
            66.458,
            73.911,
            69.862,
            76.09,
            72.752,
            71.15
           ],
           "yaxis": "y"
          },
          {
           "hovertemplate": "<b>%{hovertext}</b><br><br>continent=Oceania<br>year=1992<br>gdpPercap=%{x}<br>lifeExp=%{y}<br>pop=%{marker.size}<extra></extra>",
           "hovertext": [
            "Australia",
            "New Zealand"
           ],
           "legendgroup": "Oceania",
           "marker": {
            "color": "#FFA15A",
            "size": [
             17481977,
             3437674
            ],
            "sizemode": "area",
            "sizeref": 366300.86,
            "symbol": "circle"
           },
           "mode": "markers",
           "name": "Oceania",
           "orientation": "v",
           "showlegend": true,
           "type": "scatter",
           "x": [
            23424.76683,
            18363.324940000002
           ],
           "xaxis": "x",
           "y": [
            77.56,
            76.33
           ],
           "yaxis": "y"
          }
         ],
         "name": "1992"
        },
        {
         "data": [
          {
           "hovertemplate": "<b>%{hovertext}</b><br><br>continent=Asia<br>year=1997<br>gdpPercap=%{x}<br>lifeExp=%{y}<br>pop=%{marker.size}<extra></extra>",
           "hovertext": [
            "Afghanistan",
            "Bahrain",
            "Bangladesh",
            "Cambodia",
            "China",
            "Hong Kong, China",
            "India",
            "Indonesia",
            "Iran",
            "Iraq",
            "Israel",
            "Japan",
            "Jordan",
            "Korea, Dem. Rep.",
            "Korea, Rep.",
            "Kuwait",
            "Lebanon",
            "Malaysia",
            "Mongolia",
            "Myanmar",
            "Nepal",
            "Oman",
            "Pakistan",
            "Philippines",
            "Saudi Arabia",
            "Singapore",
            "Sri Lanka",
            "Syria",
            "Taiwan",
            "Thailand",
            "Vietnam",
            "West Bank and Gaza",
            "Yemen, Rep."
           ],
           "legendgroup": "Asia",
           "marker": {
            "color": "#636efa",
            "size": [
             22227415,
             598561,
             123315288,
             11782962,
             1230075000,
             6495918,
             959000000,
             199278000,
             63327987,
             20775703,
             5531387,
             125956499,
             4526235,
             21585105,
             46173816,
             1765345,
             3430388,
             20476091,
             2494803,
             43247867,
             23001113,
             2283635,
             135564834,
             75012988,
             21229759,
             3802309,
             18698655,
             15081016,
             21628605,
             60216677,
             76048996,
             2826046,
             15826497
            ],
            "sizemode": "area",
            "sizeref": 366300.86,
            "symbol": "circle"
           },
           "mode": "markers",
           "name": "Asia",
           "orientation": "v",
           "showlegend": true,
           "type": "scatter",
           "x": [
            635.341351,
            20292.01679,
            972.7700352,
            734.28517,
            2289.234136,
            28377.632189999997,
            1458.817442,
            3119.335603,
            8263.590301,
            3076.239795,
            20896.60924,
            28816.58499,
            3645.379572,
            1690.756814,
            15993.52796,
            40300.61996,
            8754.96385,
            10132.90964,
            1902.2521,
            415,
            1010.892138,
            19702.055809999998,
            2049.3505210000008,
            2536.534925,
            20586.69019,
            33519.4766,
            2664.477257,
            4014.238972,
            20206.82098,
            5852.625497,
            1385.896769,
            7110.667619,
            2117.484526
           ],
           "xaxis": "x",
           "y": [
            41.76300000000001,
            73.925,
            59.412,
            56.534,
            70.426,
            80,
            61.765,
            66.041,
            68.042,
            58.81100000000001,
            78.26899999999998,
            80.69,
            69.77199999999999,
            67.727,
            74.64699999999998,
            76.156,
            70.265,
            71.938,
            63.625,
            60.328,
            59.426,
            72.499,
            61.81800000000001,
            68.564,
            70.533,
            77.158,
            70.457,
            71.527,
            75.25,
            67.521,
            70.672,
            71.096,
            58.02
           ],
           "yaxis": "y"
          },
          {
           "hovertemplate": "<b>%{hovertext}</b><br><br>continent=Europe<br>year=1997<br>gdpPercap=%{x}<br>lifeExp=%{y}<br>pop=%{marker.size}<extra></extra>",
           "hovertext": [
            "Albania",
            "Austria",
            "Belgium",
            "Bosnia and Herzegovina",
            "Bulgaria",
            "Croatia",
            "Czech Republic",
            "Denmark",
            "Finland",
            "France",
            "Germany",
            "Greece",
            "Hungary",
            "Iceland",
            "Ireland",
            "Italy",
            "Montenegro",
            "Netherlands",
            "Norway",
            "Poland",
            "Portugal",
            "Romania",
            "Serbia",
            "Slovak Republic",
            "Slovenia",
            "Spain",
            "Sweden",
            "Switzerland",
            "Turkey",
            "United Kingdom"
           ],
           "legendgroup": "Europe",
           "marker": {
            "color": "#EF553B",
            "size": [
             3428038,
             8069876,
             10199787,
             3607000,
             8066057,
             4444595,
             10300707,
             5283663,
             5134406,
             58623428,
             82011073,
             10502372,
             10244684,
             271192,
             3667233,
             57479469,
             692651,
             15604464,
             4405672,
             38654957,
             10156415,
             22562458,
             10336594,
             5383010,
             2011612,
             39855442,
             8897619,
             7193761,
             63047647,
             58808266
            ],
            "sizemode": "area",
            "sizeref": 366300.86,
            "symbol": "circle"
           },
           "mode": "markers",
           "name": "Europe",
           "orientation": "v",
           "showlegend": true,
           "type": "scatter",
           "x": [
            3193.054604,
            29095.920660000003,
            27561.196630000002,
            4766.355904,
            5970.38876,
            9875.604515,
            16048.51424,
            29804.34567,
            23723.9502,
            25889.78487,
            27788.88416,
            18747.69814,
            11712.7768,
            28061.099660000003,
            24521.94713,
            24675.02446,
            6465.613349,
            30246.13063,
            41283.16433,
            10159.58368,
            17641.03156,
            7346.547556999999,
            7914.320304000003,
            12126.23065,
            17161.10735,
            20445.29896,
            25266.59499,
            32135.323010000004,
            6601.429915,
            26074.53136
           ],
           "xaxis": "x",
           "y": [
            72.95,
            77.51,
            77.53,
            73.244,
            70.32,
            73.68,
            74.01,
            76.11,
            77.13,
            78.64,
            77.34,
            77.869,
            71.04,
            78.95,
            76.122,
            78.82,
            75.445,
            78.03,
            78.32,
            72.75,
            75.97,
            69.72,
            72.232,
            72.71,
            75.13,
            78.77,
            79.39,
            79.37,
            68.835,
            77.218
           ],
           "yaxis": "y"
          },
          {
           "hovertemplate": "<b>%{hovertext}</b><br><br>continent=Africa<br>year=1997<br>gdpPercap=%{x}<br>lifeExp=%{y}<br>pop=%{marker.size}<extra></extra>",
           "hovertext": [
            "Algeria",
            "Angola",
            "Benin",
            "Botswana",
            "Burkina Faso",
            "Burundi",
            "Cameroon",
            "Central African Republic",
            "Chad",
            "Comoros",
            "Congo, Dem. Rep.",
            "Congo, Rep.",
            "Cote d'Ivoire",
            "Djibouti",
            "Egypt",
            "Equatorial Guinea",
            "Eritrea",
            "Ethiopia",
            "Gabon",
            "Gambia",
            "Ghana",
            "Guinea",
            "Guinea-Bissau",
            "Kenya",
            "Lesotho",
            "Liberia",
            "Libya",
            "Madagascar",
            "Malawi",
            "Mali",
            "Mauritania",
            "Mauritius",
            "Morocco",
            "Mozambique",
            "Namibia",
            "Niger",
            "Nigeria",
            "Reunion",
            "Rwanda",
            "Sao Tome and Principe",
            "Senegal",
            "Sierra Leone",
            "Somalia",
            "South Africa",
            "Sudan",
            "Swaziland",
            "Tanzania",
            "Togo",
            "Tunisia",
            "Uganda",
            "Zambia",
            "Zimbabwe"
           ],
           "legendgroup": "Africa",
           "marker": {
            "color": "#00cc96",
            "size": [
             29072015,
             9875024,
             6066080,
             1536536,
             10352843,
             6121610,
             14195809,
             3696513,
             7562011,
             527982,
             47798986,
             2800947,
             14625967,
             417908,
             66134291,
             439971,
             4058319,
             59861301,
             1126189,
             1235767,
             18418288,
             8048834,
             1193708,
             28263827,
             1982823,
             2200725,
             4759670,
             14165114,
             10419991,
             9384984,
             2444741,
             1149818,
             28529501,
             16603334,
             1774766,
             9666252,
             106207839,
             684810,
             7212583,
             145608,
             9535314,
             4578212,
             6633514,
             42835005,
             32160729,
             1054486,
             30686889,
             4320890,
             9231669,
             21210254,
             9417789,
             11404948
            ],
            "sizemode": "area",
            "sizeref": 366300.86,
            "symbol": "circle"
           },
           "mode": "markers",
           "name": "Africa",
           "orientation": "v",
           "showlegend": true,
           "type": "scatter",
           "x": [
            4797.295051,
            2277.140884,
            1232.975292,
            8647.142313,
            946.2949617999999,
            463.1151478,
            1694.337469,
            740.5063317,
            1004.9613529999999,
            1173.618235,
            312.188423,
            3484.1643759999997,
            1786.265407,
            1895.016984,
            4173.181797,
            2814.480755,
            913.4707900000001,
            515.8894013,
            14722.841880000002,
            653.7301704,
            1005.2458119999999,
            869.4497667999997,
            796.6644681,
            1360.4850210000004,
            1186.147994,
            609.1739508,
            9467.446056,
            986.2958956,
            692.2758102999999,
            790.2579846,
            1483.1361359999999,
            7425.7052950000025,
            2982.101858,
            472.34607710000006,
            3899.52426,
            580.3052092,
            1624.941275,
            6071.941411,
            589.9445051,
            1339.076036,
            1392.368347,
            574.6481576,
            930.5964284,
            7479.188244,
            1632.2107640000006,
            3876.7684600000002,
            789.1862231,
            982.2869242999999,
            4876.798614,
            816.559081,
            1071.353818,
            792.4499602999997
           ],
           "xaxis": "x",
           "y": [
            69.152,
            40.963,
            54.777,
            52.556000000000004,
            50.324,
            45.326,
            52.199,
            46.066,
            51.573,
            60.66,
            42.586999999999996,
            52.961999999999996,
            47.99100000000001,
            53.157,
            67.217,
            48.245,
            53.378,
            49.402,
            60.46100000000001,
            55.861000000000004,
            58.556000000000004,
            51.455,
            44.87300000000001,
            54.407,
            55.558,
            42.221000000000004,
            71.555,
            54.978,
            47.495,
            49.903,
            60.43,
            70.736,
            67.66,
            46.343999999999994,
            58.909,
            51.313,
            47.464,
            74.77199999999998,
            36.086999999999996,
            63.306000000000004,
            60.187,
            39.897,
            43.795,
            60.236000000000004,
            55.37300000000001,
            54.288999999999994,
            48.466,
            58.39,
            71.973,
            44.578,
            40.238,
            46.809
           ],
           "yaxis": "y"
          },
          {
           "hovertemplate": "<b>%{hovertext}</b><br><br>continent=Americas<br>year=1997<br>gdpPercap=%{x}<br>lifeExp=%{y}<br>pop=%{marker.size}<extra></extra>",
           "hovertext": [
            "Argentina",
            "Bolivia",
            "Brazil",
            "Canada",
            "Chile",
            "Colombia",
            "Costa Rica",
            "Cuba",
            "Dominican Republic",
            "Ecuador",
            "El Salvador",
            "Guatemala",
            "Haiti",
            "Honduras",
            "Jamaica",
            "Mexico",
            "Nicaragua",
            "Panama",
            "Paraguay",
            "Peru",
            "Puerto Rico",
            "Trinidad and Tobago",
            "United States",
            "Uruguay",
            "Venezuela"
           ],
           "legendgroup": "Americas",
           "marker": {
            "color": "#ab63fa",
            "size": [
             36203463,
             7693188,
             168546719,
             30305843,
             14599929,
             37657830,
             3518107,
             10983007,
             7992357,
             11911819,
             5783439,
             9803875,
             6913545,
             5867957,
             2531311,
             95895146,
             4609572,
             2734531,
             5154123,
             24748122,
             3759430,
             1138101,
             272911760,
             3262838,
             22374398
            ],
            "sizemode": "area",
            "sizeref": 366300.86,
            "symbol": "circle"
           },
           "mode": "markers",
           "name": "Americas",
           "orientation": "v",
           "showlegend": true,
           "type": "scatter",
           "x": [
            10967.28195,
            3326.143191,
            7957.9808239999975,
            28954.92589,
            10118.053179999999,
            6117.361746000001,
            6677.045314,
            5431.990415,
            3614.101285,
            7429.455876999998,
            5154.825496,
            4684.313807,
            1341.7269310000001,
            3160.454906,
            7121.924704000001,
            9767.29753,
            2253.023004,
            7113.692252,
            4247.400261,
            5838.347657,
            16999.4333,
            8792.573126000001,
            35767.43303,
            9230.240708,
            10165.49518
           ],
           "xaxis": "x",
           "y": [
            73.275,
            62.05,
            69.388,
            78.61,
            75.816,
            70.313,
            77.26,
            76.15100000000002,
            69.957,
            72.312,
            69.535,
            66.322,
            56.67100000000001,
            67.65899999999999,
            72.262,
            73.67,
            68.426,
            73.738,
            69.4,
            68.38600000000001,
            74.917,
            69.465,
            76.81,
            74.223,
            72.146
           ],
           "yaxis": "y"
          },
          {
           "hovertemplate": "<b>%{hovertext}</b><br><br>continent=Oceania<br>year=1997<br>gdpPercap=%{x}<br>lifeExp=%{y}<br>pop=%{marker.size}<extra></extra>",
           "hovertext": [
            "Australia",
            "New Zealand"
           ],
           "legendgroup": "Oceania",
           "marker": {
            "color": "#FFA15A",
            "size": [
             18565243,
             3676187
            ],
            "sizemode": "area",
            "sizeref": 366300.86,
            "symbol": "circle"
           },
           "mode": "markers",
           "name": "Oceania",
           "orientation": "v",
           "showlegend": true,
           "type": "scatter",
           "x": [
            26997.936569999998,
            21050.41377
           ],
           "xaxis": "x",
           "y": [
            78.83,
            77.55
           ],
           "yaxis": "y"
          }
         ],
         "name": "1997"
        },
        {
         "data": [
          {
           "hovertemplate": "<b>%{hovertext}</b><br><br>continent=Asia<br>year=2002<br>gdpPercap=%{x}<br>lifeExp=%{y}<br>pop=%{marker.size}<extra></extra>",
           "hovertext": [
            "Afghanistan",
            "Bahrain",
            "Bangladesh",
            "Cambodia",
            "China",
            "Hong Kong, China",
            "India",
            "Indonesia",
            "Iran",
            "Iraq",
            "Israel",
            "Japan",
            "Jordan",
            "Korea, Dem. Rep.",
            "Korea, Rep.",
            "Kuwait",
            "Lebanon",
            "Malaysia",
            "Mongolia",
            "Myanmar",
            "Nepal",
            "Oman",
            "Pakistan",
            "Philippines",
            "Saudi Arabia",
            "Singapore",
            "Sri Lanka",
            "Syria",
            "Taiwan",
            "Thailand",
            "Vietnam",
            "West Bank and Gaza",
            "Yemen, Rep."
           ],
           "legendgroup": "Asia",
           "marker": {
            "color": "#636efa",
            "size": [
             25268405,
             656397,
             135656790,
             12926707,
             1280400000,
             6762476,
             1034172547,
             211060000,
             66907826,
             24001816,
             6029529,
             127065841,
             5307470,
             22215365,
             47969150,
             2111561,
             3677780,
             22662365,
             2674234,
             45598081,
             25873917,
             2713462,
             153403524,
             82995088,
             24501530,
             4197776,
             19576783,
             17155814,
             22454239,
             62806748,
             80908147,
             3389578,
             18701257
            ],
            "sizemode": "area",
            "sizeref": 366300.86,
            "symbol": "circle"
           },
           "mode": "markers",
           "name": "Asia",
           "orientation": "v",
           "showlegend": true,
           "type": "scatter",
           "x": [
            726.7340548,
            23403.559269999998,
            1136.3904300000004,
            896.2260152999999,
            3119.280896,
            30209.01516000001,
            1746.769454,
            2873.91287,
            9240.761975,
            4390.717312,
            21905.59514,
            28604.5919,
            3844.9171939999997,
            1646.758151,
            19233.98818,
            35110.10566,
            9313.93883,
            10206.97794,
            2140.7393230000002,
            611,
            1057.206311,
            19774.83687,
            2092.712441,
            2650.921068,
            19014.54118,
            36023.1054,
            3015.3788329999998,
            4090.9253310000004,
            23235.42329,
            5913.187529,
            1764.456677,
            4515.487575,
            2234.820827
           ],
           "xaxis": "x",
           "y": [
            42.129,
            74.795,
            62.01300000000001,
            56.751999999999995,
            72.028,
            81.495,
            62.879,
            68.58800000000001,
            69.45100000000001,
            57.04600000000001,
            79.696,
            82,
            71.263,
            66.66199999999999,
            77.045,
            76.904,
            71.028,
            73.044,
            65.033,
            59.908,
            61.34,
            74.193,
            63.61,
            70.303,
            71.626,
            78.77,
            70.815,
            73.053,
            76.99,
            68.564,
            73.017,
            72.37,
            60.308
           ],
           "yaxis": "y"
          },
          {
           "hovertemplate": "<b>%{hovertext}</b><br><br>continent=Europe<br>year=2002<br>gdpPercap=%{x}<br>lifeExp=%{y}<br>pop=%{marker.size}<extra></extra>",
           "hovertext": [
            "Albania",
            "Austria",
            "Belgium",
            "Bosnia and Herzegovina",
            "Bulgaria",
            "Croatia",
            "Czech Republic",
            "Denmark",
            "Finland",
            "France",
            "Germany",
            "Greece",
            "Hungary",
            "Iceland",
            "Ireland",
            "Italy",
            "Montenegro",
            "Netherlands",
            "Norway",
            "Poland",
            "Portugal",
            "Romania",
            "Serbia",
            "Slovak Republic",
            "Slovenia",
            "Spain",
            "Sweden",
            "Switzerland",
            "Turkey",
            "United Kingdom"
           ],
           "legendgroup": "Europe",
           "marker": {
            "color": "#EF553B",
            "size": [
             3508512,
             8148312,
             10311970,
             4165416,
             7661799,
             4481020,
             10256295,
             5374693,
             5193039,
             59925035,
             82350671,
             10603863,
             10083313,
             288030,
             3879155,
             57926999,
             720230,
             16122830,
             4535591,
             38625976,
             10433867,
             22404337,
             10111559,
             5410052,
             2011497,
             40152517,
             8954175,
             7361757,
             67308928,
             59912431
            ],
            "sizemode": "area",
            "sizeref": 366300.86,
            "symbol": "circle"
           },
           "mode": "markers",
           "name": "Europe",
           "orientation": "v",
           "showlegend": true,
           "type": "scatter",
           "x": [
            4604.211737,
            32417.607689999997,
            30485.88375,
            6018.975239,
            7696.777725,
            11628.38895,
            17596.210219999994,
            32166.500060000002,
            28204.59057,
            28926.032339999998,
            30035.80198,
            22514.2548,
            14843.93556,
            31163.201960000002,
            34077.04939,
            27968.098169999997,
            6557.194282,
            33724.75778,
            44683.97525,
            12002.23908,
            19970.90787,
            7885.360081,
            7236.075251,
            13638.778369999998,
            20660.01936,
            24835.47166,
            29341.63093000001,
            34480.95771,
            6508.085718,
            29478.99919
           ],
           "xaxis": "x",
           "y": [
            75.65100000000002,
            78.98,
            78.32,
            74.09,
            72.14,
            74.876,
            75.51,
            77.18,
            78.37,
            79.59,
            78.67,
            78.256,
            72.59,
            80.5,
            77.783,
            80.24,
            73.98100000000002,
            78.53,
            79.05,
            74.67,
            77.29,
            71.322,
            73.21300000000002,
            73.8,
            76.66,
            79.78,
            80.04,
            80.62,
            70.845,
            78.471
           ],
           "yaxis": "y"
          },
          {
           "hovertemplate": "<b>%{hovertext}</b><br><br>continent=Africa<br>year=2002<br>gdpPercap=%{x}<br>lifeExp=%{y}<br>pop=%{marker.size}<extra></extra>",
           "hovertext": [
            "Algeria",
            "Angola",
            "Benin",
            "Botswana",
            "Burkina Faso",
            "Burundi",
            "Cameroon",
            "Central African Republic",
            "Chad",
            "Comoros",
            "Congo, Dem. Rep.",
            "Congo, Rep.",
            "Cote d'Ivoire",
            "Djibouti",
            "Egypt",
            "Equatorial Guinea",
            "Eritrea",
            "Ethiopia",
            "Gabon",
            "Gambia",
            "Ghana",
            "Guinea",
            "Guinea-Bissau",
            "Kenya",
            "Lesotho",
            "Liberia",
            "Libya",
            "Madagascar",
            "Malawi",
            "Mali",
            "Mauritania",
            "Mauritius",
            "Morocco",
            "Mozambique",
            "Namibia",
            "Niger",
            "Nigeria",
            "Reunion",
            "Rwanda",
            "Sao Tome and Principe",
            "Senegal",
            "Sierra Leone",
            "Somalia",
            "South Africa",
            "Sudan",
            "Swaziland",
            "Tanzania",
            "Togo",
            "Tunisia",
            "Uganda",
            "Zambia",
            "Zimbabwe"
           ],
           "legendgroup": "Africa",
           "marker": {
            "color": "#00cc96",
            "size": [
             31287142,
             10866106,
             7026113,
             1630347,
             12251209,
             7021078,
             15929988,
             4048013,
             8835739,
             614382,
             55379852,
             3328795,
             16252726,
             447416,
             73312559,
             495627,
             4414865,
             67946797,
             1299304,
             1457766,
             20550751,
             8807818,
             1332459,
             31386842,
             2046772,
             2814651,
             5368585,
             16473477,
             11824495,
             10580176,
             2828858,
             1200206,
             31167783,
             18473780,
             1972153,
             11140655,
             119901274,
             743981,
             7852401,
             170372,
             10870037,
             5359092,
             7753310,
             44433622,
             37090298,
             1130269,
             34593779,
             4977378,
             9770575,
             24739869,
             10595811,
             11926563
            ],
            "sizemode": "area",
            "sizeref": 366300.86,
            "symbol": "circle"
           },
           "mode": "markers",
           "name": "Africa",
           "orientation": "v",
           "showlegend": true,
           "type": "scatter",
           "x": [
            5288.040382,
            2773.287312,
            1372.877931,
            11003.60508,
            1037.645221,
            446.4035126,
            1934.0114489999999,
            738.6906068,
            1156.18186,
            1075.811558,
            241.16587650000002,
            3484.06197,
            1648.800823,
            1908.2608670000002,
            4754.604414,
            7703.4959,
            765.3500015,
            530.0535319,
            12521.71392,
            660.5855997,
            1111.9845779999996,
            945.5835837000001,
            575.7047176,
            1287.514732,
            1275.184575,
            531.4823679,
            9534.677467,
            894.6370822,
            665.4231186000002,
            951.4097517999999,
            1579.0195429999999,
            9021.815894,
            3258.495584,
            633.6179466,
            4072.3247509999997,
            601.0745012,
            1615.2863949999999,
            6316.1652,
            785.6537647999999,
            1353.09239,
            1519.635262,
            699.4897129999997,
            882.0818218000003,
            7710.946444,
            1993.398314,
            4128.116943,
            899.0742111,
            886.2205765000001,
            5722.8956549999975,
            927.7210018,
            1071.6139380000004,
            672.0386227000001
           ],
           "xaxis": "x",
           "y": [
            70.994,
            41.003,
            54.40600000000001,
            46.63399999999999,
            50.65,
            47.36,
            49.856,
            43.308,
            50.525,
            62.974,
            44.966,
            52.97,
            46.832,
            53.37300000000001,
            69.806,
            49.348,
            55.24,
            50.725,
            56.761,
            58.041000000000004,
            58.453,
            53.676,
            45.504,
            50.992,
            44.593,
            43.753,
            72.737,
            57.286,
            45.00899999999999,
            51.81800000000001,
            62.247,
            71.954,
            69.615,
            44.026,
            51.479,
            54.496,
            46.608000000000004,
            75.744,
            43.413000000000004,
            64.337,
            61.6,
            41.012,
            45.93600000000001,
            53.365,
            56.369,
            43.869,
            49.651,
            57.56100000000001,
            73.042,
            47.813,
            39.19300000000001,
            39.989000000000004
           ],
           "yaxis": "y"
          },
          {
           "hovertemplate": "<b>%{hovertext}</b><br><br>continent=Americas<br>year=2002<br>gdpPercap=%{x}<br>lifeExp=%{y}<br>pop=%{marker.size}<extra></extra>",
           "hovertext": [
            "Argentina",
            "Bolivia",
            "Brazil",
            "Canada",
            "Chile",
            "Colombia",
            "Costa Rica",
            "Cuba",
            "Dominican Republic",
            "Ecuador",
            "El Salvador",
            "Guatemala",
            "Haiti",
            "Honduras",
            "Jamaica",
            "Mexico",
            "Nicaragua",
            "Panama",
            "Paraguay",
            "Peru",
            "Puerto Rico",
            "Trinidad and Tobago",
            "United States",
            "Uruguay",
            "Venezuela"
           ],
           "legendgroup": "Americas",
           "marker": {
            "color": "#ab63fa",
            "size": [
             38331121,
             8445134,
             179914212,
             31902268,
             15497046,
             41008227,
             3834934,
             11226999,
             8650322,
             12921234,
             6353681,
             11178650,
             7607651,
             6677328,
             2664659,
             102479927,
             5146848,
             2990875,
             5884491,
             26769436,
             3859606,
             1101832,
             287675526,
             3363085,
             24287670
            ],
            "sizemode": "area",
            "sizeref": 366300.86,
            "symbol": "circle"
           },
           "mode": "markers",
           "name": "Americas",
           "orientation": "v",
           "showlegend": true,
           "type": "scatter",
           "x": [
            8797.640716,
            3413.26269,
            8131.212843000001,
            33328.96507,
            10778.78385,
            5755.259962,
            7723.4471950000025,
            6340.646683,
            4563.808154,
            5773.0445119999995,
            5351.568665999999,
            4858.347495,
            1270.364932,
            3099.72866,
            6994.774861,
            10742.44053,
            2474.548819,
            7356.031934000002,
            3783.674243,
            5909.020073,
            18855.606180000002,
            11460.60023,
            39097.09955,
            7727.002004000001,
            8605.047831
           ],
           "xaxis": "x",
           "y": [
            74.34,
            63.883,
            71.006,
            79.77,
            77.86,
            71.682,
            78.123,
            77.158,
            70.847,
            74.173,
            70.734,
            68.97800000000001,
            58.137,
            68.565,
            72.047,
            74.902,
            70.836,
            74.712,
            70.755,
            69.906,
            77.778,
            68.976,
            77.31,
            75.307,
            72.766
           ],
           "yaxis": "y"
          },
          {
           "hovertemplate": "<b>%{hovertext}</b><br><br>continent=Oceania<br>year=2002<br>gdpPercap=%{x}<br>lifeExp=%{y}<br>pop=%{marker.size}<extra></extra>",
           "hovertext": [
            "Australia",
            "New Zealand"
           ],
           "legendgroup": "Oceania",
           "marker": {
            "color": "#FFA15A",
            "size": [
             19546792,
             3908037
            ],
            "sizemode": "area",
            "sizeref": 366300.86,
            "symbol": "circle"
           },
           "mode": "markers",
           "name": "Oceania",
           "orientation": "v",
           "showlegend": true,
           "type": "scatter",
           "x": [
            30687.75473,
            23189.80135
           ],
           "xaxis": "x",
           "y": [
            80.37,
            79.11
           ],
           "yaxis": "y"
          }
         ],
         "name": "2002"
        },
        {
         "data": [
          {
           "hovertemplate": "<b>%{hovertext}</b><br><br>continent=Asia<br>year=2007<br>gdpPercap=%{x}<br>lifeExp=%{y}<br>pop=%{marker.size}<extra></extra>",
           "hovertext": [
            "Afghanistan",
            "Bahrain",
            "Bangladesh",
            "Cambodia",
            "China",
            "Hong Kong, China",
            "India",
            "Indonesia",
            "Iran",
            "Iraq",
            "Israel",
            "Japan",
            "Jordan",
            "Korea, Dem. Rep.",
            "Korea, Rep.",
            "Kuwait",
            "Lebanon",
            "Malaysia",
            "Mongolia",
            "Myanmar",
            "Nepal",
            "Oman",
            "Pakistan",
            "Philippines",
            "Saudi Arabia",
            "Singapore",
            "Sri Lanka",
            "Syria",
            "Taiwan",
            "Thailand",
            "Vietnam",
            "West Bank and Gaza",
            "Yemen, Rep."
           ],
           "legendgroup": "Asia",
           "marker": {
            "color": "#636efa",
            "size": [
             31889923,
             708573,
             150448339,
             14131858,
             1318683096,
             6980412,
             1110396331,
             223547000,
             69453570,
             27499638,
             6426679,
             127467972,
             6053193,
             23301725,
             49044790,
             2505559,
             3921278,
             24821286,
             2874127,
             47761980,
             28901790,
             3204897,
             169270617,
             91077287,
             27601038,
             4553009,
             20378239,
             19314747,
             23174294,
             65068149,
             85262356,
             4018332,
             22211743
            ],
            "sizemode": "area",
            "sizeref": 366300.86,
            "symbol": "circle"
           },
           "mode": "markers",
           "name": "Asia",
           "orientation": "v",
           "showlegend": true,
           "type": "scatter",
           "x": [
            974.5803384,
            29796.048339999998,
            1391.253792,
            1713.7786859999999,
            4959.1148539999995,
            39724.97867,
            2452.210407,
            3540.6515640000002,
            11605.71449,
            4471.061906,
            25523.2771,
            31656.06806,
            4519.461171,
            1593.06548,
            23348.13973000001,
            47306.98978,
            10461.05868,
            12451.6558,
            3095.772271000001,
            944,
            1091.359778,
            22316.19287,
            2605.94758,
            3190.481016,
            21654.83194,
            47143.179639999995,
            3970.0954070000003,
            4184.548089,
            28718.27684,
            7458.396326999998,
            2441.576404,
            3025.349798,
            2280.769906
           ],
           "xaxis": "x",
           "y": [
            43.828,
            75.635,
            64.062,
            59.723,
            72.961,
            82.208,
            64.69800000000001,
            70.65,
            70.964,
            59.545,
            80.745,
            82.603,
            72.535,
            67.297,
            78.623,
            77.58800000000002,
            71.993,
            74.241,
            66.803,
            62.068999999999996,
            63.785,
            75.64,
            65.483,
            71.688,
            72.777,
            79.972,
            72.396,
            74.143,
            78.4,
            70.616,
            74.249,
            73.422,
            62.698
           ],
           "yaxis": "y"
          },
          {
           "hovertemplate": "<b>%{hovertext}</b><br><br>continent=Europe<br>year=2007<br>gdpPercap=%{x}<br>lifeExp=%{y}<br>pop=%{marker.size}<extra></extra>",
           "hovertext": [
            "Albania",
            "Austria",
            "Belgium",
            "Bosnia and Herzegovina",
            "Bulgaria",
            "Croatia",
            "Czech Republic",
            "Denmark",
            "Finland",
            "France",
            "Germany",
            "Greece",
            "Hungary",
            "Iceland",
            "Ireland",
            "Italy",
            "Montenegro",
            "Netherlands",
            "Norway",
            "Poland",
            "Portugal",
            "Romania",
            "Serbia",
            "Slovak Republic",
            "Slovenia",
            "Spain",
            "Sweden",
            "Switzerland",
            "Turkey",
            "United Kingdom"
           ],
           "legendgroup": "Europe",
           "marker": {
            "color": "#EF553B",
            "size": [
             3600523,
             8199783,
             10392226,
             4552198,
             7322858,
             4493312,
             10228744,
             5468120,
             5238460,
             61083916,
             82400996,
             10706290,
             9956108,
             301931,
             4109086,
             58147733,
             684736,
             16570613,
             4627926,
             38518241,
             10642836,
             22276056,
             10150265,
             5447502,
             2009245,
             40448191,
             9031088,
             7554661,
             71158647,
             60776238
            ],
            "sizemode": "area",
            "sizeref": 366300.86,
            "symbol": "circle"
           },
           "mode": "markers",
           "name": "Europe",
           "orientation": "v",
           "showlegend": true,
           "type": "scatter",
           "x": [
            5937.0295259999975,
            36126.4927,
            33692.60508,
            7446.298803,
            10680.79282,
            14619.222719999998,
            22833.30851,
            35278.41874,
            33207.0844,
            30470.0167,
            32170.37442,
            27538.41188,
            18008.94444,
            36180.789189999996,
            40675.99635,
            28569.7197,
            9253.896111,
            36797.93332,
            49357.19017,
            15389.924680000002,
            20509.64777,
            10808.47561,
            9786.534714,
            18678.31435,
            25768.25759,
            28821.0637,
            33859.74835,
            37506.419069999996,
            8458.276384,
            33203.26128
           ],
           "xaxis": "x",
           "y": [
            76.423,
            79.829,
            79.441,
            74.852,
            73.005,
            75.748,
            76.486,
            78.332,
            79.313,
            80.657,
            79.406,
            79.483,
            73.33800000000002,
            81.757,
            78.885,
            80.546,
            74.543,
            79.762,
            80.196,
            75.563,
            78.098,
            72.476,
            74.002,
            74.663,
            77.926,
            80.941,
            80.884,
            81.70100000000002,
            71.777,
            79.425
           ],
           "yaxis": "y"
          },
          {
           "hovertemplate": "<b>%{hovertext}</b><br><br>continent=Africa<br>year=2007<br>gdpPercap=%{x}<br>lifeExp=%{y}<br>pop=%{marker.size}<extra></extra>",
           "hovertext": [
            "Algeria",
            "Angola",
            "Benin",
            "Botswana",
            "Burkina Faso",
            "Burundi",
            "Cameroon",
            "Central African Republic",
            "Chad",
            "Comoros",
            "Congo, Dem. Rep.",
            "Congo, Rep.",
            "Cote d'Ivoire",
            "Djibouti",
            "Egypt",
            "Equatorial Guinea",
            "Eritrea",
            "Ethiopia",
            "Gabon",
            "Gambia",
            "Ghana",
            "Guinea",
            "Guinea-Bissau",
            "Kenya",
            "Lesotho",
            "Liberia",
            "Libya",
            "Madagascar",
            "Malawi",
            "Mali",
            "Mauritania",
            "Mauritius",
            "Morocco",
            "Mozambique",
            "Namibia",
            "Niger",
            "Nigeria",
            "Reunion",
            "Rwanda",
            "Sao Tome and Principe",
            "Senegal",
            "Sierra Leone",
            "Somalia",
            "South Africa",
            "Sudan",
            "Swaziland",
            "Tanzania",
            "Togo",
            "Tunisia",
            "Uganda",
            "Zambia",
            "Zimbabwe"
           ],
           "legendgroup": "Africa",
           "marker": {
            "color": "#00cc96",
            "size": [
             33333216,
             12420476,
             8078314,
             1639131,
             14326203,
             8390505,
             17696293,
             4369038,
             10238807,
             710960,
             64606759,
             3800610,
             18013409,
             496374,
             80264543,
             551201,
             4906585,
             76511887,
             1454867,
             1688359,
             22873338,
             9947814,
             1472041,
             35610177,
             2012649,
             3193942,
             6036914,
             19167654,
             13327079,
             12031795,
             3270065,
             1250882,
             33757175,
             19951656,
             2055080,
             12894865,
             135031164,
             798094,
             8860588,
             199579,
             12267493,
             6144562,
             9118773,
             43997828,
             42292929,
             1133066,
             38139640,
             5701579,
             10276158,
             29170398,
             11746035,
             12311143
            ],
            "sizemode": "area",
            "sizeref": 366300.86,
            "symbol": "circle"
           },
           "mode": "markers",
           "name": "Africa",
           "orientation": "v",
           "showlegend": true,
           "type": "scatter",
           "x": [
            6223.367465,
            4797.231267,
            1441.284873,
            12569.851770000001,
            1217.032994,
            430.07069160000003,
            2042.0952399999999,
            706.016537,
            1704.0637239999999,
            986.1478792000001,
            277.55185869999997,
            3632.557798,
            1544.750112,
            2082.4815670000007,
            5581.180998,
            12154.08975,
            641.3695236000002,
            690.8055759,
            13206.48452,
            752.7497265,
            1327.60891,
            942.6542111,
            579.2317429999998,
            1463.249282,
            1569.331442,
            414.5073415,
            12057.49928,
            1044.770126,
            759.3499101,
            1042.581557,
            1803.1514960000002,
            10956.99112,
            3820.17523,
            823.6856205,
            4811.060429,
            619.6768923999998,
            2013.9773050000001,
            7670.122558,
            863.0884639000003,
            1598.435089,
            1712.4721359999999,
            862.5407561000003,
            926.1410683,
            9269.657808,
            2602.394995,
            4513.480643,
            1107.482182,
            882.9699437999999,
            7092.923025,
            1056.3801210000001,
            1271.211593,
            469.70929810000007
           ],
           "xaxis": "x",
           "y": [
            72.301,
            42.731,
            56.728,
            50.728,
            52.295,
            49.58,
            50.43,
            44.74100000000001,
            50.651,
            65.152,
            46.461999999999996,
            55.321999999999996,
            48.328,
            54.791000000000004,
            71.33800000000002,
            51.57899999999999,
            58.04,
            52.946999999999996,
            56.735,
            59.448,
            60.022,
            56.007,
            46.38800000000001,
            54.11,
            42.592,
            45.678000000000004,
            73.952,
            59.44300000000001,
            48.303000000000004,
            54.467,
            64.164,
            72.801,
            71.164,
            42.082,
            52.90600000000001,
            56.867,
            46.858999999999995,
            76.442,
            46.242,
            65.528,
            63.062,
            42.56800000000001,
            48.159,
            49.339,
            58.556000000000004,
            39.613,
            52.516999999999996,
            58.42,
            73.923,
            51.542,
            42.38399999999999,
            43.486999999999995
           ],
           "yaxis": "y"
          },
          {
           "hovertemplate": "<b>%{hovertext}</b><br><br>continent=Americas<br>year=2007<br>gdpPercap=%{x}<br>lifeExp=%{y}<br>pop=%{marker.size}<extra></extra>",
           "hovertext": [
            "Argentina",
            "Bolivia",
            "Brazil",
            "Canada",
            "Chile",
            "Colombia",
            "Costa Rica",
            "Cuba",
            "Dominican Republic",
            "Ecuador",
            "El Salvador",
            "Guatemala",
            "Haiti",
            "Honduras",
            "Jamaica",
            "Mexico",
            "Nicaragua",
            "Panama",
            "Paraguay",
            "Peru",
            "Puerto Rico",
            "Trinidad and Tobago",
            "United States",
            "Uruguay",
            "Venezuela"
           ],
           "legendgroup": "Americas",
           "marker": {
            "color": "#ab63fa",
            "size": [
             40301927,
             9119152,
             190010647,
             33390141,
             16284741,
             44227550,
             4133884,
             11416987,
             9319622,
             13755680,
             6939688,
             12572928,
             8502814,
             7483763,
             2780132,
             108700891,
             5675356,
             3242173,
             6667147,
             28674757,
             3942491,
             1056608,
             301139947,
             3447496,
             26084662
            ],
            "sizemode": "area",
            "sizeref": 366300.86,
            "symbol": "circle"
           },
           "mode": "markers",
           "name": "Americas",
           "orientation": "v",
           "showlegend": true,
           "type": "scatter",
           "x": [
            12779.379640000001,
            3822.1370840000004,
            9065.800825,
            36319.235010000004,
            13171.63885,
            7006.580419,
            9645.06142,
            8948.102923,
            6025.374752000002,
            6873.262326000001,
            5728.353514,
            5186.050003,
            1201.637154,
            3548.330846000001,
            7320.880262000002,
            11977.57496,
            2749.320965,
            9809.185636,
            4172.838464,
            7408.905561,
            19328.70901,
            18008.50924,
            42951.65309,
            10611.46299,
            11415.805690000001
           ],
           "xaxis": "x",
           "y": [
            75.32,
            65.554,
            72.39,
            80.653,
            78.553,
            72.889,
            78.782,
            78.273,
            72.235,
            74.994,
            71.878,
            70.259,
            60.916000000000004,
            70.19800000000001,
            72.567,
            76.195,
            72.899,
            75.53699999999998,
            71.752,
            71.421,
            78.74600000000002,
            69.819,
            78.242,
            76.384,
            73.747
           ],
           "yaxis": "y"
          },
          {
           "hovertemplate": "<b>%{hovertext}</b><br><br>continent=Oceania<br>year=2007<br>gdpPercap=%{x}<br>lifeExp=%{y}<br>pop=%{marker.size}<extra></extra>",
           "hovertext": [
            "Australia",
            "New Zealand"
           ],
           "legendgroup": "Oceania",
           "marker": {
            "color": "#FFA15A",
            "size": [
             20434176,
             4115771
            ],
            "sizemode": "area",
            "sizeref": 366300.86,
            "symbol": "circle"
           },
           "mode": "markers",
           "name": "Oceania",
           "orientation": "v",
           "showlegend": true,
           "type": "scatter",
           "x": [
            34435.367439999995,
            25185.00911
           ],
           "xaxis": "x",
           "y": [
            81.235,
            80.204
           ],
           "yaxis": "y"
          }
         ],
         "name": "2007"
        }
       ],
       "layout": {
        "legend": {
         "itemsizing": "constant",
         "title": {
          "text": "continent"
         },
         "tracegroupgap": 0
        },
        "margin": {
         "t": 60
        },
        "sliders": [
         {
          "active": 0,
          "currentvalue": {
           "prefix": "year="
          },
          "len": 0.9,
          "pad": {
           "b": 10,
           "t": 60
          },
          "steps": [
           {
            "args": [
             [
              "1952"
             ],
             {
              "frame": {
               "duration": 0,
               "redraw": false
              },
              "fromcurrent": true,
              "mode": "immediate",
              "transition": {
               "duration": 0,
               "easing": "linear"
              }
             }
            ],
            "label": "1952",
            "method": "animate"
           },
           {
            "args": [
             [
              "1957"
             ],
             {
              "frame": {
               "duration": 0,
               "redraw": false
              },
              "fromcurrent": true,
              "mode": "immediate",
              "transition": {
               "duration": 0,
               "easing": "linear"
              }
             }
            ],
            "label": "1957",
            "method": "animate"
           },
           {
            "args": [
             [
              "1962"
             ],
             {
              "frame": {
               "duration": 0,
               "redraw": false
              },
              "fromcurrent": true,
              "mode": "immediate",
              "transition": {
               "duration": 0,
               "easing": "linear"
              }
             }
            ],
            "label": "1962",
            "method": "animate"
           },
           {
            "args": [
             [
              "1967"
             ],
             {
              "frame": {
               "duration": 0,
               "redraw": false
              },
              "fromcurrent": true,
              "mode": "immediate",
              "transition": {
               "duration": 0,
               "easing": "linear"
              }
             }
            ],
            "label": "1967",
            "method": "animate"
           },
           {
            "args": [
             [
              "1972"
             ],
             {
              "frame": {
               "duration": 0,
               "redraw": false
              },
              "fromcurrent": true,
              "mode": "immediate",
              "transition": {
               "duration": 0,
               "easing": "linear"
              }
             }
            ],
            "label": "1972",
            "method": "animate"
           },
           {
            "args": [
             [
              "1977"
             ],
             {
              "frame": {
               "duration": 0,
               "redraw": false
              },
              "fromcurrent": true,
              "mode": "immediate",
              "transition": {
               "duration": 0,
               "easing": "linear"
              }
             }
            ],
            "label": "1977",
            "method": "animate"
           },
           {
            "args": [
             [
              "1982"
             ],
             {
              "frame": {
               "duration": 0,
               "redraw": false
              },
              "fromcurrent": true,
              "mode": "immediate",
              "transition": {
               "duration": 0,
               "easing": "linear"
              }
             }
            ],
            "label": "1982",
            "method": "animate"
           },
           {
            "args": [
             [
              "1987"
             ],
             {
              "frame": {
               "duration": 0,
               "redraw": false
              },
              "fromcurrent": true,
              "mode": "immediate",
              "transition": {
               "duration": 0,
               "easing": "linear"
              }
             }
            ],
            "label": "1987",
            "method": "animate"
           },
           {
            "args": [
             [
              "1992"
             ],
             {
              "frame": {
               "duration": 0,
               "redraw": false
              },
              "fromcurrent": true,
              "mode": "immediate",
              "transition": {
               "duration": 0,
               "easing": "linear"
              }
             }
            ],
            "label": "1992",
            "method": "animate"
           },
           {
            "args": [
             [
              "1997"
             ],
             {
              "frame": {
               "duration": 0,
               "redraw": false
              },
              "fromcurrent": true,
              "mode": "immediate",
              "transition": {
               "duration": 0,
               "easing": "linear"
              }
             }
            ],
            "label": "1997",
            "method": "animate"
           },
           {
            "args": [
             [
              "2002"
             ],
             {
              "frame": {
               "duration": 0,
               "redraw": false
              },
              "fromcurrent": true,
              "mode": "immediate",
              "transition": {
               "duration": 0,
               "easing": "linear"
              }
             }
            ],
            "label": "2002",
            "method": "animate"
           },
           {
            "args": [
             [
              "2007"
             ],
             {
              "frame": {
               "duration": 0,
               "redraw": false
              },
              "fromcurrent": true,
              "mode": "immediate",
              "transition": {
               "duration": 0,
               "easing": "linear"
              }
             }
            ],
            "label": "2007",
            "method": "animate"
           }
          ],
          "x": 0.1,
          "xanchor": "left",
          "y": 0,
          "yanchor": "top"
         }
        ],
        "template": {
         "data": {
          "bar": [
           {
            "error_x": {
             "color": "#2a3f5f"
            },
            "error_y": {
             "color": "#2a3f5f"
            },
            "marker": {
             "line": {
              "color": "#E5ECF6",
              "width": 0.5
             },
             "pattern": {
              "fillmode": "overlay",
              "size": 10,
              "solidity": 0.2
             }
            },
            "type": "bar"
           }
          ],
          "barpolar": [
           {
            "marker": {
             "line": {
              "color": "#E5ECF6",
              "width": 0.5
             },
             "pattern": {
              "fillmode": "overlay",
              "size": 10,
              "solidity": 0.2
             }
            },
            "type": "barpolar"
           }
          ],
          "carpet": [
           {
            "aaxis": {
             "endlinecolor": "#2a3f5f",
             "gridcolor": "white",
             "linecolor": "white",
             "minorgridcolor": "white",
             "startlinecolor": "#2a3f5f"
            },
            "baxis": {
             "endlinecolor": "#2a3f5f",
             "gridcolor": "white",
             "linecolor": "white",
             "minorgridcolor": "white",
             "startlinecolor": "#2a3f5f"
            },
            "type": "carpet"
           }
          ],
          "choropleth": [
           {
            "colorbar": {
             "outlinewidth": 0,
             "ticks": ""
            },
            "type": "choropleth"
           }
          ],
          "contour": [
           {
            "colorbar": {
             "outlinewidth": 0,
             "ticks": ""
            },
            "colorscale": [
             [
              0,
              "#0d0887"
             ],
             [
              0.1111111111111111,
              "#46039f"
             ],
             [
              0.2222222222222222,
              "#7201a8"
             ],
             [
              0.3333333333333333,
              "#9c179e"
             ],
             [
              0.4444444444444444,
              "#bd3786"
             ],
             [
              0.5555555555555556,
              "#d8576b"
             ],
             [
              0.6666666666666666,
              "#ed7953"
             ],
             [
              0.7777777777777778,
              "#fb9f3a"
             ],
             [
              0.8888888888888888,
              "#fdca26"
             ],
             [
              1,
              "#f0f921"
             ]
            ],
            "type": "contour"
           }
          ],
          "contourcarpet": [
           {
            "colorbar": {
             "outlinewidth": 0,
             "ticks": ""
            },
            "type": "contourcarpet"
           }
          ],
          "heatmap": [
           {
            "colorbar": {
             "outlinewidth": 0,
             "ticks": ""
            },
            "colorscale": [
             [
              0,
              "#0d0887"
             ],
             [
              0.1111111111111111,
              "#46039f"
             ],
             [
              0.2222222222222222,
              "#7201a8"
             ],
             [
              0.3333333333333333,
              "#9c179e"
             ],
             [
              0.4444444444444444,
              "#bd3786"
             ],
             [
              0.5555555555555556,
              "#d8576b"
             ],
             [
              0.6666666666666666,
              "#ed7953"
             ],
             [
              0.7777777777777778,
              "#fb9f3a"
             ],
             [
              0.8888888888888888,
              "#fdca26"
             ],
             [
              1,
              "#f0f921"
             ]
            ],
            "type": "heatmap"
           }
          ],
          "heatmapgl": [
           {
            "colorbar": {
             "outlinewidth": 0,
             "ticks": ""
            },
            "colorscale": [
             [
              0,
              "#0d0887"
             ],
             [
              0.1111111111111111,
              "#46039f"
             ],
             [
              0.2222222222222222,
              "#7201a8"
             ],
             [
              0.3333333333333333,
              "#9c179e"
             ],
             [
              0.4444444444444444,
              "#bd3786"
             ],
             [
              0.5555555555555556,
              "#d8576b"
             ],
             [
              0.6666666666666666,
              "#ed7953"
             ],
             [
              0.7777777777777778,
              "#fb9f3a"
             ],
             [
              0.8888888888888888,
              "#fdca26"
             ],
             [
              1,
              "#f0f921"
             ]
            ],
            "type": "heatmapgl"
           }
          ],
          "histogram": [
           {
            "marker": {
             "pattern": {
              "fillmode": "overlay",
              "size": 10,
              "solidity": 0.2
             }
            },
            "type": "histogram"
           }
          ],
          "histogram2d": [
           {
            "colorbar": {
             "outlinewidth": 0,
             "ticks": ""
            },
            "colorscale": [
             [
              0,
              "#0d0887"
             ],
             [
              0.1111111111111111,
              "#46039f"
             ],
             [
              0.2222222222222222,
              "#7201a8"
             ],
             [
              0.3333333333333333,
              "#9c179e"
             ],
             [
              0.4444444444444444,
              "#bd3786"
             ],
             [
              0.5555555555555556,
              "#d8576b"
             ],
             [
              0.6666666666666666,
              "#ed7953"
             ],
             [
              0.7777777777777778,
              "#fb9f3a"
             ],
             [
              0.8888888888888888,
              "#fdca26"
             ],
             [
              1,
              "#f0f921"
             ]
            ],
            "type": "histogram2d"
           }
          ],
          "histogram2dcontour": [
           {
            "colorbar": {
             "outlinewidth": 0,
             "ticks": ""
            },
            "colorscale": [
             [
              0,
              "#0d0887"
             ],
             [
              0.1111111111111111,
              "#46039f"
             ],
             [
              0.2222222222222222,
              "#7201a8"
             ],
             [
              0.3333333333333333,
              "#9c179e"
             ],
             [
              0.4444444444444444,
              "#bd3786"
             ],
             [
              0.5555555555555556,
              "#d8576b"
             ],
             [
              0.6666666666666666,
              "#ed7953"
             ],
             [
              0.7777777777777778,
              "#fb9f3a"
             ],
             [
              0.8888888888888888,
              "#fdca26"
             ],
             [
              1,
              "#f0f921"
             ]
            ],
            "type": "histogram2dcontour"
           }
          ],
          "mesh3d": [
           {
            "colorbar": {
             "outlinewidth": 0,
             "ticks": ""
            },
            "type": "mesh3d"
           }
          ],
          "parcoords": [
           {
            "line": {
             "colorbar": {
              "outlinewidth": 0,
              "ticks": ""
             }
            },
            "type": "parcoords"
           }
          ],
          "pie": [
           {
            "automargin": true,
            "type": "pie"
           }
          ],
          "scatter": [
           {
            "marker": {
             "colorbar": {
              "outlinewidth": 0,
              "ticks": ""
             }
            },
            "type": "scatter"
           }
          ],
          "scatter3d": [
           {
            "line": {
             "colorbar": {
              "outlinewidth": 0,
              "ticks": ""
             }
            },
            "marker": {
             "colorbar": {
              "outlinewidth": 0,
              "ticks": ""
             }
            },
            "type": "scatter3d"
           }
          ],
          "scattercarpet": [
           {
            "marker": {
             "colorbar": {
              "outlinewidth": 0,
              "ticks": ""
             }
            },
            "type": "scattercarpet"
           }
          ],
          "scattergeo": [
           {
            "marker": {
             "colorbar": {
              "outlinewidth": 0,
              "ticks": ""
             }
            },
            "type": "scattergeo"
           }
          ],
          "scattergl": [
           {
            "marker": {
             "colorbar": {
              "outlinewidth": 0,
              "ticks": ""
             }
            },
            "type": "scattergl"
           }
          ],
          "scattermapbox": [
           {
            "marker": {
             "colorbar": {
              "outlinewidth": 0,
              "ticks": ""
             }
            },
            "type": "scattermapbox"
           }
          ],
          "scatterpolar": [
           {
            "marker": {
             "colorbar": {
              "outlinewidth": 0,
              "ticks": ""
             }
            },
            "type": "scatterpolar"
           }
          ],
          "scatterpolargl": [
           {
            "marker": {
             "colorbar": {
              "outlinewidth": 0,
              "ticks": ""
             }
            },
            "type": "scatterpolargl"
           }
          ],
          "scatterternary": [
           {
            "marker": {
             "colorbar": {
              "outlinewidth": 0,
              "ticks": ""
             }
            },
            "type": "scatterternary"
           }
          ],
          "surface": [
           {
            "colorbar": {
             "outlinewidth": 0,
             "ticks": ""
            },
            "colorscale": [
             [
              0,
              "#0d0887"
             ],
             [
              0.1111111111111111,
              "#46039f"
             ],
             [
              0.2222222222222222,
              "#7201a8"
             ],
             [
              0.3333333333333333,
              "#9c179e"
             ],
             [
              0.4444444444444444,
              "#bd3786"
             ],
             [
              0.5555555555555556,
              "#d8576b"
             ],
             [
              0.6666666666666666,
              "#ed7953"
             ],
             [
              0.7777777777777778,
              "#fb9f3a"
             ],
             [
              0.8888888888888888,
              "#fdca26"
             ],
             [
              1,
              "#f0f921"
             ]
            ],
            "type": "surface"
           }
          ],
          "table": [
           {
            "cells": {
             "fill": {
              "color": "#EBF0F8"
             },
             "line": {
              "color": "white"
             }
            },
            "header": {
             "fill": {
              "color": "#C8D4E3"
             },
             "line": {
              "color": "white"
             }
            },
            "type": "table"
           }
          ]
         },
         "layout": {
          "annotationdefaults": {
           "arrowcolor": "#2a3f5f",
           "arrowhead": 0,
           "arrowwidth": 1
          },
          "autotypenumbers": "strict",
          "coloraxis": {
           "colorbar": {
            "outlinewidth": 0,
            "ticks": ""
           }
          },
          "colorscale": {
           "diverging": [
            [
             0,
             "#8e0152"
            ],
            [
             0.1,
             "#c51b7d"
            ],
            [
             0.2,
             "#de77ae"
            ],
            [
             0.3,
             "#f1b6da"
            ],
            [
             0.4,
             "#fde0ef"
            ],
            [
             0.5,
             "#f7f7f7"
            ],
            [
             0.6,
             "#e6f5d0"
            ],
            [
             0.7,
             "#b8e186"
            ],
            [
             0.8,
             "#7fbc41"
            ],
            [
             0.9,
             "#4d9221"
            ],
            [
             1,
             "#276419"
            ]
           ],
           "sequential": [
            [
             0,
             "#0d0887"
            ],
            [
             0.1111111111111111,
             "#46039f"
            ],
            [
             0.2222222222222222,
             "#7201a8"
            ],
            [
             0.3333333333333333,
             "#9c179e"
            ],
            [
             0.4444444444444444,
             "#bd3786"
            ],
            [
             0.5555555555555556,
             "#d8576b"
            ],
            [
             0.6666666666666666,
             "#ed7953"
            ],
            [
             0.7777777777777778,
             "#fb9f3a"
            ],
            [
             0.8888888888888888,
             "#fdca26"
            ],
            [
             1,
             "#f0f921"
            ]
           ],
           "sequentialminus": [
            [
             0,
             "#0d0887"
            ],
            [
             0.1111111111111111,
             "#46039f"
            ],
            [
             0.2222222222222222,
             "#7201a8"
            ],
            [
             0.3333333333333333,
             "#9c179e"
            ],
            [
             0.4444444444444444,
             "#bd3786"
            ],
            [
             0.5555555555555556,
             "#d8576b"
            ],
            [
             0.6666666666666666,
             "#ed7953"
            ],
            [
             0.7777777777777778,
             "#fb9f3a"
            ],
            [
             0.8888888888888888,
             "#fdca26"
            ],
            [
             1,
             "#f0f921"
            ]
           ]
          },
          "colorway": [
           "#636efa",
           "#EF553B",
           "#00cc96",
           "#ab63fa",
           "#FFA15A",
           "#19d3f3",
           "#FF6692",
           "#B6E880",
           "#FF97FF",
           "#FECB52"
          ],
          "font": {
           "color": "#2a3f5f"
          },
          "geo": {
           "bgcolor": "white",
           "lakecolor": "white",
           "landcolor": "#E5ECF6",
           "showlakes": true,
           "showland": true,
           "subunitcolor": "white"
          },
          "hoverlabel": {
           "align": "left"
          },
          "hovermode": "closest",
          "mapbox": {
           "style": "light"
          },
          "paper_bgcolor": "white",
          "plot_bgcolor": "#E5ECF6",
          "polar": {
           "angularaxis": {
            "gridcolor": "white",
            "linecolor": "white",
            "ticks": ""
           },
           "bgcolor": "#E5ECF6",
           "radialaxis": {
            "gridcolor": "white",
            "linecolor": "white",
            "ticks": ""
           }
          },
          "scene": {
           "xaxis": {
            "backgroundcolor": "#E5ECF6",
            "gridcolor": "white",
            "gridwidth": 2,
            "linecolor": "white",
            "showbackground": true,
            "ticks": "",
            "zerolinecolor": "white"
           },
           "yaxis": {
            "backgroundcolor": "#E5ECF6",
            "gridcolor": "white",
            "gridwidth": 2,
            "linecolor": "white",
            "showbackground": true,
            "ticks": "",
            "zerolinecolor": "white"
           },
           "zaxis": {
            "backgroundcolor": "#E5ECF6",
            "gridcolor": "white",
            "gridwidth": 2,
            "linecolor": "white",
            "showbackground": true,
            "ticks": "",
            "zerolinecolor": "white"
           }
          },
          "shapedefaults": {
           "line": {
            "color": "#2a3f5f"
           }
          },
          "ternary": {
           "aaxis": {
            "gridcolor": "white",
            "linecolor": "white",
            "ticks": ""
           },
           "baxis": {
            "gridcolor": "white",
            "linecolor": "white",
            "ticks": ""
           },
           "bgcolor": "#E5ECF6",
           "caxis": {
            "gridcolor": "white",
            "linecolor": "white",
            "ticks": ""
           }
          },
          "title": {
           "x": 0.05
          },
          "xaxis": {
           "automargin": true,
           "gridcolor": "white",
           "linecolor": "white",
           "ticks": "",
           "title": {
            "standoff": 15
           },
           "zerolinecolor": "white",
           "zerolinewidth": 2
          },
          "yaxis": {
           "automargin": true,
           "gridcolor": "white",
           "linecolor": "white",
           "ticks": "",
           "title": {
            "standoff": 15
           },
           "zerolinecolor": "white",
           "zerolinewidth": 2
          }
         }
        },
        "updatemenus": [
         {
          "buttons": [
           {
            "args": [
             null,
             {
              "frame": {
               "duration": 500,
               "redraw": false
              },
              "fromcurrent": true,
              "mode": "immediate",
              "transition": {
               "duration": 500,
               "easing": "linear"
              }
             }
            ],
            "label": "&#9654;",
            "method": "animate"
           },
           {
            "args": [
             [
              null
             ],
             {
              "frame": {
               "duration": 0,
               "redraw": false
              },
              "fromcurrent": true,
              "mode": "immediate",
              "transition": {
               "duration": 0,
               "easing": "linear"
              }
             }
            ],
            "label": "&#9724;",
            "method": "animate"
           }
          ],
          "direction": "left",
          "pad": {
           "r": 10,
           "t": 70
          },
          "showactive": false,
          "type": "buttons",
          "x": 0.1,
          "xanchor": "right",
          "y": 0,
          "yanchor": "top"
         }
        ],
        "xaxis": {
         "anchor": "y",
         "domain": [
          0,
          1
         ],
         "title": {
          "text": "gdpPercap"
         },
         "type": "log"
        },
        "yaxis": {
         "anchor": "x",
         "domain": [
          0,
          1
         ],
         "range": [
          20,
          90
         ],
         "title": {
          "text": "lifeExp"
         }
        }
       }
      },
      "text/html": [
       "<div>                            <div id=\"2d71441c-5572-4083-aef7-3e16e69b0e22\" class=\"plotly-graph-div\" style=\"height:525px; width:100%;\"></div>            <script type=\"text/javascript\">                require([\"plotly\"], function(Plotly) {                    window.PLOTLYENV=window.PLOTLYENV || {};                                    if (document.getElementById(\"2d71441c-5572-4083-aef7-3e16e69b0e22\")) {                    Plotly.newPlot(                        \"2d71441c-5572-4083-aef7-3e16e69b0e22\",                        [{\"hovertemplate\":\"<b>%{hovertext}</b><br><br>continent=Asia<br>year=1952<br>gdpPercap=%{x}<br>lifeExp=%{y}<br>pop=%{marker.size}<extra></extra>\",\"hovertext\":[\"Afghanistan\",\"Bahrain\",\"Bangladesh\",\"Cambodia\",\"China\",\"Hong Kong, China\",\"India\",\"Indonesia\",\"Iran\",\"Iraq\",\"Israel\",\"Japan\",\"Jordan\",\"Korea, Dem. Rep.\",\"Korea, Rep.\",\"Kuwait\",\"Lebanon\",\"Malaysia\",\"Mongolia\",\"Myanmar\",\"Nepal\",\"Oman\",\"Pakistan\",\"Philippines\",\"Saudi Arabia\",\"Singapore\",\"Sri Lanka\",\"Syria\",\"Taiwan\",\"Thailand\",\"Vietnam\",\"West Bank and Gaza\",\"Yemen, Rep.\"],\"legendgroup\":\"Asia\",\"marker\":{\"color\":\"#636efa\",\"size\":[8425333,120447,46886859,4693836,556263527,2125900,372000000,82052000,17272000,5441766,1620914,86459025,607914,8865488,20947571,160000,1439529,6748378,800663,20092996,9182536,507833,41346560,22438691,4005677,1127000,7982342,3661549,8550362,21289402,26246839,1030585,4963829],\"sizemode\":\"area\",\"sizeref\":366300.86,\"symbol\":\"circle\"},\"mode\":\"markers\",\"name\":\"Asia\",\"orientation\":\"v\",\"showlegend\":true,\"type\":\"scatter\",\"x\":[779.4453145,9867.084765000001,684.2441716,368.46928560000003,400.44861099999997,3054.421209,546.5657493,749.6816546,3035.326002,4129.766056,4086.522128,3216.956347,1546.907807,1088.277758,1030.592226,108382.3529,4834.804067,1831.132894,786.5668575,331.0,545.8657228999998,1828.230307,684.5971437999998,1272.880995,6459.5548229999995,2315.138227,1083.53203,1643.485354,1206.947913,757.7974177,605.0664917,1515.5923289999994,781.7175761],\"xaxis\":\"x\",\"y\":[28.801,50.93899999999999,37.484,39.417,44.0,60.96,37.37300000000001,37.468,44.869,45.32,65.39,63.03,43.158,50.056000000000004,47.453,55.565,55.928000000000004,48.463,42.244,36.319,36.157,37.578,43.43600000000001,47.751999999999995,39.875,60.396,57.593,45.883,58.5,50.848,40.412,43.16,32.548],\"yaxis\":\"y\"},{\"hovertemplate\":\"<b>%{hovertext}</b><br><br>continent=Europe<br>year=1952<br>gdpPercap=%{x}<br>lifeExp=%{y}<br>pop=%{marker.size}<extra></extra>\",\"hovertext\":[\"Albania\",\"Austria\",\"Belgium\",\"Bosnia and Herzegovina\",\"Bulgaria\",\"Croatia\",\"Czech Republic\",\"Denmark\",\"Finland\",\"France\",\"Germany\",\"Greece\",\"Hungary\",\"Iceland\",\"Ireland\",\"Italy\",\"Montenegro\",\"Netherlands\",\"Norway\",\"Poland\",\"Portugal\",\"Romania\",\"Serbia\",\"Slovak Republic\",\"Slovenia\",\"Spain\",\"Sweden\",\"Switzerland\",\"Turkey\",\"United Kingdom\"],\"legendgroup\":\"Europe\",\"marker\":{\"color\":\"#EF553B\",\"size\":[1282697,6927772,8730405,2791000,7274900,3882229,9125183,4334000,4090500,42459667,69145952,7733250,9504000,147962,2952156,47666000,413834,10381988,3327728,25730551,8526050,16630000,6860147,3558137,1489518,28549870,7124673,4815000,22235677,50430000],\"sizemode\":\"area\",\"sizeref\":366300.86,\"symbol\":\"circle\"},\"mode\":\"markers\",\"name\":\"Europe\",\"orientation\":\"v\",\"showlegend\":true,\"type\":\"scatter\",\"x\":[1601.056136,6137.076492,8343.105126999999,973.5331947999999,2444.2866480000002,3119.23652,6876.14025,9692.385245,6424.519071,7029.809327,7144.114393000003,3530.690067,5263.6738159999995,7267.688428,5210.280328,4931.404154999998,2647.585601,8941.571858,10095.42172,4029.3296990000003,3068.319867,3144.613186,3581.4594479999996,5074.659104,4215.041741,3834.0347420000003,8527.844662000001,14734.23275,1969.1009800000002,9979.508487000001],\"xaxis\":\"x\",\"y\":[55.23,66.8,68.0,53.82,59.6,61.21,66.87,70.78,66.55,67.41,67.5,65.86,64.03,72.49,66.91,65.94,59.163999999999994,72.13,72.67,61.31,59.82,61.05,57.996,64.36,65.57,64.94,71.86,69.62,43.585,69.18],\"yaxis\":\"y\"},{\"hovertemplate\":\"<b>%{hovertext}</b><br><br>continent=Africa<br>year=1952<br>gdpPercap=%{x}<br>lifeExp=%{y}<br>pop=%{marker.size}<extra></extra>\",\"hovertext\":[\"Algeria\",\"Angola\",\"Benin\",\"Botswana\",\"Burkina Faso\",\"Burundi\",\"Cameroon\",\"Central African Republic\",\"Chad\",\"Comoros\",\"Congo, Dem. Rep.\",\"Congo, Rep.\",\"Cote d'Ivoire\",\"Djibouti\",\"Egypt\",\"Equatorial Guinea\",\"Eritrea\",\"Ethiopia\",\"Gabon\",\"Gambia\",\"Ghana\",\"Guinea\",\"Guinea-Bissau\",\"Kenya\",\"Lesotho\",\"Liberia\",\"Libya\",\"Madagascar\",\"Malawi\",\"Mali\",\"Mauritania\",\"Mauritius\",\"Morocco\",\"Mozambique\",\"Namibia\",\"Niger\",\"Nigeria\",\"Reunion\",\"Rwanda\",\"Sao Tome and Principe\",\"Senegal\",\"Sierra Leone\",\"Somalia\",\"South Africa\",\"Sudan\",\"Swaziland\",\"Tanzania\",\"Togo\",\"Tunisia\",\"Uganda\",\"Zambia\",\"Zimbabwe\"],\"legendgroup\":\"Africa\",\"marker\":{\"color\":\"#00cc96\",\"size\":[9279525,4232095,1738315,442308,4469979,2445618,5009067,1291695,2682462,153936,14100005,854885,2977019,63149,22223309,216964,1438760,20860941,420702,284320,5581001,2664249,580653,6464046,748747,863308,1019729,4762912,2917802,3838168,1022556,516556,9939217,6446316,485831,3379468,33119096,257700,2534927,60011,2755589,2143249,2526994,14264935,8504667,290243,8322925,1219113,3647735,5824797,2672000,3080907],\"sizemode\":\"area\",\"sizeref\":366300.86,\"symbol\":\"circle\"},\"mode\":\"markers\",\"name\":\"Africa\",\"orientation\":\"v\",\"showlegend\":true,\"type\":\"scatter\",\"x\":[2449.008185,3520.610273,1062.7522,851.2411407,543.2552413,339.29645869999996,1172.667655,1071.310713,1178.665927,1102.990936,780.5423257,2125.621418,1388.594732,2669.529475,1418.822445,375.6431231,328.9405571000001,362.1462796,4293.476475,485.2306591,911.2989371,510.19649230000016,299.850319,853.5409189999997,298.8462121,575.5729961000002,2387.54806,1443.011715,369.1650802,452.3369807,743.1159097,1967.955707,1688.20357,468.5260381,2423.780443,761.879376,1077.281856,2718.885295,493.32387520000003,879.5835855,1450.356983,879.7877358,1135.749842,4725.295531000002,1615.991129,1148.376626,716.6500721,859.8086567,1468.475631,734.753484,1147.388831,406.8841148],\"xaxis\":\"x\",\"y\":[43.077,30.015,38.223,47.622,31.975,39.031,38.523,35.463,38.092,40.715,39.143,42.111000000000004,40.477,34.812,41.893,34.482,35.92800000000001,34.078,37.003,30.0,43.148999999999994,33.609,32.5,42.27,42.13800000000001,38.48,42.723,36.681,36.256,33.685,40.543,50.986000000000004,42.87300000000001,31.285999999999998,41.725,37.444,36.324,52.724,40.0,46.471000000000004,37.278,30.331,32.978,45.00899999999999,38.635,41.407,41.215,38.596,44.6,39.978,42.038000000000004,48.451],\"yaxis\":\"y\"},{\"hovertemplate\":\"<b>%{hovertext}</b><br><br>continent=Americas<br>year=1952<br>gdpPercap=%{x}<br>lifeExp=%{y}<br>pop=%{marker.size}<extra></extra>\",\"hovertext\":[\"Argentina\",\"Bolivia\",\"Brazil\",\"Canada\",\"Chile\",\"Colombia\",\"Costa Rica\",\"Cuba\",\"Dominican Republic\",\"Ecuador\",\"El Salvador\",\"Guatemala\",\"Haiti\",\"Honduras\",\"Jamaica\",\"Mexico\",\"Nicaragua\",\"Panama\",\"Paraguay\",\"Peru\",\"Puerto Rico\",\"Trinidad and Tobago\",\"United States\",\"Uruguay\",\"Venezuela\"],\"legendgroup\":\"Americas\",\"marker\":{\"color\":\"#ab63fa\",\"size\":[17876956,2883315,56602560,14785584,6377619,12350771,926317,6007797,2491346,3548753,2042865,3146381,3201488,1517453,1426095,30144317,1165790,940080,1555876,8025700,2227000,662850,157553000,2252965,5439568],\"sizemode\":\"area\",\"sizeref\":366300.86,\"symbol\":\"circle\"},\"mode\":\"markers\",\"name\":\"Americas\",\"orientation\":\"v\",\"showlegend\":true,\"type\":\"scatter\",\"x\":[5911.315053,2677.3263469999997,2108.944355,11367.16112,3939.9787890000002,2144.115096,2627.0094710000008,5586.53878,1397.7171369999999,3522.110717,3048.3029,2428.2377690000008,1840.366939,2194.926204,2898.5308809999997,3478.125529,3112.363948,2480.380334,1952.3087010000002,3758.523437,3081.959785,3023.271928,13990.482080000002,5716.766744,7689.799761],\"xaxis\":\"x\",\"y\":[62.485,40.414,50.917,68.75,54.745,50.643,57.206,59.42100000000001,45.928000000000004,48.357,45.262,42.023,37.579,41.912,58.53,50.788999999999994,42.31399999999999,55.191,62.648999999999994,43.902,64.28,59.1,68.44,66.071,55.088],\"yaxis\":\"y\"},{\"hovertemplate\":\"<b>%{hovertext}</b><br><br>continent=Oceania<br>year=1952<br>gdpPercap=%{x}<br>lifeExp=%{y}<br>pop=%{marker.size}<extra></extra>\",\"hovertext\":[\"Australia\",\"New Zealand\"],\"legendgroup\":\"Oceania\",\"marker\":{\"color\":\"#FFA15A\",\"size\":[8691212,1994794],\"sizemode\":\"area\",\"sizeref\":366300.86,\"symbol\":\"circle\"},\"mode\":\"markers\",\"name\":\"Oceania\",\"orientation\":\"v\",\"showlegend\":true,\"type\":\"scatter\",\"x\":[10039.595640000001,10556.575659999999],\"xaxis\":\"x\",\"y\":[69.12,69.39],\"yaxis\":\"y\"}],                        {\"legend\":{\"itemsizing\":\"constant\",\"title\":{\"text\":\"continent\"},\"tracegroupgap\":0},\"margin\":{\"t\":60},\"sliders\":[{\"active\":0,\"currentvalue\":{\"prefix\":\"year=\"},\"len\":0.9,\"pad\":{\"b\":10,\"t\":60},\"steps\":[{\"args\":[[\"1952\"],{\"frame\":{\"duration\":0,\"redraw\":false},\"fromcurrent\":true,\"mode\":\"immediate\",\"transition\":{\"duration\":0,\"easing\":\"linear\"}}],\"label\":\"1952\",\"method\":\"animate\"},{\"args\":[[\"1957\"],{\"frame\":{\"duration\":0,\"redraw\":false},\"fromcurrent\":true,\"mode\":\"immediate\",\"transition\":{\"duration\":0,\"easing\":\"linear\"}}],\"label\":\"1957\",\"method\":\"animate\"},{\"args\":[[\"1962\"],{\"frame\":{\"duration\":0,\"redraw\":false},\"fromcurrent\":true,\"mode\":\"immediate\",\"transition\":{\"duration\":0,\"easing\":\"linear\"}}],\"label\":\"1962\",\"method\":\"animate\"},{\"args\":[[\"1967\"],{\"frame\":{\"duration\":0,\"redraw\":false},\"fromcurrent\":true,\"mode\":\"immediate\",\"transition\":{\"duration\":0,\"easing\":\"linear\"}}],\"label\":\"1967\",\"method\":\"animate\"},{\"args\":[[\"1972\"],{\"frame\":{\"duration\":0,\"redraw\":false},\"fromcurrent\":true,\"mode\":\"immediate\",\"transition\":{\"duration\":0,\"easing\":\"linear\"}}],\"label\":\"1972\",\"method\":\"animate\"},{\"args\":[[\"1977\"],{\"frame\":{\"duration\":0,\"redraw\":false},\"fromcurrent\":true,\"mode\":\"immediate\",\"transition\":{\"duration\":0,\"easing\":\"linear\"}}],\"label\":\"1977\",\"method\":\"animate\"},{\"args\":[[\"1982\"],{\"frame\":{\"duration\":0,\"redraw\":false},\"fromcurrent\":true,\"mode\":\"immediate\",\"transition\":{\"duration\":0,\"easing\":\"linear\"}}],\"label\":\"1982\",\"method\":\"animate\"},{\"args\":[[\"1987\"],{\"frame\":{\"duration\":0,\"redraw\":false},\"fromcurrent\":true,\"mode\":\"immediate\",\"transition\":{\"duration\":0,\"easing\":\"linear\"}}],\"label\":\"1987\",\"method\":\"animate\"},{\"args\":[[\"1992\"],{\"frame\":{\"duration\":0,\"redraw\":false},\"fromcurrent\":true,\"mode\":\"immediate\",\"transition\":{\"duration\":0,\"easing\":\"linear\"}}],\"label\":\"1992\",\"method\":\"animate\"},{\"args\":[[\"1997\"],{\"frame\":{\"duration\":0,\"redraw\":false},\"fromcurrent\":true,\"mode\":\"immediate\",\"transition\":{\"duration\":0,\"easing\":\"linear\"}}],\"label\":\"1997\",\"method\":\"animate\"},{\"args\":[[\"2002\"],{\"frame\":{\"duration\":0,\"redraw\":false},\"fromcurrent\":true,\"mode\":\"immediate\",\"transition\":{\"duration\":0,\"easing\":\"linear\"}}],\"label\":\"2002\",\"method\":\"animate\"},{\"args\":[[\"2007\"],{\"frame\":{\"duration\":0,\"redraw\":false},\"fromcurrent\":true,\"mode\":\"immediate\",\"transition\":{\"duration\":0,\"easing\":\"linear\"}}],\"label\":\"2007\",\"method\":\"animate\"}],\"x\":0.1,\"xanchor\":\"left\",\"y\":0,\"yanchor\":\"top\"}],\"template\":{\"data\":{\"bar\":[{\"error_x\":{\"color\":\"#2a3f5f\"},\"error_y\":{\"color\":\"#2a3f5f\"},\"marker\":{\"line\":{\"color\":\"#E5ECF6\",\"width\":0.5},\"pattern\":{\"fillmode\":\"overlay\",\"size\":10,\"solidity\":0.2}},\"type\":\"bar\"}],\"barpolar\":[{\"marker\":{\"line\":{\"color\":\"#E5ECF6\",\"width\":0.5},\"pattern\":{\"fillmode\":\"overlay\",\"size\":10,\"solidity\":0.2}},\"type\":\"barpolar\"}],\"carpet\":[{\"aaxis\":{\"endlinecolor\":\"#2a3f5f\",\"gridcolor\":\"white\",\"linecolor\":\"white\",\"minorgridcolor\":\"white\",\"startlinecolor\":\"#2a3f5f\"},\"baxis\":{\"endlinecolor\":\"#2a3f5f\",\"gridcolor\":\"white\",\"linecolor\":\"white\",\"minorgridcolor\":\"white\",\"startlinecolor\":\"#2a3f5f\"},\"type\":\"carpet\"}],\"choropleth\":[{\"colorbar\":{\"outlinewidth\":0,\"ticks\":\"\"},\"type\":\"choropleth\"}],\"contour\":[{\"colorbar\":{\"outlinewidth\":0,\"ticks\":\"\"},\"colorscale\":[[0.0,\"#0d0887\"],[0.1111111111111111,\"#46039f\"],[0.2222222222222222,\"#7201a8\"],[0.3333333333333333,\"#9c179e\"],[0.4444444444444444,\"#bd3786\"],[0.5555555555555556,\"#d8576b\"],[0.6666666666666666,\"#ed7953\"],[0.7777777777777778,\"#fb9f3a\"],[0.8888888888888888,\"#fdca26\"],[1.0,\"#f0f921\"]],\"type\":\"contour\"}],\"contourcarpet\":[{\"colorbar\":{\"outlinewidth\":0,\"ticks\":\"\"},\"type\":\"contourcarpet\"}],\"heatmap\":[{\"colorbar\":{\"outlinewidth\":0,\"ticks\":\"\"},\"colorscale\":[[0.0,\"#0d0887\"],[0.1111111111111111,\"#46039f\"],[0.2222222222222222,\"#7201a8\"],[0.3333333333333333,\"#9c179e\"],[0.4444444444444444,\"#bd3786\"],[0.5555555555555556,\"#d8576b\"],[0.6666666666666666,\"#ed7953\"],[0.7777777777777778,\"#fb9f3a\"],[0.8888888888888888,\"#fdca26\"],[1.0,\"#f0f921\"]],\"type\":\"heatmap\"}],\"heatmapgl\":[{\"colorbar\":{\"outlinewidth\":0,\"ticks\":\"\"},\"colorscale\":[[0.0,\"#0d0887\"],[0.1111111111111111,\"#46039f\"],[0.2222222222222222,\"#7201a8\"],[0.3333333333333333,\"#9c179e\"],[0.4444444444444444,\"#bd3786\"],[0.5555555555555556,\"#d8576b\"],[0.6666666666666666,\"#ed7953\"],[0.7777777777777778,\"#fb9f3a\"],[0.8888888888888888,\"#fdca26\"],[1.0,\"#f0f921\"]],\"type\":\"heatmapgl\"}],\"histogram\":[{\"marker\":{\"pattern\":{\"fillmode\":\"overlay\",\"size\":10,\"solidity\":0.2}},\"type\":\"histogram\"}],\"histogram2d\":[{\"colorbar\":{\"outlinewidth\":0,\"ticks\":\"\"},\"colorscale\":[[0.0,\"#0d0887\"],[0.1111111111111111,\"#46039f\"],[0.2222222222222222,\"#7201a8\"],[0.3333333333333333,\"#9c179e\"],[0.4444444444444444,\"#bd3786\"],[0.5555555555555556,\"#d8576b\"],[0.6666666666666666,\"#ed7953\"],[0.7777777777777778,\"#fb9f3a\"],[0.8888888888888888,\"#fdca26\"],[1.0,\"#f0f921\"]],\"type\":\"histogram2d\"}],\"histogram2dcontour\":[{\"colorbar\":{\"outlinewidth\":0,\"ticks\":\"\"},\"colorscale\":[[0.0,\"#0d0887\"],[0.1111111111111111,\"#46039f\"],[0.2222222222222222,\"#7201a8\"],[0.3333333333333333,\"#9c179e\"],[0.4444444444444444,\"#bd3786\"],[0.5555555555555556,\"#d8576b\"],[0.6666666666666666,\"#ed7953\"],[0.7777777777777778,\"#fb9f3a\"],[0.8888888888888888,\"#fdca26\"],[1.0,\"#f0f921\"]],\"type\":\"histogram2dcontour\"}],\"mesh3d\":[{\"colorbar\":{\"outlinewidth\":0,\"ticks\":\"\"},\"type\":\"mesh3d\"}],\"parcoords\":[{\"line\":{\"colorbar\":{\"outlinewidth\":0,\"ticks\":\"\"}},\"type\":\"parcoords\"}],\"pie\":[{\"automargin\":true,\"type\":\"pie\"}],\"scatter\":[{\"marker\":{\"colorbar\":{\"outlinewidth\":0,\"ticks\":\"\"}},\"type\":\"scatter\"}],\"scatter3d\":[{\"line\":{\"colorbar\":{\"outlinewidth\":0,\"ticks\":\"\"}},\"marker\":{\"colorbar\":{\"outlinewidth\":0,\"ticks\":\"\"}},\"type\":\"scatter3d\"}],\"scattercarpet\":[{\"marker\":{\"colorbar\":{\"outlinewidth\":0,\"ticks\":\"\"}},\"type\":\"scattercarpet\"}],\"scattergeo\":[{\"marker\":{\"colorbar\":{\"outlinewidth\":0,\"ticks\":\"\"}},\"type\":\"scattergeo\"}],\"scattergl\":[{\"marker\":{\"colorbar\":{\"outlinewidth\":0,\"ticks\":\"\"}},\"type\":\"scattergl\"}],\"scattermapbox\":[{\"marker\":{\"colorbar\":{\"outlinewidth\":0,\"ticks\":\"\"}},\"type\":\"scattermapbox\"}],\"scatterpolar\":[{\"marker\":{\"colorbar\":{\"outlinewidth\":0,\"ticks\":\"\"}},\"type\":\"scatterpolar\"}],\"scatterpolargl\":[{\"marker\":{\"colorbar\":{\"outlinewidth\":0,\"ticks\":\"\"}},\"type\":\"scatterpolargl\"}],\"scatterternary\":[{\"marker\":{\"colorbar\":{\"outlinewidth\":0,\"ticks\":\"\"}},\"type\":\"scatterternary\"}],\"surface\":[{\"colorbar\":{\"outlinewidth\":0,\"ticks\":\"\"},\"colorscale\":[[0.0,\"#0d0887\"],[0.1111111111111111,\"#46039f\"],[0.2222222222222222,\"#7201a8\"],[0.3333333333333333,\"#9c179e\"],[0.4444444444444444,\"#bd3786\"],[0.5555555555555556,\"#d8576b\"],[0.6666666666666666,\"#ed7953\"],[0.7777777777777778,\"#fb9f3a\"],[0.8888888888888888,\"#fdca26\"],[1.0,\"#f0f921\"]],\"type\":\"surface\"}],\"table\":[{\"cells\":{\"fill\":{\"color\":\"#EBF0F8\"},\"line\":{\"color\":\"white\"}},\"header\":{\"fill\":{\"color\":\"#C8D4E3\"},\"line\":{\"color\":\"white\"}},\"type\":\"table\"}]},\"layout\":{\"annotationdefaults\":{\"arrowcolor\":\"#2a3f5f\",\"arrowhead\":0,\"arrowwidth\":1},\"autotypenumbers\":\"strict\",\"coloraxis\":{\"colorbar\":{\"outlinewidth\":0,\"ticks\":\"\"}},\"colorscale\":{\"diverging\":[[0,\"#8e0152\"],[0.1,\"#c51b7d\"],[0.2,\"#de77ae\"],[0.3,\"#f1b6da\"],[0.4,\"#fde0ef\"],[0.5,\"#f7f7f7\"],[0.6,\"#e6f5d0\"],[0.7,\"#b8e186\"],[0.8,\"#7fbc41\"],[0.9,\"#4d9221\"],[1,\"#276419\"]],\"sequential\":[[0.0,\"#0d0887\"],[0.1111111111111111,\"#46039f\"],[0.2222222222222222,\"#7201a8\"],[0.3333333333333333,\"#9c179e\"],[0.4444444444444444,\"#bd3786\"],[0.5555555555555556,\"#d8576b\"],[0.6666666666666666,\"#ed7953\"],[0.7777777777777778,\"#fb9f3a\"],[0.8888888888888888,\"#fdca26\"],[1.0,\"#f0f921\"]],\"sequentialminus\":[[0.0,\"#0d0887\"],[0.1111111111111111,\"#46039f\"],[0.2222222222222222,\"#7201a8\"],[0.3333333333333333,\"#9c179e\"],[0.4444444444444444,\"#bd3786\"],[0.5555555555555556,\"#d8576b\"],[0.6666666666666666,\"#ed7953\"],[0.7777777777777778,\"#fb9f3a\"],[0.8888888888888888,\"#fdca26\"],[1.0,\"#f0f921\"]]},\"colorway\":[\"#636efa\",\"#EF553B\",\"#00cc96\",\"#ab63fa\",\"#FFA15A\",\"#19d3f3\",\"#FF6692\",\"#B6E880\",\"#FF97FF\",\"#FECB52\"],\"font\":{\"color\":\"#2a3f5f\"},\"geo\":{\"bgcolor\":\"white\",\"lakecolor\":\"white\",\"landcolor\":\"#E5ECF6\",\"showlakes\":true,\"showland\":true,\"subunitcolor\":\"white\"},\"hoverlabel\":{\"align\":\"left\"},\"hovermode\":\"closest\",\"mapbox\":{\"style\":\"light\"},\"paper_bgcolor\":\"white\",\"plot_bgcolor\":\"#E5ECF6\",\"polar\":{\"angularaxis\":{\"gridcolor\":\"white\",\"linecolor\":\"white\",\"ticks\":\"\"},\"bgcolor\":\"#E5ECF6\",\"radialaxis\":{\"gridcolor\":\"white\",\"linecolor\":\"white\",\"ticks\":\"\"}},\"scene\":{\"xaxis\":{\"backgroundcolor\":\"#E5ECF6\",\"gridcolor\":\"white\",\"gridwidth\":2,\"linecolor\":\"white\",\"showbackground\":true,\"ticks\":\"\",\"zerolinecolor\":\"white\"},\"yaxis\":{\"backgroundcolor\":\"#E5ECF6\",\"gridcolor\":\"white\",\"gridwidth\":2,\"linecolor\":\"white\",\"showbackground\":true,\"ticks\":\"\",\"zerolinecolor\":\"white\"},\"zaxis\":{\"backgroundcolor\":\"#E5ECF6\",\"gridcolor\":\"white\",\"gridwidth\":2,\"linecolor\":\"white\",\"showbackground\":true,\"ticks\":\"\",\"zerolinecolor\":\"white\"}},\"shapedefaults\":{\"line\":{\"color\":\"#2a3f5f\"}},\"ternary\":{\"aaxis\":{\"gridcolor\":\"white\",\"linecolor\":\"white\",\"ticks\":\"\"},\"baxis\":{\"gridcolor\":\"white\",\"linecolor\":\"white\",\"ticks\":\"\"},\"bgcolor\":\"#E5ECF6\",\"caxis\":{\"gridcolor\":\"white\",\"linecolor\":\"white\",\"ticks\":\"\"}},\"title\":{\"x\":0.05},\"xaxis\":{\"automargin\":true,\"gridcolor\":\"white\",\"linecolor\":\"white\",\"ticks\":\"\",\"title\":{\"standoff\":15},\"zerolinecolor\":\"white\",\"zerolinewidth\":2},\"yaxis\":{\"automargin\":true,\"gridcolor\":\"white\",\"linecolor\":\"white\",\"ticks\":\"\",\"title\":{\"standoff\":15},\"zerolinecolor\":\"white\",\"zerolinewidth\":2}}},\"updatemenus\":[{\"buttons\":[{\"args\":[null,{\"frame\":{\"duration\":500,\"redraw\":false},\"fromcurrent\":true,\"mode\":\"immediate\",\"transition\":{\"duration\":500,\"easing\":\"linear\"}}],\"label\":\"&#9654;\",\"method\":\"animate\"},{\"args\":[[null],{\"frame\":{\"duration\":0,\"redraw\":false},\"fromcurrent\":true,\"mode\":\"immediate\",\"transition\":{\"duration\":0,\"easing\":\"linear\"}}],\"label\":\"&#9724;\",\"method\":\"animate\"}],\"direction\":\"left\",\"pad\":{\"r\":10,\"t\":70},\"showactive\":false,\"type\":\"buttons\",\"x\":0.1,\"xanchor\":\"right\",\"y\":0,\"yanchor\":\"top\"}],\"xaxis\":{\"anchor\":\"y\",\"domain\":[0.0,1.0],\"title\":{\"text\":\"gdpPercap\"},\"type\":\"log\"},\"yaxis\":{\"anchor\":\"x\",\"domain\":[0.0,1.0],\"range\":[20,90],\"title\":{\"text\":\"lifeExp\"}}},                        {\"responsive\": true}                    ).then(function(){\n",
       "                            Plotly.addFrames('2d71441c-5572-4083-aef7-3e16e69b0e22', [{\"data\":[{\"hovertemplate\":\"<b>%{hovertext}</b><br><br>continent=Asia<br>year=1952<br>gdpPercap=%{x}<br>lifeExp=%{y}<br>pop=%{marker.size}<extra></extra>\",\"hovertext\":[\"Afghanistan\",\"Bahrain\",\"Bangladesh\",\"Cambodia\",\"China\",\"Hong Kong, China\",\"India\",\"Indonesia\",\"Iran\",\"Iraq\",\"Israel\",\"Japan\",\"Jordan\",\"Korea, Dem. Rep.\",\"Korea, Rep.\",\"Kuwait\",\"Lebanon\",\"Malaysia\",\"Mongolia\",\"Myanmar\",\"Nepal\",\"Oman\",\"Pakistan\",\"Philippines\",\"Saudi Arabia\",\"Singapore\",\"Sri Lanka\",\"Syria\",\"Taiwan\",\"Thailand\",\"Vietnam\",\"West Bank and Gaza\",\"Yemen, Rep.\"],\"legendgroup\":\"Asia\",\"marker\":{\"color\":\"#636efa\",\"size\":[8425333,120447,46886859,4693836,556263527,2125900,372000000,82052000,17272000,5441766,1620914,86459025,607914,8865488,20947571,160000,1439529,6748378,800663,20092996,9182536,507833,41346560,22438691,4005677,1127000,7982342,3661549,8550362,21289402,26246839,1030585,4963829],\"sizemode\":\"area\",\"sizeref\":366300.86,\"symbol\":\"circle\"},\"mode\":\"markers\",\"name\":\"Asia\",\"orientation\":\"v\",\"showlegend\":true,\"type\":\"scatter\",\"x\":[779.4453145,9867.084765000001,684.2441716,368.46928560000003,400.44861099999997,3054.421209,546.5657493,749.6816546,3035.326002,4129.766056,4086.522128,3216.956347,1546.907807,1088.277758,1030.592226,108382.3529,4834.804067,1831.132894,786.5668575,331.0,545.8657228999998,1828.230307,684.5971437999998,1272.880995,6459.5548229999995,2315.138227,1083.53203,1643.485354,1206.947913,757.7974177,605.0664917,1515.5923289999994,781.7175761],\"xaxis\":\"x\",\"y\":[28.801,50.93899999999999,37.484,39.417,44.0,60.96,37.37300000000001,37.468,44.869,45.32,65.39,63.03,43.158,50.056000000000004,47.453,55.565,55.928000000000004,48.463,42.244,36.319,36.157,37.578,43.43600000000001,47.751999999999995,39.875,60.396,57.593,45.883,58.5,50.848,40.412,43.16,32.548],\"yaxis\":\"y\"},{\"hovertemplate\":\"<b>%{hovertext}</b><br><br>continent=Europe<br>year=1952<br>gdpPercap=%{x}<br>lifeExp=%{y}<br>pop=%{marker.size}<extra></extra>\",\"hovertext\":[\"Albania\",\"Austria\",\"Belgium\",\"Bosnia and Herzegovina\",\"Bulgaria\",\"Croatia\",\"Czech Republic\",\"Denmark\",\"Finland\",\"France\",\"Germany\",\"Greece\",\"Hungary\",\"Iceland\",\"Ireland\",\"Italy\",\"Montenegro\",\"Netherlands\",\"Norway\",\"Poland\",\"Portugal\",\"Romania\",\"Serbia\",\"Slovak Republic\",\"Slovenia\",\"Spain\",\"Sweden\",\"Switzerland\",\"Turkey\",\"United Kingdom\"],\"legendgroup\":\"Europe\",\"marker\":{\"color\":\"#EF553B\",\"size\":[1282697,6927772,8730405,2791000,7274900,3882229,9125183,4334000,4090500,42459667,69145952,7733250,9504000,147962,2952156,47666000,413834,10381988,3327728,25730551,8526050,16630000,6860147,3558137,1489518,28549870,7124673,4815000,22235677,50430000],\"sizemode\":\"area\",\"sizeref\":366300.86,\"symbol\":\"circle\"},\"mode\":\"markers\",\"name\":\"Europe\",\"orientation\":\"v\",\"showlegend\":true,\"type\":\"scatter\",\"x\":[1601.056136,6137.076492,8343.105126999999,973.5331947999999,2444.2866480000002,3119.23652,6876.14025,9692.385245,6424.519071,7029.809327,7144.114393000003,3530.690067,5263.6738159999995,7267.688428,5210.280328,4931.404154999998,2647.585601,8941.571858,10095.42172,4029.3296990000003,3068.319867,3144.613186,3581.4594479999996,5074.659104,4215.041741,3834.0347420000003,8527.844662000001,14734.23275,1969.1009800000002,9979.508487000001],\"xaxis\":\"x\",\"y\":[55.23,66.8,68.0,53.82,59.6,61.21,66.87,70.78,66.55,67.41,67.5,65.86,64.03,72.49,66.91,65.94,59.163999999999994,72.13,72.67,61.31,59.82,61.05,57.996,64.36,65.57,64.94,71.86,69.62,43.585,69.18],\"yaxis\":\"y\"},{\"hovertemplate\":\"<b>%{hovertext}</b><br><br>continent=Africa<br>year=1952<br>gdpPercap=%{x}<br>lifeExp=%{y}<br>pop=%{marker.size}<extra></extra>\",\"hovertext\":[\"Algeria\",\"Angola\",\"Benin\",\"Botswana\",\"Burkina Faso\",\"Burundi\",\"Cameroon\",\"Central African Republic\",\"Chad\",\"Comoros\",\"Congo, Dem. Rep.\",\"Congo, Rep.\",\"Cote d'Ivoire\",\"Djibouti\",\"Egypt\",\"Equatorial Guinea\",\"Eritrea\",\"Ethiopia\",\"Gabon\",\"Gambia\",\"Ghana\",\"Guinea\",\"Guinea-Bissau\",\"Kenya\",\"Lesotho\",\"Liberia\",\"Libya\",\"Madagascar\",\"Malawi\",\"Mali\",\"Mauritania\",\"Mauritius\",\"Morocco\",\"Mozambique\",\"Namibia\",\"Niger\",\"Nigeria\",\"Reunion\",\"Rwanda\",\"Sao Tome and Principe\",\"Senegal\",\"Sierra Leone\",\"Somalia\",\"South Africa\",\"Sudan\",\"Swaziland\",\"Tanzania\",\"Togo\",\"Tunisia\",\"Uganda\",\"Zambia\",\"Zimbabwe\"],\"legendgroup\":\"Africa\",\"marker\":{\"color\":\"#00cc96\",\"size\":[9279525,4232095,1738315,442308,4469979,2445618,5009067,1291695,2682462,153936,14100005,854885,2977019,63149,22223309,216964,1438760,20860941,420702,284320,5581001,2664249,580653,6464046,748747,863308,1019729,4762912,2917802,3838168,1022556,516556,9939217,6446316,485831,3379468,33119096,257700,2534927,60011,2755589,2143249,2526994,14264935,8504667,290243,8322925,1219113,3647735,5824797,2672000,3080907],\"sizemode\":\"area\",\"sizeref\":366300.86,\"symbol\":\"circle\"},\"mode\":\"markers\",\"name\":\"Africa\",\"orientation\":\"v\",\"showlegend\":true,\"type\":\"scatter\",\"x\":[2449.008185,3520.610273,1062.7522,851.2411407,543.2552413,339.29645869999996,1172.667655,1071.310713,1178.665927,1102.990936,780.5423257,2125.621418,1388.594732,2669.529475,1418.822445,375.6431231,328.9405571000001,362.1462796,4293.476475,485.2306591,911.2989371,510.19649230000016,299.850319,853.5409189999997,298.8462121,575.5729961000002,2387.54806,1443.011715,369.1650802,452.3369807,743.1159097,1967.955707,1688.20357,468.5260381,2423.780443,761.879376,1077.281856,2718.885295,493.32387520000003,879.5835855,1450.356983,879.7877358,1135.749842,4725.295531000002,1615.991129,1148.376626,716.6500721,859.8086567,1468.475631,734.753484,1147.388831,406.8841148],\"xaxis\":\"x\",\"y\":[43.077,30.015,38.223,47.622,31.975,39.031,38.523,35.463,38.092,40.715,39.143,42.111000000000004,40.477,34.812,41.893,34.482,35.92800000000001,34.078,37.003,30.0,43.148999999999994,33.609,32.5,42.27,42.13800000000001,38.48,42.723,36.681,36.256,33.685,40.543,50.986000000000004,42.87300000000001,31.285999999999998,41.725,37.444,36.324,52.724,40.0,46.471000000000004,37.278,30.331,32.978,45.00899999999999,38.635,41.407,41.215,38.596,44.6,39.978,42.038000000000004,48.451],\"yaxis\":\"y\"},{\"hovertemplate\":\"<b>%{hovertext}</b><br><br>continent=Americas<br>year=1952<br>gdpPercap=%{x}<br>lifeExp=%{y}<br>pop=%{marker.size}<extra></extra>\",\"hovertext\":[\"Argentina\",\"Bolivia\",\"Brazil\",\"Canada\",\"Chile\",\"Colombia\",\"Costa Rica\",\"Cuba\",\"Dominican Republic\",\"Ecuador\",\"El Salvador\",\"Guatemala\",\"Haiti\",\"Honduras\",\"Jamaica\",\"Mexico\",\"Nicaragua\",\"Panama\",\"Paraguay\",\"Peru\",\"Puerto Rico\",\"Trinidad and Tobago\",\"United States\",\"Uruguay\",\"Venezuela\"],\"legendgroup\":\"Americas\",\"marker\":{\"color\":\"#ab63fa\",\"size\":[17876956,2883315,56602560,14785584,6377619,12350771,926317,6007797,2491346,3548753,2042865,3146381,3201488,1517453,1426095,30144317,1165790,940080,1555876,8025700,2227000,662850,157553000,2252965,5439568],\"sizemode\":\"area\",\"sizeref\":366300.86,\"symbol\":\"circle\"},\"mode\":\"markers\",\"name\":\"Americas\",\"orientation\":\"v\",\"showlegend\":true,\"type\":\"scatter\",\"x\":[5911.315053,2677.3263469999997,2108.944355,11367.16112,3939.9787890000002,2144.115096,2627.0094710000008,5586.53878,1397.7171369999999,3522.110717,3048.3029,2428.2377690000008,1840.366939,2194.926204,2898.5308809999997,3478.125529,3112.363948,2480.380334,1952.3087010000002,3758.523437,3081.959785,3023.271928,13990.482080000002,5716.766744,7689.799761],\"xaxis\":\"x\",\"y\":[62.485,40.414,50.917,68.75,54.745,50.643,57.206,59.42100000000001,45.928000000000004,48.357,45.262,42.023,37.579,41.912,58.53,50.788999999999994,42.31399999999999,55.191,62.648999999999994,43.902,64.28,59.1,68.44,66.071,55.088],\"yaxis\":\"y\"},{\"hovertemplate\":\"<b>%{hovertext}</b><br><br>continent=Oceania<br>year=1952<br>gdpPercap=%{x}<br>lifeExp=%{y}<br>pop=%{marker.size}<extra></extra>\",\"hovertext\":[\"Australia\",\"New Zealand\"],\"legendgroup\":\"Oceania\",\"marker\":{\"color\":\"#FFA15A\",\"size\":[8691212,1994794],\"sizemode\":\"area\",\"sizeref\":366300.86,\"symbol\":\"circle\"},\"mode\":\"markers\",\"name\":\"Oceania\",\"orientation\":\"v\",\"showlegend\":true,\"type\":\"scatter\",\"x\":[10039.595640000001,10556.575659999999],\"xaxis\":\"x\",\"y\":[69.12,69.39],\"yaxis\":\"y\"}],\"name\":\"1952\"},{\"data\":[{\"hovertemplate\":\"<b>%{hovertext}</b><br><br>continent=Asia<br>year=1957<br>gdpPercap=%{x}<br>lifeExp=%{y}<br>pop=%{marker.size}<extra></extra>\",\"hovertext\":[\"Afghanistan\",\"Bahrain\",\"Bangladesh\",\"Cambodia\",\"China\",\"Hong Kong, China\",\"India\",\"Indonesia\",\"Iran\",\"Iraq\",\"Israel\",\"Japan\",\"Jordan\",\"Korea, Dem. Rep.\",\"Korea, Rep.\",\"Kuwait\",\"Lebanon\",\"Malaysia\",\"Mongolia\",\"Myanmar\",\"Nepal\",\"Oman\",\"Pakistan\",\"Philippines\",\"Saudi Arabia\",\"Singapore\",\"Sri Lanka\",\"Syria\",\"Taiwan\",\"Thailand\",\"Vietnam\",\"West Bank and Gaza\",\"Yemen, Rep.\"],\"legendgroup\":\"Asia\",\"marker\":{\"color\":\"#636efa\",\"size\":[9240934,138655,51365468,5322536,637408000,2736300,409000000,90124000,19792000,6248643,1944401,91563009,746559,9411381,22611552,212846,1647412,7739235,882134,21731844,9682338,561977,46679944,26072194,4419650,1445929,9128546,4149908,10164215,25041917,28998543,1070439,5498090],\"sizemode\":\"area\",\"sizeref\":366300.86,\"symbol\":\"circle\"},\"mode\":\"markers\",\"name\":\"Asia\",\"orientation\":\"v\",\"showlegend\":true,\"type\":\"scatter\",\"x\":[820.8530296,11635.79945,661.6374577,434.0383364,575.9870009,3629.076457,590.061996,858.9002707000003,3290.257643,6229.333562,5385.278451,4317.694365,1886.080591,1571.134655,1487.593537,113523.1329,6089.7869340000025,1810.0669920000007,912.6626085,350.0,597.9363557999999,2242.746551,747.0835292,1547.9448439999999,8157.591248000002,2843.104409,1072.546602,2117.234893,1507.86129,793.5774147999997,676.2854477999998,1827.0677420000002,804.8304547],\"xaxis\":\"x\",\"y\":[30.331999999999997,53.832,39.348,41.36600000000001,50.54896,64.75,40.249,39.918,47.181000000000004,48.437,67.84,65.5,45.669,54.081,52.681000000000004,58.033,59.489,52.102,45.24800000000001,41.905,37.686,40.08,45.556999999999995,51.333999999999996,42.868,63.178999999999995,61.456,48.284,62.4,53.63,42.887,45.67100000000001,33.97],\"yaxis\":\"y\"},{\"hovertemplate\":\"<b>%{hovertext}</b><br><br>continent=Europe<br>year=1957<br>gdpPercap=%{x}<br>lifeExp=%{y}<br>pop=%{marker.size}<extra></extra>\",\"hovertext\":[\"Albania\",\"Austria\",\"Belgium\",\"Bosnia and Herzegovina\",\"Bulgaria\",\"Croatia\",\"Czech Republic\",\"Denmark\",\"Finland\",\"France\",\"Germany\",\"Greece\",\"Hungary\",\"Iceland\",\"Ireland\",\"Italy\",\"Montenegro\",\"Netherlands\",\"Norway\",\"Poland\",\"Portugal\",\"Romania\",\"Serbia\",\"Slovak Republic\",\"Slovenia\",\"Spain\",\"Sweden\",\"Switzerland\",\"Turkey\",\"United Kingdom\"],\"legendgroup\":\"Europe\",\"marker\":{\"color\":\"#EF553B\",\"size\":[1476505,6965860,8989111,3076000,7651254,3991242,9513758,4487831,4324000,44310863,71019069,8096218,9839000,165110,2878220,49182000,442829,11026383,3491938,28235346,8817650,17829327,7271135,3844277,1533070,29841614,7363802,5126000,25670939,51430000],\"sizemode\":\"area\",\"sizeref\":366300.86,\"symbol\":\"circle\"},\"mode\":\"markers\",\"name\":\"Europe\",\"orientation\":\"v\",\"showlegend\":true,\"type\":\"scatter\",\"x\":[1942.2842440000002,8842.59803,9714.960623,1353.989176,3008.670727,4338.231617,8256.343918,11099.65935,7545.415386,8662.834898000001,10187.82665,4916.299889,6040.180011,9244.001412,5599.077872,6248.656232,3682.259903,11276.193440000001,11653.97304,4734.253019,3774.571743,3943.370225,4981.090891,6093.2629799999995,5862.276629,4564.80241,9911.878226,17909.48973,2218.754257,11283.17795],\"xaxis\":\"x\",\"y\":[59.28,67.48,69.24,58.45,66.61,64.77,69.03,71.81,67.49,68.93,69.1,67.86,66.41,73.47,68.9,67.81,61.448,72.99,73.44,65.77,61.51,64.1,61.685,67.45,67.85,66.66,72.49,70.56,48.07899999999999,70.42],\"yaxis\":\"y\"},{\"hovertemplate\":\"<b>%{hovertext}</b><br><br>continent=Africa<br>year=1957<br>gdpPercap=%{x}<br>lifeExp=%{y}<br>pop=%{marker.size}<extra></extra>\",\"hovertext\":[\"Algeria\",\"Angola\",\"Benin\",\"Botswana\",\"Burkina Faso\",\"Burundi\",\"Cameroon\",\"Central African Republic\",\"Chad\",\"Comoros\",\"Congo, Dem. Rep.\",\"Congo, Rep.\",\"Cote d'Ivoire\",\"Djibouti\",\"Egypt\",\"Equatorial Guinea\",\"Eritrea\",\"Ethiopia\",\"Gabon\",\"Gambia\",\"Ghana\",\"Guinea\",\"Guinea-Bissau\",\"Kenya\",\"Lesotho\",\"Liberia\",\"Libya\",\"Madagascar\",\"Malawi\",\"Mali\",\"Mauritania\",\"Mauritius\",\"Morocco\",\"Mozambique\",\"Namibia\",\"Niger\",\"Nigeria\",\"Reunion\",\"Rwanda\",\"Sao Tome and Principe\",\"Senegal\",\"Sierra Leone\",\"Somalia\",\"South Africa\",\"Sudan\",\"Swaziland\",\"Tanzania\",\"Togo\",\"Tunisia\",\"Uganda\",\"Zambia\",\"Zimbabwe\"],\"legendgroup\":\"Africa\",\"marker\":{\"color\":\"#00cc96\",\"size\":[10270856,4561361,1925173,474639,4713416,2667518,5359923,1392284,2894855,170928,15577932,940458,3300000,71851,25009741,232922,1542611,22815614,434904,323150,6391288,2876726,601095,7454779,813338,975950,1201578,5181679,3221238,4241884,1076852,609816,11406350,7038035,548080,3692184,37173340,308700,2822082,61325,3054547,2295678,2780415,16151549,9753392,326741,9452826,1357445,3950849,6675501,3016000,3646340],\"sizemode\":\"area\",\"sizeref\":366300.86,\"symbol\":\"circle\"},\"mode\":\"markers\",\"name\":\"Africa\",\"orientation\":\"v\",\"showlegend\":true,\"type\":\"scatter\",\"x\":[3013.976023,3827.9404649999997,959.6010805,918.2325348999999,617.1834647999998,379.56462810000005,1313.048099,1190.844328,1308.495577,1211.1485480000001,905.8602302999999,2315.056572,1500.895925,2864.969076000001,1458.915272,426.0964081,344.16188589999996,378.90416319999997,4976.198099,520.9267111,1043.5615369999996,576.2670245,431.79045660000014,944.4383152,335.9971151000001,620.9699901,3448.284395,1589.20275,416.36980639999996,490.3821867,846.1202613,2034.037981,1642.002314,495.58683330000014,2621.448058,835.5234025000003,1100.5925630000004,2769.451844,540.2893982999999,860.7369026,1567.653006,1004.484437,1258.1474130000001,5487.104219,1770.3370739999998,1244.708364,698.5356073,925.9083201999999,1395.232468,774.3710692000003,1311.956766,518.7642681],\"xaxis\":\"x\",\"y\":[45.685,31.999000000000002,40.358000000000004,49.618,34.906,40.533,40.428000000000004,37.464,39.881,42.46,40.652,45.053000000000004,42.468999999999994,37.328,44.443999999999996,35.98300000000001,38.047,36.667,38.999,32.065,44.778999999999996,34.558,33.489000000000004,44.68600000000001,45.047,39.486,45.288999999999994,38.865,37.207,35.30699999999999,42.338,58.089,45.423,33.779,45.226000000000006,38.598,37.802,55.09,41.5,48.945,39.329,31.57,34.977,47.985,39.624,43.424,42.974,41.208,47.1,42.57100000000001,44.077,50.468999999999994],\"yaxis\":\"y\"},{\"hovertemplate\":\"<b>%{hovertext}</b><br><br>continent=Americas<br>year=1957<br>gdpPercap=%{x}<br>lifeExp=%{y}<br>pop=%{marker.size}<extra></extra>\",\"hovertext\":[\"Argentina\",\"Bolivia\",\"Brazil\",\"Canada\",\"Chile\",\"Colombia\",\"Costa Rica\",\"Cuba\",\"Dominican Republic\",\"Ecuador\",\"El Salvador\",\"Guatemala\",\"Haiti\",\"Honduras\",\"Jamaica\",\"Mexico\",\"Nicaragua\",\"Panama\",\"Paraguay\",\"Peru\",\"Puerto Rico\",\"Trinidad and Tobago\",\"United States\",\"Uruguay\",\"Venezuela\"],\"legendgroup\":\"Americas\",\"marker\":{\"color\":\"#ab63fa\",\"size\":[19610538,3211738,65551171,17010154,7048426,14485993,1112300,6640752,2923186,4058385,2355805,3640876,3507701,1770390,1535090,35015548,1358828,1063506,1770902,9146100,2260000,764900,171984000,2424959,6702668],\"sizemode\":\"area\",\"sizeref\":366300.86,\"symbol\":\"circle\"},\"mode\":\"markers\",\"name\":\"Americas\",\"orientation\":\"v\",\"showlegend\":true,\"type\":\"scatter\",\"x\":[6856.856212000002,2127.686326,2487.365989,12489.95006,4315.6227229999995,2323.805581,2990.010802,6092.174359000002,1544.402995,3780.5466509999997,3421.523218,2617.155967,1726.887882,2220.487682,4756.525781,4131.546641,3457.415947,2961.800905,2046.1547059999998,4245.256697999999,3907.1561890000003,4100.3934,14847.12712,6150.772969,9802.466526],\"xaxis\":\"x\",\"y\":[64.399,41.89,53.285,69.96,56.074,55.118,60.026,62.325,49.828,51.356,48.57,44.141999999999996,40.696,44.665,62.61,55.19,45.431999999999995,59.201,63.19600000000001,46.26300000000001,68.54,61.8,69.49,67.044,57.907],\"yaxis\":\"y\"},{\"hovertemplate\":\"<b>%{hovertext}</b><br><br>continent=Oceania<br>year=1957<br>gdpPercap=%{x}<br>lifeExp=%{y}<br>pop=%{marker.size}<extra></extra>\",\"hovertext\":[\"Australia\",\"New Zealand\"],\"legendgroup\":\"Oceania\",\"marker\":{\"color\":\"#FFA15A\",\"size\":[9712569,2229407],\"sizemode\":\"area\",\"sizeref\":366300.86,\"symbol\":\"circle\"},\"mode\":\"markers\",\"name\":\"Oceania\",\"orientation\":\"v\",\"showlegend\":true,\"type\":\"scatter\",\"x\":[10949.64959,12247.39532],\"xaxis\":\"x\",\"y\":[70.33,70.26],\"yaxis\":\"y\"}],\"name\":\"1957\"},{\"data\":[{\"hovertemplate\":\"<b>%{hovertext}</b><br><br>continent=Asia<br>year=1962<br>gdpPercap=%{x}<br>lifeExp=%{y}<br>pop=%{marker.size}<extra></extra>\",\"hovertext\":[\"Afghanistan\",\"Bahrain\",\"Bangladesh\",\"Cambodia\",\"China\",\"Hong Kong, China\",\"India\",\"Indonesia\",\"Iran\",\"Iraq\",\"Israel\",\"Japan\",\"Jordan\",\"Korea, Dem. Rep.\",\"Korea, Rep.\",\"Kuwait\",\"Lebanon\",\"Malaysia\",\"Mongolia\",\"Myanmar\",\"Nepal\",\"Oman\",\"Pakistan\",\"Philippines\",\"Saudi Arabia\",\"Singapore\",\"Sri Lanka\",\"Syria\",\"Taiwan\",\"Thailand\",\"Vietnam\",\"West Bank and Gaza\",\"Yemen, Rep.\"],\"legendgroup\":\"Asia\",\"marker\":{\"color\":\"#636efa\",\"size\":[10267083,171863,56839289,6083619,665770000,3305200,454000000,99028000,22874000,7240260,2310904,95831757,933559,10917494,26420307,358266,1886848,8906385,1010280,23634436,10332057,628164,53100671,30325264,4943029,1750200,10421936,4834621,11918938,29263397,33796140,1133134,6120081],\"sizemode\":\"area\",\"sizeref\":366300.86,\"symbol\":\"circle\"},\"mode\":\"markers\",\"name\":\"Asia\",\"orientation\":\"v\",\"showlegend\":true,\"type\":\"scatter\",\"x\":[853.1007099999997,12753.27514,686.3415537999998,496.9136476,487.6740183,4692.6482719999985,658.3471509,849.2897700999997,4187.329802,8341.737815,7105.630706,6576.649461,2348.009158,1621.693598,1536.3443869999999,95458.11176,5714.560611,2036.8849440000001,1056.353958,388.0,652.3968593,2924.638113,803.3427418,1649.5521529999999,11626.41975,3674.735572,1074.4719599999999,2193.037133,1822.879028,1002.1991720000001,772.0491602000003,2198.9563120000007,825.6232006],\"xaxis\":\"x\",\"y\":[31.997,56.923,41.216,43.415,44.50136,67.65,43.605,42.518,49.325,51.457,69.39,68.73,48.12600000000001,56.65600000000001,55.292,60.47,62.093999999999994,55.736999999999995,48.25100000000001,45.108000000000004,39.393,43.165,47.67,54.757,45.913999999999994,65.798,62.192,50.305,65.2,56.06100000000001,45.363,48.126999999999995,35.18],\"yaxis\":\"y\"},{\"hovertemplate\":\"<b>%{hovertext}</b><br><br>continent=Europe<br>year=1962<br>gdpPercap=%{x}<br>lifeExp=%{y}<br>pop=%{marker.size}<extra></extra>\",\"hovertext\":[\"Albania\",\"Austria\",\"Belgium\",\"Bosnia and Herzegovina\",\"Bulgaria\",\"Croatia\",\"Czech Republic\",\"Denmark\",\"Finland\",\"France\",\"Germany\",\"Greece\",\"Hungary\",\"Iceland\",\"Ireland\",\"Italy\",\"Montenegro\",\"Netherlands\",\"Norway\",\"Poland\",\"Portugal\",\"Romania\",\"Serbia\",\"Slovak Republic\",\"Slovenia\",\"Spain\",\"Sweden\",\"Switzerland\",\"Turkey\",\"United Kingdom\"],\"legendgroup\":\"Europe\",\"marker\":{\"color\":\"#EF553B\",\"size\":[1728137,7129864,9218400,3349000,8012946,4076557,9620282,4646899,4491443,47124000,73739117,8448233,10063000,182053,2830000,50843200,474528,11805689,3638919,30329617,9019800,18680721,7616060,4237384,1582962,31158061,7561588,5666000,29788695,53292000],\"sizemode\":\"area\",\"sizeref\":366300.86,\"symbol\":\"circle\"},\"mode\":\"markers\",\"name\":\"Europe\",\"orientation\":\"v\",\"showlegend\":true,\"type\":\"scatter\",\"x\":[2312.888958,10750.721109999999,10991.20676,1709.683679,4254.337839,5477.890018,10136.86713,13583.31351,9371.842561,10560.48553,12902.46291,6017.1907329999985,7550.359877,10350.15906,6631.597314,8243.58234,4649.593785,12790.849559999999,13450.40151,5338.752143,4727.954889,4734.9975859999995,6289.629157,7481.1075980000005,7402.303395,5693.843879,12329.441920000001,20431.0927,2322.8699079999997,12477.17707],\"xaxis\":\"x\",\"y\":[64.82,69.54,70.25,61.93,69.51,67.13,69.9,72.35,68.75,70.51,70.3,69.51,67.96,73.68,70.29,69.24,63.728,73.23,73.47,67.64,64.39,66.8,64.531,70.33,69.15,69.69,73.37,71.32,52.098,70.76],\"yaxis\":\"y\"},{\"hovertemplate\":\"<b>%{hovertext}</b><br><br>continent=Africa<br>year=1962<br>gdpPercap=%{x}<br>lifeExp=%{y}<br>pop=%{marker.size}<extra></extra>\",\"hovertext\":[\"Algeria\",\"Angola\",\"Benin\",\"Botswana\",\"Burkina Faso\",\"Burundi\",\"Cameroon\",\"Central African Republic\",\"Chad\",\"Comoros\",\"Congo, Dem. Rep.\",\"Congo, Rep.\",\"Cote d'Ivoire\",\"Djibouti\",\"Egypt\",\"Equatorial Guinea\",\"Eritrea\",\"Ethiopia\",\"Gabon\",\"Gambia\",\"Ghana\",\"Guinea\",\"Guinea-Bissau\",\"Kenya\",\"Lesotho\",\"Liberia\",\"Libya\",\"Madagascar\",\"Malawi\",\"Mali\",\"Mauritania\",\"Mauritius\",\"Morocco\",\"Mozambique\",\"Namibia\",\"Niger\",\"Nigeria\",\"Reunion\",\"Rwanda\",\"Sao Tome and Principe\",\"Senegal\",\"Sierra Leone\",\"Somalia\",\"South Africa\",\"Sudan\",\"Swaziland\",\"Tanzania\",\"Togo\",\"Tunisia\",\"Uganda\",\"Zambia\",\"Zimbabwe\"],\"legendgroup\":\"Africa\",\"marker\":{\"color\":\"#00cc96\",\"size\":[11000948,4826015,2151895,512764,4919632,2961915,5793633,1523478,3150417,191689,17486434,1047924,3832408,89898,28173309,249220,1666618,25145372,455661,374020,7355248,3140003,627820,8678557,893143,1112796,1441863,5703324,3628608,4690372,1146757,701016,13056604,7788944,621392,4076008,41871351,358900,3051242,65345,3430243,2467895,3080153,18356657,11183227,370006,10863958,1528098,4286552,7688797,3421000,4277736],\"sizemode\":\"area\",\"sizeref\":366300.86,\"symbol\":\"circle\"},\"mode\":\"markers\",\"name\":\"Africa\",\"orientation\":\"v\",\"showlegend\":true,\"type\":\"scatter\",\"x\":[2550.81688,4269.276742,949.4990641,983.6539764,722.5120206,355.2032273,1399.607441,1193.068753,1389.817618,1406.648278,896.3146335000001,2464.783157,1728.8694280000002,3020.989263,1693.335853,582.8419713999998,380.99584330000016,419.4564161,6631.4592219999995,599.650276,1190.0411179999999,686.3736739,522.0343725,896.9663732,411.80062660000004,634.1951625,6757.0308159999995,1643.38711,427.90108560000004,496.17434280000003,1055.8960359999999,2529.0674870000007,1566.353493,556.6863539,3173.215595,997.7661127,1150.9274779999996,3173.72334,597.4730727000001,1071.551119,1654.988723,1116.6398769999996,1369.488336,5768.729717,1959.593767,1856.182125,722.0038073,1067.5348099999999,1660.30321,767.2717397999999,1452.725766,527.2721818],\"xaxis\":\"x\",\"y\":[48.303000000000004,34.0,42.618,51.52,37.814,42.045,42.643,39.475,41.716,44.467,42.122,48.435,44.93,39.69300000000001,46.992,37.485,40.158,40.059,40.489000000000004,33.896,46.452,35.753,34.488,47.949,47.747,40.501999999999995,47.808,40.848,38.41,36.936,44.24800000000001,60.246,47.924,36.161,48.386,39.486999999999995,39.36,57.666000000000004,43.0,51.893,41.45399999999999,32.766999999999996,36.981,49.951,40.87,44.992,44.246,43.922,49.57899999999999,45.343999999999994,46.023,52.358000000000004],\"yaxis\":\"y\"},{\"hovertemplate\":\"<b>%{hovertext}</b><br><br>continent=Americas<br>year=1962<br>gdpPercap=%{x}<br>lifeExp=%{y}<br>pop=%{marker.size}<extra></extra>\",\"hovertext\":[\"Argentina\",\"Bolivia\",\"Brazil\",\"Canada\",\"Chile\",\"Colombia\",\"Costa Rica\",\"Cuba\",\"Dominican Republic\",\"Ecuador\",\"El Salvador\",\"Guatemala\",\"Haiti\",\"Honduras\",\"Jamaica\",\"Mexico\",\"Nicaragua\",\"Panama\",\"Paraguay\",\"Peru\",\"Puerto Rico\",\"Trinidad and Tobago\",\"United States\",\"Uruguay\",\"Venezuela\"],\"legendgroup\":\"Americas\",\"marker\":{\"color\":\"#ab63fa\",\"size\":[21283783,3593918,76039390,18985849,7961258,17009885,1345187,7254373,3453434,4681707,2747687,4208858,3880130,2090162,1665128,41121485,1590597,1215725,2009813,10516500,2448046,887498,186538000,2598466,8143375],\"sizemode\":\"area\",\"sizeref\":366300.86,\"symbol\":\"circle\"},\"mode\":\"markers\",\"name\":\"Americas\",\"orientation\":\"v\",\"showlegend\":true,\"type\":\"scatter\",\"x\":[7133.1660230000025,2180.972546,3336.585802,13462.48555,4519.094331,2492.351109,3460.937025,5180.75591,1662.137359,4086.114078,3776.8036270000002,2750.364446,1796.589032,2291.1568350000002,5246.107524,4581.609385,3634.364406,3536.540301,2148.027146,4957.037982,5108.34463,4997.523971000001,16173.145859999999,5603.357717,8422.974165000001],\"xaxis\":\"x\",\"y\":[65.142,43.428000000000004,55.665,71.3,57.924,57.863,62.842,65.24600000000001,53.458999999999996,54.64,52.306999999999995,46.95399999999999,43.59,48.041000000000004,65.61,58.299,48.632,61.817,64.361,49.096000000000004,69.62,64.9,70.21,68.253,60.77],\"yaxis\":\"y\"},{\"hovertemplate\":\"<b>%{hovertext}</b><br><br>continent=Oceania<br>year=1962<br>gdpPercap=%{x}<br>lifeExp=%{y}<br>pop=%{marker.size}<extra></extra>\",\"hovertext\":[\"Australia\",\"New Zealand\"],\"legendgroup\":\"Oceania\",\"marker\":{\"color\":\"#FFA15A\",\"size\":[10794968,2488550],\"sizemode\":\"area\",\"sizeref\":366300.86,\"symbol\":\"circle\"},\"mode\":\"markers\",\"name\":\"Oceania\",\"orientation\":\"v\",\"showlegend\":true,\"type\":\"scatter\",\"x\":[12217.226859999999,13175.678],\"xaxis\":\"x\",\"y\":[70.93,71.24],\"yaxis\":\"y\"}],\"name\":\"1962\"},{\"data\":[{\"hovertemplate\":\"<b>%{hovertext}</b><br><br>continent=Asia<br>year=1967<br>gdpPercap=%{x}<br>lifeExp=%{y}<br>pop=%{marker.size}<extra></extra>\",\"hovertext\":[\"Afghanistan\",\"Bahrain\",\"Bangladesh\",\"Cambodia\",\"China\",\"Hong Kong, China\",\"India\",\"Indonesia\",\"Iran\",\"Iraq\",\"Israel\",\"Japan\",\"Jordan\",\"Korea, Dem. Rep.\",\"Korea, Rep.\",\"Kuwait\",\"Lebanon\",\"Malaysia\",\"Mongolia\",\"Myanmar\",\"Nepal\",\"Oman\",\"Pakistan\",\"Philippines\",\"Saudi Arabia\",\"Singapore\",\"Sri Lanka\",\"Syria\",\"Taiwan\",\"Thailand\",\"Vietnam\",\"West Bank and Gaza\",\"Yemen, Rep.\"],\"legendgroup\":\"Asia\",\"marker\":{\"color\":\"#636efa\",\"size\":[11537966,202182,62821884,6960067,754550000,3722800,506000000,109343000,26538000,8519282,2693585,100825279,1255058,12617009,30131000,575003,2186894,10154878,1149500,25870271,11261690,714775,60641899,35356600,5618198,1977600,11737396,5680812,13648692,34024249,39463910,1142636,6740785],\"sizemode\":\"area\",\"sizeref\":366300.86,\"symbol\":\"circle\"},\"mode\":\"markers\",\"name\":\"Asia\",\"orientation\":\"v\",\"showlegend\":true,\"type\":\"scatter\",\"x\":[836.1971382,14804.6727,721.1860862000003,523.4323142,612.7056934,6197.962814,700.7706107000001,762.4317721,5906.7318049999985,8931.459811,8393.741404,9847.788606999999,2741.796252,2143.540609,2029.2281420000002,80894.88326,6006.983042,2277.742396,1226.04113,349.0,676.4422254,4720.942687,942.4082588,1814.12743,16903.04886,4977.41854,1135.514326,1881.923632,2643.8586809999997,1295.46066,637.1232887,2649.7150070000002,862.4421463],\"xaxis\":\"x\",\"y\":[34.02,59.923,43.453,45.415,58.381119999999996,70.0,47.19300000000001,45.964,52.468999999999994,54.458999999999996,70.75,71.43,51.629,59.942,57.716,64.624,63.87,59.371,51.253,49.379,41.472,46.988,49.8,56.393,49.901,67.946,64.266,53.655,67.5,58.285,47.838,51.631,36.984],\"yaxis\":\"y\"},{\"hovertemplate\":\"<b>%{hovertext}</b><br><br>continent=Europe<br>year=1967<br>gdpPercap=%{x}<br>lifeExp=%{y}<br>pop=%{marker.size}<extra></extra>\",\"hovertext\":[\"Albania\",\"Austria\",\"Belgium\",\"Bosnia and Herzegovina\",\"Bulgaria\",\"Croatia\",\"Czech Republic\",\"Denmark\",\"Finland\",\"France\",\"Germany\",\"Greece\",\"Hungary\",\"Iceland\",\"Ireland\",\"Italy\",\"Montenegro\",\"Netherlands\",\"Norway\",\"Poland\",\"Portugal\",\"Romania\",\"Serbia\",\"Slovak Republic\",\"Slovenia\",\"Spain\",\"Sweden\",\"Switzerland\",\"Turkey\",\"United Kingdom\"],\"legendgroup\":\"Europe\",\"marker\":{\"color\":\"#EF553B\",\"size\":[1984060,7376998,9556500,3585000,8310226,4174366,9835109,4838800,4605744,49569000,76368453,8716441,10223422,198676,2900100,52667100,501035,12596822,3786019,31785378,9103000,19284814,7971222,4442238,1646912,32850275,7867931,6063000,33411317,54959000],\"sizemode\":\"area\",\"sizeref\":366300.86,\"symbol\":\"circle\"},\"mode\":\"markers\",\"name\":\"Europe\",\"orientation\":\"v\",\"showlegend\":true,\"type\":\"scatter\",\"x\":[2760.196931,12834.6024,13149.04119,2172.3524230000007,5577.0028,6960.297861,11399.44489,15937.21123,10921.63626,12999.91766,14745.62561,8513.097016,9326.64467,13319.89568,7655.568963,10022.40131,5907.850937,15363.25136,16361.87647,6557.152776,6361.517993,6470.866545,7991.707066,8412.902397,9405.489397,7993.512294,15258.29697,22966.14432,2826.356387000001,14142.85089],\"xaxis\":\"x\",\"y\":[66.22,70.14,70.94,64.79,70.42,68.5,70.38,72.96,69.83,71.55,70.8,71.0,69.5,73.73,71.08,71.06,67.178,73.82,74.08,69.61,66.6,66.8,66.914,70.98,69.18,71.44,74.16,72.77,54.33600000000001,71.36],\"yaxis\":\"y\"},{\"hovertemplate\":\"<b>%{hovertext}</b><br><br>continent=Africa<br>year=1967<br>gdpPercap=%{x}<br>lifeExp=%{y}<br>pop=%{marker.size}<extra></extra>\",\"hovertext\":[\"Algeria\",\"Angola\",\"Benin\",\"Botswana\",\"Burkina Faso\",\"Burundi\",\"Cameroon\",\"Central African Republic\",\"Chad\",\"Comoros\",\"Congo, Dem. Rep.\",\"Congo, Rep.\",\"Cote d'Ivoire\",\"Djibouti\",\"Egypt\",\"Equatorial Guinea\",\"Eritrea\",\"Ethiopia\",\"Gabon\",\"Gambia\",\"Ghana\",\"Guinea\",\"Guinea-Bissau\",\"Kenya\",\"Lesotho\",\"Liberia\",\"Libya\",\"Madagascar\",\"Malawi\",\"Mali\",\"Mauritania\",\"Mauritius\",\"Morocco\",\"Mozambique\",\"Namibia\",\"Niger\",\"Nigeria\",\"Reunion\",\"Rwanda\",\"Sao Tome and Principe\",\"Senegal\",\"Sierra Leone\",\"Somalia\",\"South Africa\",\"Sudan\",\"Swaziland\",\"Tanzania\",\"Togo\",\"Tunisia\",\"Uganda\",\"Zambia\",\"Zimbabwe\"],\"legendgroup\":\"Africa\",\"marker\":{\"color\":\"#00cc96\",\"size\":[12760499,5247469,2427334,553541,5127935,3330989,6335506,1733638,3495967,217378,19941073,1179760,4744870,127617,31681188,259864,1820319,27860297,489004,439593,8490213,3451418,601287,10191512,996380,1279406,1759224,6334556,4147252,5212416,1230542,789309,14770296,8680909,706640,4534062,47287752,414024,3451079,70787,3965841,2662190,3428839,20997321,12716129,420690,12607312,1735550,4786986,8900294,3900000,4995432],\"sizemode\":\"area\",\"sizeref\":366300.86,\"symbol\":\"circle\"},\"mode\":\"markers\",\"name\":\"Africa\",\"orientation\":\"v\",\"showlegend\":true,\"type\":\"scatter\",\"x\":[3246.991771,5522.776375,1035.831411,1214.709294,794.8265597,412.97751360000007,1508.453148,1136.056615,1196.810565,1876.029643,861.5932424,2677.9396420000007,2052.0504730000002,3020.0505129999997,1814.880728,915.5960025,468.7949699,516.1186438,8358.761987,734.7829124,1125.69716,708.7595409,715.5806402000003,1056.736457,498.63902649999994,713.6036482999997,18772.75169,1634.047282,495.5147806,545.0098873,1421.145193,2475.387562,1711.04477,566.6691539,3793.694753,1054.384891,1014.5141039999999,4021.1757390000002,510.9637142,1384.840593,1612.404632,1206.043465,1284.7331800000004,7114.4779709999975,1687.997641,2613.1016649999997,848.2186575,1477.59676,1932.3601670000005,908.9185217,1777.0773179999999,569.7950712],\"xaxis\":\"x\",\"y\":[51.407,35.985,44.885,53.298,40.696999999999996,43.548,44.799,41.478,43.601000000000006,46.472,44.056000000000004,52.04,47.35,42.074,49.293,38.986999999999995,42.18899999999999,42.115,44.598,35.857,48.071999999999996,37.196999999999996,35.492,50.653999999999996,48.492,41.536,50.227,42.881,39.486999999999995,38.486999999999995,46.288999999999994,61.556999999999995,50.335,38.113,51.159,40.118,41.04,60.542,44.1,54.425,43.563,34.113,38.977,51.927,42.858000000000004,46.633,45.757,46.769,52.053000000000004,48.051,47.768,53.995],\"yaxis\":\"y\"},{\"hovertemplate\":\"<b>%{hovertext}</b><br><br>continent=Americas<br>year=1967<br>gdpPercap=%{x}<br>lifeExp=%{y}<br>pop=%{marker.size}<extra></extra>\",\"hovertext\":[\"Argentina\",\"Bolivia\",\"Brazil\",\"Canada\",\"Chile\",\"Colombia\",\"Costa Rica\",\"Cuba\",\"Dominican Republic\",\"Ecuador\",\"El Salvador\",\"Guatemala\",\"Haiti\",\"Honduras\",\"Jamaica\",\"Mexico\",\"Nicaragua\",\"Panama\",\"Paraguay\",\"Peru\",\"Puerto Rico\",\"Trinidad and Tobago\",\"United States\",\"Uruguay\",\"Venezuela\"],\"legendgroup\":\"Americas\",\"marker\":{\"color\":\"#ab63fa\",\"size\":[22934225,4040665,88049823,20819767,8858908,19764027,1588717,8139332,4049146,5432424,3232927,4690773,4318137,2500689,1861096,47995559,1865490,1405486,2287985,12132200,2648961,960155,198712000,2748579,9709552],\"sizemode\":\"area\",\"sizeref\":366300.86,\"symbol\":\"circle\"},\"mode\":\"markers\",\"name\":\"Americas\",\"orientation\":\"v\",\"showlegend\":true,\"type\":\"scatter\",\"x\":[8052.9530209999975,2586.886053,3429.864357,16076.58803,5106.654313,2678.729839,4161.727834,5690.268015,1653.7230029999994,4579.074215,4358.595393,3242.5311469999997,1452.057666,2538.269358,6124.7034509999985,5754.733883,4643.393534000002,4421.009084,2299.376311,5788.09333,6929.277714,5621.368472,19530.365569999998,5444.61962,9541.474188],\"xaxis\":\"x\",\"y\":[65.634,45.032,57.632,72.13,60.523,59.963,65.42399999999999,68.29,56.75100000000001,56.678000000000004,55.855,50.01600000000001,46.243,50.924,67.51,60.11,51.88399999999999,64.071,64.95100000000001,51.445,71.1,65.4,70.76,68.468,63.479],\"yaxis\":\"y\"},{\"hovertemplate\":\"<b>%{hovertext}</b><br><br>continent=Oceania<br>year=1967<br>gdpPercap=%{x}<br>lifeExp=%{y}<br>pop=%{marker.size}<extra></extra>\",\"hovertext\":[\"Australia\",\"New Zealand\"],\"legendgroup\":\"Oceania\",\"marker\":{\"color\":\"#FFA15A\",\"size\":[11872264,2728150],\"sizemode\":\"area\",\"sizeref\":366300.86,\"symbol\":\"circle\"},\"mode\":\"markers\",\"name\":\"Oceania\",\"orientation\":\"v\",\"showlegend\":true,\"type\":\"scatter\",\"x\":[14526.12465,14463.918930000002],\"xaxis\":\"x\",\"y\":[71.1,71.52],\"yaxis\":\"y\"}],\"name\":\"1967\"},{\"data\":[{\"hovertemplate\":\"<b>%{hovertext}</b><br><br>continent=Asia<br>year=1972<br>gdpPercap=%{x}<br>lifeExp=%{y}<br>pop=%{marker.size}<extra></extra>\",\"hovertext\":[\"Afghanistan\",\"Bahrain\",\"Bangladesh\",\"Cambodia\",\"China\",\"Hong Kong, China\",\"India\",\"Indonesia\",\"Iran\",\"Iraq\",\"Israel\",\"Japan\",\"Jordan\",\"Korea, Dem. Rep.\",\"Korea, Rep.\",\"Kuwait\",\"Lebanon\",\"Malaysia\",\"Mongolia\",\"Myanmar\",\"Nepal\",\"Oman\",\"Pakistan\",\"Philippines\",\"Saudi Arabia\",\"Singapore\",\"Sri Lanka\",\"Syria\",\"Taiwan\",\"Thailand\",\"Vietnam\",\"West Bank and Gaza\",\"Yemen, Rep.\"],\"legendgroup\":\"Asia\",\"marker\":{\"color\":\"#636efa\",\"size\":[13079460,230800,70759295,7450606,862030000,4115700,567000000,121282000,30614000,10061506,3095893,107188273,1613551,14781241,33505000,841934,2680018,11441462,1320500,28466390,12412593,829050,69325921,40850141,6472756,2152400,13016733,6701172,15226039,39276153,44655014,1089572,7407075],\"sizemode\":\"area\",\"sizeref\":366300.86,\"symbol\":\"circle\"},\"mode\":\"markers\",\"name\":\"Asia\",\"orientation\":\"v\",\"showlegend\":true,\"type\":\"scatter\",\"x\":[739.9811057999997,18268.65839,630.2336265,421.6240257,676.9000921,8315.928145,724.032527,1111.107907,9613.818607,9576.037596,12786.93223,14778.78636,2110.856309,3701.6215030000003,3030.87665,109347.867,7486.384341,2849.09478,1421.741975,357.0,674.7881296,10618.03855,1049.938981,1989.3740699999998,24837.42865,8597.756202,1213.39553,2571.423014,4062.523897,1524.3589359999999,699.5016441,3133.4092769999997,1265.047031],\"xaxis\":\"x\",\"y\":[36.088,63.3,45.251999999999995,40.317,63.118880000000004,72.0,50.651,49.203,55.233999999999995,56.95,71.63,73.42,56.528,63.983000000000004,62.611999999999995,67.712,65.421,63.01,53.754,53.07,43.971000000000004,52.143,51.928999999999995,58.065,53.886,69.521,65.042,57.29600000000001,69.39,60.405,50.254,56.532,39.848],\"yaxis\":\"y\"},{\"hovertemplate\":\"<b>%{hovertext}</b><br><br>continent=Europe<br>year=1972<br>gdpPercap=%{x}<br>lifeExp=%{y}<br>pop=%{marker.size}<extra></extra>\",\"hovertext\":[\"Albania\",\"Austria\",\"Belgium\",\"Bosnia and Herzegovina\",\"Bulgaria\",\"Croatia\",\"Czech Republic\",\"Denmark\",\"Finland\",\"France\",\"Germany\",\"Greece\",\"Hungary\",\"Iceland\",\"Ireland\",\"Italy\",\"Montenegro\",\"Netherlands\",\"Norway\",\"Poland\",\"Portugal\",\"Romania\",\"Serbia\",\"Slovak Republic\",\"Slovenia\",\"Spain\",\"Sweden\",\"Switzerland\",\"Turkey\",\"United Kingdom\"],\"legendgroup\":\"Europe\",\"marker\":{\"color\":\"#EF553B\",\"size\":[2263554,7544201,9709100,3819000,8576200,4225310,9862158,4991596,4639657,51732000,78717088,8888628,10394091,209275,3024400,54365564,527678,13329874,3933004,33039545,8970450,20662648,8313288,4593433,1694510,34513161,8122293,6401400,37492953,56079000],\"sizemode\":\"area\",\"sizeref\":366300.86,\"symbol\":\"circle\"},\"mode\":\"markers\",\"name\":\"Europe\",\"orientation\":\"v\",\"showlegend\":true,\"type\":\"scatter\",\"x\":[3313.422188,16661.6256,16672.14356,2860.16975,6597.494398,9164.090127,13108.4536,18866.20721,14358.8759,16107.19171,18016.180269999997,12724.82957,10168.65611,15798.063619999999,9530.772895999999,12269.27378,7778.414017,18794.74567,18965.05551,8006.506993000001,9022.247417,8011.414401999998,10522.067490000001,9674.167626,12383.4862,10638.75131,17832.02464,27195.113039999997,3450.69638,15895.116409999999],\"xaxis\":\"x\",\"y\":[67.69,70.63,71.44,67.45,70.9,69.61,70.29,73.47,70.87,72.38,71.0,72.34,69.76,74.46,71.28,72.19,70.63600000000002,73.75,74.34,70.85,69.26,69.21,68.7,70.35,69.82,73.06,74.72,73.78,57.005,72.01],\"yaxis\":\"y\"},{\"hovertemplate\":\"<b>%{hovertext}</b><br><br>continent=Africa<br>year=1972<br>gdpPercap=%{x}<br>lifeExp=%{y}<br>pop=%{marker.size}<extra></extra>\",\"hovertext\":[\"Algeria\",\"Angola\",\"Benin\",\"Botswana\",\"Burkina Faso\",\"Burundi\",\"Cameroon\",\"Central African Republic\",\"Chad\",\"Comoros\",\"Congo, Dem. Rep.\",\"Congo, Rep.\",\"Cote d'Ivoire\",\"Djibouti\",\"Egypt\",\"Equatorial Guinea\",\"Eritrea\",\"Ethiopia\",\"Gabon\",\"Gambia\",\"Ghana\",\"Guinea\",\"Guinea-Bissau\",\"Kenya\",\"Lesotho\",\"Liberia\",\"Libya\",\"Madagascar\",\"Malawi\",\"Mali\",\"Mauritania\",\"Mauritius\",\"Morocco\",\"Mozambique\",\"Namibia\",\"Niger\",\"Nigeria\",\"Reunion\",\"Rwanda\",\"Sao Tome and Principe\",\"Senegal\",\"Sierra Leone\",\"Somalia\",\"South Africa\",\"Sudan\",\"Swaziland\",\"Tanzania\",\"Togo\",\"Tunisia\",\"Uganda\",\"Zambia\",\"Zimbabwe\"],\"legendgroup\":\"Africa\",\"marker\":{\"color\":\"#00cc96\",\"size\":[14760787,5894858,2761407,619351,5433886,3529983,7021028,1927260,3899068,250027,23007669,1340458,6071696,178848,34807417,277603,2260187,30770372,537977,517101,9354120,3811387,625361,12044785,1116779,1482628,2183877,7082430,4730997,5828158,1332786,851334,16660670,9809596,821782,5060262,53740085,461633,3992121,76595,4588696,2879013,3840161,23935810,14597019,480105,14706593,2056351,5303507,10190285,4506497,5861135],\"sizemode\":\"area\",\"sizeref\":366300.86,\"symbol\":\"circle\"},\"mode\":\"markers\",\"name\":\"Africa\",\"orientation\":\"v\",\"showlegend\":true,\"type\":\"scatter\",\"x\":[4182.663766,5473.2880049999985,1085.796879,2263.6111140000007,854.7359763000003,464.0995039,1684.1465280000002,1070.013275,1104.103987,1937.577675,904.8960685000001,3213.152683,2378.201111,3694.2123520000014,2024.0081469999998,672.4122571,514.3242081999998,566.2439442000001,11401.948409999999,756.0868363,1178.223708,741.6662307,820.2245876000003,1222.359968,496.58159220000016,803.0054535,21011.497209999998,1748.562982,584.6219709,581.3688761,1586.851781,2575.4841579999998,1930.194975,724.9178037,3746.080948,954.2092363,1698.3888379999999,5047.658563,590.5806637999998,1532.985254,1597.712056,1353.759762,1254.576127,7765.962636,1659.652775,3364.836625,915.9850592,1649.660188,2753.285994000001,950.735869,1773.498265,799.3621757999997],\"xaxis\":\"x\",\"y\":[54.518,37.928000000000004,47.013999999999996,56.023999999999994,43.591,44.056999999999995,47.049,43.457,45.568999999999996,48.943999999999996,45.989,54.907,49.801,44.36600000000001,51.137,40.516,44.141999999999996,43.515,48.69,38.308,49.875,38.842,36.486,53.559,49.766999999999996,42.614,52.773,44.851000000000006,41.76600000000001,39.977,48.437,62.943999999999996,52.861999999999995,40.328,53.867,40.546,42.82100000000001,64.274,44.6,56.48,45.815,35.4,40.973,53.69600000000001,45.083,49.552,47.62,49.75899999999999,55.602,51.01600000000001,50.107,55.635],\"yaxis\":\"y\"},{\"hovertemplate\":\"<b>%{hovertext}</b><br><br>continent=Americas<br>year=1972<br>gdpPercap=%{x}<br>lifeExp=%{y}<br>pop=%{marker.size}<extra></extra>\",\"hovertext\":[\"Argentina\",\"Bolivia\",\"Brazil\",\"Canada\",\"Chile\",\"Colombia\",\"Costa Rica\",\"Cuba\",\"Dominican Republic\",\"Ecuador\",\"El Salvador\",\"Guatemala\",\"Haiti\",\"Honduras\",\"Jamaica\",\"Mexico\",\"Nicaragua\",\"Panama\",\"Paraguay\",\"Peru\",\"Puerto Rico\",\"Trinidad and Tobago\",\"United States\",\"Uruguay\",\"Venezuela\"],\"legendgroup\":\"Americas\",\"marker\":{\"color\":\"#ab63fa\",\"size\":[24779799,4565872,100840058,22284500,9717524,22542890,1834796,8831348,4671329,6298651,3790903,5149581,4698301,2965146,1997616,55984294,2182908,1616384,2614104,13954700,2847132,975199,209896000,2829526,11515649],\"sizemode\":\"area\",\"sizeref\":366300.86,\"symbol\":\"circle\"},\"mode\":\"markers\",\"name\":\"Americas\",\"orientation\":\"v\",\"showlegend\":true,\"type\":\"scatter\",\"x\":[9443.038526,2980.331339,4985.711467,18970.57086,5494.024437,3264.660041,5118.146939,5305.445256,2189.874499,5280.99471,4520.246008,4031.4082710000002,1654.456946,2529.842345,7433.889293000001,6809.4066900000025,4688.593267,5364.249663000001,2523.337977,5937.827283,9123.041742,6619.5514189999985,21806.03594,5703.408898,10505.25966],\"xaxis\":\"x\",\"y\":[67.065,46.714,59.504,72.88,63.441,61.62300000000001,67.84899999999999,70.723,59.631,58.79600000000001,58.207,53.738,48.042,53.88399999999999,69.0,62.361000000000004,55.151,66.21600000000001,65.815,55.448,72.16,65.9,71.34,68.673,65.712],\"yaxis\":\"y\"},{\"hovertemplate\":\"<b>%{hovertext}</b><br><br>continent=Oceania<br>year=1972<br>gdpPercap=%{x}<br>lifeExp=%{y}<br>pop=%{marker.size}<extra></extra>\",\"hovertext\":[\"Australia\",\"New Zealand\"],\"legendgroup\":\"Oceania\",\"marker\":{\"color\":\"#FFA15A\",\"size\":[13177000,2929100],\"sizemode\":\"area\",\"sizeref\":366300.86,\"symbol\":\"circle\"},\"mode\":\"markers\",\"name\":\"Oceania\",\"orientation\":\"v\",\"showlegend\":true,\"type\":\"scatter\",\"x\":[16788.62948,16046.03728],\"xaxis\":\"x\",\"y\":[71.93,71.89],\"yaxis\":\"y\"}],\"name\":\"1972\"},{\"data\":[{\"hovertemplate\":\"<b>%{hovertext}</b><br><br>continent=Asia<br>year=1977<br>gdpPercap=%{x}<br>lifeExp=%{y}<br>pop=%{marker.size}<extra></extra>\",\"hovertext\":[\"Afghanistan\",\"Bahrain\",\"Bangladesh\",\"Cambodia\",\"China\",\"Hong Kong, China\",\"India\",\"Indonesia\",\"Iran\",\"Iraq\",\"Israel\",\"Japan\",\"Jordan\",\"Korea, Dem. Rep.\",\"Korea, Rep.\",\"Kuwait\",\"Lebanon\",\"Malaysia\",\"Mongolia\",\"Myanmar\",\"Nepal\",\"Oman\",\"Pakistan\",\"Philippines\",\"Saudi Arabia\",\"Singapore\",\"Sri Lanka\",\"Syria\",\"Taiwan\",\"Thailand\",\"Vietnam\",\"West Bank and Gaza\",\"Yemen, Rep.\"],\"legendgroup\":\"Asia\",\"marker\":{\"color\":\"#636efa\",\"size\":[14880372,297410,80428306,6978607,943455000,4583700,634000000,136725000,35480679,11882916,3495918,113872473,1937652,16325320,36436000,1140357,3115787,12845381,1528000,31528087,13933198,1004533,78152686,46850962,8128505,2325300,14116836,7932503,16785196,44148285,50533506,1261091,8403990],\"sizemode\":\"area\",\"sizeref\":366300.86,\"symbol\":\"circle\"},\"mode\":\"markers\",\"name\":\"Asia\",\"orientation\":\"v\",\"showlegend\":true,\"type\":\"scatter\",\"x\":[786.11336,19340.10196,659.8772322000002,524.9721831999999,741.2374699,11186.14125,813.3373230000003,1382.702056,11888.59508,14688.235069999999,13306.619209999999,16610.37701,2852.351568,4106.301249,4657.22102,59265.477139999995,8659.696836,3827.9215710000003,1647.511665,371.0,694.1124398,11848.343920000001,1175.921193,2373.204287,34167.7626,11210.08948,1348.775651,3195.484582,5596.519826,1961.2246350000007,713.5371196000001,3682.8314939999996,1829.765177],\"xaxis\":\"x\",\"y\":[38.438,65.593,46.923,31.22,63.96736,73.6,54.208,52.702,57.702,60.413000000000004,73.06,75.38,61.13399999999999,67.15899999999999,64.766,69.343,66.09899999999999,65.256,55.49100000000001,56.059,46.74800000000001,57.367,54.043,60.06,58.69,70.795,65.949,61.195,70.59,62.494,55.763999999999996,60.765,44.175],\"yaxis\":\"y\"},{\"hovertemplate\":\"<b>%{hovertext}</b><br><br>continent=Europe<br>year=1977<br>gdpPercap=%{x}<br>lifeExp=%{y}<br>pop=%{marker.size}<extra></extra>\",\"hovertext\":[\"Albania\",\"Austria\",\"Belgium\",\"Bosnia and Herzegovina\",\"Bulgaria\",\"Croatia\",\"Czech Republic\",\"Denmark\",\"Finland\",\"France\",\"Germany\",\"Greece\",\"Hungary\",\"Iceland\",\"Ireland\",\"Italy\",\"Montenegro\",\"Netherlands\",\"Norway\",\"Poland\",\"Portugal\",\"Romania\",\"Serbia\",\"Slovak Republic\",\"Slovenia\",\"Spain\",\"Sweden\",\"Switzerland\",\"Turkey\",\"United Kingdom\"],\"legendgroup\":\"Europe\",\"marker\":{\"color\":\"#EF553B\",\"size\":[2509048,7568430,9821800,4086000,8797022,4318673,10161915,5088419,4738902,53165019,78160773,9308479,10637171,221823,3271900,56059245,560073,13852989,4043205,34621254,9662600,21658597,8686367,4827803,1746919,36439000,8251648,6316424,42404033,56179000],\"sizemode\":\"area\",\"sizeref\":366300.86,\"symbol\":\"circle\"},\"mode\":\"markers\",\"name\":\"Europe\",\"orientation\":\"v\",\"showlegend\":true,\"type\":\"scatter\",\"x\":[3533.0039100000013,19749.4223,19117.97448,3528.481305,7612.240438,11305.38517,14800.160619999999,20422.9015,15605.422830000001,18292.635140000002,20512.92123,14195.524280000001,11674.837370000001,19654.96247,11150.98113,14255.98475,9595.929904999999,21209.0592,23311.34939,9508.141454,10172.48572,9356.39724,12980.66956,10922.664040000001,15277.030169999998,13236.92117,18855.72521,26982.29052,4269.122326,17428.74846],\"xaxis\":\"x\",\"y\":[68.93,72.17,72.8,69.86,70.81,70.64,70.71,74.69,72.52,73.83,72.5,73.68,69.95,76.11,72.03,73.48,73.066,75.24,75.37,70.67,70.41,69.46,70.3,70.45,70.97,74.39,75.44,75.39,59.507,72.76],\"yaxis\":\"y\"},{\"hovertemplate\":\"<b>%{hovertext}</b><br><br>continent=Africa<br>year=1977<br>gdpPercap=%{x}<br>lifeExp=%{y}<br>pop=%{marker.size}<extra></extra>\",\"hovertext\":[\"Algeria\",\"Angola\",\"Benin\",\"Botswana\",\"Burkina Faso\",\"Burundi\",\"Cameroon\",\"Central African Republic\",\"Chad\",\"Comoros\",\"Congo, Dem. Rep.\",\"Congo, Rep.\",\"Cote d'Ivoire\",\"Djibouti\",\"Egypt\",\"Equatorial Guinea\",\"Eritrea\",\"Ethiopia\",\"Gabon\",\"Gambia\",\"Ghana\",\"Guinea\",\"Guinea-Bissau\",\"Kenya\",\"Lesotho\",\"Liberia\",\"Libya\",\"Madagascar\",\"Malawi\",\"Mali\",\"Mauritania\",\"Mauritius\",\"Morocco\",\"Mozambique\",\"Namibia\",\"Niger\",\"Nigeria\",\"Reunion\",\"Rwanda\",\"Sao Tome and Principe\",\"Senegal\",\"Sierra Leone\",\"Somalia\",\"South Africa\",\"Sudan\",\"Swaziland\",\"Tanzania\",\"Togo\",\"Tunisia\",\"Uganda\",\"Zambia\",\"Zimbabwe\"],\"legendgroup\":\"Africa\",\"marker\":{\"color\":\"#00cc96\",\"size\":[17152804,6162675,3168267,781472,5889574,3834415,7959865,2167533,4388260,304739,26480870,1536769,7459574,228694,38783863,192675,2512642,34617799,706367,608274,10538093,4227026,745228,14500404,1251524,1703617,2721783,8007166,5637246,6491649,1456688,913025,18396941,11127868,977026,5682086,62209173,492095,4657072,86796,5260855,3140897,4353666,27129932,17104986,551425,17129565,2308582,6005061,11457758,5216550,6642107],\"sizemode\":\"area\",\"sizeref\":366300.86,\"symbol\":\"circle\"},\"mode\":\"markers\",\"name\":\"Africa\",\"orientation\":\"v\",\"showlegend\":true,\"type\":\"scatter\",\"x\":[4910.416756000001,3008.647355,1029.161251,3214.857818,743.3870368,556.1032651,1783.432873,1109.374338,1133.98495,1172.603047,795.757282,3259.178978,2517.736547,3081.7610219999997,2785.493582,958.5668124,505.7538077,556.8083834,21745.57328,884.7552507000001,993.2239571,874.6858642999997,764.7259627999997,1267.613204,745.3695408,640.3224382999998,21951.21176,1544.228586,663.2236766,686.3952693,1497.492223,3710.9829630000004,2370.619976,502.31973339999996,3876.4859579999998,808.8970727999997,1981.9518059999998,4319.804067,670.0806011,1737.561657,1561.769116,1348.285159,1450.9925130000001,8028.651439,2202.9884230000002,3781.410618,962.4922932,1532.776998,3120.876811,843.7331372000001,1588.688299,685.5876821],\"xaxis\":\"x\",\"y\":[58.013999999999996,39.483000000000004,49.19,59.318999999999996,46.137,45.91,49.355,46.775,47.383,50.93899999999999,47.803999999999995,55.625,52.373999999999995,46.519,53.318999999999996,42.023999999999994,44.535,44.51,52.79,41.842,51.756,40.762,37.465,56.155,52.208,43.763999999999996,57.442,46.881,43.766999999999996,41.714,50.852,64.93,55.73,42.495,56.437,41.291000000000004,44.513999999999996,67.064,45.0,58.55,48.879,36.788000000000004,41.974,55.527,47.8,52.537,49.919,52.887,59.836999999999996,50.35,51.386,57.674],\"yaxis\":\"y\"},{\"hovertemplate\":\"<b>%{hovertext}</b><br><br>continent=Americas<br>year=1977<br>gdpPercap=%{x}<br>lifeExp=%{y}<br>pop=%{marker.size}<extra></extra>\",\"hovertext\":[\"Argentina\",\"Bolivia\",\"Brazil\",\"Canada\",\"Chile\",\"Colombia\",\"Costa Rica\",\"Cuba\",\"Dominican Republic\",\"Ecuador\",\"El Salvador\",\"Guatemala\",\"Haiti\",\"Honduras\",\"Jamaica\",\"Mexico\",\"Nicaragua\",\"Panama\",\"Paraguay\",\"Peru\",\"Puerto Rico\",\"Trinidad and Tobago\",\"United States\",\"Uruguay\",\"Venezuela\"],\"legendgroup\":\"Americas\",\"marker\":{\"color\":\"#ab63fa\",\"size\":[26983828,5079716,114313951,23796400,10599793,25094412,2108457,9537988,5302800,7278866,4282586,5703430,4908554,3055235,2156814,63759976,2554598,1839782,2984494,15990099,3080828,1039009,220239000,2873520,13503563],\"sizemode\":\"area\",\"sizeref\":366300.86,\"symbol\":\"circle\"},\"mode\":\"markers\",\"name\":\"Americas\",\"orientation\":\"v\",\"showlegend\":true,\"type\":\"scatter\",\"x\":[10079.026740000001,3548.097832,6660.118654,22090.88306,4756.763836,3815.80787,5926.876967,6380.4949659999975,2681.9889,6679.62326,5138.922374,4879.992748,1874.2989309999998,3203.208066,6650.195573,7674.929108,5486.371089,5351.912144,3248.373311,6281.2908549999975,9770.524921,7899.554209000001,24072.63213,6504.3396630000025,13143.95095],\"xaxis\":\"x\",\"y\":[68.48100000000001,50.023,61.489,74.21,67.05199999999999,63.836999999999996,70.75,72.649,61.788000000000004,61.31,56.69600000000001,56.028999999999996,49.923,57.402,70.11,65.032,57.47,68.681,66.35300000000001,58.446999999999996,73.44,68.3,73.38,69.48100000000001,67.456],\"yaxis\":\"y\"},{\"hovertemplate\":\"<b>%{hovertext}</b><br><br>continent=Oceania<br>year=1977<br>gdpPercap=%{x}<br>lifeExp=%{y}<br>pop=%{marker.size}<extra></extra>\",\"hovertext\":[\"Australia\",\"New Zealand\"],\"legendgroup\":\"Oceania\",\"marker\":{\"color\":\"#FFA15A\",\"size\":[14074100,3164900],\"sizemode\":\"area\",\"sizeref\":366300.86,\"symbol\":\"circle\"},\"mode\":\"markers\",\"name\":\"Oceania\",\"orientation\":\"v\",\"showlegend\":true,\"type\":\"scatter\",\"x\":[18334.197509999998,16233.7177],\"xaxis\":\"x\",\"y\":[73.49,72.22],\"yaxis\":\"y\"}],\"name\":\"1977\"},{\"data\":[{\"hovertemplate\":\"<b>%{hovertext}</b><br><br>continent=Asia<br>year=1982<br>gdpPercap=%{x}<br>lifeExp=%{y}<br>pop=%{marker.size}<extra></extra>\",\"hovertext\":[\"Afghanistan\",\"Bahrain\",\"Bangladesh\",\"Cambodia\",\"China\",\"Hong Kong, China\",\"India\",\"Indonesia\",\"Iran\",\"Iraq\",\"Israel\",\"Japan\",\"Jordan\",\"Korea, Dem. Rep.\",\"Korea, Rep.\",\"Kuwait\",\"Lebanon\",\"Malaysia\",\"Mongolia\",\"Myanmar\",\"Nepal\",\"Oman\",\"Pakistan\",\"Philippines\",\"Saudi Arabia\",\"Singapore\",\"Sri Lanka\",\"Syria\",\"Taiwan\",\"Thailand\",\"Vietnam\",\"West Bank and Gaza\",\"Yemen, Rep.\"],\"legendgroup\":\"Asia\",\"marker\":{\"color\":\"#636efa\",\"size\":[12881816,377967,93074406,7272485,1000281000,5264500,708000000,153343000,43072751,14173318,3858421,118454974,2347031,17647518,39326000,1497494,3086876,14441916,1756032,34680442,15796314,1301048,91462088,53456774,11254672,2651869,15410151,9410494,18501390,48827160,56142181,1425876,9657618],\"sizemode\":\"area\",\"sizeref\":366300.86,\"symbol\":\"circle\"},\"mode\":\"markers\",\"name\":\"Asia\",\"orientation\":\"v\",\"showlegend\":true,\"type\":\"scatter\",\"x\":[978.0114388000001,19211.14731,676.9818656,624.4754784,962.4213804999999,14560.530509999999,855.7235377000003,1516.872988,7608.334602,14517.90711,15367.0292,19384.10571,4161.415959,4106.525293,5622.942464,31354.03573,7640.519520999997,4920.355951,2000.603139,424.0,718.3730947,12954.791009999999,1443.429832,2603.273765,33693.17525,15169.161119999999,1648.0797890000001,3761.8377149999997,7426.354773999998,2393.219781,707.2357863,4336.032082,1977.5570100000002],\"xaxis\":\"x\",\"y\":[39.854,69.05199999999999,50.00899999999999,50.957,65.525,75.45,56.596000000000004,56.159,59.62,62.038000000000004,74.45,77.11,63.739,69.1,67.123,71.309,66.983,68.0,57.489,58.056000000000004,49.593999999999994,62.728,56.158,62.082,63.012,71.76,68.757,64.59,72.16,64.597,58.816,64.406,49.113],\"yaxis\":\"y\"},{\"hovertemplate\":\"<b>%{hovertext}</b><br><br>continent=Europe<br>year=1982<br>gdpPercap=%{x}<br>lifeExp=%{y}<br>pop=%{marker.size}<extra></extra>\",\"hovertext\":[\"Albania\",\"Austria\",\"Belgium\",\"Bosnia and Herzegovina\",\"Bulgaria\",\"Croatia\",\"Czech Republic\",\"Denmark\",\"Finland\",\"France\",\"Germany\",\"Greece\",\"Hungary\",\"Iceland\",\"Ireland\",\"Italy\",\"Montenegro\",\"Netherlands\",\"Norway\",\"Poland\",\"Portugal\",\"Romania\",\"Serbia\",\"Slovak Republic\",\"Slovenia\",\"Spain\",\"Sweden\",\"Switzerland\",\"Turkey\",\"United Kingdom\"],\"legendgroup\":\"Europe\",\"marker\":{\"color\":\"#EF553B\",\"size\":[2780097,7574613,9856303,4172693,8892098,4413368,10303704,5117810,4826933,54433565,78335266,9786480,10705535,233997,3480000,56535636,562548,14310401,4114787,36227381,9859650,22356726,9032824,5048043,1861252,37983310,8325260,6468126,47328791,56339704],\"sizemode\":\"area\",\"sizeref\":366300.86,\"symbol\":\"circle\"},\"mode\":\"markers\",\"name\":\"Europe\",\"orientation\":\"v\",\"showlegend\":true,\"type\":\"scatter\",\"x\":[3630.880722,21597.083619999998,20979.84589,4126.613157,8224.191647,13221.82184,15377.22855,21688.04048,18533.15761,20293.89746,22031.532740000002,15268.420890000001,12545.99066,23269.6075,12618.321409999999,16537.4835,11222.58762,21399.46046,26298.635309999998,8451.531004,11753.84291,9605.314053,15181.0927,11348.54585,17866.72175,13926.169969999999,20667.38125,28397.715119999997,4241.356344,18232.42452],\"xaxis\":\"x\",\"y\":[70.42,73.18,73.93,70.69,71.08,70.46,70.96,74.63,74.55,74.89,73.8,75.24,69.39,76.99,73.1,74.98,74.101,76.05,75.97,71.32,72.77,69.66,70.16199999999999,70.8,71.063,76.3,76.42,76.21,61.036,74.04],\"yaxis\":\"y\"},{\"hovertemplate\":\"<b>%{hovertext}</b><br><br>continent=Africa<br>year=1982<br>gdpPercap=%{x}<br>lifeExp=%{y}<br>pop=%{marker.size}<extra></extra>\",\"hovertext\":[\"Algeria\",\"Angola\",\"Benin\",\"Botswana\",\"Burkina Faso\",\"Burundi\",\"Cameroon\",\"Central African Republic\",\"Chad\",\"Comoros\",\"Congo, Dem. Rep.\",\"Congo, Rep.\",\"Cote d'Ivoire\",\"Djibouti\",\"Egypt\",\"Equatorial Guinea\",\"Eritrea\",\"Ethiopia\",\"Gabon\",\"Gambia\",\"Ghana\",\"Guinea\",\"Guinea-Bissau\",\"Kenya\",\"Lesotho\",\"Liberia\",\"Libya\",\"Madagascar\",\"Malawi\",\"Mali\",\"Mauritania\",\"Mauritius\",\"Morocco\",\"Mozambique\",\"Namibia\",\"Niger\",\"Nigeria\",\"Reunion\",\"Rwanda\",\"Sao Tome and Principe\",\"Senegal\",\"Sierra Leone\",\"Somalia\",\"South Africa\",\"Sudan\",\"Swaziland\",\"Tanzania\",\"Togo\",\"Tunisia\",\"Uganda\",\"Zambia\",\"Zimbabwe\"],\"legendgroup\":\"Africa\",\"marker\":{\"color\":\"#00cc96\",\"size\":[20033753,7016384,3641603,970347,6634596,4580410,9250831,2476971,4875118,348643,30646495,1774735,9025951,305991,45681811,285483,2637297,38111756,753874,715523,11400338,4710497,825987,17661452,1411807,1956875,3344074,9171477,6502825,6998256,1622136,992040,20198730,12587223,1099010,6437188,73039376,517810,5507565,98593,6147783,3464522,5828892,31140029,20367053,649901,19844382,2644765,6734098,12939400,6100407,7636524],\"sizemode\":\"area\",\"sizeref\":366300.86,\"symbol\":\"circle\"},\"mode\":\"markers\",\"name\":\"Africa\",\"orientation\":\"v\",\"showlegend\":true,\"type\":\"scatter\",\"x\":[5745.160213,2756.953672,1277.897616,4551.14215,807.1985855,559.6032309999998,2367.983282,956.7529906999999,797.9081006,1267.100083,673.7478181,4879.507522,2602.710169,2879.4680670000002,3503.729636,927.8253427000001,524.8758493,577.8607471,15113.36194,835.8096107999999,876.032569,857.2503577,838.1239671,1348.225791,797.2631074,572.1995694,17364.275380000006,1302.878658,632.8039209,618.0140640999998,1481.150189,3688.037739,2702.620356,462.2114149,4191.100511,909.7221354000001,1576.97375,5267.219353,881.5706467,1890.2181170000001,1518.479984,1465.010784,1176.807031,8568.266228,1895.544073,3895.384018,874.2426069,1344.577953,3560.2331740000004,682.2662267999998,1408.678565,788.8550411],\"xaxis\":\"x\",\"y\":[61.368,39.942,50.903999999999996,61.483999999999995,48.122,47.471000000000004,52.96100000000001,48.295,49.516999999999996,52.933,47.784,56.695,53.983000000000004,48.812,56.006,43.662,43.89,44.916000000000004,56.56399999999999,45.58,53.744,42.89100000000001,39.327,58.76600000000001,55.078,44.852,62.155,48.968999999999994,45.641999999999996,43.916000000000004,53.599,66.711,59.65,42.795,58.968,42.598,45.826,69.885,46.218,60.351000000000006,52.379,38.445,42.955,58.161,50.338,55.56100000000001,50.608000000000004,55.471000000000004,64.048,49.849,51.82100000000001,60.363],\"yaxis\":\"y\"},{\"hovertemplate\":\"<b>%{hovertext}</b><br><br>continent=Americas<br>year=1982<br>gdpPercap=%{x}<br>lifeExp=%{y}<br>pop=%{marker.size}<extra></extra>\",\"hovertext\":[\"Argentina\",\"Bolivia\",\"Brazil\",\"Canada\",\"Chile\",\"Colombia\",\"Costa Rica\",\"Cuba\",\"Dominican Republic\",\"Ecuador\",\"El Salvador\",\"Guatemala\",\"Haiti\",\"Honduras\",\"Jamaica\",\"Mexico\",\"Nicaragua\",\"Panama\",\"Paraguay\",\"Peru\",\"Puerto Rico\",\"Trinidad and Tobago\",\"United States\",\"Uruguay\",\"Venezuela\"],\"legendgroup\":\"Americas\",\"marker\":{\"color\":\"#ab63fa\",\"size\":[29341374,5642224,128962939,25201900,11487112,27764644,2424367,9789224,5968349,8365850,4474873,6395630,5198399,3669448,2298309,71640904,2979423,2036305,3366439,18125129,3279001,1116479,232187835,2953997,15620766],\"sizemode\":\"area\",\"sizeref\":366300.86,\"symbol\":\"circle\"},\"mode\":\"markers\",\"name\":\"Americas\",\"orientation\":\"v\",\"showlegend\":true,\"type\":\"scatter\",\"x\":[8997.897412,3156.510452,7030.835878,22898.79214,5095.6657380000015,4397.575659,5262.734751,7316.918106999998,2861.092386,7213.7912670000005,4098.344175,4820.49479,2011.1595489999997,3121.760794000001,6068.05135,9611.147541,3470.338156000001,7009.601598,4258.5036039999995,6434.501797,10330.98915,9119.528607,25009.55914,6920.223051000001,11152.410109999999],\"xaxis\":\"x\",\"y\":[69.942,53.858999999999995,63.33600000000001,75.76,70.565,66.653,73.45,73.717,63.727,64.342,56.604,58.137,51.46100000000001,60.909,71.21,67.405,59.298,70.472,66.874,61.40600000000001,73.75,68.832,74.65,70.805,68.557],\"yaxis\":\"y\"},{\"hovertemplate\":\"<b>%{hovertext}</b><br><br>continent=Oceania<br>year=1982<br>gdpPercap=%{x}<br>lifeExp=%{y}<br>pop=%{marker.size}<extra></extra>\",\"hovertext\":[\"Australia\",\"New Zealand\"],\"legendgroup\":\"Oceania\",\"marker\":{\"color\":\"#FFA15A\",\"size\":[15184200,3210650],\"sizemode\":\"area\",\"sizeref\":366300.86,\"symbol\":\"circle\"},\"mode\":\"markers\",\"name\":\"Oceania\",\"orientation\":\"v\",\"showlegend\":true,\"type\":\"scatter\",\"x\":[19477.009280000002,17632.4104],\"xaxis\":\"x\",\"y\":[74.74,73.84],\"yaxis\":\"y\"}],\"name\":\"1982\"},{\"data\":[{\"hovertemplate\":\"<b>%{hovertext}</b><br><br>continent=Asia<br>year=1987<br>gdpPercap=%{x}<br>lifeExp=%{y}<br>pop=%{marker.size}<extra></extra>\",\"hovertext\":[\"Afghanistan\",\"Bahrain\",\"Bangladesh\",\"Cambodia\",\"China\",\"Hong Kong, China\",\"India\",\"Indonesia\",\"Iran\",\"Iraq\",\"Israel\",\"Japan\",\"Jordan\",\"Korea, Dem. Rep.\",\"Korea, Rep.\",\"Kuwait\",\"Lebanon\",\"Malaysia\",\"Mongolia\",\"Myanmar\",\"Nepal\",\"Oman\",\"Pakistan\",\"Philippines\",\"Saudi Arabia\",\"Singapore\",\"Sri Lanka\",\"Syria\",\"Taiwan\",\"Thailand\",\"Vietnam\",\"West Bank and Gaza\",\"Yemen, Rep.\"],\"legendgroup\":\"Asia\",\"marker\":{\"color\":\"#636efa\",\"size\":[13867957,454612,103764241,8371791,1084035000,5584510,788000000,169276000,51889696,16543189,4203148,122091325,2820042,19067554,41622000,1891487,3089353,16331785,2015133,38028578,17917180,1593882,105186881,60017788,14619745,2794552,16495304,11242847,19757799,52910342,62826491,1691210,11219340],\"sizemode\":\"area\",\"sizeref\":366300.86,\"symbol\":\"circle\"},\"mode\":\"markers\",\"name\":\"Asia\",\"orientation\":\"v\",\"showlegend\":true,\"type\":\"scatter\",\"x\":[852.3959447999997,18524.02406,751.9794035,683.8955732000003,1378.904018,20038.472690000002,976.5126756000001,1748.356961,6642.881371,11643.57268,17122.47986,22375.941890000002,4448.679912,4106.4923149999995,8533.088805,28118.42998,5377.091329,5249.802653,2338.008304,385.0,775.6324501,18115.223130000002,1704.686583,2189.634995,21198.26136,18861.53081,1876.766827,3116.774285,11054.56175,2982.653773,820.7994449,5107.197384,1971.741538],\"xaxis\":\"x\",\"y\":[40.821999999999996,70.75,52.818999999999996,53.913999999999994,67.274,76.2,58.553000000000004,60.137,63.04,65.044,75.6,78.67,65.869,70.64699999999998,69.81,74.17399999999998,67.926,69.5,60.222,58.339,52.537,67.734,58.245,64.15100000000001,66.295,73.56,69.01100000000001,66.97399999999999,73.4,66.084,62.82,67.046,52.922],\"yaxis\":\"y\"},{\"hovertemplate\":\"<b>%{hovertext}</b><br><br>continent=Europe<br>year=1987<br>gdpPercap=%{x}<br>lifeExp=%{y}<br>pop=%{marker.size}<extra></extra>\",\"hovertext\":[\"Albania\",\"Austria\",\"Belgium\",\"Bosnia and Herzegovina\",\"Bulgaria\",\"Croatia\",\"Czech Republic\",\"Denmark\",\"Finland\",\"France\",\"Germany\",\"Greece\",\"Hungary\",\"Iceland\",\"Ireland\",\"Italy\",\"Montenegro\",\"Netherlands\",\"Norway\",\"Poland\",\"Portugal\",\"Romania\",\"Serbia\",\"Slovak Republic\",\"Slovenia\",\"Spain\",\"Sweden\",\"Switzerland\",\"Turkey\",\"United Kingdom\"],\"legendgroup\":\"Europe\",\"marker\":{\"color\":\"#EF553B\",\"size\":[3075321,7578903,9870200,4338977,8971958,4484310,10311597,5127024,4931729,55630100,77718298,9974490,10612740,244676,3539900,56729703,569473,14665278,4186147,37740710,9915289,22686371,9230783,5199318,1945870,38880702,8421403,6649942,52881328,56981620],\"sizemode\":\"area\",\"sizeref\":366300.86,\"symbol\":\"circle\"},\"mode\":\"markers\",\"name\":\"Europe\",\"orientation\":\"v\",\"showlegend\":true,\"type\":\"scatter\",\"x\":[3738.9327350000003,23687.82607,22525.56308,4314.114757,8239.854824,13822.58394,16310.4434,25116.17581,21141.01223,22066.44214,24639.18566,16120.528390000001,12986.47998,26923.206280000002,13872.86652,19207.234819999998,11732.51017,23651.32361,31540.9748,9082.351172,13039.30876,9696.273295,15870.878509999999,12037.26758,18678.53492,15764.98313,23586.92927,30281.704589999998,5089.043686,21664.787669999998],\"xaxis\":\"x\",\"y\":[72.0,74.94,75.35,71.14,71.34,71.52,71.58,74.8,74.83,76.34,74.847,76.67,69.58,77.23,74.36,76.42,74.865,76.83,75.89,70.98,74.06,69.53,71.218,71.08,72.25,76.9,77.19,77.41,63.108000000000004,75.007],\"yaxis\":\"y\"},{\"hovertemplate\":\"<b>%{hovertext}</b><br><br>continent=Africa<br>year=1987<br>gdpPercap=%{x}<br>lifeExp=%{y}<br>pop=%{marker.size}<extra></extra>\",\"hovertext\":[\"Algeria\",\"Angola\",\"Benin\",\"Botswana\",\"Burkina Faso\",\"Burundi\",\"Cameroon\",\"Central African Republic\",\"Chad\",\"Comoros\",\"Congo, Dem. Rep.\",\"Congo, Rep.\",\"Cote d'Ivoire\",\"Djibouti\",\"Egypt\",\"Equatorial Guinea\",\"Eritrea\",\"Ethiopia\",\"Gabon\",\"Gambia\",\"Ghana\",\"Guinea\",\"Guinea-Bissau\",\"Kenya\",\"Lesotho\",\"Liberia\",\"Libya\",\"Madagascar\",\"Malawi\",\"Mali\",\"Mauritania\",\"Mauritius\",\"Morocco\",\"Mozambique\",\"Namibia\",\"Niger\",\"Nigeria\",\"Reunion\",\"Rwanda\",\"Sao Tome and Principe\",\"Senegal\",\"Sierra Leone\",\"Somalia\",\"South Africa\",\"Sudan\",\"Swaziland\",\"Tanzania\",\"Togo\",\"Tunisia\",\"Uganda\",\"Zambia\",\"Zimbabwe\"],\"legendgroup\":\"Africa\",\"marker\":{\"color\":\"#00cc96\",\"size\":[23254956,7874230,4243788,1151184,7586551,5126023,10780667,2840009,5498955,395114,35481645,2064095,10761098,311025,52799062,341244,2915959,42999530,880397,848406,14168101,5650262,927524,21198082,1599200,2269414,3799845,10568642,7824747,7634008,1841240,1042663,22987397,12891952,1278184,7332638,81551520,562035,6349365,110812,7171347,3868905,6921858,35933379,24725960,779348,23040630,3154264,7724976,15283050,7272406,9216418],\"sizemode\":\"area\",\"sizeref\":366300.86,\"symbol\":\"circle\"},\"mode\":\"markers\",\"name\":\"Africa\",\"orientation\":\"v\",\"showlegend\":true,\"type\":\"scatter\",\"x\":[5681.358539,2430.208311,1225.85601,6205.88385,912.0631417000001,621.8188188999999,2602.664206,844.8763504000003,952.3861289999999,1315.980812,672.774812,4201.194936999998,2156.9560690000008,2880.102568,3885.4607100000003,966.8968149,521.1341333,573.7413142000001,11864.408440000001,611.6588611000002,847.0061135,805.5724717999999,736.4153921,1361.936856,773.9932140999997,506.1138573,11770.5898,1155.4419480000001,635.5173633999998,684.1715576,1421.603576,4783.586903,2755.046991,389.87618460000004,3693.7313369999997,668.3000228,1385.029563,5303.377488,847.991217,1516.525457,1441.72072,1294.4477880000004,1093.244963,7825.823398,1507.819159,3984.8398119999997,831.8220794,1202.201361,3810.419296,617.7244065,1213.315116,706.1573059],\"xaxis\":\"x\",\"y\":[65.79899999999999,39.906,52.336999999999996,63.622,49.556999999999995,48.21100000000001,54.985,50.485,51.051,54.926,47.412,57.47,54.655,50.04,59.797,45.663999999999994,46.453,46.684,60.19,49.265,55.729,45.552,41.245,59.339,57.18,46.027,66.234,49.35,47.457,46.364,56.145,68.74,62.677,42.861000000000004,60.835,44.555,46.886,71.913,44.02,61.728,55.769,40.006,44.50100000000001,60.833999999999996,51.744,57.678000000000004,51.535,56.941,66.89399999999999,51.50899999999999,50.82100000000001,62.351000000000006],\"yaxis\":\"y\"},{\"hovertemplate\":\"<b>%{hovertext}</b><br><br>continent=Americas<br>year=1987<br>gdpPercap=%{x}<br>lifeExp=%{y}<br>pop=%{marker.size}<extra></extra>\",\"hovertext\":[\"Argentina\",\"Bolivia\",\"Brazil\",\"Canada\",\"Chile\",\"Colombia\",\"Costa Rica\",\"Cuba\",\"Dominican Republic\",\"Ecuador\",\"El Salvador\",\"Guatemala\",\"Haiti\",\"Honduras\",\"Jamaica\",\"Mexico\",\"Nicaragua\",\"Panama\",\"Paraguay\",\"Peru\",\"Puerto Rico\",\"Trinidad and Tobago\",\"United States\",\"Uruguay\",\"Venezuela\"],\"legendgroup\":\"Americas\",\"marker\":{\"color\":\"#ab63fa\",\"size\":[31620918,6156369,142938076,26549700,12463354,30964245,2799811,10239839,6655297,9545158,4842194,7326406,5756203,4372203,2326606,80122492,3344353,2253639,3886512,20195924,3444468,1191336,242803533,3045153,17910182],\"sizemode\":\"area\",\"sizeref\":366300.86,\"symbol\":\"circle\"},\"mode\":\"markers\",\"name\":\"Americas\",\"orientation\":\"v\",\"showlegend\":true,\"type\":\"scatter\",\"x\":[9139.671389,2753.6914899999997,7807.0958180000025,26626.515030000002,5547.063754,4903.2191,5629.915318,7532.924762999999,2899.842175,6481.776993,4140.442097,4246.485974,1823.015995,3023.0966989999997,6351.237495,8688.156003,2955.984375,7034.779161,3998.875695,6360.9434439999995,12281.34191,7388.597823,29884.35041000001,7452.398969,9883.584648],\"xaxis\":\"x\",\"y\":[70.774,57.25100000000001,65.205,76.86,72.492,67.768,74.752,74.17399999999998,66.046,67.23100000000001,63.153999999999996,60.782,53.636,64.492,71.77,69.498,62.008,71.523,67.378,64.134,74.63,69.582,75.02,71.918,70.19],\"yaxis\":\"y\"},{\"hovertemplate\":\"<b>%{hovertext}</b><br><br>continent=Oceania<br>year=1987<br>gdpPercap=%{x}<br>lifeExp=%{y}<br>pop=%{marker.size}<extra></extra>\",\"hovertext\":[\"Australia\",\"New Zealand\"],\"legendgroup\":\"Oceania\",\"marker\":{\"color\":\"#FFA15A\",\"size\":[16257249,3317166],\"sizemode\":\"area\",\"sizeref\":366300.86,\"symbol\":\"circle\"},\"mode\":\"markers\",\"name\":\"Oceania\",\"orientation\":\"v\",\"showlegend\":true,\"type\":\"scatter\",\"x\":[21888.889030000002,19007.19129],\"xaxis\":\"x\",\"y\":[76.32,74.32],\"yaxis\":\"y\"}],\"name\":\"1987\"},{\"data\":[{\"hovertemplate\":\"<b>%{hovertext}</b><br><br>continent=Asia<br>year=1992<br>gdpPercap=%{x}<br>lifeExp=%{y}<br>pop=%{marker.size}<extra></extra>\",\"hovertext\":[\"Afghanistan\",\"Bahrain\",\"Bangladesh\",\"Cambodia\",\"China\",\"Hong Kong, China\",\"India\",\"Indonesia\",\"Iran\",\"Iraq\",\"Israel\",\"Japan\",\"Jordan\",\"Korea, Dem. Rep.\",\"Korea, Rep.\",\"Kuwait\",\"Lebanon\",\"Malaysia\",\"Mongolia\",\"Myanmar\",\"Nepal\",\"Oman\",\"Pakistan\",\"Philippines\",\"Saudi Arabia\",\"Singapore\",\"Sri Lanka\",\"Syria\",\"Taiwan\",\"Thailand\",\"Vietnam\",\"West Bank and Gaza\",\"Yemen, Rep.\"],\"legendgroup\":\"Asia\",\"marker\":{\"color\":\"#636efa\",\"size\":[16317921,529491,113704579,10150094,1164970000,5829696,872000000,184816000,60397973,17861905,4936550,124329269,3867409,20711375,43805450,1418095,3219994,18319502,2312802,40546538,20326209,1915208,120065004,67185766,16945857,3235865,17587060,13219062,20686918,56667095,69940728,2104779,13367997],\"sizemode\":\"area\",\"sizeref\":366300.86,\"symbol\":\"circle\"},\"mode\":\"markers\",\"name\":\"Asia\",\"orientation\":\"v\",\"showlegend\":true,\"type\":\"scatter\",\"x\":[649.3413952000002,19035.579169999997,837.8101642999999,682.3031755,1655.784158,24757.60301,1164.406809,2383.140898,7235.6531879999975,3745.6406869999996,18051.52254,26824.895109999998,3431.5936469999997,3726.063507,12104.27872,34932.91959,6890.806854,7277.912802,1785.402016,347.0,897.7403604,18616.70691,1971.8294640000001,2279.324017000001,24841.617769999997,24769.8912,2153.7392219999997,3340.542768,15215.6579,4616.896545000001,989.0231487,6017.654756,1879.496673],\"xaxis\":\"x\",\"y\":[41.674,72.601,56.018,55.803000000000004,68.69,77.601,60.223,62.681000000000004,65.742,59.46100000000001,76.93,79.36,68.015,69.97800000000001,72.244,75.19,69.292,70.693,61.271,59.32,55.727,71.197,60.838,66.458,68.768,75.788,70.37899999999998,69.249,74.26,67.298,67.66199999999999,69.718,55.599],\"yaxis\":\"y\"},{\"hovertemplate\":\"<b>%{hovertext}</b><br><br>continent=Europe<br>year=1992<br>gdpPercap=%{x}<br>lifeExp=%{y}<br>pop=%{marker.size}<extra></extra>\",\"hovertext\":[\"Albania\",\"Austria\",\"Belgium\",\"Bosnia and Herzegovina\",\"Bulgaria\",\"Croatia\",\"Czech Republic\",\"Denmark\",\"Finland\",\"France\",\"Germany\",\"Greece\",\"Hungary\",\"Iceland\",\"Ireland\",\"Italy\",\"Montenegro\",\"Netherlands\",\"Norway\",\"Poland\",\"Portugal\",\"Romania\",\"Serbia\",\"Slovak Republic\",\"Slovenia\",\"Spain\",\"Sweden\",\"Switzerland\",\"Turkey\",\"United Kingdom\"],\"legendgroup\":\"Europe\",\"marker\":{\"color\":\"#EF553B\",\"size\":[3326498,7914969,10045622,4256013,8658506,4494013,10315702,5171393,5041039,57374179,80597764,10325429,10348684,259012,3557761,56840847,621621,15174244,4286357,38370697,9927680,22797027,9826397,5302888,1999210,39549438,8718867,6995447,58179144,57866349],\"sizemode\":\"area\",\"sizeref\":366300.86,\"symbol\":\"circle\"},\"mode\":\"markers\",\"name\":\"Europe\",\"orientation\":\"v\",\"showlegend\":true,\"type\":\"scatter\",\"x\":[2497.4379010000002,27042.01868,25575.57069,2546.781445,6302.623438000001,8447.794873,14297.021219999999,26406.73985,20647.16499,24703.79615,26505.30317,17541.49634,10535.62855,25144.39201,17558.81555,22013.64486,7003.3390370000025,26790.94961,33965.66115,7738.881247,16207.266630000002,6598.409903,9325.068238,9498.467723,14214.71681,18603.06452,23880.01683,31871.5303,5678.348271,22705.09254],\"xaxis\":\"x\",\"y\":[71.581,76.04,76.46,72.178,71.19,72.527,72.4,75.33,75.7,77.46,76.07,77.03,69.17,78.77,75.467,77.44,75.435,77.42,77.32,70.99,74.86,69.36,71.65899999999998,71.38,73.64,77.57,78.16,78.03,66.146,76.42],\"yaxis\":\"y\"},{\"hovertemplate\":\"<b>%{hovertext}</b><br><br>continent=Africa<br>year=1992<br>gdpPercap=%{x}<br>lifeExp=%{y}<br>pop=%{marker.size}<extra></extra>\",\"hovertext\":[\"Algeria\",\"Angola\",\"Benin\",\"Botswana\",\"Burkina Faso\",\"Burundi\",\"Cameroon\",\"Central African Republic\",\"Chad\",\"Comoros\",\"Congo, Dem. Rep.\",\"Congo, Rep.\",\"Cote d'Ivoire\",\"Djibouti\",\"Egypt\",\"Equatorial Guinea\",\"Eritrea\",\"Ethiopia\",\"Gabon\",\"Gambia\",\"Ghana\",\"Guinea\",\"Guinea-Bissau\",\"Kenya\",\"Lesotho\",\"Liberia\",\"Libya\",\"Madagascar\",\"Malawi\",\"Mali\",\"Mauritania\",\"Mauritius\",\"Morocco\",\"Mozambique\",\"Namibia\",\"Niger\",\"Nigeria\",\"Reunion\",\"Rwanda\",\"Sao Tome and Principe\",\"Senegal\",\"Sierra Leone\",\"Somalia\",\"South Africa\",\"Sudan\",\"Swaziland\",\"Tanzania\",\"Togo\",\"Tunisia\",\"Uganda\",\"Zambia\",\"Zimbabwe\"],\"legendgroup\":\"Africa\",\"marker\":{\"color\":\"#00cc96\",\"size\":[26298373,8735988,4981671,1342614,8878303,5809236,12467171,3265124,6429417,454429,41672143,2409073,12772596,384156,59402198,387838,3668440,52088559,985739,1025384,16278738,6990574,1050938,25020539,1803195,1912974,4364501,12210395,10014249,8416215,2119465,1096202,25798239,13160731,1554253,8392818,93364244,622191,7290203,125911,8307920,4260884,6099799,39964159,28227588,962344,26605473,3747553,8523077,18252190,8381163,10704340],\"sizemode\":\"area\",\"sizeref\":366300.86,\"symbol\":\"circle\"},\"mode\":\"markers\",\"name\":\"Africa\",\"orientation\":\"v\",\"showlegend\":true,\"type\":\"scatter\",\"x\":[5023.216647,2627.8456850000002,1191.207681,7954.111645,931.7527731,631.6998778,1793.1632780000002,747.9055252,1058.0643,1246.90737,457.7191807,4016.239529,1648.073791,2377.156192000001,3794.755195,1132.055034,582.8585102000002,421.3534653,13522.157519999999,665.6244126,925.0601539999999,794.3484384,745.5398706,1341.9217210000004,977.4862724999999,636.6229191000001,9640.138501000001,1040.6761900000001,563.2000145,739.014375,1361.369784,6058.253846000001,2948.047252,410.89682389999996,3804.537999,581.182725,1619.848217,6101.2558229999995,737.0685949,1428.777814,1367.899369,1068.696278,926.9602964,7225.069257999998,1492.197043,3553.0224,825.682454,1034.298904,4332.720164,644.1707968999998,1210.884633,693.4207856],\"xaxis\":\"x\",\"y\":[67.744,40.647,53.919,62.745,50.26,44.736000000000004,54.31399999999999,49.396,51.724,57.93899999999999,45.548,56.433,52.044,51.604,63.674,47.545,49.99100000000001,48.091,61.36600000000001,52.644,57.50100000000001,48.576,43.26600000000001,59.285,59.685,40.802,68.755,52.214,49.42,48.38800000000001,58.333,69.745,65.393,44.284,61.998999999999995,47.39100000000001,47.472,73.615,23.599,62.742,58.19600000000001,38.333,39.658,61.88800000000001,53.556000000000004,58.474,50.44,58.06100000000001,70.001,48.825,46.1,60.376999999999995],\"yaxis\":\"y\"},{\"hovertemplate\":\"<b>%{hovertext}</b><br><br>continent=Americas<br>year=1992<br>gdpPercap=%{x}<br>lifeExp=%{y}<br>pop=%{marker.size}<extra></extra>\",\"hovertext\":[\"Argentina\",\"Bolivia\",\"Brazil\",\"Canada\",\"Chile\",\"Colombia\",\"Costa Rica\",\"Cuba\",\"Dominican Republic\",\"Ecuador\",\"El Salvador\",\"Guatemala\",\"Haiti\",\"Honduras\",\"Jamaica\",\"Mexico\",\"Nicaragua\",\"Panama\",\"Paraguay\",\"Peru\",\"Puerto Rico\",\"Trinidad and Tobago\",\"United States\",\"Uruguay\",\"Venezuela\"],\"legendgroup\":\"Americas\",\"marker\":{\"color\":\"#ab63fa\",\"size\":[33958947,6893451,155975974,28523502,13572994,34202721,3173216,10723260,7351181,10748394,5274649,8486949,6326682,5077347,2378618,88111030,4017939,2484997,4483945,22430449,3585176,1183669,256894189,3149262,20265563],\"sizemode\":\"area\",\"sizeref\":366300.86,\"symbol\":\"circle\"},\"mode\":\"markers\",\"name\":\"Americas\",\"orientation\":\"v\",\"showlegend\":true,\"type\":\"scatter\",\"x\":[9308.41871,2961.699694,6950.2830209999975,26342.88426,7596.125964,5444.648617,6160.416317,5592.843963,3044.214214,7103.7025950000025,4444.2317,4439.4508399999995,1456.309517,3081.694603,7404.923685,9472.384295,2170.151724,6618.74305,4196.411078,4446.380924,14641.587109999999,7370.990932,32003.93224,8137.004775,10733.926309999999],\"xaxis\":\"x\",\"y\":[71.868,59.957,67.057,77.95,74.126,68.421,75.71300000000002,74.414,68.457,69.613,66.798,63.37300000000001,55.089,66.399,71.766,71.455,65.843,72.462,68.225,66.458,73.911,69.862,76.09,72.752,71.15],\"yaxis\":\"y\"},{\"hovertemplate\":\"<b>%{hovertext}</b><br><br>continent=Oceania<br>year=1992<br>gdpPercap=%{x}<br>lifeExp=%{y}<br>pop=%{marker.size}<extra></extra>\",\"hovertext\":[\"Australia\",\"New Zealand\"],\"legendgroup\":\"Oceania\",\"marker\":{\"color\":\"#FFA15A\",\"size\":[17481977,3437674],\"sizemode\":\"area\",\"sizeref\":366300.86,\"symbol\":\"circle\"},\"mode\":\"markers\",\"name\":\"Oceania\",\"orientation\":\"v\",\"showlegend\":true,\"type\":\"scatter\",\"x\":[23424.76683,18363.324940000002],\"xaxis\":\"x\",\"y\":[77.56,76.33],\"yaxis\":\"y\"}],\"name\":\"1992\"},{\"data\":[{\"hovertemplate\":\"<b>%{hovertext}</b><br><br>continent=Asia<br>year=1997<br>gdpPercap=%{x}<br>lifeExp=%{y}<br>pop=%{marker.size}<extra></extra>\",\"hovertext\":[\"Afghanistan\",\"Bahrain\",\"Bangladesh\",\"Cambodia\",\"China\",\"Hong Kong, China\",\"India\",\"Indonesia\",\"Iran\",\"Iraq\",\"Israel\",\"Japan\",\"Jordan\",\"Korea, Dem. Rep.\",\"Korea, Rep.\",\"Kuwait\",\"Lebanon\",\"Malaysia\",\"Mongolia\",\"Myanmar\",\"Nepal\",\"Oman\",\"Pakistan\",\"Philippines\",\"Saudi Arabia\",\"Singapore\",\"Sri Lanka\",\"Syria\",\"Taiwan\",\"Thailand\",\"Vietnam\",\"West Bank and Gaza\",\"Yemen, Rep.\"],\"legendgroup\":\"Asia\",\"marker\":{\"color\":\"#636efa\",\"size\":[22227415,598561,123315288,11782962,1230075000,6495918,959000000,199278000,63327987,20775703,5531387,125956499,4526235,21585105,46173816,1765345,3430388,20476091,2494803,43247867,23001113,2283635,135564834,75012988,21229759,3802309,18698655,15081016,21628605,60216677,76048996,2826046,15826497],\"sizemode\":\"area\",\"sizeref\":366300.86,\"symbol\":\"circle\"},\"mode\":\"markers\",\"name\":\"Asia\",\"orientation\":\"v\",\"showlegend\":true,\"type\":\"scatter\",\"x\":[635.341351,20292.01679,972.7700352,734.28517,2289.234136,28377.632189999997,1458.817442,3119.335603,8263.590301,3076.239795,20896.60924,28816.58499,3645.379572,1690.756814,15993.52796,40300.61996,8754.96385,10132.90964,1902.2521,415.0,1010.892138,19702.055809999998,2049.3505210000008,2536.534925,20586.69019,33519.4766,2664.477257,4014.238972,20206.82098,5852.625497,1385.896769,7110.667619,2117.484526],\"xaxis\":\"x\",\"y\":[41.76300000000001,73.925,59.412,56.534,70.426,80.0,61.765,66.041,68.042,58.81100000000001,78.26899999999998,80.69,69.77199999999999,67.727,74.64699999999998,76.156,70.265,71.938,63.625,60.328,59.426,72.499,61.81800000000001,68.564,70.533,77.158,70.457,71.527,75.25,67.521,70.672,71.096,58.02],\"yaxis\":\"y\"},{\"hovertemplate\":\"<b>%{hovertext}</b><br><br>continent=Europe<br>year=1997<br>gdpPercap=%{x}<br>lifeExp=%{y}<br>pop=%{marker.size}<extra></extra>\",\"hovertext\":[\"Albania\",\"Austria\",\"Belgium\",\"Bosnia and Herzegovina\",\"Bulgaria\",\"Croatia\",\"Czech Republic\",\"Denmark\",\"Finland\",\"France\",\"Germany\",\"Greece\",\"Hungary\",\"Iceland\",\"Ireland\",\"Italy\",\"Montenegro\",\"Netherlands\",\"Norway\",\"Poland\",\"Portugal\",\"Romania\",\"Serbia\",\"Slovak Republic\",\"Slovenia\",\"Spain\",\"Sweden\",\"Switzerland\",\"Turkey\",\"United Kingdom\"],\"legendgroup\":\"Europe\",\"marker\":{\"color\":\"#EF553B\",\"size\":[3428038,8069876,10199787,3607000,8066057,4444595,10300707,5283663,5134406,58623428,82011073,10502372,10244684,271192,3667233,57479469,692651,15604464,4405672,38654957,10156415,22562458,10336594,5383010,2011612,39855442,8897619,7193761,63047647,58808266],\"sizemode\":\"area\",\"sizeref\":366300.86,\"symbol\":\"circle\"},\"mode\":\"markers\",\"name\":\"Europe\",\"orientation\":\"v\",\"showlegend\":true,\"type\":\"scatter\",\"x\":[3193.054604,29095.920660000003,27561.196630000002,4766.355904,5970.38876,9875.604515,16048.51424,29804.34567,23723.9502,25889.78487,27788.88416,18747.69814,11712.7768,28061.099660000003,24521.94713,24675.02446,6465.613349,30246.13063,41283.16433,10159.58368,17641.03156,7346.547556999999,7914.320304000003,12126.23065,17161.10735,20445.29896,25266.59499,32135.323010000004,6601.429915,26074.53136],\"xaxis\":\"x\",\"y\":[72.95,77.51,77.53,73.244,70.32,73.68,74.01,76.11,77.13,78.64,77.34,77.869,71.04,78.95,76.122,78.82,75.445,78.03,78.32,72.75,75.97,69.72,72.232,72.71,75.13,78.77,79.39,79.37,68.835,77.218],\"yaxis\":\"y\"},{\"hovertemplate\":\"<b>%{hovertext}</b><br><br>continent=Africa<br>year=1997<br>gdpPercap=%{x}<br>lifeExp=%{y}<br>pop=%{marker.size}<extra></extra>\",\"hovertext\":[\"Algeria\",\"Angola\",\"Benin\",\"Botswana\",\"Burkina Faso\",\"Burundi\",\"Cameroon\",\"Central African Republic\",\"Chad\",\"Comoros\",\"Congo, Dem. Rep.\",\"Congo, Rep.\",\"Cote d'Ivoire\",\"Djibouti\",\"Egypt\",\"Equatorial Guinea\",\"Eritrea\",\"Ethiopia\",\"Gabon\",\"Gambia\",\"Ghana\",\"Guinea\",\"Guinea-Bissau\",\"Kenya\",\"Lesotho\",\"Liberia\",\"Libya\",\"Madagascar\",\"Malawi\",\"Mali\",\"Mauritania\",\"Mauritius\",\"Morocco\",\"Mozambique\",\"Namibia\",\"Niger\",\"Nigeria\",\"Reunion\",\"Rwanda\",\"Sao Tome and Principe\",\"Senegal\",\"Sierra Leone\",\"Somalia\",\"South Africa\",\"Sudan\",\"Swaziland\",\"Tanzania\",\"Togo\",\"Tunisia\",\"Uganda\",\"Zambia\",\"Zimbabwe\"],\"legendgroup\":\"Africa\",\"marker\":{\"color\":\"#00cc96\",\"size\":[29072015,9875024,6066080,1536536,10352843,6121610,14195809,3696513,7562011,527982,47798986,2800947,14625967,417908,66134291,439971,4058319,59861301,1126189,1235767,18418288,8048834,1193708,28263827,1982823,2200725,4759670,14165114,10419991,9384984,2444741,1149818,28529501,16603334,1774766,9666252,106207839,684810,7212583,145608,9535314,4578212,6633514,42835005,32160729,1054486,30686889,4320890,9231669,21210254,9417789,11404948],\"sizemode\":\"area\",\"sizeref\":366300.86,\"symbol\":\"circle\"},\"mode\":\"markers\",\"name\":\"Africa\",\"orientation\":\"v\",\"showlegend\":true,\"type\":\"scatter\",\"x\":[4797.295051,2277.140884,1232.975292,8647.142313,946.2949617999999,463.1151478,1694.337469,740.5063317,1004.9613529999999,1173.618235,312.188423,3484.1643759999997,1786.265407,1895.016984,4173.181797,2814.480755,913.4707900000001,515.8894013,14722.841880000002,653.7301704,1005.2458119999999,869.4497667999997,796.6644681,1360.4850210000004,1186.147994,609.1739508,9467.446056,986.2958956,692.2758102999999,790.2579846,1483.1361359999999,7425.7052950000025,2982.101858,472.34607710000006,3899.52426,580.3052092,1624.941275,6071.941411,589.9445051,1339.076036,1392.368347,574.6481576,930.5964284,7479.188244,1632.2107640000006,3876.7684600000002,789.1862231,982.2869242999999,4876.798614,816.559081,1071.353818,792.4499602999997],\"xaxis\":\"x\",\"y\":[69.152,40.963,54.777,52.556000000000004,50.324,45.326,52.199,46.066,51.573,60.66,42.586999999999996,52.961999999999996,47.99100000000001,53.157,67.217,48.245,53.378,49.402,60.46100000000001,55.861000000000004,58.556000000000004,51.455,44.87300000000001,54.407,55.558,42.221000000000004,71.555,54.978,47.495,49.903,60.43,70.736,67.66,46.343999999999994,58.909,51.313,47.464,74.77199999999998,36.086999999999996,63.306000000000004,60.187,39.897,43.795,60.236000000000004,55.37300000000001,54.288999999999994,48.466,58.39,71.973,44.578,40.238,46.809],\"yaxis\":\"y\"},{\"hovertemplate\":\"<b>%{hovertext}</b><br><br>continent=Americas<br>year=1997<br>gdpPercap=%{x}<br>lifeExp=%{y}<br>pop=%{marker.size}<extra></extra>\",\"hovertext\":[\"Argentina\",\"Bolivia\",\"Brazil\",\"Canada\",\"Chile\",\"Colombia\",\"Costa Rica\",\"Cuba\",\"Dominican Republic\",\"Ecuador\",\"El Salvador\",\"Guatemala\",\"Haiti\",\"Honduras\",\"Jamaica\",\"Mexico\",\"Nicaragua\",\"Panama\",\"Paraguay\",\"Peru\",\"Puerto Rico\",\"Trinidad and Tobago\",\"United States\",\"Uruguay\",\"Venezuela\"],\"legendgroup\":\"Americas\",\"marker\":{\"color\":\"#ab63fa\",\"size\":[36203463,7693188,168546719,30305843,14599929,37657830,3518107,10983007,7992357,11911819,5783439,9803875,6913545,5867957,2531311,95895146,4609572,2734531,5154123,24748122,3759430,1138101,272911760,3262838,22374398],\"sizemode\":\"area\",\"sizeref\":366300.86,\"symbol\":\"circle\"},\"mode\":\"markers\",\"name\":\"Americas\",\"orientation\":\"v\",\"showlegend\":true,\"type\":\"scatter\",\"x\":[10967.28195,3326.143191,7957.9808239999975,28954.92589,10118.053179999999,6117.361746000001,6677.045314,5431.990415,3614.101285,7429.455876999998,5154.825496,4684.313807,1341.7269310000001,3160.454906,7121.924704000001,9767.29753,2253.023004,7113.692252,4247.400261,5838.347657,16999.4333,8792.573126000001,35767.43303,9230.240708,10165.49518],\"xaxis\":\"x\",\"y\":[73.275,62.05,69.388,78.61,75.816,70.313,77.26,76.15100000000002,69.957,72.312,69.535,66.322,56.67100000000001,67.65899999999999,72.262,73.67,68.426,73.738,69.4,68.38600000000001,74.917,69.465,76.81,74.223,72.146],\"yaxis\":\"y\"},{\"hovertemplate\":\"<b>%{hovertext}</b><br><br>continent=Oceania<br>year=1997<br>gdpPercap=%{x}<br>lifeExp=%{y}<br>pop=%{marker.size}<extra></extra>\",\"hovertext\":[\"Australia\",\"New Zealand\"],\"legendgroup\":\"Oceania\",\"marker\":{\"color\":\"#FFA15A\",\"size\":[18565243,3676187],\"sizemode\":\"area\",\"sizeref\":366300.86,\"symbol\":\"circle\"},\"mode\":\"markers\",\"name\":\"Oceania\",\"orientation\":\"v\",\"showlegend\":true,\"type\":\"scatter\",\"x\":[26997.936569999998,21050.41377],\"xaxis\":\"x\",\"y\":[78.83,77.55],\"yaxis\":\"y\"}],\"name\":\"1997\"},{\"data\":[{\"hovertemplate\":\"<b>%{hovertext}</b><br><br>continent=Asia<br>year=2002<br>gdpPercap=%{x}<br>lifeExp=%{y}<br>pop=%{marker.size}<extra></extra>\",\"hovertext\":[\"Afghanistan\",\"Bahrain\",\"Bangladesh\",\"Cambodia\",\"China\",\"Hong Kong, China\",\"India\",\"Indonesia\",\"Iran\",\"Iraq\",\"Israel\",\"Japan\",\"Jordan\",\"Korea, Dem. Rep.\",\"Korea, Rep.\",\"Kuwait\",\"Lebanon\",\"Malaysia\",\"Mongolia\",\"Myanmar\",\"Nepal\",\"Oman\",\"Pakistan\",\"Philippines\",\"Saudi Arabia\",\"Singapore\",\"Sri Lanka\",\"Syria\",\"Taiwan\",\"Thailand\",\"Vietnam\",\"West Bank and Gaza\",\"Yemen, Rep.\"],\"legendgroup\":\"Asia\",\"marker\":{\"color\":\"#636efa\",\"size\":[25268405,656397,135656790,12926707,1280400000,6762476,1034172547,211060000,66907826,24001816,6029529,127065841,5307470,22215365,47969150,2111561,3677780,22662365,2674234,45598081,25873917,2713462,153403524,82995088,24501530,4197776,19576783,17155814,22454239,62806748,80908147,3389578,18701257],\"sizemode\":\"area\",\"sizeref\":366300.86,\"symbol\":\"circle\"},\"mode\":\"markers\",\"name\":\"Asia\",\"orientation\":\"v\",\"showlegend\":true,\"type\":\"scatter\",\"x\":[726.7340548,23403.559269999998,1136.3904300000004,896.2260152999999,3119.280896,30209.01516000001,1746.769454,2873.91287,9240.761975,4390.717312,21905.59514,28604.5919,3844.9171939999997,1646.758151,19233.98818,35110.10566,9313.93883,10206.97794,2140.7393230000002,611.0,1057.206311,19774.83687,2092.712441,2650.921068,19014.54118,36023.1054,3015.3788329999998,4090.9253310000004,23235.42329,5913.187529,1764.456677,4515.487575,2234.820827],\"xaxis\":\"x\",\"y\":[42.129,74.795,62.01300000000001,56.751999999999995,72.028,81.495,62.879,68.58800000000001,69.45100000000001,57.04600000000001,79.696,82.0,71.263,66.66199999999999,77.045,76.904,71.028,73.044,65.033,59.908,61.34,74.193,63.61,70.303,71.626,78.77,70.815,73.053,76.99,68.564,73.017,72.37,60.308],\"yaxis\":\"y\"},{\"hovertemplate\":\"<b>%{hovertext}</b><br><br>continent=Europe<br>year=2002<br>gdpPercap=%{x}<br>lifeExp=%{y}<br>pop=%{marker.size}<extra></extra>\",\"hovertext\":[\"Albania\",\"Austria\",\"Belgium\",\"Bosnia and Herzegovina\",\"Bulgaria\",\"Croatia\",\"Czech Republic\",\"Denmark\",\"Finland\",\"France\",\"Germany\",\"Greece\",\"Hungary\",\"Iceland\",\"Ireland\",\"Italy\",\"Montenegro\",\"Netherlands\",\"Norway\",\"Poland\",\"Portugal\",\"Romania\",\"Serbia\",\"Slovak Republic\",\"Slovenia\",\"Spain\",\"Sweden\",\"Switzerland\",\"Turkey\",\"United Kingdom\"],\"legendgroup\":\"Europe\",\"marker\":{\"color\":\"#EF553B\",\"size\":[3508512,8148312,10311970,4165416,7661799,4481020,10256295,5374693,5193039,59925035,82350671,10603863,10083313,288030,3879155,57926999,720230,16122830,4535591,38625976,10433867,22404337,10111559,5410052,2011497,40152517,8954175,7361757,67308928,59912431],\"sizemode\":\"area\",\"sizeref\":366300.86,\"symbol\":\"circle\"},\"mode\":\"markers\",\"name\":\"Europe\",\"orientation\":\"v\",\"showlegend\":true,\"type\":\"scatter\",\"x\":[4604.211737,32417.607689999997,30485.88375,6018.975239,7696.777725,11628.38895,17596.210219999994,32166.500060000002,28204.59057,28926.032339999998,30035.80198,22514.2548,14843.93556,31163.201960000002,34077.04939,27968.098169999997,6557.194282,33724.75778,44683.97525,12002.23908,19970.90787,7885.360081,7236.075251,13638.778369999998,20660.01936,24835.47166,29341.63093000001,34480.95771,6508.085718,29478.99919],\"xaxis\":\"x\",\"y\":[75.65100000000002,78.98,78.32,74.09,72.14,74.876,75.51,77.18,78.37,79.59,78.67,78.256,72.59,80.5,77.783,80.24,73.98100000000002,78.53,79.05,74.67,77.29,71.322,73.21300000000002,73.8,76.66,79.78,80.04,80.62,70.845,78.471],\"yaxis\":\"y\"},{\"hovertemplate\":\"<b>%{hovertext}</b><br><br>continent=Africa<br>year=2002<br>gdpPercap=%{x}<br>lifeExp=%{y}<br>pop=%{marker.size}<extra></extra>\",\"hovertext\":[\"Algeria\",\"Angola\",\"Benin\",\"Botswana\",\"Burkina Faso\",\"Burundi\",\"Cameroon\",\"Central African Republic\",\"Chad\",\"Comoros\",\"Congo, Dem. Rep.\",\"Congo, Rep.\",\"Cote d'Ivoire\",\"Djibouti\",\"Egypt\",\"Equatorial Guinea\",\"Eritrea\",\"Ethiopia\",\"Gabon\",\"Gambia\",\"Ghana\",\"Guinea\",\"Guinea-Bissau\",\"Kenya\",\"Lesotho\",\"Liberia\",\"Libya\",\"Madagascar\",\"Malawi\",\"Mali\",\"Mauritania\",\"Mauritius\",\"Morocco\",\"Mozambique\",\"Namibia\",\"Niger\",\"Nigeria\",\"Reunion\",\"Rwanda\",\"Sao Tome and Principe\",\"Senegal\",\"Sierra Leone\",\"Somalia\",\"South Africa\",\"Sudan\",\"Swaziland\",\"Tanzania\",\"Togo\",\"Tunisia\",\"Uganda\",\"Zambia\",\"Zimbabwe\"],\"legendgroup\":\"Africa\",\"marker\":{\"color\":\"#00cc96\",\"size\":[31287142,10866106,7026113,1630347,12251209,7021078,15929988,4048013,8835739,614382,55379852,3328795,16252726,447416,73312559,495627,4414865,67946797,1299304,1457766,20550751,8807818,1332459,31386842,2046772,2814651,5368585,16473477,11824495,10580176,2828858,1200206,31167783,18473780,1972153,11140655,119901274,743981,7852401,170372,10870037,5359092,7753310,44433622,37090298,1130269,34593779,4977378,9770575,24739869,10595811,11926563],\"sizemode\":\"area\",\"sizeref\":366300.86,\"symbol\":\"circle\"},\"mode\":\"markers\",\"name\":\"Africa\",\"orientation\":\"v\",\"showlegend\":true,\"type\":\"scatter\",\"x\":[5288.040382,2773.287312,1372.877931,11003.60508,1037.645221,446.4035126,1934.0114489999999,738.6906068,1156.18186,1075.811558,241.16587650000002,3484.06197,1648.800823,1908.2608670000002,4754.604414,7703.4959,765.3500015,530.0535319,12521.71392,660.5855997,1111.9845779999996,945.5835837000001,575.7047176,1287.514732,1275.184575,531.4823679,9534.677467,894.6370822,665.4231186000002,951.4097517999999,1579.0195429999999,9021.815894,3258.495584,633.6179466,4072.3247509999997,601.0745012,1615.2863949999999,6316.1652,785.6537647999999,1353.09239,1519.635262,699.4897129999997,882.0818218000003,7710.946444,1993.398314,4128.116943,899.0742111,886.2205765000001,5722.8956549999975,927.7210018,1071.6139380000004,672.0386227000001],\"xaxis\":\"x\",\"y\":[70.994,41.003,54.40600000000001,46.63399999999999,50.65,47.36,49.856,43.308,50.525,62.974,44.966,52.97,46.832,53.37300000000001,69.806,49.348,55.24,50.725,56.761,58.041000000000004,58.453,53.676,45.504,50.992,44.593,43.753,72.737,57.286,45.00899999999999,51.81800000000001,62.247,71.954,69.615,44.026,51.479,54.496,46.608000000000004,75.744,43.413000000000004,64.337,61.6,41.012,45.93600000000001,53.365,56.369,43.869,49.651,57.56100000000001,73.042,47.813,39.19300000000001,39.989000000000004],\"yaxis\":\"y\"},{\"hovertemplate\":\"<b>%{hovertext}</b><br><br>continent=Americas<br>year=2002<br>gdpPercap=%{x}<br>lifeExp=%{y}<br>pop=%{marker.size}<extra></extra>\",\"hovertext\":[\"Argentina\",\"Bolivia\",\"Brazil\",\"Canada\",\"Chile\",\"Colombia\",\"Costa Rica\",\"Cuba\",\"Dominican Republic\",\"Ecuador\",\"El Salvador\",\"Guatemala\",\"Haiti\",\"Honduras\",\"Jamaica\",\"Mexico\",\"Nicaragua\",\"Panama\",\"Paraguay\",\"Peru\",\"Puerto Rico\",\"Trinidad and Tobago\",\"United States\",\"Uruguay\",\"Venezuela\"],\"legendgroup\":\"Americas\",\"marker\":{\"color\":\"#ab63fa\",\"size\":[38331121,8445134,179914212,31902268,15497046,41008227,3834934,11226999,8650322,12921234,6353681,11178650,7607651,6677328,2664659,102479927,5146848,2990875,5884491,26769436,3859606,1101832,287675526,3363085,24287670],\"sizemode\":\"area\",\"sizeref\":366300.86,\"symbol\":\"circle\"},\"mode\":\"markers\",\"name\":\"Americas\",\"orientation\":\"v\",\"showlegend\":true,\"type\":\"scatter\",\"x\":[8797.640716,3413.26269,8131.212843000001,33328.96507,10778.78385,5755.259962,7723.4471950000025,6340.646683,4563.808154,5773.0445119999995,5351.568665999999,4858.347495,1270.364932,3099.72866,6994.774861,10742.44053,2474.548819,7356.031934000002,3783.674243,5909.020073,18855.606180000002,11460.60023,39097.09955,7727.002004000001,8605.047831],\"xaxis\":\"x\",\"y\":[74.34,63.883,71.006,79.77,77.86,71.682,78.123,77.158,70.847,74.173,70.734,68.97800000000001,58.137,68.565,72.047,74.902,70.836,74.712,70.755,69.906,77.778,68.976,77.31,75.307,72.766],\"yaxis\":\"y\"},{\"hovertemplate\":\"<b>%{hovertext}</b><br><br>continent=Oceania<br>year=2002<br>gdpPercap=%{x}<br>lifeExp=%{y}<br>pop=%{marker.size}<extra></extra>\",\"hovertext\":[\"Australia\",\"New Zealand\"],\"legendgroup\":\"Oceania\",\"marker\":{\"color\":\"#FFA15A\",\"size\":[19546792,3908037],\"sizemode\":\"area\",\"sizeref\":366300.86,\"symbol\":\"circle\"},\"mode\":\"markers\",\"name\":\"Oceania\",\"orientation\":\"v\",\"showlegend\":true,\"type\":\"scatter\",\"x\":[30687.75473,23189.80135],\"xaxis\":\"x\",\"y\":[80.37,79.11],\"yaxis\":\"y\"}],\"name\":\"2002\"},{\"data\":[{\"hovertemplate\":\"<b>%{hovertext}</b><br><br>continent=Asia<br>year=2007<br>gdpPercap=%{x}<br>lifeExp=%{y}<br>pop=%{marker.size}<extra></extra>\",\"hovertext\":[\"Afghanistan\",\"Bahrain\",\"Bangladesh\",\"Cambodia\",\"China\",\"Hong Kong, China\",\"India\",\"Indonesia\",\"Iran\",\"Iraq\",\"Israel\",\"Japan\",\"Jordan\",\"Korea, Dem. Rep.\",\"Korea, Rep.\",\"Kuwait\",\"Lebanon\",\"Malaysia\",\"Mongolia\",\"Myanmar\",\"Nepal\",\"Oman\",\"Pakistan\",\"Philippines\",\"Saudi Arabia\",\"Singapore\",\"Sri Lanka\",\"Syria\",\"Taiwan\",\"Thailand\",\"Vietnam\",\"West Bank and Gaza\",\"Yemen, Rep.\"],\"legendgroup\":\"Asia\",\"marker\":{\"color\":\"#636efa\",\"size\":[31889923,708573,150448339,14131858,1318683096,6980412,1110396331,223547000,69453570,27499638,6426679,127467972,6053193,23301725,49044790,2505559,3921278,24821286,2874127,47761980,28901790,3204897,169270617,91077287,27601038,4553009,20378239,19314747,23174294,65068149,85262356,4018332,22211743],\"sizemode\":\"area\",\"sizeref\":366300.86,\"symbol\":\"circle\"},\"mode\":\"markers\",\"name\":\"Asia\",\"orientation\":\"v\",\"showlegend\":true,\"type\":\"scatter\",\"x\":[974.5803384,29796.048339999998,1391.253792,1713.7786859999999,4959.1148539999995,39724.97867,2452.210407,3540.6515640000002,11605.71449,4471.061906,25523.2771,31656.06806,4519.461171,1593.06548,23348.13973000001,47306.98978,10461.05868,12451.6558,3095.772271000001,944.0,1091.359778,22316.19287,2605.94758,3190.481016,21654.83194,47143.179639999995,3970.0954070000003,4184.548089,28718.27684,7458.396326999998,2441.576404,3025.349798,2280.769906],\"xaxis\":\"x\",\"y\":[43.828,75.635,64.062,59.723,72.961,82.208,64.69800000000001,70.65,70.964,59.545,80.745,82.603,72.535,67.297,78.623,77.58800000000002,71.993,74.241,66.803,62.068999999999996,63.785,75.64,65.483,71.688,72.777,79.972,72.396,74.143,78.4,70.616,74.249,73.422,62.698],\"yaxis\":\"y\"},{\"hovertemplate\":\"<b>%{hovertext}</b><br><br>continent=Europe<br>year=2007<br>gdpPercap=%{x}<br>lifeExp=%{y}<br>pop=%{marker.size}<extra></extra>\",\"hovertext\":[\"Albania\",\"Austria\",\"Belgium\",\"Bosnia and Herzegovina\",\"Bulgaria\",\"Croatia\",\"Czech Republic\",\"Denmark\",\"Finland\",\"France\",\"Germany\",\"Greece\",\"Hungary\",\"Iceland\",\"Ireland\",\"Italy\",\"Montenegro\",\"Netherlands\",\"Norway\",\"Poland\",\"Portugal\",\"Romania\",\"Serbia\",\"Slovak Republic\",\"Slovenia\",\"Spain\",\"Sweden\",\"Switzerland\",\"Turkey\",\"United Kingdom\"],\"legendgroup\":\"Europe\",\"marker\":{\"color\":\"#EF553B\",\"size\":[3600523,8199783,10392226,4552198,7322858,4493312,10228744,5468120,5238460,61083916,82400996,10706290,9956108,301931,4109086,58147733,684736,16570613,4627926,38518241,10642836,22276056,10150265,5447502,2009245,40448191,9031088,7554661,71158647,60776238],\"sizemode\":\"area\",\"sizeref\":366300.86,\"symbol\":\"circle\"},\"mode\":\"markers\",\"name\":\"Europe\",\"orientation\":\"v\",\"showlegend\":true,\"type\":\"scatter\",\"x\":[5937.0295259999975,36126.4927,33692.60508,7446.298803,10680.79282,14619.222719999998,22833.30851,35278.41874,33207.0844,30470.0167,32170.37442,27538.41188,18008.94444,36180.789189999996,40675.99635,28569.7197,9253.896111,36797.93332,49357.19017,15389.924680000002,20509.64777,10808.47561,9786.534714,18678.31435,25768.25759,28821.0637,33859.74835,37506.419069999996,8458.276384,33203.26128],\"xaxis\":\"x\",\"y\":[76.423,79.829,79.441,74.852,73.005,75.748,76.486,78.332,79.313,80.657,79.406,79.483,73.33800000000002,81.757,78.885,80.546,74.543,79.762,80.196,75.563,78.098,72.476,74.002,74.663,77.926,80.941,80.884,81.70100000000002,71.777,79.425],\"yaxis\":\"y\"},{\"hovertemplate\":\"<b>%{hovertext}</b><br><br>continent=Africa<br>year=2007<br>gdpPercap=%{x}<br>lifeExp=%{y}<br>pop=%{marker.size}<extra></extra>\",\"hovertext\":[\"Algeria\",\"Angola\",\"Benin\",\"Botswana\",\"Burkina Faso\",\"Burundi\",\"Cameroon\",\"Central African Republic\",\"Chad\",\"Comoros\",\"Congo, Dem. Rep.\",\"Congo, Rep.\",\"Cote d'Ivoire\",\"Djibouti\",\"Egypt\",\"Equatorial Guinea\",\"Eritrea\",\"Ethiopia\",\"Gabon\",\"Gambia\",\"Ghana\",\"Guinea\",\"Guinea-Bissau\",\"Kenya\",\"Lesotho\",\"Liberia\",\"Libya\",\"Madagascar\",\"Malawi\",\"Mali\",\"Mauritania\",\"Mauritius\",\"Morocco\",\"Mozambique\",\"Namibia\",\"Niger\",\"Nigeria\",\"Reunion\",\"Rwanda\",\"Sao Tome and Principe\",\"Senegal\",\"Sierra Leone\",\"Somalia\",\"South Africa\",\"Sudan\",\"Swaziland\",\"Tanzania\",\"Togo\",\"Tunisia\",\"Uganda\",\"Zambia\",\"Zimbabwe\"],\"legendgroup\":\"Africa\",\"marker\":{\"color\":\"#00cc96\",\"size\":[33333216,12420476,8078314,1639131,14326203,8390505,17696293,4369038,10238807,710960,64606759,3800610,18013409,496374,80264543,551201,4906585,76511887,1454867,1688359,22873338,9947814,1472041,35610177,2012649,3193942,6036914,19167654,13327079,12031795,3270065,1250882,33757175,19951656,2055080,12894865,135031164,798094,8860588,199579,12267493,6144562,9118773,43997828,42292929,1133066,38139640,5701579,10276158,29170398,11746035,12311143],\"sizemode\":\"area\",\"sizeref\":366300.86,\"symbol\":\"circle\"},\"mode\":\"markers\",\"name\":\"Africa\",\"orientation\":\"v\",\"showlegend\":true,\"type\":\"scatter\",\"x\":[6223.367465,4797.231267,1441.284873,12569.851770000001,1217.032994,430.07069160000003,2042.0952399999999,706.016537,1704.0637239999999,986.1478792000001,277.55185869999997,3632.557798,1544.750112,2082.4815670000007,5581.180998,12154.08975,641.3695236000002,690.8055759,13206.48452,752.7497265,1327.60891,942.6542111,579.2317429999998,1463.249282,1569.331442,414.5073415,12057.49928,1044.770126,759.3499101,1042.581557,1803.1514960000002,10956.99112,3820.17523,823.6856205,4811.060429,619.6768923999998,2013.9773050000001,7670.122558,863.0884639000003,1598.435089,1712.4721359999999,862.5407561000003,926.1410683,9269.657808,2602.394995,4513.480643,1107.482182,882.9699437999999,7092.923025,1056.3801210000001,1271.211593,469.70929810000007],\"xaxis\":\"x\",\"y\":[72.301,42.731,56.728,50.728,52.295,49.58,50.43,44.74100000000001,50.651,65.152,46.461999999999996,55.321999999999996,48.328,54.791000000000004,71.33800000000002,51.57899999999999,58.04,52.946999999999996,56.735,59.448,60.022,56.007,46.38800000000001,54.11,42.592,45.678000000000004,73.952,59.44300000000001,48.303000000000004,54.467,64.164,72.801,71.164,42.082,52.90600000000001,56.867,46.858999999999995,76.442,46.242,65.528,63.062,42.56800000000001,48.159,49.339,58.556000000000004,39.613,52.516999999999996,58.42,73.923,51.542,42.38399999999999,43.486999999999995],\"yaxis\":\"y\"},{\"hovertemplate\":\"<b>%{hovertext}</b><br><br>continent=Americas<br>year=2007<br>gdpPercap=%{x}<br>lifeExp=%{y}<br>pop=%{marker.size}<extra></extra>\",\"hovertext\":[\"Argentina\",\"Bolivia\",\"Brazil\",\"Canada\",\"Chile\",\"Colombia\",\"Costa Rica\",\"Cuba\",\"Dominican Republic\",\"Ecuador\",\"El Salvador\",\"Guatemala\",\"Haiti\",\"Honduras\",\"Jamaica\",\"Mexico\",\"Nicaragua\",\"Panama\",\"Paraguay\",\"Peru\",\"Puerto Rico\",\"Trinidad and Tobago\",\"United States\",\"Uruguay\",\"Venezuela\"],\"legendgroup\":\"Americas\",\"marker\":{\"color\":\"#ab63fa\",\"size\":[40301927,9119152,190010647,33390141,16284741,44227550,4133884,11416987,9319622,13755680,6939688,12572928,8502814,7483763,2780132,108700891,5675356,3242173,6667147,28674757,3942491,1056608,301139947,3447496,26084662],\"sizemode\":\"area\",\"sizeref\":366300.86,\"symbol\":\"circle\"},\"mode\":\"markers\",\"name\":\"Americas\",\"orientation\":\"v\",\"showlegend\":true,\"type\":\"scatter\",\"x\":[12779.379640000001,3822.1370840000004,9065.800825,36319.235010000004,13171.63885,7006.580419,9645.06142,8948.102923,6025.374752000002,6873.262326000001,5728.353514,5186.050003,1201.637154,3548.330846000001,7320.880262000002,11977.57496,2749.320965,9809.185636,4172.838464,7408.905561,19328.70901,18008.50924,42951.65309,10611.46299,11415.805690000001],\"xaxis\":\"x\",\"y\":[75.32,65.554,72.39,80.653,78.553,72.889,78.782,78.273,72.235,74.994,71.878,70.259,60.916000000000004,70.19800000000001,72.567,76.195,72.899,75.53699999999998,71.752,71.421,78.74600000000002,69.819,78.242,76.384,73.747],\"yaxis\":\"y\"},{\"hovertemplate\":\"<b>%{hovertext}</b><br><br>continent=Oceania<br>year=2007<br>gdpPercap=%{x}<br>lifeExp=%{y}<br>pop=%{marker.size}<extra></extra>\",\"hovertext\":[\"Australia\",\"New Zealand\"],\"legendgroup\":\"Oceania\",\"marker\":{\"color\":\"#FFA15A\",\"size\":[20434176,4115771],\"sizemode\":\"area\",\"sizeref\":366300.86,\"symbol\":\"circle\"},\"mode\":\"markers\",\"name\":\"Oceania\",\"orientation\":\"v\",\"showlegend\":true,\"type\":\"scatter\",\"x\":[34435.367439999995,25185.00911],\"xaxis\":\"x\",\"y\":[81.235,80.204],\"yaxis\":\"y\"}],\"name\":\"2007\"}]);\n",
       "                        }).then(function(){\n",
       "                            \n",
       "var gd = document.getElementById('2d71441c-5572-4083-aef7-3e16e69b0e22');\n",
       "var x = new MutationObserver(function (mutations, observer) {{\n",
       "        var display = window.getComputedStyle(gd).display;\n",
       "        if (!display || display === 'none') {{\n",
       "            console.log([gd, 'removed!']);\n",
       "            Plotly.purge(gd);\n",
       "            observer.disconnect();\n",
       "        }}\n",
       "}});\n",
       "\n",
       "// Listen for the removal of the full notebook cells\n",
       "var notebookContainer = gd.closest('#notebook-container');\n",
       "if (notebookContainer) {{\n",
       "    x.observe(notebookContainer, {childList: true});\n",
       "}}\n",
       "\n",
       "// Listen for the clearing of the current output cell\n",
       "var outputEl = gd.closest('.output');\n",
       "if (outputEl) {{\n",
       "    x.observe(outputEl, {childList: true});\n",
       "}}\n",
       "\n",
       "                        })                };                });            </script>        </div>"
      ]
     },
     "metadata": {},
     "output_type": "display_data"
    }
   ],
   "source": [
    "fig = px.scatter(gapminder, x=\"gdpPercap\", y=\"lifeExp\", \n",
    "                 color=\"continent\", size=\"pop\", size_max=60,\n",
    "                hover_name=\"country\", animation_frame=\"year\",\n",
    "                range_y=(20, 90), log_x=\"True\")\n",
    "fig.show()"
   ]
  },
  {
   "cell_type": "code",
   "execution_count": 116,
   "metadata": {},
   "outputs": [],
   "source": [
    "norway = gapminder.query(\"country=='Norway'\")"
   ]
  },
  {
   "cell_type": "code",
   "execution_count": 118,
   "metadata": {},
   "outputs": [
    {
     "name": "stderr",
     "output_type": "stream",
     "text": [
      "/Users/julie/Library/Python/3.8/lib/python/site-packages/pandas/core/indexing.py:845: SettingWithCopyWarning:\n",
      "\n",
      "\n",
      "A value is trying to be set on a copy of a slice from a DataFrame.\n",
      "Try using .loc[row_indexer,col_indexer] = value instead\n",
      "\n",
      "See the caveats in the documentation: https://pandas.pydata.org/pandas-docs/stable/user_guide/indexing.html#returning-a-view-versus-a-copy\n",
      "\n",
      "/Users/julie/Library/Python/3.8/lib/python/site-packages/pandas/core/indexing.py:966: SettingWithCopyWarning:\n",
      "\n",
      "\n",
      "A value is trying to be set on a copy of a slice from a DataFrame.\n",
      "Try using .loc[row_indexer,col_indexer] = value instead\n",
      "\n",
      "See the caveats in the documentation: https://pandas.pydata.org/pandas-docs/stable/user_guide/indexing.html#returning-a-view-versus-a-copy\n",
      "\n"
     ]
    },
    {
     "data": {
      "text/html": [
       "<div>\n",
       "<style scoped>\n",
       "    .dataframe tbody tr th:only-of-type {\n",
       "        vertical-align: middle;\n",
       "    }\n",
       "\n",
       "    .dataframe tbody tr th {\n",
       "        vertical-align: top;\n",
       "    }\n",
       "\n",
       "    .dataframe thead th {\n",
       "        text-align: right;\n",
       "    }\n",
       "</style>\n",
       "<table border=\"1\" class=\"dataframe\">\n",
       "  <thead>\n",
       "    <tr style=\"text-align: right;\">\n",
       "      <th></th>\n",
       "      <th>country</th>\n",
       "      <th>continent</th>\n",
       "      <th>year</th>\n",
       "      <th>lifeExp</th>\n",
       "      <th>pop</th>\n",
       "      <th>gdpPercap</th>\n",
       "      <th>iso_alpha</th>\n",
       "      <th>iso_num</th>\n",
       "      <th>lifeExp_MA</th>\n",
       "    </tr>\n",
       "  </thead>\n",
       "  <tbody>\n",
       "    <tr>\n",
       "      <th>1140</th>\n",
       "      <td>Norway</td>\n",
       "      <td>Europe</td>\n",
       "      <td>1952</td>\n",
       "      <td>72.67</td>\n",
       "      <td>3327728</td>\n",
       "      <td>10095.42172</td>\n",
       "      <td>NOR</td>\n",
       "      <td>578</td>\n",
       "      <td>NaN</td>\n",
       "    </tr>\n",
       "    <tr>\n",
       "      <th>1141</th>\n",
       "      <td>Norway</td>\n",
       "      <td>Europe</td>\n",
       "      <td>1957</td>\n",
       "      <td>73.44</td>\n",
       "      <td>3491938</td>\n",
       "      <td>11653.97304</td>\n",
       "      <td>NOR</td>\n",
       "      <td>578</td>\n",
       "      <td>NaN</td>\n",
       "    </tr>\n",
       "    <tr>\n",
       "      <th>1142</th>\n",
       "      <td>Norway</td>\n",
       "      <td>Europe</td>\n",
       "      <td>1962</td>\n",
       "      <td>73.47</td>\n",
       "      <td>3638919</td>\n",
       "      <td>13450.40151</td>\n",
       "      <td>NOR</td>\n",
       "      <td>578</td>\n",
       "      <td>73.193333</td>\n",
       "    </tr>\n",
       "    <tr>\n",
       "      <th>1143</th>\n",
       "      <td>Norway</td>\n",
       "      <td>Europe</td>\n",
       "      <td>1967</td>\n",
       "      <td>74.08</td>\n",
       "      <td>3786019</td>\n",
       "      <td>16361.87647</td>\n",
       "      <td>NOR</td>\n",
       "      <td>578</td>\n",
       "      <td>73.663333</td>\n",
       "    </tr>\n",
       "    <tr>\n",
       "      <th>1144</th>\n",
       "      <td>Norway</td>\n",
       "      <td>Europe</td>\n",
       "      <td>1972</td>\n",
       "      <td>74.34</td>\n",
       "      <td>3933004</td>\n",
       "      <td>18965.05551</td>\n",
       "      <td>NOR</td>\n",
       "      <td>578</td>\n",
       "      <td>73.963333</td>\n",
       "    </tr>\n",
       "  </tbody>\n",
       "</table>\n",
       "</div>"
      ],
      "text/plain": [
       "     country continent  year  lifeExp      pop    gdpPercap iso_alpha  \\\n",
       "1140  Norway    Europe  1952    72.67  3327728  10095.42172       NOR   \n",
       "1141  Norway    Europe  1957    73.44  3491938  11653.97304       NOR   \n",
       "1142  Norway    Europe  1962    73.47  3638919  13450.40151       NOR   \n",
       "1143  Norway    Europe  1967    74.08  3786019  16361.87647       NOR   \n",
       "1144  Norway    Europe  1972    74.34  3933004  18965.05551       NOR   \n",
       "\n",
       "      iso_num  lifeExp_MA  \n",
       "1140      578         NaN  \n",
       "1141      578         NaN  \n",
       "1142      578   73.193333  \n",
       "1143      578   73.663333  \n",
       "1144      578   73.963333  "
      ]
     },
     "execution_count": 118,
     "metadata": {},
     "output_type": "execute_result"
    }
   ],
   "source": [
    "moving_average = norway[\"lifeExp\"].rolling(window=3).mean().values\n",
    "\n",
    "norway.loc[:, \"lifeExp_MA\"] = moving_average\n",
    "norway.head()"
   ]
  },
  {
   "cell_type": "code",
   "execution_count": 119,
   "metadata": {},
   "outputs": [
    {
     "data": {
      "application/vnd.plotly.v1+json": {
       "config": {
        "plotlyServerURL": "https://plot.ly"
       },
       "data": [
        {
         "hovertemplate": "year=%{x}<br>lifeExp_MA=%{y}<extra></extra>",
         "legendgroup": "",
         "line": {
          "color": "#636efa",
          "dash": "solid"
         },
         "marker": {
          "symbol": "circle"
         },
         "mode": "lines",
         "name": "",
         "orientation": "v",
         "showlegend": false,
         "type": "scatter",
         "x": [
          1952,
          1957,
          1962,
          1967,
          1972,
          1977,
          1982,
          1987,
          1992,
          1997,
          2002,
          2007
         ],
         "xaxis": "x",
         "y": [
          null,
          null,
          73.19333333333334,
          73.66333333333334,
          73.96333333333335,
          74.59666666666668,
          75.22666666666669,
          75.74333333333335,
          76.39333333333336,
          77.17666666666669,
          78.23000000000002,
          79.18866666666669
         ],
         "yaxis": "y"
        }
       ],
       "layout": {
        "legend": {
         "tracegroupgap": 0
        },
        "margin": {
         "t": 60
        },
        "template": {
         "data": {
          "bar": [
           {
            "error_x": {
             "color": "#2a3f5f"
            },
            "error_y": {
             "color": "#2a3f5f"
            },
            "marker": {
             "line": {
              "color": "#E5ECF6",
              "width": 0.5
             },
             "pattern": {
              "fillmode": "overlay",
              "size": 10,
              "solidity": 0.2
             }
            },
            "type": "bar"
           }
          ],
          "barpolar": [
           {
            "marker": {
             "line": {
              "color": "#E5ECF6",
              "width": 0.5
             },
             "pattern": {
              "fillmode": "overlay",
              "size": 10,
              "solidity": 0.2
             }
            },
            "type": "barpolar"
           }
          ],
          "carpet": [
           {
            "aaxis": {
             "endlinecolor": "#2a3f5f",
             "gridcolor": "white",
             "linecolor": "white",
             "minorgridcolor": "white",
             "startlinecolor": "#2a3f5f"
            },
            "baxis": {
             "endlinecolor": "#2a3f5f",
             "gridcolor": "white",
             "linecolor": "white",
             "minorgridcolor": "white",
             "startlinecolor": "#2a3f5f"
            },
            "type": "carpet"
           }
          ],
          "choropleth": [
           {
            "colorbar": {
             "outlinewidth": 0,
             "ticks": ""
            },
            "type": "choropleth"
           }
          ],
          "contour": [
           {
            "colorbar": {
             "outlinewidth": 0,
             "ticks": ""
            },
            "colorscale": [
             [
              0,
              "#0d0887"
             ],
             [
              0.1111111111111111,
              "#46039f"
             ],
             [
              0.2222222222222222,
              "#7201a8"
             ],
             [
              0.3333333333333333,
              "#9c179e"
             ],
             [
              0.4444444444444444,
              "#bd3786"
             ],
             [
              0.5555555555555556,
              "#d8576b"
             ],
             [
              0.6666666666666666,
              "#ed7953"
             ],
             [
              0.7777777777777778,
              "#fb9f3a"
             ],
             [
              0.8888888888888888,
              "#fdca26"
             ],
             [
              1,
              "#f0f921"
             ]
            ],
            "type": "contour"
           }
          ],
          "contourcarpet": [
           {
            "colorbar": {
             "outlinewidth": 0,
             "ticks": ""
            },
            "type": "contourcarpet"
           }
          ],
          "heatmap": [
           {
            "colorbar": {
             "outlinewidth": 0,
             "ticks": ""
            },
            "colorscale": [
             [
              0,
              "#0d0887"
             ],
             [
              0.1111111111111111,
              "#46039f"
             ],
             [
              0.2222222222222222,
              "#7201a8"
             ],
             [
              0.3333333333333333,
              "#9c179e"
             ],
             [
              0.4444444444444444,
              "#bd3786"
             ],
             [
              0.5555555555555556,
              "#d8576b"
             ],
             [
              0.6666666666666666,
              "#ed7953"
             ],
             [
              0.7777777777777778,
              "#fb9f3a"
             ],
             [
              0.8888888888888888,
              "#fdca26"
             ],
             [
              1,
              "#f0f921"
             ]
            ],
            "type": "heatmap"
           }
          ],
          "heatmapgl": [
           {
            "colorbar": {
             "outlinewidth": 0,
             "ticks": ""
            },
            "colorscale": [
             [
              0,
              "#0d0887"
             ],
             [
              0.1111111111111111,
              "#46039f"
             ],
             [
              0.2222222222222222,
              "#7201a8"
             ],
             [
              0.3333333333333333,
              "#9c179e"
             ],
             [
              0.4444444444444444,
              "#bd3786"
             ],
             [
              0.5555555555555556,
              "#d8576b"
             ],
             [
              0.6666666666666666,
              "#ed7953"
             ],
             [
              0.7777777777777778,
              "#fb9f3a"
             ],
             [
              0.8888888888888888,
              "#fdca26"
             ],
             [
              1,
              "#f0f921"
             ]
            ],
            "type": "heatmapgl"
           }
          ],
          "histogram": [
           {
            "marker": {
             "pattern": {
              "fillmode": "overlay",
              "size": 10,
              "solidity": 0.2
             }
            },
            "type": "histogram"
           }
          ],
          "histogram2d": [
           {
            "colorbar": {
             "outlinewidth": 0,
             "ticks": ""
            },
            "colorscale": [
             [
              0,
              "#0d0887"
             ],
             [
              0.1111111111111111,
              "#46039f"
             ],
             [
              0.2222222222222222,
              "#7201a8"
             ],
             [
              0.3333333333333333,
              "#9c179e"
             ],
             [
              0.4444444444444444,
              "#bd3786"
             ],
             [
              0.5555555555555556,
              "#d8576b"
             ],
             [
              0.6666666666666666,
              "#ed7953"
             ],
             [
              0.7777777777777778,
              "#fb9f3a"
             ],
             [
              0.8888888888888888,
              "#fdca26"
             ],
             [
              1,
              "#f0f921"
             ]
            ],
            "type": "histogram2d"
           }
          ],
          "histogram2dcontour": [
           {
            "colorbar": {
             "outlinewidth": 0,
             "ticks": ""
            },
            "colorscale": [
             [
              0,
              "#0d0887"
             ],
             [
              0.1111111111111111,
              "#46039f"
             ],
             [
              0.2222222222222222,
              "#7201a8"
             ],
             [
              0.3333333333333333,
              "#9c179e"
             ],
             [
              0.4444444444444444,
              "#bd3786"
             ],
             [
              0.5555555555555556,
              "#d8576b"
             ],
             [
              0.6666666666666666,
              "#ed7953"
             ],
             [
              0.7777777777777778,
              "#fb9f3a"
             ],
             [
              0.8888888888888888,
              "#fdca26"
             ],
             [
              1,
              "#f0f921"
             ]
            ],
            "type": "histogram2dcontour"
           }
          ],
          "mesh3d": [
           {
            "colorbar": {
             "outlinewidth": 0,
             "ticks": ""
            },
            "type": "mesh3d"
           }
          ],
          "parcoords": [
           {
            "line": {
             "colorbar": {
              "outlinewidth": 0,
              "ticks": ""
             }
            },
            "type": "parcoords"
           }
          ],
          "pie": [
           {
            "automargin": true,
            "type": "pie"
           }
          ],
          "scatter": [
           {
            "marker": {
             "colorbar": {
              "outlinewidth": 0,
              "ticks": ""
             }
            },
            "type": "scatter"
           }
          ],
          "scatter3d": [
           {
            "line": {
             "colorbar": {
              "outlinewidth": 0,
              "ticks": ""
             }
            },
            "marker": {
             "colorbar": {
              "outlinewidth": 0,
              "ticks": ""
             }
            },
            "type": "scatter3d"
           }
          ],
          "scattercarpet": [
           {
            "marker": {
             "colorbar": {
              "outlinewidth": 0,
              "ticks": ""
             }
            },
            "type": "scattercarpet"
           }
          ],
          "scattergeo": [
           {
            "marker": {
             "colorbar": {
              "outlinewidth": 0,
              "ticks": ""
             }
            },
            "type": "scattergeo"
           }
          ],
          "scattergl": [
           {
            "marker": {
             "colorbar": {
              "outlinewidth": 0,
              "ticks": ""
             }
            },
            "type": "scattergl"
           }
          ],
          "scattermapbox": [
           {
            "marker": {
             "colorbar": {
              "outlinewidth": 0,
              "ticks": ""
             }
            },
            "type": "scattermapbox"
           }
          ],
          "scatterpolar": [
           {
            "marker": {
             "colorbar": {
              "outlinewidth": 0,
              "ticks": ""
             }
            },
            "type": "scatterpolar"
           }
          ],
          "scatterpolargl": [
           {
            "marker": {
             "colorbar": {
              "outlinewidth": 0,
              "ticks": ""
             }
            },
            "type": "scatterpolargl"
           }
          ],
          "scatterternary": [
           {
            "marker": {
             "colorbar": {
              "outlinewidth": 0,
              "ticks": ""
             }
            },
            "type": "scatterternary"
           }
          ],
          "surface": [
           {
            "colorbar": {
             "outlinewidth": 0,
             "ticks": ""
            },
            "colorscale": [
             [
              0,
              "#0d0887"
             ],
             [
              0.1111111111111111,
              "#46039f"
             ],
             [
              0.2222222222222222,
              "#7201a8"
             ],
             [
              0.3333333333333333,
              "#9c179e"
             ],
             [
              0.4444444444444444,
              "#bd3786"
             ],
             [
              0.5555555555555556,
              "#d8576b"
             ],
             [
              0.6666666666666666,
              "#ed7953"
             ],
             [
              0.7777777777777778,
              "#fb9f3a"
             ],
             [
              0.8888888888888888,
              "#fdca26"
             ],
             [
              1,
              "#f0f921"
             ]
            ],
            "type": "surface"
           }
          ],
          "table": [
           {
            "cells": {
             "fill": {
              "color": "#EBF0F8"
             },
             "line": {
              "color": "white"
             }
            },
            "header": {
             "fill": {
              "color": "#C8D4E3"
             },
             "line": {
              "color": "white"
             }
            },
            "type": "table"
           }
          ]
         },
         "layout": {
          "annotationdefaults": {
           "arrowcolor": "#2a3f5f",
           "arrowhead": 0,
           "arrowwidth": 1
          },
          "autotypenumbers": "strict",
          "coloraxis": {
           "colorbar": {
            "outlinewidth": 0,
            "ticks": ""
           }
          },
          "colorscale": {
           "diverging": [
            [
             0,
             "#8e0152"
            ],
            [
             0.1,
             "#c51b7d"
            ],
            [
             0.2,
             "#de77ae"
            ],
            [
             0.3,
             "#f1b6da"
            ],
            [
             0.4,
             "#fde0ef"
            ],
            [
             0.5,
             "#f7f7f7"
            ],
            [
             0.6,
             "#e6f5d0"
            ],
            [
             0.7,
             "#b8e186"
            ],
            [
             0.8,
             "#7fbc41"
            ],
            [
             0.9,
             "#4d9221"
            ],
            [
             1,
             "#276419"
            ]
           ],
           "sequential": [
            [
             0,
             "#0d0887"
            ],
            [
             0.1111111111111111,
             "#46039f"
            ],
            [
             0.2222222222222222,
             "#7201a8"
            ],
            [
             0.3333333333333333,
             "#9c179e"
            ],
            [
             0.4444444444444444,
             "#bd3786"
            ],
            [
             0.5555555555555556,
             "#d8576b"
            ],
            [
             0.6666666666666666,
             "#ed7953"
            ],
            [
             0.7777777777777778,
             "#fb9f3a"
            ],
            [
             0.8888888888888888,
             "#fdca26"
            ],
            [
             1,
             "#f0f921"
            ]
           ],
           "sequentialminus": [
            [
             0,
             "#0d0887"
            ],
            [
             0.1111111111111111,
             "#46039f"
            ],
            [
             0.2222222222222222,
             "#7201a8"
            ],
            [
             0.3333333333333333,
             "#9c179e"
            ],
            [
             0.4444444444444444,
             "#bd3786"
            ],
            [
             0.5555555555555556,
             "#d8576b"
            ],
            [
             0.6666666666666666,
             "#ed7953"
            ],
            [
             0.7777777777777778,
             "#fb9f3a"
            ],
            [
             0.8888888888888888,
             "#fdca26"
            ],
            [
             1,
             "#f0f921"
            ]
           ]
          },
          "colorway": [
           "#636efa",
           "#EF553B",
           "#00cc96",
           "#ab63fa",
           "#FFA15A",
           "#19d3f3",
           "#FF6692",
           "#B6E880",
           "#FF97FF",
           "#FECB52"
          ],
          "font": {
           "color": "#2a3f5f"
          },
          "geo": {
           "bgcolor": "white",
           "lakecolor": "white",
           "landcolor": "#E5ECF6",
           "showlakes": true,
           "showland": true,
           "subunitcolor": "white"
          },
          "hoverlabel": {
           "align": "left"
          },
          "hovermode": "closest",
          "mapbox": {
           "style": "light"
          },
          "paper_bgcolor": "white",
          "plot_bgcolor": "#E5ECF6",
          "polar": {
           "angularaxis": {
            "gridcolor": "white",
            "linecolor": "white",
            "ticks": ""
           },
           "bgcolor": "#E5ECF6",
           "radialaxis": {
            "gridcolor": "white",
            "linecolor": "white",
            "ticks": ""
           }
          },
          "scene": {
           "xaxis": {
            "backgroundcolor": "#E5ECF6",
            "gridcolor": "white",
            "gridwidth": 2,
            "linecolor": "white",
            "showbackground": true,
            "ticks": "",
            "zerolinecolor": "white"
           },
           "yaxis": {
            "backgroundcolor": "#E5ECF6",
            "gridcolor": "white",
            "gridwidth": 2,
            "linecolor": "white",
            "showbackground": true,
            "ticks": "",
            "zerolinecolor": "white"
           },
           "zaxis": {
            "backgroundcolor": "#E5ECF6",
            "gridcolor": "white",
            "gridwidth": 2,
            "linecolor": "white",
            "showbackground": true,
            "ticks": "",
            "zerolinecolor": "white"
           }
          },
          "shapedefaults": {
           "line": {
            "color": "#2a3f5f"
           }
          },
          "ternary": {
           "aaxis": {
            "gridcolor": "white",
            "linecolor": "white",
            "ticks": ""
           },
           "baxis": {
            "gridcolor": "white",
            "linecolor": "white",
            "ticks": ""
           },
           "bgcolor": "#E5ECF6",
           "caxis": {
            "gridcolor": "white",
            "linecolor": "white",
            "ticks": ""
           }
          },
          "title": {
           "x": 0.05
          },
          "xaxis": {
           "automargin": true,
           "gridcolor": "white",
           "linecolor": "white",
           "ticks": "",
           "title": {
            "standoff": 15
           },
           "zerolinecolor": "white",
           "zerolinewidth": 2
          },
          "yaxis": {
           "automargin": true,
           "gridcolor": "white",
           "linecolor": "white",
           "ticks": "",
           "title": {
            "standoff": 15
           },
           "zerolinecolor": "white",
           "zerolinewidth": 2
          }
         }
        },
        "title": {
         "text": "Plot Title",
         "x": 0.3,
         "xanchor": "center",
         "y": 0.98,
         "yanchor": "top"
        },
        "xaxis": {
         "anchor": "y",
         "domain": [
          0,
          1
         ],
         "title": {
          "text": "year"
         }
        },
        "yaxis": {
         "anchor": "x",
         "domain": [
          0,
          1
         ],
         "title": {
          "text": "lifeExp_MA"
         }
        }
       }
      },
      "text/html": [
       "<div>                            <div id=\"b6094309-020b-46c6-8525-6d6935743283\" class=\"plotly-graph-div\" style=\"height:525px; width:100%;\"></div>            <script type=\"text/javascript\">                require([\"plotly\"], function(Plotly) {                    window.PLOTLYENV=window.PLOTLYENV || {};                                    if (document.getElementById(\"b6094309-020b-46c6-8525-6d6935743283\")) {                    Plotly.newPlot(                        \"b6094309-020b-46c6-8525-6d6935743283\",                        [{\"hovertemplate\":\"year=%{x}<br>lifeExp_MA=%{y}<extra></extra>\",\"legendgroup\":\"\",\"line\":{\"color\":\"#636efa\",\"dash\":\"solid\"},\"marker\":{\"symbol\":\"circle\"},\"mode\":\"lines\",\"name\":\"\",\"orientation\":\"v\",\"showlegend\":false,\"type\":\"scatter\",\"x\":[1952,1957,1962,1967,1972,1977,1982,1987,1992,1997,2002,2007],\"xaxis\":\"x\",\"y\":[null,null,73.19333333333334,73.66333333333334,73.96333333333335,74.59666666666668,75.22666666666669,75.74333333333335,76.39333333333336,77.17666666666669,78.23000000000002,79.18866666666669],\"yaxis\":\"y\"}],                        {\"legend\":{\"tracegroupgap\":0},\"margin\":{\"t\":60},\"template\":{\"data\":{\"bar\":[{\"error_x\":{\"color\":\"#2a3f5f\"},\"error_y\":{\"color\":\"#2a3f5f\"},\"marker\":{\"line\":{\"color\":\"#E5ECF6\",\"width\":0.5},\"pattern\":{\"fillmode\":\"overlay\",\"size\":10,\"solidity\":0.2}},\"type\":\"bar\"}],\"barpolar\":[{\"marker\":{\"line\":{\"color\":\"#E5ECF6\",\"width\":0.5},\"pattern\":{\"fillmode\":\"overlay\",\"size\":10,\"solidity\":0.2}},\"type\":\"barpolar\"}],\"carpet\":[{\"aaxis\":{\"endlinecolor\":\"#2a3f5f\",\"gridcolor\":\"white\",\"linecolor\":\"white\",\"minorgridcolor\":\"white\",\"startlinecolor\":\"#2a3f5f\"},\"baxis\":{\"endlinecolor\":\"#2a3f5f\",\"gridcolor\":\"white\",\"linecolor\":\"white\",\"minorgridcolor\":\"white\",\"startlinecolor\":\"#2a3f5f\"},\"type\":\"carpet\"}],\"choropleth\":[{\"colorbar\":{\"outlinewidth\":0,\"ticks\":\"\"},\"type\":\"choropleth\"}],\"contour\":[{\"colorbar\":{\"outlinewidth\":0,\"ticks\":\"\"},\"colorscale\":[[0.0,\"#0d0887\"],[0.1111111111111111,\"#46039f\"],[0.2222222222222222,\"#7201a8\"],[0.3333333333333333,\"#9c179e\"],[0.4444444444444444,\"#bd3786\"],[0.5555555555555556,\"#d8576b\"],[0.6666666666666666,\"#ed7953\"],[0.7777777777777778,\"#fb9f3a\"],[0.8888888888888888,\"#fdca26\"],[1.0,\"#f0f921\"]],\"type\":\"contour\"}],\"contourcarpet\":[{\"colorbar\":{\"outlinewidth\":0,\"ticks\":\"\"},\"type\":\"contourcarpet\"}],\"heatmap\":[{\"colorbar\":{\"outlinewidth\":0,\"ticks\":\"\"},\"colorscale\":[[0.0,\"#0d0887\"],[0.1111111111111111,\"#46039f\"],[0.2222222222222222,\"#7201a8\"],[0.3333333333333333,\"#9c179e\"],[0.4444444444444444,\"#bd3786\"],[0.5555555555555556,\"#d8576b\"],[0.6666666666666666,\"#ed7953\"],[0.7777777777777778,\"#fb9f3a\"],[0.8888888888888888,\"#fdca26\"],[1.0,\"#f0f921\"]],\"type\":\"heatmap\"}],\"heatmapgl\":[{\"colorbar\":{\"outlinewidth\":0,\"ticks\":\"\"},\"colorscale\":[[0.0,\"#0d0887\"],[0.1111111111111111,\"#46039f\"],[0.2222222222222222,\"#7201a8\"],[0.3333333333333333,\"#9c179e\"],[0.4444444444444444,\"#bd3786\"],[0.5555555555555556,\"#d8576b\"],[0.6666666666666666,\"#ed7953\"],[0.7777777777777778,\"#fb9f3a\"],[0.8888888888888888,\"#fdca26\"],[1.0,\"#f0f921\"]],\"type\":\"heatmapgl\"}],\"histogram\":[{\"marker\":{\"pattern\":{\"fillmode\":\"overlay\",\"size\":10,\"solidity\":0.2}},\"type\":\"histogram\"}],\"histogram2d\":[{\"colorbar\":{\"outlinewidth\":0,\"ticks\":\"\"},\"colorscale\":[[0.0,\"#0d0887\"],[0.1111111111111111,\"#46039f\"],[0.2222222222222222,\"#7201a8\"],[0.3333333333333333,\"#9c179e\"],[0.4444444444444444,\"#bd3786\"],[0.5555555555555556,\"#d8576b\"],[0.6666666666666666,\"#ed7953\"],[0.7777777777777778,\"#fb9f3a\"],[0.8888888888888888,\"#fdca26\"],[1.0,\"#f0f921\"]],\"type\":\"histogram2d\"}],\"histogram2dcontour\":[{\"colorbar\":{\"outlinewidth\":0,\"ticks\":\"\"},\"colorscale\":[[0.0,\"#0d0887\"],[0.1111111111111111,\"#46039f\"],[0.2222222222222222,\"#7201a8\"],[0.3333333333333333,\"#9c179e\"],[0.4444444444444444,\"#bd3786\"],[0.5555555555555556,\"#d8576b\"],[0.6666666666666666,\"#ed7953\"],[0.7777777777777778,\"#fb9f3a\"],[0.8888888888888888,\"#fdca26\"],[1.0,\"#f0f921\"]],\"type\":\"histogram2dcontour\"}],\"mesh3d\":[{\"colorbar\":{\"outlinewidth\":0,\"ticks\":\"\"},\"type\":\"mesh3d\"}],\"parcoords\":[{\"line\":{\"colorbar\":{\"outlinewidth\":0,\"ticks\":\"\"}},\"type\":\"parcoords\"}],\"pie\":[{\"automargin\":true,\"type\":\"pie\"}],\"scatter\":[{\"marker\":{\"colorbar\":{\"outlinewidth\":0,\"ticks\":\"\"}},\"type\":\"scatter\"}],\"scatter3d\":[{\"line\":{\"colorbar\":{\"outlinewidth\":0,\"ticks\":\"\"}},\"marker\":{\"colorbar\":{\"outlinewidth\":0,\"ticks\":\"\"}},\"type\":\"scatter3d\"}],\"scattercarpet\":[{\"marker\":{\"colorbar\":{\"outlinewidth\":0,\"ticks\":\"\"}},\"type\":\"scattercarpet\"}],\"scattergeo\":[{\"marker\":{\"colorbar\":{\"outlinewidth\":0,\"ticks\":\"\"}},\"type\":\"scattergeo\"}],\"scattergl\":[{\"marker\":{\"colorbar\":{\"outlinewidth\":0,\"ticks\":\"\"}},\"type\":\"scattergl\"}],\"scattermapbox\":[{\"marker\":{\"colorbar\":{\"outlinewidth\":0,\"ticks\":\"\"}},\"type\":\"scattermapbox\"}],\"scatterpolar\":[{\"marker\":{\"colorbar\":{\"outlinewidth\":0,\"ticks\":\"\"}},\"type\":\"scatterpolar\"}],\"scatterpolargl\":[{\"marker\":{\"colorbar\":{\"outlinewidth\":0,\"ticks\":\"\"}},\"type\":\"scatterpolargl\"}],\"scatterternary\":[{\"marker\":{\"colorbar\":{\"outlinewidth\":0,\"ticks\":\"\"}},\"type\":\"scatterternary\"}],\"surface\":[{\"colorbar\":{\"outlinewidth\":0,\"ticks\":\"\"},\"colorscale\":[[0.0,\"#0d0887\"],[0.1111111111111111,\"#46039f\"],[0.2222222222222222,\"#7201a8\"],[0.3333333333333333,\"#9c179e\"],[0.4444444444444444,\"#bd3786\"],[0.5555555555555556,\"#d8576b\"],[0.6666666666666666,\"#ed7953\"],[0.7777777777777778,\"#fb9f3a\"],[0.8888888888888888,\"#fdca26\"],[1.0,\"#f0f921\"]],\"type\":\"surface\"}],\"table\":[{\"cells\":{\"fill\":{\"color\":\"#EBF0F8\"},\"line\":{\"color\":\"white\"}},\"header\":{\"fill\":{\"color\":\"#C8D4E3\"},\"line\":{\"color\":\"white\"}},\"type\":\"table\"}]},\"layout\":{\"annotationdefaults\":{\"arrowcolor\":\"#2a3f5f\",\"arrowhead\":0,\"arrowwidth\":1},\"autotypenumbers\":\"strict\",\"coloraxis\":{\"colorbar\":{\"outlinewidth\":0,\"ticks\":\"\"}},\"colorscale\":{\"diverging\":[[0,\"#8e0152\"],[0.1,\"#c51b7d\"],[0.2,\"#de77ae\"],[0.3,\"#f1b6da\"],[0.4,\"#fde0ef\"],[0.5,\"#f7f7f7\"],[0.6,\"#e6f5d0\"],[0.7,\"#b8e186\"],[0.8,\"#7fbc41\"],[0.9,\"#4d9221\"],[1,\"#276419\"]],\"sequential\":[[0.0,\"#0d0887\"],[0.1111111111111111,\"#46039f\"],[0.2222222222222222,\"#7201a8\"],[0.3333333333333333,\"#9c179e\"],[0.4444444444444444,\"#bd3786\"],[0.5555555555555556,\"#d8576b\"],[0.6666666666666666,\"#ed7953\"],[0.7777777777777778,\"#fb9f3a\"],[0.8888888888888888,\"#fdca26\"],[1.0,\"#f0f921\"]],\"sequentialminus\":[[0.0,\"#0d0887\"],[0.1111111111111111,\"#46039f\"],[0.2222222222222222,\"#7201a8\"],[0.3333333333333333,\"#9c179e\"],[0.4444444444444444,\"#bd3786\"],[0.5555555555555556,\"#d8576b\"],[0.6666666666666666,\"#ed7953\"],[0.7777777777777778,\"#fb9f3a\"],[0.8888888888888888,\"#fdca26\"],[1.0,\"#f0f921\"]]},\"colorway\":[\"#636efa\",\"#EF553B\",\"#00cc96\",\"#ab63fa\",\"#FFA15A\",\"#19d3f3\",\"#FF6692\",\"#B6E880\",\"#FF97FF\",\"#FECB52\"],\"font\":{\"color\":\"#2a3f5f\"},\"geo\":{\"bgcolor\":\"white\",\"lakecolor\":\"white\",\"landcolor\":\"#E5ECF6\",\"showlakes\":true,\"showland\":true,\"subunitcolor\":\"white\"},\"hoverlabel\":{\"align\":\"left\"},\"hovermode\":\"closest\",\"mapbox\":{\"style\":\"light\"},\"paper_bgcolor\":\"white\",\"plot_bgcolor\":\"#E5ECF6\",\"polar\":{\"angularaxis\":{\"gridcolor\":\"white\",\"linecolor\":\"white\",\"ticks\":\"\"},\"bgcolor\":\"#E5ECF6\",\"radialaxis\":{\"gridcolor\":\"white\",\"linecolor\":\"white\",\"ticks\":\"\"}},\"scene\":{\"xaxis\":{\"backgroundcolor\":\"#E5ECF6\",\"gridcolor\":\"white\",\"gridwidth\":2,\"linecolor\":\"white\",\"showbackground\":true,\"ticks\":\"\",\"zerolinecolor\":\"white\"},\"yaxis\":{\"backgroundcolor\":\"#E5ECF6\",\"gridcolor\":\"white\",\"gridwidth\":2,\"linecolor\":\"white\",\"showbackground\":true,\"ticks\":\"\",\"zerolinecolor\":\"white\"},\"zaxis\":{\"backgroundcolor\":\"#E5ECF6\",\"gridcolor\":\"white\",\"gridwidth\":2,\"linecolor\":\"white\",\"showbackground\":true,\"ticks\":\"\",\"zerolinecolor\":\"white\"}},\"shapedefaults\":{\"line\":{\"color\":\"#2a3f5f\"}},\"ternary\":{\"aaxis\":{\"gridcolor\":\"white\",\"linecolor\":\"white\",\"ticks\":\"\"},\"baxis\":{\"gridcolor\":\"white\",\"linecolor\":\"white\",\"ticks\":\"\"},\"bgcolor\":\"#E5ECF6\",\"caxis\":{\"gridcolor\":\"white\",\"linecolor\":\"white\",\"ticks\":\"\"}},\"title\":{\"x\":0.05},\"xaxis\":{\"automargin\":true,\"gridcolor\":\"white\",\"linecolor\":\"white\",\"ticks\":\"\",\"title\":{\"standoff\":15},\"zerolinecolor\":\"white\",\"zerolinewidth\":2},\"yaxis\":{\"automargin\":true,\"gridcolor\":\"white\",\"linecolor\":\"white\",\"ticks\":\"\",\"title\":{\"standoff\":15},\"zerolinecolor\":\"white\",\"zerolinewidth\":2}}},\"title\":{\"text\":\"Plot Title\",\"x\":0.3,\"xanchor\":\"center\",\"y\":0.98,\"yanchor\":\"top\"},\"xaxis\":{\"anchor\":\"y\",\"domain\":[0.0,1.0],\"title\":{\"text\":\"year\"}},\"yaxis\":{\"anchor\":\"x\",\"domain\":[0.0,1.0],\"title\":{\"text\":\"lifeExp_MA\"}}},                        {\"responsive\": true}                    ).then(function(){\n",
       "                            \n",
       "var gd = document.getElementById('b6094309-020b-46c6-8525-6d6935743283');\n",
       "var x = new MutationObserver(function (mutations, observer) {{\n",
       "        var display = window.getComputedStyle(gd).display;\n",
       "        if (!display || display === 'none') {{\n",
       "            console.log([gd, 'removed!']);\n",
       "            Plotly.purge(gd);\n",
       "            observer.disconnect();\n",
       "        }}\n",
       "}});\n",
       "\n",
       "// Listen for the removal of the full notebook cells\n",
       "var notebookContainer = gd.closest('#notebook-container');\n",
       "if (notebookContainer) {{\n",
       "    x.observe(notebookContainer, {childList: true});\n",
       "}}\n",
       "\n",
       "// Listen for the clearing of the current output cell\n",
       "var outputEl = gd.closest('.output');\n",
       "if (outputEl) {{\n",
       "    x.observe(outputEl, {childList: true});\n",
       "}}\n",
       "\n",
       "                        })                };                });            </script>        </div>"
      ]
     },
     "metadata": {},
     "output_type": "display_data"
    }
   ],
   "source": [
    "fig = px.line(norway, x = \"year\", y=\"lifeExp_MA\")\n",
    "\n",
    "\n",
    "\n",
    "fig.update_layout(\n",
    "    title={\n",
    "        'text': \"Plot Title\",\n",
    "        'y':0.98,\n",
    "        'x':0.3,\n",
    "        'xanchor': 'center',\n",
    "        'yanchor': 'top'})\n",
    "\n",
    "\n",
    "\n",
    "fig.show()"
   ]
  },
  {
   "cell_type": "code",
   "execution_count": null,
   "metadata": {},
   "outputs": [],
   "source": []
  }
 ],
 "metadata": {
  "kernelspec": {
   "display_name": "Python 3",
   "language": "python",
   "name": "python3"
  },
  "language_info": {
   "codemirror_mode": {
    "name": "ipython",
    "version": 3
   },
   "file_extension": ".py",
   "mimetype": "text/x-python",
   "name": "python",
   "nbconvert_exporter": "python",
   "pygments_lexer": "ipython3",
   "version": "3.8.2"
  }
 },
 "nbformat": 4,
 "nbformat_minor": 4
}
