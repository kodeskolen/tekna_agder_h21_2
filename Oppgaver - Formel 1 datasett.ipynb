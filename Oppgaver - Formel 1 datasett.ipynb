{
 "cells": [
  {
   "cell_type": "markdown",
   "metadata": {},
   "source": [
    "# Formel 1 datasett\n",
    "\n",
    "Denne oppgaven leker seg litt med ett data sett fra F1. Oppgaven bruker ulike funksjoner som vi har sett på i kurset.\n",
    "\n",
    "Merk at de er ikke sortert etter vanskelighetsgrad, så dersom en av oppgavene er vanskeligere enn de andre så er det bare å hoppe fram og tilbake som du ønsker! Mot slutten av notebooken finner du oppgaver som går på plotting."
   ]
  },
  {
   "cell_type": "markdown",
   "metadata": {},
   "source": [
    "### Oppgave 0\n",
    "\n",
    "Laste ned datasettet fra lenken:\n",
    "\n",
    "http://ergast.com/mrd/db/\n",
    "\n",
    "under der hvor det står \"CSV Data tables\". Legg filen i samme mappe som notebooken og pakk den ut.\n",
    "\n",
    "Blant filene du lastet ned trenger du  \"races.csv\", \"lap_times.csv\" og \"drivers.csv\"."
   ]
  },
  {
   "cell_type": "markdown",
   "metadata": {},
   "source": [
    "### Oppgave 1\n",
    "Last inn pakkene pandas og numpy.\n",
    "\n",
    "Last deretter inn de tre regnearkene \"races.csv\", \"lap_times.csv\" og \"drivers.csv\" i hvert sitt regneark, som heter henholdsvis races, laps og drivers."
   ]
  },
  {
   "cell_type": "code",
   "execution_count": null,
   "metadata": {},
   "outputs": [],
   "source": [
    "# Fyll inn kode her"
   ]
  },
  {
   "cell_type": "markdown",
   "metadata": {},
   "source": [
    "### Oppgave 2\n",
    "Bruk .info(), .head() og .describe() på regnearkene og utforsk hva de inneholder."
   ]
  },
  {
   "cell_type": "code",
   "execution_count": null,
   "metadata": {},
   "outputs": [],
   "source": [
    "# Fyll inn kode her"
   ]
  },
  {
   "cell_type": "markdown",
   "metadata": {},
   "source": [
    "### Oppgave 3\n",
    "Vi kan begynne med å se på noen av sjåførene i Formel 1. \n",
    "\n",
    "Finn sjåføren med koden \"TSU\"."
   ]
  },
  {
   "cell_type": "code",
   "execution_count": null,
   "metadata": {},
   "outputs": [],
   "source": [
    "# Fyll inn kode her"
   ]
  },
  {
   "cell_type": "markdown",
   "metadata": {},
   "source": [
    "### Oppgave 4\n",
    "Når er han født?"
   ]
  },
  {
   "cell_type": "code",
   "execution_count": null,
   "metadata": {
    "scrolled": true
   },
   "outputs": [],
   "source": [
    "# Fyll inn kode her"
   ]
  },
  {
   "cell_type": "markdown",
   "metadata": {},
   "source": [
    "### Oppgave 5\n",
    "Er det noen sjåfører som er født på samme dag som deg?"
   ]
  },
  {
   "cell_type": "code",
   "execution_count": null,
   "metadata": {
    "scrolled": true
   },
   "outputs": [],
   "source": [
    "# Fyll inn kode her"
   ]
  },
  {
   "cell_type": "markdown",
   "metadata": {},
   "source": [
    "### Oppgave 6\n",
    "Biblioteket datetime i python kan håndtere datoer og klokkeslett på en god måte.\n",
    "\n",
    "\"pd.to_datetime\"-funksjonen konverterer kolonnen \"dob\", slik at den blir forstått som datoer.\n",
    "\n",
    "\"min_bursdag\" er en variabel som forståes av datetime-biblioteket som en dato. Vi kan derfor enkelt finne ut for eksempel hvilken av sjåførene som er født nærmest bursdagen din, ved å treffe fra kolonnen med datoer for sjåførenes bursdager med din.\n",
    "\n",
    "Fullfør kodecellen og svar på spørsmålet: \n",
    "\n",
    "Hvilken sjåfør er født nærmest deg i tid?\n",
    "\n",
    "### Bonus:\n",
    "\n",
    "Vi kan også se om en dato kom før en annen ved hjelp av \"<\" og \">\"-operatorene. \n",
    "\n",
    "Da vil datoer for eksempel datoen: 2020.04.19 > 2019.04.19 = True\n",
    "\n",
    "Hvem av sjåførene er født etter deg?"
   ]
  },
  {
   "cell_type": "code",
   "execution_count": 25,
   "metadata": {
    "scrolled": true
   },
   "outputs": [
    {
     "data": {
      "text/plain": [
       "0     -5165 days\n",
       "1     -7964 days\n",
       "2     -4994 days\n",
       "3     -6423 days\n",
       "4     -6341 days\n",
       "         ...    \n",
       "848    -978 days\n",
       "849   -1254 days\n",
       "850     438 days\n",
       "851       2 days\n",
       "852      22 days\n",
       "Name: dob, Length: 853, dtype: timedelta64[ns]"
      ]
     },
     "execution_count": 25,
     "metadata": {},
     "output_type": "execute_result"
    }
   ],
   "source": [
    "import datetime\n",
    "\n",
    "drivers[\"dob\"] = pd.to_datetime(drivers[\"dob\"])\n",
    "år = \n",
    "måned = \n",
    "dag = \n",
    "\n",
    "min_bursdag = datetime.datetime(år, måned, dag)\n",
    "født_antall_dager_unna_deg = drivers[\"dob\"] - min_bursdag\n",
    "\n",
    "# Fortsett med din kode her"
   ]
  },
  {
   "cell_type": "markdown",
   "metadata": {},
   "source": [
    "### Oppgave 7\n",
    "\n",
    "Ved hjelp av \"groupby\"-funksjonen kan vi gruppere regnearket vårt etter en egenskap. \n",
    "\n",
    "Se på kolonnene vi har i regnearket, hvilke av disse gir det mening å gruppere sjåførene etter?\n",
    "\n",
    "Hvor mange sjåfører i Formel 1 kommer fra Finland?\n",
    "\n",
    "\n"
   ]
  },
  {
   "cell_type": "code",
   "execution_count": null,
   "metadata": {
    "scrolled": true
   },
   "outputs": [],
   "source": [
    "# Fyll inn kode her"
   ]
  },
  {
   "cell_type": "markdown",
   "metadata": {},
   "source": [
    "### Oppgave 8\n",
    "La oss se litt på løpene i F1.\n",
    "\n",
    "Finn hvilket løp som ligger på indeks 0 i regnearket \"races\"."
   ]
  },
  {
   "cell_type": "code",
   "execution_count": null,
   "metadata": {
    "scrolled": true
   },
   "outputs": [],
   "source": [
    "# Fyll inn kode her"
   ]
  },
  {
   "cell_type": "markdown",
   "metadata": {},
   "source": [
    "### Oppgave 9\n",
    "\n",
    "Hva er de 25 siste løpene i regnearket?"
   ]
  },
  {
   "cell_type": "code",
   "execution_count": null,
   "metadata": {},
   "outputs": [],
   "source": [
    "# Fyll inn kode her"
   ]
  },
  {
   "cell_type": "markdown",
   "metadata": {},
   "source": [
    "### Oppgave 10\n",
    "\n",
    "Hvor mange løp var det i 2017?\n"
   ]
  },
  {
   "cell_type": "code",
   "execution_count": null,
   "metadata": {},
   "outputs": [],
   "source": [
    "# Fyll inn kode her"
   ]
  },
  {
   "cell_type": "markdown",
   "metadata": {},
   "source": [
    "### Oppgave 11\n",
    "\n",
    "Finn ut hvor mange løp det var i hvert år.\n",
    "\n",
    "Svar på noen av spørsmålene:\n",
    "Hvilket år var det flest løp?\n",
    "Hvilket var det minst?\n",
    "Nest mest?\n",
    "\n",
    "Lag gjerne en oversikt sortert i stigende rekkefølge."
   ]
  },
  {
   "cell_type": "code",
   "execution_count": null,
   "metadata": {},
   "outputs": [],
   "source": [
    "# Fyll inn kode her"
   ]
  },
  {
   "cell_type": "markdown",
   "metadata": {},
   "source": [
    "### Oppgave 12\n",
    "De tre regnearkene har noe til felles slik at vi kan koordinere data på tvers av dem.\n",
    "I \"laps\" har vi både kolonnene \"raceId\" og \"driverId\" for å betegne hvilket løp og hvilken sjåfør som kjørte runden.\n",
    "\n",
    "Vi ønsker å plukke ut alle rundene fra Bahrain Grand Prix i 2021. Fra \"races\"-regnearket, finner vi hvilken raceId det løpet har:\n",
    "Kjør følgende celle:"
   ]
  },
  {
   "cell_type": "code",
   "execution_count": null,
   "metadata": {},
   "outputs": [],
   "source": [
    "raceid = races[(races[\"name\"]==\"Bahrain Grand Prix\") & (races[\"year\"]==2021)][\"raceId\"]"
   ]
  },
  {
   "cell_type": "markdown",
   "metadata": {},
   "source": [
    "Vi kan nå plukke ut alle rundene fra laps med raceId = 1052, som vi fant i forrige oppgave, lagre de i et nytt regneark, ved hjelp av groupby og get_group funskjonene. Kjør følgende celle:"
   ]
  },
  {
   "cell_type": "code",
   "execution_count": 66,
   "metadata": {},
   "outputs": [],
   "source": [
    "bahrain_laps = laps.groupby(\"raceId\").get_group(raceid)"
   ]
  },
  {
   "cell_type": "markdown",
   "metadata": {},
   "source": [
    "### Oppgave 13\n",
    "Fra regnearket med alle rundene i, svar på følgende spørsmål.\n",
    "\n",
    "* a) Hvor mange runder hadde løpet?\n",
    "* b) Hvem vant? Slå opp \"driverId\"-verdien i \"drivers\"-regnearket.\n",
    "* c) Hvem var i snitt på høyest posisjon?\n",
    "* d) Hvor kort var den raskeste runden under løpet?\n",
    "* e) Hva var den gjennomsnittlige rundetiden?\n",
    "* f) Basert på den gjennomsnittlige rundetiden og det faktum at en runde er 5412 m, hva var hastigheten i km/t?"
   ]
  },
  {
   "cell_type": "code",
   "execution_count": null,
   "metadata": {},
   "outputs": [],
   "source": [
    "# Fyll inn kode her"
   ]
  },
  {
   "cell_type": "markdown",
   "metadata": {},
   "source": [
    "### Oppgave 14\n",
    "\n",
    "Lag en funksjon som regner millisekunder om til sekunder.\n"
   ]
  },
  {
   "cell_type": "code",
   "execution_count": 1,
   "metadata": {},
   "outputs": [],
   "source": [
    "# Fyll inn kode her"
   ]
  },
  {
   "cell_type": "markdown",
   "metadata": {},
   "source": [
    "### Oppgave 15\n",
    "Lag en ny kolonne til rundene i Bahrain som heter \"seconds\". Bruk funksjonen fra forrige oppgave til å fylle inn verdiene."
   ]
  },
  {
   "cell_type": "code",
   "execution_count": null,
   "metadata": {},
   "outputs": [],
   "source": [
    "# Fyll inn kode her"
   ]
  },
  {
   "cell_type": "markdown",
   "metadata": {},
   "source": [
    "## Dag 2 - Plotting med plotly.express!\n",
    "\n",
    "### Oppgave 16\n",
    "\n",
    "Last inn plotly.express-biblioteket."
   ]
  },
  {
   "cell_type": "code",
   "execution_count": null,
   "metadata": {},
   "outputs": [],
   "source": [
    "# Fyll inn kode her"
   ]
  },
  {
   "cell_type": "markdown",
   "metadata": {},
   "source": [
    "### Oppgave 17\n",
    "\n",
    "Vi vil plotte rundetidene til HAM i Bahrain Grand Prix fra 2021. På oppgave 12 henter vi ut alle rundene som svarer til dette løpet så ta en titt på den oppgaven først.\n",
    "\n",
    "**a)** Bruk `px.line()` til å lage et linjeplott over rundetidene til HAM, vi vil ha rundetiden i millisekunder på y-aksen og rundenummeret på x-aksen."
   ]
  },
  {
   "cell_type": "code",
   "execution_count": null,
   "metadata": {},
   "outputs": [],
   "source": [
    "# Fyll inn kode her"
   ]
  },
  {
   "cell_type": "markdown",
   "metadata": {},
   "source": [
    "**b)** Prøv å se på plottene av rundetidene til de andre sjåførene. Kan du se noen forskjeller?"
   ]
  },
  {
   "cell_type": "code",
   "execution_count": null,
   "metadata": {},
   "outputs": [],
   "source": [
    "# Fyll inn kode her"
   ]
  },
  {
   "cell_type": "markdown",
   "metadata": {},
   "source": [
    "**c)** Hvilke runder gjør HAM sine pitstop på?"
   ]
  },
  {
   "cell_type": "code",
   "execution_count": null,
   "metadata": {},
   "outputs": [],
   "source": [
    "# Fyll inn kode her"
   ]
  },
  {
   "cell_type": "markdown",
   "metadata": {},
   "source": [
    "**d)** Kan du se effekten av nye dekk på bilen, etter pitstoppet?"
   ]
  },
  {
   "cell_type": "code",
   "execution_count": null,
   "metadata": {},
   "outputs": [],
   "source": [
    "# Fyll inn kode her"
   ]
  }
 ],
 "metadata": {
  "kernelspec": {
   "display_name": "Python 3",
   "language": "python",
   "name": "python3"
  },
  "language_info": {
   "codemirror_mode": {
    "name": "ipython",
    "version": 3
   },
   "file_extension": ".py",
   "mimetype": "text/x-python",
   "name": "python",
   "nbconvert_exporter": "python",
   "pygments_lexer": "ipython3",
   "version": "3.6.9"
  }
 },
 "nbformat": 4,
 "nbformat_minor": 2
}
