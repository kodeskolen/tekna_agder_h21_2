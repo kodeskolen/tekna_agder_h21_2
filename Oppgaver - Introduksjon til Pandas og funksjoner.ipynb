{
 "cells": [
  {
   "cell_type": "markdown",
   "metadata": {
    "id": "iXhPGTs0FrGb"
   },
   "source": [
    "# Python, Pandas og regneark\n",
    "\n",
    "For å finne oppgavene, bla lengre ned!\n",
    "\n",
    "Når vi analyserer data med, bruker vi ofte *regneark*. Et av de vanligste regneark-programmene, er Microsoft Excel. Excel kan være utrolig nyttig, spesielt om vi har små datamengder, eller ikke ønsker å gjøre mye databehandling.\n",
    "\n",
    "I det øyeblikket at vi har store datamengder og avanserte utregninger, så kan Excel-arkene fort bli uhåndterbare. Og da kan det være lurt å velge et verktøy hvor man har litt mer kontroll. Et slik verktøy er Python-biblioteket *Pandas*.\n",
    "\n",
    "I denne notatboken skal vi se på hva Pandas er, og hvordan vi kan behandle data med det. Vi starter med å importere Pandas."
   ]
  },
  {
   "cell_type": "code",
   "execution_count": null,
   "metadata": {
    "executionInfo": {
     "elapsed": 1434,
     "status": "ok",
     "timestamp": 1618597634864,
     "user": {
      "displayName": "Marie Roald",
      "photoUrl": "",
      "userId": "08342992217457047694"
     },
     "user_tz": -120
    },
    "id": "Il8zFAB0KsYk"
   },
   "outputs": [],
   "source": [
    "import pandas as pd"
   ]
  },
  {
   "cell_type": "markdown",
   "metadata": {
    "id": "4p-PDH2qKfG9"
   },
   "source": [
    "## Bysykkel-analyse\n",
    "\n",
    "Vi vil analysere bysykkel-data. Vi lurer på hvor folk reiser, og hvor lenge de er på reisefot. Men før vi ser på ekte data fra *Oslo Bysykkel*, kan vi dikte opp litt data som vi lagrer i oppslagsverk"
   ]
  },
  {
   "cell_type": "code",
   "execution_count": null,
   "metadata": {
    "colab": {
     "base_uri": "https://localhost:8080/"
    },
    "executionInfo": {
     "elapsed": 1871,
     "status": "ok",
     "timestamp": 1618597635307,
     "user": {
      "displayName": "Marie Roald",
      "photoUrl": "",
      "userId": "08342992217457047694"
     },
     "user_tz": -120
    },
    "id": "YrMWzY77dgju",
    "outputId": "2286df3c-fbff-4cff-ddf1-dbef408eba57"
   },
   "outputs": [],
   "source": [
    "bysykkel_turer = {\n",
    "  'started_at': ['2021-03-01 12:00:10', '2021-03-01 13:10:10',],\n",
    "  'ended_at':   ['2021-03-01 12:15:10', '2021-03-01 13:19:15',],\n",
    "  'duration':   [900,  555,],\n",
    "  'start_station_id': [513,  480,],\n",
    "  'end_station_id': [421,  461,],\n",
    "}\n",
    "\n",
    "bysykkel_turer"
   ]
  },
  {
   "cell_type": "markdown",
   "metadata": {
    "id": "B-ciMC0fK_mi"
   },
   "source": [
    "Her har vi altså et oppslagsverk, hvor hvert element er en liste med data. Dette er en veldig naturlig måte å lagre data på i Python, og vi kan lett hente ut \"kolonner\" fra oppslagsverket vårt ved å indeksere det."
   ]
  },
  {
   "cell_type": "code",
   "execution_count": null,
   "metadata": {
    "colab": {
     "base_uri": "https://localhost:8080/"
    },
    "executionInfo": {
     "elapsed": 1863,
     "status": "ok",
     "timestamp": 1618597635308,
     "user": {
      "displayName": "Marie Roald",
      "photoUrl": "",
      "userId": "08342992217457047694"
     },
     "user_tz": -120
    },
    "id": "GX4ldsKBLqkq",
    "outputId": "278074ec-dc50-4977-85ff-cf2dbba6982a"
   },
   "outputs": [],
   "source": [
    "bysykkel_turer['start_station_id']"
   ]
  },
  {
   "cell_type": "markdown",
   "metadata": {
    "id": "BRtjs2eroTmy"
   },
   "source": [
    "### Vårt første regneark\n",
    "La oss gjøre om oppslagsverket vårt til et regneark. I Python, så heter et regneark en `DataFrame`, og for å opprette en `DataFrame`, bruker vi Pandas biblioteket vi importerte på toppen av notatboken."
   ]
  },
  {
   "cell_type": "code",
   "execution_count": null,
   "metadata": {
    "executionInfo": {
     "elapsed": 1858,
     "status": "ok",
     "timestamp": 1618597635309,
     "user": {
      "displayName": "Marie Roald",
      "photoUrl": "",
      "userId": "08342992217457047694"
     },
     "user_tz": -120
    },
    "id": "bk_RCqQPoTfh"
   },
   "outputs": [],
   "source": [
    "bysykkel_turer_regneark = pd.DataFrame(bysykkel_turer)"
   ]
  },
  {
   "cell_type": "markdown",
   "metadata": {
    "id": "DsmIL-ZjLjSV"
   },
   "source": [
    "Hvis vi bare skriver navnet på regneark-variabelen vår, så printes den fint ut i nettleseren vår"
   ]
  },
  {
   "cell_type": "code",
   "execution_count": null,
   "metadata": {
    "colab": {
     "base_uri": "https://localhost:8080/",
     "height": 112
    },
    "executionInfo": {
     "elapsed": 1862,
     "status": "ok",
     "timestamp": 1618597635319,
     "user": {
      "displayName": "Marie Roald",
      "photoUrl": "",
      "userId": "08342992217457047694"
     },
     "user_tz": -120
    },
    "id": "AuWuBPgDfyWM",
    "outputId": "6aa32e96-9f83-4ca1-a026-b07848edee04"
   },
   "outputs": [],
   "source": [
    "bysykkel_turer_regneark"
   ]
  },
  {
   "cell_type": "markdown",
   "metadata": {
    "id": "fcvkOKNALns9"
   },
   "source": [
    "Vi kan hente ut kolonner fra regnearkene med nøyaktig samme syntaks som vi bruker for å hente ut elementer fra oppslagsverk:"
   ]
  },
  {
   "cell_type": "code",
   "execution_count": null,
   "metadata": {
    "colab": {
     "base_uri": "https://localhost:8080/"
    },
    "executionInfo": {
     "elapsed": 1859,
     "status": "ok",
     "timestamp": 1618597635319,
     "user": {
      "displayName": "Marie Roald",
      "photoUrl": "",
      "userId": "08342992217457047694"
     },
     "user_tz": -120
    },
    "id": "_F238izZfuN_",
    "outputId": "22612e1f-4104-4c80-9637-dbc13df4980d"
   },
   "outputs": [],
   "source": [
    "bysykkel_turer_regneark['start_station_id']"
   ]
  },
  {
   "cell_type": "markdown",
   "metadata": {
    "id": "xgVc4QcnMaIo"
   },
   "source": [
    "Vi kan også se hvilke kolonner som er i regnearket vårt"
   ]
  },
  {
   "cell_type": "code",
   "execution_count": null,
   "metadata": {
    "colab": {
     "base_uri": "https://localhost:8080/"
    },
    "executionInfo": {
     "elapsed": 1857,
     "status": "ok",
     "timestamp": 1618597635320,
     "user": {
      "displayName": "Marie Roald",
      "photoUrl": "",
      "userId": "08342992217457047694"
     },
     "user_tz": -120
    },
    "id": "NKnc0bHAgQDB",
    "outputId": "df058dbd-4f54-45d2-9e6c-ac262d0800d6"
   },
   "outputs": [],
   "source": [
    "bysykkel_turer_regneark.columns"
   ]
  },
  {
   "cell_type": "markdown",
   "metadata": {
    "id": "rksfd3KqMehX"
   },
   "source": [
    "Og til og med finne grunnleggende informasjon om regnearket, med `info()`-funksjonen"
   ]
  },
  {
   "cell_type": "code",
   "execution_count": null,
   "metadata": {
    "colab": {
     "base_uri": "https://localhost:8080/"
    },
    "executionInfo": {
     "elapsed": 1853,
     "status": "ok",
     "timestamp": 1618597635320,
     "user": {
      "displayName": "Marie Roald",
      "photoUrl": "",
      "userId": "08342992217457047694"
     },
     "user_tz": -120
    },
    "id": "9Z5D7xjxgie1",
    "outputId": "d870dfb1-090a-40f9-fc25-b512b78f1897"
   },
   "outputs": [],
   "source": [
    "bysykkel_turer_regneark.info()"
   ]
  },
  {
   "cell_type": "markdown",
   "metadata": {
    "id": "ud19R8xqMkWd"
   },
   "source": [
    "Her ser vi at regnearket vårt har fem kolonner, `started_at`, `ended_at`, osv. Vi ser også at `started_at` og `ended_at` kolonnene har datatypen `object`, som rett og slett betyr at de kan inneholde hvilken som helst form for informasjon. I dette tilfellet inneholder de tekststrenger.\n",
    "\n",
    "Kolonnene `duration`, `start_station_id` og `end_station_id`, derimot, har datatypen `int64`, altså inneholder de kun heltall."
   ]
  },
  {
   "cell_type": "markdown",
   "metadata": {
    "id": "vNsF2D9xNQ3I"
   },
   "source": [
    "Når vi har et regneark, kan vi også regne ut noen enkle matematiske funksjoner på kolonnene. Vi kan for eksempel finne gjennomsnittet til alle tallkolonnene med `mean`-funksjonen."
   ]
  },
  {
   "cell_type": "code",
   "execution_count": null,
   "metadata": {
    "colab": {
     "base_uri": "https://localhost:8080/"
    },
    "executionInfo": {
     "elapsed": 1850,
     "status": "ok",
     "timestamp": 1618597635321,
     "user": {
      "displayName": "Marie Roald",
      "photoUrl": "",
      "userId": "08342992217457047694"
     },
     "user_tz": -120
    },
    "id": "appgbaznjvPi",
    "outputId": "4bdb58ba-d1f3-49f4-da9d-1c201e66d141"
   },
   "outputs": [],
   "source": [
    "bysykkel_turer_regneark.mean()"
   ]
  },
  {
   "cell_type": "markdown",
   "metadata": {
    "id": "lpmx6UnGNcb9"
   },
   "source": [
    "Eller minimum- og maksimumsverdien til regnearket ved å henholdsvis bruke `min` og `max` funksjonene."
   ]
  },
  {
   "cell_type": "code",
   "execution_count": null,
   "metadata": {
    "colab": {
     "base_uri": "https://localhost:8080/"
    },
    "executionInfo": {
     "elapsed": 1847,
     "status": "ok",
     "timestamp": 1618597635321,
     "user": {
      "displayName": "Marie Roald",
      "photoUrl": "",
      "userId": "08342992217457047694"
     },
     "user_tz": -120
    },
    "id": "xLSxth66kAQd",
    "outputId": "cfaa9f32-29a9-40ce-a820-7011387f72f3"
   },
   "outputs": [],
   "source": [
    "bysykkel_turer_regneark.min()"
   ]
  },
  {
   "cell_type": "markdown",
   "metadata": {
    "id": "YHdHhOY0Nool"
   },
   "source": [
    "Men hvis vi er interessert i mye slik \"sammendragsinformasjon\", kan vi like gjerne be Pandas om å beskrive regnearket for oss. Det gjør vi med `describe`-funksjonen."
   ]
  },
  {
   "cell_type": "code",
   "execution_count": null,
   "metadata": {
    "colab": {
     "base_uri": "https://localhost:8080/",
     "height": 300
    },
    "executionInfo": {
     "elapsed": 1845,
     "status": "ok",
     "timestamp": 1618597635322,
     "user": {
      "displayName": "Marie Roald",
      "photoUrl": "",
      "userId": "08342992217457047694"
     },
     "user_tz": -120
    },
    "id": "eT3qgIQRgUIN",
    "outputId": "6c73e409-c185-4692-abc5-24d4297d551b"
   },
   "outputs": [],
   "source": [
    "bysykkel_turer_regneark.describe()"
   ]
  },
  {
   "cell_type": "markdown",
   "metadata": {
    "id": "3MY1zMudNxBV"
   },
   "source": [
    "### Analysere ekte data\n",
    "\n",
    "Foreløpig har vi bare sett på vårt lille liksom-datasett. Men la oss heller se på et ekte dataset.\n",
    "\n",
    "Det finnes mange måter man kan lagre regneark på en datamaskin. Den letteste er nok å ha en tekstfil, hvor hver linje er en rad, og man bruke komma for å separere kolonner. Dette filformatet heter komma-separerte filer, eller CSV-filer.\n",
    "\n",
    "Kommaseparerte filer er fine for å lagre data man skal analysere i Python (du kan også åpne og lagre slike filer i Excel). Grunnen til det er at du kan åpne filene i en tekstbehandler (slik som notisblokken/notepad/spyder) og se på innholdet. Det er også mange som deler dataene sine som CSV-filer. For eksempel, så kan du laste ned CSV-filer fra Statistisk Sentralbyrå, Metrologisk Insitutt, og *Oslo Bysykkel*. \n",
    "\n",
    "La oss bruke Pandas til å laste inn en CSV-fil fra Oslo Bysykkel. Da bruker vi `read_csv`-funksjonen til Pandas. Denne funksjonen tar inn en filplassering på datamaskinen din, og laster inn regnearket til Python. Alternativt, så kan du skrive inn en nettadresse hvor filen kan lastes ned fra, og da vil Pandas automatisk laste ned filen og åpne den for oss. La oss gjøre det!"
   ]
  },
  {
   "cell_type": "code",
   "execution_count": null,
   "metadata": {
    "executionInfo": {
     "elapsed": 2297,
     "status": "ok",
     "timestamp": 1618597635777,
     "user": {
      "displayName": "Marie Roald",
      "photoUrl": "",
      "userId": "08342992217457047694"
     },
     "user_tz": -120
    },
    "id": "DF2vWk2ykPf1"
   },
   "outputs": [],
   "source": [
    "bysykkel_data_mars = pd.read_csv(\"https://data.urbansharing.com/oslobysykkel.no/trips/v1/2021/03.csv\")"
   ]
  },
  {
   "cell_type": "markdown",
   "metadata": {
    "id": "4M9XwLuPPZyJ"
   },
   "source": [
    "Vi kan se på bysykkeldataen fra mars i år"
   ]
  },
  {
   "cell_type": "code",
   "execution_count": null,
   "metadata": {
    "colab": {
     "base_uri": "https://localhost:8080/",
     "height": 617
    },
    "executionInfo": {
     "elapsed": 2301,
     "status": "ok",
     "timestamp": 1618597635785,
     "user": {
      "displayName": "Marie Roald",
      "photoUrl": "",
      "userId": "08342992217457047694"
     },
     "user_tz": -120
    },
    "id": "RJNw6sy2kpk8",
    "outputId": "9a3e51e0-4fea-46d1-d5c1-62c8ed3a3bb9"
   },
   "outputs": [],
   "source": [
    "bysykkel_data_mars"
   ]
  },
  {
   "cell_type": "markdown",
   "metadata": {
    "id": "g4vzipjHS01N"
   },
   "source": [
    "Vi har altså over 62 tusen rader! Så det er kanskje like greit at Pandas ikke viste frem alle sammen... Om vi bare vil se på noen få rader, kan vi bruke `head`-funksjonen til regnearket vårt."
   ]
  },
  {
   "cell_type": "code",
   "execution_count": null,
   "metadata": {
    "colab": {
     "base_uri": "https://localhost:8080/",
     "height": 313
    },
    "executionInfo": {
     "elapsed": 2299,
     "status": "ok",
     "timestamp": 1618597635786,
     "user": {
      "displayName": "Marie Roald",
      "photoUrl": "",
      "userId": "08342992217457047694"
     },
     "user_tz": -120
    },
    "id": "OHF6IjEWk18X",
    "outputId": "aafd97f1-05e4-4717-f83f-4642e7d9c784"
   },
   "outputs": [],
   "source": [
    "bysykkel_data_mars.head()"
   ]
  },
  {
   "cell_type": "markdown",
   "metadata": {
    "id": "SaREu8o0S_sh"
   },
   "source": [
    "Head funksjonen kan også ta inn antall rader vi ønsker som argument, og vi kan lagre resultatet i en variabel. Her henter vi ut de første ti radene."
   ]
  },
  {
   "cell_type": "code",
   "execution_count": null,
   "metadata": {
    "colab": {
     "base_uri": "https://localhost:8080/",
     "height": 556
    },
    "executionInfo": {
     "elapsed": 2297,
     "status": "ok",
     "timestamp": 1618597635786,
     "user": {
      "displayName": "Marie Roald",
      "photoUrl": "",
      "userId": "08342992217457047694"
     },
     "user_tz": -120
    },
    "id": "_ahJkQeMkuuL",
    "outputId": "ca54c250-2c07-4d1f-8710-bdc32c72954a"
   },
   "outputs": [],
   "source": [
    "første_ti_rader = bysykkel_data_mars.head(10)\n",
    "første_ti_rader"
   ]
  },
  {
   "cell_type": "markdown",
   "metadata": {
    "id": "MK6YUSSVTVxk"
   },
   "source": [
    "Nå har vi altså hentet ut de første ti radene, men hva om vi vil se på en rad i midten av regnearket vårt? Altså, vi har en bestemt plass i regnearket vi vil se på. Da kan vi bruke `loc`-indeksen. \n",
    "\n",
    "Her henter vi ut raden med indeks 5678:"
   ]
  },
  {
   "cell_type": "code",
   "execution_count": null,
   "metadata": {
    "colab": {
     "base_uri": "https://localhost:8080/"
    },
    "executionInfo": {
     "elapsed": 2295,
     "status": "ok",
     "timestamp": 1618597635787,
     "user": {
      "displayName": "Marie Roald",
      "photoUrl": "",
      "userId": "08342992217457047694"
     },
     "user_tz": -120
    },
    "id": "LOT74sW9pT-Y",
    "outputId": "662ffbe0-66d2-4635-b107-191101139cd2"
   },
   "outputs": [],
   "source": [
    "bysykkel_data_mars.loc[5678]"
   ]
  },
  {
   "cell_type": "markdown",
   "metadata": {
    "id": "RP4jhDrCTnhq"
   },
   "source": [
    "Så, vi kan hente ut en enkelt rad med `loc`-indeksen, og det er nyttig nok i seg selv, men vi kan også hente ut flere rader på en gang! Da kan vi for eksempel bruke en liste."
   ]
  },
  {
   "cell_type": "code",
   "execution_count": null,
   "metadata": {
    "colab": {
     "base_uri": "https://localhost:8080/",
     "height": 166
    },
    "executionInfo": {
     "elapsed": 2752,
     "status": "ok",
     "timestamp": 1618597636247,
     "user": {
      "displayName": "Marie Roald",
      "photoUrl": "",
      "userId": "08342992217457047694"
     },
     "user_tz": -120
    },
    "id": "yHg2vnTjpikh",
    "outputId": "2f1e3125-bb6e-4da7-a363-6903327385ab"
   },
   "outputs": [],
   "source": [
    "bysykkel_data_mars.loc[[5000, 5001]]"
   ]
  },
  {
   "cell_type": "markdown",
   "metadata": {
    "id": "1-0QDNyDTzkJ"
   },
   "source": [
    "Eller vi kan bruke *slicing*. Her starter vi på rad 5000 og slutter på rad 5050."
   ]
  },
  {
   "cell_type": "code",
   "execution_count": null,
   "metadata": {
    "colab": {
     "base_uri": "https://localhost:8080/",
     "height": 1000
    },
    "executionInfo": {
     "elapsed": 2762,
     "status": "ok",
     "timestamp": 1618597636260,
     "user": {
      "displayName": "Marie Roald",
      "photoUrl": "",
      "userId": "08342992217457047694"
     },
     "user_tz": -120
    },
    "id": "GR7-e-b4TxXH",
    "outputId": "b057ce90-9269-4dac-8810-4861f64aaa15"
   },
   "outputs": [],
   "source": [
    "bysykkel_data_mars.loc[5000:5050]"
   ]
  },
  {
   "cell_type": "markdown",
   "metadata": {
    "id": "nc7WC86jp9Bn"
   },
   "source": [
    "Vi kan også bruke `loc`-indeksen til å hente ut en liten \"bit\" av regnearket. For eksempel kan vi hente ut startstasjonen og endestasjonen til turene mellom indeks 5000 og 5050."
   ]
  },
  {
   "cell_type": "code",
   "execution_count": null,
   "metadata": {
    "colab": {
     "base_uri": "https://localhost:8080/",
     "height": 1000
    },
    "executionInfo": {
     "elapsed": 2761,
     "status": "ok",
     "timestamp": 1618597636261,
     "user": {
      "displayName": "Marie Roald",
      "photoUrl": "",
      "userId": "08342992217457047694"
     },
     "user_tz": -120
    },
    "id": "E_ABZbSkpydw",
    "outputId": "00bdf8ad-18ad-4ef8-c915-35aa13a8f5ab"
   },
   "outputs": [],
   "source": [
    "bysykkel_data_mars.loc[5000:5050, ['start_station_id', 'end_station_id']]"
   ]
  },
  {
   "cell_type": "markdown",
   "metadata": {
    "id": "mIMgzo_hUZ6r"
   },
   "source": [
    "Ok, så nå har vi sett litt på hva regnearket vårt inneholder, men la oss få en bedre oversikt. Da kan vi nok en gang bruke `info`-funksjonen til regnearket vårt."
   ]
  },
  {
   "cell_type": "code",
   "execution_count": null,
   "metadata": {
    "colab": {
     "base_uri": "https://localhost:8080/"
    },
    "executionInfo": {
     "elapsed": 2759,
     "status": "ok",
     "timestamp": 1618597636262,
     "user": {
      "displayName": "Marie Roald",
      "photoUrl": "",
      "userId": "08342992217457047694"
     },
     "user_tz": -120
    },
    "id": "PJSgSlrHk-ji",
    "outputId": "d9d30d51-4064-42e6-a986-7cef92d1ae92"
   },
   "outputs": [],
   "source": [
    "bysykkel_data_mars.info()"
   ]
  },
  {
   "cell_type": "markdown",
   "metadata": {
    "id": "nWIiKNfsUnK9"
   },
   "source": [
    "Legg merke til at vi med over 62000 rader, bare bruker 6 MB med minne. På en moderne datamaskin har man ofte mellom 8 og 32 GB med RAM. Det er altså plass til å se på flere millioner rader på en gang!\n",
    "\n",
    "La oss komme oss videre, hva om vi ber Pandas om å beskrive datasettet vårt numerisk:"
   ]
  },
  {
   "cell_type": "code",
   "execution_count": null,
   "metadata": {
    "colab": {
     "base_uri": "https://localhost:8080/",
     "height": 320
    },
    "executionInfo": {
     "elapsed": 2758,
     "status": "ok",
     "timestamp": 1618597636263,
     "user": {
      "displayName": "Marie Roald",
      "photoUrl": "",
      "userId": "08342992217457047694"
     },
     "user_tz": -120
    },
    "id": "9qz3ovpxlKfB",
    "outputId": "2bbec958-19e3-450b-b6cb-2fd4956e4965"
   },
   "outputs": [],
   "source": [
    "bysykkel_data_mars.describe()"
   ]
  },
  {
   "cell_type": "markdown",
   "metadata": {
    "id": "SA34UScfVZ0L"
   },
   "source": [
    "Her ser vi at en gnennomsnittlig sykkeltur tar litt over 800 sekunder. Altså mer enn 10 minutter. Den lengste sykkelturen tok nesten 27000 sekunder!\n",
    "\n",
    "Men det er ikke så informativt å se på turene med sekundoppløsning. La oss heller se på turene med minutt-oppløsning. For å gjøre det, kan vi ta `duration`-kolonnen vår og dele den på 60:"
   ]
  },
  {
   "cell_type": "code",
   "execution_count": null,
   "metadata": {},
   "outputs": [],
   "source": []
  },
  {
   "cell_type": "code",
   "execution_count": null,
   "metadata": {
    "executionInfo": {
     "elapsed": 2754,
     "status": "ok",
     "timestamp": 1618597636263,
     "user": {
      "displayName": "Marie Roald",
      "photoUrl": "",
      "userId": "08342992217457047694"
     },
     "user_tz": -120
    },
    "id": "0x1ue6akn0SI"
   },
   "outputs": [],
   "source": [
    "duration_minutt = bysykkel_data_mars['duration'] / 60"
   ]
  },
  {
   "cell_type": "code",
   "execution_count": null,
   "metadata": {
    "colab": {
     "base_uri": "https://localhost:8080/"
    },
    "executionInfo": {
     "elapsed": 2752,
     "status": "ok",
     "timestamp": 1618597636264,
     "user": {
      "displayName": "Marie Roald",
      "photoUrl": "",
      "userId": "08342992217457047694"
     },
     "user_tz": -120
    },
    "id": "0MMtTOYOqW39",
    "outputId": "fc57bed6-aebc-4bc9-e767-9df5f5ccc1a0"
   },
   "outputs": [],
   "source": [
    "duration_minutt"
   ]
  },
  {
   "cell_type": "markdown",
   "metadata": {
    "id": "iPB6jWKgVvVG"
   },
   "source": [
    "Her har vi altså lengden på turene i minutter. Vi kan lagre denne som en ny kolonne i regnearket vårt. Her oppretter vi en kolonne med navn `duration_minutt`, hvor vi lagrer denne informasjonen"
   ]
  },
  {
   "cell_type": "code",
   "execution_count": null,
   "metadata": {
    "executionInfo": {
     "elapsed": 2750,
     "status": "ok",
     "timestamp": 1618597636264,
     "user": {
      "displayName": "Marie Roald",
      "photoUrl": "",
      "userId": "08342992217457047694"
     },
     "user_tz": -120
    },
    "id": "PKPo63-RqZDh"
   },
   "outputs": [],
   "source": [
    "bysykkel_data_mars['duration_minutt'] = duration_minutt"
   ]
  },
  {
   "cell_type": "markdown",
   "metadata": {
    "id": "REtLKmBCV46X"
   },
   "source": [
    "Vi kan også lagre informasjonen i en kolonne direkte når vi regner den ut. "
   ]
  },
  {
   "cell_type": "code",
   "execution_count": null,
   "metadata": {
    "executionInfo": {
     "elapsed": 2749,
     "status": "ok",
     "timestamp": 1618597636265,
     "user": {
      "displayName": "Marie Roald",
      "photoUrl": "",
      "userId": "08342992217457047694"
     },
     "user_tz": -120
    },
    "id": "AhvxQMjaqfJ2"
   },
   "outputs": [],
   "source": [
    "bysykkel_data_mars['duration_minutt'] = bysykkel_data_mars['duration'] / 60"
   ]
  },
  {
   "cell_type": "markdown",
   "metadata": {
    "id": "2UDoAJFYV-mS"
   },
   "source": [
    "Så, hvis vi ber Python om å beskrive datasettet på nytt, kan vi regne ut hvor mange minutter en gjennomsnittlig sykkeltur tar."
   ]
  },
  {
   "cell_type": "code",
   "execution_count": null,
   "metadata": {
    "colab": {
     "base_uri": "https://localhost:8080/",
     "height": 320
    },
    "executionInfo": {
     "elapsed": 2747,
     "status": "ok",
     "timestamp": 1618597636266,
     "user": {
      "displayName": "Marie Roald",
      "photoUrl": "",
      "userId": "08342992217457047694"
     },
     "user_tz": -120
    },
    "id": "KOLbmG2tqjYc",
    "outputId": "9119d719-a77d-4990-bcfe-ac0c0561c612"
   },
   "outputs": [],
   "source": [
    "bysykkel_data_mars.describe()"
   ]
  },
  {
   "cell_type": "markdown",
   "metadata": {
    "id": "uPdQ6R55WICn"
   },
   "source": [
    "Hvis vi scroller til høyre her, ser vi at en gjennomsnittlig sykkeltur tar ca 13.5 minutter, og medianen (50%-persentilen) er litt høyere på 15 minutt og 20 sekunder. Dessverre er det fortsatt litt vanskelig å se hvor lang tid den lengste turen er. La oss derfor lage enda en kolonne, hvor vi har tiden på turene i timer."
   ]
  },
  {
   "cell_type": "code",
   "execution_count": null,
   "metadata": {
    "executionInfo": {
     "elapsed": 2745,
     "status": "ok",
     "timestamp": 1618597636266,
     "user": {
      "displayName": "Marie Roald",
      "photoUrl": "",
      "userId": "08342992217457047694"
     },
     "user_tz": -120
    },
    "id": "xlqDv-9Oqr4N"
   },
   "outputs": [],
   "source": [
    "bysykkel_data_mars['duration_timer'] = bysykkel_data_mars['duration_minutt'] / 60"
   ]
  },
  {
   "cell_type": "code",
   "execution_count": null,
   "metadata": {
    "colab": {
     "base_uri": "https://localhost:8080/",
     "height": 320
    },
    "executionInfo": {
     "elapsed": 3374,
     "status": "ok",
     "timestamp": 1618597636898,
     "user": {
      "displayName": "Marie Roald",
      "photoUrl": "",
      "userId": "08342992217457047694"
     },
     "user_tz": -120
    },
    "id": "BvimMvt2qyrw",
    "outputId": "bdd0b2f0-7d61-4c1b-cbf5-e7e844dc40d7"
   },
   "outputs": [],
   "source": [
    "bysykkel_data_mars.describe()"
   ]
  },
  {
   "cell_type": "markdown",
   "metadata": {
    "id": "yMhdOVr9WwWN"
   },
   "source": [
    "Her ser vi at den lengste sykkelturen var på 7.5 timer!"
   ]
  },
  {
   "cell_type": "markdown",
   "metadata": {
    "id": "v6QZXZfI2_HO"
   },
   "source": [
    "### Gruppere data\n",
    "\n",
    "Ofte, når vi analyserer data, er vi interessert i hvordan gjennomsnittet ser ut for forskjellige \"grupper\". For eksempel, vi har et regneark, hvor hver rad representerer en bysykkeltur. En ting vi kan være interessert i er hvordan bysykkelturene som starter i en spesifikk stasjon ser ut. Vi vil altså *gruppere* datasettet vårt basert på start-stasjonen.\n",
    "\n",
    "Når vi vil gruppere et datasett, så velger vi hvilken kolonne vi vil gruppere det basert på. Så vil Pandas gå igjennom regnearket vårt og finne alle mulige verdier i den kolonnen. Så vil Pandas lage et nytt regneark for hver av disse verdiene. Hvis vi for eksempel grupperer regnearket vårt basert på start-stasjon, vil vi få et regneark for hver bysykkel-stasjon. Regneark 1 vil inneholde alle turer som startet i \"7 Juni Plassen\", mens regneark 2 vil inneholde alle turer som startet i \"AHO\", osv. Figuren under viser hvordan dette fungerer i praksis.\n",
    "\n",
    "<img src=\"groupby_bysykkel.png\" width=\"800px\" />\n",
    "\n",
    "Så, når vi har gruppert regnearket vårt, kan vi regne ut gjennomsnittet av hver kolonne for hver stasjon. Dette vil gi oss en rand for hver bysykkel-stasjon, som vi så kan putte inn i et nytt regneark. Vi får altså et regneark, hvor hver rad representerer en bysykkelstasjon, og hver kolonne inneholder den er gjennomsnittsverdien for den bysykkelstasjonen. "
   ]
  },
  {
   "cell_type": "code",
   "execution_count": null,
   "metadata": {
    "colab": {
     "base_uri": "https://localhost:8080/",
     "height": 475
    },
    "executionInfo": {
     "elapsed": 3372,
     "status": "ok",
     "timestamp": 1618597636899,
     "user": {
      "displayName": "Marie Roald",
      "photoUrl": "",
      "userId": "08342992217457047694"
     },
     "user_tz": -120
    },
    "id": "ykY1TwbK1b7x",
    "outputId": "2bc1a545-2d52-4a21-e22f-cf926150a00a"
   },
   "outputs": [],
   "source": [
    "bysykkeldata_per_stasjon = bysykkel_data_mars.groupby(\"start_station_name\").mean()\n",
    "bysykkeldata_per_stasjon.sort_values(\"duration\")"
   ]
  },
  {
   "cell_type": "code",
   "execution_count": null,
   "metadata": {
    "colab": {
     "base_uri": "https://localhost:8080/",
     "height": 475
    },
    "executionInfo": {
     "elapsed": 3371,
     "status": "ok",
     "timestamp": 1618597636900,
     "user": {
      "displayName": "Marie Roald",
      "photoUrl": "",
      "userId": "08342992217457047694"
     },
     "user_tz": -120
    },
    "id": "XVBzsFmR2Idk",
    "outputId": "92258aaf-2354-4a04-b777-63195dfeed94"
   },
   "outputs": [],
   "source": [
    "bysykkeldata_per_stasjon = bysykkel_data_mars.groupby(\"end_station_name\").count()\n",
    "bysykkeldata_per_stasjon.sort_values(\"duration\")"
   ]
  },
  {
   "cell_type": "markdown",
   "metadata": {
    "id": "Y_C1rPxksHMy"
   },
   "source": [
    "## Funksjoner"
   ]
  },
  {
   "cell_type": "markdown",
   "metadata": {
    "id": "htOFkJzNsw38"
   },
   "source": [
    "Funksjoner har mange bruksområder i programmering, men en av de nyttigste er at de lar oss forenkle, navngi og gjenbruke utregninger.\n",
    "\n",
    "Ta for eksempel koden over, hvor vi gjorde om sekunder til minutter. Denne koden alene er ikke veldig komplisert, men tenk deg at vi ønsker å gjøre sekunder om til minutter mange steder i koden. Da hadde det vært praktisk å bare fortalt Python: \"Kan du ikke gjøre disse tallene om fra sekunder til minutter?\" Det er dette funksjoner lar oss gjøre.\n",
    "\n",
    "For å si det enkelt, så er en funksjon en \"oppskrift\" som forteller Python hvordan datamaskinen skal utføre en oppgave. Ofte er denne oppgaven en utregning av et slag. Vi navngir oppgaven med et funksjonsnavn, og forteller Python alt som trengs for å utføre denne oppgaven. Til slutt forteller vi vilket resultat vi ønsker ut etter at datamaskinen har \"gjort jobben sin\".\n",
    "\n",
    "For å vise hvordan vi kan lage en funksjon i Python, kan vi ta et lite eksempel\n"
   ]
  },
  {
   "cell_type": "code",
   "execution_count": null,
   "metadata": {
    "executionInfo": {
     "elapsed": 3369,
     "status": "ok",
     "timestamp": 1618597636901,
     "user": {
      "displayName": "Marie Roald",
      "photoUrl": "",
      "userId": "08342992217457047694"
     },
     "user_tz": -120
    },
    "id": "WcAqdczcimyU"
   },
   "outputs": [],
   "source": [
    "def sekund_til_minutt(tid_i_sekunder):\n",
    "    return tid_i_sekunder / 60"
   ]
  },
  {
   "cell_type": "markdown",
   "metadata": {
    "id": "xt47GaT_intm"
   },
   "source": [
    "Her har vi opprettet en funksjon, med navnet `sekund_til_minutt`. Denne funksjonen beskriver hvordan Python gjør en tid i sekunder, til den samme tiden, men i minutter. Legg også merke til at vi har gitt funksjonen et beskrivende navn. Dette lar oss skrive kode som forklarer seg selv. La oss fortsette med å bruke denne funksjonen."
   ]
  },
  {
   "cell_type": "code",
   "execution_count": null,
   "metadata": {
    "colab": {
     "base_uri": "https://localhost:8080/"
    },
    "executionInfo": {
     "elapsed": 3367,
     "status": "ok",
     "timestamp": 1618597636902,
     "user": {
      "displayName": "Marie Roald",
      "photoUrl": "",
      "userId": "08342992217457047694"
     },
     "user_tz": -120
    },
    "id": "j_79uwtssHE2",
    "outputId": "92330fe4-91b6-4f42-9caf-3656801b6ee6"
   },
   "outputs": [],
   "source": [
    "antall_sekunder = 1000\n",
    "antall_minutter = sekund_til_minutt(antall_sekunder)\n",
    "print(f\"{antall_sekunder} sekund er {antall_minutter} minutter.\")"
   ]
  },
  {
   "cell_type": "markdown",
   "metadata": {
    "id": "YNI3GynXjCtF"
   },
   "source": [
    "Vi ser at vi oppretter en variabel `antall_sekunder`, som representerer en tidsperiode i sekunder, så ber vi Python regne om denne tiden fra sekunder til minutter og lagre resultatet i `antall_minutter` variabelen.\n",
    "\n",
    "Det som skjer her, er at verdien til variabelen `antall_sekunder`, altså `1000` blir lagret inni variabelen `tid_i_sekunder`, før koden til `sekund_til_minutt`-funksjonen kalles. Det som så returneres blir \"spyttet\" ut av funksjonen og lagret i `antall_minutter`-variabelen, mens `tid_i_sekunder` variabelen blir glemt.\n",
    "\n",
    "Syntaksen for en funksjon i Python ser altså slik ut\n",
    "\n",
    "```python\n",
    "def funksjonsnavn(inputvariabel):\n",
    "    resultat = ... # behandle inputvariabelen\n",
    "    return resultat\n",
    "```\n",
    "\n",
    "Alle variablene som opprettes inni funksjonen (inkludert inputvariabelen(e)) blir glemt etter at funksjonen er kjørt ferdig, mens det som returneres (altså uttrykket etter `return`-nøkkelordet) kan vi for eksempel lagre i en variabel.\n",
    "\n",
    "En ting som er fint i Python, er at vi ikke forteller hva input-variabelen er på forhånd. Så lenge vi kan dele en variabel eller et uttrykk på 60, kan vi bruke `sekund_til_minutt`-funksjonen vår på det. Dette betyr at vi kan bruke funksjonen vår for å gjøre om hele kolonner i regnearket vårt fra sekunder til minutter (siden vi tross alt kan dele kolonner på 60)."
   ]
  },
  {
   "cell_type": "code",
   "execution_count": null,
   "metadata": {
    "executionInfo": {
     "elapsed": 3365,
     "status": "ok",
     "timestamp": 1618597636903,
     "user": {
      "displayName": "Marie Roald",
      "photoUrl": "",
      "userId": "08342992217457047694"
     },
     "user_tz": -120
    },
    "id": "r-CjoUY9q-8r"
   },
   "outputs": [],
   "source": [
    "def sekund_til_minutt(tid_i_sekunder):\n",
    "    return tid_i_sekunder / 60\n",
    "\n",
    "def sekund_til_time(tid_i_sekunder):\n",
    "    return tid_i_sekunder / 3600\n",
    "\n",
    "bysykkel_data_mars['duration_minutt'] = sekund_til_minutt(bysykkel_data_mars['duration'])\n",
    "bysykkel_data_mars['duration_timer'] = sekund_til_time(bysykkel_data_mars['duration'])"
   ]
  },
  {
   "cell_type": "markdown",
   "metadata": {
    "id": "UCv9uAqvlP84"
   },
   "source": [
    "Nå har vi sett på grunnleggende funksjoner, som tar inn en variabel, og returnerer en variabel. Men, i Python, kan vi ha mange forskjellige typer funksjoner, vi kan ha funksjoner som tar inn flere ting og ikke returnerer noe, og vi kan ha funksjoner som tar ikke tar inn noe, men returnerer flere ting. Det er nesten bare fantasien som setter grensen for hva en funksjon kan gjøre!\n",
    "\n",
    "Hvis du er interessert i å lære mer om funksjoner i Python anbefaler vi at du ser på kapittel åtte i kompendiet vårt fra forrige kurs, som du kan finne her: https://github.com/kodeskolen/tekna_agder_v21/blob/master/kompendium.pdf"
   ]
  },
  {
   "cell_type": "markdown",
   "metadata": {
    "id": "55zwHUhv_o9b"
   },
   "source": [
    "## Oppgaver\n",
    "\n",
    "### Oppgave 1\n",
    "\n",
    "Vi har hentet værdata fra metrologisk institutt, som du finner i samme mappe som denne Notebooken.\n",
    "\n",
    "#### Oppgave 1a)\n",
    "Bruk `pd.read_csv` funksjonen for å laste inn de historiske værdatene siden Januar 2018 i et regneark.\n",
    "\n",
    "#### Oppgave 1b)\n",
    "Bruk `head`-funksjonen til regnearket for å se innholdet i de første fem radene.\n",
    "\n",
    "#### Oppgave 1b)\n",
    "Bruk `describe`-funksjonen til regnearket for å finne nøkkelinformasjon om klimaet de siste årene. Hva var den høyeste temperaturen, og hva var den laveste temperaturen målt?\n",
    "\n",
    "#### Oppgave 1c)\n",
    "Hent ut `Maksimumstemperatur (døgn)` kolonnen til regnearket.\n",
    "\n",
    "#### Oppgave 1d)\n",
    "Regn ut temperaturendringen i løpet av et døgn. Det kan du gjøre med å regne ut `Maksimumstemperatur (døgn)` kolonnen minus `Minimumstemperatur (døgn)`. Legg denne informasjonen inn i regnearket som en kolonne med navne `Temperaturendring (døgn)`.\n",
    "\n",
    "#### Oppgave 1e)\n",
    "Bruk `describe`-funksjonen til regnearket en gang til for å finne ut hva den største og minste temperaturendringen var i løpet av et døgn.\n",
    "\n",
    "#### Oppgave 1f)\n",
    "For å regne om temperaturer fra Celsius til Farenheit kan du bruke formelen\n",
    "\n",
    "$$^{\\circ}\\text{F} = {^{\\circ}\\text{C}} \\times \\frac{9}{5} + 32,$$\n",
    "\n",
    "Ta utgangspunkt i denne formelen for å lage en funksjon `celsius_til_farenheit(temperatur_i_celsius)` som tar inn en temperatur i grader Celsius og regner dem om til grader Farenheit. Lagre så en kolonne i regnearket ditt som heter `Maksimumstemperatur i Farenheit (døgn)`, som inneholder maksimumstemperaturen for hvert døgn i farenheit.\n",
    "\n",
    "#### Oppgave 1g) (bonusoppgave)\n",
    "Nedenfor, har du kode som gjør klar data fra metrologisk institutt for analyse. Det var denne koden vi brukte for å lage værdataen vi har analysert her.\n",
    "\n",
    "Besøk *Norsk Klimasenter* sine nettsider, og last ned værdata fra værstasjonen nermest deg. Nettsiden er her: https://seklima.met.no/observations/. Velg dagsoppløsning, og hent ut `Minimumstemperatur`, `Maksimumstemperatur` og `Middeltemperatur` data fra det siste året. Bruk så koden under for å gjøre denne dataen klar for analyse.\n",
    "\n",
    "#### Oppgave 1e) (bonusoppgave)\n",
    "Fortsett hva den maksimale temperaturendringen var i værstasjonen nermest deg.\n"
   ]
  },
  {
   "cell_type": "code",
   "execution_count": null,
   "metadata": {},
   "outputs": [],
   "source": [
    "#Lag celler og gjør oppgavene her!"
   ]
  },
  {
   "cell_type": "markdown",
   "metadata": {
    "id": "cvwOhPHGY-_N"
   },
   "source": [
    "## Bearbeiding av værdata"
   ]
  },
  {
   "cell_type": "code",
   "execution_count": null,
   "metadata": {
    "id": "iXfTY6e7_bdd"
   },
   "outputs": [],
   "source": [
    "# Last inn værdata\n",
    "# Siden det er en norsk fil, brukes semikolon istedenfor komma for å separere rader\n",
    "# Og komma brukes for å indikere desimaltall\n",
    "# I denne filen brukes også en bindestrek for å indikere manglende data\n",
    "# Heldigvis har Pandas muligheter for å ta hensyn til dette, med\n",
    "# delimiter, decimal og na_values\n",
    "værdata = pd.read_csv(\n",
    "    \"værhistorikk_fra_metrologisk_institutt.csv\",\n",
    "    delimiter=\";\",\n",
    "    decimal=\",\",\n",
    "    na_values=\"-\"\n",
    ")\n",
    "\n",
    "# Fjern siste kolonne (inneholder copyright-info)\n",
    "# Data fra metrologisk insitutt kan fritt brukes, bearbeides og deles,\n",
    "# Så lenge man passer på å si at den er fra metrologisk institutt (CC-BY 4.0 lisens)\n",
    "værdata = værdata.drop(værdata.index[-1])\n",
    "\n",
    "# Gjør om tidspunktene fra tekststrenger til datoer med spesifisert tidssone\n",
    "værdata[\"Tid(norsk normaltid)\"] = pd.to_datetime(\n",
    "    værdata[\"Tid(norsk normaltid)\"], dayfirst=True, utc=True\n",
    ")\n",
    "\n",
    "# Hent ut dagen i året og hvilket år det er\n",
    "værdata[\"År\"] = værdata[\"Tid(norsk normaltid)\"].dt.year\n",
    "værdata[\"Dag nummer\"] = værdata[\"Tid(norsk normaltid)\"].dt.dayofyear\n",
    "\n",
    "# Lagre værdataen\n",
    "værdata.to_csv(\"værhistorikk_fra_metrologisk_institutt_behandlet.csv\")"
   ]
  }
 ],
 "metadata": {
  "colab": {
   "authorship_tag": "ABX9TyO0F3QOr3J4rlKHnLddODrH",
   "collapsed_sections": [],
   "name": "Skisse for intro til Pandas og funksjoner.ipynb",
   "provenance": [],
   "toc_visible": true
  },
  "kernelspec": {
   "display_name": "Python 3",
   "language": "python",
   "name": "python3"
  },
  "language_info": {
   "codemirror_mode": {
    "name": "ipython",
    "version": 3
   },
   "file_extension": ".py",
   "mimetype": "text/x-python",
   "name": "python",
   "nbconvert_exporter": "python",
   "pygments_lexer": "ipython3",
   "version": "3.8.2"
  }
 },
 "nbformat": 4,
 "nbformat_minor": 1
}
