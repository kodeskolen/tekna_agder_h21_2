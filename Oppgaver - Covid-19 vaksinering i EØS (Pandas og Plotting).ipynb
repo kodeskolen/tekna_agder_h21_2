{
 "cells": [
  {
   "cell_type": "markdown",
   "metadata": {},
   "source": [
    "## Oppgaver om Covid-19 vaksinering i EØS (Pandas og Plotting)\n",
    "\n",
    "Disse oppgavene er inspirert av den evinnelige COVID-19 pandemien. Det siste året er det produsert og rapportert store mengder data og ulike figurer og plot av disse. I denne oppgaven skal vi utforske litt selv hvordan vi kan jobbe med disse datasettene og lage slike figurer.\n",
    "\n",
    "Kilde: https://www.ecdc.europa.eu/en/publications-data/data-covid-19-vaccination-eu-eea\n",
    "\n",
    "Om du går inn på siden kan du laste ned datasettet i CSV, som vi så skal laste inn i Python ved hjelp av pandas.\n",
    "\n",
    "Oppgavene går så ut på å bruke pandas og plotly express til å utforske og visualisere data. I alle oppgaver bør du bruke tid på å formatere figurene slik at de er forståelige og lett leselige. Her bør du f.eks legge på gode figur- og aksetitler."
   ]
  },
  {
   "cell_type": "code",
   "execution_count": null,
   "metadata": {},
   "outputs": [],
   "source": [
    "import pandas as pd\n",
    "import plotly.express as px"
   ]
  },
  {
   "cell_type": "markdown",
   "metadata": {},
   "source": [
    "### Oppgave 0 (Last ned og importer data)\n",
    "\n",
    "**a)** Gå inn på nettsiden over og last ned datasettet i CSV-format. Lagre filen i samme mappe som notebooken ligger, så Python enkelt finner filen.\n",
    "\n",
    "**b)** Fyll inn i kodelinja under så filen lastes inn som et Pandas `DataFrame`"
   ]
  },
  {
   "cell_type": "code",
   "execution_count": null,
   "metadata": {},
   "outputs": [],
   "source": [
    "df = pd.read_csv(\"...\")"
   ]
  },
  {
   "cell_type": "markdown",
   "metadata": {},
   "source": [
    "### Oppgave 1 (Få oversikt)\n",
    "\n",
    "Utforsk datasettet og få en følelse for hvordan dataene er ordnet. Sjekk spesielt hvilke kolonner datasettet består av. \n",
    "\n",
    "Hint: Her kan kanskje funksjonene `head`, `info`, `describe` være nyttige."
   ]
  },
  {
   "cell_type": "code",
   "execution_count": null,
   "metadata": {},
   "outputs": [],
   "source": [
    "# Fyll inn kode"
   ]
  },
  {
   "cell_type": "markdown",
   "metadata": {},
   "source": [
    "### Oppgave 2 (Antall doser satt i hele EØS)\n",
    "\n",
    "Vi begynner nå med å se på antall doser som har blitt satt i EØS som helhet. Datasettet er veldig stort, så vi begynner med å plukke ut og summere data vi er interessert i.\n",
    "\n",
    "**a)** Les de to kodelinjene under og forklar hva de gjør. Hvilke data vil `weekly` innholde til slutt?"
   ]
  },
  {
   "cell_type": "code",
   "execution_count": null,
   "metadata": {},
   "outputs": [],
   "source": [
    "all_groups = df.query(\"TargetGroup == 'ALL'\")\n",
    "weekly = all_groups.groupby(\"YearWeekISO\").sum()"
   ]
  },
  {
   "cell_type": "markdown",
   "metadata": {},
   "source": [
    "**b)** Utforsk kort `weekly`-variabelen og bekreft at den inneholder omtrent det du trodde."
   ]
  },
  {
   "cell_type": "code",
   "execution_count": null,
   "metadata": {},
   "outputs": [],
   "source": [
    "# Fyll inn kode"
   ]
  },
  {
   "cell_type": "markdown",
   "metadata": {},
   "source": [
    "**c)** Bruk Plotly Express til å lage et plot over antall første doser satt per uke. "
   ]
  },
  {
   "cell_type": "code",
   "execution_count": null,
   "metadata": {
    "scrolled": false
   },
   "outputs": [],
   "source": [
    "# Fyll inn kode"
   ]
  },
  {
   "cell_type": "markdown",
   "metadata": {},
   "source": [
    "**d)** Kopier koden fra c), og legg til en kurve som viser andre doser satt. Hint: Du kan lage to linjer ved å sende inn en liste som y-argumentet: `y = ['a', 'b']`"
   ]
  },
  {
   "cell_type": "code",
   "execution_count": null,
   "metadata": {},
   "outputs": [],
   "source": [
    "# Fyll inn kode"
   ]
  },
  {
   "cell_type": "markdown",
   "metadata": {},
   "source": [
    "**e)** Hvilken uke er det satt flest doser ifølge datasettet?"
   ]
  },
  {
   "cell_type": "markdown",
   "metadata": {},
   "source": [
    "Ifølge nettsiden vi hentet data fra vil disse datene publiseres fortløpende og endrer/korriges i ettertid. Dette kan forklare hvorfor de siste datapunktene i datasettet innholder så lite data.\n",
    "\n",
    "**f)** Klarer du å endre så de to siste ukene i datasettet ikke plottes? Hint: Funksjonen `head` kan brukes med negative tall."
   ]
  },
  {
   "cell_type": "code",
   "execution_count": null,
   "metadata": {},
   "outputs": [],
   "source": [
    "# Fyll inn kode"
   ]
  },
  {
   "cell_type": "markdown",
   "metadata": {},
   "source": [
    "**g)** Legg til en kolonne i datasettet som inneholder alle typer doser satt. Denne bør altså være summen av første doser og andre doser satt, men også kolonnen som heter `UnknownDose`. Legg til denne tredje kurven i figuren din."
   ]
  },
  {
   "cell_type": "code",
   "execution_count": null,
   "metadata": {},
   "outputs": [],
   "source": [
    "# Fyll inn kode"
   ]
  },
  {
   "cell_type": "markdown",
   "metadata": {},
   "source": [
    "### Oppgave 3 (Vaksiner i Tyskland)\n",
    "\n",
    "Vi går nå over til å se på vaksinering i Tyskland og se på hvilke *typer* vaksiner som er blitt gitt. Gå derfor tilbake til den originale dataen og lag en ny dataframe for denne problemstillingen\n",
    "\n",
    "**a)** Bruk `query` til å plukke ut alle datapunkter for Tyskland (Hint: `ReportingCountry` er kolonnen, og `DE` er koden for Tyskland). Kontroller at dataene du plukker ut ser rimelige ut."
   ]
  },
  {
   "cell_type": "code",
   "execution_count": null,
   "metadata": {},
   "outputs": [],
   "source": [
    "germany = all_groups.query(...)"
   ]
  },
  {
   "cell_type": "markdown",
   "metadata": {},
   "source": [
    "**b)** Plott et bar-graf over vaksinene satt i Tyskland per uke. Her bør x-aksen settes til uke-data, y-aksen til antall første doser, og vaksinetyper kan knyttes til farge."
   ]
  },
  {
   "cell_type": "code",
   "execution_count": null,
   "metadata": {},
   "outputs": [],
   "source": [
    "# Fyll inn kode"
   ]
  },
  {
   "cell_type": "markdown",
   "metadata": {},
   "source": [
    "**c)** Hvilken vaksine ser det ut til å settes flest av?"
   ]
  },
  {
   "cell_type": "markdown",
   "metadata": {},
   "source": [
    "### Oppgave 4 (Vaksiner i Norge)\n",
    "\n",
    "Vi beveger oss nå over til Norge og skal se på antall doser satt i Norge. Her ønsker vi å både se på kumulative plot og andelsplot. Vi formulerer oppgavene nå mer åpent for å gjøre de mer utfordrende.\n",
    "\n",
    "**a)** Trekk først ut data for Norge fra `all_groups` dataene. Hent så ut et punktestimat (ett tall) for populasjonen av Norge."
   ]
  },
  {
   "cell_type": "code",
   "execution_count": null,
   "metadata": {},
   "outputs": [],
   "source": [
    "norway = all_groups.query(...)\n",
    "pop = ..."
   ]
  },
  {
   "cell_type": "markdown",
   "metadata": {},
   "source": [
    "**b)** Grupper nå dataene på uker og summer dem over vaksinetyper."
   ]
  },
  {
   "cell_type": "code",
   "execution_count": null,
   "metadata": {},
   "outputs": [],
   "source": [
    "# Fyll inn kode"
   ]
  },
  {
   "cell_type": "markdown",
   "metadata": {},
   "source": [
    "**c)** Legg til to nye kolonner til dataene som er andel førstedoser og andel andredoser satt. Plot disse to kolonnene i samme kurveplot. Hvilken uke var den første hvor mer enn 1% av befolkningen fikk sin først dose?\n",
    "\n",
    "Hint: Du kan bruke `fig.update_yaxes(tickformat='.1%')` for å vise andelen som en prosent (med én desimal).\n",
    "\n",
    "Merk: Her finner vi andel av *total befolkning*, ikke av den *voksne befolkningen*. Dette er relevant fordi barn og unge ikke blir vaksinert per nå.\n",
    "\n"
   ]
  },
  {
   "cell_type": "code",
   "execution_count": null,
   "metadata": {},
   "outputs": [],
   "source": [
    "# Fyll inn kode"
   ]
  },
  {
   "cell_type": "markdown",
   "metadata": {},
   "source": [
    "**d)** Finn ut hvordan funksjonen `DataFrame.cumsum` i Pandas fungerer. Bruk denne til å lage en figur som viser den *kumulative* andelen av befolkningen i Norge som har fått sin første og sin andre dose. Forklar forskjellene på forrige figur og denne."
   ]
  },
  {
   "cell_type": "code",
   "execution_count": null,
   "metadata": {},
   "outputs": [],
   "source": [
    "# Fyll inn kode"
   ]
  },
  {
   "cell_type": "markdown",
   "metadata": {},
   "source": [
    "### Oppgave 5 (Doser per aldersgruppe)\n",
    "\n",
    "Vi skal nå gå over til å se på de ulike aldersgruppene i Norge. Vi må nå gå helt tilbake til det originale datasettet og bruke dette.\n",
    "\n",
    "**a)** Ta det originale/komplette datasettet og trekk ut kun data som gjelder for Norge vha `query`. Bruk så `query` på nytt for å fjerne alle datapunkter som gjelder alle aldersgrupper. Plot så til slutt antall doser satt fordelt på de ulike aldersgruppene per uke.\n",
    "\n",
    "Hint: du kan bruke `.query(\"TargetGroup != 'ALL'\")`\n",
    "\n"
   ]
  },
  {
   "cell_type": "code",
   "execution_count": null,
   "metadata": {},
   "outputs": [],
   "source": [
    "# Fyll inn kode"
   ]
  },
  {
   "cell_type": "markdown",
   "metadata": {},
   "source": [
    "**b)** Hvilke aldersgrupper er det som hovedsakelig ble vaksinert i uke 14, 15 og 16?\n",
    "Når ble vi ferdige med å vaksinere 80+ gruppa?"
   ]
  },
  {
   "cell_type": "markdown",
   "metadata": {},
   "source": [
    "### Oppgave 6 (Åpen leking)\n",
    "\n",
    "Da har du nådd bunnen av dette oppgavesettet. Men her står du selvfølgelig fritt til å lage dine egne plots og visualiseringer av vaksinestatus i EU!"
   ]
  },
  {
   "cell_type": "code",
   "execution_count": null,
   "metadata": {},
   "outputs": [],
   "source": [
    "# Fyll inn kode"
   ]
  }
 ],
 "metadata": {
  "kernelspec": {
   "display_name": "Python 3",
   "language": "python",
   "name": "python3"
  },
  "language_info": {
   "codemirror_mode": {
    "name": "ipython",
    "version": 3
   },
   "file_extension": ".py",
   "mimetype": "text/x-python",
   "name": "python",
   "nbconvert_exporter": "python",
   "pygments_lexer": "ipython3",
   "version": "3.8.2"
  }
 },
 "nbformat": 4,
 "nbformat_minor": 2
}
