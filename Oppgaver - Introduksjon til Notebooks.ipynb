{
 "cells": [
  {
   "cell_type": "markdown",
   "metadata": {},
   "source": [
    "# Del 1: Introduksjon til Notebooks\n",
    "\n",
    "De første oppgavene i denne notebooken relaterer til bruken av notebooks.\n",
    "\n",
    "\n",
    "## Oppgave 1:\n",
    "### a)\n",
    "\n",
    "Dette er en \"Markdown\"-celle for tekst, slik som denne oppgaveteksten. Du kan også legge inn bilder, lenker til nettsteder også videre. I notebooks så er tanken at koden skal være lett å presentere andre så i disse cellene beskriver vi gjerne hva koden gjør og hvilke resultater vi får.\n",
    "\n",
    "Dobbelklikk denne cellen og skriv en setning om hvorfor programmering er nyttig. Klikk deretter Ctrl + Enter for å se resultatet."
   ]
  },
  {
   "cell_type": "markdown",
   "metadata": {},
   "source": [
    "### b)"
   ]
  },
  {
   "cell_type": "code",
   "execution_count": null,
   "metadata": {},
   "outputs": [],
   "source": [
    "# Dette er en kodecelle, her kan vi taste inn python-kode, prøv å skrive \"hei verden\" programmet i cella\n",
    "\n",
    "print(\"Hei, verden!\")"
   ]
  },
  {
   "cell_type": "markdown",
   "metadata": {},
   "source": [
    "### c)\n",
    "I menyen, øverst i notebooken, har vi flere funksjoner som vi kan bruke. Legg til en kodecelle under denne cellen ved å trykke \"+\"-ikonet.\n",
    "Hint: Den nye kodecellen kommer etter den cellen du har markert i blått (altså den som du sist har kjørt eller trykt på)"
   ]
  },
  {
   "cell_type": "markdown",
   "metadata": {},
   "source": [
    "I den nye kodecellen du lagde, definer en variabel \"tall1\" og sett den lik tallet 4. Kjør deretter neste kodecelle ved å trykke på den også trykke \"Run\" i menyen øverst eller ved å trykke inne i cellen og trykke Ctrl+Enter"
   ]
  },
  {
   "cell_type": "code",
   "execution_count": null,
   "metadata": {},
   "outputs": [],
   "source": [
    "a = 7"
   ]
  },
  {
   "cell_type": "markdown",
   "metadata": {},
   "source": [
    "I neste celle printes variabelen a ut, hva vil den printe ut? Kjør koden å test det selv!"
   ]
  },
  {
   "cell_type": "code",
   "execution_count": null,
   "metadata": {},
   "outputs": [],
   "source": [
    "print(a)"
   ]
  },
  {
   "cell_type": "markdown",
   "metadata": {},
   "source": [
    "Kjør cellen hvor du satte a til å være 4 på ny. Kjør deretter cellen rett over som printer a igjen, hva printes denne gangen? Kan du se for deg hvorfor dette kan bli et problem i lengre programmer? \n",
    "\n",
    "Ekstra: I menyen trykk på \"Cell\" og deretter \"Run all above\". Da kjøres alle kodecellen ovenfor påny, hva printes denne gangen?"
   ]
  },
  {
   "cell_type": "markdown",
   "metadata": {},
   "source": [
    "### d)\n"
   ]
  },
  {
   "cell_type": "markdown",
   "metadata": {},
   "source": [
    "a = 6\n",
    "b = 10\n",
    "print(a+b)"
   ]
  },
  {
   "cell_type": "markdown",
   "metadata": {},
   "source": [
    "Å nei! Cellen ovenfor skulle egentlig vært en kodecelle. Gjør den om til en kodecelle og kjør den!"
   ]
  },
  {
   "cell_type": "markdown",
   "metadata": {},
   "source": [
    "### e)\n",
    "\n",
    "Neste celle inneholder et program som aldri stopper av seg selv, kjør det, og se hva som skjer. Kjør deretter cellen under den igjen. Legg merke til at vi på venstre side har teksten \"In \\[\\*\\]:\", \"\\*\"-tegnet betyr at cellen enda kjører."
   ]
  },
  {
   "cell_type": "code",
   "execution_count": null,
   "metadata": {},
   "outputs": [],
   "source": [
    "while True:\n",
    "    print(\"Programmet mitt sitter fast!\")"
   ]
  },
  {
   "cell_type": "code",
   "execution_count": null,
   "metadata": {},
   "outputs": [],
   "source": [
    "print(\"Ferdig\")"
   ]
  },
  {
   "cell_type": "markdown",
   "metadata": {},
   "source": [
    "Stop programmet på en av to måter:\n",
    "   - Trykk på stopp-firkanten i menyen\n",
    "   - \"Kernel\" -> \"Interrupt\"\n",
    "   \n",
    "Tips: I blant kan de hende at hele \"kernel\", altså den delen som tar seg av å kjøre koden din, stopper helt opp. Da vil det øverst til høyre i menyen (rett under Python-logoen) stå \"Dead Kernel\" i rød tekst. Da har programmet krasjet og en omstart kreves. Dette gjøres under \"Kernel\" -> \"Restart\". Da vil du miste alle variablene og de utregningene du har gjort, men koden eller teksten vil ikke forsvinne."
   ]
  },
  {
   "cell_type": "markdown",
   "metadata": {},
   "source": [
    "### f)\n",
    "\n",
    "Husk å lagre notebooken din!"
   ]
  },
  {
   "cell_type": "markdown",
   "metadata": {},
   "source": [
    "### g)\n",
    "\n",
    "Vi er nå ganske klare til å begynne å programmere på \"ordentlig\" i notebooks! Som en siste oppgave ta en titt på de ulike knappene i menyen øverst og prøv å se om du forstår hva de gjør. Er det noen du lurer på så spør gjerne oss kursholdere eller bruk programmererens beste verktøy: google!"
   ]
  }
 ],
 "metadata": {
  "kernelspec": {
   "display_name": "Python 3",
   "language": "python",
   "name": "python3"
  },
  "language_info": {
   "codemirror_mode": {
    "name": "ipython",
    "version": 3
   },
   "file_extension": ".py",
   "mimetype": "text/x-python",
   "name": "python",
   "nbconvert_exporter": "python",
   "pygments_lexer": "ipython3",
   "version": "3.8.2"
  }
 },
 "nbformat": 4,
 "nbformat_minor": 2
}
