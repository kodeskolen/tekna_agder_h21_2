{
 "cells": [
  {
   "cell_type": "markdown",
   "metadata": {},
   "source": [
    "# Datasett og asteroider\n",
    "\n",
    "Denne oppgaven utforsker bruken av pandas og plotly for å utforske et datasett med noen tusen asteroider som finnes i asteroide-beltet mellom Jupyter og Mars.\n",
    "\n",
    "\n"
   ]
  },
  {
   "cell_type": "markdown",
   "metadata": {},
   "source": [
    "## Oppgave 1: Laste ned datasettet\n",
    "\n",
    "\n",
    "1. Gå til nettsiden: https://ssd.jpl.nasa.gov/sbdb_query.cgi#x\n",
    "2. Endre følgende felter:\n",
    "    - \"Limit by Object Kind\" -> object kind = \"asteroids\"\n",
    "    - \"Limit by Orbit Class\" -> huk av for \"Main-Belt Asteroids\"\n",
    "    - \"Custom Object/Orbit Contraints\" -> \"physical parameter fields\" -> \"diameter (km)\"       -> \"select operator\": \">\" -> tast inn 0.01 og trykk Add Constraint \n",
    "    - \"Output Selection Controls\" -> sett Output Field Preset Selector til \"astroid            (basic), trykk apply -> fra samme dropdown-meny (Output Field Preset Selector)          velg deretter \"physical parameters for astroids\" og trykk apply.\n",
    "4. Trykk Get Results og deretter Download (CSV-format). Dette tar noe tid å laste ned så bare vent!\n",
    "5. Legg filen i samme mappe som notebook-en. (Og kall den gjerne \"asteroider.csv\")\n",
    "6. Åpne \"asteroider.csv\" i for eksempel notisblokk-programmet og se hvordan dataene er lagret.\n"
   ]
  },
  {
   "cell_type": "markdown",
   "metadata": {},
   "source": [
    "### En rask beskrivelse av utvalgte verdier i regnearket.\n",
    "Bruk gjerne wikipedia for å utforske begrepene nærmere, eller spør!\n",
    "- a : store halvakse til banen i astronomiske enheter. \n",
    "- e : eksentrisitet, hvor sirkelformet banen er, e=0 er en perfekt sirkel.\n",
    "- i : inklinasjon, hvor stor vinkelen mellom baneplanet og jordas baneplan er.\n",
    "- q : hvor langt unna det lengste punktet i omløpet er fra solen i astronomiske enheter\n",
    "- per.y : periode i år. Hvor lang tid i år asteroiden bruker på et solomløp.\n",
    "- diameter : diameteren til asteroiden\n",
    "- albedo : hvor reflektiv overflaten til asteroiden er\n",
    "- GM : massen til asteroiden "
   ]
  },
  {
   "cell_type": "markdown",
   "metadata": {},
   "source": [
    "## Oppgave 2: Laste datasettet inn i Python\n",
    "\n",
    "1. Last inn bibliotekene `pandas` og `numpy` som vi skal bruke til å utforske datasettet.\n",
    "2. Last inn datasettet inn i et regneark (dataframe).\n",
    "3. Bruk \"describe\" til å se hvordan regnearket er lagret og representert i python.\n",
    "4. Finn ut hvor mye minne regnearket bruker når du har lastet det inn.\n",
    "5. Print kolonnene i dataframen."
   ]
  },
  {
   "cell_type": "code",
   "execution_count": null,
   "metadata": {},
   "outputs": [],
   "source": [
    "# Last inn biblioteker"
   ]
  },
  {
   "cell_type": "code",
   "execution_count": null,
   "metadata": {},
   "outputs": [],
   "source": [
    "asteroider = # last inn datasettet i denne variabelen"
   ]
  },
  {
   "cell_type": "code",
   "execution_count": null,
   "metadata": {},
   "outputs": [],
   "source": [
    "# Utforsk datasettet"
   ]
  },
  {
   "cell_type": "markdown",
   "metadata": {},
   "source": [
    "## Oppgave 3: Finn den største asteroiden\n",
    "\n",
    "Bruk `.max()` til å finne hvor stor den største asteroiden er.\n",
    "Ved hjelp av `.idxmax()` kan du finne indeksen til raden som inneholder den største verdien. Bruk det til å også skrive ut navnet på den største asteroiden.\n"
   ]
  },
  {
   "cell_type": "code",
   "execution_count": null,
   "metadata": {},
   "outputs": [],
   "source": [
    "# Fyll inn kode her\n"
   ]
  },
  {
   "cell_type": "markdown",
   "metadata": {},
   "source": [
    "### Bonus:\n",
    "Hva er forskjellen på de følgende to cellene? Prøv å kjøre dem."
   ]
  },
  {
   "cell_type": "code",
   "execution_count": null,
   "metadata": {},
   "outputs": [],
   "source": [
    "asteroider.max()[\"diameter\"]"
   ]
  },
  {
   "cell_type": "code",
   "execution_count": null,
   "metadata": {
    "scrolled": false
   },
   "outputs": [],
   "source": [
    "asteroider[\"diameter\"].max()"
   ]
  },
  {
   "cell_type": "markdown",
   "metadata": {},
   "source": [
    "## Oppgave 4: Hvor mange asteroider er det i datasettet? Har vi verdier i alle feltene?\n",
    "\n",
    "\n"
   ]
  },
  {
   "cell_type": "code",
   "execution_count": null,
   "metadata": {},
   "outputs": [],
   "source": [
    "# Fyll inn kode"
   ]
  },
  {
   "cell_type": "markdown",
   "metadata": {},
   "source": [
    "## Oppgave 5: Finn den gjennomsnittlige diameteren til asteroidene\n",
    "\n",
    "Hva kan være kilde til feil i denne størrelsen? (Hint: Er det gjort begrensninger på hva som er tatt med i datasettet? )"
   ]
  },
  {
   "cell_type": "code",
   "execution_count": null,
   "metadata": {},
   "outputs": [],
   "source": [
    "# Fyll inn kode"
   ]
  },
  {
   "cell_type": "markdown",
   "metadata": {},
   "source": [
    "## Oppgave 6: Eksentrisitet\n",
    "\n",
    "For denne oppgaven kan det hende at du må kjøre følgende celle:"
   ]
  },
  {
   "cell_type": "code",
   "execution_count": null,
   "metadata": {},
   "outputs": [],
   "source": [
    "!pip install plotly"
   ]
  },
  {
   "cell_type": "markdown",
   "metadata": {},
   "source": [
    "Følgende kodecelle inneholder en funskjon som plotter et omløp til en gitt legeme.\n",
    "Det trenger to argumenter:\n",
    "- a : store halvakse\n",
    "- e : eskentrisitet"
   ]
  },
  {
   "cell_type": "code",
   "execution_count": null,
   "metadata": {},
   "outputs": [],
   "source": [
    "#hvis det ikke fungerer å kjøre denne, prøv å kjør den forrige cellen\n",
    "def plot_bane(a,e=0):\n",
    "    import plotly.express as px\n",
    "    theta = np.linspace(0, 360, 100, endpoint=True)\n",
    "    r = (a*(1-e**2))/(1+e*np.cos(np.deg2rad(theta)))\n",
    "    fig = px.scatter_polar(theta=theta,r=r)#,line_close=True)\n",
    "    fig.show(\"notebook\")"
   ]
  },
  {
   "cell_type": "markdown",
   "metadata": {},
   "source": [
    "### a)\n",
    "Test funksjonen med verdiene, a = 1, og e = 0. Deretter test funksjonen med e = 0.5.\n",
    "Hva har \"a\" og \"e\" å si for hvordan banen til asteroiden ser ut? Bruk flere ulike verdier for å svare på spørsmålet."
   ]
  },
  {
   "cell_type": "code",
   "execution_count": null,
   "metadata": {},
   "outputs": [],
   "source": [
    "# Fyll inn kode"
   ]
  },
  {
   "cell_type": "markdown",
   "metadata": {},
   "source": [
    "### b)\n",
    "Finn den største eksentrisiteten (i kolonne \"e\") til asteroidene, og den tilhørende verdien for store halvakse (i kolonne \"a\")."
   ]
  },
  {
   "cell_type": "code",
   "execution_count": null,
   "metadata": {},
   "outputs": [],
   "source": [
    "# Fyll inn kode"
   ]
  },
  {
   "cell_type": "markdown",
   "metadata": {},
   "source": [
    "### c)\n",
    "Gjør det samme som i oppgave b, men for den minste eksentrisiteten."
   ]
  },
  {
   "cell_type": "code",
   "execution_count": null,
   "metadata": {},
   "outputs": [],
   "source": [
    "# Fyll inn kode"
   ]
  },
  {
   "cell_type": "markdown",
   "metadata": {},
   "source": [
    "### d)\n",
    "Bruk funksjonen \"plot_bane\" til å plotte banen til asteroidene med verdiene du fant for den største eksentrisiteten og den minste."
   ]
  },
  {
   "cell_type": "code",
   "execution_count": null,
   "metadata": {},
   "outputs": [],
   "source": [
    "# Plott den største her"
   ]
  },
  {
   "cell_type": "code",
   "execution_count": null,
   "metadata": {},
   "outputs": [],
   "source": [
    "# Plott den minste her"
   ]
  },
  {
   "cell_type": "markdown",
   "metadata": {},
   "source": [
    "### e)\n",
    "\n",
    "Kan du se forskjell på de to plottene? Hva er forskjellig?"
   ]
  },
  {
   "cell_type": "markdown",
   "metadata": {},
   "source": [
    "## Oppgave 6: Verifiser Keplers 3. lov"
   ]
  },
  {
   "cell_type": "markdown",
   "metadata": {},
   "source": [
    "I denne oppgaven skal vi verifisere om Keplers tredje lov holder i virkeligheten for asteroidene.\n",
    "Keplers lov gir en relasjon mellom store halvakse $a$ og perioden $P$ til omløpet til asteroiden, \n",
    "$$ a^3 = P^2$$\n",
    "Vi vet at vi har både $a$ og $P$ i datasettet under titlene \"a\" og \"per_y\". \n",
    "\n",
    "\n",
    "Bruk datasettet og sjekk om ligningen ser ut til å stemme. Kan du finne en måte for å visualisere eller si noe om hvor stort avviket er, eller er overensstemmelsen perfekt?\n"
   ]
  },
  {
   "cell_type": "code",
   "execution_count": null,
   "metadata": {},
   "outputs": [],
   "source": [
    "# Fyll inn kode her"
   ]
  },
  {
   "cell_type": "markdown",
   "metadata": {},
   "source": [
    "## Dag 2: Oppgave 7: Plotting\n",
    "\n",
    "### a) Lag et histogram over diameterene i datasettet"
   ]
  },
  {
   "cell_type": "code",
   "execution_count": null,
   "metadata": {},
   "outputs": [],
   "source": [
    "# Fyll inn kode her"
   ]
  },
  {
   "cell_type": "markdown",
   "metadata": {},
   "source": [
    "### b) Lag et historgram over omløpstidene\n"
   ]
  },
  {
   "cell_type": "code",
   "execution_count": null,
   "metadata": {},
   "outputs": [],
   "source": [
    "# Fyll inn kode her"
   ]
  },
  {
   "cell_type": "markdown",
   "metadata": {},
   "source": [
    "### c) Lag et histogram over en valgfri kolonne"
   ]
  },
  {
   "cell_type": "code",
   "execution_count": null,
   "metadata": {},
   "outputs": [],
   "source": [
    "# Fyll inn kode her"
   ]
  }
 ],
 "metadata": {
  "kernelspec": {
   "display_name": "Python 3",
   "language": "python",
   "name": "python3"
  },
  "language_info": {
   "codemirror_mode": {
    "name": "ipython",
    "version": 3
   },
   "file_extension": ".py",
   "mimetype": "text/x-python",
   "name": "python",
   "nbconvert_exporter": "python",
   "pygments_lexer": "ipython3",
   "version": "3.8.2"
  }
 },
 "nbformat": 4,
 "nbformat_minor": 2
}
